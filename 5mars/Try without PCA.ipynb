{
 "cells": [
  {
   "cell_type": "code",
   "execution_count": 30,
   "metadata": {},
   "outputs": [
    {
     "name": "stdout",
     "output_type": "stream",
     "text": [
      "The cython extension is already loaded. To reload it, use:\n",
      "  %reload_ext cython\n"
     ]
    }
   ],
   "source": [
    "import numpy as np\n",
    "import pandas as pd\n",
    "%matplotlib inline\n",
    "import matplotlib.pyplot as plt\n",
    "from prediction_pipeline.preprocessing import *\n",
    "#from prediction_pipeline.build_sysmex_features import *\n",
    "#from prediction_pipeline.training import *\n",
    "#from sklearn.manifold import TSNE\n",
    "from sklearn.model_selection import RepeatedStratifiedKFold\n",
    "#from sklearn.linear_model import LinearRegression\n",
    "#from matplotlib.patches import Patch\n",
    "%load_ext cython\n",
    "from bgen.reader import BgenFile\n",
    "import subprocess\n",
    "from scipy.stats import binom_test,mannwhitneyu, pearsonr\n",
    "from sklearn.preprocessing import quantile_transform\n",
    "from ggs import GGS\n",
    "from sklearn.cross_decomposition import PLSRegression\n",
    "from collections import defaultdict \n",
    "from scipy.stats import pearsonr\n",
    "from sklearn.metrics import r2_score"
   ]
  },
  {
   "cell_type": "code",
   "execution_count": 2,
   "metadata": {},
   "outputs": [],
   "source": [
    "#data_dir = \"/Users/hippolyte/sysmex2pf/data\"\n",
    "data_dir = \"/home/hv270/rds/rds-who1000-cbrc/user/wja24/shared/hv270/data_home\"\n",
    "export_folder = \"/home/hv270/rds/rds-who1000-cbrc/user/wja24/shared/hippolyte_only/interval_processing\"\n",
    "training_data = \"%s/training_exports\" % data_dir\n",
    "#FACS_cols = [\"FSC\",\"SSC\",\"SFL\",\"FSCW\"]\n",
    "FACS_cols = [\"FSC\",\"SSC\",\"SFL\"]\n",
    "pheno_cols = [\"ADP_FIB\",\"CRP_FIB\",\"TRAP_FIB\",\"PAR1_FIB\",\"PAR4_FIB\",\"FIB\"]\n",
    "#pheno_cols = [\"ADP\",\"CRP\",\"TRAP\",\"PAR1\",\"PAR4\"]\n",
    "covar_cols = [\"MPV\",\"PLT\",\"PCT\",\"PDW\",\"IPF\",\"Age\",\"Sex\"] \n",
    "EUR_path = \"%s/genetic_score/EUR\" % export_folder"
   ]
  },
  {
   "cell_type": "markdown",
   "metadata": {},
   "source": [
    "In this notebook, I evaluated the prediction power obtained without using a PCA to reduce the dimensionality of the point cloud. It's not as good as with PCA (R^2 = 0.08 VS 0.11)"
   ]
  },
  {
   "cell_type": "markdown",
   "metadata": {},
   "source": [
    "# Load tables"
   ]
  },
  {
   "cell_type": "code",
   "execution_count": 4,
   "metadata": {},
   "outputs": [],
   "source": [
    "sys_sct = pd.read_hdf(\"%s/sys_sct_filtered.hdf\" % training_data)"
   ]
  },
  {
   "cell_type": "code",
   "execution_count": 7,
   "metadata": {},
   "outputs": [],
   "source": [
    "pheno_df = pd.read_hdf(\"%s/pheno_df.hdf\" % training_data, key=\"pheno_df\")\n",
    "covar = pd.read_hdf(\"%s/covar.hdf\" % training_data, key=\"covar\")"
   ]
  },
  {
   "cell_type": "markdown",
   "metadata": {},
   "source": [
    "# Build features"
   ]
  },
  {
   "cell_type": "code",
   "execution_count": 114,
   "metadata": {},
   "outputs": [],
   "source": [
    "def median_SSC_low_SFL(d):\n",
    "    mean_SFL = d.SFL.mean()\n",
    "    std_SFL = d.SFL.std()\n",
    "    return np.std(d.loc[d.SFL < (mean_SFL - .5*std_SFL),\"SSC\"])\n",
    "def median_FSC_low_SSC(d):\n",
    "    mean_SSC = d.SSC.mean()\n",
    "    std_SSC = d.SSC.std()\n",
    "    return np.std(d.loc[d.SSC < (mean_SSC - .5*std_SSC),\"FSC\"])\n",
    "def median_SFL_low_FSC(d):\n",
    "    mean_FSC = d.FSC.mean()\n",
    "    std_FSC = d.FSC.std()\n",
    "    return np.std(d.loc[d.FSC < (mean_FSC - .5*std_FSC),\"SFL\"])"
   ]
  },
  {
   "cell_type": "code",
   "execution_count": null,
   "metadata": {},
   "outputs": [],
   "source": [
    "g = sys_sct.groupby(\"ID\")\n",
    "fsc_low = g[\"FSC\"].quantile(0.1)\n",
    "fsc_high = g[\"FSC\"].quantile(0.9)\n",
    "fsc_iqr = g[\"FSC\"].quantile(0.75) - g[\"FSC\"].quantile(0.25)\n",
    "fsc_median = g[\"FSC\"].quantile(0.5)\n",
    "fsc_mean = g[\"FSC\"].mean()\n",
    "fsc_std = g[\"FSC\"].std()\n",
    "\n",
    "ssc_low = g[\"SSC\"].quantile(0.1)\n",
    "ssc_high = g[\"SSC\"].quantile(0.9)\n",
    "ssc_iqr = g[\"SSC\"].quantile(0.75) - g[\"SSC\"].quantile(0.25)\n",
    "ssc_median = g[\"SSC\"].quantile(0.5)\n",
    "ssc_mean = g[\"SSC\"].mean()\n",
    "ssc_std = g[\"SSC\"].std()\n",
    "\n",
    "sfl_low = g[\"SFL\"].quantile(0.1)\n",
    "sfl_high = g[\"SFL\"].quantile(0.9)\n",
    "sfl_iqr = g[\"SFL\"].quantile(0.75) - g[\"SFL\"].quantile(0.25)\n",
    "sfl_median = g[\"SFL\"].quantile(0.5)\n",
    "sfl_mean = g[\"SFL\"].mean()\n",
    "sfl_std = g[\"SFL\"].std()\n",
    "\n",
    "log_std_fsc_ssc = np.log10(fsc_std/ssc_std)\n",
    "log_std_sfl_ssc = np.log10(sfl_std/ssc_std)\n",
    "\n",
    "#ratio_high_fsc_ssc = np.log10((fsc_high - fsc_median)/(ssc_high - ssc_median))\n",
    "#ratio_high_fsc_sfl = np.log10((fsc_high - fsc_median)/(sfl_high - sfl_median))\n",
    "ratio_low_fsc_ssc = np.log10((fsc_low - fsc_median)/(ssc_low - ssc_median))\n",
    "ratio_low_fsc_sfl = np.log10((fsc_low - fsc_median)/(sfl_low - sfl_median))\n",
    "\n",
    "cross_1 = g.apply(median_SSC_low_SFL)\n",
    "cross_2 = g.apply(median_FSC_low_SSC)\n",
    "cross_3 = g.apply(median_SFL_low_FSC)"
   ]
  },
  {
   "cell_type": "code",
   "execution_count": 116,
   "metadata": {},
   "outputs": [],
   "source": [
    "features = pd.DataFrame.from_dict({\"fsc_low\"   :fsc_low,\n",
    "                            \"fsc_high\"  :fsc_high,\n",
    "                            \"fsc_iqr\"   :fsc_iqr,\n",
    "                            \"fsc_median\":fsc_median,\n",
    "                            \"fsc_mean\"  :fsc_mean,\n",
    "                            \"fsc_std\"   :fsc_std,\n",
    "                            \"ssc_low\"   :ssc_low,\n",
    "                            \"ssc_high\"  :ssc_high,\n",
    "                            \"ssc_iqr\"   :ssc_iqr,\n",
    "                            \"ssc_median\":ssc_median,\n",
    "                            \"ssc_mean\"  :ssc_mean,\n",
    "                            \"ssc_std\"   :ssc_std,\n",
    "                            \"sfl_low\"   :sfl_low,\n",
    "                            \"sfl_high\"  :sfl_high,\n",
    "                            \"sfl_iqr\"   :sfl_iqr,\n",
    "                            \"sfl_median\":sfl_median,\n",
    "                            \"sfl_mean\"  :sfl_mean,\n",
    "                            \"sfl_std\"   :sfl_std,\n",
    "                            \"log_fsc_ssc\":log_std_fsc_ssc,\n",
    "                            \"log_sfl_ssc\":log_std_sfl_ssc,\n",
    "                            #\"ratio_high_fsc_ssc\":ratio_high_fsc_ssc,\n",
    "                            #\"ratio_high_fsc_sfl\":ratio_high_fsc_sfl,\n",
    "                            \"cross_1\"   :cross_1,\n",
    "                            \"cross_2\"   :cross_2,\n",
    "                            \"cross_3\"   :cross_3,\n",
    "                            \"ratio_low_fsc_ssc\":ratio_low_fsc_ssc,\n",
    "                            \"ratio_low_fsc_sfl\":ratio_low_fsc_sfl})"
   ]
  },
  {
   "cell_type": "code",
   "execution_count": 117,
   "metadata": {},
   "outputs": [],
   "source": [
    "features -= features.mean(axis=0)\n",
    "features /= features.std(axis=0)"
   ]
  },
  {
   "cell_type": "code",
   "execution_count": 118,
   "metadata": {},
   "outputs": [],
   "source": [
    "X_train = pd.merge(covar,pheno_df,left_index=True,right_index=True,how=\"inner\")\n",
    "X_train = pd.merge(X_train,features,left_index=True,right_index=True,how=\"inner\")"
   ]
  },
  {
   "cell_type": "code",
   "execution_count": 119,
   "metadata": {},
   "outputs": [
    {
     "name": "stdout",
     "output_type": "stream",
     "text": [
      "fsc_low MPV 0.7736408683301446 4.1142068065706193e-106\n",
      "fsc_low PLT -0.3066588178868405 6.145490564249703e-13\n",
      "fsc_low PDW 0.7296693073823343 1.036683660541424e-88\n",
      "fsc_low IPF 0.5885758634173014 1.9318041235827665e-50\n",
      "fsc_low Age -0.16152807516920178 0.00019625249370545876\n",
      "fsc_high MPV 0.9299953702982624 2.3841826749015886e-230\n",
      "fsc_high PLT -0.5359321692345093 1.6248604406763575e-40\n",
      "fsc_high PCT -0.14522666820171373 0.0008266319524599193\n",
      "fsc_high PDW 0.9065973982159278 7.4349470747074515e-199\n",
      "fsc_high IPF 0.8810580567476805 7.987936420708478e-173\n",
      "fsc_iqr MPV 0.8281019111835711 4.53888146236136e-134\n",
      "fsc_iqr PLT -0.5604112905440787 6.551466827004294e-45\n",
      "fsc_iqr PCT -0.24827534905944953 7.6187097905956e-09\n",
      "fsc_iqr PDW 0.8241568197349349 9.989112895023193e-132\n",
      "fsc_iqr IPF 0.8359861480315364 6.179544107549365e-139\n",
      "fsc_median MPV 0.9075727034414625 5.400702211338908e-200\n",
      "fsc_median PLT -0.47236811088112574 1.204348382703755e-30\n",
      "fsc_median PDW 0.8824777154450122 4.157757758288745e-174\n",
      "fsc_median IPF 0.7585999125962161 9.681851752725437e-100\n",
      "fsc_median Age -0.12967353681934612 0.0028601593112292795\n",
      "fsc_mean MPV 0.9242149670679981 1.2104892657658156e-221\n",
      "fsc_mean PLT -0.4813605722080856 6.414291528260194e-32\n",
      "fsc_mean PDW 0.8961185199602818 2.344409802446544e-187\n",
      "fsc_mean IPF 0.8045519750917886 6.734889250918003e-121\n",
      "fsc_std MPV 0.8074778826351245 1.9584379082753233e-122\n",
      "fsc_std PLT -0.556656873921307 3.266846279196018e-44\n",
      "fsc_std PCT -0.26738114562709137 4.4469128573643464e-10\n",
      "fsc_std PDW 0.7920225514265455 1.3315376333728705e-114\n",
      "fsc_std IPF 0.8570708633705059 2.483229213696093e-153\n",
      "ssc_low MPV 0.6765161238762231 8.989845987838896e-72\n",
      "ssc_low PLT -0.2625274353929182 9.353779361744241e-10\n",
      "ssc_low PDW 0.6378129534580824 1.5850240000583993e-61\n",
      "ssc_low IPF 0.5210550178150241 5.135771406653996e-38\n",
      "ssc_low Age -0.20015848694185728 3.639597884681469e-06\n",
      "ssc_high MPV 0.779767341110002 7.515531320691185e-109\n",
      "ssc_high PLT -0.4585091519439617 9.355913764094327e-29\n",
      "ssc_high PCT -0.14538231657524 0.0008159049422838777\n",
      "ssc_high PDW 0.7640089254979704 5.617108880351471e-102\n",
      "ssc_high IPF 0.7809433527704027 2.1888994812947143e-109\n",
      "ssc_iqr MPV 0.654161307779507 1.1373038456496318e-65\n",
      "ssc_iqr PLT -0.4481181042404703 2.151295758388489e-27\n",
      "ssc_iqr PCT -0.22763066865671575 1.272955394260582e-07\n",
      "ssc_iqr PDW 0.6613134253298658 1.4477746253693441e-67\n",
      "ssc_iqr IPF 0.7205319981768027 1.610226165433306e-85\n",
      "ssc_median MPV 0.7470665241655134 3.656198685923689e-95\n",
      "ssc_median PLT -0.3687163642283807 2.0468923531127745e-18\n",
      "ssc_median PDW 0.7250327616076151 4.4782581331597665e-87\n",
      "ssc_median IPF 0.6414416588684935 2.004295872376678e-62\n",
      "ssc_median Age -0.18646930588838925 1.644704140133283e-05\n",
      "ssc_mean MPV 0.7818987978048939 7.989470788629921e-110\n",
      "ssc_mean PLT -0.407607522276769 1.636012562171285e-22\n",
      "ssc_mean PDW 0.7584173655137193 1.1492223000244762e-99\n",
      "ssc_mean IPF 0.7092246054956622 9.632003526633719e-82\n",
      "ssc_mean Age -0.16110232147503953 0.00020413250648009895\n",
      "ssc_std MPV 0.6862068204218378 1.3718039201865703e-74\n",
      "ssc_std PLT -0.49841440987338137 1.9300335314963314e-34\n",
      "ssc_std PCT -0.2688172990681761 3.5583978834852303e-10\n",
      "ssc_std PDW 0.677450552282238 4.862868907481391e-72\n",
      "ssc_std IPF 0.7824729819469788 4.349170931334639e-110\n",
      "ssc_std Sex -0.11380888226863338 0.008924085893612432\n",
      "sfl_low MPV 0.7403705382542718 1.2820291952941525e-92\n",
      "sfl_low PLT -0.22516166022453116 1.7521944932397683e-07\n",
      "sfl_low PCT 0.17997891670414556 3.24072867428218e-05\n",
      "sfl_low PDW 0.7091055091773371 1.0532438708360879e-81\n",
      "sfl_low IPF 0.6503960126581523 1.0790743526113333e-64\n",
      "sfl_low Age -0.25167731374673946 4.671597286742668e-09\n",
      "sfl_high MPV 0.891419937889761 1.3570512755617338e-182\n",
      "sfl_high PLT -0.44644941831122154 3.523945151817923e-27\n",
      "sfl_high PDW 0.8804757213502022 2.655897994022931e-172\n",
      "sfl_high IPF 0.9524769081868455 3.380615760178825e-273\n",
      "sfl_high Age -0.11463796464176756 0.008435458530999803\n",
      "sfl_iqr MPV 0.7464845596916415 6.128954374606008e-95\n",
      "sfl_iqr PLT -0.4737936578548786 7.609607562807356e-31\n",
      "sfl_iqr PCT -0.2145555768594555 6.634780273575592e-07\n",
      "sfl_iqr PDW 0.7573750261408988 3.0494365032176086e-99\n",
      "sfl_iqr IPF 0.8788173041658138 7.858997882535872e-171\n",
      "sfl_median MPV 0.8755089379893425 5.843677487329657e-168\n",
      "sfl_median PLT -0.3650821535760175 4.640817507659786e-18\n",
      "sfl_median PDW 0.8624532766965661 2.2194171776454848e-157\n",
      "sfl_median IPF 0.8347718739828188 3.6063383071967206e-138\n",
      "sfl_median Age -0.21986287914333685 3.436210967697665e-07\n",
      "sfl_mean MPV 0.8878958287268124 3.656099291747672e-179\n",
      "sfl_mean PLT -0.3840357274261936 5.782733930684362e-20\n",
      "sfl_mean PDW 0.871289493907754 2.0507446767136425e-164\n",
      "sfl_mean IPF 0.878050364802524 3.701873249202745e-170\n",
      "sfl_mean Age -0.19381596412652824 7.417942503220698e-06\n",
      "sfl_std MPV 0.7598995864003367 2.8444987597884267e-100\n",
      "sfl_std PLT -0.48781135960626704 7.412713103908411e-33\n",
      "sfl_std PCT -0.2255891566865833 1.6583195653114127e-07\n",
      "sfl_std PDW 0.7557963187568743 1.3244843548281198e-98\n",
      "sfl_std IPF 0.904921668728368 6.295237781965651e-197\n",
      "log_fsc_ssc MPV 0.1715132647065559 7.578482791031952e-05\n",
      "log_fsc_ssc PDW 0.15888834612707192 0.00025011165952211776\n",
      "log_fsc_ssc Age 0.1735262847816615 6.214535283229364e-05\n",
      "log_sfl_ssc MPV 0.1457704946934304 0.0007897109900188046\n",
      "log_sfl_ssc PDW 0.15219428529655327 0.0004549062634977224\n",
      "log_sfl_ssc IPF 0.23234962424089206 6.841880916417373e-08\n",
      "cross_1 MPV 0.26170492590254546 1.0594133648875257e-09\n",
      "cross_1 PLT -0.26643296270248545 5.148213550406281e-10\n",
      "cross_1 PCT -0.16174268745937534 0.00019238928263451532\n",
      "cross_1 PDW 0.2546183891262769 3.0430180122554975e-09\n",
      "cross_1 IPF 0.173504468112255 6.227988094253924e-05\n",
      "cross_2 MPV 0.8431949709233623 1.287798948750205e-143\n",
      "cross_2 PLT -0.45754893876410674 1.255685692489264e-28\n",
      "cross_2 PDW 0.8384419282931106 1.6680521342569282e-140\n",
      "cross_2 IPF 0.6393652208858548 6.566643717765104e-62\n",
      "cross_3 MPV 0.8528126101361057 3.035940240013056e-150\n",
      "cross_3 PLT -0.45450671937841464 3.170312676652026e-28\n",
      "cross_3 PDW 0.8346792919164505 4.123087762420932e-138\n",
      "cross_3 IPF 0.670633249459924 4.086918098140794e-70\n",
      "ratio_low_fsc_ssc MPV 0.7810335545131729 1.9906597704820084e-109\n",
      "ratio_low_fsc_ssc PLT -0.4802642190627387 9.21413124271697e-32\n",
      "ratio_low_fsc_ssc PCT -0.1351789007407674 0.0018699229316020357\n",
      "ratio_low_fsc_ssc PDW 0.7625854302838218 2.2073906221303934e-101\n",
      "ratio_low_fsc_ssc IPF 0.6373856633248498 2.0183343911437642e-61\n",
      "ratio_low_fsc_sfl MPV 0.47082232140290564 1.9765299773302693e-30\n",
      "ratio_low_fsc_sfl PLT -0.34493346426223637 3.6049324201492023e-16\n",
      "ratio_low_fsc_sfl PDW 0.4355799597641154 8.212216755801307e-26\n",
      "ratio_low_fsc_sfl IPF 0.24940268440805213 6.483912793478855e-09\n"
     ]
    }
   ],
   "source": [
    "for f in features.columns:\n",
    "    corr = False\n",
    "    for c in covar_cols:\n",
    "        r, p = pearsonr(X_train[f],X_train[c])\n",
    "        if p < 1e-2:\n",
    "            print(f,c,r,p)\n",
    "            corr = True\n",
    "    if not corr:\n",
    "        print(f)"
   ]
  },
  {
   "cell_type": "code",
   "execution_count": 120,
   "metadata": {},
   "outputs": [],
   "source": [
    "lm = LinearRegression().fit(X_train[covar_cols],X_train[features.columns])\n",
    "X_train[features.columns] -= lm.predict(X_train[covar_cols])"
   ]
  },
  {
   "cell_type": "code",
   "execution_count": 121,
   "metadata": {},
   "outputs": [],
   "source": [
    "N_PLS_COMPS = 1"
   ]
  },
  {
   "cell_type": "code",
   "execution_count": 122,
   "metadata": {},
   "outputs": [],
   "source": [
    "rho_cov = defaultdict(lambda: [])\n",
    "rho_all = defaultdict(lambda: [])\n",
    "y_pred_test = {}\n",
    "y_test = {}\n",
    "r2_cov = defaultdict(lambda: [])\n",
    "r2_all = defaultdict(lambda: [])\n",
    "r2_res = defaultdict(lambda: [])\n",
    "for c in pheno_cols:\n",
    "    skf = RepeatedStratifiedKFold(n_splits=4,n_repeats=100)\n",
    "    y = X_train[c]\n",
    "    cond = ~y.isnull()\n",
    "    X = X_train.loc[cond,features.columns]\n",
    "    C = X_train.loc[cond,covar_cols]\n",
    "    y = y.loc[cond]\n",
    "    \n",
    "    y_split = pd.cut(y,3,labels=False)\n",
    "    \n",
    "    for i, (train_index, test_index) in enumerate(skf.split(np.zeros(len(y_split)), y_split)):\n",
    "        #print(len(train_index),len(test_index))\n",
    "        pls = LinearRegression()\n",
    "        pls.fit(C.iloc[train_index],y.iloc[train_index])\n",
    "        y_cov = np.reshape(pls.predict(C),(-1,1))\n",
    "        \n",
    "        residuals = y-y_cov[:,0]\n",
    "        pls_res = PLSRegression(n_components=N_PLS_COMPS)\n",
    "        pls_res.fit(X.iloc[train_index],residuals.iloc[train_index])\n",
    "        y_res = pls_res.predict(X)\n",
    "        y_pred = y_cov + y_res\n",
    "        \n",
    "        pearson_all = pearsonr(y.iloc[test_index],y_pred[test_index,0])[0]\n",
    "        pearson_cov = pearsonr(y.iloc[test_index],y_cov[test_index,0])[0]\n",
    "        \n",
    "        rho_cov[c].append(pearson_cov)\n",
    "        rho_all[c].append(pearson_all)\n",
    "        r2_all[c].append(r2_score(y.iloc[test_index],y_pred[test_index,0]))\n",
    "        r2_cov[c].append(r2_score(y.iloc[test_index],y_cov[test_index,0]))\n",
    "        r2_res[c].append(r2_score(residuals.iloc[test_index],y_res[test_index,0]))\n",
    "        \n",
    "        if i == 0:\n",
    "            \n",
    "            y_pred_test[c] = y_pred[test_index,0]\n",
    "            y_test[c] = y.iloc[test_index]\n",
    "        "
   ]
  },
  {
   "cell_type": "code",
   "execution_count": 123,
   "metadata": {},
   "outputs": [
    {
     "data": {
      "image/png": "[encoded data removed]",
      "text/plain": [
       "<Figure size 720x432 with 6 Axes>"
      ]
     },
     "metadata": {
      "needs_background": "light"
     },
     "output_type": "display_data"
    }
   ],
   "source": [
    "from sklearn.metrics import r2_score\n",
    "fig = plt.figure(figsize=(10,6))\n",
    "for i, c in enumerate(pheno_cols):\n",
    "    ax = fig.add_subplot(2,3,i+1)\n",
    "    ax.scatter(y_test[c],y_pred_test[c],s=15)\n",
    "    ax.set_ylim((-1.5,1.5))\n",
    "    ax.set_xlim((-3,3))\n",
    "    ax.plot([-1.5,1.5],[-1.5,1.5],c=\"red\",ls=\":\")\n",
    "    #R2 = r2_score(y_test[c],y_pred_test[c])\n",
    "    R2 = np.median(r2_all[c])\n",
    "    R2_res = np.median(r2_res[c])\n",
    "    R2_cov = np.median(r2_cov[c])\n",
    "    ax.set_title(\"%s\\ntotal $R^2=%.2f$ \\n covariates $R^2 = %.2f $ \\n residuals $ R^2=%.2f $\" % (c,R2,R2_cov,R2_res))\n",
    "plt.tight_layout()\n",
    "plt.savefig(\"%s/predictions_test.pdf\" % export_folder)"
   ]
  },
  {
   "cell_type": "code",
   "execution_count": null,
   "metadata": {},
   "outputs": [],
   "source": []
  }
 ],
 "metadata": {
  "kernelspec": {
   "display_name": "Python 3",
   "language": "python",
   "name": "python3"
  },
  "language_info": {
   "codemirror_mode": {
    "name": "ipython",
    "version": 3
   },
   "file_extension": ".py",
   "mimetype": "text/x-python",
   "name": "python",
   "nbconvert_exporter": "python",
   "pygments_lexer": "ipython3",
   "version": "3.7.3"
  },
  "toc": {
   "base_numbering": 1,
   "nav_menu": {},
   "number_sections": true,
   "sideBar": true,
   "skip_h1_title": false,
   "title_cell": "Table of Contents",
   "title_sidebar": "Contents",
   "toc_cell": false,
   "toc_position": {},
   "toc_section_display": true,
   "toc_window_display": false
  }
 },
 "nbformat": 4,
 "nbformat_minor": 2
}
