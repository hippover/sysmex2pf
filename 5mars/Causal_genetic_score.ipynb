{
 "cells": [
  {
   "cell_type": "code",
   "execution_count": 2,
   "metadata": {},
   "outputs": [],
   "source": [
    "import pandas as pd\n",
    "%matplotlib inline\n",
    "import matplotlib.pyplot as plt\n",
    "import subprocess\n",
    "export_folder = \"/home/hv270/rds/rds-who1000-cbrc/user/wja24/shared/hippolyte_only/interval_processing\"\n",
    "from scipy.stats import ttest_ind\n",
    "import numpy as np\n",
    "from sklearn.cluster import AgglomerativeClustering\n",
    "from lifelines.statistics import logrank_test"
   ]
  },
  {
   "cell_type": "markdown",
   "metadata": {},
   "source": [
    "# Note\n",
    "\n",
    "Trhoughout the notebook, the dataframe with GWAS results is called adp. It can thought represent other GWAS results. Just change the path at the beginning"
   ]
  },
  {
   "cell_type": "markdown",
   "metadata": {},
   "source": [
    "Validated SNPS : SNPS whose p-value of association with ADP phenotype is significant (last 20-ile) compared to that of random features combinations"
   ]
  },
  {
   "cell_type": "markdown",
   "metadata": {},
   "source": [
    "# Refine map"
   ]
  },
  {
   "cell_type": "code",
   "execution_count": 26,
   "metadata": {},
   "outputs": [],
   "source": [
    "def add_block_to_df(df):\n",
    "    # Groups SNPs in blocks\n",
    "    # df must be in the bolt_lmm format\n",
    "    df[\"block\"] = -1\n",
    "    \n",
    "    validated_snps = [s[:-1] for s in open(\"%s/validated_snps/ADP.txt\" % export_folder,\"r\").readlines()]\n",
    "    \n",
    "    p_cond = (df.SNP.isin(validated_snps)) & (df.SNP != \".\")\n",
    "    agg = AgglomerativeClustering(distance_threshold=int(1e6),linkage=\"single\",n_clusters=None)\n",
    "    global_offset = 0\n",
    "    for ch in df.loc[p_cond].CHR.unique().tolist():\n",
    "        s_cond = p_cond & (df.CHR == ch)\n",
    "        if (s_cond.sum() > 1):\n",
    "            labels = agg.fit_predict(np.reshape(df.loc[s_cond,\"BP\"].values,(-1,1)))\n",
    "        else:\n",
    "            labels = np.array([1])\n",
    "        df.loc[s_cond,\"block\"] = labels + global_offset\n",
    "        global_offset += np.max(labels) + 1\n",
    "    return df"
   ]
  },
  {
   "cell_type": "code",
   "execution_count": 27,
   "metadata": {},
   "outputs": [
    {
     "data": {
      "text/html": [
       "<div>\n",
       "<style scoped>\n",
       "    .dataframe tbody tr th:only-of-type {\n",
       "        vertical-align: middle;\n",
       "    }\n",
       "\n",
       "    .dataframe tbody tr th {\n",
       "        vertical-align: top;\n",
       "    }\n",
       "\n",
       "    .dataframe thead th {\n",
       "        text-align: right;\n",
       "    }\n",
       "</style>\n",
       "<table border=\"1\" class=\"dataframe\">\n",
       "  <thead>\n",
       "    <tr style=\"text-align: right;\">\n",
       "      <th></th>\n",
       "      <th>SNP</th>\n",
       "      <th>CHR</th>\n",
       "      <th>BP</th>\n",
       "      <th>GENPOS</th>\n",
       "      <th>ALLELE1</th>\n",
       "      <th>ALLELE0</th>\n",
       "      <th>A1FREQ</th>\n",
       "      <th>F_MISS</th>\n",
       "      <th>BETA</th>\n",
       "      <th>SE</th>\n",
       "      <th>P_BOLT_LMM_INF</th>\n",
       "      <th>P_BOLT_LMM</th>\n",
       "    </tr>\n",
       "  </thead>\n",
       "  <tbody>\n",
       "    <tr>\n",
       "      <th>0</th>\n",
       "      <td>rs568149713</td>\n",
       "      <td>1</td>\n",
       "      <td>15777</td>\n",
       "      <td>0</td>\n",
       "      <td>A</td>\n",
       "      <td>G</td>\n",
       "      <td>0.991900</td>\n",
       "      <td>0.037358</td>\n",
       "      <td>0.041778</td>\n",
       "      <td>0.034911</td>\n",
       "      <td>0.23</td>\n",
       "      <td>0.26</td>\n",
       "    </tr>\n",
       "    <tr>\n",
       "      <th>1</th>\n",
       "      <td>rs199745162</td>\n",
       "      <td>1</td>\n",
       "      <td>16949</td>\n",
       "      <td>0</td>\n",
       "      <td>A</td>\n",
       "      <td>C</td>\n",
       "      <td>0.986426</td>\n",
       "      <td>0.048444</td>\n",
       "      <td>-0.013448</td>\n",
       "      <td>0.027387</td>\n",
       "      <td>0.62</td>\n",
       "      <td>0.66</td>\n",
       "    </tr>\n",
       "    <tr>\n",
       "      <th>2</th>\n",
       "      <td>rs533090414</td>\n",
       "      <td>1</td>\n",
       "      <td>18849</td>\n",
       "      <td>0</td>\n",
       "      <td>C</td>\n",
       "      <td>G</td>\n",
       "      <td>0.022947</td>\n",
       "      <td>0.050817</td>\n",
       "      <td>-0.004801</td>\n",
       "      <td>0.021111</td>\n",
       "      <td>0.82</td>\n",
       "      <td>0.83</td>\n",
       "    </tr>\n",
       "  </tbody>\n",
       "</table>\n",
       "</div>"
      ],
      "text/plain": [
       "           SNP  CHR     BP  GENPOS ALLELE1 ALLELE0    A1FREQ    F_MISS  \\\n",
       "0  rs568149713    1  15777       0       A       G  0.991900  0.037358   \n",
       "1  rs199745162    1  16949       0       A       C  0.986426  0.048444   \n",
       "2  rs533090414    1  18849       0       C       G  0.022947  0.050817   \n",
       "\n",
       "       BETA        SE  P_BOLT_LMM_INF  P_BOLT_LMM  \n",
       "0  0.041778  0.034911            0.23        0.26  \n",
       "1 -0.013448  0.027387            0.62        0.66  \n",
       "2 -0.004801  0.021111            0.82        0.83  "
      ]
     },
     "execution_count": 27,
     "metadata": {},
     "output_type": "execute_result"
    }
   ],
   "source": [
    "adp = pd.read_csv(\"%s/bolt_res_ADP_FIB\" % export_folder, sep=\"\\t\")\n",
    "adp = adp.dropna(axis=0,how=\"any\")\n",
    "adp.head(3)"
   ]
  },
  {
   "cell_type": "markdown",
   "metadata": {},
   "source": [
    "## Isolate blocks"
   ]
  },
  {
   "cell_type": "code",
   "execution_count": 28,
   "metadata": {},
   "outputs": [],
   "source": [
    "adp[\"MBP\"] = (adp[\"BP\"] / 3e6).astype(int)*3\n",
    "adp = adp.loc[adp.SNP != \".\"]"
   ]
  },
  {
   "cell_type": "code",
   "execution_count": 29,
   "metadata": {},
   "outputs": [
    {
     "data": {
      "text/html": [
       "<div>\n",
       "<style scoped>\n",
       "    .dataframe tbody tr th:only-of-type {\n",
       "        vertical-align: middle;\n",
       "    }\n",
       "\n",
       "    .dataframe tbody tr th {\n",
       "        vertical-align: top;\n",
       "    }\n",
       "\n",
       "    .dataframe thead th {\n",
       "        text-align: right;\n",
       "    }\n",
       "</style>\n",
       "<table border=\"1\" class=\"dataframe\">\n",
       "  <thead>\n",
       "    <tr style=\"text-align: right;\">\n",
       "      <th></th>\n",
       "      <th>SNP</th>\n",
       "      <th>CHR</th>\n",
       "      <th>BP</th>\n",
       "      <th>GENPOS</th>\n",
       "      <th>ALLELE1</th>\n",
       "      <th>ALLELE0</th>\n",
       "      <th>A1FREQ</th>\n",
       "      <th>F_MISS</th>\n",
       "      <th>BETA</th>\n",
       "      <th>SE</th>\n",
       "      <th>P_BOLT_LMM_INF</th>\n",
       "      <th>P_BOLT_LMM</th>\n",
       "      <th>MBP</th>\n",
       "    </tr>\n",
       "  </thead>\n",
       "  <tbody>\n",
       "    <tr>\n",
       "      <th>0</th>\n",
       "      <td>rs568149713</td>\n",
       "      <td>1</td>\n",
       "      <td>15777</td>\n",
       "      <td>0</td>\n",
       "      <td>A</td>\n",
       "      <td>G</td>\n",
       "      <td>0.991900</td>\n",
       "      <td>0.037358</td>\n",
       "      <td>0.041778</td>\n",
       "      <td>0.034911</td>\n",
       "      <td>0.23</td>\n",
       "      <td>0.26</td>\n",
       "      <td>0</td>\n",
       "    </tr>\n",
       "    <tr>\n",
       "      <th>1</th>\n",
       "      <td>rs199745162</td>\n",
       "      <td>1</td>\n",
       "      <td>16949</td>\n",
       "      <td>0</td>\n",
       "      <td>A</td>\n",
       "      <td>C</td>\n",
       "      <td>0.986426</td>\n",
       "      <td>0.048444</td>\n",
       "      <td>-0.013448</td>\n",
       "      <td>0.027387</td>\n",
       "      <td>0.62</td>\n",
       "      <td>0.66</td>\n",
       "      <td>0</td>\n",
       "    </tr>\n",
       "    <tr>\n",
       "      <th>2</th>\n",
       "      <td>rs533090414</td>\n",
       "      <td>1</td>\n",
       "      <td>18849</td>\n",
       "      <td>0</td>\n",
       "      <td>C</td>\n",
       "      <td>G</td>\n",
       "      <td>0.022947</td>\n",
       "      <td>0.050817</td>\n",
       "      <td>-0.004801</td>\n",
       "      <td>0.021111</td>\n",
       "      <td>0.82</td>\n",
       "      <td>0.83</td>\n",
       "      <td>0</td>\n",
       "    </tr>\n",
       "    <tr>\n",
       "      <th>3</th>\n",
       "      <td>rs2691277</td>\n",
       "      <td>1</td>\n",
       "      <td>52238</td>\n",
       "      <td>0</td>\n",
       "      <td>T</td>\n",
       "      <td>G</td>\n",
       "      <td>0.012584</td>\n",
       "      <td>0.050376</td>\n",
       "      <td>-0.021466</td>\n",
       "      <td>0.028152</td>\n",
       "      <td>0.45</td>\n",
       "      <td>0.45</td>\n",
       "      <td>0</td>\n",
       "    </tr>\n",
       "    <tr>\n",
       "      <th>4</th>\n",
       "      <td>rs552304420</td>\n",
       "      <td>1</td>\n",
       "      <td>54712</td>\n",
       "      <td>0</td>\n",
       "      <td>T</td>\n",
       "      <td>C</td>\n",
       "      <td>0.993450</td>\n",
       "      <td>0.021764</td>\n",
       "      <td>0.013500</td>\n",
       "      <td>0.038713</td>\n",
       "      <td>0.73</td>\n",
       "      <td>0.81</td>\n",
       "      <td>0</td>\n",
       "    </tr>\n",
       "  </tbody>\n",
       "</table>\n",
       "</div>"
      ],
      "text/plain": [
       "           SNP  CHR     BP  GENPOS ALLELE1 ALLELE0    A1FREQ    F_MISS  \\\n",
       "0  rs568149713    1  15777       0       A       G  0.991900  0.037358   \n",
       "1  rs199745162    1  16949       0       A       C  0.986426  0.048444   \n",
       "2  rs533090414    1  18849       0       C       G  0.022947  0.050817   \n",
       "3    rs2691277    1  52238       0       T       G  0.012584  0.050376   \n",
       "4  rs552304420    1  54712       0       T       C  0.993450  0.021764   \n",
       "\n",
       "       BETA        SE  P_BOLT_LMM_INF  P_BOLT_LMM  MBP  \n",
       "0  0.041778  0.034911            0.23        0.26    0  \n",
       "1 -0.013448  0.027387            0.62        0.66    0  \n",
       "2 -0.004801  0.021111            0.82        0.83    0  \n",
       "3 -0.021466  0.028152            0.45        0.45    0  \n",
       "4  0.013500  0.038713            0.73        0.81    0  "
      ]
     },
     "execution_count": 29,
     "metadata": {},
     "output_type": "execute_result"
    }
   ],
   "source": [
    "adp.head()"
   ]
  },
  {
   "cell_type": "code",
   "execution_count": 30,
   "metadata": {},
   "outputs": [],
   "source": [
    "validated_snps = [s[:-1] for s in open(\"%s/validated_snps/ADP.txt\" % export_folder,\"r\").readlines()]"
   ]
  },
  {
   "cell_type": "code",
   "execution_count": 31,
   "metadata": {},
   "outputs": [],
   "source": [
    "adp = add_block_to_df(adp)"
   ]
  },
  {
   "cell_type": "code",
   "execution_count": 32,
   "metadata": {},
   "outputs": [
    {
     "data": {
      "text/html": [
       "<div>\n",
       "<style scoped>\n",
       "    .dataframe tbody tr th:only-of-type {\n",
       "        vertical-align: middle;\n",
       "    }\n",
       "\n",
       "    .dataframe tbody tr th {\n",
       "        vertical-align: top;\n",
       "    }\n",
       "\n",
       "    .dataframe thead th {\n",
       "        text-align: right;\n",
       "    }\n",
       "</style>\n",
       "<table border=\"1\" class=\"dataframe\">\n",
       "  <thead>\n",
       "    <tr style=\"text-align: right;\">\n",
       "      <th></th>\n",
       "      <th>SNP</th>\n",
       "      <th>CHR</th>\n",
       "      <th>MBP</th>\n",
       "    </tr>\n",
       "    <tr>\n",
       "      <th>block</th>\n",
       "      <th></th>\n",
       "      <th></th>\n",
       "      <th></th>\n",
       "    </tr>\n",
       "  </thead>\n",
       "  <tbody>\n",
       "    <tr>\n",
       "      <th>1</th>\n",
       "      <td>78</td>\n",
       "      <td>1</td>\n",
       "      <td>198</td>\n",
       "    </tr>\n",
       "    <tr>\n",
       "      <th>2</th>\n",
       "      <td>1</td>\n",
       "      <td>1</td>\n",
       "      <td>156</td>\n",
       "    </tr>\n",
       "    <tr>\n",
       "      <th>4</th>\n",
       "      <td>1</td>\n",
       "      <td>4</td>\n",
       "      <td>6</td>\n",
       "    </tr>\n",
       "    <tr>\n",
       "      <th>5</th>\n",
       "      <td>2</td>\n",
       "      <td>5</td>\n",
       "      <td>120</td>\n",
       "    </tr>\n",
       "    <tr>\n",
       "      <th>6</th>\n",
       "      <td>295</td>\n",
       "      <td>6</td>\n",
       "      <td>24</td>\n",
       "    </tr>\n",
       "    <tr>\n",
       "      <th>7</th>\n",
       "      <td>23</td>\n",
       "      <td>7</td>\n",
       "      <td>78</td>\n",
       "    </tr>\n",
       "    <tr>\n",
       "      <th>8</th>\n",
       "      <td>79</td>\n",
       "      <td>8</td>\n",
       "      <td>105</td>\n",
       "    </tr>\n",
       "    <tr>\n",
       "      <th>9</th>\n",
       "      <td>80</td>\n",
       "      <td>8</td>\n",
       "      <td>144</td>\n",
       "    </tr>\n",
       "    <tr>\n",
       "      <th>10</th>\n",
       "      <td>2</td>\n",
       "      <td>9</td>\n",
       "      <td>111</td>\n",
       "    </tr>\n",
       "    <tr>\n",
       "      <th>12</th>\n",
       "      <td>1</td>\n",
       "      <td>15</td>\n",
       "      <td>63</td>\n",
       "    </tr>\n",
       "    <tr>\n",
       "      <th>13</th>\n",
       "      <td>20</td>\n",
       "      <td>16</td>\n",
       "      <td>27</td>\n",
       "    </tr>\n",
       "    <tr>\n",
       "      <th>14</th>\n",
       "      <td>29</td>\n",
       "      <td>18</td>\n",
       "      <td>9</td>\n",
       "    </tr>\n",
       "    <tr>\n",
       "      <th>15</th>\n",
       "      <td>6</td>\n",
       "      <td>19</td>\n",
       "      <td>15</td>\n",
       "    </tr>\n",
       "    <tr>\n",
       "      <th>16</th>\n",
       "      <td>4</td>\n",
       "      <td>20</td>\n",
       "      <td>0</td>\n",
       "    </tr>\n",
       "  </tbody>\n",
       "</table>\n",
       "</div>"
      ],
      "text/plain": [
       "       SNP  CHR  MBP\n",
       "block               \n",
       "1       78    1  198\n",
       "2        1    1  156\n",
       "4        1    4    6\n",
       "5        2    5  120\n",
       "6      295    6   24\n",
       "7       23    7   78\n",
       "8       79    8  105\n",
       "9       80    8  144\n",
       "10       2    9  111\n",
       "12       1   15   63\n",
       "13      20   16   27\n",
       "14      29   18    9\n",
       "15       6   19   15\n",
       "16       4   20    0"
      ]
     },
     "execution_count": 32,
     "metadata": {},
     "output_type": "execute_result"
    }
   ],
   "source": [
    "adp.loc[adp.block > 0].groupby(\"block\").agg({\"SNP\":\"nunique\",\"CHR\":\"first\",\"MBP\":\"median\"})"
   ]
  },
  {
   "cell_type": "markdown",
   "metadata": {},
   "source": [
    "## Build tables for Finemap (using MBP, not block)"
   ]
  },
  {
   "cell_type": "code",
   "execution_count": 4,
   "metadata": {},
   "outputs": [
    {
     "data": {
      "text/plain": [
       "'\\nrsid column contains the SNP identifiers. The identifier can be a rsID number or a combination of chromosome name and genomic position (e.g. XXX:yyy)\\n\\nchromosome column contains the chromosome names. The chromosome names can be chosen freely with precomputed SNP correlations (e.g. \\'X\\', \\'0X\\' or \\'chrX\\')\\n\\nposition column contains the base pair positions\\n\\nallele1 column contains the \"first\" allele of the SNPs. In SNPTEST this corresponds to \\'allele_A\\', whereas BOLT-LMM uses \\'ALLELE1\\'\\n\\nallele2 column contains the \"second\" allele of the SNPs. In SNPTEST this corresponds to \\'allele_B\\', whereas BOLT-LMM uses \\'ALLELE0\\'\\n\\nmaf column contains the minor allele frequencies\\n\\nbeta column contains the estimated effect sizes as given by GWAS software\\n\\nse\\n'"
      ]
     },
     "execution_count": 4,
     "metadata": {},
     "output_type": "execute_result"
    }
   ],
   "source": [
    "def list_snps(table):\n",
    "    return \",\".join(table.SNP.tolist())\n",
    "snp_lists = adp.loc[adp.P_BOLT_LMM < 5e-8].groupby([\"CHR\",\"MBP\"]).apply(list_snps)\n",
    "\n",
    "def make_z_df(df,snps):\n",
    "    \"\"\"\n",
    "    Returns a table ready to be saved for Finemap (Z-table)\n",
    "    \"\"\"\n",
    "    sub = df.loc[df.SNP.isin(snps)]\n",
    "    sub = sub.rename(columns={\"SNP\":\"rsid\",\n",
    "                              \"CHR\":\"chromosome\",\n",
    "                              \"BP\":\"position\",\n",
    "                              \"ALLELE1\":\"allele1\",\n",
    "                              \"ALLELE0\":\"allele2\",\n",
    "                              \"A1FREQ\":\"maf\",\n",
    "                              \"BETA\":\"beta\",\n",
    "                              \"SE\":\"se\"})\n",
    "    sub = sub[[\"rsid\",\"chromosome\",\"position\",\"allele1\",\"allele2\",\"maf\",\"beta\",\"se\"]]\n",
    "    sub.loc[sub.maf > 0.5,\"maf\"] = 1 - sub.loc[sub.maf > 0.5,\"maf\"]\n",
    "    return sub\n",
    "\"\"\"\n",
    "rsid column contains the SNP identifiers. The identifier can be a rsID number or a combination of chromosome name and genomic position (e.g. XXX:yyy)\n",
    "\n",
    "chromosome column contains the chromosome names. The chromosome names can be chosen freely with precomputed SNP correlations (e.g. 'X', '0X' or 'chrX')\n",
    "\n",
    "position column contains the base pair positions\n",
    "\n",
    "allele1 column contains the \"first\" allele of the SNPs. In SNPTEST this corresponds to 'allele_A', whereas BOLT-LMM uses 'ALLELE1'\n",
    "\n",
    "allele2 column contains the \"second\" allele of the SNPs. In SNPTEST this corresponds to 'allele_B', whereas BOLT-LMM uses 'ALLELE0'\n",
    "\n",
    "maf column contains the minor allele frequencies\n",
    "\n",
    "beta column contains the estimated effect sizes as given by GWAS software\n",
    "\n",
    "se\n",
    "\"\"\""
   ]
  },
  {
   "cell_type": "markdown",
   "metadata": {},
   "source": [
    "## Run finemap"
   ]
  },
  {
   "cell_type": "code",
   "execution_count": 5,
   "metadata": {},
   "outputs": [
    {
     "name": "stdout",
     "output_type": "stream",
     "text": [
      "Picked 3 causal snps out of 23\n",
      "Picked 2 causal snps out of 4\n",
      "Picked 2 causal snps out of 15\n",
      "Picked 13 causal snps out of 93\n",
      "Picked 5 causal snps out of 52\n",
      "Picked 1 causal snps out of 7\n",
      "Picked 1 causal snps out of 4\n",
      "Picked 30 causal snps out of 592\n",
      "Picked 2 causal snps out of 93\n",
      "Picked 29 causal snps out of 304\n",
      "Picked 4 causal snps out of 15\n",
      "Picked 1 causal snps out of 4\n",
      "Picked 5 causal snps out of 55\n",
      "Picked 1 causal snps out of 90\n",
      "Picked 18 causal snps out of 120\n",
      "Picked 1 causal snps out of 116\n",
      "Picked 2 causal snps out of 3\n",
      "Picked 13 causal snps out of 205\n",
      "Picked 1 causal snps out of 7\n",
      "Picked 2 causal snps out of 93\n",
      "Picked 1 causal snps out of 25\n",
      "Picked 7 causal snps out of 52\n",
      "Picked 6 causal snps out of 42\n",
      "Picked 5 causal snps out of 40\n",
      "Picked 1 causal snps out of 8\n",
      "Picked 5 causal snps out of 111\n",
      "Picked 2 causal snps out of 17\n",
      "Picked 1 causal snps out of 3\n",
      "Picked 15 causal snps out of 394\n"
     ]
    }
   ],
   "source": [
    "causal_snps = []\n",
    "\n",
    "z = []\n",
    "ld = []\n",
    "snp_files = []\n",
    "config = []\n",
    "cred = []\n",
    "\n",
    "for i, block in enumerate(snp_lists):\n",
    "    snps = block.split(\",\")\n",
    "    n_snps = len(snps)\n",
    "    if n_snps > 1:\n",
    "        # Save SNP list to a file\n",
    "        snp_list_file = \"%s/fine_mapping/ADP/%s.snps\" % (export_folder,snps[0])\n",
    "        with open(snp_list_file,\"w\") as f:\n",
    "            for snp in snps:\n",
    "                f.write(\"%s\\n\" % snp)\n",
    "                \n",
    "        # Z File\n",
    "        z_table = make_z_df(adp, snps)\n",
    "        z_file = \"%s/fine_mapping/ADP/%s.z\" % (export_folder,snps[0])\n",
    "        z_table.to_csv(z_file, sep=\" \",index=False)\n",
    "        \n",
    "        # LD File\n",
    "        chromosome = snp_lists.index[i][0]\n",
    "        command = \"/home/hv270/plink \"\n",
    "        command += \"--bfile /home/hv270/rds/rds-who1000-cbrc/user/wja24/shared/hv270/interval_genotypes/chr_%d \" % chromosome\n",
    "        #command += \"--ld-snp-list %s \" % snp_list_file\n",
    "        command += \"--r square 'spaces' \"\n",
    "        command += \"--extract %s \" % snp_list_file\n",
    "        command += \"--out %s/fine_mapping/ADP/%s\" % (export_folder,snps[0])\n",
    "        \n",
    "        p = subprocess.Popen(command,shell=True)\n",
    "        p.wait()\n",
    "        \n",
    "        LD_file = \"%s/fine_mapping/ADP/%s.ld\" % (export_folder,snps[0])\n",
    "        \n",
    "        master_table = pd.DataFrame.from_dict({\"z\":[z_file],\"ld\":[LD_file],\n",
    "                                       \"snp\":[\"%s/fine_mapping/ADP/%s.snp\" % (export_folder,snps[0])],\n",
    "                                        \"config\":[\"%s/fine_mapping/ADP/%s.config\" % (export_folder,snps[0])],\n",
    "                                       \"cred\":[\"%s/fine_mapping/ADP/%s.cred\" % (export_folder,snps[0])]},\n",
    "                                              orient=\"columns\")\n",
    "        master_table[\"n_samples\"] = 27000\n",
    "        master_table.head()\n",
    "        \n",
    "        master_file = \"%s/fine_mapping/ADP/master_table.csv\" % export_folder\n",
    "        master_table.to_csv(master_file,sep=\";\",index=False)\n",
    "        \n",
    "        command = \"/home/hv270/finemap_v1.4_x86_64/finemap_v1.4_x86_64 --sss --in-files %s --n-causal-snps %d --n-threads 8\" % (master_file, min(len(snps),30))\n",
    "        p = subprocess.Popen(command,shell=True)\n",
    "        p.wait()\n",
    "        \n",
    "        conf_df = pd.read_csv(\"%s/fine_mapping/ADP/%s.config\" % (export_folder,snps[0]),sep=\" \")\n",
    "        best_conf = str(conf_df[\"config\"].iloc[0])\n",
    "        causal_snps += best_conf.split(\",\")\n",
    "        print(\"Picked %d causal snps out of %d\" % (len(best_conf.split(\",\")), len(snps)))\n",
    "    else:\n",
    "        causal_snps.append(snps[0])"
   ]
  },
  {
   "cell_type": "markdown",
   "metadata": {},
   "source": [
    "# Run stepwise conditional analysis"
   ]
  },
  {
   "cell_type": "markdown",
   "metadata": {},
   "source": [
    "## Extract genotypes"
   ]
  },
  {
   "cell_type": "code",
   "execution_count": 67,
   "metadata": {},
   "outputs": [
    {
     "name": "stdout",
     "output_type": "stream",
     "text": [
      "633\n"
     ]
    }
   ],
   "source": [
    "SNP_list = adp.loc[(adp.block > -1) & (adp.SNP != \".\")].SNP.tolist()\n",
    "print(len(SNP_list))\n",
    "export_folder = \"/home/hv270/rds/rds-who1000-cbrc/user/wja24/shared/hippolyte_only/interval_processing\""
   ]
  },
  {
   "cell_type": "code",
   "execution_count": 68,
   "metadata": {},
   "outputs": [],
   "source": [
    "SNP_list_file = \"%s/conditional_analysis/significant_snps_ADP_validated.txt\" % export_folder\n",
    "with open(SNP_list_file,\"w\") as file:\n",
    "    for s in SNP_list:\n",
    "        file.write(\"%s\\n\" % s)"
   ]
  },
  {
   "cell_type": "markdown",
   "metadata": {},
   "source": [
    "## Plink Command"
   ]
  },
  {
   "cell_type": "code",
   "execution_count": 69,
   "metadata": {},
   "outputs": [
    {
     "name": "stdout",
     "output_type": "stream",
     "text": [
      "Done ch 1\n",
      "Done ch 4\n",
      "Done ch 5\n",
      "Done ch 6\n",
      "Done ch 7\n",
      "Done ch 8\n",
      "Done ch 9\n",
      "Done ch 15\n",
      "Done ch 16\n",
      "Done ch 18\n",
      "Done ch 19\n",
      "Done ch 20\n"
     ]
    }
   ],
   "source": [
    "for ch in adp.loc[(adp.block > -1) & (adp.SNP != \".\")].CHR.unique().tolist():\n",
    "    command = \"/home/hv270/plink\"\n",
    "    command += \" --bfile /home/hv270/rds/rds-who1000-cbrc/user/wja24/shared/hv270/interval_genotypes/chr_%d\" % ch\n",
    "    command += \" --extract %s\" % SNP_list_file\n",
    "    command += \" --recode A-transpose --out %s/conditional_analysis/genotypes_chr_%d\" % (export_folder, ch) \n",
    "    p = subprocess.Popen(command,shell=True)\n",
    "    p.wait()\n",
    "    print(\"Done ch %d\" % ch)"
   ]
  },
  {
   "cell_type": "markdown",
   "metadata": {},
   "source": [
    "## Load tables"
   ]
  },
  {
   "cell_type": "markdown",
   "metadata": {},
   "source": [
    "### Genotypes"
   ]
  },
  {
   "cell_type": "code",
   "execution_count": 33,
   "metadata": {},
   "outputs": [
    {
     "name": "stdout",
     "output_type": "stream",
     "text": [
      "(91, 43065)\n",
      "(1, 43065)\n",
      "(2, 43065)\n",
      "(295, 43065)\n",
      "(23, 43065)\n",
      "(159, 43065)\n",
      "(2, 43065)\n",
      "(1, 43065)\n",
      "(20, 43065)\n",
      "(29, 43065)\n",
      "(6, 43065)\n",
      "(4, 43065)\n"
     ]
    }
   ],
   "source": [
    "dfs = []\n",
    "for ch in adp.loc[(adp.block > -1) & (adp.SNP != \".\")].CHR.unique().tolist():\n",
    "    df = pd.read_csv(\"%s/conditional_analysis/genotypes_chr_%d.traw\" % (export_folder, ch),sep=\"\\t\")\n",
    "    dfs.append(df)\n",
    "    print(df.shape)"
   ]
  },
  {
   "cell_type": "code",
   "execution_count": 34,
   "metadata": {},
   "outputs": [],
   "source": [
    "gen = pd.concat(dfs,axis=0)"
   ]
  },
  {
   "cell_type": "markdown",
   "metadata": {},
   "source": [
    "### Phenotypes and covariates"
   ]
  },
  {
   "cell_type": "code",
   "execution_count": 35,
   "metadata": {},
   "outputs": [],
   "source": [
    "pheno = pd.read_csv(\"%s/phenotypes.csv\" % export_folder, sep=\"\\t\")"
   ]
  },
  {
   "cell_type": "code",
   "execution_count": 36,
   "metadata": {},
   "outputs": [],
   "source": [
    "cov = pd.read_csv(\"%s/covariates.csv\" % export_folder, sep=\"\\t\")"
   ]
  },
  {
   "cell_type": "code",
   "execution_count": 37,
   "metadata": {},
   "outputs": [
    {
     "data": {
      "text/html": [
       "<div>\n",
       "<style scoped>\n",
       "    .dataframe tbody tr th:only-of-type {\n",
       "        vertical-align: middle;\n",
       "    }\n",
       "\n",
       "    .dataframe tbody tr th {\n",
       "        vertical-align: top;\n",
       "    }\n",
       "\n",
       "    .dataframe thead th {\n",
       "        text-align: right;\n",
       "    }\n",
       "</style>\n",
       "<table border=\"1\" class=\"dataframe\">\n",
       "  <thead>\n",
       "    <tr style=\"text-align: right;\">\n",
       "      <th></th>\n",
       "      <th>FID</th>\n",
       "      <th>IID</th>\n",
       "      <th>PAR4_FIB</th>\n",
       "      <th>PAR1_FIB</th>\n",
       "      <th>TRAP_FIB</th>\n",
       "      <th>ADP_FIB</th>\n",
       "      <th>CRP_FIB</th>\n",
       "      <th>FIB</th>\n",
       "    </tr>\n",
       "  </thead>\n",
       "  <tbody>\n",
       "    <tr>\n",
       "      <th>0</th>\n",
       "      <td>110018327792</td>\n",
       "      <td>110018327792</td>\n",
       "      <td>-1.590170</td>\n",
       "      <td>-1.628887</td>\n",
       "      <td>-1.467105</td>\n",
       "      <td>-1.480886</td>\n",
       "      <td>-1.529809</td>\n",
       "      <td>-1.544555</td>\n",
       "    </tr>\n",
       "    <tr>\n",
       "      <th>1</th>\n",
       "      <td>110018483652</td>\n",
       "      <td>110018483652</td>\n",
       "      <td>0.341331</td>\n",
       "      <td>0.251202</td>\n",
       "      <td>0.101277</td>\n",
       "      <td>0.246509</td>\n",
       "      <td>0.307578</td>\n",
       "      <td>0.262783</td>\n",
       "    </tr>\n",
       "    <tr>\n",
       "      <th>2</th>\n",
       "      <td>110001259381</td>\n",
       "      <td>110001259381</td>\n",
       "      <td>0.513022</td>\n",
       "      <td>0.584504</td>\n",
       "      <td>0.426149</td>\n",
       "      <td>0.608930</td>\n",
       "      <td>0.616931</td>\n",
       "      <td>0.542091</td>\n",
       "    </tr>\n",
       "    <tr>\n",
       "      <th>3</th>\n",
       "      <td>110004412832</td>\n",
       "      <td>110004412832</td>\n",
       "      <td>0.638058</td>\n",
       "      <td>0.587401</td>\n",
       "      <td>0.571037</td>\n",
       "      <td>0.720729</td>\n",
       "      <td>0.480298</td>\n",
       "      <td>0.615049</td>\n",
       "    </tr>\n",
       "    <tr>\n",
       "      <th>4</th>\n",
       "      <td>110003866786</td>\n",
       "      <td>110003866786</td>\n",
       "      <td>0.181371</td>\n",
       "      <td>0.094056</td>\n",
       "      <td>0.260232</td>\n",
       "      <td>0.137544</td>\n",
       "      <td>0.205264</td>\n",
       "      <td>0.186840</td>\n",
       "    </tr>\n",
       "  </tbody>\n",
       "</table>\n",
       "</div>"
      ],
      "text/plain": [
       "            FID           IID  PAR4_FIB  PAR1_FIB  TRAP_FIB   ADP_FIB  \\\n",
       "0  110018327792  110018327792 -1.590170 -1.628887 -1.467105 -1.480886   \n",
       "1  110018483652  110018483652  0.341331  0.251202  0.101277  0.246509   \n",
       "2  110001259381  110001259381  0.513022  0.584504  0.426149  0.608930   \n",
       "3  110004412832  110004412832  0.638058  0.587401  0.571037  0.720729   \n",
       "4  110003866786  110003866786  0.181371  0.094056  0.260232  0.137544   \n",
       "\n",
       "    CRP_FIB       FIB  \n",
       "0 -1.529809 -1.544555  \n",
       "1  0.307578  0.262783  \n",
       "2  0.616931  0.542091  \n",
       "3  0.480298  0.615049  \n",
       "4  0.205264  0.186840  "
      ]
     },
     "execution_count": 37,
     "metadata": {},
     "output_type": "execute_result"
    }
   ],
   "source": [
    "pheno.head()"
   ]
  },
  {
   "cell_type": "code",
   "execution_count": 38,
   "metadata": {},
   "outputs": [
    {
     "data": {
      "text/html": [
       "<div>\n",
       "<style scoped>\n",
       "    .dataframe tbody tr th:only-of-type {\n",
       "        vertical-align: middle;\n",
       "    }\n",
       "\n",
       "    .dataframe tbody tr th {\n",
       "        vertical-align: top;\n",
       "    }\n",
       "\n",
       "    .dataframe thead th {\n",
       "        text-align: right;\n",
       "    }\n",
       "</style>\n",
       "<table border=\"1\" class=\"dataframe\">\n",
       "  <thead>\n",
       "    <tr style=\"text-align: right;\">\n",
       "      <th></th>\n",
       "      <th>FID</th>\n",
       "      <th>IID</th>\n",
       "      <th>cohort_covar</th>\n",
       "      <th>sexPulse</th>\n",
       "      <th>age_covar</th>\n",
       "      <th>PLT_wb</th>\n",
       "      <th>MPV_wb</th>\n",
       "      <th>PDW_wb</th>\n",
       "      <th>PCT_wb</th>\n",
       "      <th>PC1</th>\n",
       "      <th>PC2</th>\n",
       "      <th>PC3</th>\n",
       "      <th>PC4</th>\n",
       "      <th>PC5</th>\n",
       "    </tr>\n",
       "  </thead>\n",
       "  <tbody>\n",
       "    <tr>\n",
       "      <th>0</th>\n",
       "      <td>110018327792</td>\n",
       "      <td>110018327792</td>\n",
       "      <td>2</td>\n",
       "      <td>2</td>\n",
       "      <td>-0.631139</td>\n",
       "      <td>-0.458333</td>\n",
       "      <td>-0.750000</td>\n",
       "      <td>-0.678571</td>\n",
       "      <td>-1.000000</td>\n",
       "      <td>-0.003431</td>\n",
       "      <td>-0.004429</td>\n",
       "      <td>0.005799</td>\n",
       "      <td>0.005465</td>\n",
       "      <td>-0.004632</td>\n",
       "    </tr>\n",
       "    <tr>\n",
       "      <th>1</th>\n",
       "      <td>110018483652</td>\n",
       "      <td>110018483652</td>\n",
       "      <td>5</td>\n",
       "      <td>2</td>\n",
       "      <td>0.693835</td>\n",
       "      <td>-0.597222</td>\n",
       "      <td>1.000000</td>\n",
       "      <td>1.142857</td>\n",
       "      <td>-0.285714</td>\n",
       "      <td>0.006413</td>\n",
       "      <td>0.005157</td>\n",
       "      <td>0.008395</td>\n",
       "      <td>0.002881</td>\n",
       "      <td>0.008806</td>\n",
       "    </tr>\n",
       "    <tr>\n",
       "      <th>2</th>\n",
       "      <td>110001259381</td>\n",
       "      <td>110001259381</td>\n",
       "      <td>0</td>\n",
       "      <td>2</td>\n",
       "      <td>-0.714734</td>\n",
       "      <td>-0.861111</td>\n",
       "      <td>0.833333</td>\n",
       "      <td>0.857143</td>\n",
       "      <td>-0.714286</td>\n",
       "      <td>0.001189</td>\n",
       "      <td>-0.001928</td>\n",
       "      <td>0.007722</td>\n",
       "      <td>-0.014941</td>\n",
       "      <td>0.004064</td>\n",
       "    </tr>\n",
       "    <tr>\n",
       "      <th>3</th>\n",
       "      <td>110004412832</td>\n",
       "      <td>110004412832</td>\n",
       "      <td>0</td>\n",
       "      <td>2</td>\n",
       "      <td>0.535005</td>\n",
       "      <td>-0.736111</td>\n",
       "      <td>0.750000</td>\n",
       "      <td>0.785714</td>\n",
       "      <td>-0.571429</td>\n",
       "      <td>-0.009439</td>\n",
       "      <td>-0.007902</td>\n",
       "      <td>0.003113</td>\n",
       "      <td>-0.002499</td>\n",
       "      <td>-0.000451</td>\n",
       "    </tr>\n",
       "    <tr>\n",
       "      <th>4</th>\n",
       "      <td>110003866786</td>\n",
       "      <td>110003866786</td>\n",
       "      <td>3</td>\n",
       "      <td>2</td>\n",
       "      <td>0.815047</td>\n",
       "      <td>-0.166667</td>\n",
       "      <td>-0.416667</td>\n",
       "      <td>-0.357143</td>\n",
       "      <td>-0.285714</td>\n",
       "      <td>-0.001606</td>\n",
       "      <td>-0.000988</td>\n",
       "      <td>-0.006682</td>\n",
       "      <td>-0.002042</td>\n",
       "      <td>-0.003743</td>\n",
       "    </tr>\n",
       "  </tbody>\n",
       "</table>\n",
       "</div>"
      ],
      "text/plain": [
       "            FID           IID  cohort_covar  sexPulse  age_covar    PLT_wb  \\\n",
       "0  110018327792  110018327792             2         2  -0.631139 -0.458333   \n",
       "1  110018483652  110018483652             5         2   0.693835 -0.597222   \n",
       "2  110001259381  110001259381             0         2  -0.714734 -0.861111   \n",
       "3  110004412832  110004412832             0         2   0.535005 -0.736111   \n",
       "4  110003866786  110003866786             3         2   0.815047 -0.166667   \n",
       "\n",
       "     MPV_wb    PDW_wb    PCT_wb       PC1       PC2       PC3       PC4  \\\n",
       "0 -0.750000 -0.678571 -1.000000 -0.003431 -0.004429  0.005799  0.005465   \n",
       "1  1.000000  1.142857 -0.285714  0.006413  0.005157  0.008395  0.002881   \n",
       "2  0.833333  0.857143 -0.714286  0.001189 -0.001928  0.007722 -0.014941   \n",
       "3  0.750000  0.785714 -0.571429 -0.009439 -0.007902  0.003113 -0.002499   \n",
       "4 -0.416667 -0.357143 -0.285714 -0.001606 -0.000988 -0.006682 -0.002042   \n",
       "\n",
       "        PC5  \n",
       "0 -0.004632  \n",
       "1  0.008806  \n",
       "2  0.004064  \n",
       "3 -0.000451  \n",
       "4 -0.003743  "
      ]
     },
     "execution_count": 38,
     "metadata": {},
     "output_type": "execute_result"
    }
   ],
   "source": [
    "cov.head()"
   ]
  },
  {
   "cell_type": "code",
   "execution_count": 39,
   "metadata": {},
   "outputs": [],
   "source": [
    "covar_cols = [\"cohort_covar\",\"sexPulse\",\"age_covar\",\"PLT_wb\",\"MPV_wb\",\"PDW_wb\",\"PCT_wb\",\"PC1\",\"PC2\",\"PC3\",\"PC4\",\"PC5\"]\n",
    "merged = pd.merge(cov.set_index(\"IID\")[covar_cols],pheno.set_index(\"IID\")[[\"ADP_FIB\"]],left_index=True,right_index=True,how=\"inner\")"
   ]
  },
  {
   "cell_type": "code",
   "execution_count": 40,
   "metadata": {},
   "outputs": [
    {
     "data": {
      "text/plain": [
       "(29498, 13)"
      ]
     },
     "execution_count": 40,
     "metadata": {},
     "output_type": "execute_result"
    }
   ],
   "source": [
    "merged.shape"
   ]
  },
  {
   "cell_type": "code",
   "execution_count": 41,
   "metadata": {},
   "outputs": [],
   "source": [
    "from sklearn.linear_model import LinearRegression"
   ]
  },
  {
   "cell_type": "code",
   "execution_count": 42,
   "metadata": {},
   "outputs": [],
   "source": [
    "lm = LinearRegression().fit(merged[covar_cols],merged[\"ADP_FIB\"])"
   ]
  },
  {
   "cell_type": "code",
   "execution_count": 43,
   "metadata": {},
   "outputs": [
    {
     "data": {
      "text/plain": [
       "<matplotlib.collections.PathCollection at 0x2ad62cb79be0>"
      ]
     },
     "execution_count": 43,
     "metadata": {},
     "output_type": "execute_result"
    },
    {
     "data": {
      "image/png": "[encoded data removed]",
      "text/plain": [
       "<Figure size 432x288 with 1 Axes>"
      ]
     },
     "metadata": {
      "needs_background": "light"
     },
     "output_type": "display_data"
    }
   ],
   "source": [
    "y_hat = np.reshape(lm.predict(merged[covar_cols]),(-1))\n",
    "y_true = merged[\"ADP_FIB\"]\n",
    "plt.scatter(y_hat,y_true,s=.01)"
   ]
  },
  {
   "cell_type": "code",
   "execution_count": 44,
   "metadata": {},
   "outputs": [
    {
     "data": {
      "image/png": "[encoded data removed]",
      "text/plain": [
       "<Figure size 432x288 with 1 Axes>"
      ]
     },
     "metadata": {
      "needs_background": "light"
     },
     "output_type": "display_data"
    }
   ],
   "source": [
    "merged[\"adjusted_ADP\"] = y_true - y_hat\n",
    "plt.hist(merged.adjusted_ADP,bins=30)\n",
    "pass"
   ]
  },
  {
   "cell_type": "markdown",
   "metadata": {},
   "source": [
    "### Merge both"
   ]
  },
  {
   "cell_type": "code",
   "execution_count": 45,
   "metadata": {},
   "outputs": [
    {
     "data": {
      "text/html": [
       "<div>\n",
       "<style scoped>\n",
       "    .dataframe tbody tr th:only-of-type {\n",
       "        vertical-align: middle;\n",
       "    }\n",
       "\n",
       "    .dataframe tbody tr th {\n",
       "        vertical-align: top;\n",
       "    }\n",
       "\n",
       "    .dataframe thead th {\n",
       "        text-align: right;\n",
       "    }\n",
       "</style>\n",
       "<table border=\"1\" class=\"dataframe\">\n",
       "  <thead>\n",
       "    <tr style=\"text-align: right;\">\n",
       "      <th></th>\n",
       "      <th>CHR</th>\n",
       "      <th>SNP</th>\n",
       "      <th>(C)M</th>\n",
       "      <th>POS</th>\n",
       "      <th>COUNTED</th>\n",
       "      <th>ALT</th>\n",
       "      <th>110000305926_110000305926</th>\n",
       "      <th>110000305952_110000305952</th>\n",
       "      <th>110000315493_110000315493</th>\n",
       "      <th>110000315494_110000315494</th>\n",
       "      <th>...</th>\n",
       "      <th>119999995898_119999995898</th>\n",
       "      <th>119999995908_119999995908</th>\n",
       "      <th>119999995910_119999995910</th>\n",
       "      <th>119999995920_119999995920</th>\n",
       "      <th>119999995922_119999995922</th>\n",
       "      <th>119999995932_119999995932</th>\n",
       "      <th>119999995934_119999995934</th>\n",
       "      <th>119999995944_119999995944</th>\n",
       "      <th>119999995956_119999995956</th>\n",
       "      <th>119999995958_119999995958</th>\n",
       "    </tr>\n",
       "  </thead>\n",
       "  <tbody>\n",
       "    <tr>\n",
       "      <th>0</th>\n",
       "      <td>1</td>\n",
       "      <td>rs4838959</td>\n",
       "      <td>0</td>\n",
       "      <td>113085721</td>\n",
       "      <td>A</td>\n",
       "      <td>C</td>\n",
       "      <td>1.0</td>\n",
       "      <td>0.0</td>\n",
       "      <td>0.0</td>\n",
       "      <td>1.0</td>\n",
       "      <td>...</td>\n",
       "      <td>2.0</td>\n",
       "      <td>0.0</td>\n",
       "      <td>0.0</td>\n",
       "      <td>2.0</td>\n",
       "      <td>0.0</td>\n",
       "      <td>0.0</td>\n",
       "      <td>2.0</td>\n",
       "      <td>1.0</td>\n",
       "      <td>0.0</td>\n",
       "      <td>0.0</td>\n",
       "    </tr>\n",
       "    <tr>\n",
       "      <th>1</th>\n",
       "      <td>1</td>\n",
       "      <td>rs10776757</td>\n",
       "      <td>0</td>\n",
       "      <td>113121673</td>\n",
       "      <td>G</td>\n",
       "      <td>C</td>\n",
       "      <td>1.0</td>\n",
       "      <td>0.0</td>\n",
       "      <td>0.0</td>\n",
       "      <td>1.0</td>\n",
       "      <td>...</td>\n",
       "      <td>2.0</td>\n",
       "      <td>0.0</td>\n",
       "      <td>0.0</td>\n",
       "      <td>2.0</td>\n",
       "      <td>0.0</td>\n",
       "      <td>0.0</td>\n",
       "      <td>2.0</td>\n",
       "      <td>1.0</td>\n",
       "      <td>0.0</td>\n",
       "      <td>0.0</td>\n",
       "    </tr>\n",
       "    <tr>\n",
       "      <th>2</th>\n",
       "      <td>1</td>\n",
       "      <td>rs663533</td>\n",
       "      <td>0</td>\n",
       "      <td>113128804</td>\n",
       "      <td>G</td>\n",
       "      <td>C</td>\n",
       "      <td>1.0</td>\n",
       "      <td>0.0</td>\n",
       "      <td>0.0</td>\n",
       "      <td>1.0</td>\n",
       "      <td>...</td>\n",
       "      <td>2.0</td>\n",
       "      <td>0.0</td>\n",
       "      <td>0.0</td>\n",
       "      <td>2.0</td>\n",
       "      <td>0.0</td>\n",
       "      <td>0.0</td>\n",
       "      <td>2.0</td>\n",
       "      <td>1.0</td>\n",
       "      <td>0.0</td>\n",
       "      <td>0.0</td>\n",
       "    </tr>\n",
       "    <tr>\n",
       "      <th>3</th>\n",
       "      <td>1</td>\n",
       "      <td>rs4839254</td>\n",
       "      <td>0</td>\n",
       "      <td>113140926</td>\n",
       "      <td>C</td>\n",
       "      <td>T</td>\n",
       "      <td>1.0</td>\n",
       "      <td>0.0</td>\n",
       "      <td>0.0</td>\n",
       "      <td>1.0</td>\n",
       "      <td>...</td>\n",
       "      <td>2.0</td>\n",
       "      <td>0.0</td>\n",
       "      <td>0.0</td>\n",
       "      <td>2.0</td>\n",
       "      <td>0.0</td>\n",
       "      <td>0.0</td>\n",
       "      <td>2.0</td>\n",
       "      <td>1.0</td>\n",
       "      <td>0.0</td>\n",
       "      <td>0.0</td>\n",
       "    </tr>\n",
       "    <tr>\n",
       "      <th>4</th>\n",
       "      <td>1</td>\n",
       "      <td>rs9429486</td>\n",
       "      <td>0</td>\n",
       "      <td>113157372</td>\n",
       "      <td>T</td>\n",
       "      <td>C</td>\n",
       "      <td>1.0</td>\n",
       "      <td>0.0</td>\n",
       "      <td>0.0</td>\n",
       "      <td>1.0</td>\n",
       "      <td>...</td>\n",
       "      <td>2.0</td>\n",
       "      <td>0.0</td>\n",
       "      <td>0.0</td>\n",
       "      <td>2.0</td>\n",
       "      <td>0.0</td>\n",
       "      <td>0.0</td>\n",
       "      <td>2.0</td>\n",
       "      <td>1.0</td>\n",
       "      <td>0.0</td>\n",
       "      <td>0.0</td>\n",
       "    </tr>\n",
       "  </tbody>\n",
       "</table>\n",
       "<p>5 rows × 43065 columns</p>\n",
       "</div>"
      ],
      "text/plain": [
       "   CHR         SNP  (C)M        POS COUNTED ALT  110000305926_110000305926  \\\n",
       "0    1   rs4838959     0  113085721       A   C                        1.0   \n",
       "1    1  rs10776757     0  113121673       G   C                        1.0   \n",
       "2    1    rs663533     0  113128804       G   C                        1.0   \n",
       "3    1   rs4839254     0  113140926       C   T                        1.0   \n",
       "4    1   rs9429486     0  113157372       T   C                        1.0   \n",
       "\n",
       "   110000305952_110000305952  110000315493_110000315493  \\\n",
       "0                        0.0                        0.0   \n",
       "1                        0.0                        0.0   \n",
       "2                        0.0                        0.0   \n",
       "3                        0.0                        0.0   \n",
       "4                        0.0                        0.0   \n",
       "\n",
       "   110000315494_110000315494  ...  119999995898_119999995898  \\\n",
       "0                        1.0  ...                        2.0   \n",
       "1                        1.0  ...                        2.0   \n",
       "2                        1.0  ...                        2.0   \n",
       "3                        1.0  ...                        2.0   \n",
       "4                        1.0  ...                        2.0   \n",
       "\n",
       "   119999995908_119999995908  119999995910_119999995910  \\\n",
       "0                        0.0                        0.0   \n",
       "1                        0.0                        0.0   \n",
       "2                        0.0                        0.0   \n",
       "3                        0.0                        0.0   \n",
       "4                        0.0                        0.0   \n",
       "\n",
       "   119999995920_119999995920  119999995922_119999995922  \\\n",
       "0                        2.0                        0.0   \n",
       "1                        2.0                        0.0   \n",
       "2                        2.0                        0.0   \n",
       "3                        2.0                        0.0   \n",
       "4                        2.0                        0.0   \n",
       "\n",
       "   119999995932_119999995932  119999995934_119999995934  \\\n",
       "0                        0.0                        2.0   \n",
       "1                        0.0                        2.0   \n",
       "2                        0.0                        2.0   \n",
       "3                        0.0                        2.0   \n",
       "4                        0.0                        2.0   \n",
       "\n",
       "   119999995944_119999995944  119999995956_119999995956  \\\n",
       "0                        1.0                        0.0   \n",
       "1                        1.0                        0.0   \n",
       "2                        1.0                        0.0   \n",
       "3                        1.0                        0.0   \n",
       "4                        1.0                        0.0   \n",
       "\n",
       "   119999995958_119999995958  \n",
       "0                        0.0  \n",
       "1                        0.0  \n",
       "2                        0.0  \n",
       "3                        0.0  \n",
       "4                        0.0  \n",
       "\n",
       "[5 rows x 43065 columns]"
      ]
     },
     "execution_count": 45,
     "metadata": {},
     "output_type": "execute_result"
    }
   ],
   "source": [
    "gen.head()"
   ]
  },
  {
   "cell_type": "code",
   "execution_count": 46,
   "metadata": {},
   "outputs": [],
   "source": [
    "ID_cols = gen.columns[6:]"
   ]
  },
  {
   "cell_type": "code",
   "execution_count": 47,
   "metadata": {},
   "outputs": [],
   "source": [
    "_ = gen.set_index(\"SNP\")[ID_cols].T.reset_index().rename(columns={\"index\":\"ID\"})\n",
    "_[\"ID\"] = _[\"ID\"].apply(lambda x: int(x.split(\"_\")[0]))\n",
    "gen = _.set_index(\"ID\")"
   ]
  },
  {
   "cell_type": "code",
   "execution_count": 48,
   "metadata": {},
   "outputs": [
    {
     "data": {
      "text/html": [
       "<div>\n",
       "<style scoped>\n",
       "    .dataframe tbody tr th:only-of-type {\n",
       "        vertical-align: middle;\n",
       "    }\n",
       "\n",
       "    .dataframe tbody tr th {\n",
       "        vertical-align: top;\n",
       "    }\n",
       "\n",
       "    .dataframe thead th {\n",
       "        text-align: right;\n",
       "    }\n",
       "</style>\n",
       "<table border=\"1\" class=\"dataframe\">\n",
       "  <thead>\n",
       "    <tr style=\"text-align: right;\">\n",
       "      <th>SNP</th>\n",
       "      <th>rs4838959</th>\n",
       "      <th>rs10776757</th>\n",
       "      <th>rs663533</th>\n",
       "      <th>rs4839254</th>\n",
       "      <th>rs9429486</th>\n",
       "      <th>rs55675817</th>\n",
       "      <th>rs12046208</th>\n",
       "      <th>rs72699100</th>\n",
       "      <th>rs12042407</th>\n",
       "      <th>rs4604691</th>\n",
       "      <th>...</th>\n",
       "      <th>rs8109288</th>\n",
       "      <th>rs79301674</th>\n",
       "      <th>rs8104011</th>\n",
       "      <th>rs2228367</th>\n",
       "      <th>rs73517714</th>\n",
       "      <th>rs57843631</th>\n",
       "      <th>rs73076965</th>\n",
       "      <th>rs7271240</th>\n",
       "      <th>rs10485824</th>\n",
       "      <th>rs56078965</th>\n",
       "    </tr>\n",
       "    <tr>\n",
       "      <th>ID</th>\n",
       "      <th></th>\n",
       "      <th></th>\n",
       "      <th></th>\n",
       "      <th></th>\n",
       "      <th></th>\n",
       "      <th></th>\n",
       "      <th></th>\n",
       "      <th></th>\n",
       "      <th></th>\n",
       "      <th></th>\n",
       "      <th></th>\n",
       "      <th></th>\n",
       "      <th></th>\n",
       "      <th></th>\n",
       "      <th></th>\n",
       "      <th></th>\n",
       "      <th></th>\n",
       "      <th></th>\n",
       "      <th></th>\n",
       "      <th></th>\n",
       "      <th></th>\n",
       "    </tr>\n",
       "  </thead>\n",
       "  <tbody>\n",
       "    <tr>\n",
       "      <th>110000305926</th>\n",
       "      <td>1.0</td>\n",
       "      <td>1.0</td>\n",
       "      <td>1.0</td>\n",
       "      <td>1.0</td>\n",
       "      <td>1.0</td>\n",
       "      <td>1.0</td>\n",
       "      <td>1.0</td>\n",
       "      <td>1.0</td>\n",
       "      <td>1.0</td>\n",
       "      <td>1.0</td>\n",
       "      <td>...</td>\n",
       "      <td>0.0</td>\n",
       "      <td>0.0</td>\n",
       "      <td>0.0</td>\n",
       "      <td>0.0</td>\n",
       "      <td>0.0</td>\n",
       "      <td>0.0</td>\n",
       "      <td>0.0</td>\n",
       "      <td>0.0</td>\n",
       "      <td>0.0</td>\n",
       "      <td>0.0</td>\n",
       "    </tr>\n",
       "    <tr>\n",
       "      <th>110000305952</th>\n",
       "      <td>0.0</td>\n",
       "      <td>0.0</td>\n",
       "      <td>0.0</td>\n",
       "      <td>0.0</td>\n",
       "      <td>0.0</td>\n",
       "      <td>0.0</td>\n",
       "      <td>0.0</td>\n",
       "      <td>0.0</td>\n",
       "      <td>0.0</td>\n",
       "      <td>0.0</td>\n",
       "      <td>...</td>\n",
       "      <td>0.0</td>\n",
       "      <td>0.0</td>\n",
       "      <td>0.0</td>\n",
       "      <td>0.0</td>\n",
       "      <td>0.0</td>\n",
       "      <td>0.0</td>\n",
       "      <td>1.0</td>\n",
       "      <td>1.0</td>\n",
       "      <td>1.0</td>\n",
       "      <td>NaN</td>\n",
       "    </tr>\n",
       "    <tr>\n",
       "      <th>110000315493</th>\n",
       "      <td>0.0</td>\n",
       "      <td>0.0</td>\n",
       "      <td>0.0</td>\n",
       "      <td>0.0</td>\n",
       "      <td>0.0</td>\n",
       "      <td>0.0</td>\n",
       "      <td>0.0</td>\n",
       "      <td>0.0</td>\n",
       "      <td>0.0</td>\n",
       "      <td>0.0</td>\n",
       "      <td>...</td>\n",
       "      <td>0.0</td>\n",
       "      <td>0.0</td>\n",
       "      <td>0.0</td>\n",
       "      <td>0.0</td>\n",
       "      <td>0.0</td>\n",
       "      <td>0.0</td>\n",
       "      <td>0.0</td>\n",
       "      <td>0.0</td>\n",
       "      <td>0.0</td>\n",
       "      <td>1.0</td>\n",
       "    </tr>\n",
       "    <tr>\n",
       "      <th>110000315494</th>\n",
       "      <td>1.0</td>\n",
       "      <td>1.0</td>\n",
       "      <td>1.0</td>\n",
       "      <td>1.0</td>\n",
       "      <td>1.0</td>\n",
       "      <td>1.0</td>\n",
       "      <td>1.0</td>\n",
       "      <td>1.0</td>\n",
       "      <td>1.0</td>\n",
       "      <td>1.0</td>\n",
       "      <td>...</td>\n",
       "      <td>0.0</td>\n",
       "      <td>0.0</td>\n",
       "      <td>0.0</td>\n",
       "      <td>0.0</td>\n",
       "      <td>0.0</td>\n",
       "      <td>0.0</td>\n",
       "      <td>0.0</td>\n",
       "      <td>0.0</td>\n",
       "      <td>0.0</td>\n",
       "      <td>1.0</td>\n",
       "    </tr>\n",
       "    <tr>\n",
       "      <th>110000315495</th>\n",
       "      <td>1.0</td>\n",
       "      <td>1.0</td>\n",
       "      <td>1.0</td>\n",
       "      <td>1.0</td>\n",
       "      <td>1.0</td>\n",
       "      <td>1.0</td>\n",
       "      <td>1.0</td>\n",
       "      <td>1.0</td>\n",
       "      <td>NaN</td>\n",
       "      <td>1.0</td>\n",
       "      <td>...</td>\n",
       "      <td>0.0</td>\n",
       "      <td>0.0</td>\n",
       "      <td>0.0</td>\n",
       "      <td>0.0</td>\n",
       "      <td>0.0</td>\n",
       "      <td>0.0</td>\n",
       "      <td>1.0</td>\n",
       "      <td>1.0</td>\n",
       "      <td>1.0</td>\n",
       "      <td>1.0</td>\n",
       "    </tr>\n",
       "  </tbody>\n",
       "</table>\n",
       "<p>5 rows × 633 columns</p>\n",
       "</div>"
      ],
      "text/plain": [
       "SNP           rs4838959  rs10776757  rs663533  rs4839254  rs9429486  \\\n",
       "ID                                                                    \n",
       "110000305926        1.0         1.0       1.0        1.0        1.0   \n",
       "110000305952        0.0         0.0       0.0        0.0        0.0   \n",
       "110000315493        0.0         0.0       0.0        0.0        0.0   \n",
       "110000315494        1.0         1.0       1.0        1.0        1.0   \n",
       "110000315495        1.0         1.0       1.0        1.0        1.0   \n",
       "\n",
       "SNP           rs55675817  rs12046208  rs72699100  rs12042407  rs4604691  ...  \\\n",
       "ID                                                                       ...   \n",
       "110000305926         1.0         1.0         1.0         1.0        1.0  ...   \n",
       "110000305952         0.0         0.0         0.0         0.0        0.0  ...   \n",
       "110000315493         0.0         0.0         0.0         0.0        0.0  ...   \n",
       "110000315494         1.0         1.0         1.0         1.0        1.0  ...   \n",
       "110000315495         1.0         1.0         1.0         NaN        1.0  ...   \n",
       "\n",
       "SNP           rs8109288  rs79301674  rs8104011  rs2228367  rs73517714  \\\n",
       "ID                                                                      \n",
       "110000305926        0.0         0.0        0.0        0.0         0.0   \n",
       "110000305952        0.0         0.0        0.0        0.0         0.0   \n",
       "110000315493        0.0         0.0        0.0        0.0         0.0   \n",
       "110000315494        0.0         0.0        0.0        0.0         0.0   \n",
       "110000315495        0.0         0.0        0.0        0.0         0.0   \n",
       "\n",
       "SNP           rs57843631  rs73076965  rs7271240  rs10485824  rs56078965  \n",
       "ID                                                                       \n",
       "110000305926         0.0         0.0        0.0         0.0         0.0  \n",
       "110000305952         0.0         1.0        1.0         1.0         NaN  \n",
       "110000315493         0.0         0.0        0.0         0.0         1.0  \n",
       "110000315494         0.0         0.0        0.0         0.0         1.0  \n",
       "110000315495         0.0         1.0        1.0         1.0         1.0  \n",
       "\n",
       "[5 rows x 633 columns]"
      ]
     },
     "execution_count": 48,
     "metadata": {},
     "output_type": "execute_result"
    }
   ],
   "source": [
    "gen.head()"
   ]
  },
  {
   "cell_type": "code",
   "execution_count": 49,
   "metadata": {},
   "outputs": [],
   "source": [
    "ft = pd.merge(gen, merged,left_index=True,right_index=True,how=\"inner\")"
   ]
  },
  {
   "cell_type": "markdown",
   "metadata": {},
   "source": [
    "# Run the selection"
   ]
  },
  {
   "cell_type": "markdown",
   "metadata": {},
   "source": [
    "## Extract SNPS list from UKBB"
   ]
  },
  {
   "cell_type": "code",
   "execution_count": 4,
   "metadata": {},
   "outputs": [
    {
     "name": "stdout",
     "output_type": "stream",
     "text": [
      "Submitting 1\n",
      "Submitting 2\n",
      "Submitting 3\n",
      "Submitting 4\n",
      "Submitting 5\n",
      "Submitting 6\n",
      "Submitting 7\n",
      "Submitting 8\n",
      "Submitting 9\n",
      "Submitting 10\n",
      "Submitting 11\n",
      "Submitting 12\n",
      "Submitting 13\n",
      "Submitting 14\n",
      "Submitting 15\n",
      "Submitting 16\n",
      "Submitting 17\n",
      "Submitting 18\n",
      "Submitting 19\n",
      "Submitting 20\n",
      "Submitting 21\n",
      "Submitting 22\n"
     ]
    }
   ],
   "source": [
    "EUR_path = \"%s/genetic_score/EUR\" % export_folder\n",
    "SNP_list_file = \"%s/conditional_analysis/significant_snps_ADP_validated.txt\" % export_folder\n",
    "n_splits = 4\n",
    "for chrom in range(1,23):\n",
    "    command = \"/home/hv270/Plink2/plink2\"\n",
    "    command += \" --bgen /rds/project/wja24/rds-wja24-uk-biobank-gen/bgen/ukb_imp_chr%s_v3.bgen\" % chrom\n",
    "    command += \" --keep %s\" % EUR_path\n",
    "    command += \" --extract %s\" % SNP_list_file\n",
    "    command += \" --sample /rds/project/wja24/rds-wja24-uk-biobank-gen/13745_specific/sample/ukb13745_imp_chr%s_v3_s487378.sample\" % chrom\n",
    "    command += \" --write-snplist\"\n",
    "    command += \" --threads %d\" % n_splits\n",
    "    command += \" --out %s/genetic_score/ukbb_snps_%d\" % (export_folder,chrom)\n",
    "\n",
    "    f_name = \"/home/hv270/interval_slurm_calls/call_list_chr%d.sh\" % chrom\n",
    "    f = open(f_name,\"w+\")\n",
    "    f.write(\"#!/bin/sh\\n\")\n",
    "\n",
    "    f.write(\"#SBATCH -J list%d\\n\" % (chrom))\n",
    "    f.write(\"#SBATCH -A ASTLE-SL2-CPU\\n\")\n",
    "    f.write(\"#SBATCH -N 1\\n\")\n",
    "    f.write(\"#SBATCH -n %d\\n\" % n_splits)\n",
    "    #f.write(\"#SBATCH -c %d\\n\" % n_splits)\n",
    "    f.write(\"#SBATCH --time=3:00:00\\n\")\n",
    "    f.write(\"#SBATCH -p skylake-himem\\n\")\n",
    "    log_file = \"/home/hv270/slurm_log/%s_list_UKBB_snps_chr_%d.out\" % (\"GS\",chrom)\n",
    "    f.write(\"#SBATCH --output=%s\\n\" % log_file)\n",
    "    f.write(\"export OMP_NUM_THREADS=%d\\n\" % n_splits)\n",
    "\n",
    "    f.write(\". /etc/profile.d/modules.sh\\n\")\n",
    "    f.write(\"module purge\\n\")\n",
    "    f.write(\"module load rhel7/default-peta4\\n\")\n",
    "    f.write(command)\n",
    "    f.close()\n",
    "\n",
    "    print(\"Submitting %s\" % chrom)\n",
    "    p = subprocess.Popen(\"sbatch %s\" % f_name,shell=True)\n",
    "    p.wait()"
   ]
  },
  {
   "cell_type": "code",
   "execution_count": 62,
   "metadata": {},
   "outputs": [
    {
     "name": "stdout",
     "output_type": "stream",
     "text": [
      "[Errno 2] File b'/home/hv270/rds/rds-who1000-cbrc/user/wja24/shared/hippolyte_only/interval_processing/genetic_score/ukbb_snps_10-temporary.pvar' does not exist: b'/home/hv270/rds/rds-who1000-cbrc/user/wja24/shared/hippolyte_only/interval_processing/genetic_score/ukbb_snps_10-temporary.pvar'\n",
      "[Errno 2] File b'/home/hv270/rds/rds-who1000-cbrc/user/wja24/shared/hippolyte_only/interval_processing/genetic_score/ukbb_snps_11-temporary.pvar' does not exist: b'/home/hv270/rds/rds-who1000-cbrc/user/wja24/shared/hippolyte_only/interval_processing/genetic_score/ukbb_snps_11-temporary.pvar'\n",
      "[Errno 2] File b'/home/hv270/rds/rds-who1000-cbrc/user/wja24/shared/hippolyte_only/interval_processing/genetic_score/ukbb_snps_13-temporary.pvar' does not exist: b'/home/hv270/rds/rds-who1000-cbrc/user/wja24/shared/hippolyte_only/interval_processing/genetic_score/ukbb_snps_13-temporary.pvar'\n",
      "[Errno 2] File b'/home/hv270/rds/rds-who1000-cbrc/user/wja24/shared/hippolyte_only/interval_processing/genetic_score/ukbb_snps_16-temporary.pvar' does not exist: b'/home/hv270/rds/rds-who1000-cbrc/user/wja24/shared/hippolyte_only/interval_processing/genetic_score/ukbb_snps_16-temporary.pvar'\n",
      "[Errno 2] File b'/home/hv270/rds/rds-who1000-cbrc/user/wja24/shared/hippolyte_only/interval_processing/genetic_score/ukbb_snps_17-temporary.pvar' does not exist: b'/home/hv270/rds/rds-who1000-cbrc/user/wja24/shared/hippolyte_only/interval_processing/genetic_score/ukbb_snps_17-temporary.pvar'\n",
      "[Errno 2] File b'/home/hv270/rds/rds-who1000-cbrc/user/wja24/shared/hippolyte_only/interval_processing/genetic_score/ukbb_snps_18-temporary.pvar' does not exist: b'/home/hv270/rds/rds-who1000-cbrc/user/wja24/shared/hippolyte_only/interval_processing/genetic_score/ukbb_snps_18-temporary.pvar'\n",
      "[Errno 2] File b'/home/hv270/rds/rds-who1000-cbrc/user/wja24/shared/hippolyte_only/interval_processing/genetic_score/ukbb_snps_19-temporary.pvar' does not exist: b'/home/hv270/rds/rds-who1000-cbrc/user/wja24/shared/hippolyte_only/interval_processing/genetic_score/ukbb_snps_19-temporary.pvar'\n",
      "[Errno 2] File b'/home/hv270/rds/rds-who1000-cbrc/user/wja24/shared/hippolyte_only/interval_processing/genetic_score/ukbb_snps_20-temporary.pvar' does not exist: b'/home/hv270/rds/rds-who1000-cbrc/user/wja24/shared/hippolyte_only/interval_processing/genetic_score/ukbb_snps_20-temporary.pvar'\n"
     ]
    }
   ],
   "source": [
    "IDs_list = []\n",
    "for ch in range(1,23):\n",
    "    try:\n",
    "        IDs_chrom = pd.read_csv(\"%s/genetic_score/ukbb_snps_%d-temporary.pvar\" % (export_folder, ch),sep=\"\\t\")[\"ID\"].tolist() \n",
    "        IDs_list = IDs_list + IDs_chrom\n",
    "    except Exception as e:\n",
    "        print(e)\n",
    "        pass"
   ]
  },
  {
   "cell_type": "code",
   "execution_count": 15,
   "metadata": {},
   "outputs": [
    {
     "data": {
      "text/plain": [
       "67062755"
      ]
     },
     "execution_count": 15,
     "metadata": {},
     "output_type": "execute_result"
    }
   ],
   "source": [
    "len(IDs_list)"
   ]
  },
  {
   "cell_type": "code",
   "execution_count": 54,
   "metadata": {},
   "outputs": [
    {
     "name": "stdout",
     "output_type": "stream",
     "text": [
      "63325626\n"
     ]
    }
   ],
   "source": [
    "IDs_list = [c for c in IDs_list if \"rs\" == str(c)[:2]]\n",
    "print(len(IDs_list))"
   ]
  },
  {
   "cell_type": "code",
   "execution_count": 55,
   "metadata": {},
   "outputs": [],
   "source": [
    "from scipy.stats import pearsonr, ttest_ind, f, levene\n",
    "def get_p_value(X,new_col,Y):\n",
    "    c = (X.isnull().sum(axis=1) == 0) & (new_col.isnull().sum(axis=1) == 0)\n",
    "    X_ = X.loc[c]\n",
    "    Y_ = Y.loc[c]\n",
    "    new_col_ = new_col.loc[c]\n",
    "    X_2 = pd.concat((X_,new_col_),axis=1)\n",
    "    \n",
    "    lm1 = LinearRegression().fit(X_,Y_)\n",
    "    fit_1 = lm1.predict(X_)\n",
    "    lm2 = LinearRegression().fit(X_2,Y_)\n",
    "    fit_2 = lm2.predict(X_2)\n",
    "    \n",
    "    #p_val = f_test(fit_1,fit_2)[1]\n",
    "    p_val = levene(fit_1,fit_2,center=\"mean\")[1]\n",
    "\n",
    "    return p_val\n",
    "\n",
    "def f_test(x, y):\n",
    "    x = np.array(x)\n",
    "    y = np.array(y)\n",
    "    F = np.var(x, ddof=1)/np.var(y, ddof=1) #calculate F test statistic \n",
    "    dfn = x.size-1 #define degrees of freedom numerator \n",
    "    dfd = y.size-1 #define degrees of freedom denominator \n",
    "    p = 1-f.cdf(F, dfn, dfd) #find p-value of F test statistic \n",
    "    print(dfn)\n",
    "    return f, p\n",
    "\n",
    "def get_causal_columns(X,Y):\n",
    "    included = [0]\n",
    "    excluded = [k for k in range(1,X.shape[1])]\n",
    "    P_th = 8.31*1e-9\n",
    "    LD = []\n",
    "    c = (X.isnull().sum(axis=1) == 0)\n",
    "    for k in excluded:\n",
    "        if pearsonr(X.loc[c].iloc[:,k],\n",
    "                    X.loc[c].iloc[:,0])[0]**2 > 0.9:\n",
    "            LD.append(k)\n",
    "    excluded = [k for k in excluded if k not in LD]\n",
    "    print(\"Removed %d SNPs in high LD (remains %d)\" % (len(LD),len(excluded)))\n",
    "    while len(excluded) > 0:\n",
    "        # INCLUDE\n",
    "        #print(included)\n",
    "        ps = []\n",
    "        for i in excluded:\n",
    "            ps.append(get_p_value(X.iloc[:,included],X.iloc[:,[i]],Y))\n",
    "        if min(ps) > P_th:\n",
    "            return included\n",
    "        new_c = excluded[np.argmin(ps)]\n",
    "        included = included + [new_c]\n",
    "        excluded = [e for e in excluded if e != new_c]\n",
    "\n",
    "        if len(included) == 1: continue\n",
    "\n",
    "        while len(included) >= 2:\n",
    "            ps = []\n",
    "            for i in included:\n",
    "                inc_ = [k for k in included if k != i]\n",
    "                ps.append(get_p_value(X.iloc[:,inc_],X.iloc[:,[i]],Y))\n",
    "            if max(ps) < P_th:\n",
    "                break\n",
    "            else:\n",
    "                old_c = included[np.argmax(ps)]\n",
    "                excluded += [old_c]\n",
    "                included = [k for k in included if k != old_c]\n",
    "                \n",
    "    return [0]\n",
    "    "
   ]
  },
  {
   "cell_type": "code",
   "execution_count": 56,
   "metadata": {},
   "outputs": [],
   "source": [
    "adp[\"MAF\"] = adp[\"A1FREQ\"]\n",
    "adp.loc[adp.MAF > 0.5, \"MAF\"] = 1 - adp.loc[adp.MAF > 0.5, \"MAF\"]"
   ]
  },
  {
   "cell_type": "code",
   "execution_count": null,
   "metadata": {},
   "outputs": [],
   "source": [
    "snp_in_ukbb = adp.SNP.isin(IDs_list)"
   ]
  },
  {
   "cell_type": "code",
   "execution_count": 61,
   "metadata": {},
   "outputs": [
    {
     "name": "stdout",
     "output_type": "stream",
     "text": [
      "Removed 11 samples in high LD (remains 0)\n",
      "1 ['rs10776757']\n",
      "Removed 0 samples in high LD (remains 0)\n",
      "1 ['rs72698679']\n",
      "Removed 4 samples in high LD (remains 71)\n",
      "1 ['rs1434282']\n",
      "Removed 0 samples in high LD (remains 0)\n",
      "4 ['rs11731274']\n",
      "Removed 0 samples in high LD (remains 1)\n",
      "5 ['rs10455038']\n",
      "Removed 18 samples in high LD (remains 258)\n",
      "6 ['rs57318254', 'rs212936']\n",
      "Removed 18 samples in high LD (remains 4)\n",
      "7 ['rs1194196', 'rs819437']\n",
      "Removed 2 samples in high LD (remains 71)\n",
      "8 ['rs6993770']\n",
      "Removed 0 samples in high LD (remains 1)\n",
      "9 ['rs117149770']\n",
      "Removed 0 samples in high LD (remains 0)\n",
      "15 ['rs59001897']\n"
     ]
    }
   ],
   "source": [
    "blocks = adp.loc[adp.block > -1].block.unique().tolist()\n",
    "causal_snps = []\n",
    "\n",
    "for b in blocks:\n",
    "    sub_adp = adp.loc[(adp.block == b) & (adp.MAF > 5e-4) & snp_in_ukbb]\n",
    "    snps = sub_adp.sort_values(\"P_BOLT_LMM\",ascending=True).SNP.tolist()\n",
    "    if len(snps) == 0: continue\n",
    "    X = ft[snps]\n",
    "    Y = ft[\"adjusted_ADP\"]\n",
    "    causal = get_causal_columns(X,Y)\n",
    "    print(sub_adp.CHR.iloc[0],[snps[k] for k in causal])\n",
    "    causal_snps += [snps[k] for k in causal]"
   ]
  },
  {
   "cell_type": "code",
   "execution_count": 89,
   "metadata": {},
   "outputs": [
    {
     "name": "stdout",
     "output_type": "stream",
     "text": [
      "Removed 11 samples in high LD (remains 0)\n",
      "['rs10776757']\n",
      "Removed 0 samples in high LD (remains 0)\n",
      "['rs72698679']\n",
      "Removed 4 samples in high LD (remains 73)\n",
      "['rs1434282']\n",
      "Removed 0 samples in high LD (remains 0)\n",
      "['rs11731274']\n",
      "Removed 0 samples in high LD (remains 1)\n",
      "['rs10455038']\n",
      "Removed 19 samples in high LD (remains 275)\n",
      "['rs57318254', 'rs212936']\n",
      "Removed 18 samples in high LD (remains 4)\n",
      "['rs1194196', 'rs819437']\n",
      "Removed 2 samples in high LD (remains 76)\n",
      "['rs6993770']\n",
      "Removed 8 samples in high LD (remains 71)\n",
      "['rs11785060']\n",
      "Removed 0 samples in high LD (remains 1)\n",
      "['rs117149770']\n",
      "Removed 0 samples in high LD (remains 0)\n",
      "['rs59001897']\n",
      "Removed 17 samples in high LD (remains 2)\n",
      "['rs114932910']\n",
      "Removed 25 samples in high LD (remains 3)\n",
      "['rs11315757']\n",
      "Removed 5 samples in high LD (remains 0)\n",
      "['rs8104011']\n",
      "Removed 2 samples in high LD (remains 1)\n",
      "['rs10485824']\n"
     ]
    }
   ],
   "source": [
    "blocks = adp.loc[adp.block > -1].block.unique().tolist()\n",
    "causal_snps = []\n",
    "for b in blocks:\n",
    "    snps = adp.loc[(adp.block == b) & (adp.MAF > 5e-4) & adp.SNP.isin(IDs_list)].sort_values(\"P_BOLT_LMM\",ascending=True).SNP.tolist()\n",
    "    X = ft[snps]\n",
    "    Y = ft[\"adjusted_ADP\"]\n",
    "    causal = get_causal_columns(X,Y)\n",
    "    print([snps[k] for k in causal])\n",
    "    causal_snps += [snps[k] for k in causal]"
   ]
  },
  {
   "cell_type": "markdown",
   "metadata": {},
   "source": [
    "# Extract EU individuals"
   ]
  },
  {
   "cell_type": "code",
   "execution_count": 90,
   "metadata": {},
   "outputs": [],
   "source": [
    "european_individuals = pd.read_csv(\"/rds/project/wja24/rds-wja24-uk-biobank-gen/13745_specific/blood_trait_gwas_2020_contributing_ids.tsv\",header=None)\n",
    "european_individuals = european_individuals.rename(columns={0:\"FID\"})\n",
    "european_individuals[\"IID\"] = european_individuals[\"FID\"]\n",
    "EUR_path = \"%s/genetic_score/EUR\" % export_folder\n",
    "european_individuals[[\"IID\",\"FID\"]].to_csv(EUR_path,index=False)"
   ]
  },
  {
   "cell_type": "code",
   "execution_count": 91,
   "metadata": {},
   "outputs": [
    {
     "data": {
      "text/html": [
       "<div>\n",
       "<style scoped>\n",
       "    .dataframe tbody tr th:only-of-type {\n",
       "        vertical-align: middle;\n",
       "    }\n",
       "\n",
       "    .dataframe tbody tr th {\n",
       "        vertical-align: top;\n",
       "    }\n",
       "\n",
       "    .dataframe thead th {\n",
       "        text-align: right;\n",
       "    }\n",
       "</style>\n",
       "<table border=\"1\" class=\"dataframe\">\n",
       "  <thead>\n",
       "    <tr style=\"text-align: right;\">\n",
       "      <th></th>\n",
       "      <th>FID</th>\n",
       "      <th>IID</th>\n",
       "    </tr>\n",
       "  </thead>\n",
       "  <tbody>\n",
       "    <tr>\n",
       "      <th>0</th>\n",
       "      <td>3988147</td>\n",
       "      <td>3988147</td>\n",
       "    </tr>\n",
       "    <tr>\n",
       "      <th>1</th>\n",
       "      <td>5152243</td>\n",
       "      <td>5152243</td>\n",
       "    </tr>\n",
       "    <tr>\n",
       "      <th>2</th>\n",
       "      <td>2770265</td>\n",
       "      <td>2770265</td>\n",
       "    </tr>\n",
       "    <tr>\n",
       "      <th>3</th>\n",
       "      <td>3790399</td>\n",
       "      <td>3790399</td>\n",
       "    </tr>\n",
       "    <tr>\n",
       "      <th>4</th>\n",
       "      <td>4681935</td>\n",
       "      <td>4681935</td>\n",
       "    </tr>\n",
       "  </tbody>\n",
       "</table>\n",
       "</div>"
      ],
      "text/plain": [
       "       FID      IID\n",
       "0  3988147  3988147\n",
       "1  5152243  5152243\n",
       "2  2770265  2770265\n",
       "3  3790399  3790399\n",
       "4  4681935  4681935"
      ]
     },
     "execution_count": 91,
     "metadata": {},
     "output_type": "execute_result"
    }
   ],
   "source": [
    "european_individuals.head()"
   ]
  },
  {
   "cell_type": "markdown",
   "metadata": {},
   "source": [
    "# Compute score"
   ]
  },
  {
   "cell_type": "code",
   "execution_count": null,
   "metadata": {},
   "outputs": [],
   "source": [
    "\"\"\"\n",
    "adp[\"causal\"] = adp.SNP.isin(causal_snps)\n",
    "causal_adp_snps = adp.loc[adp.causal].SNP.tolist()\n",
    "with open(causal_snps_path,\"w\") as snp_file:\n",
    "    for snp in causal_adp_snps:\n",
    "        snp_file.write(\"%s\\n\" % snp)\n",
    "\"\"\"\n",
    "european_individuals = pd.read_csv(\"/rds/project/wja24/rds-wja24-uk-biobank-gen/13745_specific/blood_trait_gwas_2020_contributing_ids.tsv\",header=None)\n",
    "european_individuals = european_individuals.rename(columns={0:\"ID_1\"})\n",
    "european_individuals[\"ID_2\"] = european_individuals[\"ID_1\"]\n",
    "EUR_path = \"%s/genetic_score/EUR\" % export_folder\n",
    "european_individuals[[\"ID_1\",\"ID_2\"]].to_csv(EUR_path,index=False, sep=\"\\t\", header=False)"
   ]
  },
  {
   "cell_type": "markdown",
   "metadata": {},
   "source": [
    "## Validated SNPS"
   ]
  },
  {
   "cell_type": "markdown",
   "metadata": {},
   "source": [
    "Validated SNPS : those whose p-value of association is significantly better than with random phenotypes"
   ]
  },
  {
   "cell_type": "code",
   "execution_count": 179,
   "metadata": {},
   "outputs": [
    {
     "name": "stdout",
     "output_type": "stream",
     "text": [
      "22 /home/hv270/rds/rds-who1000-cbrc/user/wja24/shared/hippolyte_only/interval_processing/genetic_score/ADP_causal_score_validated_chr22-temporary.pvar.\n",
      "\n",
      "21 /home/hv270/rds/rds-who1000-cbrc/user/wja24/shared/hippolyte_only/interval_processing/genetic_score/ADP_causal_score_validated_chr21-temporary.pvar.\n",
      "\n",
      "20 --score: 1 variant processed.\n",
      "\n",
      "19 --score: 1 variant processed.\n",
      "\n",
      "18 /home/hv270/rds/rds-who1000-cbrc/user/wja24/shared/hippolyte_only/interval_processing/genetic_score/ADP_causal_score_validated_chr18-temporary.pvar.\n",
      "\n",
      "17 /home/hv270/rds/rds-who1000-cbrc/user/wja24/shared/hippolyte_only/interval_processing/genetic_score/ADP_causal_score_validated_chr17-temporary.pvar.\n",
      "\n",
      "16 /home/hv270/rds/rds-who1000-cbrc/user/wja24/shared/hippolyte_only/interval_processing/genetic_score/ADP_causal_score_validated_chr16-temporary.pvar.\n",
      "\n",
      "15 --score: 1 variant processed.\n",
      "\n",
      "14 /home/hv270/rds/rds-who1000-cbrc/user/wja24/shared/hippolyte_only/interval_processing/genetic_score/ADP_causal_score_validated_chr14-temporary.pvar.\n",
      "\n",
      "13 /home/hv270/rds/rds-who1000-cbrc/user/wja24/shared/hippolyte_only/interval_processing/genetic_score/ADP_causal_score_validated_chr13-temporary.pvar.\n",
      "\n",
      "12 /home/hv270/rds/rds-who1000-cbrc/user/wja24/shared/hippolyte_only/interval_processing/genetic_score/ADP_causal_score_validated_chr12-temporary.pvar.\n",
      "\n",
      "11 /home/hv270/rds/rds-who1000-cbrc/user/wja24/shared/hippolyte_only/interval_processing/genetic_score/ADP_causal_score_validated_chr11-temporary.pvar.\n",
      "\n",
      "10 /home/hv270/rds/rds-who1000-cbrc/user/wja24/shared/hippolyte_only/interval_processing/genetic_score/ADP_causal_score_validated_chr10-temporary.pvar.\n",
      "\n",
      "9 --score: 1 variant processed.\n",
      "\n",
      "8 --score: 2 variants processed.\n",
      "\n",
      "7 --score: 2 variants processed.\n",
      "\n",
      "6 --score: 2 variants processed.\n",
      "\n",
      "5 --score: 1 variant processed.\n",
      "\n",
      "4 --score: 1 variant processed.\n",
      "\n",
      "3 /home/hv270/rds/rds-who1000-cbrc/user/wja24/shared/hippolyte_only/interval_processing/genetic_score/ADP_causal_score_validated_chr3-temporary.pvar.\n",
      "\n",
      "2 /home/hv270/rds/rds-who1000-cbrc/user/wja24/shared/hippolyte_only/interval_processing/genetic_score/ADP_causal_score_validated_chr2-temporary.pvar.\n",
      "\n",
      "1 --score: 3 variants processed.\n",
      "\n",
      "[]\n"
     ]
    }
   ],
   "source": [
    "n_splits = 12\n",
    "causal_snps_path = \"%s/genetic_score/causal_snps_validated\" % (export_folder)\n",
    "left_to_do_chroms = []\n",
    "for chrom in range(1,23)[::-1]:\n",
    "    \n",
    "    log_file = \"/home/hv270/slurm_log/%s_ADP_val_%d.out\" % (\"GS\",chrom)\n",
    "    with open(log_file,\"r\") as f:\n",
    "        lines = f.readlines()\n",
    "        print(chrom, lines[-5])\n",
    "        if \"DUE TO TIME LIMIT\" in lines[-2]:\n",
    "            left_to_do_chroms.append(chrom)\n",
    "print(left_to_do_chroms)"
   ]
  },
  {
   "cell_type": "code",
   "execution_count": 13,
   "metadata": {},
   "outputs": [
    {
     "name": "stdout",
     "output_type": "stream",
     "text": [
      "Submitting 8\n",
      "Submitting 4\n"
     ]
    }
   ],
   "source": [
    "for chrom in left_to_do_chroms:\n",
    "    command = \"/home/hv270/Plink2/plink2\"\n",
    "    command += \" --bgen /rds/project/wja24/rds-wja24-uk-biobank-gen/bgen/ukb_imp_chr%d_v3.bgen\" % chrom\n",
    "    command += \" --sample /rds/project/wja24/rds-wja24-uk-biobank-gen/13745_specific/sample/ukb13745_imp_chr%d_v3_s487378.sample\" % chrom\n",
    "    #command += \" --bfile /home/hv270/rds/rds-who1000-cbrc/user/wja24/shared/hv270/interval_genotypes/chr_1\"\n",
    "    command += \" --extract %s\" % causal_snps_path\n",
    "    #command += \" --keep %s\" % EUR_path\n",
    "    command += \" --score %s/bolt_res_ADP_FIB 1 5 9 header\" % (export_folder)\n",
    "    #command += \" --q-score-range %s %s/bolt_res_ADP_FIB 1 12\" % (range_file_path, export_folder)\n",
    "    #useless if we keep only causal SNPs with good p values\n",
    "    command += \" --out %s/genetic_score/ADP_causal_score_validated_chr%d\" % (export_folder,chrom)\n",
    "    command += \" --threads %d\" % n_splits\n",
    "\n",
    "    f_name = \"/home/hv270/interval_slurm_calls/call_gs_chr%d.sh\" % chrom\n",
    "    f = open(f_name,\"w+\")\n",
    "    f.write(\"#!/bin/sh\\n\")\n",
    "\n",
    "    f.write(\"#SBATCH -J chr%d\\n\" % (chrom))\n",
    "    f.write(\"#SBATCH -A ASTLE-SL2-CPU\\n\")\n",
    "    f.write(\"#SBATCH -N 1\\n\")\n",
    "    f.write(\"#SBATCH -n %d\\n\" % n_splits)\n",
    "    #f.write(\"#SBATCH -c %d\\n\" % n_splits)\n",
    "    f.write(\"#SBATCH --time=8:00:00\\n\")\n",
    "    f.write(\"#SBATCH -p skylake-himem\\n\")\n",
    "    log_file = \"/home/hv270/slurm_log/%s_ADP_val_%d.out\" % (\"GS\",chrom)\n",
    "    f.write(\"#SBATCH --output=%s\\n\" % log_file)\n",
    "    f.write(\"export OMP_NUM_THREADS=%d\\n\" % n_splits)\n",
    "\n",
    "    f.write(\". /etc/profile.d/modules.sh\\n\")\n",
    "    f.write(\"module purge\\n\")\n",
    "    f.write(\"module load rhel7/default-peta4\\n\")\n",
    "    f.write(command)\n",
    "    f.close()\n",
    "\n",
    "    print(\"Submitting %s\" % chrom)\n",
    "    p = subprocess.Popen(\"sbatch %s\" % f_name,shell=True)\n",
    "    p.wait()"
   ]
  },
  {
   "cell_type": "markdown",
   "metadata": {},
   "source": [
    "## All causal SNPs"
   ]
  },
  {
   "cell_type": "code",
   "execution_count": 171,
   "metadata": {},
   "outputs": [
    {
     "name": "stdout",
     "output_type": "stream",
     "text": [
      "[6]\n"
     ]
    }
   ],
   "source": [
    "left_to_do_chroms = []\n",
    "for chrom in range(1,23)[::-1]:\n",
    "    \n",
    "    log_file = \"/home/hv270/slurm_log/%s_ADP_%d.out\" % (\"GS\",chrom)\n",
    "    with open(log_file,\"r\") as f:\n",
    "        lines = f.readlines()\n",
    "        if \"DUE TO TIME LIMIT\" in lines[-2]:\n",
    "            left_to_do_chroms.append(chrom)\n",
    "print(left_to_do_chroms)"
   ]
  },
  {
   "cell_type": "code",
   "execution_count": 172,
   "metadata": {},
   "outputs": [
    {
     "name": "stdout",
     "output_type": "stream",
     "text": [
      "Submitting 6\n"
     ]
    }
   ],
   "source": [
    "n_splits = 12\n",
    "causal_snps_path = \"%s/genetic_score/causal_snps\" % (export_folder)\n",
    "\n",
    "for chrom in left_to_do_chroms:\n",
    "    command = \"/home/hv270/Plink2/plink2\"\n",
    "    command += \" --bgen /rds/project/wja24/rds-wja24-uk-biobank-gen/bgen/ukb_imp_chr%d_v3.bgen\" % chrom\n",
    "    command += \" --sample /rds/project/wja24/rds-wja24-uk-biobank-gen/13745_specific/sample/ukb13745_imp_chr%d_v3_s487378.sample\" % chrom\n",
    "    #command += \" --bfile /home/hv270/rds/rds-who1000-cbrc/user/wja24/shared/hv270/interval_genotypes/chr_1\"\n",
    "    command += \" --extract %s\" % causal_snps_path\n",
    "    #command += \" --keep %s\" % EUR_path\n",
    "    command += \" --score %s/bolt_res_ADP_FIB 1 5 9 header\" % (export_folder)\n",
    "    #command += \" --q-score-range %s %s/bolt_res_ADP_FIB 1 12\" % (range_file_path, export_folder)\n",
    "    #useless if we keep only causal SNPs with good p values\n",
    "    command += \" --out %s/genetic_score/ADP_causal_score_chr%d\" % (export_folder,chrom)\n",
    "    command += \" --threads %d\" % n_splits\n",
    "\n",
    "    f_name = \"/home/hv270/interval_slurm_calls/call_gs_chr%d.sh\" % chrom\n",
    "    f = open(f_name,\"w+\")\n",
    "    f.write(\"#!/bin/sh\\n\")\n",
    "\n",
    "    f.write(\"#SBATCH -J chr%d\\n\" % (chrom))\n",
    "    f.write(\"#SBATCH -A ASTLE-SL2-CPU\\n\")\n",
    "    f.write(\"#SBATCH -N 1\\n\")\n",
    "    f.write(\"#SBATCH -n %d\\n\" % n_splits)\n",
    "    #f.write(\"#SBATCH -c %d\\n\" % n_splits)\n",
    "    f.write(\"#SBATCH --time=6:30:00\\n\")\n",
    "    f.write(\"#SBATCH -p skylake-himem\\n\")\n",
    "    f.write(\"#SBATCH --output=/home/hv270/slurm_log/%s_ADP_%d.out\\n\" % (\"GS\",chrom))\n",
    "    f.write(\"export OMP_NUM_THREADS=%d\\n\" % n_splits)\n",
    "\n",
    "    f.write(\". /etc/profile.d/modules.sh\\n\")\n",
    "    f.write(\"module purge\\n\")\n",
    "    f.write(\"module load rhel7/default-peta4\\n\")\n",
    "    f.write(command)\n",
    "    f.close()\n",
    "\n",
    "    print(\"Submitting %s\" % chrom)\n",
    "    p = subprocess.Popen(\"sbatch %s\" % f_name,shell=True)\n",
    "    p.wait()"
   ]
  },
  {
   "cell_type": "markdown",
   "metadata": {},
   "source": [
    "# Compute score of Sysmex features"
   ]
  },
  {
   "cell_type": "code",
   "execution_count": 152,
   "metadata": {},
   "outputs": [],
   "source": [
    "sys_gwas = pd.read_excel(\"/home/hv270/rds/rds-who1000-cbrc/user/wja24/shared/hippolyte_only/interval_processing/GWAS_Sysmex_traits_hits.xlsx\")"
   ]
  },
  {
   "cell_type": "code",
   "execution_count": 153,
   "metadata": {},
   "outputs": [],
   "source": [
    "sys_gwas = sys_gwas.rename(columns={\"Associated Blood Index\":\"pheno\",\n",
    "                                    \"rsID (where available)\":\"rsID\",\n",
    "                                    \"Chr (GRCh37)\":\"CHR\",\n",
    "                                    \"BP (GRCh37)\":\"BP\",\n",
    "                                    \"REF (GRC37)\":\"REF\",\n",
    "                                    \"ALT (GRC37)\":\"ALT\",\n",
    "                                    \"(UNIVAR) Estimate of Additive Allelic Effect (REF=Baseline, ALT=Effect)\":\"BETA\"})\n",
    "sys_phenos = [\"PLT#\",\"MPV\",\"PCT\",\"PDW\"]\n",
    "sys_gwas = sys_gwas.loc[sys_gwas[\"pheno\"].isin(sys_phenos)]"
   ]
  },
  {
   "cell_type": "code",
   "execution_count": 154,
   "metadata": {},
   "outputs": [
    {
     "data": {
      "text/html": [
       "<div>\n",
       "<style scoped>\n",
       "    .dataframe tbody tr th:only-of-type {\n",
       "        vertical-align: middle;\n",
       "    }\n",
       "\n",
       "    .dataframe tbody tr th {\n",
       "        vertical-align: top;\n",
       "    }\n",
       "\n",
       "    .dataframe thead th {\n",
       "        text-align: right;\n",
       "    }\n",
       "</style>\n",
       "<table border=\"1\" class=\"dataframe\">\n",
       "  <thead>\n",
       "    <tr style=\"text-align: right;\">\n",
       "      <th></th>\n",
       "      <th>pheno</th>\n",
       "      <th>rsID</th>\n",
       "      <th>CHR</th>\n",
       "      <th>BP</th>\n",
       "      <th>REF</th>\n",
       "      <th>ALT</th>\n",
       "      <th>BETA</th>\n",
       "    </tr>\n",
       "  </thead>\n",
       "  <tbody>\n",
       "    <tr>\n",
       "      <th>8</th>\n",
       "      <td>PLT#</td>\n",
       "      <td>rs34646035</td>\n",
       "      <td>1</td>\n",
       "      <td>2166607</td>\n",
       "      <td>G</td>\n",
       "      <td>GT</td>\n",
       "      <td>-0.025125</td>\n",
       "    </tr>\n",
       "    <tr>\n",
       "      <th>9</th>\n",
       "      <td>PCT</td>\n",
       "      <td>rs34646035</td>\n",
       "      <td>1</td>\n",
       "      <td>2166607</td>\n",
       "      <td>G</td>\n",
       "      <td>GT</td>\n",
       "      <td>-0.022806</td>\n",
       "    </tr>\n",
       "    <tr>\n",
       "      <th>10</th>\n",
       "      <td>PDW</td>\n",
       "      <td>rs141190925</td>\n",
       "      <td>1</td>\n",
       "      <td>2234040</td>\n",
       "      <td>CAGG</td>\n",
       "      <td>C</td>\n",
       "      <td>-0.031649</td>\n",
       "    </tr>\n",
       "    <tr>\n",
       "      <th>14</th>\n",
       "      <td>PCT</td>\n",
       "      <td>rs113565775</td>\n",
       "      <td>1</td>\n",
       "      <td>2978755</td>\n",
       "      <td>A</td>\n",
       "      <td>AG</td>\n",
       "      <td>0.029835</td>\n",
       "    </tr>\n",
       "    <tr>\n",
       "      <th>16</th>\n",
       "      <td>PCT</td>\n",
       "      <td>rs1569419</td>\n",
       "      <td>1</td>\n",
       "      <td>2996602</td>\n",
       "      <td>T</td>\n",
       "      <td>C</td>\n",
       "      <td>0.041643</td>\n",
       "    </tr>\n",
       "  </tbody>\n",
       "</table>\n",
       "</div>"
      ],
      "text/plain": [
       "   pheno         rsID CHR       BP   REF ALT      BETA\n",
       "8   PLT#   rs34646035   1  2166607     G  GT -0.025125\n",
       "9    PCT   rs34646035   1  2166607     G  GT -0.022806\n",
       "10   PDW  rs141190925   1  2234040  CAGG   C -0.031649\n",
       "14   PCT  rs113565775   1  2978755     A  AG  0.029835\n",
       "16   PCT    rs1569419   1  2996602     T   C  0.041643"
      ]
     },
     "execution_count": 154,
     "metadata": {},
     "output_type": "execute_result"
    }
   ],
   "source": [
    "sys_gwas[[\"pheno\",\"rsID\",\"CHR\",\"BP\",\"REF\",\"ALT\",\"BETA\"]].head()"
   ]
  },
  {
   "cell_type": "code",
   "execution_count": null,
   "metadata": {
    "scrolled": true
   },
   "outputs": [
    {
     "name": "stdout",
     "output_type": "stream",
     "text": [
      "Submitting 1\n",
      "Submitting 2\n",
      "Submitting 3\n",
      "Submitting 4\n",
      "Submitting 5\n",
      "Submitting 6\n",
      "Submitting 7\n",
      "Submitting 8\n",
      "Submitting 9\n",
      "Submitting 10\n",
      "Submitting 11\n",
      "Submitting 12\n",
      "Submitting 13\n",
      "Submitting 14\n",
      "Submitting 15\n",
      "Submitting 16\n",
      "Submitting 17\n",
      "Submitting 18\n",
      "Submitting 19\n"
     ]
    }
   ],
   "source": [
    "for pheno in sys_phenos:\n",
    "    # Checked only on one sample, that REF was the column to use\n",
    "    # It corresponds to the same side (between ref and alt) \n",
    "    # as the one used to compute the score of our phenotypes based on interval GWAS\n",
    "    betas_path = \"%s/Genetic_score_Sysmex_traits/%s.csv\" % (export_folder,pheno)\n",
    "    sys_gwas.loc[sys_gwas.pheno == pheno,[\"rsID\",\"REF\",\"BETA\"]]\\\n",
    "        .to_csv(betas_path,\n",
    "                sep=\"\\t\",index=False,header=False)\n",
    "    \n",
    "    causal_snps = sys_gwas.loc[sys_gwas.pheno == pheno].rsID.tolist()\n",
    "    causal_snps_path = \"%s/Genetic_score_Sysmex_traits/causal_snps_%s\" % (export_folder,pheno)\n",
    "    with open(causal_snps_path,\"w\") as snp_file:\n",
    "        for snp in causal_snps:\n",
    "            snp_file.write(\"%s\\n\" % snp)\n",
    "    \n",
    "    n_splits = 8\n",
    "\n",
    "    for chrom in sys_gwas.loc[sys_gwas.pheno == pheno].CHR.unique().tolist():\n",
    "        command = \"/home/hv270/Plink2/plink2\"\n",
    "        command += \" --bgen /rds/project/wja24/rds-wja24-uk-biobank-gen/bgen/ukb_imp_chr%s_v3.bgen\" % chrom\n",
    "        command += \" --sample /rds/project/wja24/rds-wja24-uk-biobank-gen/13745_specific/sample/ukb13745_imp_chr%s_v3_s487378.sample\" % chrom\n",
    "        #command += \" --bfile /home/hv270/rds/rds-who1000-cbrc/user/wja24/shared/hv270/interval_genotypes/chr_1\"\n",
    "        command += \" --extract %s\" % causal_snps_path\n",
    "        #command += \" --keep %s\" % EUR_path\n",
    "        command += \" --score %s\" % betas_path\n",
    "        #command += \" --q-score-range %s %s/bolt_res_ADP_FIB 1 12\" % (range_file_path, export_folder)\n",
    "        #useless if we keep only causal SNPs with good p values\n",
    "        command += \" --out %s/Genetic_score_Sysmex_traits/%s_causal_score_chr%s\" % (export_folder,pheno,chrom)\n",
    "        command += \" --threads %d\" % n_splits\n",
    "\n",
    "        f_name = \"/home/hv270/interval_slurm_calls/call_gs_chr%s.sh\" % chrom\n",
    "        f = open(f_name,\"w+\")\n",
    "        f.write(\"#!/bin/sh\\n\")\n",
    "\n",
    "        f.write(\"#SBATCH -J chr%s\\n\" % (chrom))\n",
    "        f.write(\"#SBATCH -A ASTLE-SL2-CPU\\n\")\n",
    "        f.write(\"#SBATCH -N 1\\n\")\n",
    "        f.write(\"#SBATCH -n %d\\n\" % n_splits)\n",
    "        #f.write(\"#SBATCH -c %d\\n\" % n_splits)\n",
    "        f.write(\"#SBATCH --time=3:30:00\\n\")\n",
    "        f.write(\"#SBATCH -p skylake\\n\")\n",
    "        f.write(\"#SBATCH --output=/home/hv270/slurm_log/%s_%s_%s.out\\n\" % (\"GS\",pheno,chrom))\n",
    "        f.write(\"export OMP_NUM_THREADS=%d\\n\" % n_splits)\n",
    "\n",
    "        f.write(\". /etc/profile.d/modules.sh\\n\")\n",
    "        f.write(\"module purge\\n\")\n",
    "        f.write(\"module load rhel7/default-peta4\\n\")\n",
    "        f.write(command)\n",
    "        f.close()\n",
    "\n",
    "        print(\"Submitting %s\" % chrom)\n",
    "        p = subprocess.Popen(\"sbatch %s\" % f_name,shell=True)\n",
    "        p.wait()"
   ]
  },
  {
   "cell_type": "markdown",
   "metadata": {},
   "source": [
    "# Read table"
   ]
  },
  {
   "cell_type": "code",
   "execution_count": 24,
   "metadata": {},
   "outputs": [],
   "source": [
    "STROKE_FIELD = \"42006-0.0\"\n",
    "BIRTH_FIELD = \"34-0.0\"\n",
    "SEX_FIELD = \"31-0.0\" # 0 female, 1 male\n",
    "MI_FIELD = \"42000-0.0\" \n",
    "AGE_DVT = \"4012-0.0\" # Deep venous thrombosis, blot clot in the leg\n",
    "PE_FIELD  = \"4022-0.0\" # pulmonary embolism, age\n",
    "KINSHIP = '22021-0.0'\n",
    "DEATH_FIELD = '40007-0.0'\n",
    "BP_FIELD = '2966-0.0' # Age high blood pressure diagnosed\n",
    "PLT = '30080-0.0'\n",
    "PCT = '30090-0.0'\n",
    "MPV = '30100-0.0'\n",
    "PDW = '30110-0.0'\n",
    "\n",
    "TOBACCO_FIELD = \"22506-0.0\"\n",
    "ID_FIELD = \"eid\"\n"
   ]
  },
  {
   "cell_type": "code",
   "execution_count": 25,
   "metadata": {},
   "outputs": [
    {
     "name": "stderr",
     "output_type": "stream",
     "text": [
      "/home/hv270/platelets/lib/python3.7/site-packages/IPython/core/interactiveshell.py:3049: DtypeWarning: Columns (20817,20818,20819,20820,20821,20822,20823,20824,20825,20826,20827,20828,20829,20830,20831,20832,20833,20834,20835,20836,20837,20838,20839,20840,20841,20842,20843,20844,20845,20846,20847,20848,20849,20850,20851,20852,20853,20854,20855,20856,20857,20858,20859,20860,20861,20862,20863,20864,20865,20866,20867,20868,20869,20870,20871,20872,20873,20874,20875,20876,20877,20878,20879,20880,20881,20882,20883,20884,20885,20886,20887,20888,20889,20890,20891,20892,20893,20894,20895,20896,20897,20898,20899,20900,20901,20902,20903,20904,20905,20906,20907,20908,20909,20910,20911,20912,20913,20914,20915,20916,20917,20918,20919,20920,20921,20922,20923,20924,20925,20926,20927,20928,20929,20930,20931,20932,20933,20934,20935,20936,20937,20938,20939,20940,20941,20942,20943,20944,20945,20946,20947,20948,20949,20950,20951,20952,20953,20954,20955,20956,20957,20958,20959,20960,20961,20962,20963,20964,20965,20966,20967,20968,20969,20970,20971,20972,20973,20974,20975,20976,20977,20978,20979,20980,20981,20982,20983,20984,20985,20986,20987,20988,20989,20990,20991,20992,20993,20994,20995,20996,20997,20998,20999,21000,21001,21002,21003,21004,21005,21006,21007,21008,21009,21010,21011,21012,21013,21014,21015,21016,21017,21018,21019,21020,21634,21640) have mixed types. Specify dtype option on import or set low_memory=False.\n",
      "  interactivity=interactivity, compiler=compiler, result=result)\n"
     ]
    }
   ],
   "source": [
    "ukbb_path = \"/home/hv270/rds/rds-who1000-cbrc/data/UKB_13745/flat_data/ukb44092.csv\"\n",
    "\n",
    "for chunk in pd.read_csv(ukbb_path,sep=\",\",chunksize=int(1e2),low_memory=False):\n",
    "    ukbb_ = chunk\n",
    "    break\n",
    "ICD10_cols = [c for c in ukbb_ if \"41270\" in c]\n",
    "death_cols = [c for c in ukbb_ if \"40002\" in c]\n",
    "\n",
    "cols = [ID_FIELD,BIRTH_FIELD,SEX_FIELD,STROKE_FIELD,\n",
    "        MI_FIELD, PE_FIELD, AGE_DVT,\n",
    "        DEATH_FIELD,\n",
    "        BP_FIELD,\n",
    "        MPV, PCT, PDW, PLT,\n",
    "        TOBACCO_FIELD, KINSHIP]\n",
    "cols = cols + ICD10_cols #+ death_cols\n",
    "\n",
    "ukbb_ = pd.read_csv(ukbb_path,sep=\",\",usecols=cols, low_memory=True)"
   ]
  },
  {
   "cell_type": "code",
   "execution_count": 26,
   "metadata": {},
   "outputs": [],
   "source": [
    "ukbb = ukbb_.rename(columns={STROKE_FIELD:\"STROKE_DATE\",\n",
    "                            MI_FIELD:\"MI_DATE\",\n",
    "                            ID_FIELD:\"ID\",\n",
    "                            SEX_FIELD:\"SEX\",\n",
    "                            BIRTH_FIELD:\"BIRTH\",\n",
    "                            AGE_DVT:\"VT_AGE\",\n",
    "                            DEATH_FIELD:\"DEATH_AGE\",\n",
    "                            BP_FIELD:\"HIGH_BP_AGE\",\n",
    "                            PE_FIELD:\"PE_AGE\",\n",
    "                            KINSHIP:\"KINSHIP\",\n",
    "                            PLT:\"PLT\",MPV:\"MPV\",PCT:\"PCT\",PDW:\"PDW\",\n",
    "                            TOBACCO_FIELD:\"TOBACCO\"})\n",
    "ukbb[\"BIRTH\"] = pd.to_datetime(ukbb.loc[~ukbb.BIRTH.isnull(), \"BIRTH\"].astype(int).astype(str),format=\"%Y\")\n",
    "ukbb[\"MI_AGE\"] = pd.to_datetime(ukbb[\"MI_DATE\"]) - ukbb[\"BIRTH\"]\n",
    "ukbb[\"STROKE_AGE\"] = pd.to_datetime(ukbb[\"STROKE_DATE\"]) - ukbb[\"BIRTH\"]"
   ]
  },
  {
   "cell_type": "code",
   "execution_count": 27,
   "metadata": {},
   "outputs": [],
   "source": [
    "ukbb[\"coag_deffect\"] = sum([ukbb[c].str.contains(\"D68\").fillna(False)*1 for c in ICD10_cols]) > 0\n",
    "ukbb[\"haemo\"] = sum([ukbb[c].str.contains(\"D69\").fillna(False)*1 for c in ICD10_cols]) > 0\n",
    "ukbb[\"arteriosclerosis\"] = sum([ukbb[c].str.contains(\"I25\").fillna(False)*1 for c in ICD10_cols]) > 0"
   ]
  },
  {
   "cell_type": "code",
   "execution_count": 28,
   "metadata": {},
   "outputs": [],
   "source": [
    "th_codes = [\"I74\",\"I80\",\"I81\",\"I82\"]\n",
    "ukbb[\"thrombosis\"] = sum([sum([ukbb[c].str.contains(code).fillna(False)*1 for c in ICD10_cols]) for code in th_codes]) > 0"
   ]
  },
  {
   "cell_type": "code",
   "execution_count": 29,
   "metadata": {},
   "outputs": [],
   "source": [
    "ukbb[\"haemorroids\"] = sum([ukbb[c].str.contains(\"K64\").fillna(False)*1 for c in ICD10_cols]) > 0"
   ]
  },
  {
   "cell_type": "code",
   "execution_count": 30,
   "metadata": {},
   "outputs": [
    {
     "name": "stdout",
     "output_type": "stream",
     "text": [
      "Remove 1 because of missing age \n"
     ]
    }
   ],
   "source": [
    "from datetime import datetime\n",
    "ukbb.loc[~ukbb.MI_AGE.isnull(),\"MI_AGE\"] = ukbb.loc[~ukbb.MI_AGE.isnull(),\"MI_AGE\"].astype('timedelta64[Y]').astype(int)\n",
    "ukbb.loc[~ukbb.STROKE_AGE.isnull(),\"STROKE_AGE\"] = ukbb.loc[~ukbb.STROKE_AGE.isnull(),\"STROKE_AGE\"].astype('timedelta64[Y]').astype(int)\n",
    "# Removing those whose date isn't available\n",
    "ukbb.loc[ukbb.MI_AGE < 0,\"MI_AGE\"] = np.nan\n",
    "ukbb.loc[ukbb.STROKE_AGE < 0,\"STROKE_AGE\"] = np.nan\n",
    "print(\"Remove %d because of missing age \" % ukbb.BIRTH.isnull().sum())\n",
    "ukbb = ukbb.loc[~ukbb.BIRTH.isnull()]\n",
    "ukbb[\"AGE\"] = (datetime.now() - ukbb[\"BIRTH\"]).astype('timedelta64[Y]').astype(int)"
   ]
  },
  {
   "cell_type": "code",
   "execution_count": 31,
   "metadata": {},
   "outputs": [],
   "source": [
    "ukbb[\"has_VT\"] = (~ukbb.VT_AGE.isnull())\n",
    "ukbb[\"has_PE\"] = (~ukbb.PE_AGE.isnull())\n",
    "ukbb[\"has_stroke\"] = ~ukbb.STROKE_AGE.isnull()\n",
    "ukbb[\"has_mi\"] = ~ukbb.MI_AGE.isnull()\n",
    "ukbb[\"has_hbp\"] = ~ukbb.HIGH_BP_AGE.isnull()"
   ]
  },
  {
   "cell_type": "markdown",
   "metadata": {},
   "source": [
    "# Read score"
   ]
  },
  {
   "cell_type": "markdown",
   "metadata": {},
   "source": [
    "## Score with all SNPS"
   ]
  },
  {
   "cell_type": "code",
   "execution_count": 173,
   "metadata": {},
   "outputs": [],
   "source": [
    "european_individuals = pd.read_csv(\"/rds/project/wja24/rds-wja24-uk-biobank-gen/13745_specific/blood_trait_gwas_2020_contributing_ids.tsv\",header=None)\n",
    "european_individuals = european_individuals.rename(columns={0:\"FID\"})\n",
    "EUR_IDs = european_individuals.FID.tolist()"
   ]
  },
  {
   "cell_type": "code",
   "execution_count": 174,
   "metadata": {},
   "outputs": [
    {
     "name": "stdout",
     "output_type": "stream",
     "text": [
      "[Errno 2] File b'/home/hv270/rds/rds-who1000-cbrc/user/wja24/shared/hippolyte_only/interval_processing/genetic_score/ADP_causal_score_chr21.sscore' does not exist: b'/home/hv270/rds/rds-who1000-cbrc/user/wja24/shared/hippolyte_only/interval_processing/genetic_score/ADP_causal_score_chr21.sscore'\n"
     ]
    }
   ],
   "source": [
    "dfs = []\n",
    "for chrom in range(1,23):\n",
    "    score_file = \"%s/genetic_score/ADP_causal_score_chr%d.sscore\" % (export_folder,chrom)\n",
    "    try:\n",
    "        df = pd.read_csv(score_file,sep=\"\\t\")\n",
    "        df = df.loc[df.IID.isin(EUR_IDs)]\n",
    "        mean = (df[\"SCORE1_AVG\"]*df[\"NMISS_ALLELE_CT\"]).sum() / df[\"NMISS_ALLELE_CT\"].sum()\n",
    "        df[\"score\"] = (df[\"SCORE1_AVG\"] - mean)*df[\"NMISS_ALLELE_CT\"]\n",
    "        dfs.append(df[[\"IID\",\"score\"]].rename(columns={\"score\":\"score_%d\" % chrom}))\n",
    "    except Exception as e:\n",
    "        print(e)\n",
    "        pass"
   ]
  },
  {
   "cell_type": "code",
   "execution_count": 175,
   "metadata": {},
   "outputs": [
    {
     "name": "stdout",
     "output_type": "stream",
     "text": [
      "(409016, 1)\n"
     ]
    }
   ],
   "source": [
    "df = dfs[0]\n",
    "for d in dfs[1:]:\n",
    "    df = pd.merge(df,d,left_on=\"IID\",right_on=\"IID\",how=\"inner\")\n",
    "df = df.set_index(\"IID\")\n",
    "score = pd.DataFrame(df.sum(axis=1)).rename(columns={0:\"score\"})\n",
    "print(score.shape)"
   ]
  },
  {
   "cell_type": "markdown",
   "metadata": {},
   "source": [
    "## Score with validated SNPs"
   ]
  },
  {
   "cell_type": "code",
   "execution_count": 176,
   "metadata": {},
   "outputs": [
    {
     "name": "stdout",
     "output_type": "stream",
     "text": [
      "[Errno 2] File b'/home/hv270/rds/rds-who1000-cbrc/user/wja24/shared/hippolyte_only/interval_processing/genetic_score/ADP_causal_score_validated_chr2.sscore' does not exist: b'/home/hv270/rds/rds-who1000-cbrc/user/wja24/shared/hippolyte_only/interval_processing/genetic_score/ADP_causal_score_validated_chr2.sscore'\n",
      "[Errno 2] File b'/home/hv270/rds/rds-who1000-cbrc/user/wja24/shared/hippolyte_only/interval_processing/genetic_score/ADP_causal_score_validated_chr3.sscore' does not exist: b'/home/hv270/rds/rds-who1000-cbrc/user/wja24/shared/hippolyte_only/interval_processing/genetic_score/ADP_causal_score_validated_chr3.sscore'\n",
      "[Errno 2] File b'/home/hv270/rds/rds-who1000-cbrc/user/wja24/shared/hippolyte_only/interval_processing/genetic_score/ADP_causal_score_validated_chr10.sscore' does not exist: b'/home/hv270/rds/rds-who1000-cbrc/user/wja24/shared/hippolyte_only/interval_processing/genetic_score/ADP_causal_score_validated_chr10.sscore'\n",
      "[Errno 2] File b'/home/hv270/rds/rds-who1000-cbrc/user/wja24/shared/hippolyte_only/interval_processing/genetic_score/ADP_causal_score_validated_chr11.sscore' does not exist: b'/home/hv270/rds/rds-who1000-cbrc/user/wja24/shared/hippolyte_only/interval_processing/genetic_score/ADP_causal_score_validated_chr11.sscore'\n",
      "[Errno 2] File b'/home/hv270/rds/rds-who1000-cbrc/user/wja24/shared/hippolyte_only/interval_processing/genetic_score/ADP_causal_score_validated_chr12.sscore' does not exist: b'/home/hv270/rds/rds-who1000-cbrc/user/wja24/shared/hippolyte_only/interval_processing/genetic_score/ADP_causal_score_validated_chr12.sscore'\n",
      "[Errno 2] File b'/home/hv270/rds/rds-who1000-cbrc/user/wja24/shared/hippolyte_only/interval_processing/genetic_score/ADP_causal_score_validated_chr13.sscore' does not exist: b'/home/hv270/rds/rds-who1000-cbrc/user/wja24/shared/hippolyte_only/interval_processing/genetic_score/ADP_causal_score_validated_chr13.sscore'\n",
      "[Errno 2] File b'/home/hv270/rds/rds-who1000-cbrc/user/wja24/shared/hippolyte_only/interval_processing/genetic_score/ADP_causal_score_validated_chr14.sscore' does not exist: b'/home/hv270/rds/rds-who1000-cbrc/user/wja24/shared/hippolyte_only/interval_processing/genetic_score/ADP_causal_score_validated_chr14.sscore'\n",
      "[Errno 2] File b'/home/hv270/rds/rds-who1000-cbrc/user/wja24/shared/hippolyte_only/interval_processing/genetic_score/ADP_causal_score_validated_chr16.sscore' does not exist: b'/home/hv270/rds/rds-who1000-cbrc/user/wja24/shared/hippolyte_only/interval_processing/genetic_score/ADP_causal_score_validated_chr16.sscore'\n",
      "[Errno 2] File b'/home/hv270/rds/rds-who1000-cbrc/user/wja24/shared/hippolyte_only/interval_processing/genetic_score/ADP_causal_score_validated_chr17.sscore' does not exist: b'/home/hv270/rds/rds-who1000-cbrc/user/wja24/shared/hippolyte_only/interval_processing/genetic_score/ADP_causal_score_validated_chr17.sscore'\n",
      "[Errno 2] File b'/home/hv270/rds/rds-who1000-cbrc/user/wja24/shared/hippolyte_only/interval_processing/genetic_score/ADP_causal_score_validated_chr18.sscore' does not exist: b'/home/hv270/rds/rds-who1000-cbrc/user/wja24/shared/hippolyte_only/interval_processing/genetic_score/ADP_causal_score_validated_chr18.sscore'\n",
      "[Errno 2] File b'/home/hv270/rds/rds-who1000-cbrc/user/wja24/shared/hippolyte_only/interval_processing/genetic_score/ADP_causal_score_validated_chr21.sscore' does not exist: b'/home/hv270/rds/rds-who1000-cbrc/user/wja24/shared/hippolyte_only/interval_processing/genetic_score/ADP_causal_score_validated_chr21.sscore'\n",
      "[Errno 2] File b'/home/hv270/rds/rds-who1000-cbrc/user/wja24/shared/hippolyte_only/interval_processing/genetic_score/ADP_causal_score_validated_chr22.sscore' does not exist: b'/home/hv270/rds/rds-who1000-cbrc/user/wja24/shared/hippolyte_only/interval_processing/genetic_score/ADP_causal_score_validated_chr22.sscore'\n"
     ]
    }
   ],
   "source": [
    "dfs = []\n",
    "for chrom in range(1,23):\n",
    "    score_file = \"%s/genetic_score/ADP_causal_score_validated_chr%d.sscore\" % (export_folder,chrom)\n",
    "    try:\n",
    "        df = pd.read_csv(score_file,sep=\"\\t\")\n",
    "        df = df.loc[df.IID.isin(EUR_IDs)]\n",
    "        mean = (df[\"SCORE1_AVG\"]*df[\"NMISS_ALLELE_CT\"]).sum() / df[\"NMISS_ALLELE_CT\"].sum()\n",
    "        df[\"score\"] = (df[\"SCORE1_AVG\"] - mean)*df[\"NMISS_ALLELE_CT\"]\n",
    "        dfs.append(df[[\"IID\",\"score\"]].rename(columns={\"score\":\"score_%d\" % chrom}))\n",
    "    except Exception as e:\n",
    "        print(e)\n",
    "        pass"
   ]
  },
  {
   "cell_type": "code",
   "execution_count": 159,
   "metadata": {},
   "outputs": [
    {
     "name": "stdout",
     "output_type": "stream",
     "text": [
      "(409016, 1)\n"
     ]
    }
   ],
   "source": [
    "df = dfs[0]\n",
    "for d in dfs[1:]:\n",
    "    df = pd.merge(df,d,left_on=\"IID\",right_on=\"IID\",how=\"inner\")\n",
    "df = df.set_index(\"IID\")\n",
    "score_val = pd.DataFrame(df.sum(axis=1)).rename(columns={0:\"score_val\"})\n",
    "print(score_val.shape)\n",
    "score = pd.merge(score,score_val,left_index=True,right_index=True)"
   ]
  },
  {
   "cell_type": "code",
   "execution_count": 160,
   "metadata": {},
   "outputs": [
    {
     "data": {
      "image/png": "[encoded data removed]",
      "text/plain": [
       "<Figure size 432x288 with 1 Axes>"
      ]
     },
     "metadata": {
      "needs_background": "light"
     },
     "output_type": "display_data"
    }
   ],
   "source": [
    "plt.scatter(score.score, score.score_val,s=.001)\n",
    "plt.xlabel(\"All causal SNPS\")\n",
    "plt.ylabel(\"'validated' causal SNPS\")\n",
    "plt.title(\"Comparison of genetic scores\")\n",
    "pass"
   ]
  },
  {
   "cell_type": "code",
   "execution_count": 161,
   "metadata": {},
   "outputs": [],
   "source": [
    "from glob import glob"
   ]
  },
  {
   "cell_type": "markdown",
   "metadata": {},
   "source": [
    "## Score of Sysmex traits"
   ]
  },
  {
   "cell_type": "code",
   "execution_count": 162,
   "metadata": {},
   "outputs": [],
   "source": [
    "sys_phenos = [\"PLT#\",\"MPV\",\"PCT\",\"PDW\"]\n",
    "score_dfs = []\n",
    "for pheno in sys_phenos:\n",
    "    dfs = []\n",
    "    chrom_files = glob(\"%s/Genetic_score_Sysmex_traits/%s_causal_score_chr*.sscore\" % (export_folder,pheno))\n",
    "    for score_file in chrom_files:\n",
    "        df = pd.read_csv(score_file,sep=\"\\t\")\n",
    "        df = df.loc[df.IID.isin(EUR_IDs)]\n",
    "        mean = (df[\"SCORE1_AVG\"]*df[\"NMISS_ALLELE_CT\"]).sum() / df[\"NMISS_ALLELE_CT\"].sum()\n",
    "        df[\"score\"] = (df[\"SCORE1_AVG\"] - mean)*df[\"NMISS_ALLELE_CT\"]\n",
    "        dfs.append(df[[\"IID\",\"score\"]].rename(columns={\"score\":\"score_%d\" % chrom}))\n",
    "    df = dfs[0]\n",
    "    for d in dfs[1:]:\n",
    "        df = pd.merge(df,d,left_on=\"IID\",right_on=\"IID\",how=\"inner\")\n",
    "    df = df.set_index(\"IID\")\n",
    "    score_dfs.append(pd.DataFrame(df.sum(axis=1)).rename(columns={0:\"score_%s\" % pheno}))"
   ]
  },
  {
   "cell_type": "code",
   "execution_count": 163,
   "metadata": {},
   "outputs": [
    {
     "name": "stdout",
     "output_type": "stream",
     "text": [
      "409016\n",
      "409016\n",
      "409016\n",
      "409016\n"
     ]
    }
   ],
   "source": [
    "for s in score_dfs:\n",
    "    print(s.shape[0])"
   ]
  },
  {
   "cell_type": "code",
   "execution_count": 164,
   "metadata": {},
   "outputs": [
    {
     "name": "stdout",
     "output_type": "stream",
     "text": [
      "add\n",
      "add\n",
      "add\n",
      "add\n"
     ]
    }
   ],
   "source": [
    "for i in range(len(score_dfs)):\n",
    "    if score_dfs[i].shape[0] == score.shape[0]:\n",
    "        print(\"add\")\n",
    "        score = pd.merge(score,score_dfs[i],left_index=True,right_index=True)"
   ]
  },
  {
   "cell_type": "code",
   "execution_count": 165,
   "metadata": {},
   "outputs": [
    {
     "data": {
      "text/plain": [
       "(409016, 6)"
      ]
     },
     "execution_count": 165,
     "metadata": {},
     "output_type": "execute_result"
    }
   ],
   "source": [
    "score.shape"
   ]
  },
  {
   "cell_type": "code",
   "execution_count": 166,
   "metadata": {},
   "outputs": [
    {
     "data": {
      "text/plain": [
       "score         0.224991\n",
       "score_val     0.132332\n",
       "score_PLT#    0.523953\n",
       "score_MPV     0.608917\n",
       "score_PCT     0.467130\n",
       "score_PDW     0.469907\n",
       "dtype: float64"
      ]
     },
     "execution_count": 166,
     "metadata": {},
     "output_type": "execute_result"
    }
   ],
   "source": [
    "score.std()"
   ]
  },
  {
   "cell_type": "markdown",
   "metadata": {},
   "source": [
    "# Merge"
   ]
  },
  {
   "cell_type": "code",
   "execution_count": 79,
   "metadata": {},
   "outputs": [],
   "source": [
    "# Scores were computed using only EUR people.\n",
    "# Thus, the merge removes the non-europeans\n",
    "ms = pd.merge(ukbb,score,left_on=\"ID\",right_on=\"IID\")\n",
    "#ms = ms.loc[ms.KINSHIP < 1] # < 1 : no relatives, < 10 : less than 10 relatives\n",
    "#ms = ms.loc[ms.TOBACCO != \"Never smoke\"]"
   ]
  },
  {
   "cell_type": "code",
   "execution_count": 80,
   "metadata": {},
   "outputs": [
    {
     "data": {
      "text/plain": [
       "(408920, 247)"
      ]
     },
     "execution_count": 80,
     "metadata": {},
     "output_type": "execute_result"
    }
   ],
   "source": [
    "ms.shape"
   ]
  },
  {
   "cell_type": "markdown",
   "metadata": {},
   "source": [
    "## Remove related"
   ]
  },
  {
   "cell_type": "code",
   "execution_count": 81,
   "metadata": {},
   "outputs": [
    {
     "data": {
      "text/plain": [
       "['/home/hv270/rds/rds-wja24-uk-biobank-gen/rel/']"
      ]
     },
     "execution_count": 81,
     "metadata": {},
     "output_type": "execute_result"
    }
   ],
   "source": [
    "glob('/home/hv270/rds/rds-wja24-uk-biobank-gen/rel/')"
   ]
  },
  {
   "cell_type": "code",
   "execution_count": 82,
   "metadata": {},
   "outputs": [],
   "source": []
  },
  {
   "cell_type": "code",
   "execution_count": 83,
   "metadata": {},
   "outputs": [
    {
     "name": "stdout",
     "output_type": "stream",
     "text": [
      "(384059, 247)\n"
     ]
    }
   ],
   "source": [
    "rel = pd.read_csv(\"/home/hv270/rds/rds-wja24-uk-biobank-gen/rel/ukb13745_rel_s488339.dat\",sep=\" \")\n",
    "people_to_remove = rel.loc[rel.Kinship < 0.0612].ID2.unique().tolist()\n",
    "ms = ms.loc[~ms.ID.isin(people_to_remove)]\n",
    "print(ms.shape)"
   ]
  },
  {
   "cell_type": "markdown",
   "metadata": {},
   "source": [
    "## Eventually remove non-europeans"
   ]
  },
  {
   "cell_type": "code",
   "execution_count": 84,
   "metadata": {},
   "outputs": [],
   "source": [
    "ms.loc[ms.ID.isin(european_individuals.FID.tolist())].shape\n",
    "ms = ms.loc[ms.ID.isin(european_individuals.FID.tolist())]"
   ]
  },
  {
   "cell_type": "code",
   "execution_count": 85,
   "metadata": {},
   "outputs": [
    {
     "data": {
      "text/plain": [
       "(409016, 1)"
      ]
     },
     "execution_count": 85,
     "metadata": {},
     "output_type": "execute_result"
    }
   ],
   "source": [
    "european_individuals.shape"
   ]
  },
  {
   "cell_type": "code",
   "execution_count": 87,
   "metadata": {},
   "outputs": [
    {
     "data": {
      "image/png": "[encoded data removed]",
      "text/plain": [
       "<Figure size 432x288 with 1 Axes>"
      ]
     },
     "metadata": {
      "needs_background": "light"
     },
     "output_type": "display_data"
    },
    {
     "data": {
      "image/png": "[encoded data removed]",
      "text/plain": [
       "<Figure size 432x288 with 1 Axes>"
      ]
     },
     "metadata": {
      "needs_background": "light"
     },
     "output_type": "display_data"
    }
   ],
   "source": [
    "from sklearn.linear_model import LinearRegression\n",
    "\n",
    "sys_cols = [\"score_PLT#\",\"score_PDW\",\"score_PCT\",\"score_MPV\"]\n",
    "\n",
    "for score_col in [\"score\",\"score_val\"]:\n",
    "    \n",
    "    lm = LinearRegression().fit(ms[sys_cols],ms[score_col])\n",
    "    score_pred = lm.predict(ms[sys_cols])\n",
    "\n",
    "    ms[\"adjusted_%s\" % score_col] = ms[score_col] - score_pred\n",
    "\n",
    "    plt.figure()\n",
    "    plt.scatter(ms[score_col], ms[\"adjusted_%s\" % score_col],s=.01)\n",
    "    plt.xlabel(\"Score\")\n",
    "    plt.ylabel(\"Score residual\")\n",
    "    plt.title(score_col)"
   ]
  },
  {
   "cell_type": "code",
   "execution_count": 88,
   "metadata": {},
   "outputs": [
    {
     "name": "stdout",
     "output_type": "stream",
     "text": [
      "Keeping 384059 cases\n",
      "Tails contain 128019 people each\n"
     ]
    }
   ],
   "source": [
    "print(\"Keeping %d cases\" % ms.shape[0])\n",
    "N = ms.shape[0]//3\n",
    "print(\"Tails contain %d people each\" % N)"
   ]
  },
  {
   "cell_type": "code",
   "execution_count": 91,
   "metadata": {},
   "outputs": [],
   "source": [
    "from scipy.stats import pearsonr, chisquare, binom_test\n",
    "def compare_top_bottom(ms,has_col,age_col=None,score_col=\"score\"):\n",
    "    \n",
    "    ms = ms.sort_values(by=score_col)\n",
    "    top = ms.iloc[-N:].ID.tolist()\n",
    "    bottom = ms.iloc[:N].ID.tolist()\n",
    "    \n",
    "    top_has = ms.loc[ms.ID.isin(top)][has_col]\n",
    "    bot_has = ms.loc[ms.ID.isin(bottom)][has_col]\n",
    "    score_has = ms.loc[ms[has_col],score_col]\n",
    "    score_hasnt = ms.loc[~ms[has_col],score_col]\n",
    "    n_top = top_has.sum()\n",
    "    n_bot = bot_has.sum()\n",
    "    \n",
    "    binom_p = binom_test(bot_has.sum(),len(bottom),ms.loc[ms.ID.isin(top),has_col].mean())\n",
    "    \n",
    "    t_p = ttest_ind(score_hasnt,score_has)[1]\n",
    "    return [n_top, n_bot, binom_p, t_p]"
   ]
  },
  {
   "cell_type": "code",
   "execution_count": 92,
   "metadata": {},
   "outputs": [],
   "source": [
    "dic = {}\n",
    "dfs = {}\n",
    "for score_col in [\"score\",\"score_val\",\"adjusted_score\",\"adjusted_score_val\"]:\n",
    "    for ph in [\"has_mi\",\"haemo\",\"arteriosclerosis\",\"haemorroids\",\"thrombosis\",\"has_VT\"]:\n",
    "        dic[ph] = compare_top_bottom(ms,ph,score_col=score_col)\n",
    "    dfs[score_col] = pd.DataFrame.from_dict(dic,orient=\"index\",columns=[\"# in top\",\"# in bottom\",\"binom test\",\"t-test\"])"
   ]
  },
  {
   "cell_type": "code",
   "execution_count": 93,
   "metadata": {},
   "outputs": [
    {
     "data": {
      "text/html": [
       "<div>\n",
       "<style scoped>\n",
       "    .dataframe tbody tr th:only-of-type {\n",
       "        vertical-align: middle;\n",
       "    }\n",
       "\n",
       "    .dataframe tbody tr th {\n",
       "        vertical-align: top;\n",
       "    }\n",
       "\n",
       "    .dataframe thead th {\n",
       "        text-align: right;\n",
       "    }\n",
       "</style>\n",
       "<table border=\"1\" class=\"dataframe\">\n",
       "  <thead>\n",
       "    <tr style=\"text-align: right;\">\n",
       "      <th></th>\n",
       "      <th># in top</th>\n",
       "      <th># in bottom</th>\n",
       "      <th>binom test</th>\n",
       "      <th>t-test</th>\n",
       "    </tr>\n",
       "  </thead>\n",
       "  <tbody>\n",
       "    <tr>\n",
       "      <th>has_mi</th>\n",
       "      <td>5331</td>\n",
       "      <td>4981</td>\n",
       "      <td>7.851492e-07</td>\n",
       "      <td>0.002880</td>\n",
       "    </tr>\n",
       "    <tr>\n",
       "      <th>haemo</th>\n",
       "      <td>509</td>\n",
       "      <td>569</td>\n",
       "      <td>8.761735e-03</td>\n",
       "      <td>0.154122</td>\n",
       "    </tr>\n",
       "    <tr>\n",
       "      <th>arteriosclerosis</th>\n",
       "      <td>9333</td>\n",
       "      <td>8966</td>\n",
       "      <td>7.442653e-05</td>\n",
       "      <td>0.012786</td>\n",
       "    </tr>\n",
       "    <tr>\n",
       "      <th>haemorroids</th>\n",
       "      <td>947</td>\n",
       "      <td>887</td>\n",
       "      <td>5.033199e-02</td>\n",
       "      <td>0.120829</td>\n",
       "    </tr>\n",
       "    <tr>\n",
       "      <th>thrombosis</th>\n",
       "      <td>1868</td>\n",
       "      <td>1796</td>\n",
       "      <td>9.558972e-02</td>\n",
       "      <td>0.038043</td>\n",
       "    </tr>\n",
       "    <tr>\n",
       "      <th>has_VT</th>\n",
       "      <td>2556</td>\n",
       "      <td>2423</td>\n",
       "      <td>7.642273e-03</td>\n",
       "      <td>0.073643</td>\n",
       "    </tr>\n",
       "  </tbody>\n",
       "</table>\n",
       "</div>"
      ],
      "text/plain": [
       "                  # in top  # in bottom    binom test    t-test\n",
       "has_mi                5331         4981  7.851492e-07  0.002880\n",
       "haemo                  509          569  8.761735e-03  0.154122\n",
       "arteriosclerosis      9333         8966  7.442653e-05  0.012786\n",
       "haemorroids            947          887  5.033199e-02  0.120829\n",
       "thrombosis            1868         1796  9.558972e-02  0.038043\n",
       "has_VT                2556         2423  7.642273e-03  0.073643"
      ]
     },
     "execution_count": 93,
     "metadata": {},
     "output_type": "execute_result"
    }
   ],
   "source": [
    "dfs[\"score\"]"
   ]
  },
  {
   "cell_type": "code",
   "execution_count": 94,
   "metadata": {},
   "outputs": [
    {
     "data": {
      "text/html": [
       "<div>\n",
       "<style scoped>\n",
       "    .dataframe tbody tr th:only-of-type {\n",
       "        vertical-align: middle;\n",
       "    }\n",
       "\n",
       "    .dataframe tbody tr th {\n",
       "        vertical-align: top;\n",
       "    }\n",
       "\n",
       "    .dataframe thead th {\n",
       "        text-align: right;\n",
       "    }\n",
       "</style>\n",
       "<table border=\"1\" class=\"dataframe\">\n",
       "  <thead>\n",
       "    <tr style=\"text-align: right;\">\n",
       "      <th></th>\n",
       "      <th># in top</th>\n",
       "      <th># in bottom</th>\n",
       "      <th>binom test</th>\n",
       "      <th>t-test</th>\n",
       "    </tr>\n",
       "  </thead>\n",
       "  <tbody>\n",
       "    <tr>\n",
       "      <th>has_mi</th>\n",
       "      <td>5313</td>\n",
       "      <td>5088</td>\n",
       "      <td>0.001540</td>\n",
       "      <td>0.033459</td>\n",
       "    </tr>\n",
       "    <tr>\n",
       "      <th>haemo</th>\n",
       "      <td>549</td>\n",
       "      <td>524</td>\n",
       "      <td>0.294650</td>\n",
       "      <td>0.413411</td>\n",
       "    </tr>\n",
       "    <tr>\n",
       "      <th>arteriosclerosis</th>\n",
       "      <td>9320</td>\n",
       "      <td>9121</td>\n",
       "      <td>0.032295</td>\n",
       "      <td>0.150670</td>\n",
       "    </tr>\n",
       "    <tr>\n",
       "      <th>haemorroids</th>\n",
       "      <td>942</td>\n",
       "      <td>884</td>\n",
       "      <td>0.057850</td>\n",
       "      <td>0.052327</td>\n",
       "    </tr>\n",
       "    <tr>\n",
       "      <th>thrombosis</th>\n",
       "      <td>1869</td>\n",
       "      <td>1808</td>\n",
       "      <td>0.158591</td>\n",
       "      <td>0.175675</td>\n",
       "    </tr>\n",
       "    <tr>\n",
       "      <th>has_VT</th>\n",
       "      <td>2581</td>\n",
       "      <td>2458</td>\n",
       "      <td>0.014444</td>\n",
       "      <td>0.016513</td>\n",
       "    </tr>\n",
       "  </tbody>\n",
       "</table>\n",
       "</div>"
      ],
      "text/plain": [
       "                  # in top  # in bottom  binom test    t-test\n",
       "has_mi                5313         5088    0.001540  0.033459\n",
       "haemo                  549          524    0.294650  0.413411\n",
       "arteriosclerosis      9320         9121    0.032295  0.150670\n",
       "haemorroids            942          884    0.057850  0.052327\n",
       "thrombosis            1869         1808    0.158591  0.175675\n",
       "has_VT                2581         2458    0.014444  0.016513"
      ]
     },
     "execution_count": 94,
     "metadata": {},
     "output_type": "execute_result"
    }
   ],
   "source": [
    "dfs[\"adjusted_score\"]"
   ]
  },
  {
   "cell_type": "code",
   "execution_count": 95,
   "metadata": {},
   "outputs": [
    {
     "data": {
      "text/html": [
       "<div>\n",
       "<style scoped>\n",
       "    .dataframe tbody tr th:only-of-type {\n",
       "        vertical-align: middle;\n",
       "    }\n",
       "\n",
       "    .dataframe tbody tr th {\n",
       "        vertical-align: top;\n",
       "    }\n",
       "\n",
       "    .dataframe thead th {\n",
       "        text-align: right;\n",
       "    }\n",
       "</style>\n",
       "<table border=\"1\" class=\"dataframe\">\n",
       "  <thead>\n",
       "    <tr style=\"text-align: right;\">\n",
       "      <th></th>\n",
       "      <th># in top</th>\n",
       "      <th># in bottom</th>\n",
       "      <th>binom test</th>\n",
       "      <th>t-test</th>\n",
       "    </tr>\n",
       "  </thead>\n",
       "  <tbody>\n",
       "    <tr>\n",
       "      <th>has_mi</th>\n",
       "      <td>5303</td>\n",
       "      <td>5033</td>\n",
       "      <td>0.000140</td>\n",
       "      <td>0.004096</td>\n",
       "    </tr>\n",
       "    <tr>\n",
       "      <th>haemo</th>\n",
       "      <td>529</td>\n",
       "      <td>547</td>\n",
       "      <td>0.432831</td>\n",
       "      <td>0.899225</td>\n",
       "    </tr>\n",
       "    <tr>\n",
       "      <th>arteriosclerosis</th>\n",
       "      <td>9225</td>\n",
       "      <td>9033</td>\n",
       "      <td>0.037967</td>\n",
       "      <td>0.085286</td>\n",
       "    </tr>\n",
       "    <tr>\n",
       "      <th>haemorroids</th>\n",
       "      <td>945</td>\n",
       "      <td>916</td>\n",
       "      <td>0.352073</td>\n",
       "      <td>0.188122</td>\n",
       "    </tr>\n",
       "    <tr>\n",
       "      <th>thrombosis</th>\n",
       "      <td>1835</td>\n",
       "      <td>1783</td>\n",
       "      <td>0.225899</td>\n",
       "      <td>0.066684</td>\n",
       "    </tr>\n",
       "    <tr>\n",
       "      <th>has_VT</th>\n",
       "      <td>2466</td>\n",
       "      <td>2514</td>\n",
       "      <td>0.329029</td>\n",
       "      <td>0.907926</td>\n",
       "    </tr>\n",
       "  </tbody>\n",
       "</table>\n",
       "</div>"
      ],
      "text/plain": [
       "                  # in top  # in bottom  binom test    t-test\n",
       "has_mi                5303         5033    0.000140  0.004096\n",
       "haemo                  529          547    0.432831  0.899225\n",
       "arteriosclerosis      9225         9033    0.037967  0.085286\n",
       "haemorroids            945          916    0.352073  0.188122\n",
       "thrombosis            1835         1783    0.225899  0.066684\n",
       "has_VT                2466         2514    0.329029  0.907926"
      ]
     },
     "execution_count": 95,
     "metadata": {},
     "output_type": "execute_result"
    }
   ],
   "source": [
    "dfs[\"score_val\"]"
   ]
  },
  {
   "cell_type": "code",
   "execution_count": 96,
   "metadata": {},
   "outputs": [
    {
     "data": {
      "text/html": [
       "<div>\n",
       "<style scoped>\n",
       "    .dataframe tbody tr th:only-of-type {\n",
       "        vertical-align: middle;\n",
       "    }\n",
       "\n",
       "    .dataframe tbody tr th {\n",
       "        vertical-align: top;\n",
       "    }\n",
       "\n",
       "    .dataframe thead th {\n",
       "        text-align: right;\n",
       "    }\n",
       "</style>\n",
       "<table border=\"1\" class=\"dataframe\">\n",
       "  <thead>\n",
       "    <tr style=\"text-align: right;\">\n",
       "      <th></th>\n",
       "      <th># in top</th>\n",
       "      <th># in bottom</th>\n",
       "      <th>binom test</th>\n",
       "      <th>t-test</th>\n",
       "    </tr>\n",
       "  </thead>\n",
       "  <tbody>\n",
       "    <tr>\n",
       "      <th>has_mi</th>\n",
       "      <td>5271</td>\n",
       "      <td>5044</td>\n",
       "      <td>0.001340</td>\n",
       "      <td>0.011792</td>\n",
       "    </tr>\n",
       "    <tr>\n",
       "      <th>haemo</th>\n",
       "      <td>543</td>\n",
       "      <td>532</td>\n",
       "      <td>0.651602</td>\n",
       "      <td>0.334137</td>\n",
       "    </tr>\n",
       "    <tr>\n",
       "      <th>arteriosclerosis</th>\n",
       "      <td>9179</td>\n",
       "      <td>9079</td>\n",
       "      <td>0.281073</td>\n",
       "      <td>0.186502</td>\n",
       "    </tr>\n",
       "    <tr>\n",
       "      <th>haemorroids</th>\n",
       "      <td>952</td>\n",
       "      <td>910</td>\n",
       "      <td>0.176959</td>\n",
       "      <td>0.173401</td>\n",
       "    </tr>\n",
       "    <tr>\n",
       "      <th>thrombosis</th>\n",
       "      <td>1846</td>\n",
       "      <td>1800</td>\n",
       "      <td>0.286087</td>\n",
       "      <td>0.112546</td>\n",
       "    </tr>\n",
       "    <tr>\n",
       "      <th>has_VT</th>\n",
       "      <td>2502</td>\n",
       "      <td>2512</td>\n",
       "      <td>0.839988</td>\n",
       "      <td>0.843689</td>\n",
       "    </tr>\n",
       "  </tbody>\n",
       "</table>\n",
       "</div>"
      ],
      "text/plain": [
       "                  # in top  # in bottom  binom test    t-test\n",
       "has_mi                5271         5044    0.001340  0.011792\n",
       "haemo                  543          532    0.651602  0.334137\n",
       "arteriosclerosis      9179         9079    0.281073  0.186502\n",
       "haemorroids            952          910    0.176959  0.173401\n",
       "thrombosis            1846         1800    0.286087  0.112546\n",
       "has_VT                2502         2512    0.839988  0.843689"
      ]
     },
     "execution_count": 96,
     "metadata": {},
     "output_type": "execute_result"
    }
   ],
   "source": [
    "dfs[\"adjusted_score_val\"]"
   ]
  },
  {
   "cell_type": "markdown",
   "metadata": {},
   "source": [
    "## P-values by likelihoods comparison"
   ]
  },
  {
   "cell_type": "code",
   "execution_count": 100,
   "metadata": {},
   "outputs": [],
   "source": [
    "from sklearn.linear_model import LogisticRegression"
   ]
  },
  {
   "cell_type": "code",
   "execution_count": 113,
   "metadata": {},
   "outputs": [],
   "source": [
    "X_sys = ms[sys_cols].values\n",
    "X_all = ms[sys_cols+[\"adjusted_score_val\"]].values\n",
    "X_sys -= X_sys.mean(axis=0)\n",
    "X_sys /= X_sys.std(axis=0)\n",
    "X_all -= X_all.mean(axis=0)\n",
    "X_all /= X_all.std(axis=0)\n"
   ]
  },
  {
   "cell_type": "code",
   "execution_count": 114,
   "metadata": {},
   "outputs": [],
   "source": [
    "def likelihood(lr,X,y):\n",
    "    lp = lr.predict_log_proba(X)\n",
    "    return np.sum(lp[y == 0,0]) + np.sum(lp[y == 1,1])"
   ]
  },
  {
   "cell_type": "code",
   "execution_count": 126,
   "metadata": {},
   "outputs": [],
   "source": [
    "y = ms.has_mi*1\n",
    "lr_sys = LogisticRegression(solver=\"lbfgs\")\n",
    "lr_sys.fit(X_sys,y)\n",
    "lr_all = LogisticRegression(solver=\"lbfgs\")\n",
    "lr_all.fit(X_all,y)\n",
    "pass"
   ]
  },
  {
   "cell_type": "code",
   "execution_count": 127,
   "metadata": {},
   "outputs": [],
   "source": [
    "p = np.stack([np.mean(y)*np.ones(y.shape[0]),(1-np.mean(y))*np.ones(y.shape[0])]).T\n",
    "null_log_proba = y.sum()*np.log(y.mean()) + (y.shape[0]-y.sum())*np.log(1-y.mean())"
   ]
  },
  {
   "cell_type": "code",
   "execution_count": 128,
   "metadata": {},
   "outputs": [
    {
     "data": {
      "text/plain": [
       "-64911.89606743929"
      ]
     },
     "execution_count": 128,
     "metadata": {},
     "output_type": "execute_result"
    }
   ],
   "source": [
    "null_log_proba"
   ]
  },
  {
   "cell_type": "code",
   "execution_count": 129,
   "metadata": {},
   "outputs": [
    {
     "name": "stdout",
     "output_type": "stream",
     "text": [
      "-6.339434704073938\n"
     ]
    }
   ],
   "source": [
    "delta_D = 2*(likelihood(lr_sys,X_sys,y) - likelihood(lr_all,X_all,y))\n",
    "print(delta_D)"
   ]
  },
  {
   "cell_type": "code",
   "execution_count": 130,
   "metadata": {},
   "outputs": [
    {
     "data": {
      "text/plain": [
       "0.011808250837192485"
      ]
     },
     "execution_count": 130,
     "metadata": {},
     "output_type": "execute_result"
    }
   ],
   "source": [
    "from scipy.stats import chi2\n",
    "chi2.sf(-delta_D,1)"
   ]
  },
  {
   "cell_type": "markdown",
   "metadata": {},
   "source": [
    "When to start \n",
    "Include PCT, PLT etc as covariates, worry about the date\n",
    "MI : use those which happened after the PLT measurement\n",
    "Include Sysmex genetic scores from paper (link from Will)\n",
    "Mendelian Randomization : correlation between genetic score of risk factor and phenotype"
   ]
  },
  {
   "cell_type": "markdown",
   "metadata": {},
   "source": [
    "# Survival analysis"
   ]
  },
  {
   "cell_type": "code",
   "execution_count": 131,
   "metadata": {},
   "outputs": [],
   "source": [
    "from lifelines import KaplanMeierFitter\n",
    "from datetime import datetime"
   ]
  },
  {
   "cell_type": "code",
   "execution_count": 132,
   "metadata": {},
   "outputs": [],
   "source": [
    "X = ms.copy()\n",
    "X = X.loc[~X.BIRTH.isnull()]\n",
    "X[\"AGE\"] = datetime.now() - X[\"BIRTH\"]"
   ]
  },
  {
   "cell_type": "code",
   "execution_count": 133,
   "metadata": {},
   "outputs": [],
   "source": [
    "# Should these be removed from the other analysis ?\n",
    "X[\"DEATH_AGE\"].fillna(1000,inplace=True)\n",
    "X[\"MI_AGE\"].fillna(1000,inplace=True)\n",
    "X[\"HIGH_BP_AGE\"].fillna(1000,inplace=True)\n",
    "X[\"VT_AGE\"].fillna(1000,inplace=True)"
   ]
  },
  {
   "cell_type": "code",
   "execution_count": 139,
   "metadata": {},
   "outputs": [
    {
     "data": {
      "text/html": [
       "<div>\n",
       "<style scoped>\n",
       "    .dataframe tbody tr th:only-of-type {\n",
       "        vertical-align: middle;\n",
       "    }\n",
       "\n",
       "    .dataframe tbody tr th {\n",
       "        vertical-align: top;\n",
       "    }\n",
       "\n",
       "    .dataframe thead th {\n",
       "        text-align: right;\n",
       "    }\n",
       "</style>\n",
       "<table border=\"1\" class=\"dataframe\">\n",
       "  <tbody>\n",
       "    <tr>\n",
       "      <th>t_0</th>\n",
       "      <td>-1</td>\n",
       "    </tr>\n",
       "    <tr>\n",
       "      <th>null_distribution</th>\n",
       "      <td>chi squared</td>\n",
       "    </tr>\n",
       "    <tr>\n",
       "      <th>degrees_of_freedom</th>\n",
       "      <td>1</td>\n",
       "    </tr>\n",
       "    <tr>\n",
       "      <th>alpha</th>\n",
       "      <td>0.99</td>\n",
       "    </tr>\n",
       "    <tr>\n",
       "      <th>test_name</th>\n",
       "      <td>logrank_test</td>\n",
       "    </tr>\n",
       "  </tbody>\n",
       "</table>\n",
       "</div><table border=\"1\" class=\"dataframe\">\n",
       "  <thead>\n",
       "    <tr style=\"text-align: right;\">\n",
       "      <th></th>\n",
       "      <th>test_statistic</th>\n",
       "      <th>p</th>\n",
       "      <th>-log2(p)</th>\n",
       "    </tr>\n",
       "  </thead>\n",
       "  <tbody>\n",
       "    <tr>\n",
       "      <th>0</th>\n",
       "      <td>8.93</td>\n",
       "      <td>&lt;0.005</td>\n",
       "      <td>8.47</td>\n",
       "    </tr>\n",
       "  </tbody>\n",
       "</table>"
      ],
      "text/latex": [
       "\\begin{tabular}{lrrr}\n",
       "\\toprule\n",
       "{} &  test\\_statistic &         p &  -log2(p) \\\\\n",
       "\\midrule\n",
       "0 &        8.925042 &  0.002813 &  8.473742 \\\\\n",
       "\\bottomrule\n",
       "\\end{tabular}\n"
      ],
      "text/plain": [
       "<lifelines.StatisticalResult: logrank_test>\n",
       "               t_0 = -1\n",
       " null_distribution = chi squared\n",
       "degrees_of_freedom = 1\n",
       "             alpha = 0.99\n",
       "         test_name = logrank_test\n",
       "\n",
       "---\n",
       " test_statistic      p  -log2(p)\n",
       "           8.93 <0.005      8.47"
      ]
     },
     "metadata": {},
     "output_type": "display_data"
    },
    {
     "data": {
      "image/png": "[encoded data removed]",
      "text/plain": [
       "<Figure size 432x288 with 1 Axes>"
      ]
     },
     "metadata": {
      "needs_background": "light"
     },
     "output_type": "display_data"
    }
   ],
   "source": [
    "score_col = \"adjusted_score\"\n",
    "\n",
    "pheno = \"has_mi\"\n",
    "age_col = \"MI_AGE\"\n",
    "\n",
    "#pheno = \"has_hbp\"\n",
    "#age_col = \"HIGH_BP_AGE\"\n",
    "\n",
    "#pheno = \"has_stroke\"\n",
    "#age_col = \"STROKE_AGE\"\n",
    "\n",
    "#pheno = \"has_VT\"\n",
    "#age_col = \"VT_AGE\"\n",
    "\n",
    "X[\"min_T\"] = X[\"AGE\"]\n",
    "X.loc[X[\"min_T\"] > X[\"DEATH_AGE\"],\"min_T\"] = X.loc[X[\"min_T\"] > X[\"DEATH_AGE\"],\"DEATH_AGE\"]\n",
    "X.loc[X[\"min_T\"] > X[age_col],\"min_T\"] = X.loc[X[\"min_T\"] > X[age_col],age_col]\n",
    "\n",
    "N = ms.shape[0] // 5\n",
    "X = X.sort_values(by=score_col)\n",
    "top = X.iloc[-N:].ID.tolist()\n",
    "bottom = X.iloc[:N].ID.tolist()\n",
    "km = KaplanMeierFitter()\n",
    "km.fit(X.loc[X.ID.isin(top)].min_T,event_observed=1*X.loc[X.ID.isin(top),pheno],label='Top 20%',timeline=range(30, 75, 1))\n",
    "ax = km.plot()\n",
    "km.fit(X.loc[X.ID.isin(bottom)].min_T,event_observed=1*X.loc[X.ID.isin(bottom),pheno],label=\"Bottom 20%\",timeline=range(30, 75, 1))\n",
    "km.plot(ax=ax)\n",
    "\n",
    "results = logrank_test(X.loc[X.ID.isin(top)].min_T, \n",
    "                       X.loc[X.ID.isin(bottom)].min_T, \n",
    "                       1*X.loc[X.ID.isin(top),pheno], \n",
    "                       1*X.loc[X.ID.isin(bottom),pheno], alpha=.99)\n",
    "\n",
    "results.print_summary()"
   ]
  },
  {
   "cell_type": "code",
   "execution_count": null,
   "metadata": {},
   "outputs": [],
   "source": []
  }
 ],
 "metadata": {
  "kernelspec": {
   "display_name": "Python 3",
   "language": "python",
   "name": "python3"
  },
  "language_info": {
   "codemirror_mode": {
    "name": "ipython",
    "version": 3
   },
   "file_extension": ".py",
   "mimetype": "text/x-python",
   "name": "python",
   "nbconvert_exporter": "python",
   "pygments_lexer": "ipython3",
   "version": "3.7.3"
  },
  "toc": {
   "base_numbering": 1,
   "nav_menu": {},
   "number_sections": true,
   "sideBar": true,
   "skip_h1_title": false,
   "title_cell": "Table of Contents",
   "title_sidebar": "Contents",
   "toc_cell": false,
   "toc_position": {
    "height": "calc(100% - 180px)",
    "left": "10px",
    "top": "150px",
    "width": "165px"
   },
   "toc_section_display": true,
   "toc_window_display": true
  }
 },
 "nbformat": 4,
 "nbformat_minor": 2
}
