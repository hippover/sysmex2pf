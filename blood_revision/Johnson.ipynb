{
 "cells": [
  {
   "cell_type": "code",
   "execution_count": 1,
   "metadata": {},
   "outputs": [],
   "source": [
    "import pandas as pd\n",
    "import numpy as np\n",
    "from glob import glob\n",
    "from proxy_finder import find_proxies"
   ]
  },
  {
   "cell_type": "code",
   "execution_count": 2,
   "metadata": {},
   "outputs": [
    {
     "name": "stdout",
     "output_type": "stream",
     "text": [
      "57 files\n"
     ]
    }
   ],
   "source": [
    "j_files = glob(\"johnson_data/*.txt\")\n",
    "print(\"%d files\" % len(j_files))"
   ]
  },
  {
   "cell_type": "code",
   "execution_count": 3,
   "metadata": {},
   "outputs": [],
   "source": [
    "dfs = []\n",
    "for p in j_files:\n",
    "    with open(p,\"r\") as f:\n",
    "        name = None\n",
    "        for i, line in enumerate(f.readlines()):\n",
    "            if \"# Name:\" in line:\n",
    "                name = line.strip()\n",
    "            if \"ID\" == line[:2]:\n",
    "                break\n",
    "    df = pd.read_csv(p,skiprows=i,sep=\"\\t\")\n",
    "    df[\"analysis\"] = name\n",
    "    dfs.append(df)\n",
    "df = pd.concat(dfs,ignore_index=True)"
   ]
  },
  {
   "cell_type": "code",
   "execution_count": 4,
   "metadata": {},
   "outputs": [],
   "source": [
    "hippo_results = pd.read_csv(\"ST3_Verdier2023.csv\")\n",
    "hippo_results.loc[(hippo_results[\"Chr\"] == 6) & (hippo_results[\"Position\"] == 31322694),\"Position\"] = 31323065\n",
    "hippo_results.loc[(hippo_results[\"Chr\"] == 15) & (hippo_results[\"Position\"] == 65160392),\"Position\"] = 65164845"
   ]
  },
  {
   "cell_type": "code",
   "execution_count": 5,
   "metadata": {},
   "outputs": [
    {
     "data": {
      "text/plain": [
       "0         1145793.0\n",
       "1         3974436.0\n",
       "2         5282985.0\n",
       "3         4034290.0\n",
       "4         5799568.0\n",
       "            ...    \n",
       "619760          NaN\n",
       "619761          NaN\n",
       "619762          NaN\n",
       "619763          NaN\n",
       "619764          NaN\n",
       "Name: Chr Position, Length: 619765, dtype: float64"
      ]
     },
     "execution_count": 5,
     "metadata": {},
     "output_type": "execute_result"
    }
   ],
   "source": [
    "df[\"Chr Position\"].astype(int,errors=\"ignore\")"
   ]
  },
  {
   "cell_type": "code",
   "execution_count": 6,
   "metadata": {},
   "outputs": [],
   "source": [
    "df[\"POS\"]= \"chr\" + df[\"Chr ID\"].astype(int,errors=\"ignore\").astype(str) + \":\" + df[\"Chr Position\"].fillna(0).astype(int,errors=\"ignore\").astype(str)"
   ]
  },
  {
   "cell_type": "code",
   "execution_count": 7,
   "metadata": {},
   "outputs": [],
   "source": [
    "hippo_results[\"POS\"] = \"chr\" + hippo_results[\"Chr\"].astype(int,errors=\"ignore\").astype(str) + \":\" + hippo_results[\"Position\"].astype(int,errors=\"ignore\").astype(str)"
   ]
  },
  {
   "cell_type": "code",
   "execution_count": 8,
   "metadata": {},
   "outputs": [
    {
     "data": {
      "text/plain": [
       "0"
      ]
     },
     "execution_count": 8,
     "metadata": {},
     "output_type": "execute_result"
    }
   ],
   "source": [
    "hippo_results.POS.isin(df[\"POS\"].unique().tolist()).sum()"
   ]
  },
  {
   "cell_type": "code",
   "execution_count": 9,
   "metadata": {},
   "outputs": [],
   "source": [
    "valid_rsIDs = df.loc[~df[\"SNP ID\"].isnull() & (df[\"SNP ID\"] != \".\"),\"SNP ID\"].unique().tolist()"
   ]
  },
  {
   "cell_type": "code",
   "execution_count": 10,
   "metadata": {},
   "outputs": [],
   "source": [
    "hippo_SNPs = ['rs12566888',\n",
    " 'rs1434282',\n",
    " 'rs41315846',\n",
    " 'rs13412535',\n",
    " 'rs78909033',\n",
    " 'rs1354034',\n",
    " 'rs13067286',\n",
    " 'rs76445378',\n",
    " 'rs922140',\n",
    " 'rs3819288',\n",
    " 'rs17881225',\n",
    " 'rs55665228',\n",
    " 'rs61751937',\n",
    " 'rs10886430',\n",
    " 'rs7123827',\n",
    " 'rs11553699',\n",
    " 'rs61978213',\n",
    " 'rs59001897',\n",
    " 'rs12905925',\n",
    " 'rs8057254',\n",
    " 'rs12445050',\n",
    " 'rs11078475',\n",
    " 'rs1654425']"
   ]
  },
  {
   "cell_type": "code",
   "execution_count": 11,
   "metadata": {},
   "outputs": [
    {
     "name": "stdout",
     "output_type": "stream",
     "text": [
      "0 (0) / 23\n",
      "Sending request for rs12905925...\n",
      "No proxy for rs12905925\n",
      "1 (1) / 23\n",
      "Sending request for rs1654425...\n",
      "Found proxy for rs1654425 : rs1654425\n",
      "2 (2) / 23\n",
      "Sending request for rs11553699...\n",
      "No proxy for rs11553699\n",
      "3 (3) / 23\n",
      "Sending request for rs13067286...\n",
      "No proxy for rs13067286\n",
      "4 (4) / 23\n",
      "Sending request for rs8057254...\n",
      "No proxy for rs8057254\n",
      "5 (5) / 23\n",
      "Sending request for rs12445050...\n",
      "No proxy for rs12445050\n",
      "6 (6) / 23\n",
      "Sending request for rs61751937...\n",
      "Found proxy for rs61751937 : rs61751937\n",
      "7 (7) / 23\n",
      "Sending request for rs10886430...\n",
      "No proxy for rs10886430\n",
      "8 (8) / 23\n",
      "Sending request for rs17881225...\n",
      "No proxy for rs17881225\n",
      "9 (9) / 23\n",
      "Sending request for rs922140...\n",
      "No proxy for rs922140\n",
      "10 (10) / 23\n",
      "Sending request for rs7123827...\n",
      "No proxy for rs7123827\n",
      "11 (11) / 23\n",
      "Sending request for rs76445378...\n",
      "No proxy for rs76445378\n",
      "12 (12) / 23\n",
      "Sending request for rs1354034...\n",
      "Found proxy for rs1354034 : rs1354034\n",
      "13 (13) / 23\n",
      "Sending request for rs41315846...\n",
      "No proxy for rs41315846\n",
      "14 (14) / 23\n",
      "Sending request for rs13412535...\n",
      "No proxy for rs13412535\n",
      "15 (15) / 23\n",
      "Sending request for rs55665228...\n",
      "No proxy for rs55665228\n",
      "16 (16) / 23\n",
      "Sending request for rs1434282...\n",
      "Found proxy for rs1434282 : rs17625587\n",
      "17 (17) / 23\n",
      "Sending request for rs59001897...\n",
      "No proxy for rs59001897\n",
      "18 (18) / 23\n",
      "Sending request for rs11078475...\n",
      "No proxy for rs11078475\n",
      "19 (19) / 23\n",
      "Sending request for rs61978213...\n",
      "No proxy for rs61978213\n",
      "20 (20) / 23\n",
      "Sending request for rs12566888...\n",
      "Found proxy for rs12566888 : rs12566888\n",
      "21 (21) / 23\n",
      "Sending request for rs3819288...\n",
      "No proxy for rs3819288\n",
      "22 (22) / 23\n",
      "Sending request for rs78909033...\n",
      "No proxy for rs78909033\n"
     ]
    }
   ],
   "source": [
    "proxies = find_proxies(missing_rsIDs=hippo_SNPs,\n",
    "             LDLink_API_token = \"14ad36e8238c\",\n",
    "             proxies_json_path=\"johnson_proxies.json\",\n",
    "             valid_coords=df[\"POS\"].unique().tolist(),\n",
    "             valid_rsIDs=valid_rsIDs)"
   ]
  },
  {
   "cell_type": "code",
   "execution_count": 12,
   "metadata": {},
   "outputs": [
    {
     "data": {
      "text/plain": [
       "23"
      ]
     },
     "execution_count": 12,
     "metadata": {},
     "output_type": "execute_result"
    }
   ],
   "source": [
    "len(proxies)"
   ]
  },
  {
   "cell_type": "code",
   "execution_count": 13,
   "metadata": {},
   "outputs": [
    {
     "data": {
      "text/plain": [
       "{'rs12905925': {'error': 'No proxy found'},\n",
       " 'rs1654425': {'rsID': 'rs1654425', 'coords': 'chr19:55538980'},\n",
       " 'rs11553699': {'error': 'No proxy found'},\n",
       " 'rs13067286': {'error': 'No proxy found'},\n",
       " 'rs8057254': {'error': 'No proxy found'},\n",
       " 'rs12445050': {'error': 'No proxy found'},\n",
       " 'rs61751937': {'rsID': 'rs61751937', 'coords': 'chr9:113312231'},\n",
       " 'rs10886430': {'error': 'No proxy found'},\n",
       " 'rs17881225': {'error': 'No proxy found'},\n",
       " 'rs922140': {'error': 'No proxy found'},\n",
       " 'rs7123827': {'error': 'No proxy found'},\n",
       " 'rs76445378': {'error': 'No proxy found'},\n",
       " 'rs1354034': {'rsID': 'rs1354034', 'coords': 'chr3:56849749'},\n",
       " 'rs41315846': {'error': 'No proxy found'},\n",
       " 'rs13412535': {'error': 'No proxy found'},\n",
       " 'rs55665228': {'error': 'No proxy found'},\n",
       " 'rs1434282': {'rsID': 'rs17625587', 'coords': 'chr1:198990494'},\n",
       " 'rs59001897': {'error': 'No proxy found'},\n",
       " 'rs11078475': {'error': 'No proxy found'},\n",
       " 'rs61978213': {'error': 'No proxy found'},\n",
       " 'rs12566888': {'rsID': 'rs12566888', 'coords': 'chr1:156869047'},\n",
       " 'rs3819288': {'error': 'No proxy found'},\n",
       " 'rs78909033': {'error': 'No proxy found'}}"
      ]
     },
     "execution_count": 13,
     "metadata": {},
     "output_type": "execute_result"
    }
   ],
   "source": [
    "proxies"
   ]
  },
  {
   "cell_type": "code",
   "execution_count": 17,
   "metadata": {},
   "outputs": [
    {
     "data": {
      "text/plain": [
       "['# Name:\\twbc_eosin',\n",
       " '# Name:\\trbc_mchc',\n",
       " '# Name:\\trbc_mch',\n",
       " '# Name:\\trbc_mcv',\n",
       " '# Name:\\trbc_hct',\n",
       " '# Name:\\trbc_rdw',\n",
       " '# Name:\\trbc_hgb',\n",
       " '# Name:\\trbc_rbc',\n",
       " '# Name:\\tplatelet_agg_adp_high2',\n",
       " '# Name:\\twbc_monos',\n",
       " '# Name:\\tplatelet_agg_epi_low1',\n",
       " '# Name:\\tplatelet_agg_epi_high3',\n",
       " '# Name:\\twbc_lymphs',\n",
       " '# Name:\\tplatelet_agg_adp_high3',\n",
       " '# Name:\\tplatelet_agg_adp_high1',\n",
       " '# Name:\\twbc_neutro',\n",
       " '# Name:\\twbc_wbc',\n",
       " '# Name:\\tVTE_sec',\n",
       " '# Name:\\tVTE_pri',\n",
       " '# Name:\\ttelomere_Asian',\n",
       " '# Name:\\ttelomere_Euro',\n",
       " '# Name:\\ttelomere_Afri',\n",
       " '# Name:\\ttelomere_length',\n",
       " '# Name:\\ttelomere_All',\n",
       " '# Name:\\ttelomere_Hisp',\n",
       " '# Name:\\tChildhood asthma',\n",
       " '# Name:\\tplatelet_agg_adp_low1',\n",
       " '# Name:\\tplatelet_agg_epi_low4',\n",
       " '# Name:\\tplatelet_agg_epi_high1',\n",
       " '# Name:\\thematopoiesis',\n",
       " '# Name:\\tplatelet_agg_epi_high2',\n",
       " '# Name:\\tplatelet_agg_epi_low5',\n",
       " '# Name:\\tplatelet_agg_adp_high4',\n",
       " '# Name:\\tVTE_EA',\n",
       " '# Name:\\tplatelet_agg_col_low2',\n",
       " '# Name:\\tplatelet_agg_epi_low3',\n",
       " '# Name:\\tplatelet_agg_epi_low2',\n",
       " '# Name:\\tplatelet_agg_col_low1',\n",
       " '# Name:\\tVTE_AA',\n",
       " '# Name:\\tPACER',\n",
       " '# Name:\\tVTE_Multi',\n",
       " '# Name:\\tplatelet_agg_adp_low2',\n",
       " '# Name:\\tplatelet_agg_adp_low3',\n",
       " '# Name:\\tVTE_Muti_Cond',\n",
       " '# Name:\\tplatelet_agg_col_high2',\n",
       " '# Name:\\tplatelet_agg_col_high1']"
      ]
     },
     "execution_count": 17,
     "metadata": {},
     "output_type": "execute_result"
    }
   ],
   "source": [
    "df[\"analysis\"].unique().tolist()"
   ]
  },
  {
   "cell_type": "code",
   "execution_count": 19,
   "metadata": {},
   "outputs": [
    {
     "data": {
      "text/plain": [
       "0.000299999229271"
      ]
     },
     "execution_count": 19,
     "metadata": {},
     "output_type": "execute_result"
    }
   ],
   "source": [
    "df.loc[df[\"analysis\"].str.contains(\"platelet_agg\"),\"P-value\"].max()"
   ]
  },
  {
   "cell_type": "code",
   "execution_count": 15,
   "metadata": {},
   "outputs": [
    {
     "data": {
      "text/plain": [
       "0.999998646233761"
      ]
     },
     "execution_count": 15,
     "metadata": {},
     "output_type": "execute_result"
    }
   ],
   "source": [
    "df[\"P-value\"].amax()"
   ]
  },
  {
   "cell_type": "code",
   "execution_count": null,
   "metadata": {},
   "outputs": [],
   "source": []
  }
 ],
 "metadata": {
  "kernelspec": {
   "display_name": "sound",
   "language": "python",
   "name": "python3"
  },
  "language_info": {
   "codemirror_mode": {
    "name": "ipython",
    "version": 3
   },
   "file_extension": ".py",
   "mimetype": "text/x-python",
   "name": "python",
   "nbconvert_exporter": "python",
   "pygments_lexer": "ipython3",
   "version": "3.9.16"
  },
  "orig_nbformat": 4
 },
 "nbformat": 4,
 "nbformat_minor": 2
}
