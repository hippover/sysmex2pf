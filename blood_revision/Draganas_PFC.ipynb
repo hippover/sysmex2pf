{
 "cells": [
  {
   "cell_type": "code",
   "execution_count": 1,
   "metadata": {},
   "outputs": [],
   "source": [
    "import pandas as pd\n",
    "import numpy as np\n",
    "import requests\n",
    "from io import StringIO\n",
    "import json\n",
    "import matplotlib.pyplot as plt\n",
    "import os\n",
    "import random"
   ]
  },
  {
   "cell_type": "code",
   "execution_count": 2,
   "metadata": {},
   "outputs": [],
   "source": [
    "#agonist = \"ADP_META\"\n",
    "agonists = [\"ADP_META\",\"CRP\",\"PAR1\",\"PAR4\"]\n",
    "\n",
    "pfcs = []\n",
    "for ago in agonists:\n",
    "    pfc = pd.read_csv(\"pfc_results/%s.tsv\" % ago,sep=\"\\t\",usecols=[\"RSID\",\"MLOG10P\",\"AAF\"])\n",
    "    pfc = pfc.loc[pfc.AAF > 0.01]\n",
    "    pfc = pfc.sort_values(\"MLOG10P\",ascending=False)\n",
    "    pfc[\"agonist\"] = ago\n",
    "    pfc[\"hit_rank\"] = np.arange(pfc.shape[0])\n",
    "    pfcs.append(pfc)\n",
    "pfc = pd.concat(pfcs,axis=0)"
   ]
  },
  {
   "cell_type": "code",
   "execution_count": 3,
   "metadata": {},
   "outputs": [],
   "source": [
    "pfc = pfc.groupby(\"RSID\").agg({\"MLOG10P\":\"max\",\"AAF\":\"median\"}).reset_index()"
   ]
  },
  {
   "cell_type": "code",
   "execution_count": 4,
   "metadata": {},
   "outputs": [],
   "source": [
    "pfc_snps = pfc.RSID.unique().tolist()\n",
    "pfc_snps = [s for s in pfc_snps if s != \".\"]"
   ]
  },
  {
   "cell_type": "code",
   "execution_count": 5,
   "metadata": {},
   "outputs": [],
   "source": [
    "draganas_gwas = pd.read_excel(\"draganas_gwas.xlsx\")"
   ]
  },
  {
   "cell_type": "code",
   "execution_count": 6,
   "metadata": {},
   "outputs": [
    {
     "data": {
      "text/html": [
       "<div>\n",
       "<style scoped>\n",
       "    .dataframe tbody tr th:only-of-type {\n",
       "        vertical-align: middle;\n",
       "    }\n",
       "\n",
       "    .dataframe tbody tr th {\n",
       "        vertical-align: top;\n",
       "    }\n",
       "\n",
       "    .dataframe thead th {\n",
       "        text-align: right;\n",
       "    }\n",
       "</style>\n",
       "<table border=\"1\" class=\"dataframe\">\n",
       "  <thead>\n",
       "    <tr style=\"text-align: right;\">\n",
       "      <th></th>\n",
       "      <th>Associated Blood Index</th>\n",
       "      <th>Novel vs Astle 2016</th>\n",
       "      <th>Locus ID</th>\n",
       "      <th>Associated Blood Index Class</th>\n",
       "      <th>Unique Variant ID</th>\n",
       "      <th>Gene Symbol(s) for Most Serious Consequence</th>\n",
       "      <th>rsID (where available)</th>\n",
       "      <th>INFO SCORE</th>\n",
       "      <th>Chr (GRCh37)</th>\n",
       "      <th>BP (GRCh37)</th>\n",
       "      <th>...</th>\n",
       "      <th>(UNIVAR) Estimate of Additive Allelic Effect (REF=Baseline, ALT=Effect)</th>\n",
       "      <th>(UNIVAR) Standard Error of Estimator</th>\n",
       "      <th>(UNIVAR) -log10 P</th>\n",
       "      <th>(UNIVAR) Unadjusted R2</th>\n",
       "      <th>(MULTI) Estimate of Additive Allelic Effect (REF=Baseline, ALT=Effect)</th>\n",
       "      <th>(MULTI) Standard Error of Estimate</th>\n",
       "      <th>(MULTI) -log10 P</th>\n",
       "      <th>Most Serious VEP Consequence of Variant</th>\n",
       "      <th>VEP IMPACT of Most Serious Consequence</th>\n",
       "      <th>Ensembl Gene ID(s) for Most Serious Consequence</th>\n",
       "    </tr>\n",
       "  </thead>\n",
       "  <tbody>\n",
       "    <tr>\n",
       "      <th>0</th>\n",
       "      <td>RET#</td>\n",
       "      <td>True</td>\n",
       "      <td>1.0</td>\n",
       "      <td>Red Cell</td>\n",
       "      <td>1:1692321_T_C</td>\n",
       "      <td>NADK</td>\n",
       "      <td>rs1107910</td>\n",
       "      <td>0.981899</td>\n",
       "      <td>1</td>\n",
       "      <td>1692321</td>\n",
       "      <td>...</td>\n",
       "      <td>-0.013854</td>\n",
       "      <td>0.002160</td>\n",
       "      <td>9.848282</td>\n",
       "      <td>0.000095</td>\n",
       "      <td>-0.013985</td>\n",
       "      <td>0.002248</td>\n",
       "      <td>9.302960</td>\n",
       "      <td>intron_variant</td>\n",
       "      <td>MODIFIER</td>\n",
       "      <td>ENSG00000008130</td>\n",
       "    </tr>\n",
       "    <tr>\n",
       "      <th>1</th>\n",
       "      <td>RET%</td>\n",
       "      <td>True</td>\n",
       "      <td>1.0</td>\n",
       "      <td>Red Cell</td>\n",
       "      <td>1:1692321_T_C</td>\n",
       "      <td>NADK</td>\n",
       "      <td>rs1107910</td>\n",
       "      <td>0.981899</td>\n",
       "      <td>1</td>\n",
       "      <td>1692321</td>\n",
       "      <td>...</td>\n",
       "      <td>-0.013599</td>\n",
       "      <td>0.002165</td>\n",
       "      <td>9.470071</td>\n",
       "      <td>0.000092</td>\n",
       "      <td>-0.013741</td>\n",
       "      <td>0.002248</td>\n",
       "      <td>9.005840</td>\n",
       "      <td>intron_variant</td>\n",
       "      <td>MODIFIER</td>\n",
       "      <td>ENSG00000008130</td>\n",
       "    </tr>\n",
       "    <tr>\n",
       "      <th>2</th>\n",
       "      <td>MSCV</td>\n",
       "      <td>False</td>\n",
       "      <td>2.0</td>\n",
       "      <td>Red Cell</td>\n",
       "      <td>1:2146165_C_A</td>\n",
       "      <td>RP11-181G12.4</td>\n",
       "      <td>rs78265569</td>\n",
       "      <td>0.976555</td>\n",
       "      <td>1</td>\n",
       "      <td>2146165</td>\n",
       "      <td>...</td>\n",
       "      <td>-0.027229</td>\n",
       "      <td>0.003664</td>\n",
       "      <td>12.970848</td>\n",
       "      <td>0.000119</td>\n",
       "      <td>-0.028861</td>\n",
       "      <td>0.003916</td>\n",
       "      <td>12.767629</td>\n",
       "      <td>intron_variant</td>\n",
       "      <td>MODIFIER</td>\n",
       "      <td>ENSG00000234396</td>\n",
       "    </tr>\n",
       "    <tr>\n",
       "      <th>3</th>\n",
       "      <td>MCHC</td>\n",
       "      <td>False</td>\n",
       "      <td>2.0</td>\n",
       "      <td>Red Cell</td>\n",
       "      <td>1:2146165_C_A</td>\n",
       "      <td>RP11-181G12.4</td>\n",
       "      <td>rs78265569</td>\n",
       "      <td>0.976555</td>\n",
       "      <td>1</td>\n",
       "      <td>2146165</td>\n",
       "      <td>...</td>\n",
       "      <td>0.023502</td>\n",
       "      <td>0.003900</td>\n",
       "      <td>8.775455</td>\n",
       "      <td>0.000089</td>\n",
       "      <td>0.024565</td>\n",
       "      <td>0.003933</td>\n",
       "      <td>9.373581</td>\n",
       "      <td>intron_variant</td>\n",
       "      <td>MODIFIER</td>\n",
       "      <td>ENSG00000234396</td>\n",
       "    </tr>\n",
       "    <tr>\n",
       "      <th>4</th>\n",
       "      <td>HLSR#</td>\n",
       "      <td>False</td>\n",
       "      <td>2.0</td>\n",
       "      <td>Red Cell</td>\n",
       "      <td>1:2147874_A_G</td>\n",
       "      <td>RP11-181G12.4</td>\n",
       "      <td>rs10910028</td>\n",
       "      <td>0.974162</td>\n",
       "      <td>1</td>\n",
       "      <td>2147874</td>\n",
       "      <td>...</td>\n",
       "      <td>0.038157</td>\n",
       "      <td>0.004105</td>\n",
       "      <td>19.830782</td>\n",
       "      <td>0.000199</td>\n",
       "      <td>0.040770</td>\n",
       "      <td>0.004282</td>\n",
       "      <td>20.764373</td>\n",
       "      <td>intron_variant</td>\n",
       "      <td>MODIFIER</td>\n",
       "      <td>ENSG00000234396</td>\n",
       "    </tr>\n",
       "  </tbody>\n",
       "</table>\n",
       "<p>5 rows × 25 columns</p>\n",
       "</div>"
      ],
      "text/plain": [
       "  Associated Blood Index Novel vs Astle 2016  Locus ID  \\\n",
       "0                   RET#                True       1.0   \n",
       "1                   RET%                True       1.0   \n",
       "2                   MSCV               False       2.0   \n",
       "3                   MCHC               False       2.0   \n",
       "4                  HLSR#               False       2.0   \n",
       "\n",
       "  Associated Blood Index Class Unique Variant ID  \\\n",
       "0                     Red Cell     1:1692321_T_C   \n",
       "1                     Red Cell     1:1692321_T_C   \n",
       "2                     Red Cell     1:2146165_C_A   \n",
       "3                     Red Cell     1:2146165_C_A   \n",
       "4                     Red Cell     1:2147874_A_G   \n",
       "\n",
       "  Gene Symbol(s) for Most Serious Consequence rsID (where available)  \\\n",
       "0                                        NADK              rs1107910   \n",
       "1                                        NADK              rs1107910   \n",
       "2                               RP11-181G12.4             rs78265569   \n",
       "3                               RP11-181G12.4             rs78265569   \n",
       "4                               RP11-181G12.4             rs10910028   \n",
       "\n",
       "   INFO SCORE Chr (GRCh37)  BP (GRCh37)  ...  \\\n",
       "0    0.981899            1      1692321  ...   \n",
       "1    0.981899            1      1692321  ...   \n",
       "2    0.976555            1      2146165  ...   \n",
       "3    0.976555            1      2146165  ...   \n",
       "4    0.974162            1      2147874  ...   \n",
       "\n",
       "  (UNIVAR) Estimate of Additive Allelic Effect (REF=Baseline, ALT=Effect)  \\\n",
       "0                                          -0.013854                        \n",
       "1                                          -0.013599                        \n",
       "2                                          -0.027229                        \n",
       "3                                           0.023502                        \n",
       "4                                           0.038157                        \n",
       "\n",
       "  (UNIVAR) Standard Error of Estimator (UNIVAR) -log10 P  \\\n",
       "0                             0.002160          9.848282   \n",
       "1                             0.002165          9.470071   \n",
       "2                             0.003664         12.970848   \n",
       "3                             0.003900          8.775455   \n",
       "4                             0.004105         19.830782   \n",
       "\n",
       "   (UNIVAR) Unadjusted R2  \\\n",
       "0                0.000095   \n",
       "1                0.000092   \n",
       "2                0.000119   \n",
       "3                0.000089   \n",
       "4                0.000199   \n",
       "\n",
       "   (MULTI) Estimate of Additive Allelic Effect (REF=Baseline, ALT=Effect)  \\\n",
       "0                                          -0.013985                        \n",
       "1                                          -0.013741                        \n",
       "2                                          -0.028861                        \n",
       "3                                           0.024565                        \n",
       "4                                           0.040770                        \n",
       "\n",
       "   (MULTI) Standard Error of Estimate  (MULTI) -log10 P  \\\n",
       "0                            0.002248          9.302960   \n",
       "1                            0.002248          9.005840   \n",
       "2                            0.003916         12.767629   \n",
       "3                            0.003933          9.373581   \n",
       "4                            0.004282         20.764373   \n",
       "\n",
       "   Most Serious VEP Consequence of Variant  \\\n",
       "0                           intron_variant   \n",
       "1                           intron_variant   \n",
       "2                           intron_variant   \n",
       "3                           intron_variant   \n",
       "4                           intron_variant   \n",
       "\n",
       "   VEP IMPACT of Most Serious Consequence  \\\n",
       "0                                MODIFIER   \n",
       "1                                MODIFIER   \n",
       "2                                MODIFIER   \n",
       "3                                MODIFIER   \n",
       "4                                MODIFIER   \n",
       "\n",
       "   Ensembl Gene ID(s) for Most Serious Consequence  \n",
       "0                                  ENSG00000008130  \n",
       "1                                  ENSG00000008130  \n",
       "2                                  ENSG00000234396  \n",
       "3                                  ENSG00000234396  \n",
       "4                                  ENSG00000234396  \n",
       "\n",
       "[5 rows x 25 columns]"
      ]
     },
     "execution_count": 6,
     "metadata": {},
     "output_type": "execute_result"
    }
   ],
   "source": [
    "draganas_gwas.head()"
   ]
  },
  {
   "cell_type": "code",
   "execution_count": 7,
   "metadata": {},
   "outputs": [
    {
     "data": {
      "text/plain": [
       "(array([663146., 631992., 593234., 614991., 653486., 732021., 812657.,\n",
       "        898007., 953133., 929492.]),\n",
       " array([-1.99956592, -1.80004142, -1.60051693, -1.40099243, -1.20146793,\n",
       "        -1.00194343, -0.80241893, -0.60289443, -0.40336994, -0.20384544,\n",
       "        -0.00432094]),\n",
       " <BarContainer object of 10 artists>)"
      ]
     },
     "execution_count": 7,
     "metadata": {},
     "output_type": "execute_result"
    },
    {
     "data": {
      "image/png": "[encoded data removed]",
      "text/plain": [
       "<Figure size 640x480 with 1 Axes>"
      ]
     },
     "metadata": {},
     "output_type": "display_data"
    }
   ],
   "source": [
    "plt.hist(np.log10(pfc[\"AAF\"]))"
   ]
  },
  {
   "cell_type": "code",
   "execution_count": 8,
   "metadata": {},
   "outputs": [
    {
     "data": {
      "text/plain": [
       "(array([  29.,   64.,  128.,  229.,  425.,  747.,  977., 2132., 5356.,\n",
       "        6813.]),\n",
       " array([-4.29242982e+00, -3.86354488e+00, -3.43465994e+00, -3.00577499e+00,\n",
       "        -2.57689005e+00, -2.14800510e+00, -1.71912016e+00, -1.29023521e+00,\n",
       "        -8.61350269e-01, -4.32465324e-01, -3.58038001e-03]),\n",
       " <BarContainer object of 10 artists>)"
      ]
     },
     "execution_count": 8,
     "metadata": {},
     "output_type": "execute_result"
    },
    {
     "data": {
      "image/png": "[encoded data removed]",
      "text/plain": [
       "<Figure size 640x480 with 1 Axes>"
      ]
     },
     "metadata": {},
     "output_type": "display_data"
    }
   ],
   "source": [
    "plt.hist(np.log10(draganas_gwas[\"Alternative Allele Frequency\"]))"
   ]
  },
  {
   "cell_type": "code",
   "execution_count": 9,
   "metadata": {},
   "outputs": [],
   "source": [
    "draganas_hits = draganas_gwas.loc[\n",
    "    draganas_gwas[\"Associated Blood Index\"].isin([\"PLT#\",\"MPV\",\"PCT\",\"PDW\"]) & \n",
    "    (draganas_gwas[\"Alternative Allele Frequency\"] > 0.01) & \n",
    "    (draganas_gwas[\"Alternative Allele Frequency\"] < 0.99) &\n",
    "    (draganas_gwas[\"rsID (where available)\"].str.contains(\"rs\")),\n",
    "    \"rsID (where available)\"].unique().tolist()"
   ]
  },
  {
   "cell_type": "code",
   "execution_count": 10,
   "metadata": {},
   "outputs": [
    {
     "data": {
      "text/plain": [
       "2177"
      ]
     },
     "execution_count": 10,
     "metadata": {},
     "output_type": "execute_result"
    }
   ],
   "source": [
    "len(draganas_hits)"
   ]
  },
  {
   "cell_type": "code",
   "execution_count": 11,
   "metadata": {},
   "outputs": [
    {
     "data": {
      "text/plain": [
       "1518"
      ]
     },
     "execution_count": 11,
     "metadata": {},
     "output_type": "execute_result"
    }
   ],
   "source": [
    "found = list(set(draganas_hits).intersection(set(pfc_snps)))\n",
    "len(found)"
   ]
  },
  {
   "cell_type": "code",
   "execution_count": 12,
   "metadata": {},
   "outputs": [],
   "source": [
    "missing = list(set(draganas_hits).difference(set(pfc_snps)))"
   ]
  },
  {
   "cell_type": "code",
   "execution_count": 13,
   "metadata": {},
   "outputs": [
    {
     "data": {
      "text/plain": [
       "659"
      ]
     },
     "execution_count": 13,
     "metadata": {},
     "output_type": "execute_result"
    }
   ],
   "source": [
    "len(missing)"
   ]
  },
  {
   "cell_type": "code",
   "execution_count": 14,
   "metadata": {},
   "outputs": [
    {
     "data": {
      "text/plain": [
       "(array([ 11.,  18.,  21.,  46.,  53.,  67., 135., 162., 218., 142.]),\n",
       " array([-1.9848499 , -1.78745707, -1.59006423, -1.3926714 , -1.19527857,\n",
       "        -0.99788574, -0.80049291, -0.60310008, -0.40570725, -0.20831441,\n",
       "        -0.01092158]),\n",
       " <BarContainer object of 10 artists>)"
      ]
     },
     "execution_count": 14,
     "metadata": {},
     "output_type": "execute_result"
    },
    {
     "data": {
      "image/png": "[encoded data removed]",
      "text/plain": [
       "<Figure size 640x480 with 1 Axes>"
      ]
     },
     "metadata": {},
     "output_type": "display_data"
    }
   ],
   "source": [
    "plt.hist(np.log10(draganas_gwas.loc[draganas_gwas[\"rsID (where available)\"].isin(missing),\"Alternative Allele Frequency\"]))"
   ]
  },
  {
   "cell_type": "code",
   "execution_count": 15,
   "metadata": {},
   "outputs": [
    {
     "data": {
      "text/plain": [
       "['rs74267315', 'rs77642031', 'rs74811610', 'rs11459029', 'rs61528333']"
      ]
     },
     "execution_count": 15,
     "metadata": {},
     "output_type": "execute_result"
    }
   ],
   "source": [
    "missing[:5]"
   ]
  },
  {
   "cell_type": "code",
   "execution_count": 16,
   "metadata": {},
   "outputs": [],
   "source": [
    "if os.path.exists(\"proxies.json\"):\n",
    "    with open(\"proxies.json\",\"r\") as infile:\n",
    "        proxies = json.load(infile)"
   ]
  },
  {
   "cell_type": "code",
   "execution_count": 4,
   "metadata": {},
   "outputs": [
    {
     "ename": "NameError",
     "evalue": "name 'requests' is not defined",
     "output_type": "error",
     "traceback": [
      "\u001b[0;31m---------------------------------------------------------------------------\u001b[0m",
      "\u001b[0;31mNameError\u001b[0m                                 Traceback (most recent call last)",
      "Cell \u001b[0;32mIn[4], line 1\u001b[0m\n\u001b[0;32m----> 1\u001b[0m \u001b[39mwith\u001b[39;00m requests\u001b[39m.\u001b[39mSession() \u001b[39mas\u001b[39;00m s:\n\u001b[1;32m      2\u001b[0m     random\u001b[39m.\u001b[39mshuffle(missing)\n\u001b[1;32m      3\u001b[0m     \u001b[39mfor\u001b[39;00m i, m \u001b[39min\u001b[39;00m \u001b[39menumerate\u001b[39m(missing):\n",
      "\u001b[0;31mNameError\u001b[0m: name 'requests' is not defined"
     ]
    }
   ],
   "source": [
    "with requests.Session() as s:\n",
    "    random.shuffle(missing)\n",
    "    for i, m in enumerate(missing):\n",
    "        if m in proxies and proxies[m] != \".\":\n",
    "            continue\n",
    "        if i % 1 == 0:\n",
    "            print(\"%d (%d) / %d\" % (i,len(proxies),len(missing)))\n",
    "            \n",
    "        # First, check if m is in 1000G ref panel. If not, stop here\n",
    "        if not \"1000Genomes\" in s.get(\"https://api.ncbi.nlm.nih.gov/variation/v0/refsnp/%d\" % int(m[2:])).text:\n",
    "            print(\"%s is not in reference panel (NCBI)\" % m)\n",
    "            proxies[m] = \"not in reference panel (NCBI)\"\n",
    "            continue\n",
    "            \n",
    "        URL = \"https://ldlink.nih.gov/LDlinkRest/ldproxy\"\n",
    "        PARAMS = {\n",
    "            \"var\":m,\n",
    "            \"pop\":\"GBR\",\n",
    "            \"r2_d\":\"r2\",\n",
    "            \"window\":int(1e5),\n",
    "            \"genome_build\":\"grch37\",\n",
    "            \"token\":\"14ad36e8238c\"\n",
    "        }\n",
    "        try:\n",
    "            #time.sleep()\n",
    "            print(\"Sending request for %s...\" % m)\n",
    "            r = s.get(url = URL, params = PARAMS,timeout=12*60)\n",
    "            \n",
    "        except requests.Timeout as e:\n",
    "            print(\"Timeout %s\" % m)\n",
    "            proxies[m] = \"timeout...\"\n",
    "            continue\n",
    "        try:\n",
    "            snp = pd.read_csv(StringIO(r.text),sep=\"\\t\")\n",
    "            candidate_proxies = snp.loc[snp.RS_Number.isin(pfc_snps)]\n",
    "            if candidate_proxies.shape[0] == 0:\n",
    "                print(\"No proxy for %s\" % m)\n",
    "                proxies[m] = \"No proxy found\"\n",
    "            else:\n",
    "                proxies[m] = candidate_proxies.RS_Number.iloc[0]\n",
    "                print(\"Found proxy for %s : %s\" % (m, candidate_proxies.RS_Number.iloc[0]))\n",
    "        except:\n",
    "            if \"not in 1000G reference panel\" in r.text:\n",
    "                print(\"%s is not in reference panel\" % m)\n",
    "                proxies[m] = \"not in reference panel\"\n",
    "            elif \"Concurrent API\" in r.text:\n",
    "                continue\n",
    "            else:\n",
    "                print(r.text)\n",
    "                proxies[m] = \"other error : %s\" % json.loads(r.text)[\"error\"]"
   ]
  },
  {
   "cell_type": "code",
   "execution_count": 31,
   "metadata": {},
   "outputs": [],
   "source": [
    "with open(\"proxies.json\", \"w\") as outfile:\n",
    "    json.dump(proxies, outfile)"
   ]
  },
  {
   "cell_type": "code",
   "execution_count": 21,
   "metadata": {},
   "outputs": [],
   "source": [
    "r = json.loads(requests.get(\"https://api.ncbi.nlm.nih.gov/variation/v0/refsnp/35383388\" ).text)"
   ]
  },
  {
   "cell_type": "code",
   "execution_count": 102,
   "metadata": {},
   "outputs": [
    {
     "data": {
      "text/plain": [
       "1935"
      ]
     },
     "execution_count": 102,
     "metadata": {},
     "output_type": "execute_result"
    }
   ],
   "source": [
    "draganas_hits_in_pfc = set(list(proxies.values()) + list(set(draganas_hits).intersection(set(pfc_snps))))\n",
    "len(draganas_hits_in_pfc)"
   ]
  },
  {
   "cell_type": "code",
   "execution_count": 40,
   "metadata": {},
   "outputs": [],
   "source": [
    "pfc[\"P\"] = np.power(10,-pfc[\"MLOG10P\"])"
   ]
  },
  {
   "cell_type": "code",
   "execution_count": 42,
   "metadata": {},
   "outputs": [
    {
     "data": {
      "text/html": [
       "<div>\n",
       "<style scoped>\n",
       "    .dataframe tbody tr th:only-of-type {\n",
       "        vertical-align: middle;\n",
       "    }\n",
       "\n",
       "    .dataframe tbody tr th {\n",
       "        vertical-align: top;\n",
       "    }\n",
       "\n",
       "    .dataframe thead th {\n",
       "        text-align: right;\n",
       "    }\n",
       "</style>\n",
       "<table border=\"1\" class=\"dataframe\">\n",
       "  <thead>\n",
       "    <tr style=\"text-align: right;\">\n",
       "      <th></th>\n",
       "      <th>RSID</th>\n",
       "      <th>MLOG10P</th>\n",
       "      <th>AAF</th>\n",
       "      <th>P</th>\n",
       "    </tr>\n",
       "  </thead>\n",
       "  <tbody>\n",
       "    <tr>\n",
       "      <th>2836628</th>\n",
       "      <td>rs17881225</td>\n",
       "      <td>2.736</td>\n",
       "      <td>0.1109</td>\n",
       "      <td>0.001837</td>\n",
       "    </tr>\n",
       "  </tbody>\n",
       "</table>\n",
       "</div>"
      ],
      "text/plain": [
       "               RSID  MLOG10P     AAF         P\n",
       "2836628  rs17881225    2.736  0.1109  0.001837"
      ]
     },
     "execution_count": 42,
     "metadata": {},
     "output_type": "execute_result"
    }
   ],
   "source": [
    "pfc.loc[pfc.RSID == \"rs17881225\"]"
   ]
  },
  {
   "cell_type": "code",
   "execution_count": 1,
   "metadata": {},
   "outputs": [],
   "source": [
    "hippo_snps = [\n",
    "\"rs12566888\",\n",
    "\"rs1434282\",\n",
    "\"rs41315846\",\n",
    "\"rs13412535\",\n",
    "\"rs78909033\",\n",
    "\"rs1354034\",\n",
    "\"rs13067286\",\n",
    "\"rs76445378\",\n",
    "\"rs922140\",\n",
    "\"rs17881225\",\n",
    "\"rs55665228\",\n",
    "\"rs61751937\",\n",
    "\"rs10886430\",\n",
    "\"rs7123827\",\n",
    "\"rs11553699\",\n",
    "\"rs61978213\",\n",
    "\"rs12905925\",\n",
    "\"rs8057254\",\n",
    "\"rs12445050\",\n",
    "\"rs11078475\",\n",
    "\"rs1654425\"]"
   ]
  },
  {
   "cell_type": "code",
   "execution_count": 2,
   "metadata": {},
   "outputs": [
    {
     "data": {
      "text/plain": [
       "21"
      ]
     },
     "execution_count": 2,
     "metadata": {},
     "output_type": "execute_result"
    }
   ],
   "source": [
    "len(hippo_snps)"
   ]
  },
  {
   "cell_type": "code",
   "execution_count": 3,
   "metadata": {},
   "outputs": [
    {
     "ename": "NameError",
     "evalue": "name 'pfc' is not defined",
     "output_type": "error",
     "traceback": [
      "\u001b[0;31m---------------------------------------------------------------------------\u001b[0m",
      "\u001b[0;31mNameError\u001b[0m                                 Traceback (most recent call last)",
      "Cell \u001b[0;32mIn[3], line 1\u001b[0m\n\u001b[0;32m----> 1\u001b[0m p_values_hippo \u001b[39m=\u001b[39m pfc\u001b[39m.\u001b[39mloc[pfc\u001b[39m.\u001b[39mRSID\u001b[39m.\u001b[39misin(hippo_snps),\u001b[39m\"\u001b[39m\u001b[39mP\u001b[39m\u001b[39m\"\u001b[39m]\n\u001b[1;32m      2\u001b[0m p_values_dragana \u001b[39m=\u001b[39m pfc\u001b[39m.\u001b[39mloc[pfc\u001b[39m.\u001b[39mRSID\u001b[39m.\u001b[39misin(draganas_hits_in_pfc),\u001b[39m\"\u001b[39m\u001b[39mP\u001b[39m\u001b[39m\"\u001b[39m]\n",
      "\u001b[0;31mNameError\u001b[0m: name 'pfc' is not defined"
     ]
    }
   ],
   "source": [
    "p_values_hippo = pfc.loc[pfc.RSID.isin(hippo_snps),\"P\"]\n",
    "p_values_dragana = pfc.loc[pfc.RSID.isin(draganas_hits_in_pfc),\"P\"]"
   ]
  },
  {
   "cell_type": "code",
   "execution_count": 52,
   "metadata": {},
   "outputs": [
    {
     "data": {
      "image/png": "[encoded data removed]",
      "text/plain": [
       "<Figure size 640x480 with 1 Axes>"
      ]
     },
     "metadata": {},
     "output_type": "display_data"
    }
   ],
   "source": [
    "plt.hist(p_values_hippo,density=True,alpha=.5,label=\"PPR-associated SNPs\")\n",
    "plt.hist(p_values_dragana,density=True,alpha=.5,label=\"SNPs associated with standard platelet traits in Dragana et al. 2020\")\n",
    "plt.yscale(\"log\")\n",
    "plt.xlabel(\"lowest $p$-value of association with FC-measured PF (out of four agonists)\")\n",
    "plt.legend();"
   ]
  },
  {
   "cell_type": "code",
   "execution_count": 100,
   "metadata": {},
   "outputs": [
    {
     "data": {
      "text/plain": [
       "Text(0, 0.5, \"Hippolyte's hits\")"
      ]
     },
     "execution_count": 100,
     "metadata": {},
     "output_type": "execute_result"
    },
    {
     "data": {
      "image/png": "[encoded data removed]",
      "text/plain": [
       "<Figure size 640x480 with 1 Axes>"
      ]
     },
     "metadata": {},
     "output_type": "display_data"
    }
   ],
   "source": [
    "quantiles = np.logspace(-5,0,100)\n",
    "plt.title(\"P-values in PFC GWAS of Dragana's hits vs Hippolyte's hits\")\n",
    "plt.scatter(-np.log10(np.quantile(p_values_dragana,quantiles,method=\"closest_observation\")),\n",
    "            -np.log10(np.quantile(p_values_hippo,quantiles,method=\"closest_observation\")))\n",
    "plt.xlim((0,15))\n",
    "plt.ylim((0,15))\n",
    "plt.plot([0,15],[0,15])\n",
    "#plt.yscale(\"log\")\n",
    "plt.xlabel(\"Dragana's hits\")\n",
    "plt.ylabel(\"Hippolyte's hits\")\n",
    "#plt.legend()"
   ]
  },
  {
   "cell_type": "code",
   "execution_count": 66,
   "metadata": {},
   "outputs": [
    {
     "data": {
      "image/png": "[encoded data removed]",
      "text/plain": [
       "<Figure size 640x480 with 1 Axes>"
      ]
     },
     "metadata": {},
     "output_type": "display_data"
    }
   ],
   "source": [
    "plt.plot(np.linspace(0,1,p_values_hippo.shape[0]),-np.log10(p_values_hippo.sort_values()[::-1]),label=\"Us\")\n",
    "plt.plot(np.linspace(0,1,p_values_dragana.shape[0]),-np.log10(p_values_dragana.sort_values()[::-1]),label=\"Dragana\")\n",
    "#plt.xscale(\"log\")\n",
    "plt.yscale(\"log\")\n",
    "plt.legend();\n",
    "# TODO: proper QQ-plot\n",
    "# Send data to Will (Extended data fig. 3)\n",
    "# QQ-plot of MAF"
   ]
  },
  {
   "cell_type": "code",
   "execution_count": 64,
   "metadata": {},
   "outputs": [],
   "source": [
    "known_hits = [\n",
    "    \"rs7097060\", #ADRA2A\n",
    "    \"rs1207486385\", #KCNJ18\n",
    "]"
   ]
  },
  {
   "cell_type": "code",
   "execution_count": 65,
   "metadata": {},
   "outputs": [
    {
     "data": {
      "text/html": [
       "<div>\n",
       "<style scoped>\n",
       "    .dataframe tbody tr th:only-of-type {\n",
       "        vertical-align: middle;\n",
       "    }\n",
       "\n",
       "    .dataframe tbody tr th {\n",
       "        vertical-align: top;\n",
       "    }\n",
       "\n",
       "    .dataframe thead th {\n",
       "        text-align: right;\n",
       "    }\n",
       "</style>\n",
       "<table border=\"1\" class=\"dataframe\">\n",
       "  <thead>\n",
       "    <tr style=\"text-align: right;\">\n",
       "      <th></th>\n",
       "      <th>RSID</th>\n",
       "      <th>MLOG10P</th>\n",
       "      <th>AAF</th>\n",
       "      <th>P</th>\n",
       "    </tr>\n",
       "  </thead>\n",
       "  <tbody>\n",
       "    <tr>\n",
       "      <th>5545872</th>\n",
       "      <td>rs7097060</td>\n",
       "      <td>0.9538</td>\n",
       "      <td>0.1625</td>\n",
       "      <td>0.111224</td>\n",
       "    </tr>\n",
       "  </tbody>\n",
       "</table>\n",
       "</div>"
      ],
      "text/plain": [
       "              RSID  MLOG10P     AAF         P\n",
       "5545872  rs7097060   0.9538  0.1625  0.111224"
      ]
     },
     "execution_count": 65,
     "metadata": {},
     "output_type": "execute_result"
    }
   ],
   "source": [
    "pfc.loc[pfc.RSID.isin(known_hits)]"
   ]
  },
  {
   "cell_type": "code",
   "execution_count": 101,
   "metadata": {},
   "outputs": [],
   "source": [
    "pfc.loc[pfc.RSID.isin(draganas_hits)].to_csv(\"draganas_hits_pfc_gwas.csv\")\n",
    "pfc.loc[pfc.RSID.isin(draganas_hits_in_pfc)].to_csv(\"draganas_hits_with_proxies_pfc_gwas.csv\")\n",
    "pfc.loc[pfc.RSID.isin(hippo_snps)].to_csv(\"hippolytes_hits_pfc_gwas.csv\")"
   ]
  },
  {
   "cell_type": "code",
   "execution_count": null,
   "metadata": {},
   "outputs": [],
   "source": []
  }
 ],
 "metadata": {
  "kernelspec": {
   "display_name": "sound",
   "language": "python",
   "name": "python3"
  },
  "language_info": {
   "codemirror_mode": {
    "name": "ipython",
    "version": 3
   },
   "file_extension": ".py",
   "mimetype": "text/x-python",
   "name": "python",
   "nbconvert_exporter": "python",
   "pygments_lexer": "ipython3",
   "version": "3.9.16"
  },
  "orig_nbformat": 4
 },
 "nbformat": 4,
 "nbformat_minor": 2
}
