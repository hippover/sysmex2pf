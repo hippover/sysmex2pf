{
 "cells": [
  {
   "cell_type": "code",
   "execution_count": 1,
   "metadata": {},
   "outputs": [],
   "source": [
    "import pandas as pd"
   ]
  },
  {
   "attachments": {},
   "cell_type": "markdown",
   "metadata": {},
   "source": [
    "## À faire\n",
    "1. Annoter bien les SNPs de Dragana\n",
    "2. Mettre ça dans GO\n",
    "3. Prendre les meilleurs process"
   ]
  },
  {
   "cell_type": "code",
   "execution_count": 21,
   "metadata": {},
   "outputs": [
    {
     "name": "stdout",
     "output_type": "stream",
     "text": [
      "1\n",
      "0\n",
      "0\n"
     ]
    }
   ],
   "source": [
    "df = pd.read_csv(\"GO_output_500kb.txt\",sep=\"\\t\")\n",
    "genes = df.SYMBOL.unique().tolist()\n",
    "print(len(genes))\n",
    "genes = [g for g in genes if g != \"-\"]\n",
    "print(len(genes))\n",
    "genes = list(set([g.split(\"-AS\")[0] for g in genes]))\n",
    "print(len(genes))"
   ]
  },
  {
   "cell_type": "code",
   "execution_count": 13,
   "metadata": {},
   "outputs": [],
   "source": [
    "hippo_list = pd.read_csv(\"all_hippo_genes.txt\",header=None)[0].values.tolist()"
   ]
  },
  {
   "cell_type": "code",
   "execution_count": 20,
   "metadata": {},
   "outputs": [
    {
     "name": "stdout",
     "output_type": "stream",
     "text": [
      "PEAR1\n",
      "SERPINE2\n",
      "RNPEPL1\n",
      "SLC8A3\n"
     ]
    }
   ],
   "source": [
    "for h in hippo_list:\n",
    "    if h not in genes:\n",
    "        print(h)"
   ]
  },
  {
   "cell_type": "code",
   "execution_count": null,
   "metadata": {},
   "outputs": [],
   "source": []
  }
 ],
 "metadata": {
  "kernelspec": {
   "display_name": "sound",
   "language": "python",
   "name": "python3"
  },
  "language_info": {
   "codemirror_mode": {
    "name": "ipython",
    "version": 3
   },
   "file_extension": ".py",
   "mimetype": "text/x-python",
   "name": "python",
   "nbconvert_exporter": "python",
   "pygments_lexer": "ipython3",
   "version": "3.9.16"
  },
  "orig_nbformat": 4
 },
 "nbformat": 4,
 "nbformat_minor": 2
}
