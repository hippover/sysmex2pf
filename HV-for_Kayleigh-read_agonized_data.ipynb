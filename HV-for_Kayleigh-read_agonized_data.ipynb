{
 "cells": [
  {
   "cell_type": "code",
   "execution_count": 23,
   "metadata": {},
   "outputs": [],
   "source": [
    "import pandas as pd\n",
    "import os\n",
    "import glob\n",
    "from FlowCytometryTools import FCMeasurement\n",
    "import numpy as np"
   ]
  },
  {
   "cell_type": "markdown",
   "metadata": {},
   "source": [
    "# Helper functions"
   ]
  },
  {
   "cell_type": "code",
   "execution_count": 24,
   "metadata": {},
   "outputs": [],
   "source": [
    "FACS_COLS = [\"SFL\",\"FSC\",\"SSC\"]"
   ]
  },
  {
   "cell_type": "code",
   "execution_count": 36,
   "metadata": {},
   "outputs": [],
   "source": [
    "def ID_exp_from_filename(f):\n",
    "    r = f.split(\"]\")[-3].split(\"[\")[-1]\n",
    "    return r.split(\"_\")\n",
    "\n",
    "def load_agonised_sysmex(datadir, root_dir=\"CBR 159\", remove_rbc=True):\n",
    "    \"\"\"\n",
    "    :return: dataframe of all valid measurements (not only platelets)\n",
    "    \"\"\"\n",
    "    os.chdir(datadir)\n",
    "    wb = glob.glob(\"%s/**/*PLT-F].fcs\" % root_dir, recursive=True)\n",
    "    print(\"%d candidates Sysmex files\" % len(wb))\n",
    "    dfs = []\n",
    "    IDs = {}\n",
    "    for f in wb:\n",
    "        meas = FCMeasurement(ID='Test Sample', datafile=f)\n",
    "        df = meas.data\n",
    "        ID, exp = ID_exp_from_filename(f)\n",
    "\n",
    "        # Filter out those measured along with RBC\n",
    "        if remove_rbc:\n",
    "            df[\"bin_200\"] = np.arange(df.shape[0]) // 200\n",
    "            mean_by_200 = df.groupby(\"bin_200\")[\"Forward Scatter Signal\"].mean()\n",
    "            try:\n",
    "                cutoff = np.min(\n",
    "                    np.where(mean_by_200 > np.mean(mean_by_200[:3])+30)[0])\n",
    "            except ValueError as e:\n",
    "                cutoff = df[\"bin_200\"].max()\n",
    "            df = df.loc[df.bin_200 < cutoff]\n",
    "            del df[\"bin_200\"]\n",
    "        if exp not in IDs:\n",
    "            IDs[exp] = {}\n",
    "        if ID in IDs[exp]:\n",
    "            print(\"Two files for ID %s exp %s\" % (ID,exp))\n",
    "            print(\"\\t %s\" % f)\n",
    "            print(\"\\t %s\" % IDs[exp][ID])\n",
    "            continue\n",
    "        else:\n",
    "            IDs[exp][ID] = f\n",
    "            df[\"ID\"] = ID\n",
    "            df[\"EXP\"] = exp\n",
    "            dfs.append(df)\n",
    "    df = pd.concat(dfs, copy=False)\n",
    "    df.dropna(axis=0, how=\"any\", inplace=True)\n",
    "\n",
    "    return df"
   ]
  },
  {
   "cell_type": "markdown",
   "metadata": {},
   "source": [
    "# Read agonised sysmex scattergrams"
   ]
  },
  {
   "cell_type": "code",
   "execution_count": 37,
   "metadata": {},
   "outputs": [],
   "source": [
    "data_dir = \"/home/hv270/rds/rds-who1000-cbrc/user/wja24/shared/hv270/data_home\""
   ]
  },
  {
   "cell_type": "code",
   "execution_count": 49,
   "metadata": {},
   "outputs": [
    {
     "name": "stdout",
     "output_type": "stream",
     "text": [
      "629 candidates Sysmex files\n",
      "Two files for ID C19XNH exp ADP\n",
      "\t CBR 159/x17092018_2x/FCS/[XN-20^12829][00-22A (Build 7)][Fcs][17092018_115032][C19XNH_ADP][PLT-F].fcs\n",
      "\t CBR 159/x17092018_2x/FCS/[XN-20^12829][00-22A (Build 7)][Fcs][17092018_115148][C19XNH_ADP][PLT-F].fcs\n"
     ]
    }
   ],
   "source": [
    "sys_sct = load_agonised_sysmex(data_dir,root_dir=\"CBR 159\")\n",
    "sys_sct.rename(columns={\"Side Fluorescence Signal\":\"SFL\",\n",
    "                                  \"Forward Scatter Signal\":\"FSC\",\n",
    "                                  \"Forward Scatter Pulse Width Signal\":\"FSCW\",\n",
    "                                  \"Side Scatter Signal\":\"SSC\"},inplace=True)\n",
    "sys_sct = sys_sct[[\"ID\",\"EXP\"] + FACS_COLS]\n",
    "# This is to fix typos in file names...\n",
    "sys_sct[\"EXP\"] = sys_sct[\"EXP\"].replace({\"PRP\":\"CRP\",\"CPP\":\"CRP\",\"Resting\":\"REST\",\"RESTING\":\"REST\",\"RESET\":\"REST\"})\n",
    "sys_sct[FACS_COLS] = sys_sct[FACS_COLS].astype(int)"
   ]
  },
  {
   "cell_type": "code",
   "execution_count": 50,
   "metadata": {},
   "outputs": [
    {
     "data": {
      "text/html": [
       "<div>\n",
       "<style scoped>\n",
       "    .dataframe tbody tr th:only-of-type {\n",
       "        vertical-align: middle;\n",
       "    }\n",
       "\n",
       "    .dataframe tbody tr th {\n",
       "        vertical-align: top;\n",
       "    }\n",
       "\n",
       "    .dataframe thead th {\n",
       "        text-align: right;\n",
       "    }\n",
       "</style>\n",
       "<table border=\"1\" class=\"dataframe\">\n",
       "  <thead>\n",
       "    <tr style=\"text-align: right;\">\n",
       "      <th></th>\n",
       "      <th>ID</th>\n",
       "      <th>EXP</th>\n",
       "      <th>SFL</th>\n",
       "      <th>FSC</th>\n",
       "      <th>SSC</th>\n",
       "    </tr>\n",
       "  </thead>\n",
       "  <tbody>\n",
       "    <tr>\n",
       "      <th>835</th>\n",
       "      <td>C19H64</td>\n",
       "      <td>ADP</td>\n",
       "      <td>153</td>\n",
       "      <td>240</td>\n",
       "      <td>201</td>\n",
       "    </tr>\n",
       "    <tr>\n",
       "      <th>555</th>\n",
       "      <td>C19PCY</td>\n",
       "      <td>CRP</td>\n",
       "      <td>34</td>\n",
       "      <td>67</td>\n",
       "      <td>26</td>\n",
       "    </tr>\n",
       "    <tr>\n",
       "      <th>1242</th>\n",
       "      <td>C1A0BH</td>\n",
       "      <td>REST</td>\n",
       "      <td>49</td>\n",
       "      <td>30</td>\n",
       "      <td>32</td>\n",
       "    </tr>\n",
       "    <tr>\n",
       "      <th>1885</th>\n",
       "      <td>C19RCQ</td>\n",
       "      <td>REST</td>\n",
       "      <td>41</td>\n",
       "      <td>45</td>\n",
       "      <td>41</td>\n",
       "    </tr>\n",
       "    <tr>\n",
       "      <th>142</th>\n",
       "      <td>C19TGA</td>\n",
       "      <td>REST</td>\n",
       "      <td>92</td>\n",
       "      <td>89</td>\n",
       "      <td>48</td>\n",
       "    </tr>\n",
       "    <tr>\n",
       "      <th>943</th>\n",
       "      <td>C19H64</td>\n",
       "      <td>REST</td>\n",
       "      <td>155</td>\n",
       "      <td>157</td>\n",
       "      <td>75</td>\n",
       "    </tr>\n",
       "    <tr>\n",
       "      <th>285</th>\n",
       "      <td>C19M0X</td>\n",
       "      <td>ADP</td>\n",
       "      <td>76</td>\n",
       "      <td>71</td>\n",
       "      <td>39</td>\n",
       "    </tr>\n",
       "    <tr>\n",
       "      <th>311</th>\n",
       "      <td>C1A0SK</td>\n",
       "      <td>CRP</td>\n",
       "      <td>18</td>\n",
       "      <td>66</td>\n",
       "      <td>128</td>\n",
       "    </tr>\n",
       "    <tr>\n",
       "      <th>19592</th>\n",
       "      <td>C19X5G</td>\n",
       "      <td>CRP</td>\n",
       "      <td>77</td>\n",
       "      <td>68</td>\n",
       "      <td>35</td>\n",
       "    </tr>\n",
       "    <tr>\n",
       "      <th>1710</th>\n",
       "      <td>C19YT1</td>\n",
       "      <td>CRP</td>\n",
       "      <td>80</td>\n",
       "      <td>72</td>\n",
       "      <td>36</td>\n",
       "    </tr>\n",
       "  </tbody>\n",
       "</table>\n",
       "</div>"
      ],
      "text/plain": [
       "           ID   EXP  SFL  FSC  SSC\n",
       "835    C19H64   ADP  153  240  201\n",
       "555    C19PCY   CRP   34   67   26\n",
       "1242   C1A0BH  REST   49   30   32\n",
       "1885   C19RCQ  REST   41   45   41\n",
       "142    C19TGA  REST   92   89   48\n",
       "943    C19H64  REST  155  157   75\n",
       "285    C19M0X   ADP   76   71   39\n",
       "311    C1A0SK   CRP   18   66  128\n",
       "19592  C19X5G   CRP   77   68   35\n",
       "1710   C19YT1   CRP   80   72   36"
      ]
     },
     "execution_count": 50,
     "metadata": {},
     "output_type": "execute_result"
    }
   ],
   "source": [
    "# EXP is the condition in which the scattergram was measured : \n",
    "# REST = non agonised, ADP = agonised with ADP, CRP = agonised with CRP\n",
    "sys_sct.sample(10)"
   ]
  },
  {
   "cell_type": "code",
   "execution_count": 51,
   "metadata": {},
   "outputs": [
    {
     "data": {
      "text/plain": [
       "CRP     475800\n",
       "REST    413800\n",
       "ADP     327400\n",
       "Name: EXP, dtype: int64"
      ]
     },
     "execution_count": 51,
     "metadata": {},
     "output_type": "execute_result"
    }
   ],
   "source": [
    "sys_sct.EXP.value_counts()"
   ]
  },
  {
   "cell_type": "code",
   "execution_count": 52,
   "metadata": {},
   "outputs": [
    {
     "data": {
      "text/plain": [
       "EXP\n",
       "ADP     208\n",
       "CRP     209\n",
       "REST    208\n",
       "Name: ID, dtype: int64"
      ]
     },
     "execution_count": 52,
     "metadata": {},
     "output_type": "execute_result"
    }
   ],
   "source": [
    "sys_sct.groupby(\"EXP\")[\"ID\"].nunique()"
   ]
  },
  {
   "cell_type": "markdown",
   "metadata": {},
   "source": [
    "# Read gold standard FC-measured PF phenotypes"
   ]
  },
  {
   "cell_type": "code",
   "execution_count": 64,
   "metadata": {},
   "outputs": [
    {
     "name": "stdout",
     "output_type": "stream",
     "text": [
      "(2142, 28)\n"
     ]
    }
   ],
   "source": [
    "fc = pd.read_csv(\"metadata_PF/PLATELET_FUNCTION_KD_11062019.txt\",sep=\"\\t\")\n",
    "fc.SAMPLE_ID = fc.SAMPLE_ID.astype(str)\n",
    "print(fc.shape)"
   ]
  },
  {
   "cell_type": "code",
   "execution_count": 65,
   "metadata": {},
   "outputs": [
    {
     "data": {
      "text/html": [
       "<div>\n",
       "<style scoped>\n",
       "    .dataframe tbody tr th:only-of-type {\n",
       "        vertical-align: middle;\n",
       "    }\n",
       "\n",
       "    .dataframe tbody tr th {\n",
       "        vertical-align: top;\n",
       "    }\n",
       "\n",
       "    .dataframe thead th {\n",
       "        text-align: right;\n",
       "    }\n",
       "</style>\n",
       "<table border=\"1\" class=\"dataframe\">\n",
       "  <thead>\n",
       "    <tr style=\"text-align: right;\">\n",
       "      <th></th>\n",
       "      <th>PROJECT</th>\n",
       "      <th>SAMPLE_ID</th>\n",
       "      <th>DATE</th>\n",
       "      <th>TIME</th>\n",
       "      <th>REST_FIB_1</th>\n",
       "      <th>REST_FIB_2</th>\n",
       "      <th>REST_PSEL_1</th>\n",
       "      <th>REST_PSEL_2</th>\n",
       "      <th>ADP_FIB_1</th>\n",
       "      <th>ADP_FIB_2</th>\n",
       "      <th>...</th>\n",
       "      <th>PAR1_PSEL_1</th>\n",
       "      <th>PAR1_PSEL_2</th>\n",
       "      <th>PAR4_FIB_1</th>\n",
       "      <th>PAR4_FIB_2</th>\n",
       "      <th>PAR4_PSEL_1</th>\n",
       "      <th>PAR4_PSEL_2</th>\n",
       "      <th>TRAP_FIB_1</th>\n",
       "      <th>TRAP_FIB_2</th>\n",
       "      <th>TRAP_PSEL_1</th>\n",
       "      <th>TRAP_PSEL_2</th>\n",
       "    </tr>\n",
       "  </thead>\n",
       "  <tbody>\n",
       "    <tr>\n",
       "      <th>1932</th>\n",
       "      <td>PFC_4</td>\n",
       "      <td>C19HYM</td>\n",
       "      <td>25/05/18</td>\n",
       "      <td>09:44:11</td>\n",
       "      <td>0.22</td>\n",
       "      <td>0.20</td>\n",
       "      <td>16.36</td>\n",
       "      <td>16.08</td>\n",
       "      <td>67.97</td>\n",
       "      <td>70.31</td>\n",
       "      <td>...</td>\n",
       "      <td>80.36</td>\n",
       "      <td>83.28</td>\n",
       "      <td>18.71</td>\n",
       "      <td>19.48</td>\n",
       "      <td>73.31</td>\n",
       "      <td>73.22</td>\n",
       "      <td>2.74</td>\n",
       "      <td>1.68</td>\n",
       "      <td>39.56</td>\n",
       "      <td>37.46</td>\n",
       "    </tr>\n",
       "    <tr>\n",
       "      <th>1399</th>\n",
       "      <td>PFC_3</td>\n",
       "      <td>C0B210</td>\n",
       "      <td>14/04/14</td>\n",
       "      <td>10:56:43</td>\n",
       "      <td>1.23</td>\n",
       "      <td>NaN</td>\n",
       "      <td>10.94</td>\n",
       "      <td>NaN</td>\n",
       "      <td>7.76</td>\n",
       "      <td>7.18</td>\n",
       "      <td>...</td>\n",
       "      <td>92.14</td>\n",
       "      <td>91.51</td>\n",
       "      <td>28.53</td>\n",
       "      <td>27.93</td>\n",
       "      <td>91.26</td>\n",
       "      <td>91.09</td>\n",
       "      <td>7.98</td>\n",
       "      <td>8.07</td>\n",
       "      <td>65.02</td>\n",
       "      <td>65.66</td>\n",
       "    </tr>\n",
       "    <tr>\n",
       "      <th>1542</th>\n",
       "      <td>PFC_3</td>\n",
       "      <td>C0DNCQ</td>\n",
       "      <td>14/07/14</td>\n",
       "      <td>10:18:48</td>\n",
       "      <td>2.41</td>\n",
       "      <td>NaN</td>\n",
       "      <td>8.61</td>\n",
       "      <td>NaN</td>\n",
       "      <td>10.39</td>\n",
       "      <td>8.92</td>\n",
       "      <td>...</td>\n",
       "      <td>95.50</td>\n",
       "      <td>95.69</td>\n",
       "      <td>35.27</td>\n",
       "      <td>37.53</td>\n",
       "      <td>88.53</td>\n",
       "      <td>87.45</td>\n",
       "      <td>21.51</td>\n",
       "      <td>22.82</td>\n",
       "      <td>76.34</td>\n",
       "      <td>76.47</td>\n",
       "    </tr>\n",
       "    <tr>\n",
       "      <th>1608</th>\n",
       "      <td>PFC_4_U</td>\n",
       "      <td>C0WX7T</td>\n",
       "      <td>12/01/16</td>\n",
       "      <td>12:03:07</td>\n",
       "      <td>1.23</td>\n",
       "      <td>2.13</td>\n",
       "      <td>23.33</td>\n",
       "      <td>25.89</td>\n",
       "      <td>69.98</td>\n",
       "      <td>68.87</td>\n",
       "      <td>...</td>\n",
       "      <td>84.55</td>\n",
       "      <td>84.91</td>\n",
       "      <td>19.70</td>\n",
       "      <td>21.05</td>\n",
       "      <td>71.76</td>\n",
       "      <td>70.12</td>\n",
       "      <td>4.45</td>\n",
       "      <td>4.71</td>\n",
       "      <td>45.66</td>\n",
       "      <td>47.63</td>\n",
       "    </tr>\n",
       "    <tr>\n",
       "      <th>146</th>\n",
       "      <td>PFC_1</td>\n",
       "      <td>100010100059</td>\n",
       "      <td>25/07/05</td>\n",
       "      <td>08:09:00</td>\n",
       "      <td>11.20</td>\n",
       "      <td>2.59</td>\n",
       "      <td>NaN</td>\n",
       "      <td>NaN</td>\n",
       "      <td>19.08</td>\n",
       "      <td>20.72</td>\n",
       "      <td>...</td>\n",
       "      <td>NaN</td>\n",
       "      <td>NaN</td>\n",
       "      <td>NaN</td>\n",
       "      <td>NaN</td>\n",
       "      <td>NaN</td>\n",
       "      <td>NaN</td>\n",
       "      <td>NaN</td>\n",
       "      <td>NaN</td>\n",
       "      <td>NaN</td>\n",
       "      <td>NaN</td>\n",
       "    </tr>\n",
       "  </tbody>\n",
       "</table>\n",
       "<p>5 rows × 28 columns</p>\n",
       "</div>"
      ],
      "text/plain": [
       "      PROJECT     SAMPLE_ID      DATE      TIME  REST_FIB_1  REST_FIB_2  \\\n",
       "1932    PFC_4        C19HYM  25/05/18  09:44:11        0.22        0.20   \n",
       "1399    PFC_3        C0B210  14/04/14  10:56:43        1.23         NaN   \n",
       "1542    PFC_3        C0DNCQ  14/07/14  10:18:48        2.41         NaN   \n",
       "1608  PFC_4_U        C0WX7T  12/01/16  12:03:07        1.23        2.13   \n",
       "146     PFC_1  100010100059  25/07/05  08:09:00       11.20        2.59   \n",
       "\n",
       "      REST_PSEL_1  REST_PSEL_2  ADP_FIB_1  ADP_FIB_2  ...  PAR1_PSEL_1  \\\n",
       "1932        16.36        16.08      67.97      70.31  ...        80.36   \n",
       "1399        10.94          NaN       7.76       7.18  ...        92.14   \n",
       "1542         8.61          NaN      10.39       8.92  ...        95.50   \n",
       "1608        23.33        25.89      69.98      68.87  ...        84.55   \n",
       "146           NaN          NaN      19.08      20.72  ...          NaN   \n",
       "\n",
       "      PAR1_PSEL_2  PAR4_FIB_1  PAR4_FIB_2  PAR4_PSEL_1  PAR4_PSEL_2  \\\n",
       "1932        83.28       18.71       19.48        73.31        73.22   \n",
       "1399        91.51       28.53       27.93        91.26        91.09   \n",
       "1542        95.69       35.27       37.53        88.53        87.45   \n",
       "1608        84.91       19.70       21.05        71.76        70.12   \n",
       "146           NaN         NaN         NaN          NaN          NaN   \n",
       "\n",
       "      TRAP_FIB_1  TRAP_FIB_2  TRAP_PSEL_1  TRAP_PSEL_2  \n",
       "1932        2.74        1.68        39.56        37.46  \n",
       "1399        7.98        8.07        65.02        65.66  \n",
       "1542       21.51       22.82        76.34        76.47  \n",
       "1608        4.45        4.71        45.66        47.63  \n",
       "146          NaN         NaN          NaN          NaN  \n",
       "\n",
       "[5 rows x 28 columns]"
      ]
     },
     "execution_count": 65,
     "metadata": {},
     "output_type": "execute_result"
    }
   ],
   "source": [
    "fc.sample(5)"
   ]
  },
  {
   "cell_type": "markdown",
   "metadata": {},
   "source": [
    "# Read \"Sysmex phenotypes\" (PLT, MPV & co)"
   ]
  },
  {
   "cell_type": "code",
   "execution_count": 66,
   "metadata": {},
   "outputs": [
    {
     "name": "stdout",
     "output_type": "stream",
     "text": [
      "(2197, 6)\n"
     ]
    }
   ],
   "source": [
    "sys_phen = pd.read_csv(\"metadata_PF/PLATELET_FUNCTION_METADATA_KD_11062019.txt\",sep=\"\\t\")\n",
    "sys_phen.SAMPLE_ID = meta.SAMPLE_ID.astype(str)\n",
    "print(sys_phen.shape)"
   ]
  },
  {
   "cell_type": "code",
   "execution_count": 60,
   "metadata": {},
   "outputs": [
    {
     "data": {
      "text/html": [
       "<div>\n",
       "<style scoped>\n",
       "    .dataframe tbody tr th:only-of-type {\n",
       "        vertical-align: middle;\n",
       "    }\n",
       "\n",
       "    .dataframe tbody tr th {\n",
       "        vertical-align: top;\n",
       "    }\n",
       "\n",
       "    .dataframe thead th {\n",
       "        text-align: right;\n",
       "    }\n",
       "</style>\n",
       "<table border=\"1\" class=\"dataframe\">\n",
       "  <thead>\n",
       "    <tr style=\"text-align: right;\">\n",
       "      <th></th>\n",
       "      <th>Cohort</th>\n",
       "      <th>SAMPLE_ID</th>\n",
       "      <th>SEX</th>\n",
       "      <th>AGE</th>\n",
       "      <th>PLT</th>\n",
       "      <th>MPV</th>\n",
       "    </tr>\n",
       "  </thead>\n",
       "  <tbody>\n",
       "    <tr>\n",
       "      <th>652</th>\n",
       "      <td>PFC_3</td>\n",
       "      <td>C05QC4</td>\n",
       "      <td>F</td>\n",
       "      <td>59.0</td>\n",
       "      <td>299.0</td>\n",
       "      <td>10.1</td>\n",
       "    </tr>\n",
       "    <tr>\n",
       "      <th>240</th>\n",
       "      <td>PFC_4</td>\n",
       "      <td>C18JCT</td>\n",
       "      <td>F</td>\n",
       "      <td>33.0</td>\n",
       "      <td>225.0</td>\n",
       "      <td>10.5</td>\n",
       "    </tr>\n",
       "    <tr>\n",
       "      <th>405</th>\n",
       "      <td>PFC_4</td>\n",
       "      <td>C19FEX</td>\n",
       "      <td>F</td>\n",
       "      <td>76.0</td>\n",
       "      <td>193.0</td>\n",
       "      <td>11.6</td>\n",
       "    </tr>\n",
       "    <tr>\n",
       "      <th>1614</th>\n",
       "      <td>PFC_2</td>\n",
       "      <td>1312</td>\n",
       "      <td>F</td>\n",
       "      <td>62.0</td>\n",
       "      <td>377.0</td>\n",
       "      <td>7.6</td>\n",
       "    </tr>\n",
       "    <tr>\n",
       "      <th>230</th>\n",
       "      <td>PFC_4</td>\n",
       "      <td>C18FSD</td>\n",
       "      <td>M</td>\n",
       "      <td>27.0</td>\n",
       "      <td>231.0</td>\n",
       "      <td>10.6</td>\n",
       "    </tr>\n",
       "  </tbody>\n",
       "</table>\n",
       "</div>"
      ],
      "text/plain": [
       "     Cohort SAMPLE_ID SEX   AGE    PLT   MPV\n",
       "652   PFC_3    C05QC4   F  59.0  299.0  10.1\n",
       "240   PFC_4    C18JCT   F  33.0  225.0  10.5\n",
       "405   PFC_4    C19FEX   F  76.0  193.0  11.6\n",
       "1614  PFC_2      1312   F  62.0  377.0   7.6\n",
       "230   PFC_4    C18FSD   M  27.0  231.0  10.6"
      ]
     },
     "execution_count": 60,
     "metadata": {},
     "output_type": "execute_result"
    }
   ],
   "source": [
    "sys_phen.sample(5)"
   ]
  },
  {
   "cell_type": "markdown",
   "metadata": {},
   "source": [
    "# Merge "
   ]
  },
  {
   "cell_type": "code",
   "execution_count": 67,
   "metadata": {},
   "outputs": [
    {
     "name": "stdout",
     "output_type": "stream",
     "text": [
      "(2091, 33)\n"
     ]
    }
   ],
   "source": [
    "# sys_phen and meta -> features\n",
    "features = pd.merge(fc, meta, left_on=\"SAMPLE_ID\",right_on=\"SAMPLE_ID\",how=\"inner\")\n",
    "print(features.shape)"
   ]
  },
  {
   "cell_type": "code",
   "execution_count": 71,
   "metadata": {},
   "outputs": [
    {
     "name": "stdout",
     "output_type": "stream",
     "text": [
      "205\n"
     ]
    }
   ],
   "source": [
    "# count IDs in common between features and sys_sct\n",
    "good_IDs = set(sys_sct.ID.unique().tolist()).intersection(features.SAMPLE_ID.unique().tolist())\n",
    "print(len(good_IDs))"
   ]
  },
  {
   "cell_type": "code",
   "execution_count": 77,
   "metadata": {},
   "outputs": [
    {
     "data": {
      "text/plain": [
       "PFC_4    205\n",
       "Name: Cohort, dtype: int64"
      ]
     },
     "execution_count": 77,
     "metadata": {},
     "output_type": "execute_result"
    }
   ],
   "source": [
    "# All are from the PFC_4 project\n",
    "features.loc[features.SAMPLE_ID.isin(good_IDs)].Cohort.value_counts()"
   ]
  },
  {
   "cell_type": "code",
   "execution_count": 75,
   "metadata": {},
   "outputs": [
    {
     "data": {
      "text/plain": [
       "PROJECT        205\n",
       "SAMPLE_ID      205\n",
       "DATE           205\n",
       "TIME           205\n",
       "REST_FIB_1     205\n",
       "REST_FIB_2     205\n",
       "REST_PSEL_1    205\n",
       "REST_PSEL_2    205\n",
       "ADP_FIB_1      205\n",
       "ADP_FIB_2      205\n",
       "CRP_FIB_1      205\n",
       "CRP_FIB_2      205\n",
       "ADP_PSEL_1     205\n",
       "ADP_PSEL_2     205\n",
       "CRP_PSEL_1     205\n",
       "CRP_PSEL_2     205\n",
       "PAR1_FIB_1     205\n",
       "PAR1_FIB_2     205\n",
       "PAR1_PSEL_1    205\n",
       "PAR1_PSEL_2    205\n",
       "PAR4_FIB_1     205\n",
       "PAR4_FIB_2     205\n",
       "PAR4_PSEL_1    205\n",
       "PAR4_PSEL_2    205\n",
       "TRAP_FIB_1     205\n",
       "TRAP_FIB_2     205\n",
       "TRAP_PSEL_1    205\n",
       "TRAP_PSEL_2    205\n",
       "Cohort         205\n",
       "SEX            205\n",
       "AGE            205\n",
       "PLT            205\n",
       "MPV            205\n",
       "dtype: int64"
      ]
     },
     "execution_count": 75,
     "metadata": {},
     "output_type": "execute_result"
    }
   ],
   "source": [
    "# There seem to be 205 individuals on which to train !\n",
    "(~features.loc[features.SAMPLE_ID.isin(good_IDs)].isnull()).sum()"
   ]
  },
  {
   "cell_type": "code",
   "execution_count": null,
   "metadata": {},
   "outputs": [],
   "source": []
  }
 ],
 "metadata": {
  "kernelspec": {
   "display_name": "Python 3",
   "language": "python",
   "name": "python3"
  },
  "language_info": {
   "codemirror_mode": {
    "name": "ipython",
    "version": 3
   },
   "file_extension": ".py",
   "mimetype": "text/x-python",
   "name": "python",
   "nbconvert_exporter": "python",
   "pygments_lexer": "ipython3",
   "version": "3.7.3"
  },
  "toc": {
   "base_numbering": 1,
   "nav_menu": {},
   "number_sections": true,
   "sideBar": true,
   "skip_h1_title": false,
   "title_cell": "Table of Contents",
   "title_sidebar": "Contents",
   "toc_cell": false,
   "toc_position": {},
   "toc_section_display": true,
   "toc_window_display": false
  }
 },
 "nbformat": 4,
 "nbformat_minor": 2
}
