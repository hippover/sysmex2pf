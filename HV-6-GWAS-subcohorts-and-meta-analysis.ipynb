{
 "cells": [
  {
   "cell_type": "code",
   "execution_count": 1,
   "metadata": {},
   "outputs": [
    {
     "name": "stderr",
     "output_type": "stream",
     "text": [
      "/home/hv270/platelets/lib/python3.7/site-packages/FlowCytometryTools/core/docstring.py:56: MatplotlibDeprecationWarning: \n",
      "The dedent function was deprecated in Matplotlib 3.1 and will be removed in 3.3. Use inspect.cleandoc instead.\n",
      "  doc = dedent(doc)\n"
     ]
    }
   ],
   "source": [
    "import pandas as pd\n",
    "import numpy as np\n",
    "import ruptures as rp\n",
    "from prediction_pipeline.preprocessing import *\n",
    "from sklearn.linear_model import LinearRegression\n",
    "from glob import glob\n",
    "%load_ext autoreload\n",
    "%autoreload 2\n",
    "\n",
    "from sklearn.decomposition import PCA, FactorAnalysis\n",
    "from sklearn.cross_decomposition import PLSRegression\n",
    "from collections import defaultdict \n",
    "from scipy.stats import pearsonr\n",
    "from sklearn.metrics import r2_score\n",
    "from sklearn.model_selection import RepeatedStratifiedKFold\n",
    "from sklearn.preprocessing import RobustScaler\n",
    "import os\n",
    "import subprocess"
   ]
  },
  {
   "cell_type": "code",
   "execution_count": 2,
   "metadata": {},
   "outputs": [],
   "source": [
    "data_dir = \"/home/hv270/rds/rds-who1000-cbrc/user/wja24/shared/hv270/data_home\"\n",
    "export_folder = \"/home/hv270/rds/rds-who1000-cbrc/user/wja24/shared/hippolyte_only/interval_processing\""
   ]
  },
  {
   "cell_type": "code",
   "execution_count": 3,
   "metadata": {},
   "outputs": [],
   "source": [
    "tag = \"29_sept\"\n",
    "tag_path = \"%s/%s\" % (export_folder,tag) \n",
    "tag_score_path = \"%s/Genetic_score/%s\" % (export_folder,tag) \n",
    "if not os.path.exists(tag_path): os.mkdir(tag_path)\n",
    "if not os.path.exists(tag_score_path): os.mkdir(tag_score_path)"
   ]
  },
  {
   "cell_type": "markdown",
   "metadata": {},
   "source": [
    "# Tags\n",
    "\n",
    "## 9jun\n",
    "\n",
    "- factor analysis pour décomposer les scattergrams.\n",
    "- PLS pour l'ajustement des features et l'estimation par les covariates\n",
    "- PCT enlevé des covariates, IPF y est bien par contre\n",
    "- N_PLS_COMPS = 1\n",
    "\n",
    "## 10jun\n",
    "\n",
    "idem + :\n",
    "- phase A & B, 2K cellules / scattergram\n",
    "\n",
    "## 11jun\n",
    "\n",
    "idem + :\n",
    "- PCT gardé comme covariate\n",
    "- PCA pour les features au lieu de FA\n",
    "- ajustement des features par PLS mais avec 3 composantes. PLS fittée séparément pour int et sys\n",
    "\n",
    "jusqu'ici, PEAR1 avait une P-value autour de 0,1... mais avec ça, elle passe à 1E-7. C'est bien, mais il faut pousser encore. Je pense que c'est l'ajustement qui compte beaucoup.\n",
    "\n",
    "## 11jun_WE\n",
    "\n",
    "idem + :\n",
    "- 4 composantes dans la PLS d'ajustement\n",
    "- On essaie le GWAS sur les _FIB\n",
    "\n",
    "-> On a PEAR1 ! :) \n",
    "\n",
    "## 15jun\n",
    "\n",
    "idem + :\n",
    "- normalisé chaque features par sa STD après ajustement, séparément pour train et pour interval\n",
    "\n",
    "-> Ca marche moins bien...\n",
    "\n",
    "## 16jun\n",
    "\n",
    "- enlevé la normalisation\n",
    "- Remarqué que la covariance est différente entre les variables ajustées de INT et de TRAIN, donc X_int = PCA_train_inv(PCA_int(X_int))\n",
    "\n",
    "-> Ne marche pas\n",
    "\n",
    "## 21 juin\n",
    "\n",
    "- même process, en sélectionnant moins de features (6)\n",
    "\n",
    "-> PEAR1 est à 4e-7 en PLINK. À suivre\n",
    "\n",
    "## 21 juin no_pca\n",
    "\n",
    "- même process, enlevé la PCA\n",
    "\n",
    "-> 4e-7 mais Beta opposé !?\n",
    "\n",
    "## 21jun_nopca_3feats\n",
    "\n",
    "- on ne garde que 3 features\n",
    "\n",
    "-> 6e-7\n",
    "\n",
    "## 21jun_3feats_fixedpca\n",
    "\n",
    "- Problème de PCA résolu : on s'assure que les composantes des PCA post-ajustement sont à peu près les mêmes (on ne vérifiait pas que les signes concordaient...)\n",
    "\n",
    "-> Marche pas mieux, la PCA n'est pas adaptée\n",
    "\n",
    "## 22jun_cholesky\n",
    "\n",
    "- On décorrèle et recorrèle les données avec une Cholesky\n",
    "- On repasse avec 6 features\n",
    "- On clippe à -4 - +4\n",
    "- On remultiplie par les STD post-ajustement -> 1e-7 !\n",
    "\n",
    "## 22jun_cholesky_3feats\n",
    "\n",
    "- idem avec 3 features\n",
    "- Vu qu'il y a peu de features, on utilise juste une régression linéaire à la place de la PLS pour la prédiction des phenotypes. Ca marche mieux (on explique plus de R^2) -> 8e-7\n",
    "\n",
    "## 22jun_cholesky_3feats_adjust\n",
    "\n",
    "- en plus, on fait un ajustement à la toute fin du processus\n",
    "\n",
    "-> 7e-7\n",
    "\n",
    "## 22jun_3feats_adjust\n",
    "\n",
    "- No cholesky\n",
    "- min cohort size = 200\n",
    "\n",
    "-> 1.7e-7\n",
    "\n",
    "## 22jun_adjust\n",
    "\n",
    "- Back to 6 features\n",
    "\n",
    "-> 2e-8 !!\n",
    "\n",
    "## 22jun_adj_feats\n",
    "\n",
    "- Adjust features before fit and prediction\n",
    "- PLS instead of LR\n",
    "- back to all features\n",
    "\n",
    "-> 4.7e-9 !\n",
    "\n",
    "- Try adding cholesky adjustment, it breaks the p-value. Maybe there's a better way to \n",
    "\n",
    "## 25jun_sep_PCA\n",
    "\n",
    "- Try to use different PCAs for both cohorts\n",
    "\n",
    "-> 2e-8\n",
    "\n",
    "## 5_july_gating\n",
    "\n",
    "- Changed gating\n",
    "- Kept more platelets per sample\n",
    "- Kept individuals with PLT count discrepancies\n",
    "- Same PCA for both cohorts\n",
    "\n",
    "## 26 july\n",
    "\n",
    "- Filter upper left corner (kept first rows of .fcs and .116 files)\n",
    "- adjust STD of scatter signal -> marche pas\n",
    "\n",
    "## 27 july\n",
    "\n",
    "-> Ce qui marche le mieux est l'ajustement à la toute fin. Voir si prendre les données de scatter ajustées aide.\n",
    "-> Dernier truc à explorer : time_of_the_day x machine & regarder les cohortes qui n'ont pas un bon p"
   ]
  },
  {
   "cell_type": "markdown",
   "metadata": {},
   "source": [
    "# Matching tables"
   ]
  },
  {
   "cell_type": "code",
   "execution_count": 81,
   "metadata": {},
   "outputs": [],
   "source": [
    "matching = pd.read_csv(\"/home/hv270/rds/rds-who1000-cbrc/user/wja24/shared/hippolyte_only/interval_phenotypes/INTERVAL_OmicsMap_20200514.csv\", sep=\",\")\n",
    "has_one_id = ~matching[\"Affymetrix_QC_bl\"].isnull() | ~matching[\"Affymetrix_QC_24m\"].isnull()\n",
    "matching = matching.loc[has_one_id]\n",
    "matching[\"AffyID\"] = matching[\"Affymetrix_QC_bl\"]\n",
    "matching.loc[matching.AffyID.isnull(),\"AffyID\"] = matching.loc[matching.AffyID.isnull(),\"Affymetrix_QC_24m\"]"
   ]
  },
  {
   "cell_type": "code",
   "execution_count": 82,
   "metadata": {},
   "outputs": [
    {
     "name": "stdout",
     "output_type": "stream",
     "text": [
      "Loading INTERVAL phenotypes\n",
      "(48460, 760)\n",
      "(45040, 760)\n",
      "(38832, 760)\n",
      "(112535, 11)\n",
      "(102595, 11)\n",
      "(17768, 772)\n",
      "(32574, 777)\n",
      "(32727, 777)\n",
      "Checked that each Sample has one row max\n",
      "Removing samples with less than 10 measurements per day\n",
      "(30725, 782)\n"
     ]
    }
   ],
   "source": [
    "int_phen, meta = get_INTERVAL_phenotypes()"
   ]
  },
  {
   "cell_type": "code",
   "execution_count": 83,
   "metadata": {},
   "outputs": [],
   "source": [
    "meta = pd.merge(matching,int_phen,left_on=\"identifier\", right_on=\"identifier\")\n",
    "meta[\"IID\"] = meta[\"AffyID\"].astype(int).astype(str)\n",
    "meta[\"FID\"] = meta[\"AffyID\"].astype(int).astype(str)\n",
    "\n",
    "meta[\"cohort\"] = meta.interval"
   ]
  },
  {
   "cell_type": "code",
   "execution_count": 84,
   "metadata": {},
   "outputs": [
    {
     "data": {
      "text/html": [
       "<div>\n",
       "<style scoped>\n",
       "    .dataframe tbody tr th:only-of-type {\n",
       "        vertical-align: middle;\n",
       "    }\n",
       "\n",
       "    .dataframe tbody tr th {\n",
       "        vertical-align: top;\n",
       "    }\n",
       "\n",
       "    .dataframe thead th {\n",
       "        text-align: right;\n",
       "    }\n",
       "</style>\n",
       "<table border=\"1\" class=\"dataframe\">\n",
       "  <thead>\n",
       "    <tr style=\"text-align: right;\">\n",
       "      <th></th>\n",
       "      <th>identifier</th>\n",
       "      <th>Affymetrix_QC_bl</th>\n",
       "      <th>Affymetrix_gwasQC_bl</th>\n",
       "      <th>Affymetrix_QC_24m</th>\n",
       "      <th>Affymetrix_gwasQC_24m</th>\n",
       "      <th>AffyID</th>\n",
       "      <th>machine</th>\n",
       "      <th>day</th>\n",
       "      <th>FileName</th>\n",
       "      <th>SampleNo</th>\n",
       "      <th>...</th>\n",
       "      <th>PDW_fL_bl</th>\n",
       "      <th>MPV_fL_bl</th>\n",
       "      <th>PCT_PCT_bl</th>\n",
       "      <th>IPF_bl</th>\n",
       "      <th>weekday</th>\n",
       "      <th>yearday</th>\n",
       "      <th>hours</th>\n",
       "      <th>IID</th>\n",
       "      <th>FID</th>\n",
       "      <th>cohort</th>\n",
       "    </tr>\n",
       "  </thead>\n",
       "  <tbody>\n",
       "    <tr>\n",
       "      <th>29499</th>\n",
       "      <td>1119868</td>\n",
       "      <td>1.100154e+11</td>\n",
       "      <td>1.100154e+11</td>\n",
       "      <td>NaN</td>\n",
       "      <td>NaN</td>\n",
       "      <td>1.100154e+11</td>\n",
       "      <td>1</td>\n",
       "      <td>2013-04-27</td>\n",
       "      <td>[XN-10^11036][00-13_16][20130427_105755][     ...</td>\n",
       "      <td>INT_116_201200</td>\n",
       "      <td>...</td>\n",
       "      <td>NaN</td>\n",
       "      <td>NaN</td>\n",
       "      <td>NaN</td>\n",
       "      <td>NaN</td>\n",
       "      <td>5</td>\n",
       "      <td>117</td>\n",
       "      <td>10</td>\n",
       "      <td>110015374669</td>\n",
       "      <td>110015374669</td>\n",
       "      <td>M10</td>\n",
       "    </tr>\n",
       "    <tr>\n",
       "      <th>2297</th>\n",
       "      <td>1009390</td>\n",
       "      <td>1.100036e+11</td>\n",
       "      <td>1.100036e+11</td>\n",
       "      <td>NaN</td>\n",
       "      <td>NaN</td>\n",
       "      <td>1.100036e+11</td>\n",
       "      <td>1</td>\n",
       "      <td>2014-01-03</td>\n",
       "      <td>[XN-10^11036][00-15_5][20140103_135007][      ...</td>\n",
       "      <td>INT_116_2574500</td>\n",
       "      <td>...</td>\n",
       "      <td>NaN</td>\n",
       "      <td>NaN</td>\n",
       "      <td>NaN</td>\n",
       "      <td>NaN</td>\n",
       "      <td>4</td>\n",
       "      <td>3</td>\n",
       "      <td>13</td>\n",
       "      <td>110003641620</td>\n",
       "      <td>110003641620</td>\n",
       "      <td>M10</td>\n",
       "    </tr>\n",
       "    <tr>\n",
       "      <th>1865</th>\n",
       "      <td>1007533</td>\n",
       "      <td>NaN</td>\n",
       "      <td>NaN</td>\n",
       "      <td>1.100102e+11</td>\n",
       "      <td>1.100102e+11</td>\n",
       "      <td>1.100102e+11</td>\n",
       "      <td>1</td>\n",
       "      <td>2014-08-14</td>\n",
       "      <td>[XN-10^11036][00-15_5][20140814_103959][      ...</td>\n",
       "      <td>INT_116_5342000</td>\n",
       "      <td>...</td>\n",
       "      <td>14.5</td>\n",
       "      <td>11.7</td>\n",
       "      <td>0.28</td>\n",
       "      <td>9.1</td>\n",
       "      <td>3</td>\n",
       "      <td>226</td>\n",
       "      <td>10</td>\n",
       "      <td>110010189874</td>\n",
       "      <td>110010189874</td>\n",
       "      <td>M12</td>\n",
       "    </tr>\n",
       "  </tbody>\n",
       "</table>\n",
       "<p>3 rows × 790 columns</p>\n",
       "</div>"
      ],
      "text/plain": [
       "       identifier  Affymetrix_QC_bl  Affymetrix_gwasQC_bl  Affymetrix_QC_24m  \\\n",
       "29499     1119868      1.100154e+11          1.100154e+11                NaN   \n",
       "2297      1009390      1.100036e+11          1.100036e+11                NaN   \n",
       "1865      1007533               NaN                   NaN       1.100102e+11   \n",
       "\n",
       "       Affymetrix_gwasQC_24m        AffyID  machine        day  \\\n",
       "29499                    NaN  1.100154e+11        1 2013-04-27   \n",
       "2297                     NaN  1.100036e+11        1 2014-01-03   \n",
       "1865            1.100102e+11  1.100102e+11        1 2014-08-14   \n",
       "\n",
       "                                                FileName         SampleNo  \\\n",
       "29499  [XN-10^11036][00-13_16][20130427_105755][     ...   INT_116_201200   \n",
       "2297   [XN-10^11036][00-15_5][20140103_135007][      ...  INT_116_2574500   \n",
       "1865   [XN-10^11036][00-15_5][20140814_103959][      ...  INT_116_5342000   \n",
       "\n",
       "       ... PDW_fL_bl MPV_fL_bl  PCT_PCT_bl IPF_bl  weekday  yearday  hours  \\\n",
       "29499  ...       NaN       NaN         NaN    NaN        5      117     10   \n",
       "2297   ...       NaN       NaN         NaN    NaN        4        3     13   \n",
       "1865   ...      14.5      11.7        0.28    9.1        3      226     10   \n",
       "\n",
       "                IID           FID  cohort  \n",
       "29499  110015374669  110015374669     M10  \n",
       "2297   110003641620  110003641620     M10  \n",
       "1865   110010189874  110010189874     M12  \n",
       "\n",
       "[3 rows x 790 columns]"
      ]
     },
     "execution_count": 84,
     "metadata": {},
     "output_type": "execute_result"
    }
   ],
   "source": [
    "meta.sample(3)"
   ]
  },
  {
   "cell_type": "code",
   "execution_count": 85,
   "metadata": {},
   "outputs": [
    {
     "data": {
      "text/plain": [
       "M12    5025\n",
       "M10    4956\n",
       "F14    4948\n",
       "M08    4877\n",
       "F12    4868\n",
       "F16    4856\n",
       "Name: cohort, dtype: int64"
      ]
     },
     "execution_count": 85,
     "metadata": {},
     "output_type": "execute_result"
    }
   ],
   "source": [
    "meta.cohort.value_counts()"
   ]
  },
  {
   "cell_type": "code",
   "execution_count": 86,
   "metadata": {},
   "outputs": [
    {
     "data": {
      "text/plain": [
       "BL    16647\n",
       "24    12883\n",
       "Name: in_cohort, dtype: int64"
      ]
     },
     "execution_count": 86,
     "metadata": {},
     "output_type": "execute_result"
    }
   ],
   "source": [
    "meta.in_cohort.value_counts()"
   ]
  },
  {
   "cell_type": "code",
   "execution_count": 87,
   "metadata": {},
   "outputs": [],
   "source": [
    "meta[\"cohort_covar\"] = 0\n",
    "for i, c in enumerate(meta[\"in_cohort\"].unique().tolist()):\n",
    "    meta.loc[meta[\"in_cohort\"] == c,\"cohort_covar\"] = i\n",
    "meta[\"age_covar\"] = RobustScaler().fit_transform(meta[[\"Age\"]])\n",
    "meta[\"instrument_covar\"] = 1*(meta.Instrument == \"XN-10^11041\")\n",
    "\n",
    "pcs = pd.read_csv(\"%s/principal_components/PC.eigenvec\" % export_folder,sep=\"\\t\")\n",
    "pcs[\"IID\"] = pcs[\"IID\"].astype(str)"
   ]
  },
  {
   "cell_type": "code",
   "execution_count": 88,
   "metadata": {},
   "outputs": [
    {
     "name": "stdout",
     "output_type": "stream",
     "text": [
      "(30725, 3)\n"
     ]
    }
   ],
   "source": [
    "match = int_phen.loc[int_phen.ethnicPulse == \"Eng/W/Scot/NI/Brit\",[\"SampleNo\",\"identifier\"]]\n",
    "match[\"valid_id\"] = match[\"identifier\"].astype(int)\n",
    "print(match.shape)"
   ]
  },
  {
   "cell_type": "code",
   "execution_count": 89,
   "metadata": {},
   "outputs": [
    {
     "name": "stdout",
     "output_type": "stream",
     "text": [
      "Loading INTERVAL phenotypes\n",
      "(48460, 760)\n",
      "(45040, 760)\n",
      "(38832, 760)\n",
      "(112535, 11)\n",
      "(102595, 11)\n",
      "(17768, 772)\n",
      "(32574, 777)\n",
      "(32727, 777)\n",
      "Checked that each Sample has one row max\n",
      "Removing samples with less than 10 measurements per day\n",
      "(30725, 782)\n",
      "32922\n",
      "30670\n",
      "30670\n"
     ]
    },
    {
     "data": {
      "text/html": [
       "<div>\n",
       "<style scoped>\n",
       "    .dataframe tbody tr th:only-of-type {\n",
       "        vertical-align: middle;\n",
       "    }\n",
       "\n",
       "    .dataframe tbody tr th {\n",
       "        vertical-align: top;\n",
       "    }\n",
       "\n",
       "    .dataframe thead th {\n",
       "        text-align: right;\n",
       "    }\n",
       "</style>\n",
       "<table border=\"1\" class=\"dataframe\">\n",
       "  <thead>\n",
       "    <tr style=\"text-align: right;\">\n",
       "      <th></th>\n",
       "      <th>SEX</th>\n",
       "      <th>AGE</th>\n",
       "      <th>PLT</th>\n",
       "      <th>MPV</th>\n",
       "      <th>PCT</th>\n",
       "      <th>PDW</th>\n",
       "      <th>IPF</th>\n",
       "    </tr>\n",
       "  </thead>\n",
       "  <tbody>\n",
       "    <tr>\n",
       "      <th>INT_116_2222100</th>\n",
       "      <td>2</td>\n",
       "      <td>50.6</td>\n",
       "      <td>-0.032382</td>\n",
       "      <td>1.473408</td>\n",
       "      <td>0.852254</td>\n",
       "      <td>0.688750</td>\n",
       "      <td>0.453961</td>\n",
       "    </tr>\n",
       "    <tr>\n",
       "      <th>INT_116_4685400</th>\n",
       "      <td>2</td>\n",
       "      <td>32.0</td>\n",
       "      <td>0.775965</td>\n",
       "      <td>-1.244352</td>\n",
       "      <td>0.274689</td>\n",
       "      <td>-1.052643</td>\n",
       "      <td>-1.389695</td>\n",
       "    </tr>\n",
       "    <tr>\n",
       "      <th>INT_116_743200</th>\n",
       "      <td>1</td>\n",
       "      <td>49.0</td>\n",
       "      <td>-0.837971</td>\n",
       "      <td>0.915148</td>\n",
       "      <td>-0.595247</td>\n",
       "      <td>1.832537</td>\n",
       "      <td>1.344154</td>\n",
       "    </tr>\n",
       "  </tbody>\n",
       "</table>\n",
       "</div>"
      ],
      "text/plain": [
       "                 SEX   AGE       PLT       MPV       PCT       PDW       IPF\n",
       "INT_116_2222100    2  50.6 -0.032382  1.473408  0.852254  0.688750  0.453961\n",
       "INT_116_4685400    2  32.0  0.775965 -1.244352  0.274689 -1.052643 -1.389695\n",
       "INT_116_743200     1  49.0 -0.837971  0.915148 -0.595247  1.832537  1.344154"
      ]
     },
     "execution_count": 89,
     "metadata": {},
     "output_type": "execute_result"
    }
   ],
   "source": [
    "sysmex_features = pd.read_csv(\"%s/processed/sysmex_features_adjusted.csv\" % data_dir,index_col=0)\n",
    "sys_agesex, int_agesex = get_ages_sex()\n",
    "agesex = pd.concat((sys_agesex,int_agesex),axis=0)\n",
    "print(agesex.shape[0])\n",
    "print(sysmex_features.shape[0])\n",
    "covar = pd.merge(agesex, sysmex_features,left_index=True,right_index=True,how=\"inner\")\n",
    "print(covar.shape[0])\n",
    "covar.sample(3)"
   ]
  },
  {
   "cell_type": "code",
   "execution_count": 90,
   "metadata": {},
   "outputs": [],
   "source": [
    "bkps_cohort = pd.read_csv(\"%s/processed/bkpts_cohorts.csv\" % data_dir).set_index(\"SampleNo\")\n",
    "bkps_cohort.rename(columns={\"cohort\":\"bkps_cohort\"},inplace=True)\n",
    "bkps_cohort[\"bkps_cohort\"] = \"BKP_\" + bkps_cohort[\"bkps_cohort\"].astype(str)\n",
    "#covar = pd.merge(covar, pd.get_dummies(bkps_cohort[\"bkps_cohort\"],drop_first=True),left_index=True,right_index=True)\n",
    "covar = pd.merge(covar, bkps_cohort, left_index=True,right_index=True)"
   ]
  },
  {
   "cell_type": "code",
   "execution_count": 91,
   "metadata": {},
   "outputs": [],
   "source": [
    "covars = pd.merge(covar,\n",
    "                 meta.loc[meta.ethnicPulse == \"Eng/W/Scot/NI/Brit\"].set_index(\"SampleNo\")[[\"FID\",\"IID\",\"age_covar\",\"cohort_covar\",\"yearday\",\"hours\",\"centre\"\n",
    "                                                                                          ]],\n",
    "                left_index=True,right_index=True)\n",
    "for c in [\"yearday\",\"hours\",\"centre\"]:\n",
    "    del covars[c]\n",
    "#covars[\"summer\"] = ((covars[\"yearday\"] > 120) & (covars[\"yearday\"] < 250))*1\n",
    "covars = pd.merge(covars,pcs[pcs.columns[1:]],left_on=\"IID\",right_on=\"IID\")\n",
    "covars = covars[[\"FID\",\"IID\"] + [c for c in covars.columns if c not in [\"IID\",\"FID\"]]]\n",
    "#covars[\"centre\"] = \"CENTER_\" + covars[\"centre\"].astype(str)\n",
    "covars = covars.dropna(axis=0,how=\"any\")\n",
    "\n",
    "#covars[\"cohort_covar\"] = \"C_\" + covars[\"cohort_covar\"].astype(str)\n",
    "\n",
    "del covars[\"AGE\"]"
   ]
  },
  {
   "cell_type": "code",
   "execution_count": 92,
   "metadata": {},
   "outputs": [
    {
     "data": {
      "text/html": [
       "<div>\n",
       "<style scoped>\n",
       "    .dataframe tbody tr th:only-of-type {\n",
       "        vertical-align: middle;\n",
       "    }\n",
       "\n",
       "    .dataframe tbody tr th {\n",
       "        vertical-align: top;\n",
       "    }\n",
       "\n",
       "    .dataframe thead th {\n",
       "        text-align: right;\n",
       "    }\n",
       "</style>\n",
       "<table border=\"1\" class=\"dataframe\">\n",
       "  <thead>\n",
       "    <tr style=\"text-align: right;\">\n",
       "      <th></th>\n",
       "      <th>FID</th>\n",
       "      <th>IID</th>\n",
       "      <th>SEX</th>\n",
       "      <th>PLT</th>\n",
       "      <th>MPV</th>\n",
       "      <th>PCT</th>\n",
       "      <th>PDW</th>\n",
       "      <th>IPF</th>\n",
       "      <th>bkps_cohort</th>\n",
       "      <th>age_covar</th>\n",
       "      <th>...</th>\n",
       "      <th>PC1</th>\n",
       "      <th>PC2</th>\n",
       "      <th>PC3</th>\n",
       "      <th>PC4</th>\n",
       "      <th>PC5</th>\n",
       "      <th>PC6</th>\n",
       "      <th>PC7</th>\n",
       "      <th>PC8</th>\n",
       "      <th>PC9</th>\n",
       "      <th>PC10</th>\n",
       "    </tr>\n",
       "  </thead>\n",
       "  <tbody>\n",
       "    <tr>\n",
       "      <th>0</th>\n",
       "      <td>110006795043</td>\n",
       "      <td>110006795043</td>\n",
       "      <td>1</td>\n",
       "      <td>-0.575641</td>\n",
       "      <td>-0.281240</td>\n",
       "      <td>-0.776467</td>\n",
       "      <td>-0.092075</td>\n",
       "      <td>-0.861941</td>\n",
       "      <td>BKP_1</td>\n",
       "      <td>0.544304</td>\n",
       "      <td>...</td>\n",
       "      <td>-0.006143</td>\n",
       "      <td>-0.003414</td>\n",
       "      <td>-0.002550</td>\n",
       "      <td>-0.006617</td>\n",
       "      <td>0.007619</td>\n",
       "      <td>0.000518</td>\n",
       "      <td>-0.005138</td>\n",
       "      <td>-0.001251</td>\n",
       "      <td>-0.001450</td>\n",
       "      <td>-0.000475</td>\n",
       "    </tr>\n",
       "    <tr>\n",
       "      <th>1</th>\n",
       "      <td>110004131286</td>\n",
       "      <td>110004131286</td>\n",
       "      <td>2</td>\n",
       "      <td>-0.374141</td>\n",
       "      <td>0.009574</td>\n",
       "      <td>-0.266174</td>\n",
       "      <td>0.313868</td>\n",
       "      <td>0.008987</td>\n",
       "      <td>BKP_1</td>\n",
       "      <td>-0.983122</td>\n",
       "      <td>...</td>\n",
       "      <td>-0.002604</td>\n",
       "      <td>-0.000270</td>\n",
       "      <td>0.007260</td>\n",
       "      <td>-0.000367</td>\n",
       "      <td>0.004252</td>\n",
       "      <td>0.004225</td>\n",
       "      <td>0.002824</td>\n",
       "      <td>-0.006574</td>\n",
       "      <td>0.008446</td>\n",
       "      <td>0.005722</td>\n",
       "    </tr>\n",
       "    <tr>\n",
       "      <th>2</th>\n",
       "      <td>110006795026</td>\n",
       "      <td>110006795026</td>\n",
       "      <td>2</td>\n",
       "      <td>-1.746033</td>\n",
       "      <td>0.672005</td>\n",
       "      <td>-1.933972</td>\n",
       "      <td>-0.454671</td>\n",
       "      <td>-0.259819</td>\n",
       "      <td>BKP_1</td>\n",
       "      <td>0.569620</td>\n",
       "      <td>...</td>\n",
       "      <td>0.006994</td>\n",
       "      <td>0.005321</td>\n",
       "      <td>-0.006430</td>\n",
       "      <td>0.002057</td>\n",
       "      <td>-0.001391</td>\n",
       "      <td>-0.005765</td>\n",
       "      <td>-0.005126</td>\n",
       "      <td>-0.006106</td>\n",
       "      <td>-0.001899</td>\n",
       "      <td>-0.011991</td>\n",
       "    </tr>\n",
       "    <tr>\n",
       "      <th>3</th>\n",
       "      <td>110004131285</td>\n",
       "      <td>110004131285</td>\n",
       "      <td>1</td>\n",
       "      <td>0.240263</td>\n",
       "      <td>0.069391</td>\n",
       "      <td>0.421008</td>\n",
       "      <td>0.070813</td>\n",
       "      <td>-1.006551</td>\n",
       "      <td>BKP_1</td>\n",
       "      <td>0.143460</td>\n",
       "      <td>...</td>\n",
       "      <td>-0.000951</td>\n",
       "      <td>0.008243</td>\n",
       "      <td>-0.000835</td>\n",
       "      <td>-0.004595</td>\n",
       "      <td>-0.002367</td>\n",
       "      <td>0.006899</td>\n",
       "      <td>0.004903</td>\n",
       "      <td>0.001809</td>\n",
       "      <td>-0.000368</td>\n",
       "      <td>-0.000548</td>\n",
       "    </tr>\n",
       "    <tr>\n",
       "      <th>4</th>\n",
       "      <td>110006494505</td>\n",
       "      <td>110006494505</td>\n",
       "      <td>2</td>\n",
       "      <td>1.058560</td>\n",
       "      <td>0.086398</td>\n",
       "      <td>1.450019</td>\n",
       "      <td>0.085383</td>\n",
       "      <td>-0.222381</td>\n",
       "      <td>BKP_1</td>\n",
       "      <td>0.227848</td>\n",
       "      <td>...</td>\n",
       "      <td>-0.001484</td>\n",
       "      <td>0.000059</td>\n",
       "      <td>-0.006912</td>\n",
       "      <td>0.007134</td>\n",
       "      <td>0.001031</td>\n",
       "      <td>0.000255</td>\n",
       "      <td>0.003179</td>\n",
       "      <td>0.004252</td>\n",
       "      <td>0.002089</td>\n",
       "      <td>0.009268</td>\n",
       "    </tr>\n",
       "  </tbody>\n",
       "</table>\n",
       "<p>5 rows × 21 columns</p>\n",
       "</div>"
      ],
      "text/plain": [
       "            FID           IID  SEX       PLT       MPV       PCT       PDW  \\\n",
       "0  110006795043  110006795043    1 -0.575641 -0.281240 -0.776467 -0.092075   \n",
       "1  110004131286  110004131286    2 -0.374141  0.009574 -0.266174  0.313868   \n",
       "2  110006795026  110006795026    2 -1.746033  0.672005 -1.933972 -0.454671   \n",
       "3  110004131285  110004131285    1  0.240263  0.069391  0.421008  0.070813   \n",
       "4  110006494505  110006494505    2  1.058560  0.086398  1.450019  0.085383   \n",
       "\n",
       "        IPF bkps_cohort  age_covar  ...       PC1       PC2       PC3  \\\n",
       "0 -0.861941       BKP_1   0.544304  ... -0.006143 -0.003414 -0.002550   \n",
       "1  0.008987       BKP_1  -0.983122  ... -0.002604 -0.000270  0.007260   \n",
       "2 -0.259819       BKP_1   0.569620  ...  0.006994  0.005321 -0.006430   \n",
       "3 -1.006551       BKP_1   0.143460  ... -0.000951  0.008243 -0.000835   \n",
       "4 -0.222381       BKP_1   0.227848  ... -0.001484  0.000059 -0.006912   \n",
       "\n",
       "        PC4       PC5       PC6       PC7       PC8       PC9      PC10  \n",
       "0 -0.006617  0.007619  0.000518 -0.005138 -0.001251 -0.001450 -0.000475  \n",
       "1 -0.000367  0.004252  0.004225  0.002824 -0.006574  0.008446  0.005722  \n",
       "2  0.002057 -0.001391 -0.005765 -0.005126 -0.006106 -0.001899 -0.011991  \n",
       "3 -0.004595 -0.002367  0.006899  0.004903  0.001809 -0.000368 -0.000548  \n",
       "4  0.007134  0.001031  0.000255  0.003179  0.004252  0.002089  0.009268  \n",
       "\n",
       "[5 rows x 21 columns]"
      ]
     },
     "execution_count": 92,
     "metadata": {},
     "output_type": "execute_result"
    }
   ],
   "source": [
    "covars.head()"
   ]
  },
  {
   "cell_type": "code",
   "execution_count": 93,
   "metadata": {},
   "outputs": [],
   "source": [
    "phenotypes = pd.read_csv(\"%s/processed/predictions.csv\" % data_dir,index_col=0)\n",
    "phenotypes = pd.merge(phenotypes,\n",
    "                 meta.loc[meta.ethnicPulse == \"Eng/W/Scot/NI/Brit\"].set_index(\"SampleNo\")[[\"FID\",\"IID\"]],\n",
    "                left_index=True,right_index=True)\n",
    "phenotypes = pd.merge(phenotypes,pcs[pcs.columns[1:]],left_on=\"IID\",right_on=\"IID\")\n",
    "phenotypes = phenotypes[[\"FID\",\"IID\"] + [c for c in phenotypes.columns if c not in [\"IID\",\"FID\"] and \"PC\" not in c]]\n",
    "phenotypes = phenotypes.dropna(axis=0,how=\"any\")"
   ]
  },
  {
   "cell_type": "code",
   "execution_count": 94,
   "metadata": {},
   "outputs": [],
   "source": [
    "features = pd.read_csv(\"%s/processed/features.csv\" % data_dir,index_col=0)\n",
    "features = pd.merge(features,\n",
    "                meta.loc[meta.ethnicPulse == \"Eng/W/Scot/NI/Brit\"].set_index(\"SampleNo\")[[\"FID\",\"IID\"]],\n",
    "                left_index=True,right_index=True)\n",
    "features = pd.merge(features,pcs[pcs.columns[1:]],left_on=\"IID\",right_on=\"IID\")\n",
    "features = features[[\"FID\",\"IID\"] + [c for c in features.columns if c not in [\"IID\",\"FID\"] and \"PC\" not in c]]\n",
    "features = features.dropna(axis=0,how=\"any\")"
   ]
  },
  {
   "cell_type": "code",
   "execution_count": 95,
   "metadata": {},
   "outputs": [],
   "source": [
    "for c in features.columns:\n",
    "    if features[c].dtype == float:\n",
    "        features[c] -= features[c].mean()\n",
    "        features[c] /= features[c].std()"
   ]
  },
  {
   "cell_type": "code",
   "execution_count": 96,
   "metadata": {},
   "outputs": [
    {
     "name": "stdout",
     "output_type": "stream",
     "text": [
      "[0.85692825 0.09120675]\n"
     ]
    },
    {
     "data": {
      "text/html": [
       "<div>\n",
       "<style scoped>\n",
       "    .dataframe tbody tr th:only-of-type {\n",
       "        vertical-align: middle;\n",
       "    }\n",
       "\n",
       "    .dataframe tbody tr th {\n",
       "        vertical-align: top;\n",
       "    }\n",
       "\n",
       "    .dataframe thead th {\n",
       "        text-align: right;\n",
       "    }\n",
       "</style>\n",
       "<table border=\"1\" class=\"dataframe\">\n",
       "  <thead>\n",
       "    <tr style=\"text-align: right;\">\n",
       "      <th></th>\n",
       "      <th>0</th>\n",
       "      <th>1</th>\n",
       "    </tr>\n",
       "  </thead>\n",
       "  <tbody>\n",
       "    <tr>\n",
       "      <th>mean_1</th>\n",
       "      <td>0.350956</td>\n",
       "      <td>-0.176447</td>\n",
       "    </tr>\n",
       "    <tr>\n",
       "      <th>median_1</th>\n",
       "      <td>0.350314</td>\n",
       "      <td>-0.167826</td>\n",
       "    </tr>\n",
       "    <tr>\n",
       "      <th>upper_1</th>\n",
       "      <td>0.352947</td>\n",
       "      <td>-0.204316</td>\n",
       "    </tr>\n",
       "    <tr>\n",
       "      <th>lower_1</th>\n",
       "      <td>0.342594</td>\n",
       "      <td>-0.151673</td>\n",
       "    </tr>\n",
       "    <tr>\n",
       "      <th>std_1</th>\n",
       "      <td>0.334144</td>\n",
       "      <td>-0.252903</td>\n",
       "    </tr>\n",
       "    <tr>\n",
       "      <th>iqr_1</th>\n",
       "      <td>0.335277</td>\n",
       "      <td>-0.270138</td>\n",
       "    </tr>\n",
       "    <tr>\n",
       "      <th>ratio_upper</th>\n",
       "      <td>0.273861</td>\n",
       "      <td>0.678340</td>\n",
       "    </tr>\n",
       "    <tr>\n",
       "      <th>ratio_lower</th>\n",
       "      <td>0.312991</td>\n",
       "      <td>0.452133</td>\n",
       "    </tr>\n",
       "    <tr>\n",
       "      <th>ratio_std</th>\n",
       "      <td>0.339326</td>\n",
       "      <td>0.272851</td>\n",
       "    </tr>\n",
       "  </tbody>\n",
       "</table>\n",
       "</div>"
      ],
      "text/plain": [
       "                    0         1\n",
       "mean_1       0.350956 -0.176447\n",
       "median_1     0.350314 -0.167826\n",
       "upper_1      0.352947 -0.204316\n",
       "lower_1      0.342594 -0.151673\n",
       "std_1        0.334144 -0.252903\n",
       "iqr_1        0.335277 -0.270138\n",
       "ratio_upper  0.273861  0.678340\n",
       "ratio_lower  0.312991  0.452133\n",
       "ratio_std    0.339326  0.272851"
      ]
     },
     "execution_count": 96,
     "metadata": {},
     "output_type": "execute_result"
    }
   ],
   "source": [
    "f_cols = features[[c for c in features.columns[2:] if \"_0\" not in c]]\n",
    "pca = PCA(n_components=2,whiten=True).fit(f_cols)\n",
    "f_t = pca.transform(f_cols)\n",
    "features[[\"PC_1\",\"PC_2\"]] = f_t\n",
    "print(pca.explained_variance_ratio_)\n",
    "pd.DataFrame(data=pca.components_,columns=f_cols.columns).T"
   ]
  },
  {
   "cell_type": "code",
   "execution_count": 97,
   "metadata": {},
   "outputs": [
    {
     "name": "stdout",
     "output_type": "stream",
     "text": [
      "(27569, 21)\n",
      "(27569, 17)\n"
     ]
    }
   ],
   "source": [
    "cov_ids = covars.IID.unique().tolist()\n",
    "phen_ids = phenotypes.IID.unique().tolist()\n",
    "covars = covars.loc[covars.IID.isin(phen_ids)].sort_values(by=\"IID\")\n",
    "phenotypes = phenotypes.loc[phenotypes.IID.isin(cov_ids)].sort_values(\"IID\")\n",
    "features = features.loc[features.IID.isin(cov_ids)].sort_values(\"IID\")\n",
    "print(covars.shape)\n",
    "print(phenotypes.shape)"
   ]
  },
  {
   "cell_type": "code",
   "execution_count": 98,
   "metadata": {},
   "outputs": [],
   "source": [
    "for c in covars.columns:\n",
    "    if covars[c].dtype == float:\n",
    "        covars[c] -= covars[c].mean()\n",
    "        covars[c] /= covars[c].std()"
   ]
  },
  {
   "cell_type": "code",
   "execution_count": 99,
   "metadata": {},
   "outputs": [],
   "source": [
    "for c in phenotypes.columns:\n",
    "    if phenotypes[c].dtype == float:\n",
    "        phenotypes[c] -= phenotypes[c].mean()\n",
    "        phenotypes[c] /= phenotypes[c].std()"
   ]
  },
  {
   "cell_type": "code",
   "execution_count": 100,
   "metadata": {},
   "outputs": [],
   "source": [
    "for c in features.columns:\n",
    "    if features[c].dtype == float:\n",
    "        features[c] -= features[c].mean()\n",
    "        features[c] /= features[c].std()"
   ]
  },
  {
   "cell_type": "code",
   "execution_count": 101,
   "metadata": {},
   "outputs": [],
   "source": [
    "phenotypes.to_csv(\"%s/%s/phenotypes.csv\" % (export_folder,tag), index=False,header=True, sep=\"\\t\")\n",
    "features.to_csv(\"%s/%s/features.csv\" % (export_folder,tag), index=False,header=True, sep=\"\\t\")\n",
    "covars_without_bkp_cohort = covars[[c for c in covars.columns if \"bkps\" not in c]]\n",
    "covars_without_bkp_cohort.to_csv(\"%s/%s/covars.csv\" % (export_folder,tag), index=False,header=True, sep=\"\\t\")"
   ]
  },
  {
   "cell_type": "code",
   "execution_count": 102,
   "metadata": {},
   "outputs": [
    {
     "data": {
      "text/plain": [
       "Index(['FID', 'IID', 'SEX', 'PLT', 'MPV', 'PCT', 'PDW', 'IPF', 'age_covar',\n",
       "       'cohort_covar', 'PC1', 'PC2', 'PC3', 'PC4', 'PC5', 'PC6', 'PC7', 'PC8',\n",
       "       'PC9', 'PC10'],\n",
       "      dtype='object')"
      ]
     },
     "execution_count": 102,
     "metadata": {},
     "output_type": "execute_result"
    }
   ],
   "source": [
    "covars_without_bkp_cohort.columns"
   ]
  },
  {
   "cell_type": "markdown",
   "metadata": {},
   "source": [
    "# Launch GWAS (Plink, only CHR 1, by cohorts)"
   ]
  },
  {
   "cell_type": "code",
   "execution_count": 103,
   "metadata": {},
   "outputs": [
    {
     "name": "stdout",
     "output_type": "stream",
     "text": [
      "Deleting 3 previous sub-cohort meta analyses\n"
     ]
    }
   ],
   "source": [
    "cohort_files = glob(\"%s/%s/chr_1_*ADP*.glm.linear\" % (export_folder, tag))\n",
    "print(\"Deleting %d previous sub-cohort meta analyses\" % len(cohort_files)) \n",
    "for c in cohort_files:\n",
    "    os.remove(c)"
   ]
  },
  {
   "cell_type": "code",
   "execution_count": 104,
   "metadata": {},
   "outputs": [
    {
     "name": "stdout",
     "output_type": "stream",
     "text": [
      "/home/hv270/plink2 --bfile /home/hv270/rds/rds-who1000-cbrc/user/wja24/shared/hv270/interval_genotypes/chr_1 --glm hide-covar --keep /home/hv270/rds/rds-who1000-cbrc/user/wja24/shared/hippolyte_only/interval_processing/29_sept/cohort_fids --extract /home/hv270/pear1 --pheno /home/hv270/rds/rds-who1000-cbrc/user/wja24/shared/hippolyte_only/interval_processing/29_sept/phenotypes.csv --covar /home/hv270/rds/rds-who1000-cbrc/user/wja24/shared/hippolyte_only/interval_processing/29_sept/covars.csv --out /home/hv270/rds/rds-who1000-cbrc/user/wja24/shared/hippolyte_only/interval_processing/29_sept/chr_1_BKP_1 --threads 1 --allow-no-sex --variance-standardize\n",
      "Running cohort BKP_1 \t with 27569 donors\n"
     ]
    }
   ],
   "source": [
    "for cohort in covars.bkps_cohort.unique().tolist():\n",
    "    \n",
    "    with open(\"%s/cohort_fids\" % tag_path,\"w\") as file:\n",
    "        for FID in covars.loc[covars.bkps_cohort == cohort].FID.unique():\n",
    "            file.write(\"%s %s\\n\" % (FID, FID))\n",
    "    \n",
    "    k = 1\n",
    "    n_splits = 1\n",
    "    \n",
    "    command = \"/home/hv270/plink2 \"\n",
    "\n",
    "    command += \"--bfile /home/hv270/rds/rds-who1000-cbrc/user/wja24/shared/hv270/interval_genotypes/chr_%d \" % k\n",
    "    command += \"--glm hide-covar\"\n",
    "    #command += \" --keep %s/king-cutoff.king.cutoff.in.id\" % export_folder\n",
    "    command += \" --keep %s/cohort_fids\" % tag_path\n",
    "    command += \" --extract /home/hv270/pear1\"\n",
    "    command += \" --pheno %s/%s/phenotypes.csv\" % (export_folder, tag)\n",
    "    command += \" --covar %s/%s/covars.csv\" % (export_folder, tag)\n",
    "    command += \" --out %s/%s/chr_%d_%s\" % (export_folder, tag,k,cohort)\n",
    "    command += \" --threads %d\" % n_splits\n",
    "    command += \" --allow-no-sex\"\n",
    "    command += \" --variance-standardize\"\n",
    "\n",
    "    f_name = \"/home/hv270/interval_slurm_calls/call_chr_%d.sh\" % k\n",
    "    f = open(f_name,\"w+\")\n",
    "    f.write(\"#!/bin/sh\\n\")\n",
    "\n",
    "    f.write(\"#SBATCH -J chr_%d\\n\" % k)\n",
    "    f.write(\"#SBATCH -A ASTLE-SL2-CPU\\n\")\n",
    "    f.write(\"#SBATCH -N 1\\n\")\n",
    "    f.write(\"#SBATCH -n %d\\n\" % n_splits)\n",
    "    #f.write(\"#SBATCH -c %d\\n\" % n_splits)\n",
    "    f.write(\"#SBATCH --time=0:02:00\\n\")\n",
    "    f.write(\"#SBATCH -p skylake-himem\\n\")\n",
    "    f.write(\"#SBATCH --output=/home/hv270/slurm_log/%s_%s.out\\n\" % (tag,k))\n",
    "    f.write(\"export OMP_NUM_THREADS=%d\\n\" % n_splits)\n",
    "\n",
    "    f.write(\". /etc/profile.d/modules.sh\\n\")\n",
    "    f.write(\"module purge\\n\")\n",
    "    f.write(\"module load rhel7/default-peta4\\n\")\n",
    "    f.write(command)\n",
    "    f.close()\n",
    "    print(command)\n",
    "\n",
    "    #print(\"Submitting %d\" % k)\n",
    "    #p = subprocess.Popen(\"sbatch %s\" % f_name,shell=True)\n",
    "    print(\"Running cohort %s \\t with %d donors\" % (cohort,(covars.bkps_cohort == cohort).sum()))\n",
    "    p = subprocess.Popen(command,shell=True)\n",
    "    p.wait()"
   ]
  },
  {
   "cell_type": "code",
   "execution_count": 105,
   "metadata": {},
   "outputs": [
    {
     "name": "stdout",
     "output_type": "stream",
     "text": [
      "ADP\n",
      "chr_1_BKP_1.ADP.glm.linear \t 27471 \t 10.27 \t -0.10\n",
      "ADP_FIB\n",
      "chr_1_BKP_1.ADP_FIB.glm.linear \t 27471 \t 10.29 \t -0.10\n"
     ]
    }
   ],
   "source": [
    "pheno_cols = [\"ADP\",\"ADP_FIB\"]\n",
    "for pheno in pheno_cols:\n",
    "    cohort_files = sorted(glob(\"%s/%s/chr_1_*%s.glm.linear\" % (export_folder, tag,pheno)))\n",
    "    print(pheno)\n",
    "    for f in cohort_files:\n",
    "        res = pd.read_csv(f,delim_whitespace=True)\n",
    "        print(\"%s \\t %d \\t %.2f \\t %.2f\" % (f.split(\"/\")[-1], res.OBS_CT.iloc[0], -np.log10(res.P.iloc[0]), res.BETA.iloc[0]))\n",
    "    #command = \"/home/hv270/plink --meta-analysis %s/%s/*BKP_*%s.glm.linear \\\n",
    "    #    + qt no-map weighted-z \\\n",
    "    #    --meta-analysis-snp-field ID \\\n",
    "    #    --meta-analysis-ess-field OBS_CT \\\n",
    "    #    --meta-analysis-p-field P \\\n",
    "    #    --out %s/%s/%s_meta\" % (export_folder, tag, pheno, export_folder, tag, pheno)\n",
    "    #p = subprocess.Popen(command,shell=True)\n",
    "    #p.wait()\n",
    "    #print(command)\n",
    "    #res = pd.read_csv(\"%s/%s/%s_meta.meta\" % (export_folder, tag,pheno),delim_whitespace=True)\n",
    "    #print(np.log10(res[\"P(R)\"].iloc[0]))\n",
    "    #print(np.log10(res.P.iloc[0]))"
   ]
  },
  {
   "cell_type": "markdown",
   "metadata": {},
   "source": [
    "# GWAS features"
   ]
  },
  {
   "cell_type": "code",
   "execution_count": 29,
   "metadata": {},
   "outputs": [
    {
     "name": "stdout",
     "output_type": "stream",
     "text": [
      "/home/hv270/plink2 --bfile /home/hv270/rds/rds-who1000-cbrc/user/wja24/shared/hv270/interval_genotypes/chr_1 --glm hide-covar --keep /home/hv270/rds/rds-who1000-cbrc/user/wja24/shared/hippolyte_only/interval_processing/29_sept/cohort_fids --extract /home/hv270/pear1 --pheno /home/hv270/rds/rds-who1000-cbrc/user/wja24/shared/hippolyte_only/interval_processing/29_sept/features.csv --covar /home/hv270/rds/rds-who1000-cbrc/user/wja24/shared/hippolyte_only/interval_processing/29_sept/covars.csv --out /home/hv270/rds/rds-who1000-cbrc/user/wja24/shared/hippolyte_only/interval_processing/29_sept/chr_1_BKP_1 --threads 1 --allow-no-sex --variance-standardize\n",
      "Running cohort BKP_1 \t with 27569 donors\n"
     ]
    }
   ],
   "source": [
    "for cohort in covars.bkps_cohort.unique().tolist():\n",
    "    \n",
    "    with open(\"%s/cohort_fids\" % tag_path,\"w\") as file:\n",
    "        for FID in covars.loc[covars.bkps_cohort == cohort].FID.unique():\n",
    "            file.write(\"%s %s\\n\" % (FID, FID))\n",
    "    \n",
    "    k = 1\n",
    "    n_splits = 1\n",
    "    \n",
    "    command = \"/home/hv270/plink2 \"\n",
    "\n",
    "    command += \"--bfile /home/hv270/rds/rds-who1000-cbrc/user/wja24/shared/hv270/interval_genotypes/chr_%d \" % k\n",
    "    command += \"--glm hide-covar\"\n",
    "    #command += \" --keep %s/king-cutoff.king.cutoff.in.id\" % export_folder\n",
    "    command += \" --keep %s/cohort_fids\" % tag_path\n",
    "    command += \" --extract /home/hv270/pear1\"\n",
    "    command += \" --pheno %s/%s/features.csv\" % (export_folder, tag)\n",
    "    command += \" --covar %s/%s/covars.csv\" % (export_folder, tag)\n",
    "    command += \" --out %s/%s/chr_%d_%s\" % (export_folder, tag,k,cohort)\n",
    "    command += \" --threads %d\" % n_splits\n",
    "    command += \" --allow-no-sex\"\n",
    "    command += \" --variance-standardize\"\n",
    "\n",
    "    f_name = \"/home/hv270/interval_slurm_calls/call_chr_%d.sh\" % k\n",
    "    f = open(f_name,\"w+\")\n",
    "    f.write(\"#!/bin/sh\\n\")\n",
    "\n",
    "    f.write(\"#SBATCH -J chr_%d\\n\" % k)\n",
    "    f.write(\"#SBATCH -A ASTLE-SL2-CPU\\n\")\n",
    "    f.write(\"#SBATCH -N 1\\n\")\n",
    "    f.write(\"#SBATCH -n %d\\n\" % n_splits)\n",
    "    #f.write(\"#SBATCH -c %d\\n\" % n_splits)\n",
    "    f.write(\"#SBATCH --time=0:02:00\\n\")\n",
    "    f.write(\"#SBATCH -p skylake-himem\\n\")\n",
    "    f.write(\"#SBATCH --output=/home/hv270/slurm_log/%s_%s.out\\n\" % (tag,k))\n",
    "    f.write(\"export OMP_NUM_THREADS=%d\\n\" % n_splits)\n",
    "\n",
    "    f.write(\". /etc/profile.d/modules.sh\\n\")\n",
    "    f.write(\"module purge\\n\")\n",
    "    f.write(\"module load rhel7/default-peta4\\n\")\n",
    "    f.write(command)\n",
    "    f.close()\n",
    "    print(command)\n",
    "\n",
    "    #print(\"Submitting %d\" % k)\n",
    "    #p = subprocess.Popen(\"sbatch %s\" % f_name,shell=True)\n",
    "    print(\"Running cohort %s \\t with %d donors\" % (cohort,(covars.bkps_cohort == cohort).sum()))\n",
    "    p = subprocess.Popen(command,shell=True)\n",
    "    p.wait()"
   ]
  },
  {
   "cell_type": "code",
   "execution_count": 30,
   "metadata": {},
   "outputs": [
    {
     "name": "stdout",
     "output_type": "stream",
     "text": [
      "mean_0\n",
      "chr_1_BKP_1.mean_0.glm.linear \t 27471 \t 8.00 \t 0.04\n",
      "mean_1\n",
      "chr_1_BKP_1.mean_1.glm.linear \t 27471 \t 0.05 \t 0.00\n",
      "median_0\n",
      "chr_1_BKP_1.median_0.glm.linear \t 27471 \t 8.82 \t 0.05\n",
      "median_1\n",
      "chr_1_BKP_1.median_1.glm.linear \t 27471 \t 0.05 \t 0.00\n",
      "upper_0\n",
      "chr_1_BKP_1.upper_0.glm.linear \t 27471 \t 4.25 \t 0.02\n",
      "upper_1\n",
      "chr_1_BKP_1.upper_1.glm.linear \t 27471 \t 0.04 \t 0.00\n",
      "lower_0\n",
      "chr_1_BKP_1.lower_0.glm.linear \t 27471 \t 9.60 \t 0.06\n",
      "lower_1\n",
      "chr_1_BKP_1.lower_1.glm.linear \t 27471 \t 0.06 \t 0.00\n",
      "std_0\n",
      "chr_1_BKP_1.std_0.glm.linear \t 27471 \t 1.91 \t -0.01\n",
      "std_1\n",
      "chr_1_BKP_1.std_1.glm.linear \t 27471 \t 0.05 \t 0.00\n",
      "iqr_0\n",
      "chr_1_BKP_1.iqr_0.glm.linear \t 27471 \t 0.15 \t -0.00\n",
      "iqr_1\n",
      "chr_1_BKP_1.iqr_1.glm.linear \t 27471 \t 0.09 \t -0.00\n",
      "ratio_upper\n",
      "chr_1_BKP_1.ratio_upper.glm.linear \t 27471 \t 0.82 \t -0.02\n",
      "ratio_lower\n",
      "chr_1_BKP_1.ratio_lower.glm.linear \t 27471 \t 0.44 \t -0.01\n",
      "ratio_std\n",
      "chr_1_BKP_1.ratio_std.glm.linear \t 27471 \t 0.33 \t 0.01\n",
      "PC_1\n",
      "chr_1_BKP_1.PC_1.glm.linear \t 27471 \t 0.03 \t -0.00\n",
      "PC_2\n",
      "chr_1_BKP_1.PC_2.glm.linear \t 27471 \t 1.38 \t -0.01\n"
     ]
    }
   ],
   "source": [
    "for pheno in features.columns[2:]:\n",
    "    cohort_files = sorted(glob(\"%s/%s/chr_1_*%s.glm.linear\" % (export_folder, tag,pheno)))\n",
    "    print(pheno)\n",
    "    for f in cohort_files:\n",
    "        res = pd.read_csv(f,delim_whitespace=True)\n",
    "        print(\"%s \\t %d \\t %.2f \\t %.2f\" % (f.split(\"/\")[-1], res.OBS_CT.iloc[0], -np.log10(res.P.iloc[0]), res.BETA.iloc[0]))"
   ]
  },
  {
   "cell_type": "code",
   "execution_count": null,
   "metadata": {},
   "outputs": [],
   "source": []
  },
  {
   "cell_type": "code",
   "execution_count": null,
   "metadata": {},
   "outputs": [],
   "source": []
  },
  {
   "cell_type": "markdown",
   "metadata": {},
   "source": [
    "# Launch GWAS all together"
   ]
  },
  {
   "cell_type": "code",
   "execution_count": null,
   "metadata": {},
   "outputs": [],
   "source": []
  },
  {
   "cell_type": "code",
   "execution_count": 240,
   "metadata": {},
   "outputs": [],
   "source": [
    "covars.to_csv(\"%s/%s/covars.csv\" % (export_folder,tag), index=False,header=True, sep=\"\\t\")"
   ]
  },
  {
   "cell_type": "code",
   "execution_count": 241,
   "metadata": {},
   "outputs": [
    {
     "data": {
      "text/plain": [
       "Index(['FID', 'IID', 'SEX', 'PLT', 'MPV', 'PCT', 'PDW', 'IPF', 'bkps_cohort',\n",
       "       'age_covar', 'cohort_covar', 'PC1', 'PC2', 'PC3', 'PC4', 'PC5', 'PC6',\n",
       "       'PC7', 'PC8', 'PC9', 'PC10'],\n",
       "      dtype='object')"
      ]
     },
     "execution_count": 241,
     "metadata": {},
     "output_type": "execute_result"
    }
   ],
   "source": [
    "covars.columns"
   ]
  },
  {
   "cell_type": "code",
   "execution_count": 243,
   "metadata": {},
   "outputs": [
    {
     "data": {
      "text/plain": [
       "0"
      ]
     },
     "execution_count": 243,
     "metadata": {},
     "output_type": "execute_result"
    }
   ],
   "source": [
    "with open(\"%s/all_fids\" % tag_path,\"w\") as file:\n",
    "    for FID in covars.FID.unique():\n",
    "        file.write(\"%s %s\\n\" % (FID, FID))\n",
    "\n",
    "k = 1\n",
    "n_splits = 1\n",
    "\n",
    "command = \"/home/hv270/plink2 \"\n",
    "\n",
    "command += \"--bfile /home/hv270/rds/rds-who1000-cbrc/user/wja24/shared/hv270/interval_genotypes/chr_%d \" % k\n",
    "command += \"--glm hide-covar\"\n",
    "#command += \" --keep %s/king-cutoff.king.cutoff.in.id\" % export_folder\n",
    "command += \" --keep %s/all_fids\" % tag_path\n",
    "command += \" --extract /home/hv270/pear1\"\n",
    "command += \" --pheno %s/%s/phenotypes.csv\" % (export_folder, tag)\n",
    "command += \" --covar %s/%s/covars.csv\" % (export_folder, tag)\n",
    "command += \" --out %s/%s/chr_%d_all\" % (export_folder, tag,k)\n",
    "command += \" --threads %d\" % n_splits\n",
    "command += \" --allow-no-sex\"\n",
    "command += \" --variance-standardize\"\n",
    "\n",
    "f_name = \"/home/hv270/interval_slurm_calls/call_chr_%d.sh\" % k\n",
    "f = open(f_name,\"w+\")\n",
    "f.write(\"#!/bin/sh\\n\")\n",
    "\n",
    "f.write(\"#SBATCH -J chr_%d\\n\" % k)\n",
    "f.write(\"#SBATCH -A ASTLE-SL2-CPU\\n\")\n",
    "f.write(\"#SBATCH -N 1\\n\")\n",
    "f.write(\"#SBATCH -n %d\\n\" % n_splits)\n",
    "#f.write(\"#SBATCH -c %d\\n\" % n_splits)\n",
    "f.write(\"#SBATCH --time=0:02:00\\n\")\n",
    "f.write(\"#SBATCH -p skylake-himem\\n\")\n",
    "f.write(\"#SBATCH --output=/home/hv270/slurm_log/%s_%s.out\\n\" % (tag,k))\n",
    "f.write(\"export OMP_NUM_THREADS=%d\\n\" % n_splits)\n",
    "\n",
    "f.write(\". /etc/profile.d/modules.sh\\n\")\n",
    "f.write(\"module purge\\n\")\n",
    "f.write(\"module load rhel7/default-peta4\\n\")\n",
    "f.write(command)\n",
    "f.close()\n",
    "\n",
    "#print(\"Submitting %d\" % k)\n",
    "#p = subprocess.Popen(\"sbatch %s\" % f_name,shell=True)\n",
    "p = subprocess.Popen(command,shell=True)\n",
    "p.wait()"
   ]
  },
  {
   "cell_type": "code",
   "execution_count": 244,
   "metadata": {},
   "outputs": [
    {
     "data": {
      "text/plain": [
       "'/home/hv270/plink2 --bfile /home/hv270/rds/rds-who1000-cbrc/user/wja24/shared/hv270/interval_genotypes/chr_1 --glm hide-covar --keep /home/hv270/rds/rds-who1000-cbrc/user/wja24/shared/hippolyte_only/interval_processing/29_sept/all_fids --extract /home/hv270/pear1 --pheno /home/hv270/rds/rds-who1000-cbrc/user/wja24/shared/hippolyte_only/interval_processing/29_sept/phenotypes.csv --covar /home/hv270/rds/rds-who1000-cbrc/user/wja24/shared/hippolyte_only/interval_processing/29_sept/covars.csv --out /home/hv270/rds/rds-who1000-cbrc/user/wja24/shared/hippolyte_only/interval_processing/29_sept/chr_1_all --threads 1 --allow-no-sex --variance-standardize'"
      ]
     },
     "execution_count": 244,
     "metadata": {},
     "output_type": "execute_result"
    }
   ],
   "source": [
    "command"
   ]
  },
  {
   "cell_type": "code",
   "execution_count": 245,
   "metadata": {},
   "outputs": [
    {
     "name": "stdout",
     "output_type": "stream",
     "text": [
      "-10.6868607272148\n"
     ]
    }
   ],
   "source": [
    "res = pd.read_csv(\"%s/%s/chr_1_all.ADP.glm.linear\" % (export_folder, tag),sep=\"\\t\")\n",
    "print(np.log10(res.P.iloc[0]))"
   ]
  },
  {
   "cell_type": "markdown",
   "metadata": {},
   "source": [
    "# Launch GWAS (BOLT LMM)"
   ]
  },
  {
   "cell_type": "code",
   "execution_count": 246,
   "metadata": {},
   "outputs": [],
   "source": [
    "n_splits = 16"
   ]
  },
  {
   "cell_type": "code",
   "execution_count": 247,
   "metadata": {},
   "outputs": [
    {
     "name": "stdout",
     "output_type": "stream",
     "text": [
      "['ADP', 'CRP', 'TRAP', 'PAR4', 'PAR1']\n"
     ]
    }
   ],
   "source": [
    "pheno_cols = [\"ADP\",\"CRP\",\"TRAP\",\"PAR4\",\"PAR1\"]\n",
    "#pheno_cols += [\"%s_FIB\" % p for p in pheno_cols]\n",
    "print(pheno_cols)"
   ]
  },
  {
   "cell_type": "code",
   "execution_count": 248,
   "metadata": {},
   "outputs": [
    {
     "name": "stdout",
     "output_type": "stream",
     "text": [
      "Submitting ADP\n",
      "Submitting CRP\n",
      "Submitting TRAP\n",
      "Submitting PAR4\n",
      "Submitting PAR1\n"
     ]
    }
   ],
   "source": [
    "for pheno in pheno_cols:\n",
    "\n",
    "    command = \"/home/hv270/rds/rds-who1000-cbrc/user/wja24/shared/hv270/BOLT-LMM_v2.3.4/bolt \"\n",
    "    for k in range(1,23):\n",
    "        command += \"--bim=/home/hv270/rds/rds-who1000-cbrc/user/wja24/shared/hv270/interval_genotypes/chr_%d.bim \" % k\n",
    "    # Only one fam file has to be specified\n",
    "    command += \"--fam=/home/hv270/rds/rds-who1000-cbrc/user/wja24/shared/hv270/interval_genotypes/chr_1.fam \"\n",
    "    for k in range(1,23):\n",
    "        command += \"--bed=/home/hv270/rds/rds-who1000-cbrc/user/wja24/shared/hv270/interval_genotypes/chr_%d.bed \" % k\n",
    "    command += \"--lmm \\\n",
    "        --LDscoresFile=/home/hv270/rds/rds-who1000-cbrc/user/wja24/shared/hv270/BOLT-LMM_v2.3.4/tables/LDSCORE.1000G_EUR.tab.gz \\\n",
    "        --phenoFile=%s/%s/phenotypes.csv \\\n",
    "        --phenoCol=%s \\\n",
    "        --covarFile=%s/%s/covars.csv \\\n",
    "        --maxMissingPerSnp=0.1 \\\n",
    "        --qCovarCol=PLT \\\n",
    "        --qCovarCol=MPV \\\n",
    "        --qCovarCol=PDW \\\n",
    "        --qCovarCol=PCT \\\n",
    "        --qCovarCol=IPF \\\n",
    "        --qCovarCol=age_covar \\\n",
    "        --covarCol=SEX \\\n",
    "        --covarCol=cohort_covar \\\n",
    "        --covarMaxLevels=20 \\\n",
    "        --statsFile=%s/%s/bolt_res_feb_%s \\\n",
    "        --statsFileBgenSnps=%s/%s/bolt_res_bgen_feb_%s \\\n",
    "        --modelSnps=/home/hv270/rds/rds-who1000-cbrc/user/wja24/shared/hv270/indep_snps \\\n",
    "        --bgenFile=/home/hv270/rds/rds-who1000-cbrc/user/wja24/shared/alexander_only/impute_{1:22}_interval.bgen \\\n",
    "        --bgenMinMAF=1e-3 \\\n",
    "        --bgenMinINFO=0.4 \\\n",
    "        --lmmForceNonInf \\\n",
    "        --sampleFile=/home/hv270/rds/rds-who1000-cbrc/user/wja24/shared/alexander_only/interval.sample \\\n",
    "        --numThreads=%d\" % (export_folder, tag,\n",
    "                            pheno,\n",
    "                            export_folder, tag,\n",
    "                            export_folder,\n",
    "                            tag,\n",
    "                            pheno,\n",
    "                            export_folder, tag,\n",
    "                            pheno,\n",
    "                            n_splits)\n",
    "\n",
    "    f_name = \"/home/hv270/interval_slurm_calls/call_%s.sh\" % pheno\n",
    "    f = open(f_name,\"w+\")\n",
    "    f.write(\"#!/bin/sh\\n\")\n",
    "\n",
    "    f.write(\"#SBATCH -J %s\\n\" % (pheno))\n",
    "    f.write(\"#SBATCH -A ASTLE-SL2-CPU\\n\")\n",
    "    f.write(\"#SBATCH -N 1\\n\")\n",
    "    f.write(\"#SBATCH -n %d\\n\" % n_splits)\n",
    "    #f.write(\"#SBATCH -c %d\\n\" % n_splits)\n",
    "    f.write(\"#SBATCH --time=8:00:00\\n\")\n",
    "    f.write(\"#SBATCH -p skylake\\n\")\n",
    "    f.write(\"#SBATCH --output=/home/hv270/slurm_log/%s_%s.out\\n\" % (tag,pheno))\n",
    "    f.write(\"export OMP_NUM_THREADS=%d\\n\" % n_splits)\n",
    "\n",
    "    f.write(\". /etc/profile.d/modules.sh\\n\")\n",
    "    f.write(\"module purge\\n\")\n",
    "    f.write(\"module load rhel7/default-peta4\\n\")\n",
    "    f.write(command)\n",
    "    f.close()\n",
    "\n",
    "    print(\"Submitting %s\" % pheno)\n",
    "    p = subprocess.Popen(\"sbatch %s\" % f_name,shell=True,stdout=subprocess.PIPE, stderr=subprocess.PIPE)\n",
    "    p.wait()"
   ]
  },
  {
   "cell_type": "markdown",
   "metadata": {},
   "source": [
    "# Bonus : compare predictions across tags"
   ]
  },
  {
   "cell_type": "code",
   "execution_count": 99,
   "metadata": {},
   "outputs": [],
   "source": [
    "tag1 = \"11jun_WE\"\n",
    "tag2 = \"16jun\""
   ]
  },
  {
   "cell_type": "code",
   "execution_count": 109,
   "metadata": {},
   "outputs": [],
   "source": [
    "preds_1 = pd.read_csv(\"%s/%s/phenotypes.csv\" % (export_folder,tag1),index_col=0, sep=\"\\t\")\n",
    "preds_2 = pd.read_csv(\"%s/%s/phenotypes.csv\" % (export_folder,tag2),index_col=0, sep=\"\\t\")"
   ]
  },
  {
   "cell_type": "code",
   "execution_count": 110,
   "metadata": {},
   "outputs": [],
   "source": [
    "comp = pd.merge(preds_1,preds_2,left_index=True,right_index=True,how=\"inner\",suffixes=(\"_1\",\"_2\"))"
   ]
  },
  {
   "cell_type": "code",
   "execution_count": 111,
   "metadata": {},
   "outputs": [
    {
     "data": {
      "text/plain": [
       "Text(0.5, 1.0, 'ADP')"
      ]
     },
     "execution_count": 111,
     "metadata": {},
     "output_type": "execute_result"
    },
    {
     "data": {
      "image/png": "[encoded data removed]",
      "text/plain": [
       "<Figure size 432x288 with 1 Axes>"
      ]
     },
     "metadata": {
      "needs_background": "light"
     },
     "output_type": "display_data"
    }
   ],
   "source": [
    "pheno = \"ADP\"\n",
    "plt.scatter(comp[pheno+\"_1\"],comp[pheno+\"_2\"],s=.1)\n",
    "plt.xlabel(tag1)\n",
    "plt.ylabel(tag2)\n",
    "plt.title(pheno)"
   ]
  },
  {
   "cell_type": "code",
   "execution_count": null,
   "metadata": {},
   "outputs": [],
   "source": []
  }
 ],
 "metadata": {
  "kernelspec": {
   "display_name": "Python 3",
   "language": "python",
   "name": "python3"
  },
  "language_info": {
   "codemirror_mode": {
    "name": "ipython",
    "version": 3
   },
   "file_extension": ".py",
   "mimetype": "text/x-python",
   "name": "python",
   "nbconvert_exporter": "python",
   "pygments_lexer": "ipython3",
   "version": "3.7.3"
  },
  "toc": {
   "base_numbering": 1,
   "nav_menu": {},
   "number_sections": true,
   "sideBar": true,
   "skip_h1_title": false,
   "title_cell": "Table of Contents",
   "title_sidebar": "Contents",
   "toc_cell": false,
   "toc_position": {},
   "toc_section_display": true,
   "toc_window_display": false
  }
 },
 "nbformat": 4,
 "nbformat_minor": 2
}
