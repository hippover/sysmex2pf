{
 "cells": [
  {
   "cell_type": "code",
   "execution_count": 18,
   "metadata": {},
   "outputs": [],
   "source": [
    "import pandas as pd\n",
    "from glob import glob\n",
    "import numpy as np"
   ]
  },
  {
   "cell_type": "code",
   "execution_count": 19,
   "metadata": {},
   "outputs": [],
   "source": [
    "gwas_results = pd.read_csv(\"/home/hv270/sysmex2pf/GWAS_table.csv\",index_col=0)"
   ]
  },
  {
   "cell_type": "code",
   "execution_count": null,
   "metadata": {},
   "outputs": [],
   "source": []
  },
  {
   "cell_type": "code",
   "execution_count": 20,
   "metadata": {},
   "outputs": [
    {
     "name": "stdout",
     "output_type": "stream",
     "text": [
      "PDW\n",
      "0.6666666666666666\n",
      "PLT\n",
      "0.8571428571428571\n",
      "MPV\n",
      "0.9523809523809523\n",
      "PCT\n",
      "0.38095238095238093\n"
     ]
    }
   ],
   "source": [
    "for f in glob(\"/home/hv270/interval_processing/*.assoc\"):\n",
    "    pheno = f.split(\"/\")[-1].split(\".\")[0].upper()\n",
    "    dgw = pd.read_csv(f,usecols=[\"ID\",\"MLOG10P\"])\n",
    "    dgw = dgw.loc[dgw.MLOG10P >= -np.log10(5e-8)]\n",
    "    gwas_results[\"%s_hit\" % pheno] = gwas_results.SNP.isin(dgw.ID.tolist())\n",
    "    print(pheno)\n",
    "    print(gwas_results[\"%s_hit\" % pheno].mean())\n"
   ]
  },
  {
   "cell_type": "code",
   "execution_count": 23,
   "metadata": {},
   "outputs": [],
   "source": [
    "gwas_results[\"FBC\"] = \"\"\n",
    "for trait in [\"PLT\",\"MPV\",\"PDW\",\"PCT\"]:\n",
    "    cond = gwas_results[\"%s_hit\" % trait]\n",
    "    gwas_results.loc[cond,\"FBC\"] += \"%s, \" % (trait)"
   ]
  },
  {
   "cell_type": "code",
   "execution_count": 25,
   "metadata": {},
   "outputs": [
    {
     "data": {
      "text/html": [
       "<div>\n",
       "<style scoped>\n",
       "    .dataframe tbody tr th:only-of-type {\n",
       "        vertical-align: middle;\n",
       "    }\n",
       "\n",
       "    .dataframe tbody tr th {\n",
       "        vertical-align: top;\n",
       "    }\n",
       "\n",
       "    .dataframe thead th {\n",
       "        text-align: right;\n",
       "    }\n",
       "</style>\n",
       "<table border=\"1\" class=\"dataframe\">\n",
       "  <thead>\n",
       "    <tr style=\"text-align: right;\">\n",
       "      <th></th>\n",
       "      <th>FBC</th>\n",
       "    </tr>\n",
       "  </thead>\n",
       "  <tbody>\n",
       "    <tr>\n",
       "      <th>0</th>\n",
       "      <td>PLT, MPV, PDW,</td>\n",
       "    </tr>\n",
       "    <tr>\n",
       "      <th>1</th>\n",
       "      <td>PLT, MPV, PCT,</td>\n",
       "    </tr>\n",
       "    <tr>\n",
       "      <th>2</th>\n",
       "      <td>PLT, MPV, PDW, PCT,</td>\n",
       "    </tr>\n",
       "    <tr>\n",
       "      <th>3</th>\n",
       "      <td>MPV,</td>\n",
       "    </tr>\n",
       "    <tr>\n",
       "      <th>4</th>\n",
       "      <td>PLT, MPV, PDW, PCT,</td>\n",
       "    </tr>\n",
       "    <tr>\n",
       "      <th>5</th>\n",
       "      <td>PLT, MPV, PDW, PCT,</td>\n",
       "    </tr>\n",
       "    <tr>\n",
       "      <th>6</th>\n",
       "      <td>PLT, MPV, PDW,</td>\n",
       "    </tr>\n",
       "    <tr>\n",
       "      <th>7</th>\n",
       "      <td>PLT, MPV, PDW,</td>\n",
       "    </tr>\n",
       "    <tr>\n",
       "      <th>8</th>\n",
       "      <td>MPV, PCT,</td>\n",
       "    </tr>\n",
       "    <tr>\n",
       "      <th>9</th>\n",
       "      <td>PLT, MPV,</td>\n",
       "    </tr>\n",
       "    <tr>\n",
       "      <th>10</th>\n",
       "      <td>PLT, MPV, PDW, PCT,</td>\n",
       "    </tr>\n",
       "    <tr>\n",
       "      <th>11</th>\n",
       "      <td>PLT, MPV, PDW,</td>\n",
       "    </tr>\n",
       "    <tr>\n",
       "      <th>12</th>\n",
       "      <td>PLT, MPV, PDW,</td>\n",
       "    </tr>\n",
       "    <tr>\n",
       "      <th>13</th>\n",
       "      <td>PLT, MPV,</td>\n",
       "    </tr>\n",
       "    <tr>\n",
       "      <th>14</th>\n",
       "      <td>PLT, MPV, PDW, PCT,</td>\n",
       "    </tr>\n",
       "    <tr>\n",
       "      <th>15</th>\n",
       "      <td></td>\n",
       "    </tr>\n",
       "    <tr>\n",
       "      <th>16</th>\n",
       "      <td>PLT, MPV, PDW, PCT,</td>\n",
       "    </tr>\n",
       "    <tr>\n",
       "      <th>17</th>\n",
       "      <td>PLT, MPV, PDW,</td>\n",
       "    </tr>\n",
       "    <tr>\n",
       "      <th>18</th>\n",
       "      <td>PLT, MPV, PDW,</td>\n",
       "    </tr>\n",
       "    <tr>\n",
       "      <th>19</th>\n",
       "      <td>PLT, MPV,</td>\n",
       "    </tr>\n",
       "    <tr>\n",
       "      <th>20</th>\n",
       "      <td>PLT, MPV, PDW,</td>\n",
       "    </tr>\n",
       "  </tbody>\n",
       "</table>\n",
       "</div>"
      ],
      "text/plain": [
       "                     FBC\n",
       "0        PLT, MPV, PDW, \n",
       "1        PLT, MPV, PCT, \n",
       "2   PLT, MPV, PDW, PCT, \n",
       "3                  MPV, \n",
       "4   PLT, MPV, PDW, PCT, \n",
       "5   PLT, MPV, PDW, PCT, \n",
       "6        PLT, MPV, PDW, \n",
       "7        PLT, MPV, PDW, \n",
       "8             MPV, PCT, \n",
       "9             PLT, MPV, \n",
       "10  PLT, MPV, PDW, PCT, \n",
       "11       PLT, MPV, PDW, \n",
       "12       PLT, MPV, PDW, \n",
       "13            PLT, MPV, \n",
       "14  PLT, MPV, PDW, PCT, \n",
       "15                      \n",
       "16  PLT, MPV, PDW, PCT, \n",
       "17       PLT, MPV, PDW, \n",
       "18       PLT, MPV, PDW, \n",
       "19            PLT, MPV, \n",
       "20       PLT, MPV, PDW, "
      ]
     },
     "execution_count": 25,
     "metadata": {},
     "output_type": "execute_result"
    }
   ],
   "source": [
    "gwas_results[[\"FBC\"]]"
   ]
  },
  {
   "cell_type": "code",
   "execution_count": null,
   "metadata": {},
   "outputs": [],
   "source": []
  }
 ],
 "metadata": {
  "kernelspec": {
   "display_name": "Python 3",
   "language": "python",
   "name": "python3"
  },
  "language_info": {
   "codemirror_mode": {
    "name": "ipython",
    "version": 3
   },
   "file_extension": ".py",
   "mimetype": "text/x-python",
   "name": "python",
   "nbconvert_exporter": "python",
   "pygments_lexer": "ipython3",
   "version": "3.7.3"
  },
  "toc": {
   "base_numbering": 1,
   "nav_menu": {},
   "number_sections": true,
   "sideBar": true,
   "skip_h1_title": false,
   "title_cell": "Table of Contents",
   "title_sidebar": "Contents",
   "toc_cell": false,
   "toc_position": {},
   "toc_section_display": true,
   "toc_window_display": false
  }
 },
 "nbformat": 4,
 "nbformat_minor": 2
}
