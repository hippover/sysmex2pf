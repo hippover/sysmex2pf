{
 "cells": [
  {
   "cell_type": "code",
   "execution_count": 1,
   "metadata": {},
   "outputs": [],
   "source": [
    "import pandas as pd"
   ]
  },
  {
   "cell_type": "code",
   "execution_count": 2,
   "metadata": {},
   "outputs": [],
   "source": [
    "data_home = \"/home/hv270/rds/rds-who1000-cbrc/user/wja24/shared/hv270/data_home\""
   ]
  },
  {
   "cell_type": "markdown",
   "metadata": {},
   "source": [
    "# Map affy IDs to rs IDs"
   ]
  },
  {
   "cell_type": "code",
   "execution_count": 5,
   "metadata": {},
   "outputs": [
    {
     "name": "stderr",
     "output_type": "stream",
     "text": [
      "/home/hv270/platelets/lib/python3.7/site-packages/IPython/core/interactiveshell.py:3049: DtypeWarning: Columns (4,5,6) have mixed types.Specify dtype option on import or set low_memory=False.\n",
      "  interactivity=interactivity, compiler=compiler, result=result)\n"
     ]
    }
   ],
   "source": [
    "df = pd.read_csv(\"%s/Axiom_tx_v1.na35.annot.csv\" % data_home,skiprows=19)"
   ]
  },
  {
   "cell_type": "code",
   "execution_count": 10,
   "metadata": {},
   "outputs": [],
   "source": [
    "df[\"AX\"] = \"AX-\" + df[\"Affy SNP ID\"].str.split(\"-\",expand=True)[1]"
   ]
  },
  {
   "cell_type": "code",
   "execution_count": 43,
   "metadata": {},
   "outputs": [
    {
     "data": {
      "text/plain": [
       "Probe Set ID                                                             AX-11601959\n",
       "Affy SNP ID                                                            Affx-33495517\n",
       "dbSNP RS ID                                                                rs7021669\n",
       "dbSNP Loctype                                                                      2\n",
       "Chromosome                                                                         9\n",
       "Physical Position                                                           19468614\n",
       "Position End                                                                19468614\n",
       "Strand                                                                             +\n",
       "ChrX pseudo-autosomal region 1                                                     0\n",
       "Cytoband                                                                       p22.1\n",
       "Flank                              CTTCTTTTTTGTAGATCTAGGCTATATATCACATT[G/T]CATTAG...\n",
       "Allele A                                                                           T\n",
       "Allele B                                                                           G\n",
       "Ref Allele                                                                         G\n",
       "Alt Allele                                                                         T\n",
       "Associated Gene                    ENST00000341998 // downstream // 38836 // Hs.2...\n",
       "Genetic Map                        39.6931 // D9S925 // D9S162 // --- // --- // d...\n",
       "Microsatellite                     D9S785 // downstream // 89500 /// D9S1684 // u...\n",
       "Allele Frequencies                 0.3000 // 0.7000 // CEU /// 0.1082 // 0.8918 /...\n",
       "Heterozygous Allele Frequencies    0.4353 // CEU /// 0.1753 // CHB /// 0.3034 // ...\n",
       "Number of individuals              170 // CEU /// 194 // CHB /// 178 // JPT /// 1...\n",
       "In Hapmap                                                                        YES\n",
       "Strand Versus dbSNP                                                             same\n",
       "Probe Count                                                                        1\n",
       "ChrX pseudo-autosomal region 2                                                     0\n",
       "Minor Allele                         T // CEU /// T // CHB /// T // JPT /// T // YRI\n",
       "Minor Allele Frequency             0.3000 // CEU /// 0.1082 // CHB /// 0.1629 // ...\n",
       "OMIM                                                                             ---\n",
       "Biomedical                                                                       ---\n",
       "Annotation Notes                                                                 ---\n",
       "AX                                                                       AX-33495517\n",
       "Name: 100000, dtype: object"
      ]
     },
     "execution_count": 43,
     "metadata": {},
     "output_type": "execute_result"
    }
   ],
   "source": [
    "df.iloc[100000]"
   ]
  },
  {
   "cell_type": "code",
   "execution_count": 25,
   "metadata": {},
   "outputs": [],
   "source": [
    "interesting_snps = [\n",
    "    \"rs12566888\", #PEAR1\n",
    "]"
   ]
  },
  {
   "cell_type": "code",
   "execution_count": 44,
   "metadata": {},
   "outputs": [
    {
     "data": {
      "text/plain": [
       "['AX-39102413']"
      ]
     },
     "execution_count": 44,
     "metadata": {},
     "output_type": "execute_result"
    }
   ],
   "source": [
    "df.loc[df[\"dbSNP RS ID\"].isin(interesting_snps),\"Probe Set ID\"].tolist()"
   ]
  },
  {
   "cell_type": "code",
   "execution_count": 36,
   "metadata": {},
   "outputs": [],
   "source": [
    "snps = pd.read_csv(\"%s/Genomes/plink.snplist\" % data_home,header=None)[0].tolist()"
   ]
  },
  {
   "cell_type": "code",
   "execution_count": 40,
   "metadata": {},
   "outputs": [],
   "source": [
    "import numpy as np"
   ]
  },
  {
   "cell_type": "code",
   "execution_count": 45,
   "metadata": {},
   "outputs": [
    {
     "data": {
      "text/plain": [
       "True"
      ]
     },
     "execution_count": 45,
     "metadata": {},
     "output_type": "execute_result"
    }
   ],
   "source": [
    "\"AX-39102413\" in snps"
   ]
  },
  {
   "cell_type": "code",
   "execution_count": 46,
   "metadata": {},
   "outputs": [],
   "source": [
    "#~/plink --bfile Genomes/filtered_S159 --snp AX-39102413 --recode tab --out Genomes/S159_PEAR1"
   ]
  },
  {
   "cell_type": "code",
   "execution_count": 73,
   "metadata": {},
   "outputs": [],
   "source": [
    "pear1 = pd.read_csv(\"%s/Genomes/S159_PEAR1.ped\" % data_home,sep=\"\\t\",header=None)"
   ]
  },
  {
   "cell_type": "code",
   "execution_count": 74,
   "metadata": {},
   "outputs": [],
   "source": [
    "pear1[\"PEAR1\"] = 0*(pear1[6] == \"G G\") + 1*(pear1[6] == \"T G\") + 2*(pear1[6] == \"T T\")"
   ]
  },
  {
   "cell_type": "code",
   "execution_count": 76,
   "metadata": {},
   "outputs": [],
   "source": [
    "pear1 = pear1[[1,\"PEAR1\"]]"
   ]
  },
  {
   "cell_type": "code",
   "execution_count": null,
   "metadata": {},
   "outputs": [],
   "source": []
  },
  {
   "cell_type": "code",
   "execution_count": 77,
   "metadata": {},
   "outputs": [
    {
     "name": "stderr",
     "output_type": "stream",
     "text": [
      "/home/hv270/platelets/lib/python3.7/site-packages/ipykernel_launcher.py:1: FutureWarning: Your version of xlrd is 1.2.0. In xlrd >= 2.0, only the xls format is supported. As a result, the openpyxl engine will be used if it is installed and the engine argument is not specified. Install openpyxl instead.\n",
      "  \"\"\"Entry point for launching an IPython kernel.\n"
     ]
    }
   ],
   "source": [
    "IDs = pd.read_excel(\"%s/Genomes/CBR159_IDs.xlsx\" % data_home)"
   ]
  },
  {
   "cell_type": "code",
   "execution_count": 86,
   "metadata": {},
   "outputs": [],
   "source": [
    "df = pd.merge(IDs,pear1,left_on=\"CBR ID\",right_on=1,\n",
    "         how=\"inner\")[[\"CFT 4R ID\",\"PEAR1\"]].rename(columns={\"CFT 4R ID\":\"ID\"})"
   ]
  },
  {
   "cell_type": "code",
   "execution_count": 87,
   "metadata": {},
   "outputs": [],
   "source": [
    "df.to_csv(\"%s/PEAR1_PFC.csv\" % data_home)"
   ]
  },
  {
   "cell_type": "markdown",
   "metadata": {},
   "source": [
    "# Interval cohort"
   ]
  },
  {
   "cell_type": "code",
   "execution_count": 89,
   "metadata": {},
   "outputs": [],
   "source": [
    "#~/home/hv270/plink --bfile /home/hv270/rds/rds-who1000-cbrc/user/wja24/shared/hv270/interval_genotypes/chr_1 --snp rs12566888 --out PEAR1_INTERVAL --recode tab"
   ]
  },
  {
   "cell_type": "code",
   "execution_count": 93,
   "metadata": {},
   "outputs": [],
   "source": [
    "pear1 = pd.read_csv(\"%s/Genomes/PEAR1_INTERVAL.ped\" % data_home,sep=\"\\t\",header=None)\n",
    "pear1[\"PEAR1\"] = 0*(pear1[6] == \"G G\") + 1*(pear1[6] == \"T G\") + 2*(pear1[6] == \"T T\")"
   ]
  },
  {
   "cell_type": "code",
   "execution_count": 96,
   "metadata": {},
   "outputs": [],
   "source": [
    "matching = pd.read_csv(\"/home/hv270/rds/rds-who1000-cbrc/user/wja24/shared/hippolyte_only/interval_phenotypes/INTERVAL_OmicsMap_20200514.csv\", sep=\",\")\n",
    "has_one_id = ~matching[\"Affymetrix_QC_bl\"].isnull() | ~matching[\"Affymetrix_QC_24m\"].isnull()\n",
    "matching = matching.loc[has_one_id]\n",
    "matching[\"AffyID\"] = matching[\"Affymetrix_QC_bl\"]\n",
    "matching.loc[matching.AffyID.isnull(),\"AffyID\"] = matching.loc[matching.AffyID.isnull(),\"Affymetrix_QC_24m\"]"
   ]
  },
  {
   "cell_type": "code",
   "execution_count": 108,
   "metadata": {},
   "outputs": [
    {
     "name": "stderr",
     "output_type": "stream",
     "text": [
      "/home/hv270/platelets/lib/python3.7/site-packages/FlowCytometryTools/core/docstring.py:56: MatplotlibDeprecationWarning: \n",
      "The dedent function was deprecated in Matplotlib 3.1 and will be removed in 3.3. Use inspect.cleandoc instead.\n",
      "  doc = dedent(doc)\n"
     ]
    }
   ],
   "source": [
    "from prediction_pipeline.preprocessing import *"
   ]
  },
  {
   "cell_type": "code",
   "execution_count": 109,
   "metadata": {},
   "outputs": [
    {
     "name": "stdout",
     "output_type": "stream",
     "text": [
      "Loading INTERVAL phenotypes\n",
      "(48460, 760)\n",
      "(45040, 760)\n",
      "(38832, 760)\n",
      "(112535, 11)\n",
      "(102595, 11)\n",
      "(17768, 772)\n",
      "(32574, 777)\n",
      "(32727, 777)\n",
      "Checked that each Sample has one row max\n",
      "Removing samples with less than 10 measurements per day\n",
      "(30725, 782)\n"
     ]
    }
   ],
   "source": [
    "int_phen, meta = get_INTERVAL_phenotypes()\n",
    "meta = pd.merge(matching,int_phen,left_on=\"identifier\", right_on=\"identifier\")\n",
    "meta[\"IID\"] = meta[\"AffyID\"].astype(int).astype(str)\n",
    "meta[\"FID\"] = meta[\"AffyID\"].astype(int).astype(str)\n",
    "meta[\"cohort\"] = meta.interval"
   ]
  },
  {
   "cell_type": "code",
   "execution_count": 118,
   "metadata": {},
   "outputs": [
    {
     "data": {
      "text/plain": [
       "identifier                      1000003\n",
       "Affymetrix_QC_bl         110012593138.0\n",
       "Affymetrix_gwasQC_bl     110012593138.0\n",
       "Affymetrix_QC_24m                   NaN\n",
       "Affymetrix_gwasQC_24m               NaN\n",
       "                              ...      \n",
       "yearday                             183\n",
       "hours                                10\n",
       "IID                        110012593138\n",
       "FID                        110012593138\n",
       "cohort                              F14\n",
       "Name: 0, Length: 790, dtype: object"
      ]
     },
     "execution_count": 118,
     "metadata": {},
     "output_type": "execute_result"
    }
   ],
   "source": [
    "meta.iloc[0]"
   ]
  },
  {
   "cell_type": "code",
   "execution_count": 122,
   "metadata": {},
   "outputs": [],
   "source": [
    "df = pd.merge(meta,pear1[[0,\"PEAR1\"]],left_on=\"AffyID\",right_on=0,how=\"right\")[[\"SampleNo\",\"PEAR1\"]]\n",
    "df = df.loc[~df.SampleNo.isnull()]"
   ]
  },
  {
   "cell_type": "code",
   "execution_count": 124,
   "metadata": {},
   "outputs": [],
   "source": [
    "df.to_csv(\"%s/PEAR1_INTERVAL.csv\" % data_home)"
   ]
  },
  {
   "cell_type": "markdown",
   "metadata": {},
   "source": [
    "# Get PCs for Interval"
   ]
  },
  {
   "cell_type": "code",
   "execution_count": 126,
   "metadata": {},
   "outputs": [],
   "source": [
    "export_folder = \"/home/hv270/rds/rds-who1000-cbrc/user/wja24/shared/hippolyte_only/interval_processing\""
   ]
  },
  {
   "cell_type": "code",
   "execution_count": 127,
   "metadata": {},
   "outputs": [],
   "source": [
    "pcs = pd.read_csv(\"%s/principal_components/PC.eigenvec\" % export_folder,sep=\"\\t\")\n",
    "pcs[\"IID\"] = pcs[\"IID\"].astype(str)"
   ]
  },
  {
   "cell_type": "code",
   "execution_count": 131,
   "metadata": {},
   "outputs": [],
   "source": [
    "df = pd.merge(pcs,meta, left_on=\"IID\",right_on=\"IID\",how=\"inner\")[[\"SampleNo\"] + list(pcs.columns[2:])]"
   ]
  },
  {
   "cell_type": "code",
   "execution_count": 132,
   "metadata": {},
   "outputs": [],
   "source": [
    "df.to_csv(\"%s/PCs_INTERVAL.csv\" % data_home)"
   ]
  },
  {
   "cell_type": "code",
   "execution_count": null,
   "metadata": {},
   "outputs": [],
   "source": []
  }
 ],
 "metadata": {
  "kernelspec": {
   "display_name": "Python 3",
   "language": "python",
   "name": "python3"
  },
  "language_info": {
   "codemirror_mode": {
    "name": "ipython",
    "version": 3
   },
   "file_extension": ".py",
   "mimetype": "text/x-python",
   "name": "python",
   "nbconvert_exporter": "python",
   "pygments_lexer": "ipython3",
   "version": "3.7.3"
  },
  "toc": {
   "base_numbering": 1,
   "nav_menu": {},
   "number_sections": true,
   "sideBar": true,
   "skip_h1_title": false,
   "title_cell": "Table of Contents",
   "title_sidebar": "Contents",
   "toc_cell": false,
   "toc_position": {},
   "toc_section_display": true,
   "toc_window_display": false
  }
 },
 "nbformat": 4,
 "nbformat_minor": 2
}
