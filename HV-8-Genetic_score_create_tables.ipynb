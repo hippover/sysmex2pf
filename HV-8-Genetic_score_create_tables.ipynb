{
 "cells": [
  {
   "cell_type": "code",
   "execution_count": 1,
   "metadata": {},
   "outputs": [],
   "source": [
    "import pandas as pd\n",
    "%matplotlib inline\n",
    "import matplotlib.pyplot as plt\n",
    "import subprocess\n",
    "export_folder = \"/home/hv270/rds/rds-who1000-cbrc/user/wja24/shared/hippolyte_only/interval_processing\"\n",
    "from scipy.stats import ttest_ind\n",
    "import numpy as np\n",
    "from sklearn.cluster import AgglomerativeClustering\n",
    "from sklearn.linear_model import LinearRegression\n",
    "from lifelines.statistics import logrank_test\n",
    "from tqdm import tqdm\n",
    "import glob\n",
    "from scipy.stats import pearsonr\n",
    "\n",
    "from lifelines import KaplanMeierFitter\n",
    "from lifelines import WeibullAFTFitter, CoxPHFitter\n",
    "from lifelines.statistics import logrank_test\n",
    "from datetime import datetime\n",
    "from scipy.stats import chi2\n",
    "\n",
    "from multiprocessing import Pool"
   ]
  },
  {
   "cell_type": "code",
   "execution_count": 2,
   "metadata": {},
   "outputs": [],
   "source": [
    "#tag = \"26_nov\"\n",
    "tag = \"20_dec_21\"\n",
    "pheno_cols = [\"ADP_pred\"]"
   ]
  },
  {
   "cell_type": "markdown",
   "metadata": {},
   "source": [
    "# Read phenotypes scores"
   ]
  },
  {
   "cell_type": "code",
   "execution_count": 3,
   "metadata": {},
   "outputs": [
    {
     "data": {
      "text/plain": [
       "'/home/hv270/rds/rds-who1000-cbrc/user/wja24/shared/hippolyte_only/interval_processing'"
      ]
     },
     "execution_count": 3,
     "metadata": {},
     "output_type": "execute_result"
    }
   ],
   "source": [
    "export_folder"
   ]
  },
  {
   "cell_type": "code",
   "execution_count": 4,
   "metadata": {},
   "outputs": [],
   "source": [
    "scores_SNPs = pd.read_hdf(\"%s/UKB_causal_SNPS_genotypes/scores.hdf\" % export_folder).reset_index()\n",
    "scores_SNPs[\"index\"] = scores_SNPs[\"index\"].str.split(\"_\",expand=True)[0].astype(int)\n",
    "scores_SNPs = scores_SNPs.rename(columns={\"index\":\"IID\"})\n",
    "scores_SNPs = scores_SNPs.set_index(\"IID\")"
   ]
  },
  {
   "cell_type": "code",
   "execution_count": 5,
   "metadata": {},
   "outputs": [],
   "source": [
    "SNPs = list(scores_SNPs.columns)"
   ]
  },
  {
   "cell_type": "code",
   "execution_count": 6,
   "metadata": {},
   "outputs": [
    {
     "data": {
      "text/html": [
       "<div>\n",
       "<style scoped>\n",
       "    .dataframe tbody tr th:only-of-type {\n",
       "        vertical-align: middle;\n",
       "    }\n",
       "\n",
       "    .dataframe tbody tr th {\n",
       "        vertical-align: top;\n",
       "    }\n",
       "\n",
       "    .dataframe thead th {\n",
       "        text-align: right;\n",
       "    }\n",
       "</style>\n",
       "<table border=\"1\" class=\"dataframe\">\n",
       "  <thead>\n",
       "    <tr style=\"text-align: right;\">\n",
       "      <th></th>\n",
       "      <th>INTERVAL_score</th>\n",
       "      <th>ADP_score</th>\n",
       "      <th>best_pval_score</th>\n",
       "      <th>best_pval_score_homogenous</th>\n",
       "    </tr>\n",
       "    <tr>\n",
       "      <th>IID</th>\n",
       "      <th></th>\n",
       "      <th></th>\n",
       "      <th></th>\n",
       "      <th></th>\n",
       "    </tr>\n",
       "  </thead>\n",
       "  <tbody>\n",
       "    <tr>\n",
       "      <th>3988147</th>\n",
       "      <td>-0.162773</td>\n",
       "      <td>-0.157946</td>\n",
       "      <td>1.707120</td>\n",
       "      <td>0.140237</td>\n",
       "    </tr>\n",
       "    <tr>\n",
       "      <th>5152243</th>\n",
       "      <td>-0.172652</td>\n",
       "      <td>0.066470</td>\n",
       "      <td>2.256228</td>\n",
       "      <td>0.256766</td>\n",
       "    </tr>\n",
       "    <tr>\n",
       "      <th>2770265</th>\n",
       "      <td>-0.417057</td>\n",
       "      <td>-0.201585</td>\n",
       "      <td>1.126283</td>\n",
       "      <td>0.048714</td>\n",
       "    </tr>\n",
       "    <tr>\n",
       "      <th>3790399</th>\n",
       "      <td>-0.629205</td>\n",
       "      <td>-0.969309</td>\n",
       "      <td>0.718756</td>\n",
       "      <td>-0.088707</td>\n",
       "    </tr>\n",
       "    <tr>\n",
       "      <th>4681935</th>\n",
       "      <td>-0.399746</td>\n",
       "      <td>0.014031</td>\n",
       "      <td>0.543380</td>\n",
       "      <td>0.083153</td>\n",
       "    </tr>\n",
       "    <tr>\n",
       "      <th>...</th>\n",
       "      <td>...</td>\n",
       "      <td>...</td>\n",
       "      <td>...</td>\n",
       "      <td>...</td>\n",
       "    </tr>\n",
       "    <tr>\n",
       "      <th>4494916</th>\n",
       "      <td>-0.265494</td>\n",
       "      <td>-0.253767</td>\n",
       "      <td>1.924028</td>\n",
       "      <td>0.183382</td>\n",
       "    </tr>\n",
       "    <tr>\n",
       "      <th>4272180</th>\n",
       "      <td>-0.104392</td>\n",
       "      <td>-0.360849</td>\n",
       "      <td>0.959760</td>\n",
       "      <td>0.049855</td>\n",
       "    </tr>\n",
       "    <tr>\n",
       "      <th>2654475</th>\n",
       "      <td>-0.014894</td>\n",
       "      <td>-0.322015</td>\n",
       "      <td>1.140520</td>\n",
       "      <td>0.073805</td>\n",
       "    </tr>\n",
       "    <tr>\n",
       "      <th>4943537</th>\n",
       "      <td>-0.293682</td>\n",
       "      <td>-0.532008</td>\n",
       "      <td>0.723550</td>\n",
       "      <td>0.023116</td>\n",
       "    </tr>\n",
       "    <tr>\n",
       "      <th>2379838</th>\n",
       "      <td>-0.270949</td>\n",
       "      <td>0.016570</td>\n",
       "      <td>1.385640</td>\n",
       "      <td>0.105747</td>\n",
       "    </tr>\n",
       "  </tbody>\n",
       "</table>\n",
       "<p>487409 rows × 4 columns</p>\n",
       "</div>"
      ],
      "text/plain": [
       "         INTERVAL_score  ADP_score  best_pval_score  \\\n",
       "IID                                                   \n",
       "3988147       -0.162773  -0.157946         1.707120   \n",
       "5152243       -0.172652   0.066470         2.256228   \n",
       "2770265       -0.417057  -0.201585         1.126283   \n",
       "3790399       -0.629205  -0.969309         0.718756   \n",
       "4681935       -0.399746   0.014031         0.543380   \n",
       "...                 ...        ...              ...   \n",
       "4494916       -0.265494  -0.253767         1.924028   \n",
       "4272180       -0.104392  -0.360849         0.959760   \n",
       "2654475       -0.014894  -0.322015         1.140520   \n",
       "4943537       -0.293682  -0.532008         0.723550   \n",
       "2379838       -0.270949   0.016570         1.385640   \n",
       "\n",
       "         best_pval_score_homogenous  \n",
       "IID                                  \n",
       "3988147                    0.140237  \n",
       "5152243                    0.256766  \n",
       "2770265                    0.048714  \n",
       "3790399                   -0.088707  \n",
       "4681935                    0.083153  \n",
       "...                             ...  \n",
       "4494916                    0.183382  \n",
       "4272180                    0.049855  \n",
       "2654475                    0.073805  \n",
       "4943537                    0.023116  \n",
       "2379838                    0.105747  \n",
       "\n",
       "[487409 rows x 4 columns]"
      ]
     },
     "execution_count": 6,
     "metadata": {},
     "output_type": "execute_result"
    }
   ],
   "source": [
    "scores_SNPs"
   ]
  },
  {
   "cell_type": "code",
   "execution_count": null,
   "metadata": {},
   "outputs": [],
   "source": []
  },
  {
   "cell_type": "markdown",
   "metadata": {},
   "source": [
    "# Read Sysmex Scores"
   ]
  },
  {
   "cell_type": "code",
   "execution_count": 32,
   "metadata": {},
   "outputs": [],
   "source": [
    "sys_phenos = [\"PLT#\",\"MPV\",\"PCT\",\"PDW\"]\n",
    "score_dfs = []\n",
    "for pheno in sys_phenos:\n",
    "    dfs = []\n",
    "    chrom_files = glob.glob(\"%s/Genetic_score_Sysmex_traits/%s_causal_score_chr*.sscore\" % (export_folder,pheno))\n",
    "    for i, score_file in enumerate(chrom_files):\n",
    "        df = pd.read_csv(score_file,sep=\"\\t\")\n",
    "        df[\"score\"] = df[\"SCORE1_AVG\"]\n",
    "        dfs.append(df[[\"IID\",\"score\"]].rename(columns={\"score\":\"score_%d\" % i}))\n",
    "    df = dfs[0]\n",
    "    for d in dfs[1:]:\n",
    "        df = pd.merge(df,d,left_on=\"IID\",right_on=\"IID\",how=\"inner\")\n",
    "    df = df.set_index(\"IID\")\n",
    "    score_dfs.append(pd.DataFrame(df.sum(axis=1)).rename(columns={0:pheno}))\n",
    "scores_sys = pd.concat(score_dfs,axis=1)"
   ]
  },
  {
   "cell_type": "code",
   "execution_count": 33,
   "metadata": {},
   "outputs": [
    {
     "data": {
      "text/html": [
       "<div>\n",
       "<style scoped>\n",
       "    .dataframe tbody tr th:only-of-type {\n",
       "        vertical-align: middle;\n",
       "    }\n",
       "\n",
       "    .dataframe tbody tr th {\n",
       "        vertical-align: top;\n",
       "    }\n",
       "\n",
       "    .dataframe thead th {\n",
       "        text-align: right;\n",
       "    }\n",
       "</style>\n",
       "<table border=\"1\" class=\"dataframe\">\n",
       "  <thead>\n",
       "    <tr style=\"text-align: right;\">\n",
       "      <th></th>\n",
       "      <th>PLT_score</th>\n",
       "      <th>MPV_score</th>\n",
       "      <th>PCT_score</th>\n",
       "      <th>PDW_score</th>\n",
       "    </tr>\n",
       "    <tr>\n",
       "      <th>IID</th>\n",
       "      <th></th>\n",
       "      <th></th>\n",
       "      <th></th>\n",
       "      <th></th>\n",
       "    </tr>\n",
       "  </thead>\n",
       "  <tbody>\n",
       "    <tr>\n",
       "      <th>3988147</th>\n",
       "      <td>0.011610</td>\n",
       "      <td>-0.027600</td>\n",
       "      <td>0.007958</td>\n",
       "      <td>-0.005995</td>\n",
       "    </tr>\n",
       "    <tr>\n",
       "      <th>5152243</th>\n",
       "      <td>0.007862</td>\n",
       "      <td>-0.016196</td>\n",
       "      <td>0.005119</td>\n",
       "      <td>-0.002073</td>\n",
       "    </tr>\n",
       "    <tr>\n",
       "      <th>2770265</th>\n",
       "      <td>0.004983</td>\n",
       "      <td>-0.039424</td>\n",
       "      <td>-0.017437</td>\n",
       "      <td>-0.003341</td>\n",
       "    </tr>\n",
       "    <tr>\n",
       "      <th>3790399</th>\n",
       "      <td>-0.001070</td>\n",
       "      <td>-0.027039</td>\n",
       "      <td>-0.009639</td>\n",
       "      <td>0.011838</td>\n",
       "    </tr>\n",
       "    <tr>\n",
       "      <th>4681935</th>\n",
       "      <td>0.012693</td>\n",
       "      <td>-0.028224</td>\n",
       "      <td>0.001313</td>\n",
       "      <td>-0.005025</td>\n",
       "    </tr>\n",
       "    <tr>\n",
       "      <th>...</th>\n",
       "      <td>...</td>\n",
       "      <td>...</td>\n",
       "      <td>...</td>\n",
       "      <td>...</td>\n",
       "    </tr>\n",
       "    <tr>\n",
       "      <th>4494916</th>\n",
       "      <td>0.014897</td>\n",
       "      <td>-0.021669</td>\n",
       "      <td>0.001732</td>\n",
       "      <td>0.019635</td>\n",
       "    </tr>\n",
       "    <tr>\n",
       "      <th>4272180</th>\n",
       "      <td>-0.001114</td>\n",
       "      <td>-0.017683</td>\n",
       "      <td>-0.004186</td>\n",
       "      <td>0.024122</td>\n",
       "    </tr>\n",
       "    <tr>\n",
       "      <th>2654475</th>\n",
       "      <td>0.020629</td>\n",
       "      <td>-0.039821</td>\n",
       "      <td>-0.000400</td>\n",
       "      <td>-0.003238</td>\n",
       "    </tr>\n",
       "    <tr>\n",
       "      <th>4943537</th>\n",
       "      <td>0.019387</td>\n",
       "      <td>-0.049689</td>\n",
       "      <td>-0.005507</td>\n",
       "      <td>-0.008037</td>\n",
       "    </tr>\n",
       "    <tr>\n",
       "      <th>2379838</th>\n",
       "      <td>0.026561</td>\n",
       "      <td>-0.029896</td>\n",
       "      <td>-0.003403</td>\n",
       "      <td>-0.027935</td>\n",
       "    </tr>\n",
       "  </tbody>\n",
       "</table>\n",
       "<p>409016 rows × 4 columns</p>\n",
       "</div>"
      ],
      "text/plain": [
       "         PLT_score  MPV_score  PCT_score  PDW_score\n",
       "IID                                                \n",
       "3988147   0.011610  -0.027600   0.007958  -0.005995\n",
       "5152243   0.007862  -0.016196   0.005119  -0.002073\n",
       "2770265   0.004983  -0.039424  -0.017437  -0.003341\n",
       "3790399  -0.001070  -0.027039  -0.009639   0.011838\n",
       "4681935   0.012693  -0.028224   0.001313  -0.005025\n",
       "...            ...        ...        ...        ...\n",
       "4494916   0.014897  -0.021669   0.001732   0.019635\n",
       "4272180  -0.001114  -0.017683  -0.004186   0.024122\n",
       "2654475   0.020629  -0.039821  -0.000400  -0.003238\n",
       "4943537   0.019387  -0.049689  -0.005507  -0.008037\n",
       "2379838   0.026561  -0.029896  -0.003403  -0.027935\n",
       "\n",
       "[409016 rows x 4 columns]"
      ]
     },
     "execution_count": 33,
     "metadata": {},
     "output_type": "execute_result"
    }
   ],
   "source": [
    "scores_sys = scores_sys.rename(columns={\"PLT#\":\"PLT\"})\n",
    "scores_sys = scores_sys.add_suffix(\"_score\")\n",
    "scores_sys"
   ]
  },
  {
   "cell_type": "code",
   "execution_count": 34,
   "metadata": {},
   "outputs": [
    {
     "data": {
      "text/plain": [
       "<matplotlib.legend.Legend at 0x2aafcfea4630>"
      ]
     },
     "execution_count": 34,
     "metadata": {},
     "output_type": "execute_result"
    },
    {
     "data": {
      "image/png": "[encoded data removed]",
      "text/plain": [
       "<Figure size 432x288 with 1 Axes>"
      ]
     },
     "metadata": {
      "needs_background": "light"
     },
     "output_type": "display_data"
    }
   ],
   "source": [
    "for c in scores_sys.columns:\n",
    "    plt.hist(scores_sys[c],alpha=.5,label=c)\n",
    "plt.legend()"
   ]
  },
  {
   "cell_type": "code",
   "execution_count": 35,
   "metadata": {},
   "outputs": [],
   "source": [
    "scores = pd.merge(scores_SNPs, scores_sys,left_index=True,right_index=True).rename(columns={\"IPF\":\"IPF_score\"})"
   ]
  },
  {
   "cell_type": "code",
   "execution_count": 36,
   "metadata": {},
   "outputs": [
    {
     "data": {
      "text/html": [
       "<div>\n",
       "<style scoped>\n",
       "    .dataframe tbody tr th:only-of-type {\n",
       "        vertical-align: middle;\n",
       "    }\n",
       "\n",
       "    .dataframe tbody tr th {\n",
       "        vertical-align: top;\n",
       "    }\n",
       "\n",
       "    .dataframe thead th {\n",
       "        text-align: right;\n",
       "    }\n",
       "</style>\n",
       "<table border=\"1\" class=\"dataframe\">\n",
       "  <thead>\n",
       "    <tr style=\"text-align: right;\">\n",
       "      <th></th>\n",
       "      <th>INTERVAL_score</th>\n",
       "      <th>ADP_score</th>\n",
       "      <th>best_pval_score</th>\n",
       "      <th>best_pval_score_homogenous</th>\n",
       "      <th>PLT_score</th>\n",
       "      <th>MPV_score</th>\n",
       "      <th>PCT_score</th>\n",
       "      <th>PDW_score</th>\n",
       "    </tr>\n",
       "    <tr>\n",
       "      <th>IID</th>\n",
       "      <th></th>\n",
       "      <th></th>\n",
       "      <th></th>\n",
       "      <th></th>\n",
       "      <th></th>\n",
       "      <th></th>\n",
       "      <th></th>\n",
       "      <th></th>\n",
       "    </tr>\n",
       "  </thead>\n",
       "  <tbody>\n",
       "    <tr>\n",
       "      <th>3988147</th>\n",
       "      <td>-0.162773</td>\n",
       "      <td>-0.157946</td>\n",
       "      <td>1.707120</td>\n",
       "      <td>0.140237</td>\n",
       "      <td>0.011610</td>\n",
       "      <td>-0.027600</td>\n",
       "      <td>0.007958</td>\n",
       "      <td>-0.005995</td>\n",
       "    </tr>\n",
       "    <tr>\n",
       "      <th>5152243</th>\n",
       "      <td>-0.172652</td>\n",
       "      <td>0.066470</td>\n",
       "      <td>2.256228</td>\n",
       "      <td>0.256766</td>\n",
       "      <td>0.007862</td>\n",
       "      <td>-0.016196</td>\n",
       "      <td>0.005119</td>\n",
       "      <td>-0.002073</td>\n",
       "    </tr>\n",
       "    <tr>\n",
       "      <th>2770265</th>\n",
       "      <td>-0.417057</td>\n",
       "      <td>-0.201585</td>\n",
       "      <td>1.126283</td>\n",
       "      <td>0.048714</td>\n",
       "      <td>0.004983</td>\n",
       "      <td>-0.039424</td>\n",
       "      <td>-0.017437</td>\n",
       "      <td>-0.003341</td>\n",
       "    </tr>\n",
       "    <tr>\n",
       "      <th>3790399</th>\n",
       "      <td>-0.629205</td>\n",
       "      <td>-0.969309</td>\n",
       "      <td>0.718756</td>\n",
       "      <td>-0.088707</td>\n",
       "      <td>-0.001070</td>\n",
       "      <td>-0.027039</td>\n",
       "      <td>-0.009639</td>\n",
       "      <td>0.011838</td>\n",
       "    </tr>\n",
       "    <tr>\n",
       "      <th>4681935</th>\n",
       "      <td>-0.399746</td>\n",
       "      <td>0.014031</td>\n",
       "      <td>0.543380</td>\n",
       "      <td>0.083153</td>\n",
       "      <td>0.012693</td>\n",
       "      <td>-0.028224</td>\n",
       "      <td>0.001313</td>\n",
       "      <td>-0.005025</td>\n",
       "    </tr>\n",
       "  </tbody>\n",
       "</table>\n",
       "</div>"
      ],
      "text/plain": [
       "         INTERVAL_score  ADP_score  best_pval_score  \\\n",
       "IID                                                   \n",
       "3988147       -0.162773  -0.157946         1.707120   \n",
       "5152243       -0.172652   0.066470         2.256228   \n",
       "2770265       -0.417057  -0.201585         1.126283   \n",
       "3790399       -0.629205  -0.969309         0.718756   \n",
       "4681935       -0.399746   0.014031         0.543380   \n",
       "\n",
       "         best_pval_score_homogenous  PLT_score  MPV_score  PCT_score  \\\n",
       "IID                                                                    \n",
       "3988147                    0.140237   0.011610  -0.027600   0.007958   \n",
       "5152243                    0.256766   0.007862  -0.016196   0.005119   \n",
       "2770265                    0.048714   0.004983  -0.039424  -0.017437   \n",
       "3790399                   -0.088707  -0.001070  -0.027039  -0.009639   \n",
       "4681935                    0.083153   0.012693  -0.028224   0.001313   \n",
       "\n",
       "         PDW_score  \n",
       "IID                 \n",
       "3988147  -0.005995  \n",
       "5152243  -0.002073  \n",
       "2770265  -0.003341  \n",
       "3790399   0.011838  \n",
       "4681935  -0.005025  "
      ]
     },
     "execution_count": 36,
     "metadata": {},
     "output_type": "execute_result"
    }
   ],
   "source": [
    "scores.head()"
   ]
  },
  {
   "cell_type": "code",
   "execution_count": 37,
   "metadata": {},
   "outputs": [],
   "source": [
    "# Export\n",
    "\n",
    "scores.to_hdf(\"%s/scores_table.hdf\" % export_folder,key=\"scores\")"
   ]
  },
  {
   "cell_type": "markdown",
   "metadata": {},
   "source": [
    "# Read UKBB outcomes"
   ]
  },
  {
   "cell_type": "code",
   "execution_count": 7,
   "metadata": {},
   "outputs": [
    {
     "data": {
      "text/html": [
       "<div>\n",
       "<style scoped>\n",
       "    .dataframe tbody tr th:only-of-type {\n",
       "        vertical-align: middle;\n",
       "    }\n",
       "\n",
       "    .dataframe tbody tr th {\n",
       "        vertical-align: top;\n",
       "    }\n",
       "\n",
       "    .dataframe thead th {\n",
       "        text-align: right;\n",
       "    }\n",
       "</style>\n",
       "<table border=\"1\" class=\"dataframe\">\n",
       "  <thead>\n",
       "    <tr style=\"text-align: right;\">\n",
       "      <th></th>\n",
       "      <th>Path</th>\n",
       "      <th>Category</th>\n",
       "      <th>FieldID</th>\n",
       "      <th>Field</th>\n",
       "      <th>Participants</th>\n",
       "      <th>Items</th>\n",
       "      <th>Stability</th>\n",
       "      <th>ValueType</th>\n",
       "      <th>Units</th>\n",
       "      <th>ItemType</th>\n",
       "      <th>...</th>\n",
       "      <th>Unnamed: 73</th>\n",
       "      <th>Unnamed: 74</th>\n",
       "      <th>Unnamed: 75</th>\n",
       "      <th>Unnamed: 76</th>\n",
       "      <th>Unnamed: 77</th>\n",
       "      <th>Unnamed: 78</th>\n",
       "      <th>Unnamed: 79</th>\n",
       "      <th>Unnamed: 80</th>\n",
       "      <th>Unnamed: 81</th>\n",
       "      <th>Unnamed: 82</th>\n",
       "    </tr>\n",
       "  </thead>\n",
       "  <tbody>\n",
       "    <tr>\n",
       "      <th>0</th>\n",
       "      <td>UK Biobank Assessment Centre &gt; Procedural metr...</td>\n",
       "      <td>152</td>\n",
       "      <td>3</td>\n",
       "      <td>Verbal interview duration</td>\n",
       "      <td>501635</td>\n",
       "      <td>568440</td>\n",
       "      <td>Complete</td>\n",
       "      <td>Integer</td>\n",
       "      <td>seconds</td>\n",
       "      <td>Data</td>\n",
       "      <td>...</td>\n",
       "      <td>NaN</td>\n",
       "      <td>NaN</td>\n",
       "      <td>NaN</td>\n",
       "      <td>NaN</td>\n",
       "      <td>NaN</td>\n",
       "      <td>NaN</td>\n",
       "      <td>NaN</td>\n",
       "      <td>NaN</td>\n",
       "      <td>NaN</td>\n",
       "      <td>NaN</td>\n",
       "    </tr>\n",
       "    <tr>\n",
       "      <th>1</th>\n",
       "      <td>UK Biobank Assessment Centre &gt; Procedural metr...</td>\n",
       "      <td>152</td>\n",
       "      <td>4</td>\n",
       "      <td>Biometrics duration</td>\n",
       "      <td>497955</td>\n",
       "      <td>568328</td>\n",
       "      <td>Complete</td>\n",
       "      <td>Integer</td>\n",
       "      <td>seconds</td>\n",
       "      <td>Data</td>\n",
       "      <td>...</td>\n",
       "      <td>NaN</td>\n",
       "      <td>NaN</td>\n",
       "      <td>NaN</td>\n",
       "      <td>NaN</td>\n",
       "      <td>NaN</td>\n",
       "      <td>NaN</td>\n",
       "      <td>NaN</td>\n",
       "      <td>NaN</td>\n",
       "      <td>NaN</td>\n",
       "      <td>NaN</td>\n",
       "    </tr>\n",
       "  </tbody>\n",
       "</table>\n",
       "<p>2 rows × 83 columns</p>\n",
       "</div>"
      ],
      "text/plain": [
       "                                                Path  Category  FieldID  \\\n",
       "0  UK Biobank Assessment Centre > Procedural metr...       152        3   \n",
       "1  UK Biobank Assessment Centre > Procedural metr...       152        4   \n",
       "\n",
       "                       Field  Participants   Items Stability ValueType  \\\n",
       "0  Verbal interview duration        501635  568440  Complete   Integer   \n",
       "1        Biometrics duration        497955  568328  Complete   Integer   \n",
       "\n",
       "     Units ItemType  ... Unnamed: 73 Unnamed: 74  Unnamed: 75  Unnamed: 76  \\\n",
       "0  seconds     Data  ...         NaN         NaN          NaN          NaN   \n",
       "1  seconds     Data  ...         NaN         NaN          NaN          NaN   \n",
       "\n",
       "   Unnamed: 77 Unnamed: 78 Unnamed: 79 Unnamed: 80 Unnamed: 81 Unnamed: 82  \n",
       "0          NaN         NaN         NaN         NaN         NaN         NaN  \n",
       "1          NaN         NaN         NaN         NaN         NaN         NaN  \n",
       "\n",
       "[2 rows x 83 columns]"
      ]
     },
     "execution_count": 7,
     "metadata": {},
     "output_type": "execute_result"
    }
   ],
   "source": [
    "col_index = pd.read_csv(\"%s/Data_Dictionary_Showcase.tsv\" % export_folder,sep=\"\\t\")\n",
    "col_index.head(2)"
   ]
  },
  {
   "cell_type": "code",
   "execution_count": 8,
   "metadata": {},
   "outputs": [],
   "source": [
    "ages = col_index.loc[col_index.Field.str.contains(\"Age\")].set_index(\"FieldID\")[\"Field\"].to_dict()\n",
    "ages_cols = [\"%d-0.0\" % a for a in ages]"
   ]
  },
  {
   "cell_type": "code",
   "execution_count": 9,
   "metadata": {
    "scrolled": true
   },
   "outputs": [
    {
     "data": {
      "text/plain": [
       "{845: 'Age completed full time education',\n",
       " 2139: 'Age first had sexual intercourse',\n",
       " 2217: 'Age started wearing glasses or contact lenses',\n",
       " 2714: 'Age when periods started (menarche)',\n",
       " 2754: 'Age at first live birth',\n",
       " 2764: 'Age at last live birth',\n",
       " 2794: 'Age started oral contraceptive pill',\n",
       " 2804: 'Age when last used oral contraceptive pill',\n",
       " 2824: 'Age at hysterectomy',\n",
       " 2867: 'Age started smoking in former smokers',\n",
       " 2897: 'Age stopped smoking',\n",
       " 2966: 'Age high blood pressure diagnosed',\n",
       " 2976: 'Age diabetes diagnosed',\n",
       " 3436: 'Age started smoking in current smokers',\n",
       " 3536: 'Age started hormone-replacement therapy (HRT)',\n",
       " 3546: 'Age last used hormone-replacement therapy (HRT)',\n",
       " 3581: 'Age at menopause (last menstrual period)',\n",
       " 3627: 'Age angina diagnosed',\n",
       " 3680: 'Age when last ate meat',\n",
       " 3761: 'Age hay fever, rhinitis or eczema diagnosed',\n",
       " 3786: 'Age asthma diagnosed',\n",
       " 3872: 'Age of primiparous women at birth of child',\n",
       " 3882: 'Age at bilateral oophorectomy (both ovaries removed)',\n",
       " 3894: 'Age heart attack diagnosed',\n",
       " 3992: 'Age emphysema/chronic bronchitis diagnosed',\n",
       " 4012: 'Age deep-vein thrombosis (DVT, blood clot in leg) diagnosed',\n",
       " 4022: 'Age pulmonary embolism (blood clot in lung) diagnosed',\n",
       " 4056: 'Age stroke diagnosed',\n",
       " 4689: 'Age glaucoma diagnosed',\n",
       " 4700: 'Age cataract diagnosed',\n",
       " 5430: 'Age when loss of vision due to injury or trauma diagnosed',\n",
       " 5901: 'Age when diabetes-related eye disease diagnosed',\n",
       " 5923: 'Age macular degeneration diagnosed',\n",
       " 5945: 'Age other serious eye condition diagnosed',\n",
       " 6194: 'Age stopped smoking cigarettes (current cigar/pipe or previous cigarette smoker)',\n",
       " 20007: 'Interpolated Age of participant when cancer first diagnosed',\n",
       " 20009: 'Interpolated Age of participant when non-cancer illness first diagnosed',\n",
       " 20011: 'Interpolated Age of participant when operation took place',\n",
       " 20410: 'Age when known person last commented about drinking habits',\n",
       " 20433: 'Age at first episode of depression',\n",
       " 20434: 'Age at last episode of depression',\n",
       " 20455: 'Age when last took cannabis',\n",
       " 20461: 'Age when first had unusual or psychotic experience',\n",
       " 21003: 'Age when attended assessment centre',\n",
       " 21022: 'Age at recruitment',\n",
       " 22146: 'Age hayfever or allergic rhinitis diagnosed by doctor',\n",
       " 22147: 'Age asthma diagnosed by doctor',\n",
       " 22148: 'Age emphysema diagnosed by doctor',\n",
       " 22149: 'Age chronic bronchitis diagnosed by doctor',\n",
       " 22150: 'Age COPD (Chronic Obstructive Pulmonary Disease) diagnosed by doctor',\n",
       " 22151: 'Age cystic fibrosis diagnosed by doctor',\n",
       " 22152: 'Age alpha-1 antitrypsin deficiency diagnosed by doctor',\n",
       " 22153: 'Age sarcoidosis diagnosed by doctor',\n",
       " 22154: 'Age bronchiectasis diagnosed by doctor',\n",
       " 22155: 'Age idiopathic pulmonary fibrosis diagnosed by doctor',\n",
       " 22156: 'Age fibrosing alveolitis/unspecified alveolitis diagnosed by doctor',\n",
       " 22157: 'Age tuberculosis diagnosed by doctor',\n",
       " 22158: 'Age silicosis diagnosed by doctor',\n",
       " 22159: 'Age asbestosis diagnosed by doctor',\n",
       " 22160: 'Age lung cancer (not mesothelioma) diagnosed by doctor',\n",
       " 22161: 'Age mesothelioma of the lung diagnosed by doctor',\n",
       " 22507: 'Age of stopping smoking',\n",
       " 40007: 'Age at death',\n",
       " 40008: 'Age at cancer diagnosis'}"
      ]
     },
     "execution_count": 9,
     "metadata": {},
     "output_type": "execute_result"
    }
   ],
   "source": [
    "ages"
   ]
  },
  {
   "cell_type": "code",
   "execution_count": 11,
   "metadata": {},
   "outputs": [],
   "source": [
    "ukbb_path = \"/home/hv270/rds/rds-who1000-cbrc/data/UKB_13745/flat_data/ukb44092.csv\"\n",
    "SEX_FIELD = \"31-0.0\" # 0 female, 1 male\n",
    "ID_FIELD = \"eid\"\n",
    "DEATH_FIELD = '40007-0.0' # Age at death\n",
    "BIRTH_FIELD = \"34-0.0\"\n",
    "KINSHIP = '22021-0.0'\n",
    "SMOKING_FIELD = \"20161-0.0\"\n",
    "CHOLESTEROL_FIELD = \"30690-0.0\" \n",
    "DIABETES_FIELD = \"2443-0.0\"\n",
    "PLT_FIELD = \"30080-0.0\"\n",
    "MPV_FIELD = \"30100-0.0\"\n",
    "PCT_FIELD = \"30090-0.0\"\n",
    "PDW_FIELD = \"30110-0.0\"\n",
    "BMI_FIELD = \"21001-0.0\"\n",
    "CRP_FIELD = \"30710-0.0\"\n",
    "HDL_FIELD = \"30760-0.0\"\n",
    "SYSTOLIC_BP_FIELD = \"4080-0.0\"\n",
    "ICD10_sec_code = ['41270-0.%d' % i for i in range(213)]\n",
    "ICD10_sec_date = ['41280-0.%d' % i for i in range(213)]\n",
    "genetic_PCs = [\"22009-0.%d\" % i for i in range(1,11)]\n",
    "MEDICATION_FIELDS = [\"20003-0.%d\" % i for i in range(47)]\n",
    "ICD10_prim_dates = col_index.loc[col_index[\"Field\"].str.contains(\"Date\") &\\\n",
    "                                 col_index[\"Field\"].str.contains(\"first reported\")].FieldID.astype(str).tolist()\n",
    "\n",
    "# filter out missing ICD10_prim_dates\n",
    "for chunk in pd.read_csv(ukbb_path,sep=\",\",chunksize=int(1e2),low_memory=False):\n",
    "    ukbb_ = chunk\n",
    "    ICD10_prim_dates_filtered = [c for c in ukbb_.columns if c.split(\"-\")[0] in ICD10_prim_dates]\n",
    "    break\n",
    "\n",
    "cols = [ID_FIELD, SEX_FIELD, DEATH_FIELD, BIRTH_FIELD, \n",
    "        SMOKING_FIELD, SYSTOLIC_BP_FIELD, CHOLESTEROL_FIELD, HDL_FIELD, CRP_FIELD,\n",
    "        PLT_FIELD, MPV_FIELD, PDW_FIELD, PCT_FIELD,\n",
    "        BMI_FIELD, DIABETES_FIELD] + genetic_PCs + ICD10_sec_code + \\\n",
    "        ICD10_sec_date + ages_cols + ICD10_prim_dates_filtered + MEDICATION_FIELDS\n",
    "\n",
    "str_cols = {}\n",
    "for c in ICD10_sec_code:\n",
    "    str_cols[c] = str"
   ]
  },
  {
   "cell_type": "code",
   "execution_count": null,
   "metadata": {},
   "outputs": [],
   "source": []
  },
  {
   "cell_type": "code",
   "execution_count": 12,
   "metadata": {},
   "outputs": [],
   "source": [
    "med_coding = pd.read_csv(\"coding4.tsv\",sep=\"\\t\")"
   ]
  },
  {
   "cell_type": "code",
   "execution_count": 13,
   "metadata": {},
   "outputs": [
    {
     "data": {
      "text/html": [
       "<div>\n",
       "<style scoped>\n",
       "    .dataframe tbody tr th:only-of-type {\n",
       "        vertical-align: middle;\n",
       "    }\n",
       "\n",
       "    .dataframe tbody tr th {\n",
       "        vertical-align: top;\n",
       "    }\n",
       "\n",
       "    .dataframe thead th {\n",
       "        text-align: right;\n",
       "    }\n",
       "</style>\n",
       "<table border=\"1\" class=\"dataframe\">\n",
       "  <thead>\n",
       "    <tr style=\"text-align: right;\">\n",
       "      <th></th>\n",
       "      <th>coding</th>\n",
       "      <th>meaning</th>\n",
       "    </tr>\n",
       "  </thead>\n",
       "  <tbody>\n",
       "    <tr>\n",
       "      <th>0</th>\n",
       "      <td>1185</td>\n",
       "      <td>vitamin e product [ctsu]</td>\n",
       "    </tr>\n",
       "    <tr>\n",
       "      <th>1</th>\n",
       "      <td>1187</td>\n",
       "      <td>chondroitin product</td>\n",
       "    </tr>\n",
       "    <tr>\n",
       "      <th>2</th>\n",
       "      <td>1189</td>\n",
       "      <td>co-enzyme q10/ubiquinone/bio-quinone/coenzyme q10</td>\n",
       "    </tr>\n",
       "    <tr>\n",
       "      <th>3</th>\n",
       "      <td>1191</td>\n",
       "      <td>indigestion remedy (over the counter)</td>\n",
       "    </tr>\n",
       "    <tr>\n",
       "      <th>4</th>\n",
       "      <td>1193</td>\n",
       "      <td>omega-3/fish oil supplement</td>\n",
       "    </tr>\n",
       "  </tbody>\n",
       "</table>\n",
       "</div>"
      ],
      "text/plain": [
       "   coding                                            meaning\n",
       "0    1185                           vitamin e product [ctsu]\n",
       "1    1187                                chondroitin product\n",
       "2    1189  co-enzyme q10/ubiquinone/bio-quinone/coenzyme q10\n",
       "3    1191              indigestion remedy (over the counter)\n",
       "4    1193                        omega-3/fish oil supplement"
      ]
     },
     "execution_count": 13,
     "metadata": {},
     "output_type": "execute_result"
    }
   ],
   "source": [
    "med_coding.head()"
   ]
  },
  {
   "cell_type": "code",
   "execution_count": 14,
   "metadata": {},
   "outputs": [],
   "source": [
    "all_drugs = {\n",
    "    \"antiplatelets\":[\n",
    "        \"Triflusal\",\n",
    "        \"Disgren\",\n",
    "        \"Grendis\",\n",
    "        \"Aflen\",\n",
    "        \"Triflux\",\n",
    "        \"Cangrelor\",\n",
    "        \"Kengreal\",\n",
    "        \"Clopidogrel\",\n",
    "        \"Plavix\",\n",
    "        \"Iscover\",\n",
    "        \"Prasugrel\",\n",
    "        \"Effient\",\n",
    "        \"Ticagrelor\",\n",
    "        \"Brilinta\",\n",
    "        \"Brilique\",\n",
    "        \"Ticlopidine\",\n",
    "        \"Ticlid\",\n",
    "        \"Cilostazol\",\n",
    "        \"Pletal\",\n",
    "        \"Vorapaxar\",\n",
    "        \"Zontivity\",\n",
    "        \"Abciximab\",\n",
    "        \"ReoPro\",\n",
    "        \"Eptifibatide\",\n",
    "        \"Integrilin\",\n",
    "        \"Tirofiban\",\n",
    "        \"Aggrastat\",\n",
    "        \"Dipyridamole\",\n",
    "        \"Persantine\",\n",
    "        \"Terutroban\"\n",
    "    ],\n",
    "    \"anticoagulants\":[\n",
    "        \"Apixaban\",\n",
    "        \"Eliquis\",\n",
    "        \"Betrixaban\",\n",
    "        \"Bevyxxa\",\n",
    "        \"Dabigatran\",\n",
    "        \"Pradaxa\",\n",
    "        \"Pradax\",\n",
    "        \"Prazaxa\",\n",
    "        \"Edoxaban\",\n",
    "        \"Savaysa\",\n",
    "        \"Lixiana\",\n",
    "        \"Roteas\",\n",
    "        \"Enoxaparin\",\n",
    "        \"Lovenox\",\n",
    "        \"Clexane\",\n",
    "        \"Xaparin\",\n",
    "        \"Fondaparinux\",\n",
    "        \"Arixtra\",\n",
    "        \"Heparin\",\n",
    "        \"Prothrombin\",\n",
    "        \"Kcentra\",\n",
    "        \"Rivaroxaban\",\n",
    "        \"Xarelto\",\n",
    "        \"Warfarin\",\n",
    "        \"Coumadin\",\n",
    "        \"Jantoven\"],\n",
    "}"
   ]
  },
  {
   "cell_type": "code",
   "execution_count": 15,
   "metadata": {},
   "outputs": [
    {
     "data": {
      "text/plain": [
       "0                                vitamin e product [ctsu]\n",
       "1                                     chondroitin product\n",
       "2       co-enzyme q10/ubiquinone/bio-quinone/coenzyme q10\n",
       "3                   indigestion remedy (over the counter)\n",
       "4                             omega-3/fish oil supplement\n",
       "                              ...                        \n",
       "6740                                        cyclosporin a\n",
       "6741                                       phenobarbitone\n",
       "6742                                            phenytoin\n",
       "6743                                          paracetamol\n",
       "6744                                  aluminium hydroxide\n",
       "Name: meaning, Length: 6745, dtype: object"
      ]
     },
     "execution_count": 15,
     "metadata": {},
     "output_type": "execute_result"
    }
   ],
   "source": [
    "med_coding.meaning.str.lower()"
   ]
  },
  {
   "cell_type": "code",
   "execution_count": 16,
   "metadata": {},
   "outputs": [
    {
     "name": "stdout",
     "output_type": "stream",
     "text": [
      "Clopidogrel : ['clopidogrel']\n",
      "Plavix : ['plavix 75mg tablet']\n",
      "Ticlopidine : ['ticlopidine']\n",
      "Ticlid : ['ticlid 250mg tablet']\n",
      "Cilostazol : ['cilostazol']\n",
      "Pletal : ['pletal 100mg tablet']\n",
      "Dipyridamole : ['dipyridamole', 'dipyridamole+aspirin']\n",
      "Enoxaparin : ['enoxaparin']\n",
      "Clexane : ['clexane 20mg/0.2ml prefilled syringe']\n",
      "Xaparin : ['enoxaparin']\n",
      "Heparin : ['subcutaneous heparin', 'heparinoid+salicylic acid 0.2%/2% cream', 'heparinoid+salicylic acid 0.2%/2% gel', 'heparin']\n",
      "Warfarin : ['warfarin', 'sodium warfarin']\n"
     ]
    }
   ],
   "source": [
    "drug_codes = {}\n",
    "for drug_type, drugs in all_drugs.items():\n",
    "    for drug in drugs:\n",
    "        if med_coding.meaning.str.lower().str.contains(drug.lower()).sum() > 0:\n",
    "            drug_codes[drug] = med_coding.loc[med_coding.meaning.str.lower().str.contains(drug.lower()),\"coding\"].tolist()\n",
    "            print(\"%s : %s\" % (drug, med_coding.loc[med_coding.meaning.str.lower().str.contains(drug.lower()),\"meaning\"].tolist()))"
   ]
  },
  {
   "cell_type": "code",
   "execution_count": 17,
   "metadata": {},
   "outputs": [
    {
     "data": {
      "text/plain": [
       "{'Clopidogrel': [1141168318],\n",
       " 'Plavix': [1141168322],\n",
       " 'Ticlopidine': [1141163324],\n",
       " 'Ticlid': [1141163328],\n",
       " 'Cilostazol': [1141181150],\n",
       " 'Pletal': [1141181154],\n",
       " 'Dipyridamole': [1140861778, 1141167844],\n",
       " 'Enoxaparin': [1140861588],\n",
       " 'Clexane': [1140861594],\n",
       " 'Xaparin': [1140861588],\n",
       " 'Heparin': [1140864956, 1140877958, 1140877960, 1140881842],\n",
       " 'Warfarin': [1140888266, 1140910832]}"
      ]
     },
     "execution_count": 17,
     "metadata": {},
     "output_type": "execute_result"
    }
   ],
   "source": [
    "drug_codes"
   ]
  },
  {
   "cell_type": "code",
   "execution_count": 18,
   "metadata": {},
   "outputs": [],
   "source": [
    "# Read full table\n",
    "ukbb_ = pd.read_csv(ukbb_path,sep=\",\",usecols=cols, low_memory=True, \n",
    "                    dtype=str_cols,\n",
    "                    parse_dates=ICD10_sec_date + [BIRTH_FIELD,DEATH_FIELD] + ICD10_prim_dates_filtered);\n",
    "ukbb_.set_index(ID_FIELD,inplace=True)"
   ]
  },
  {
   "cell_type": "code",
   "execution_count": 19,
   "metadata": {},
   "outputs": [
    {
     "name": "stdout",
     "output_type": "stream",
     "text": [
      "384059 people kept over 502493\n"
     ]
    }
   ],
   "source": [
    "rel = pd.read_csv(\"/home/hv270/rds/rds-wja24-uk-biobank-gen/rel/ukb13745_rel_s488339.dat\",sep=\" \")\n",
    "related_people = rel.loc[rel.Kinship < 0.0612].ID2.unique().tolist()\n",
    "\n",
    "european_individuals = pd.read_csv(\"/rds/project/wja24/rds-wja24-uk-biobank-gen/13745_specific/blood_trait_gwas_2020_contributing_ids.tsv\",header=None)\n",
    "european_individuals = european_individuals.rename(columns={0:\"FID\"})\n",
    "EUR_IDs = european_individuals.FID.tolist()\n",
    "\n",
    "to_keep = ukbb_.index.isin(EUR_IDs) & ~ukbb_.index.isin(related_people)\n",
    "print(\"%d people kept over %d\" %(to_keep.sum(),ukbb_.shape[0]))\n",
    "\n",
    "UKB = ukbb_.loc[to_keep]\n",
    "UKB = UKB.loc[~UKB[BIRTH_FIELD].isnull()]\n",
    "UKB = UKB.loc[~UKB[SEX_FIELD].isnull()]"
   ]
  },
  {
   "cell_type": "code",
   "execution_count": 20,
   "metadata": {},
   "outputs": [
    {
     "name": "stdout",
     "output_type": "stream",
     "text": [
      "Clopidogrel : 2416\n",
      "Plavix : 179\n",
      "Ticlopidine : 1\n",
      "Ticlid : 0\n",
      "Cilostazol : 28\n",
      "Pletal : 5\n",
      "Dipyridamole : 702\n",
      "Enoxaparin : 12\n",
      "Clexane : 18\n",
      "Xaparin : 12\n",
      "Heparin : 25\n",
      "Warfarin : 4023\n"
     ]
    }
   ],
   "source": [
    "UKB[\"drug_codes\"] = UKB[MEDICATION_FIELDS].astype(str).agg(\",\".join,axis=1)\n",
    "for drug, codes in drug_codes.items():\n",
    "    UKB[drug] = False\n",
    "    for code in codes:\n",
    "        UKB[drug] = UKB[drug] | UKB[\"drug_codes\"].str.contains(str(code))\n",
    "    print(\"%s : %d\" % (drug, UKB[drug].sum()))\n",
    "    if UKB[drug].sum() == 0:\n",
    "        del UKB[drug]"
   ]
  },
  {
   "cell_type": "code",
   "execution_count": 21,
   "metadata": {},
   "outputs": [
    {
     "name": "stdout",
     "output_type": "stream",
     "text": [
      "antiplatelets : 3303\n",
      "anticoagulants : 4074\n"
     ]
    }
   ],
   "source": [
    "for drug_type, drugs in all_drugs.items():\n",
    "    col_name = \"field_20003_%s\" % drug_type\n",
    "    UKB[col_name] = False\n",
    "    for d in drugs:\n",
    "        if d in UKB.columns:\n",
    "            UKB[col_name] = UKB[col_name] | UKB[d]\n",
    "    print(\"%s : %d\" % (drug_type,UKB[col_name].sum()))"
   ]
  },
  {
   "cell_type": "code",
   "execution_count": 22,
   "metadata": {},
   "outputs": [],
   "source": [
    "drugs_ET_1 = pd.read_csv(\"/rds/project/who1000-1/rds-who1000-cbrc/user/et341/tmp/prescription-data1.txt\",sep=\"\\t\",header=None)\n",
    "drugs_ET_2 = pd.read_csv(\"/rds/project/who1000-1/rds-who1000-cbrc/user/et341/tmp/prescription-data2.txt\",sep=\"\\t\",header=None)\n",
    "drugs_ET = pd.concat([drugs_ET_1,drugs_ET_2]).rename(columns={0:\"ID\",1:\"date\",2:\"drug\"})\n",
    "drugs_ET[\"date\"] = pd.to_datetime(drugs_ET[\"date\"],dayfirst=True)\n",
    "valid_date = drugs_ET.date < pd.to_datetime(\"2019-01-01\")\n",
    "drugs_ET = drugs_ET.loc[valid_date]\n",
    "drugs_ET = drugs_ET.pivot_table(values=\"date\",columns=\"drug\",index=\"ID\",aggfunc=\"min\")"
   ]
  },
  {
   "cell_type": "code",
   "execution_count": 23,
   "metadata": {},
   "outputs": [
    {
     "data": {
      "text/plain": [
       "Index(['Dipyridamole & Aspirin 200 mg + 25 mg modified release capsu',\n",
       "       'Dipyridamole  Tablets  25 mg', 'Dipyridamole  M/R Capsules  200 mg',\n",
       "       'Dabigatran Etexilate  Capsules  75 mg',\n",
       "       'DIPYRIDAMOLE modified release capsule 200mg',\n",
       "       'DIPYRIDAMOLE RETARD TABLETS 200MG', 'DIPYRIDAMOLE RETARD 200MG CAPS',\n",
       "       'DABIGATRAN ETEXILATE 75mg capsules', 'Clopidogrel Tablets 75 mg',\n",
       "       'Clopidogrel TABS 300MG', 'Clopidogrel 75mg/5ml oral suspension',\n",
       "       'Clopidogrel 75mg/5ml oral solution',\n",
       "       'Clopidogrel 75mg tablets (Dexcel-Pharma Ltd)',\n",
       "       'Clopidogrel 75mg tablets (Aspire Pharma Ltd)',\n",
       "       'Clopidogrel  Tablets  300 mg', 'CLOPIDOGREL FC tab 300mg',\n",
       "       'CLOPIDOGREL 75MG TABS', 'CLOPIDOGREL 75MG TABLET', 'WARFARIN',\n",
       "       'WARFARIN 1MG', 'WARFARIN 3MG TABLETS', 'WARFARIN 3mg tablets',\n",
       "       'Warfarin 3mg Tablet (WB Pharmaceuticals Ltd)',\n",
       "       'Warfarin 1mg/ml oral suspension sugar free',\n",
       "       'Warfarin 1mg tablets (Sandoz Ltd)',\n",
       "       'Warfarin 1mg tablets (IVAX Pharmaceuticals UK Ltd)',\n",
       "       'Warfarin 1mg tablets (Arrow Generics Ltd)',\n",
       "       'Warfarin 1mg tablets (A A H Pharmaceuticals Ltd)',\n",
       "       'Warfarin 1mg Tablet (WB Pharmaceuticals Ltd)',\n",
       "       'WARFARIN tabs 500 micrograms [HILLCROSS]', 'WARFARIN tabs 3mg [WB]',\n",
       "       'WARFARIN tabs 3mg [IVAX]', 'WARFARIN tabs 1mg [IVAX]',\n",
       "       'WARFARIN tablets 1mg [AMCO]', 'Warfarin 3mg tablets (Sandoz Ltd)',\n",
       "       'WARFARIN WBP TABLETS 3 MG', 'WARFARIN WBP 5mg tabs',\n",
       "       'WARFARIN WBP 1mg tabs', 'WARFARIN TAB 5', 'WARFARIN SODIUM tabs 3 mg',\n",
       "       'WARFARIN SODIUM oral liq 3mg/5ml', 'WARFARIN SODIUM Tabs',\n",
       "       'WARFARIN SODIUM TABLETS 500MICROGRAMS', 'warfarin sodium tablets 5 mg',\n",
       "       'WARFARIN SODIUM 3MG TAB', 'WARFARIN SODIUM 1MG',\n",
       "       'WARFARIN 5mg tablets', 'WARFARIN 5MG', 'WARFARIN WBP TABLETS 1 MG',\n",
       "       'warfarin sodium tablets 500 micrograms'],\n",
       "      dtype='object', name='drug')"
      ]
     },
     "execution_count": 23,
     "metadata": {},
     "output_type": "execute_result"
    }
   ],
   "source": [
    "drugs_ET.isnull().sum(axis=0).sort_values(ascending=True).index[-50:]"
   ]
  },
  {
   "cell_type": "code",
   "execution_count": 24,
   "metadata": {},
   "outputs": [
    {
     "data": {
      "text/plain": [
       "(22822, 228)"
      ]
     },
     "execution_count": 24,
     "metadata": {},
     "output_type": "execute_result"
    }
   ],
   "source": [
    "drugs_ET.shape"
   ]
  },
  {
   "cell_type": "code",
   "execution_count": 25,
   "metadata": {},
   "outputs": [
    {
     "data": {
      "text/plain": [
       "43391"
      ]
     },
     "execution_count": 25,
     "metadata": {},
     "output_type": "execute_result"
    }
   ],
   "source": [
    "(~drugs_ET.isnull()).sum().sum()"
   ]
  },
  {
   "cell_type": "code",
   "execution_count": 26,
   "metadata": {},
   "outputs": [],
   "source": [
    "drugs_ET[\"Warfarin (any)\"] =  drugs_ET[[c for c in drugs_ET.columns if \"warfa\" in c.lower()]].min(axis=1)\n",
    "drugs_ET[\"Apixaban (any)\"] =  drugs_ET[[c for c in drugs_ET.columns if \"apixa\" in c.lower()]].min(axis=1)\n",
    "drugs_ET[\"Clopidogrel (any)\"] =  drugs_ET[[c for c in drugs_ET.columns if \"clopidogrel\" in c.lower()]].min(axis=1)\n",
    "drugs_ET[\"Rivaroxaban (any)\"] =  drugs_ET[[c for c in drugs_ET.columns if \"rivaro\" in c.lower()]].min(axis=1)\n",
    "drugs_ET[\"Dipyridamole (any)\"] =  drugs_ET[[c for c in drugs_ET.columns if \"ipyridamole\" in c.lower()]].min(axis=1)\n",
    "drugs_ET[\"Ticagrelor (any)\"] =  drugs_ET[[c for c in drugs_ET.columns if \"icagrelor\" in c.lower()]].min(axis=1)\n",
    "drugs_ET[\"Prasugrel (any)\"] =  drugs_ET[[c for c in drugs_ET.columns if \"asugrel\" in c.lower()]].min(axis=1)\n",
    "drugs_ET[\"Dabigatran (any)\"] =  drugs_ET[[c for c in drugs_ET.columns if \"dabigatran\" in c.lower()]].min(axis=1)\n",
    "drugs_ET[\"All drugs (any)\"] =  drugs_ET.min(axis=1)"
   ]
  },
  {
   "cell_type": "code",
   "execution_count": 27,
   "metadata": {},
   "outputs": [
    {
     "name": "stdout",
     "output_type": "stream",
     "text": [
      "Warfarin (any) 9279\n",
      "Apixaban (any) 1247\n",
      "Clopidogrel (any) 11542\n",
      "Rivaroxaban (any) 1786\n",
      "Dipyridamole (any) 1742\n",
      "Ticagrelor (any) 767\n",
      "Prasugrel (any) 297\n",
      "Dabigatran (any) 291\n",
      "All drugs (any) 22822\n"
     ]
    }
   ],
   "source": [
    "for c in drugs_ET.columns:\n",
    "    if \"(any)\" in c:\n",
    "        print(c, (~drugs_ET[c].isnull()).sum())"
   ]
  },
  {
   "cell_type": "code",
   "execution_count": 28,
   "metadata": {},
   "outputs": [],
   "source": [
    "drugs_mapping = {}\n",
    "#drugs_mapping_inv = {}\n",
    "for i, c in enumerate(drugs_ET.columns):\n",
    "    drugs_mapping[c] = \"DRUG_%d\" % i\n",
    "#    drugs_mapping_inv[i] = c"
   ]
  },
  {
   "cell_type": "code",
   "execution_count": 29,
   "metadata": {},
   "outputs": [],
   "source": [
    "drug_columns = pd.DataFrame.from_dict(drugs_mapping,orient=\"index\").reset_index().rename(columns={\"index\":\"drug\",0:\"drug_ID\"})"
   ]
  },
  {
   "cell_type": "code",
   "execution_count": 30,
   "metadata": {},
   "outputs": [
    {
     "data": {
      "text/html": [
       "<div>\n",
       "<style scoped>\n",
       "    .dataframe tbody tr th:only-of-type {\n",
       "        vertical-align: middle;\n",
       "    }\n",
       "\n",
       "    .dataframe tbody tr th {\n",
       "        vertical-align: top;\n",
       "    }\n",
       "\n",
       "    .dataframe thead th {\n",
       "        text-align: right;\n",
       "    }\n",
       "</style>\n",
       "<table border=\"1\" class=\"dataframe\">\n",
       "  <thead>\n",
       "    <tr style=\"text-align: right;\">\n",
       "      <th></th>\n",
       "      <th>drug</th>\n",
       "      <th>drug_ID</th>\n",
       "    </tr>\n",
       "  </thead>\n",
       "  <tbody>\n",
       "    <tr>\n",
       "      <th>232</th>\n",
       "      <td>Dipyridamole (any)</td>\n",
       "      <td>DRUG_232</td>\n",
       "    </tr>\n",
       "    <tr>\n",
       "      <th>233</th>\n",
       "      <td>Ticagrelor (any)</td>\n",
       "      <td>DRUG_233</td>\n",
       "    </tr>\n",
       "    <tr>\n",
       "      <th>234</th>\n",
       "      <td>Prasugrel (any)</td>\n",
       "      <td>DRUG_234</td>\n",
       "    </tr>\n",
       "    <tr>\n",
       "      <th>235</th>\n",
       "      <td>Dabigatran (any)</td>\n",
       "      <td>DRUG_235</td>\n",
       "    </tr>\n",
       "    <tr>\n",
       "      <th>236</th>\n",
       "      <td>All drugs (any)</td>\n",
       "      <td>DRUG_236</td>\n",
       "    </tr>\n",
       "  </tbody>\n",
       "</table>\n",
       "</div>"
      ],
      "text/plain": [
       "                   drug   drug_ID\n",
       "232  Dipyridamole (any)  DRUG_232\n",
       "233    Ticagrelor (any)  DRUG_233\n",
       "234     Prasugrel (any)  DRUG_234\n",
       "235    Dabigatran (any)  DRUG_235\n",
       "236     All drugs (any)  DRUG_236"
      ]
     },
     "execution_count": 30,
     "metadata": {},
     "output_type": "execute_result"
    }
   ],
   "source": [
    "drug_columns.tail()"
   ]
  },
  {
   "cell_type": "code",
   "execution_count": 31,
   "metadata": {},
   "outputs": [],
   "source": [
    "drug_columns.to_csv(\"%s/drug_columns.hdf\" % export_folder)"
   ]
  },
  {
   "cell_type": "code",
   "execution_count": 32,
   "metadata": {},
   "outputs": [],
   "source": [
    "cols = list(UKB.columns)\n",
    "for c in cols:\n",
    "    if \"DRUG\" in c:\n",
    "        del UKB[c]"
   ]
  },
  {
   "cell_type": "code",
   "execution_count": 33,
   "metadata": {},
   "outputs": [],
   "source": [
    "UKB = pd.merge(UKB,drugs_ET.rename(columns=drugs_mapping),left_index=True,right_index=True,how=\"left\")"
   ]
  },
  {
   "cell_type": "code",
   "execution_count": null,
   "metadata": {},
   "outputs": [],
   "source": []
  },
  {
   "cell_type": "code",
   "execution_count": 34,
   "metadata": {},
   "outputs": [
    {
     "name": "stderr",
     "output_type": "stream",
     "text": [
      "/home/hv270/.local/lib/python3.7/site-packages/pandas/core/generic.py:2620: PerformanceWarning: \n",
      "your performance may suffer as PyTables will pickle object types that it cannot\n",
      "map directly to c-types [inferred_type->mixed,key->block3_values] [items->Index(['40007-0.0', '41270-0.0', '41270-0.1', '41270-0.2', '41270-0.3',\n",
      "       '41270-0.4', '41270-0.5', '41270-0.6', '41270-0.7', '41270-0.8',\n",
      "       ...\n",
      "       '41270-0.204', '41270-0.205', '41270-0.206', '41270-0.207',\n",
      "       '41270-0.208', '41270-0.209', '41270-0.210', '41270-0.211',\n",
      "       '41270-0.212', 'drug_codes'],\n",
      "      dtype='object', length=215)]\n",
      "\n",
      "  encoding=encoding,\n"
     ]
    }
   ],
   "source": [
    "UKB[\"AGE\"] = (pd.to_datetime(\"01-01-2019\") - UKB[BIRTH_FIELD]).dt.days // 365\n",
    "is_dead = ~UKB[DEATH_FIELD].isnull()\n",
    "UKB.loc[is_dead,\"AGE\"] = UKB.loc[is_dead,DEATH_FIELD].astype(float)\n",
    "UKB.to_hdf(\"%s/UKB.hdf\" % export_folder,key=\"UKB\")"
   ]
  },
  {
   "cell_type": "code",
   "execution_count": null,
   "metadata": {},
   "outputs": [],
   "source": []
  }
 ],
 "metadata": {
  "kernelspec": {
   "display_name": "Python 3",
   "language": "python",
   "name": "python3"
  },
  "language_info": {
   "codemirror_mode": {
    "name": "ipython",
    "version": 3
   },
   "file_extension": ".py",
   "mimetype": "text/x-python",
   "name": "python",
   "nbconvert_exporter": "python",
   "pygments_lexer": "ipython3",
   "version": "3.7.3"
  },
  "toc": {
   "base_numbering": 1,
   "nav_menu": {},
   "number_sections": true,
   "sideBar": true,
   "skip_h1_title": false,
   "title_cell": "Table of Contents",
   "title_sidebar": "Contents",
   "toc_cell": false,
   "toc_position": {},
   "toc_section_display": true,
   "toc_window_display": false
  }
 },
 "nbformat": 4,
 "nbformat_minor": 2
}
