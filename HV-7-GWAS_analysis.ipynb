{
 "cells": [
  {
   "cell_type": "code",
   "execution_count": 1,
   "metadata": {},
   "outputs": [],
   "source": [
    "import pandas as pd\n",
    "%matplotlib inline\n",
    "import matplotlib.pyplot as plt\n",
    "import subprocess\n",
    "export_folder = \"/home/hv270/rds/rds-who1000-cbrc/user/wja24/shared/hippolyte_only/interval_processing\"\n",
    "from scipy.stats import ttest_ind\n",
    "import numpy as np\n",
    "from sklearn.cluster import AgglomerativeClustering\n",
    "from sklearn.linear_model import LinearRegression\n",
    "from lifelines.statistics import logrank_test\n",
    "from tqdm import tqdm\n",
    "from sklearn.cluster import AgglomerativeClustering\n",
    "from glob import glob\n",
    "from scipy import stats\n",
    "from scipy.stats import pearsonr, levene\n",
    "import os"
   ]
  },
  {
   "cell_type": "code",
   "execution_count": null,
   "metadata": {},
   "outputs": [],
   "source": [
    "pheno_cols = [\"ADP\"]\n",
    "EUR_path_interval = \"%s/genetic_score/EUR_interval\" % export_folder\n",
    "EUR_path = \"%s/genetic_score/EUR\" % export_folder\n",
    "tag = \"29_sept\""
   ]
  },
  {
   "cell_type": "markdown",
   "metadata": {},
   "source": [
    "# Manhattan plot"
   ]
  },
  {
   "cell_type": "code",
   "execution_count": null,
   "metadata": {},
   "outputs": [],
   "source": [
    "gws = []\n",
    "#for c in tqdm(pheno_cols):\n",
    "for c in tqdm(pheno_cols):\n",
    "    gw = pd.read_csv(\"%s/%s/bolt_res_feb_%s\" % (export_folder,tag,c),sep=\"\\t\")\n",
    "    gw[\"pheno\"] = c\n",
    "    gw.P_BOLT_LMM = gw.P_BOLT_LMM.astype(float)\n",
    "    gws.append(gw)\n",
    "gw = pd.concat(gws,axis=0,copy=False)\n",
    "gw.rename(columns={\"P_BOLT_LMM\":\"P\"},inplace=True)"
   ]
  },
  {
   "cell_type": "code",
   "execution_count": null,
   "metadata": {},
   "outputs": [],
   "source": [
    "gw[\"POS\"] = gw[\"BP\"]\n",
    "for ch in range(1,23):\n",
    "    gw.loc[gw.CHR > ch,\"POS\"] += gw.loc[gw.CHR == ch,\"BP\"].max()\n",
    "gw_ = gw.loc[gw.P < 1e-3]"
   ]
  },
  {
   "cell_type": "code",
   "execution_count": null,
   "metadata": {},
   "outputs": [],
   "source": [
    "UKBB_SNPS = []\n",
    "for chrom in tqdm(range(1,23)):\n",
    "    with open(\"%s/UKBB_SNPS_CHR%d.snplist\" % (export_folder, chrom)) as f:\n",
    "        UKBB_SNPS += [c[:-1] for c in f.readlines()]\n",
    "\n",
    "print(len(UKBB_SNPS))\n",
    "print(UKBB_SNPS[:10])\n",
    "\n",
    "gw_[\"IN_UKBB\"] = gw_.SNP.isin(UKBB_SNPS)\n",
    "print(gw_[\"IN_UKBB\"].mean())"
   ]
  },
  {
   "cell_type": "markdown",
   "metadata": {},
   "source": [
    "# Select significant SNPs"
   ]
  },
  {
   "cell_type": "markdown",
   "metadata": {},
   "source": [
    "## Prepare"
   ]
  },
  {
   "cell_type": "code",
   "execution_count": null,
   "metadata": {},
   "outputs": [],
   "source": [
    "cov = pd.read_csv(\"%s/%s/covars.csv\" % (export_folder, tag), sep=\"\\t\")\n",
    "phenotypes = pd.read_csv(\"%s/%s/phenotypes.csv\" % (export_folder, tag), sep=\"\\t\")\n",
    "\n",
    "phenotypes[\"ID\"] = phenotypes[\"FID\"].astype(str) + \"_\" + phenotypes[\"IID\"].astype(str)\n",
    "phenotypes = phenotypes.set_index(\"ID\")[pheno_cols]\n",
    "\n",
    "cov[\"ID\"] = cov[\"FID\"].astype(str) + \"_\" + cov[\"IID\"].astype(str)\n",
    "covar_cols = [\"PC1\",\"PC2\",\"PC3\",\"PC4\",\"PC5\",\"PC6\",\"PC7\",\"PC8\",\"PC9\",\"PC10\",\"PLT\",\"MPV\",\"IPF\",\"PCT\",\"PDW\",\"SEX\",\"age_covar\",\"cohort_covar\"]\n",
    "cov = cov.set_index(\"ID\")[covar_cols]\n",
    "\n",
    "X = pd.merge(cov,phenotypes,left_index=True,right_index=True)"
   ]
  },
  {
   "cell_type": "markdown",
   "metadata": {},
   "source": [
    "## Utils"
   ]
  },
  {
   "cell_type": "code",
   "execution_count": 8,
   "metadata": {},
   "outputs": [],
   "source": [
    "def get_p_value(source,target):\n",
    "    lm = LinearRegression().fit(source,target)\n",
    "    return pearsonr(target,lm.predict(source))[1]"
   ]
  },
  {
   "cell_type": "code",
   "execution_count": 9,
   "metadata": {},
   "outputs": [],
   "source": [
    "def compare_p_values(X,model,augmented_model,Y):\n",
    "    lm1 = LinearRegression().fit(X[model],Y)\n",
    "    lm2 = LinearRegression().fit(X[augmented_model],Y)\n",
    "    \n",
    "    fit_1 = lm1.predict(X[model])\n",
    "    fit_2 = lm2.predict(X[augmented_model])\n",
    "    \n",
    "    #residuals_1 = Y-fit_1\n",
    "    #residuals_2 = Y-fit_2\n",
    "    \n",
    "    #p_val = levene(residuals_1,residuals_2,center=\"mean\")[1]\n",
    "    p_val = levene(fit_1,fit_2,center=\"mean\")[1]\n",
    "    \n",
    "    return p_val"
   ]
  },
  {
   "cell_type": "markdown",
   "metadata": {},
   "source": [
    "## Run"
   ]
  },
  {
   "cell_type": "code",
   "execution_count": 10,
   "metadata": {},
   "outputs": [
    {
     "name": "stdout",
     "output_type": "stream",
     "text": [
      "Starting causal SNPs extraction\n",
      "ADP\n",
      "Region 0\n",
      "Done exporting genotypes\n"
     ]
    },
    {
     "name": "stderr",
     "output_type": "stream",
     "text": [
      "/home/hv270/platelets/lib/python3.7/site-packages/ipykernel_launcher.py:54: SettingWithCopyWarning: \n",
      "A value is trying to be set on a copy of a slice from a DataFrame.\n",
      "Try using .loc[row_indexer,col_indexer] = value instead\n",
      "\n",
      "See the caveats in the documentation: https://pandas.pydata.org/pandas-docs/stable/user_guide/indexing.html#returning-a-view-versus-a-copy\n"
     ]
    },
    {
     "name": "stdout",
     "output_type": "stream",
     "text": [
      "Done causal variant extraction. Kept 2 out of 139\n",
      "Hit : \n",
      "         CHR         BP         SNP             P\n",
      "3213367    5  131600187  rs13357280  2.700000e-14\n",
      "3213455    5  131625420   rs2087097  3.000000e-09\n",
      "Region 1\n",
      "Done exporting genotypes\n"
     ]
    },
    {
     "name": "stderr",
     "output_type": "stream",
     "text": [
      "/home/hv270/platelets/lib/python3.7/site-packages/ipykernel_launcher.py:54: SettingWithCopyWarning: \n",
      "A value is trying to be set on a copy of a slice from a DataFrame.\n",
      "Try using .loc[row_indexer,col_indexer] = value instead\n",
      "\n",
      "See the caveats in the documentation: https://pandas.pydata.org/pandas-docs/stable/user_guide/indexing.html#returning-a-view-versus-a-copy\n"
     ]
    },
    {
     "name": "stdout",
     "output_type": "stream",
     "text": [
      "Done causal variant extraction. Kept 3 out of 410\n",
      "Hit : \n",
      "        CHR         BP         SNP             P\n",
      "697374    1  247719769  rs56043070  5.100000e-26\n",
      "698803    1  248010949  rs60726644  1.500000e-12\n",
      "698958    1  248039294   rs1339847  5.400000e-60\n",
      "Region 2\n",
      "Done exporting genotypes\n"
     ]
    },
    {
     "name": "stderr",
     "output_type": "stream",
     "text": [
      "/home/hv270/platelets/lib/python3.7/site-packages/ipykernel_launcher.py:54: SettingWithCopyWarning: \n",
      "A value is trying to be set on a copy of a slice from a DataFrame.\n",
      "Try using .loc[row_indexer,col_indexer] = value instead\n",
      "\n",
      "See the caveats in the documentation: https://pandas.pydata.org/pandas-docs/stable/user_guide/indexing.html#returning-a-view-versus-a-copy\n"
     ]
    },
    {
     "name": "stdout",
     "output_type": "stream",
     "text": [
      "Done causal variant extraction. Kept 2 out of 219\n",
      "Hit : \n",
      "         CHR         BP         SNP             P\n",
      "6725362   12  122247114  rs77408535  5.700000e-20\n",
      "6725700   12  122365583   rs7961894  4.200000e-69\n",
      "Region 3\n",
      "Done exporting genotypes\n"
     ]
    },
    {
     "name": "stderr",
     "output_type": "stream",
     "text": [
      "/home/hv270/platelets/lib/python3.7/site-packages/ipykernel_launcher.py:54: SettingWithCopyWarning: \n",
      "A value is trying to be set on a copy of a slice from a DataFrame.\n",
      "Try using .loc[row_indexer,col_indexer] = value instead\n",
      "\n",
      "See the caveats in the documentation: https://pandas.pydata.org/pandas-docs/stable/user_guide/indexing.html#returning-a-view-versus-a-copy\n"
     ]
    },
    {
     "name": "stdout",
     "output_type": "stream",
     "text": [
      "Done causal variant extraction. Kept 1 out of 16\n",
      "Hit : \n",
      "         CHR         BP        SNP             P\n",
      "4897310    8  106583124  rs4734879  7.800000e-11\n",
      "Region 4\n",
      "Done exporting genotypes\n"
     ]
    },
    {
     "name": "stderr",
     "output_type": "stream",
     "text": [
      "/home/hv270/platelets/lib/python3.7/site-packages/ipykernel_launcher.py:54: SettingWithCopyWarning: \n",
      "A value is trying to be set on a copy of a slice from a DataFrame.\n",
      "Try using .loc[row_indexer,col_indexer] = value instead\n",
      "\n",
      "See the caveats in the documentation: https://pandas.pydata.org/pandas-docs/stable/user_guide/indexing.html#returning-a-view-versus-a-copy\n"
     ]
    },
    {
     "name": "stdout",
     "output_type": "stream",
     "text": [
      "Done causal variant extraction. Kept 1 out of 129\n",
      "Hit : \n",
      "         CHR         BP        SNP             P\n",
      "1081867    2  121053244  rs6739106  7.000000e-18\n",
      "Region 5\n",
      "Done exporting genotypes\n"
     ]
    },
    {
     "name": "stderr",
     "output_type": "stream",
     "text": [
      "/home/hv270/platelets/lib/python3.7/site-packages/ipykernel_launcher.py:54: SettingWithCopyWarning: \n",
      "A value is trying to be set on a copy of a slice from a DataFrame.\n",
      "Try using .loc[row_indexer,col_indexer] = value instead\n",
      "\n",
      "See the caveats in the documentation: https://pandas.pydata.org/pandas-docs/stable/user_guide/indexing.html#returning-a-view-versus-a-copy\n"
     ]
    },
    {
     "name": "stdout",
     "output_type": "stream",
     "text": [
      "Done causal variant extraction. Kept 2 out of 80\n",
      "Hit : \n",
      "         CHR        BP         SNP             P\n",
      "8027175   17  33864771   rs8082605  2.600000e-15\n",
      "8027822   17  34032877  rs74981786  7.200000e-09\n",
      "Region 6\n",
      "Done exporting genotypes\n"
     ]
    },
    {
     "name": "stderr",
     "output_type": "stream",
     "text": [
      "/home/hv270/platelets/lib/python3.7/site-packages/ipykernel_launcher.py:54: SettingWithCopyWarning: \n",
      "A value is trying to be set on a copy of a slice from a DataFrame.\n",
      "Try using .loc[row_indexer,col_indexer] = value instead\n",
      "\n",
      "See the caveats in the documentation: https://pandas.pydata.org/pandas-docs/stable/user_guide/indexing.html#returning-a-view-versus-a-copy\n"
     ]
    },
    {
     "name": "stdout",
     "output_type": "stream",
     "text": [
      "Done causal variant extraction. Kept 1 out of 159\n",
      "Hit : \n",
      "         CHR        BP         SNP             P\n",
      "5639710   10  65066186  rs10761741  1.500000e-14\n",
      "Region 7\n",
      "Done exporting genotypes\n"
     ]
    },
    {
     "name": "stderr",
     "output_type": "stream",
     "text": [
      "/home/hv270/platelets/lib/python3.7/site-packages/ipykernel_launcher.py:54: SettingWithCopyWarning: \n",
      "A value is trying to be set on a copy of a slice from a DataFrame.\n",
      "Try using .loc[row_indexer,col_indexer] = value instead\n",
      "\n",
      "See the caveats in the documentation: https://pandas.pydata.org/pandas-docs/stable/user_guide/indexing.html#returning-a-view-versus-a-copy\n"
     ]
    },
    {
     "name": "stdout",
     "output_type": "stream",
     "text": [
      "Done causal variant extraction. Kept 1 out of 274\n",
      "Hit : \n",
      "         CHR        BP       SNP    P\n",
      "8813355   20  57597971  rs415064  0.0\n",
      "Region 8\n",
      "Done exporting genotypes\n"
     ]
    },
    {
     "name": "stderr",
     "output_type": "stream",
     "text": [
      "/home/hv270/platelets/lib/python3.7/site-packages/ipykernel_launcher.py:54: SettingWithCopyWarning: \n",
      "A value is trying to be set on a copy of a slice from a DataFrame.\n",
      "Try using .loc[row_indexer,col_indexer] = value instead\n",
      "\n",
      "See the caveats in the documentation: https://pandas.pydata.org/pandas-docs/stable/user_guide/indexing.html#returning-a-view-versus-a-copy\n"
     ]
    },
    {
     "name": "stdout",
     "output_type": "stream",
     "text": [
      "Done causal variant extraction. Kept 1 out of 51\n",
      "Hit : \n",
      "         CHR         BP         SNP             P\n",
      "1402831    2  225751613  rs10164672  3.200000e-12\n",
      "Region 9\n",
      "Done exporting genotypes\n"
     ]
    },
    {
     "name": "stderr",
     "output_type": "stream",
     "text": [
      "/home/hv270/platelets/lib/python3.7/site-packages/ipykernel_launcher.py:54: SettingWithCopyWarning: \n",
      "A value is trying to be set on a copy of a slice from a DataFrame.\n",
      "Try using .loc[row_indexer,col_indexer] = value instead\n",
      "\n",
      "See the caveats in the documentation: https://pandas.pydata.org/pandas-docs/stable/user_guide/indexing.html#returning-a-view-versus-a-copy\n"
     ]
    },
    {
     "name": "stdout",
     "output_type": "stream",
     "text": [
      "Done causal variant extraction. Kept 1 out of 2\n",
      "Hit : \n",
      "        CHR         BP        SNP             P\n",
      "446367    1  171947018  rs2180748  2.400000e-09\n",
      "Region 10\n",
      "Done exporting genotypes\n"
     ]
    },
    {
     "name": "stderr",
     "output_type": "stream",
     "text": [
      "/home/hv270/platelets/lib/python3.7/site-packages/ipykernel_launcher.py:54: SettingWithCopyWarning: \n",
      "A value is trying to be set on a copy of a slice from a DataFrame.\n",
      "Try using .loc[row_indexer,col_indexer] = value instead\n",
      "\n",
      "See the caveats in the documentation: https://pandas.pydata.org/pandas-docs/stable/user_guide/indexing.html#returning-a-view-versus-a-copy\n"
     ]
    },
    {
     "name": "stdout",
     "output_type": "stream",
     "text": [
      "Done causal variant extraction. Kept 1 out of 16\n",
      "Hit : \n",
      "         CHR        BP         SNP             P\n",
      "5279289    9  99087217  rs58088508  1.100000e-13\n",
      "Region 11\n",
      "Done exporting genotypes\n"
     ]
    },
    {
     "name": "stderr",
     "output_type": "stream",
     "text": [
      "/home/hv270/platelets/lib/python3.7/site-packages/ipykernel_launcher.py:54: SettingWithCopyWarning: \n",
      "A value is trying to be set on a copy of a slice from a DataFrame.\n",
      "Try using .loc[row_indexer,col_indexer] = value instead\n",
      "\n",
      "See the caveats in the documentation: https://pandas.pydata.org/pandas-docs/stable/user_guide/indexing.html#returning-a-view-versus-a-copy\n"
     ]
    },
    {
     "name": "stdout",
     "output_type": "stream",
     "text": [
      "Done causal variant extraction. Kept 2 out of 10\n",
      "Hit : \n",
      "         CHR       BP         SNP             P\n",
      "5429660   10  3102695  rs12250755  3.400000e-11\n",
      "5429687   10  3106857   rs7923030  2.300000e-10\n",
      "Region 12\n",
      "Done exporting genotypes\n"
     ]
    },
    {
     "name": "stderr",
     "output_type": "stream",
     "text": [
      "/home/hv270/platelets/lib/python3.7/site-packages/ipykernel_launcher.py:54: SettingWithCopyWarning: \n",
      "A value is trying to be set on a copy of a slice from a DataFrame.\n",
      "Try using .loc[row_indexer,col_indexer] = value instead\n",
      "\n",
      "See the caveats in the documentation: https://pandas.pydata.org/pandas-docs/stable/user_guide/indexing.html#returning-a-view-versus-a-copy\n"
     ]
    },
    {
     "name": "stdout",
     "output_type": "stream",
     "text": [
      "Done causal variant extraction. Kept 1 out of 3\n",
      "Hit : \n",
      "         CHR         BP         SNP             P\n",
      "1384524    2  220096122  rs79013471  1.800000e-09\n",
      "Region 13\n",
      "Done exporting genotypes\n"
     ]
    },
    {
     "name": "stderr",
     "output_type": "stream",
     "text": [
      "/home/hv270/platelets/lib/python3.7/site-packages/ipykernel_launcher.py:54: SettingWithCopyWarning: \n",
      "A value is trying to be set on a copy of a slice from a DataFrame.\n",
      "Try using .loc[row_indexer,col_indexer] = value instead\n",
      "\n",
      "See the caveats in the documentation: https://pandas.pydata.org/pandas-docs/stable/user_guide/indexing.html#returning-a-view-versus-a-copy\n"
     ]
    },
    {
     "name": "stdout",
     "output_type": "stream",
     "text": [
      "Done causal variant extraction. Kept 1 out of 11\n",
      "Hit : \n",
      "        CHR         BP        SNP             P\n",
      "551345    1  205240145  rs1768584  7.800000e-10\n",
      "Region 14\n",
      "Done exporting genotypes\n"
     ]
    },
    {
     "name": "stderr",
     "output_type": "stream",
     "text": [
      "/home/hv270/platelets/lib/python3.7/site-packages/ipykernel_launcher.py:54: SettingWithCopyWarning: \n",
      "A value is trying to be set on a copy of a slice from a DataFrame.\n",
      "Try using .loc[row_indexer,col_indexer] = value instead\n",
      "\n",
      "See the caveats in the documentation: https://pandas.pydata.org/pandas-docs/stable/user_guide/indexing.html#returning-a-view-versus-a-copy\n"
     ]
    },
    {
     "name": "stdout",
     "output_type": "stream",
     "text": [
      "Done causal variant extraction. Kept 1 out of 120\n",
      "Hit : \n",
      "         CHR        BP        SNP             P\n",
      "8620574   19  55538980  rs1654425  4.000000e-24\n",
      "Region 15\n",
      "Done exporting genotypes\n"
     ]
    },
    {
     "name": "stderr",
     "output_type": "stream",
     "text": [
      "/home/hv270/platelets/lib/python3.7/site-packages/ipykernel_launcher.py:54: SettingWithCopyWarning: \n",
      "A value is trying to be set on a copy of a slice from a DataFrame.\n",
      "Try using .loc[row_indexer,col_indexer] = value instead\n",
      "\n",
      "See the caveats in the documentation: https://pandas.pydata.org/pandas-docs/stable/user_guide/indexing.html#returning-a-view-versus-a-copy\n"
     ]
    },
    {
     "name": "stdout",
     "output_type": "stream",
     "text": [
      "Done causal variant extraction. Kept 1 out of 28\n",
      "Hit : \n",
      "         CHR        BP         SNP             P\n",
      "3013603    5  72023874  rs34744010  1.400000e-09\n",
      "Region 16\n",
      "Done exporting genotypes\n"
     ]
    },
    {
     "name": "stderr",
     "output_type": "stream",
     "text": [
      "/home/hv270/platelets/lib/python3.7/site-packages/ipykernel_launcher.py:54: SettingWithCopyWarning: \n",
      "A value is trying to be set on a copy of a slice from a DataFrame.\n",
      "Try using .loc[row_indexer,col_indexer] = value instead\n",
      "\n",
      "See the caveats in the documentation: https://pandas.pydata.org/pandas-docs/stable/user_guide/indexing.html#returning-a-view-versus-a-copy\n"
     ]
    },
    {
     "name": "stdout",
     "output_type": "stream",
     "text": [
      "Done causal variant extraction. Kept 1 out of 42\n",
      "Hit : \n",
      "       CHR        BP         SNP             P\n",
      "33038    1  10271688  rs11121529  9.400000e-14\n",
      "Region 17\n",
      "Done exporting genotypes\n"
     ]
    },
    {
     "name": "stderr",
     "output_type": "stream",
     "text": [
      "/home/hv270/platelets/lib/python3.7/site-packages/ipykernel_launcher.py:54: SettingWithCopyWarning: \n",
      "A value is trying to be set on a copy of a slice from a DataFrame.\n",
      "Try using .loc[row_indexer,col_indexer] = value instead\n",
      "\n",
      "See the caveats in the documentation: https://pandas.pydata.org/pandas-docs/stable/user_guide/indexing.html#returning-a-view-versus-a-copy\n"
     ]
    },
    {
     "name": "stdout",
     "output_type": "stream",
     "text": [
      "Done causal variant extraction. Kept 2 out of 161\n",
      "Hit : \n",
      "         CHR        BP        SNP             P\n",
      "1657326    3  56809820  rs9880418  7.700000e-14\n",
      "1657453    3  56849749  rs1354034  1.200000e-90\n",
      "Region 18\n",
      "Done exporting genotypes\n"
     ]
    },
    {
     "name": "stderr",
     "output_type": "stream",
     "text": [
      "/home/hv270/platelets/lib/python3.7/site-packages/ipykernel_launcher.py:54: SettingWithCopyWarning: \n",
      "A value is trying to be set on a copy of a slice from a DataFrame.\n",
      "Try using .loc[row_indexer,col_indexer] = value instead\n",
      "\n",
      "See the caveats in the documentation: https://pandas.pydata.org/pandas-docs/stable/user_guide/indexing.html#returning-a-view-versus-a-copy\n"
     ]
    },
    {
     "name": "stdout",
     "output_type": "stream",
     "text": [
      "Done causal variant extraction. Kept 1 out of 7\n",
      "Hit : \n",
      "         CHR       BP        SNP             P\n",
      "7946018   17  3816961  rs7207182  4.100000e-09\n",
      "Region 19\n",
      "Done exporting genotypes\n"
     ]
    },
    {
     "name": "stderr",
     "output_type": "stream",
     "text": [
      "/home/hv270/platelets/lib/python3.7/site-packages/ipykernel_launcher.py:54: SettingWithCopyWarning: \n",
      "A value is trying to be set on a copy of a slice from a DataFrame.\n",
      "Try using .loc[row_indexer,col_indexer] = value instead\n",
      "\n",
      "See the caveats in the documentation: https://pandas.pydata.org/pandas-docs/stable/user_guide/indexing.html#returning-a-view-versus-a-copy\n"
     ]
    },
    {
     "name": "stdout",
     "output_type": "stream",
     "text": [
      "Done causal variant extraction. Kept 1 out of 1\n",
      "Hit : \n",
      "         CHR        BP         SNP             P\n",
      "7275955   14  70653758  rs61978213  6.000000e-13\n",
      "Region 20\n",
      "Done exporting genotypes\n"
     ]
    },
    {
     "name": "stderr",
     "output_type": "stream",
     "text": [
      "/home/hv270/platelets/lib/python3.7/site-packages/ipykernel_launcher.py:54: SettingWithCopyWarning: \n",
      "A value is trying to be set on a copy of a slice from a DataFrame.\n",
      "Try using .loc[row_indexer,col_indexer] = value instead\n",
      "\n",
      "See the caveats in the documentation: https://pandas.pydata.org/pandas-docs/stable/user_guide/indexing.html#returning-a-view-versus-a-copy\n"
     ]
    },
    {
     "name": "stdout",
     "output_type": "stream",
     "text": [
      "Done causal variant extraction. Kept 1 out of 1\n",
      "Hit : \n",
      "         CHR         BP         SNP             P\n",
      "5329368    9  113312231  rs61751937  3.600000e-09\n",
      "Region 21\n",
      "Done exporting genotypes\n"
     ]
    },
    {
     "name": "stderr",
     "output_type": "stream",
     "text": [
      "/home/hv270/platelets/lib/python3.7/site-packages/ipykernel_launcher.py:54: SettingWithCopyWarning: \n",
      "A value is trying to be set on a copy of a slice from a DataFrame.\n",
      "Try using .loc[row_indexer,col_indexer] = value instead\n",
      "\n",
      "See the caveats in the documentation: https://pandas.pydata.org/pandas-docs/stable/user_guide/indexing.html#returning-a-view-versus-a-copy\n"
     ]
    },
    {
     "name": "stdout",
     "output_type": "stream",
     "text": [
      "Done causal variant extraction. Kept 1 out of 2\n",
      "Hit : \n",
      "         CHR      BP        SNP             P\n",
      "5029121    9  273178  rs3215853  2.900000e-10\n",
      "Region 22\n",
      "Done exporting genotypes\n"
     ]
    },
    {
     "name": "stderr",
     "output_type": "stream",
     "text": [
      "/home/hv270/platelets/lib/python3.7/site-packages/ipykernel_launcher.py:54: SettingWithCopyWarning: \n",
      "A value is trying to be set on a copy of a slice from a DataFrame.\n",
      "Try using .loc[row_indexer,col_indexer] = value instead\n",
      "\n",
      "See the caveats in the documentation: https://pandas.pydata.org/pandas-docs/stable/user_guide/indexing.html#returning-a-view-versus-a-copy\n"
     ]
    },
    {
     "name": "stdout",
     "output_type": "stream",
     "text": [
      "Done causal variant extraction. Kept 1 out of 2\n",
      "Hit : \n",
      "        CHR         BP         SNP             P\n",
      "392801    1  156869047  rs12566888  2.400000e-10\n",
      "Region 23\n",
      "Done exporting genotypes\n"
     ]
    },
    {
     "name": "stderr",
     "output_type": "stream",
     "text": [
      "/home/hv270/platelets/lib/python3.7/site-packages/ipykernel_launcher.py:54: SettingWithCopyWarning: \n",
      "A value is trying to be set on a copy of a slice from a DataFrame.\n",
      "Try using .loc[row_indexer,col_indexer] = value instead\n",
      "\n",
      "See the caveats in the documentation: https://pandas.pydata.org/pandas-docs/stable/user_guide/indexing.html#returning-a-view-versus-a-copy\n"
     ]
    },
    {
     "name": "stdout",
     "output_type": "stream",
     "text": [
      "Done causal variant extraction. Kept 3 out of 46\n",
      "Hit : \n",
      "         CHR        BP         SNP             P\n",
      "7888352   16  81870969  rs12445050  1.100000e-14\n",
      "7888386   16  81876238  rs62045701  5.500000e-12\n",
      "7888472   16  81886135   rs7188868  1.200000e-13\n",
      "Region 24\n",
      "Done exporting genotypes\n"
     ]
    },
    {
     "name": "stderr",
     "output_type": "stream",
     "text": [
      "/home/hv270/platelets/lib/python3.7/site-packages/ipykernel_launcher.py:54: SettingWithCopyWarning: \n",
      "A value is trying to be set on a copy of a slice from a DataFrame.\n",
      "Try using .loc[row_indexer,col_indexer] = value instead\n",
      "\n",
      "See the caveats in the documentation: https://pandas.pydata.org/pandas-docs/stable/user_guide/indexing.html#returning-a-view-versus-a-copy\n"
     ]
    },
    {
     "name": "stdout",
     "output_type": "stream",
     "text": [
      "Done causal variant extraction. Kept 2 out of 224\n",
      "Hit : \n",
      "         CHR        BP        SNP             P\n",
      "8010156   17  27699779  rs7216124  2.800000e-29\n",
      "8010583   17  27876561  rs2559619  7.200000e-20\n",
      "Region 25\n",
      "Done exporting genotypes\n"
     ]
    },
    {
     "name": "stderr",
     "output_type": "stream",
     "text": [
      "/home/hv270/platelets/lib/python3.7/site-packages/ipykernel_launcher.py:54: SettingWithCopyWarning: \n",
      "A value is trying to be set on a copy of a slice from a DataFrame.\n",
      "Try using .loc[row_indexer,col_indexer] = value instead\n",
      "\n",
      "See the caveats in the documentation: https://pandas.pydata.org/pandas-docs/stable/user_guide/indexing.html#returning-a-view-versus-a-copy\n"
     ]
    },
    {
     "name": "stdout",
     "output_type": "stream",
     "text": [
      "Done causal variant extraction. Kept 1 out of 73\n",
      "Hit : \n",
      "         CHR      BP        SNP             P\n",
      "5877013   11  201584  rs1976848  8.200000e-28\n"
     ]
    }
   ],
   "source": [
    "max_distance = 5e6 # from Dragana's\n",
    "significant_SNPs = {}\n",
    "P_threshold = 1e-8\n",
    "genotypes = {}\n",
    "for c in pheno_cols:\n",
    "    print(\"Starting causal SNPs extraction\")\n",
    "    print(c)\n",
    "    significant_SNPs[c] = []\n",
    "    d = gw_.loc[gw_.pheno == c]\n",
    "    hits = d.loc[(d.P < P_threshold) & (d.IN_UKBB)].copy()\n",
    "    hits[\"region\"] = AgglomerativeClustering(n_clusters=None,distance_threshold=max_distance,linkage=\"single\")\\\n",
    "                        .fit(np.reshape(hits.POS.values,(-1,1)))\\\n",
    "                        .labels_\n",
    "    for region, h in hits.groupby(\"region\"):\n",
    "        print(\"Region %d\" % region)\n",
    "        #if h.shape[0] == 1:\n",
    "        #    significant_SNPs[c].append(h[\"SNP\"].iloc[0])\n",
    "        #    continue\n",
    "        \n",
    "        # Write the list of SNPS to a file\n",
    "        SNP_list_file = \"%s/conditional_analysis/significant_snps_%s_%s.txt\" % (export_folder,c, tag)\n",
    "        with open(SNP_list_file,\"w\") as file:\n",
    "            for s in h.SNP.tolist():\n",
    "                file.write(\"%s\\n\" % s)\n",
    "        \n",
    "        # Extract the table\n",
    "        ch = int(h.CHR.iloc[0])\n",
    "        gen_path = \"%s/conditional_analysis/genotypes_region_%d_%s_CHR_%d\" % (export_folder, region, c, ch)\n",
    "        command = \"/home/hv270/plink\"\n",
    "        command += \" --bfile /home/hv270/rds/rds-who1000-cbrc/user/wja24/shared/hv270/interval_genotypes/chr_%d\" % ch\n",
    "        command += \" --extract %s\" % SNP_list_file\n",
    "        command += \" --keep %s\" % EUR_path_interval\n",
    "        command += \" --recode A-transpose --out %s\" % gen_path\n",
    "        p = subprocess.Popen(command,shell=True)\n",
    "        p.wait()\n",
    "        print(\"Done exporting genotypes\")\n",
    "        df = pd.read_csv(\"%s.traw\" % (gen_path),sep=\"\\t\")\n",
    "        df = df.set_index(\"SNP\")\n",
    "        ID_cols = [c for c in df.columns if c not in [\"CHR\",\"(C)M\",\"POS\",\"COUNTED\",\"ALT\"]]\n",
    "        df = df[ID_cols].T\n",
    "        var_cols = df.columns\n",
    "        \n",
    "        for var in var_cols:\n",
    "            df.loc[df[var].isnull(),var] = df.loc[~df[var].isnull(),var].mean()\n",
    "        \n",
    "        G_X = pd.merge(df,X.copy(),left_index=True,right_index=True)\n",
    "        \n",
    "        G = G_X[var_cols]\n",
    "        C = G_X[covar_cols]\n",
    "        Y = G_X[[c]]\n",
    "        \n",
    "        # Adjust phenotype by covariates\n",
    "        lm_covars = LinearRegression().fit(C,Y)\n",
    "        Y[c] = Y[c] - lm_covars.predict(C)[:,0]\n",
    "        \n",
    "        univariable_p_values = [pearsonr(G[snp],Y[c])[1] for snp in G.columns]\n",
    "        G = G[[G.columns[i] for i in np.argsort(univariable_p_values)]]\n",
    "        \n",
    "        model = [G.columns[0]]\n",
    "        vars_not_in_model = lambda : [v for v in G.columns if v not in model]\n",
    "        \n",
    "        while True and (len(vars_not_in_model()) > 0):\n",
    "            # Augment the model\n",
    "            addition_p_values = pd.Series(index=vars_not_in_model(),dtype=float)\n",
    "            for s in addition_p_values.index:\n",
    "                #print(\"Trying to add %s\" % s)\n",
    "                LD = False\n",
    "                for m in model:\n",
    "                    R_2 = pearsonr(G[m],G[s])[0]**2\n",
    "                    if R_2 >= 0.9:\n",
    "                        addition_p_values.loc[s] = 1.\n",
    "                        LD = True\n",
    "                if LD: continue\n",
    "                augmented_model = model + [s]\n",
    "                addition_p_values.loc[s] = compare_p_values(G,model,augmented_model,Y[c])\n",
    "            if addition_p_values.min() >= P_threshold:\n",
    "                #print(\"Nothing to add, keep %s\" % (model))\n",
    "                break\n",
    "            else:\n",
    "                #print(\"Adding %s\" % s)\n",
    "                model.append(addition_p_values.sort_values().index[0])\n",
    "            \n",
    "            # Reduce the model\n",
    "            reduce = True\n",
    "            while reduce:\n",
    "                reduce = False\n",
    "                removal_p_values = pd.Series(index=model,dtype=float)\n",
    "                for s in removal_p_values.index:\n",
    "                    #print(\"Trying to remove %s\" % s)\n",
    "                    reduced_model = [m for m in model if m != s]\n",
    "                    removal_p_values.loc[s] = compare_p_values(G,model,reduced_model,Y[c])\n",
    "                if removal_p_values.min() <= P_threshold:\n",
    "                    pass\n",
    "                    # Go to augment\n",
    "                else:\n",
    "                    to_remove = removal_p_values.sort_values().index[-1]\n",
    "                    print(\"Removing %s\" % to_remove)\n",
    "                    model = [m for m in model if m != to_remove]\n",
    "                    reduce = True if len(model) >= 2 else False\n",
    "                    # Go to reduce\n",
    "        \n",
    "        significant_SNPs[c] += model\n",
    "        \n",
    "        print(\"Done causal variant extraction. Kept %d out of %d\" % (len(model),len(var_cols)))\n",
    "        print(\"Hit : \")\n",
    "        print(h.loc[h.SNP.isin(model),[\"CHR\",\"BP\",\"SNP\",\"P\"]])\n",
    "        \n",
    "        genotypes[(c, region)] = G[model]\n",
    "    "
   ]
  },
  {
   "cell_type": "code",
   "execution_count": 12,
   "metadata": {},
   "outputs": [],
   "source": [
    "all_significant_SNPs = []\n",
    "for c in significant_SNPs:\n",
    "    all_significant_SNPs += significant_SNPs[c]\n",
    "all_significant_SNPs = list(set(all_significant_SNPs))\n",
    "recap = pd.DataFrame(index=all_significant_SNPs)\n",
    "for c in pheno_cols:\n",
    "    recap[\"causal_%s\" % c] = recap.index.isin(significant_SNPs[c])\n"
   ]
  },
  {
   "cell_type": "code",
   "execution_count": 13,
   "metadata": {},
   "outputs": [],
   "source": [
    "for c in pheno_cols:\n",
    "    recap = pd.merge(recap,\n",
    "                     gw.loc[gw.pheno == c,[\"SNP\",\"BETA\",\"P\"]].set_index(\"SNP\").rename(columns={\"BETA\":\"BETA_%s\" % c,\n",
    "                                                                                               \"P\":\"P_%s\" % c}),\n",
    "                     left_index=True,right_index=True)\n",
    "recap = pd.merge(recap,gw.loc[gw.pheno == pheno_cols[0],[\"SNP\",\"A1FREQ\",\"CHR\",\"BP\"]].set_index(\"SNP\"),left_index=True,right_index=True)"
   ]
  },
  {
   "cell_type": "markdown",
   "metadata": {},
   "source": [
    "## Export"
   ]
  },
  {
   "cell_type": "code",
   "execution_count": 14,
   "metadata": {},
   "outputs": [],
   "source": [
    "for c in pheno_cols:\n",
    "    path = \"%s/conditional_analysis/causal_SNPs_%s_%s.txt\" % (export_folder,tag,c)\n",
    "    with open(path,\"w\") as f:\n",
    "        for snp in significant_SNPs[c]:\n",
    "            f.write(\"%s\\n\" % snp)"
   ]
  },
  {
   "cell_type": "code",
   "execution_count": 15,
   "metadata": {},
   "outputs": [],
   "source": [
    "path = \"%s/conditional_analysis/causal_SNPs_%s_all.txt\" % (export_folder,tag)\n",
    "with open(path,\"w\") as f:\n",
    "    for snp in all_significant_SNPs:\n",
    "        f.write(\"%s\\n\" % snp)"
   ]
  },
  {
   "cell_type": "markdown",
   "metadata": {},
   "source": [
    "# Comparison w/ Dragana's GWAS"
   ]
  },
  {
   "cell_type": "code",
   "execution_count": 16,
   "metadata": {},
   "outputs": [
    {
     "name": "stderr",
     "output_type": "stream",
     "text": [
      "/home/hv270/platelets/lib/python3.7/site-packages/ipykernel_launcher.py:1: FutureWarning: Your version of xlrd is 1.2.0. In xlrd >= 2.0, only the xls format is supported. As a result, the openpyxl engine will be used if it is installed and the engine argument is not specified. Install openpyxl instead.\n",
      "  \"\"\"Entry point for launching an IPython kernel.\n"
     ]
    }
   ],
   "source": [
    "dgw = pd.read_excel(\"/home/hv270/sysmex2pf/dragana_GWAS.xlsx\")\n",
    "dgw = dgw.rename(columns={\"rsID (where available)\":\"SNP\",'Gene Symbol(s) for Most Serious Consequence':\"Gene\"})\n",
    "dgw = dgw.loc[dgw[\"Associated Blood Index\"].isin([\"PLT#\",\"PDW\",\"MPV\",\"PCT\"])]"
   ]
  },
  {
   "cell_type": "code",
   "execution_count": 17,
   "metadata": {},
   "outputs": [
    {
     "name": "stdout",
     "output_type": "stream",
     "text": [
      "Done exporting genotypes of chrom 1\n",
      "Done exporting genotypes of chrom 2\n",
      "Done exporting genotypes of chrom 3\n",
      "Done exporting genotypes of chrom 4\n",
      "Done exporting genotypes of chrom 5\n",
      "Done exporting genotypes of chrom 6\n",
      "Done exporting genotypes of chrom 7\n",
      "Done exporting genotypes of chrom 8\n",
      "Done exporting genotypes of chrom 9\n",
      "Done exporting genotypes of chrom 10\n",
      "Done exporting genotypes of chrom 11\n",
      "Done exporting genotypes of chrom 12\n",
      "Done exporting genotypes of chrom 13\n",
      "Done exporting genotypes of chrom 14\n",
      "Done exporting genotypes of chrom 15\n",
      "Done exporting genotypes of chrom 16\n",
      "Done exporting genotypes of chrom 17\n",
      "Done exporting genotypes of chrom 18\n",
      "Done exporting genotypes of chrom 19\n",
      "Done exporting genotypes of chrom 20\n",
      "Done exporting genotypes of chrom 21\n",
      "Done exporting genotypes of chrom 22\n"
     ]
    }
   ],
   "source": [
    "for CH in range(1,23):\n",
    "    # Write the list of SNPS to a file\n",
    "    SNP_list_file = \"%s/conditional_analysis/dragana_snps_chr_%d.txt\" % (export_folder, CH)\n",
    "    SNP_list = dgw.loc[(dgw[\"Chr (GRCh37)\"] == CH) & dgw.SNP.str.contains(\"rs\")].SNP.unique().tolist()\n",
    "    SNP_list = [s for s in SNP_list if \"rs\" in s]\n",
    "    with open(SNP_list_file,\"w\") as file:\n",
    "        for s in SNP_list:\n",
    "            file.write(\"%s\\n\" % s)\n",
    "\n",
    "    # Extract the table\n",
    "    gen_path = \"%s/conditional_analysis/genotypes_dragana_CHR_%d\" % (export_folder, CH)\n",
    "    command = \"/home/hv270/plink\"\n",
    "    command += \" --bfile /home/hv270/rds/rds-who1000-cbrc/user/wja24/shared/hv270/interval_genotypes/chr_%d\" % CH\n",
    "    command += \" --extract %s\" % SNP_list_file\n",
    "    command += \" --keep %s\" % EUR_path_interval\n",
    "    command += \" --recode A-transpose --out %s\" % gen_path\n",
    "    p = subprocess.Popen(command,shell=True)\n",
    "    p.wait()\n",
    "    print(\"Done exporting genotypes of chrom %d\" % CH)"
   ]
  },
  {
   "cell_type": "code",
   "execution_count": 18,
   "metadata": {},
   "outputs": [],
   "source": [
    "gs = []\n",
    "for CH in range(1,23):\n",
    "    gen_path = \"%s/conditional_analysis/genotypes_dragana_CHR_%d\" % (export_folder, CH)\n",
    "    df = pd.read_csv(\"%s.traw\" % (gen_path),sep=\"\\t\")\n",
    "    df = df.set_index(\"SNP\")\n",
    "    ID_cols = [c for c in df.columns if c not in [\"CHR\",\"(C)M\",\"POS\",\"COUNTED\",\"ALT\"]]\n",
    "    df = df[ID_cols].T\n",
    "    gs.append(df)\n",
    "gen = pd.concat(gs,axis=1)\n",
    "gen = gen.loc[:,~gen.columns.duplicated(keep=\"first\")]"
   ]
  },
  {
   "cell_type": "code",
   "execution_count": 19,
   "metadata": {},
   "outputs": [],
   "source": [
    "gen = gen.loc[gen.index.isin(X.index.tolist())]"
   ]
  },
  {
   "cell_type": "code",
   "execution_count": 20,
   "metadata": {},
   "outputs": [
    {
     "data": {
      "text/plain": [
       "2298"
      ]
     },
     "execution_count": 20,
     "metadata": {},
     "output_type": "execute_result"
    }
   ],
   "source": [
    "for c in gen.columns:\n",
    "    cond = gen[c].isnull()\n",
    "    gen.loc[cond,c] = gen.loc[~cond,c].mean()\n",
    "    \n",
    "X_G = pd.merge(X, gen,left_index=True,right_index=True)\n",
    "G_H = pd.concat([genotypes[key] for key in genotypes],axis=1)\n",
    "G_H = G_H.loc[:,~G_H.columns.duplicated(keep=\"first\")]\n",
    "\n",
    "X_G_H = pd.merge(X_G,G_H[[s for s in G_H.columns if s not in X_G.columns]],left_index=True,right_index=True)\n",
    "\n",
    "dgw.loc[dgw[\"Associated Blood Index\"].isin([\"PLT#\",\"PDW\",\"MPV\",\"PCT\"])].SNP.nunique()"
   ]
  },
  {
   "cell_type": "code",
   "execution_count": 21,
   "metadata": {},
   "outputs": [
    {
     "name": "stdout",
     "output_type": "stream",
     "text": [
      "0.35312434672277 0.03647027867572595 93\n",
      "ADP - rs13357280 - 4.74e-01\n",
      "0.35312434672277 0.03647027867572595 93\n",
      "ADP - rs2087097 - 6.27e-02\n",
      "0.35312434672277 0.15439598014046674 101\n",
      "ADP - rs1339847 - 1.00e+00\n",
      "0.35312434672277 0.15439598014046674 101\n",
      "ADP - rs56043070 - 1.00e+00\n",
      "0.35312434672277 0.15439598014046674 101\n",
      "ADP - rs60726644 - 1.53e-01\n",
      "0.35312434672277 0.09860830174608831 89\n",
      "ADP - rs7961894 - 2.26e-08\n",
      "0.35312434672277 0.09860830174608831 89\n",
      "ADP - rs77408535 - 9.25e-02\n",
      "0.35312434672277 0.04286237133624004 65\n",
      "ADP - rs4734879 - 6.26e-01\n",
      "0.35312434672277 0.05210358124769694 107\n",
      "ADP - rs6739106 - 6.40e-01\n",
      "0.35312434672277 0.07843461589284001 114\n",
      "ADP - rs8082605 - 2.17e-01\n",
      "0.35312434672277 0.07843461589284001 114\n",
      "ADP - rs74981786 - 8.79e-01\n",
      "0.35312434672277 0.072358391590238 80\n",
      "ADP - rs10761741 - 8.45e-01\n",
      "0.35312434672277 0.23414133145676527 91\n",
      "ADP - rs415064 - 1.00e+00\n",
      "0.35312434672277 0.0483604326050155 63\n",
      "ADP - rs10164672 - 7.41e-01\n",
      "0.35312434672277 0.1493701189635215 133\n",
      "ADP - rs2180748 - 9.94e-02\n",
      "0.35312434672277 0.06383880021690932 84\n",
      "ADP - rs58088508 - 2.70e-01\n",
      "0.35312434672277 0.06701525768672531 64\n",
      "ADP - rs12250755 - 7.05e-01\n",
      "0.35312434672277 0.06701525768672531 64\n",
      "ADP - rs7923030 - 5.86e-02\n",
      "0.35312434672277 0.055450157635510824 66\n",
      "ADP - rs79013471 - 6.81e-01\n",
      "0.35312434672277 0.14969541411478302 119\n",
      "ADP - rs1768584 - 1.00e+00\n",
      "0.35312434672277 0.07264459049716035 122\n",
      "ADP - rs1654425 - 1.00e+00\n",
      "0.35312434672277 0.03932810849037358 91\n",
      "ADP - rs34744010 - 1.08e-03\n",
      "0.35312434672277 0.04693514208432826 82\n",
      "ADP - rs11121529 - 1.00e+00\n",
      "0.35312434672277 0.09978761364951343 93\n",
      "ADP - rs1354034 - 1.00e+00\n",
      "0.35312434672277 0.09978761364951343 93\n",
      "ADP - rs9880418 - 1.00e+00\n",
      "0.35312434672277 0.07843461589284001 114\n",
      "ADP - rs7207182 - 5.70e-01\n",
      "0.35312434672277 0.038306694007472455 71\n",
      "ADP - rs61978213 - 1.23e-12\n",
      "0.35312434672277 0.05230240883715308 63\n",
      "ADP - rs61751937 - 1.00e+00\n",
      "0.35312434672277 0.048756411879863466 53\n",
      "ADP - rs3215853 - 3.44e-01\n",
      "0.35312434672277 0.1481116967882522 144\n",
      "ADP - rs12566888 - 6.21e-01\n",
      "0.35312434672277 0.05195824222336359 83\n",
      "ADP - rs12445050 - 1.00e+00\n",
      "0.35312434672277 0.05195824222336359 83\n",
      "ADP - rs7188868 - 3.99e-02\n",
      "0.35312434672277 0.05195824222336359 83\n",
      "ADP - rs62045701 - 7.76e-01\n",
      "0.35312434672277 0.07843461589284001 114\n",
      "ADP - rs7216124 - 8.17e-01\n",
      "0.35312434672277 0.07843461589284001 114\n",
      "ADP - rs2559619 - 3.79e-02\n",
      "0.35312434672277 0.07019886891868425 81\n",
      "ADP - rs1976848 - 4.83e-01\n"
     ]
    }
   ],
   "source": [
    "new_hits = []\n",
    "\n",
    "all_d_hits = [s for s in dgw.SNP.unique().tolist() if s in gen.columns]\n",
    "\n",
    "for pheno in pheno_cols:\n",
    "    lm = LinearRegression().fit(X_G_H[cov.columns],X_G_H[pheno])\n",
    "    adj_cov = X_G_H[pheno] - lm.predict(X_G_H[cov.columns])\n",
    "    N_train = 20000\n",
    "    for snp in G_H.columns:\n",
    "        \n",
    "        candidate_SNPs = dgw.loc[(dgw[\"Chr (GRCh37)\"] == gw_.loc[gw_.SNP == snp,\"CHR\"].iloc[0])].SNP.unique().tolist()\n",
    "        candidate_SNPs = [s for s in candidate_SNPs if np.abs(dgw.loc[dgw.SNP == s,\"BP (GRCh37)\"].iloc[0] - gw_.loc[gw_.SNP == snp,\"BP\"].mean()) <= 1e8]\n",
    "        just_neighbors = [s for s in candidate_SNPs if s in gen.columns]\n",
    "        \n",
    "        lm1 = LinearRegression().fit(X_G_H[all_d_hits].iloc[:N_train],adj_cov.iloc[:N_train])\n",
    "        pred1 = lm1.predict(X_G_H[all_d_hits].iloc[N_train:])\n",
    "        r_1 = pearsonr(pred1,adj_cov.iloc[N_train:])[0]\n",
    "        \n",
    "        lm2 = LinearRegression().fit(X_G_H[just_neighbors].iloc[:N_train],adj_cov.iloc[:N_train])\n",
    "        pred2 = lm2.predict(X_G_H[just_neighbors].iloc[N_train:])\n",
    "        r_2 = pearsonr(pred2,adj_cov.iloc[N_train:])[0]\n",
    "        print(r_1,r_2, len(just_neighbors))\n",
    "        if r_1 < r_2:\n",
    "            print(\"Better to take only neighbors\")\n",
    "        snps_to_take = all_d_hits if np.abs(r_2) < np.abs(r_1) else just_neighbors\n",
    "        \n",
    "        lm = LinearRegression().fit(X_G_H[snps_to_take],adj_cov)\n",
    "        adj_D = adj_cov - lm.predict(X_G_H[snps_to_take])\n",
    "        p = pearsonr(adj_D,X_G_H[snp])[1]\n",
    "        print(\"%s - %s - %.2e\" % (pheno, snp, p))\n",
    "        if p < 1e-8 and p not in new_hits:\n",
    "            new_hits.append(snp)"
   ]
  },
  {
   "cell_type": "code",
   "execution_count": 23,
   "metadata": {},
   "outputs": [],
   "source": [
    "def get_lm_info(X,y,predictions,lm):\n",
    "\n",
    "    #newX = pd.DataFrame({\"Constant\":np.ones(len(X))}).join(pd.DataFrame(X))\n",
    "    #MSE = (sum((y-predictions)**2))/(len(newX)-len(newX.columns))\n",
    "    params = np.append(lm.intercept_,lm.coef_)\n",
    "    # Note if you don't want to use a DataFrame replace the two lines above with\n",
    "    newX = np.append(np.ones((len(X),1)), X, axis=1)\n",
    "    MSE = (sum((y-predictions)**2))/(len(newX)-len(newX[0]))\n",
    "\n",
    "    var_b = MSE*(np.linalg.inv(np.dot(newX.T,newX)).diagonal())\n",
    "    sd_b = np.sqrt(var_b)\n",
    "    ts_b = params/ sd_b\n",
    "\n",
    "    p_values =[2*(1-stats.t.cdf(np.abs(i),(len(newX)-len(newX[0])))) for i in ts_b]\n",
    "\n",
    "    sd_b = np.round(sd_b,3)\n",
    "    ts_b = np.round(ts_b,3)\n",
    "    #p_values = np.round(p_values,3)\n",
    "    params = np.round(params,4)\n",
    "\n",
    "    myDF3 = pd.DataFrame()\n",
    "    myDF3[\"Coefficients\"],myDF3[\"Standard Errors\"],myDF3[\"t values\"],myDF3[\"P\"] = [params,sd_b,ts_b,p_values]\n",
    "    myDF3[\"P\"] = np.clip(myDF3[\"P\"],a_min=1e-40,a_max=1)\n",
    "    return myDF3.iloc[1:] # Don't return offset"
   ]
  },
  {
   "cell_type": "code",
   "execution_count": 24,
   "metadata": {},
   "outputs": [
    {
     "data": {
      "image/png": "[encoded data removed]",
      "text/plain": [
       "<Figure size 432x288 with 1 Axes>"
      ]
     },
     "metadata": {
      "needs_background": "light"
     },
     "output_type": "display_data"
    }
   ],
   "source": [
    "all_d_hits = [s for s in dgw.SNP.unique().tolist() if s in gen.columns]\n",
    "\n",
    "for pheno in pheno_cols:\n",
    "    lm = LinearRegression().fit(X_G_H[cov.columns],X_G_H[pheno])\n",
    "    adj_cov = X_G_H[pheno] - lm.predict(X_G_H[cov.columns])\n",
    "    \n",
    "    all_hits = list(set(all_d_hits + significant_SNPs[pheno]))\n",
    "    #all_hits = significant_SNPs[pheno]\n",
    "    lm = LinearRegression().fit(X_G_H[all_hits],adj_cov)\n",
    "    pred = lm.predict(X_G_H[all_hits])\n",
    "    \n",
    "    lm_info = get_lm_info(X_G_H[all_hits],adj_cov,pred,lm)\n",
    "    lm_info[\"P_alone\"] = [pearsonr(X_G_H[s],adj_cov)[1] for s in all_hits]\n",
    "    lm_info[\"SNP\"] = all_hits\n",
    "    lm_info.set_index(\"SNP\",inplace=True)\n",
    "    \n",
    "    plt.figure()\n",
    "    plt.hist(lm_info[\"P\"],density=True,bins=100,alpha=.5,label=\"D SNPs\")\n",
    "    plt.hist(lm_info.loc[significant_SNPs[pheno],\"P\"],density=True,alpha=.5,label=\"HV SNPs\")\n",
    "    plt.xlabel(\"p-value in LM : phenotype ~ SNPs\")\n",
    "    plt.title(\"phenotype : predicted %s\" % pheno)\n",
    "    plt.legend()\n",
    "    plt.tight_layout()"
   ]
  },
  {
   "cell_type": "code",
   "execution_count": 25,
   "metadata": {},
   "outputs": [],
   "source": [
    "illustrate = pd.merge(gw.loc[gw.pheno == pheno],lm_info,left_on=\"SNP\",right_index=True,how=\"inner\")"
   ]
  },
  {
   "cell_type": "code",
   "execution_count": 26,
   "metadata": {},
   "outputs": [],
   "source": [
    "S = X_G_H[significant_SNPs[pheno]].values\n",
    "S = S - np.mean(S,axis=0)\n",
    "corr = np.abs((S.T @ S) / (S.shape[0]**2))\n",
    "np.fill_diagonal(corr, 0.)"
   ]
  },
  {
   "cell_type": "code",
   "execution_count": 27,
   "metadata": {},
   "outputs": [
    {
     "data": {
      "image/png": "[encoded data removed]",
      "text/plain": [
       "<Figure size 432x288 with 1 Axes>"
      ]
     },
     "metadata": {
      "needs_background": "light"
     },
     "output_type": "display_data"
    }
   ],
   "source": [
    "plt.imshow(corr,vmin=0.,vmax=.000001)\n",
    "corr_snps = np.where(corr > .000001)[0]"
   ]
  },
  {
   "cell_type": "code",
   "execution_count": 28,
   "metadata": {},
   "outputs": [
    {
     "data": {
      "image/png": "[encoded data removed]",
      "text/plain": [
       "<Figure size 864x360 with 1 Axes>"
      ]
     },
     "metadata": {
      "needs_background": "light"
     },
     "output_type": "display_data"
    }
   ],
   "source": [
    "is_HV = illustrate.SNP.isin(significant_SNPs[pheno])\n",
    "is_D = illustrate.SNP.isin(all_d_hits)\n",
    "is_corr = illustrate.SNP.isin([significant_SNPs[pheno][i] for i in corr_snps])\n",
    "plt.figure(figsize=(12,5))\n",
    "plt.scatter(illustrate.loc[~is_HV,\"POS\"],-np.log10(illustrate.loc[~is_HV,\"P_y\"]),c=\"green\",alpha=.5,label=\"Dragana's hits\")\n",
    "plt.scatter(illustrate.loc[is_HV & is_D,\"POS\"],-np.log10(illustrate.loc[is_HV & is_D,\"P_y\"]),c=\"blue\",alpha=1,label=\"HV & Dragana's SNPs\")\n",
    "plt.scatter(illustrate.loc[is_HV & ~is_D,\"POS\"],-np.log10(illustrate.loc[is_HV & ~is_D,\"P_y\"]),c=\"red\",alpha=1,label=\"HV SNPs\")\n",
    "plt.scatter(illustrate.loc[is_HV & is_corr,\"POS\"],-np.log10(illustrate.loc[is_HV & is_corr,\"P_y\"]),c=\"purple\",marker=\"^\",alpha=1,label=\"Correlated\")\n",
    "plt.axhline(8,c=\"grey\")\n",
    "plt.xlabel(\"p-value of coefficient in LM\")\n",
    "plt.xticks([gw.loc[gw.CHR == i,\"POS\"].min() for i in range(1,23)],[str(i) for i in range(1,23)]);\n",
    "plt.legend();"
   ]
  },
  {
   "cell_type": "code",
   "execution_count": 29,
   "metadata": {},
   "outputs": [
    {
     "name": "stderr",
     "output_type": "stream",
     "text": [
      "/home/hv270/.local/lib/python3.7/site-packages/pandas/core/arraylike.py:358: RuntimeWarning: divide by zero encountered in log10\n",
      "  result = getattr(ufunc, method)(*inputs, **kwargs)\n"
     ]
    },
    {
     "data": {
      "image/png": "[encoded data removed]",
      "text/plain": [
       "<Figure size 864x360 with 1 Axes>"
      ]
     },
     "metadata": {
      "needs_background": "light"
     },
     "output_type": "display_data"
    }
   ],
   "source": [
    "is_HV = illustrate.SNP.isin(significant_SNPs[pheno])\n",
    "is_D = illustrate.SNP.isin(all_d_hits)\n",
    "plt.figure(figsize=(12,5))\n",
    "plt.scatter(illustrate.loc[~is_HV,\"POS\"],-np.log10(illustrate.loc[~is_HV,\"P_alone\"]),c=\"green\",alpha=.5,label=\"Dragana's hits\")\n",
    "plt.scatter(illustrate.loc[is_HV & is_D,\"POS\"],-np.log10(illustrate.loc[is_HV & is_D,\"P_alone\"]),c=\"blue\",alpha=1,label=\"HV & Dragana's SNPs\")\n",
    "plt.scatter(illustrate.loc[is_HV & ~is_D,\"POS\"],-np.log10(illustrate.loc[is_HV & ~is_D,\"P_alone\"]),c=\"red\",alpha=1,label=\"HV SNPs\")\n",
    "\n",
    "plt.axhline(8,c=\"grey\")\n",
    "plt.xlabel(\"p-value of coefficient in LM\")\n",
    "for c in [gw.loc[gw.CHR == i,\"POS\"].min() for i in range(1,23)]:\n",
    "    plt.axvline(c,color=\"grey\",lw=1)\n",
    "plt.xticks([gw.loc[gw.CHR == i,\"POS\"].min() for i in range(1,23)],[str(i) for i in range(1,23)]);\n",
    "plt.legend();"
   ]
  },
  {
   "cell_type": "markdown",
   "metadata": {},
   "source": [
    "# Look in Dragana's GWAS"
   ]
  },
  {
   "cell_type": "code",
   "execution_count": 30,
   "metadata": {},
   "outputs": [
    {
     "name": "stderr",
     "output_type": "stream",
     "text": [
      "/home/hv270/platelets/lib/python3.7/site-packages/ipykernel_launcher.py:1: FutureWarning: Your version of xlrd is 1.2.0. In xlrd >= 2.0, only the xls format is supported. As a result, the openpyxl engine will be used if it is installed and the engine argument is not specified. Install openpyxl instead.\n",
      "  \"\"\"Entry point for launching an IPython kernel.\n"
     ]
    }
   ],
   "source": [
    "dgw = pd.read_excel(\"/home/hv270/sysmex2pf/dragana_GWAS.xlsx\")\n",
    "dgw = dgw.rename(columns={\"rsID (where available)\":\"SNP\",'Gene Symbol(s) for Most Serious Consequence':\"Gene\"})\n",
    "dgw = dgw.loc[dgw[\"SNP\"].isin(all_significant_SNPs)]"
   ]
  },
  {
   "cell_type": "code",
   "execution_count": 31,
   "metadata": {},
   "outputs": [],
   "source": [
    "sysmex_pheno = ~dgw.pivot_table(aggfunc=\"first\",index=\"SNP\",columns=\"Associated Blood Index\",values=[\"Gene\"])[\"Gene\"].isnull()"
   ]
  },
  {
   "cell_type": "code",
   "execution_count": 32,
   "metadata": {},
   "outputs": [
    {
     "data": {
      "text/html": [
       "<div>\n",
       "<style scoped>\n",
       "    .dataframe tbody tr th:only-of-type {\n",
       "        vertical-align: middle;\n",
       "    }\n",
       "\n",
       "    .dataframe tbody tr th {\n",
       "        vertical-align: top;\n",
       "    }\n",
       "\n",
       "    .dataframe thead th {\n",
       "        text-align: right;\n",
       "    }\n",
       "</style>\n",
       "<table border=\"1\" class=\"dataframe\">\n",
       "  <thead>\n",
       "    <tr style=\"text-align: right;\">\n",
       "      <th></th>\n",
       "      <th>Gene</th>\n",
       "    </tr>\n",
       "    <tr>\n",
       "      <th>SNP</th>\n",
       "      <th></th>\n",
       "    </tr>\n",
       "  </thead>\n",
       "  <tbody>\n",
       "    <tr>\n",
       "      <th>rs11121529</th>\n",
       "      <td>KIF1B</td>\n",
       "    </tr>\n",
       "    <tr>\n",
       "      <th>rs12445050</th>\n",
       "      <td>PLCG2</td>\n",
       "    </tr>\n",
       "    <tr>\n",
       "      <th>rs1339847</th>\n",
       "      <td>TRIM58</td>\n",
       "    </tr>\n",
       "    <tr>\n",
       "      <th>rs1354034</th>\n",
       "      <td>ARHGEF3</td>\n",
       "    </tr>\n",
       "    <tr>\n",
       "      <th>rs1654425</th>\n",
       "      <td>GP6</td>\n",
       "    </tr>\n",
       "    <tr>\n",
       "      <th>rs1768584</th>\n",
       "      <td>TMCC2</td>\n",
       "    </tr>\n",
       "    <tr>\n",
       "      <th>rs3215853</th>\n",
       "      <td>DOCK8</td>\n",
       "    </tr>\n",
       "    <tr>\n",
       "      <th>rs415064</th>\n",
       "      <td>TUBB1</td>\n",
       "    </tr>\n",
       "    <tr>\n",
       "      <th>rs56043070</th>\n",
       "      <td>GCSAML</td>\n",
       "    </tr>\n",
       "    <tr>\n",
       "      <th>rs61751937</th>\n",
       "      <td>SVEP1</td>\n",
       "    </tr>\n",
       "    <tr>\n",
       "      <th>rs8082605</th>\n",
       "      <td>SLFN12L</td>\n",
       "    </tr>\n",
       "    <tr>\n",
       "      <th>rs9880418</th>\n",
       "      <td>ARHGEF3</td>\n",
       "    </tr>\n",
       "  </tbody>\n",
       "</table>\n",
       "</div>"
      ],
      "text/plain": [
       "               Gene\n",
       "SNP                \n",
       "rs11121529    KIF1B\n",
       "rs12445050    PLCG2\n",
       "rs1339847    TRIM58\n",
       "rs1354034   ARHGEF3\n",
       "rs1654425       GP6\n",
       "rs1768584     TMCC2\n",
       "rs3215853     DOCK8\n",
       "rs415064      TUBB1\n",
       "rs56043070   GCSAML\n",
       "rs61751937    SVEP1\n",
       "rs8082605   SLFN12L\n",
       "rs9880418   ARHGEF3"
      ]
     },
     "execution_count": 32,
     "metadata": {},
     "output_type": "execute_result"
    }
   ],
   "source": [
    "genes = dgw.groupby(\"SNP\")[[\"Gene\"]].first()\n",
    "genes"
   ]
  },
  {
   "cell_type": "code",
   "execution_count": 33,
   "metadata": {},
   "outputs": [],
   "source": [
    "sysmex_pheno[\"Dragana GWAS traits\"] = \"\"\n",
    "for c in sysmex_pheno.columns:\n",
    "    if c == \"Dragana GWAS traits\": continue\n",
    "    sysmex_pheno.loc[sysmex_pheno[c],\"Dragana GWAS traits\"] += \"%s \" % c"
   ]
  },
  {
   "cell_type": "code",
   "execution_count": 34,
   "metadata": {},
   "outputs": [],
   "source": [
    "recap = pd.merge(recap,sysmex_pheno[[\"Dragana GWAS traits\"]],how=\"left\",left_index=True,right_index=True).fillna(\"\")"
   ]
  },
  {
   "cell_type": "code",
   "execution_count": 35,
   "metadata": {},
   "outputs": [
    {
     "name": "stdout",
     "output_type": "stream",
     "text": [
      "querying 1-36...done.\n",
      "Finished.\n",
      "14 input query terms found dup hits:\n",
      "\t[('rs415064', 2), ('rs58088508', 2), ('rs7207182', 3), ('rs61751937', 2), ('rs12250755', 2), ('rs165\n",
      "Pass \"returnall=True\" to return complete lists of duplicate or missing query terms.\n"
     ]
    }
   ],
   "source": [
    "import myvariant\n",
    "mv = myvariant.MyVariantInfo()\n",
    "\n",
    "gene_names = {}\n",
    "to_query = recap.index.tolist()\n",
    "a = mv.querymany(to_query,scopes='dbsnp.rsid', build=\"hg38\",fetchall=False)\n",
    "\n",
    "for i in range(len(a)):\n",
    "    q = a[i][\"query\"]\n",
    "    try:\n",
    "        gene = a[i][\"cadd\"][\"gene\"][\"genename\"]\n",
    "    except:\n",
    "        try:\n",
    "            gene = a[i][\"dbsnp\"][\"gene\"][\"symbol\"]\n",
    "        except:\n",
    "            try:\n",
    "                gene = a[i][\"wellderly\"][\"genename\"]\n",
    "            except:\n",
    "                try:\n",
    "                    gene = a[i][\"snpeff\"][\"ann\"][\"genename\"]\n",
    "                except:\n",
    "                    try:\n",
    "                        gene = a[i][\"snpeff\"][\"ann\"][0][\"genename\"]\n",
    "                    except:\n",
    "                        if q == \"rs111763415\":\n",
    "                            gene = \"SUFU\"\n",
    "                        else:\n",
    "                            gene = \"not found\"\n",
    "    if q in gene_names:\n",
    "        gene_names[q].append(gene)\n",
    "    else:\n",
    "        gene_names[q] = [gene]\n",
    "\n",
    "for q in gene_names:\n",
    "    recap.loc[q,\"genes\"] = \", \".join(list(set(gene_names[q])))"
   ]
  },
  {
   "cell_type": "code",
   "execution_count": 52,
   "metadata": {
    "scrolled": true
   },
   "outputs": [
    {
     "name": "stdout",
     "output_type": "stream",
     "text": [
      "WDR66\n",
      "LOC646548\n",
      "TUBB1\n",
      "TAOK1\n",
      "PEAR1\n",
      "ODF3\n",
      "PLCG2\n",
      "SLFN12L\n",
      "SLC35D2\n",
      "RALB\n",
      "TMCC2\n",
      "TRIM58\n",
      "P2RX1\n",
      "SVEP1\n",
      "SETD1B\n",
      "LOC101927824, RP11\n",
      "DOCK10\n",
      "GP6\n",
      "NUFIP2\n",
      "JMJD1C\n",
      "GCSAML\n",
      "LOC102477328\n",
      "DNM3\n",
      "ATG9A\n",
      "SLC22A4\n",
      "DOCK8\n",
      "LOC101927824\n",
      "ARHGEF3\n",
      "PDLIM4\n",
      "ZFPM2\n",
      "AP2B1\n",
      "OR11L1\n",
      "KIF1B\n"
     ]
    }
   ],
   "source": [
    "# for gene ontology\n",
    "for gene in recap.genes.unique().tolist():\n",
    "    print(gene.split(\"-\")[0])"
   ]
  },
  {
   "cell_type": "code",
   "execution_count": null,
   "metadata": {},
   "outputs": [],
   "source": []
  },
  {
   "cell_type": "code",
   "execution_count": 39,
   "metadata": {},
   "outputs": [
    {
     "data": {
      "text/html": [
       "<div>\n",
       "<style scoped>\n",
       "    .dataframe tbody tr th:only-of-type {\n",
       "        vertical-align: middle;\n",
       "    }\n",
       "\n",
       "    .dataframe tbody tr th {\n",
       "        vertical-align: top;\n",
       "    }\n",
       "\n",
       "    .dataframe thead th {\n",
       "        text-align: right;\n",
       "    }\n",
       "</style>\n",
       "<table border=\"1\" class=\"dataframe\">\n",
       "  <thead>\n",
       "    <tr style=\"text-align: right;\">\n",
       "      <th></th>\n",
       "      <th>causal_ADP</th>\n",
       "      <th>BETA_ADP</th>\n",
       "      <th>P_ADP</th>\n",
       "      <th>A1FREQ</th>\n",
       "      <th>CHR</th>\n",
       "      <th>BP</th>\n",
       "      <th>Dragana GWAS traits</th>\n",
       "      <th>genes</th>\n",
       "    </tr>\n",
       "  </thead>\n",
       "  <tbody>\n",
       "    <tr>\n",
       "      <th>rs11121529</th>\n",
       "      <td>True</td>\n",
       "      <td>0.088575</td>\n",
       "      <td>9.400000e-14</td>\n",
       "      <td>0.882618</td>\n",
       "      <td>1</td>\n",
       "      <td>10271688</td>\n",
       "      <td>MONO# MPV PLT#</td>\n",
       "      <td>KIF1B</td>\n",
       "    </tr>\n",
       "    <tr>\n",
       "      <th>rs12566888</th>\n",
       "      <td>True</td>\n",
       "      <td>0.094093</td>\n",
       "      <td>2.400000e-10</td>\n",
       "      <td>0.910487</td>\n",
       "      <td>1</td>\n",
       "      <td>156869047</td>\n",
       "      <td></td>\n",
       "      <td>PEAR1</td>\n",
       "    </tr>\n",
       "    <tr>\n",
       "      <th>rs2180748</th>\n",
       "      <td>True</td>\n",
       "      <td>-0.054315</td>\n",
       "      <td>2.400000e-09</td>\n",
       "      <td>0.415776</td>\n",
       "      <td>1</td>\n",
       "      <td>171947018</td>\n",
       "      <td></td>\n",
       "      <td>DNM3</td>\n",
       "    </tr>\n",
       "    <tr>\n",
       "      <th>rs1768584</th>\n",
       "      <td>True</td>\n",
       "      <td>-0.053530</td>\n",
       "      <td>7.800000e-10</td>\n",
       "      <td>0.621136</td>\n",
       "      <td>1</td>\n",
       "      <td>205240145</td>\n",
       "      <td>MPV PLT#</td>\n",
       "      <td>TMCC2</td>\n",
       "    </tr>\n",
       "    <tr>\n",
       "      <th>rs56043070</th>\n",
       "      <td>True</td>\n",
       "      <td>-0.164096</td>\n",
       "      <td>5.100000e-26</td>\n",
       "      <td>0.926692</td>\n",
       "      <td>1</td>\n",
       "      <td>247719769</td>\n",
       "      <td>HLSR# MPV MSCV PCT PDW PLT# RET# RET%</td>\n",
       "      <td>GCSAML</td>\n",
       "    </tr>\n",
       "    <tr>\n",
       "      <th>rs60726644</th>\n",
       "      <td>True</td>\n",
       "      <td>-0.079342</td>\n",
       "      <td>1.500000e-12</td>\n",
       "      <td>0.848839</td>\n",
       "      <td>1</td>\n",
       "      <td>248010949</td>\n",
       "      <td></td>\n",
       "      <td>OR11L1-TRIM58</td>\n",
       "    </tr>\n",
       "    <tr>\n",
       "      <th>rs1339847</th>\n",
       "      <td>True</td>\n",
       "      <td>-0.208683</td>\n",
       "      <td>5.400000e-60</td>\n",
       "      <td>0.889817</td>\n",
       "      <td>1</td>\n",
       "      <td>248039294</td>\n",
       "      <td>HLSR# HLSR% MPV PDW RET# RET%</td>\n",
       "      <td>TRIM58</td>\n",
       "    </tr>\n",
       "    <tr>\n",
       "      <th>rs6739106</th>\n",
       "      <td>True</td>\n",
       "      <td>0.073190</td>\n",
       "      <td>7.000000e-18</td>\n",
       "      <td>0.304309</td>\n",
       "      <td>2</td>\n",
       "      <td>121053244</td>\n",
       "      <td></td>\n",
       "      <td>RALB</td>\n",
       "    </tr>\n",
       "    <tr>\n",
       "      <th>rs79013471</th>\n",
       "      <td>True</td>\n",
       "      <td>-0.088241</td>\n",
       "      <td>1.800000e-09</td>\n",
       "      <td>0.908339</td>\n",
       "      <td>2</td>\n",
       "      <td>220096122</td>\n",
       "      <td></td>\n",
       "      <td>ATG9A</td>\n",
       "    </tr>\n",
       "    <tr>\n",
       "      <th>rs10164672</th>\n",
       "      <td>True</td>\n",
       "      <td>-0.103094</td>\n",
       "      <td>3.200000e-12</td>\n",
       "      <td>0.922027</td>\n",
       "      <td>2</td>\n",
       "      <td>225751613</td>\n",
       "      <td></td>\n",
       "      <td>DOCK10</td>\n",
       "    </tr>\n",
       "    <tr>\n",
       "      <th>rs9880418</th>\n",
       "      <td>True</td>\n",
       "      <td>0.062192</td>\n",
       "      <td>7.700000e-14</td>\n",
       "      <td>0.447188</td>\n",
       "      <td>3</td>\n",
       "      <td>56809820</td>\n",
       "      <td>MPV</td>\n",
       "      <td>ARHGEF3</td>\n",
       "    </tr>\n",
       "    <tr>\n",
       "      <th>rs1354034</th>\n",
       "      <td>True</td>\n",
       "      <td>-0.167253</td>\n",
       "      <td>1.200000e-90</td>\n",
       "      <td>0.404925</td>\n",
       "      <td>3</td>\n",
       "      <td>56849749</td>\n",
       "      <td>HLSR# HLSR% LYMPH# LYMPH% MPV PCT PLT# RET# RET%</td>\n",
       "      <td>ARHGEF3</td>\n",
       "    </tr>\n",
       "    <tr>\n",
       "      <th>rs34744010</th>\n",
       "      <td>True</td>\n",
       "      <td>0.056197</td>\n",
       "      <td>1.400000e-09</td>\n",
       "      <td>0.685313</td>\n",
       "      <td>5</td>\n",
       "      <td>72023874</td>\n",
       "      <td></td>\n",
       "      <td>LOC102477328-TNPO1</td>\n",
       "    </tr>\n",
       "    <tr>\n",
       "      <th>rs13357280</th>\n",
       "      <td>True</td>\n",
       "      <td>0.062432</td>\n",
       "      <td>2.700000e-14</td>\n",
       "      <td>0.531485</td>\n",
       "      <td>5</td>\n",
       "      <td>131600187</td>\n",
       "      <td></td>\n",
       "      <td>PDLIM4</td>\n",
       "    </tr>\n",
       "    <tr>\n",
       "      <th>rs2087097</th>\n",
       "      <td>True</td>\n",
       "      <td>0.059475</td>\n",
       "      <td>3.000000e-09</td>\n",
       "      <td>0.244208</td>\n",
       "      <td>5</td>\n",
       "      <td>131625420</td>\n",
       "      <td></td>\n",
       "      <td>SLC22A4</td>\n",
       "    </tr>\n",
       "    <tr>\n",
       "      <th>rs4734879</th>\n",
       "      <td>True</td>\n",
       "      <td>0.061073</td>\n",
       "      <td>7.800000e-11</td>\n",
       "      <td>0.728945</td>\n",
       "      <td>8</td>\n",
       "      <td>106583124</td>\n",
       "      <td></td>\n",
       "      <td>ZFPM2</td>\n",
       "    </tr>\n",
       "    <tr>\n",
       "      <th>rs3215853</th>\n",
       "      <td>True</td>\n",
       "      <td>-0.057321</td>\n",
       "      <td>2.900000e-10</td>\n",
       "      <td>0.241165</td>\n",
       "      <td>9</td>\n",
       "      <td>273178</td>\n",
       "      <td>RDW</td>\n",
       "      <td>DOCK8</td>\n",
       "    </tr>\n",
       "    <tr>\n",
       "      <th>rs58088508</th>\n",
       "      <td>True</td>\n",
       "      <td>0.074513</td>\n",
       "      <td>1.100000e-13</td>\n",
       "      <td>0.763709</td>\n",
       "      <td>9</td>\n",
       "      <td>99087217</td>\n",
       "      <td></td>\n",
       "      <td>SLC35D2</td>\n",
       "    </tr>\n",
       "    <tr>\n",
       "      <th>rs61751937</th>\n",
       "      <td>True</td>\n",
       "      <td>-0.146098</td>\n",
       "      <td>3.600000e-09</td>\n",
       "      <td>0.971392</td>\n",
       "      <td>9</td>\n",
       "      <td>113312231</td>\n",
       "      <td>MPV PDW</td>\n",
       "      <td>SVEP1</td>\n",
       "    </tr>\n",
       "    <tr>\n",
       "      <th>rs12250755</th>\n",
       "      <td>True</td>\n",
       "      <td>0.071100</td>\n",
       "      <td>3.400000e-11</td>\n",
       "      <td>0.180595</td>\n",
       "      <td>10</td>\n",
       "      <td>3102695</td>\n",
       "      <td></td>\n",
       "      <td>LOC101927824, RP11-118K6.3</td>\n",
       "    </tr>\n",
       "    <tr>\n",
       "      <th>rs7923030</th>\n",
       "      <td>True</td>\n",
       "      <td>0.056896</td>\n",
       "      <td>2.300000e-10</td>\n",
       "      <td>0.327591</td>\n",
       "      <td>10</td>\n",
       "      <td>3106857</td>\n",
       "      <td></td>\n",
       "      <td>LOC101927824</td>\n",
       "    </tr>\n",
       "    <tr>\n",
       "      <th>rs10761741</th>\n",
       "      <td>True</td>\n",
       "      <td>-0.063015</td>\n",
       "      <td>1.500000e-14</td>\n",
       "      <td>0.582262</td>\n",
       "      <td>10</td>\n",
       "      <td>65066186</td>\n",
       "      <td></td>\n",
       "      <td>JMJD1C</td>\n",
       "    </tr>\n",
       "    <tr>\n",
       "      <th>rs1976848</th>\n",
       "      <td>True</td>\n",
       "      <td>-0.106489</td>\n",
       "      <td>8.200000e-28</td>\n",
       "      <td>0.785524</td>\n",
       "      <td>11</td>\n",
       "      <td>201584</td>\n",
       "      <td></td>\n",
       "      <td>ODF3</td>\n",
       "    </tr>\n",
       "    <tr>\n",
       "      <th>rs77408535</th>\n",
       "      <td>True</td>\n",
       "      <td>0.224611</td>\n",
       "      <td>5.700000e-20</td>\n",
       "      <td>0.971154</td>\n",
       "      <td>12</td>\n",
       "      <td>122247114</td>\n",
       "      <td></td>\n",
       "      <td>SETD1B</td>\n",
       "    </tr>\n",
       "    <tr>\n",
       "      <th>rs7961894</th>\n",
       "      <td>True</td>\n",
       "      <td>0.216591</td>\n",
       "      <td>4.200000e-69</td>\n",
       "      <td>0.884920</td>\n",
       "      <td>12</td>\n",
       "      <td>122365583</td>\n",
       "      <td></td>\n",
       "      <td>WDR66</td>\n",
       "    </tr>\n",
       "    <tr>\n",
       "      <th>rs61978213</th>\n",
       "      <td>True</td>\n",
       "      <td>-0.149870</td>\n",
       "      <td>6.000000e-13</td>\n",
       "      <td>0.957969</td>\n",
       "      <td>14</td>\n",
       "      <td>70653758</td>\n",
       "      <td></td>\n",
       "      <td>LOC646548</td>\n",
       "    </tr>\n",
       "    <tr>\n",
       "      <th>rs12445050</th>\n",
       "      <td>True</td>\n",
       "      <td>-0.096405</td>\n",
       "      <td>1.100000e-14</td>\n",
       "      <td>0.862823</td>\n",
       "      <td>16</td>\n",
       "      <td>81870969</td>\n",
       "      <td>MPV PLT# RET# RET%</td>\n",
       "      <td>PLCG2</td>\n",
       "    </tr>\n",
       "    <tr>\n",
       "      <th>rs62045701</th>\n",
       "      <td>True</td>\n",
       "      <td>-0.084140</td>\n",
       "      <td>5.500000e-12</td>\n",
       "      <td>0.857859</td>\n",
       "      <td>16</td>\n",
       "      <td>81876238</td>\n",
       "      <td></td>\n",
       "      <td>PLCG2</td>\n",
       "    </tr>\n",
       "    <tr>\n",
       "      <th>rs7188868</th>\n",
       "      <td>True</td>\n",
       "      <td>-0.077316</td>\n",
       "      <td>1.200000e-13</td>\n",
       "      <td>0.791421</td>\n",
       "      <td>16</td>\n",
       "      <td>81886135</td>\n",
       "      <td></td>\n",
       "      <td>PLCG2</td>\n",
       "    </tr>\n",
       "    <tr>\n",
       "      <th>rs7207182</th>\n",
       "      <td>True</td>\n",
       "      <td>-0.051319</td>\n",
       "      <td>4.100000e-09</td>\n",
       "      <td>0.368305</td>\n",
       "      <td>17</td>\n",
       "      <td>3816961</td>\n",
       "      <td></td>\n",
       "      <td>P2RX1</td>\n",
       "    </tr>\n",
       "    <tr>\n",
       "      <th>rs7216124</th>\n",
       "      <td>True</td>\n",
       "      <td>0.090171</td>\n",
       "      <td>2.800000e-29</td>\n",
       "      <td>0.481281</td>\n",
       "      <td>17</td>\n",
       "      <td>27699779</td>\n",
       "      <td></td>\n",
       "      <td>NUFIP2-MIR4523</td>\n",
       "    </tr>\n",
       "    <tr>\n",
       "      <th>rs2559619</th>\n",
       "      <td>True</td>\n",
       "      <td>-0.084922</td>\n",
       "      <td>7.200000e-20</td>\n",
       "      <td>0.728315</td>\n",
       "      <td>17</td>\n",
       "      <td>27876561</td>\n",
       "      <td></td>\n",
       "      <td>TAOK1</td>\n",
       "    </tr>\n",
       "    <tr>\n",
       "      <th>rs8082605</th>\n",
       "      <td>True</td>\n",
       "      <td>0.165639</td>\n",
       "      <td>2.600000e-15</td>\n",
       "      <td>0.959101</td>\n",
       "      <td>17</td>\n",
       "      <td>33864771</td>\n",
       "      <td>HLSR# HLSR% RET# RET%</td>\n",
       "      <td>SLFN12L-SLFN14</td>\n",
       "    </tr>\n",
       "    <tr>\n",
       "      <th>rs74981786</th>\n",
       "      <td>True</td>\n",
       "      <td>0.130619</td>\n",
       "      <td>7.200000e-09</td>\n",
       "      <td>0.964649</td>\n",
       "      <td>17</td>\n",
       "      <td>34032877</td>\n",
       "      <td></td>\n",
       "      <td>AP2B1</td>\n",
       "    </tr>\n",
       "    <tr>\n",
       "      <th>rs1654425</th>\n",
       "      <td>True</td>\n",
       "      <td>-0.113739</td>\n",
       "      <td>4.000000e-24</td>\n",
       "      <td>0.166187</td>\n",
       "      <td>19</td>\n",
       "      <td>55538980</td>\n",
       "      <td>MPV</td>\n",
       "      <td>GP6</td>\n",
       "    </tr>\n",
       "    <tr>\n",
       "      <th>rs415064</th>\n",
       "      <td>True</td>\n",
       "      <td>-0.869482</td>\n",
       "      <td>0.000000e+00</td>\n",
       "      <td>0.953224</td>\n",
       "      <td>20</td>\n",
       "      <td>57597971</td>\n",
       "      <td>HLSR# HLSR% MPV PCT RBC# RET# RET%</td>\n",
       "      <td>TUBB1</td>\n",
       "    </tr>\n",
       "  </tbody>\n",
       "</table>\n",
       "</div>"
      ],
      "text/plain": [
       "            causal_ADP  BETA_ADP         P_ADP    A1FREQ  CHR         BP  \\\n",
       "rs11121529        True  0.088575  9.400000e-14  0.882618    1   10271688   \n",
       "rs12566888        True  0.094093  2.400000e-10  0.910487    1  156869047   \n",
       "rs2180748         True -0.054315  2.400000e-09  0.415776    1  171947018   \n",
       "rs1768584         True -0.053530  7.800000e-10  0.621136    1  205240145   \n",
       "rs56043070        True -0.164096  5.100000e-26  0.926692    1  247719769   \n",
       "rs60726644        True -0.079342  1.500000e-12  0.848839    1  248010949   \n",
       "rs1339847         True -0.208683  5.400000e-60  0.889817    1  248039294   \n",
       "rs6739106         True  0.073190  7.000000e-18  0.304309    2  121053244   \n",
       "rs79013471        True -0.088241  1.800000e-09  0.908339    2  220096122   \n",
       "rs10164672        True -0.103094  3.200000e-12  0.922027    2  225751613   \n",
       "rs9880418         True  0.062192  7.700000e-14  0.447188    3   56809820   \n",
       "rs1354034         True -0.167253  1.200000e-90  0.404925    3   56849749   \n",
       "rs34744010        True  0.056197  1.400000e-09  0.685313    5   72023874   \n",
       "rs13357280        True  0.062432  2.700000e-14  0.531485    5  131600187   \n",
       "rs2087097         True  0.059475  3.000000e-09  0.244208    5  131625420   \n",
       "rs4734879         True  0.061073  7.800000e-11  0.728945    8  106583124   \n",
       "rs3215853         True -0.057321  2.900000e-10  0.241165    9     273178   \n",
       "rs58088508        True  0.074513  1.100000e-13  0.763709    9   99087217   \n",
       "rs61751937        True -0.146098  3.600000e-09  0.971392    9  113312231   \n",
       "rs12250755        True  0.071100  3.400000e-11  0.180595   10    3102695   \n",
       "rs7923030         True  0.056896  2.300000e-10  0.327591   10    3106857   \n",
       "rs10761741        True -0.063015  1.500000e-14  0.582262   10   65066186   \n",
       "rs1976848         True -0.106489  8.200000e-28  0.785524   11     201584   \n",
       "rs77408535        True  0.224611  5.700000e-20  0.971154   12  122247114   \n",
       "rs7961894         True  0.216591  4.200000e-69  0.884920   12  122365583   \n",
       "rs61978213        True -0.149870  6.000000e-13  0.957969   14   70653758   \n",
       "rs12445050        True -0.096405  1.100000e-14  0.862823   16   81870969   \n",
       "rs62045701        True -0.084140  5.500000e-12  0.857859   16   81876238   \n",
       "rs7188868         True -0.077316  1.200000e-13  0.791421   16   81886135   \n",
       "rs7207182         True -0.051319  4.100000e-09  0.368305   17    3816961   \n",
       "rs7216124         True  0.090171  2.800000e-29  0.481281   17   27699779   \n",
       "rs2559619         True -0.084922  7.200000e-20  0.728315   17   27876561   \n",
       "rs8082605         True  0.165639  2.600000e-15  0.959101   17   33864771   \n",
       "rs74981786        True  0.130619  7.200000e-09  0.964649   17   34032877   \n",
       "rs1654425         True -0.113739  4.000000e-24  0.166187   19   55538980   \n",
       "rs415064          True -0.869482  0.000000e+00  0.953224   20   57597971   \n",
       "\n",
       "                                          Dragana GWAS traits  \\\n",
       "rs11121529                                    MONO# MPV PLT#    \n",
       "rs12566888                                                      \n",
       "rs2180748                                                       \n",
       "rs1768584                                           MPV PLT#    \n",
       "rs56043070             HLSR# MPV MSCV PCT PDW PLT# RET# RET%    \n",
       "rs60726644                                                      \n",
       "rs1339847                      HLSR# HLSR% MPV PDW RET# RET%    \n",
       "rs6739106                                                       \n",
       "rs79013471                                                      \n",
       "rs10164672                                                      \n",
       "rs9880418                                                MPV    \n",
       "rs1354034   HLSR# HLSR% LYMPH# LYMPH% MPV PCT PLT# RET# RET%    \n",
       "rs34744010                                                      \n",
       "rs13357280                                                      \n",
       "rs2087097                                                       \n",
       "rs4734879                                                       \n",
       "rs3215853                                                RDW    \n",
       "rs58088508                                                      \n",
       "rs61751937                                           MPV PDW    \n",
       "rs12250755                                                      \n",
       "rs7923030                                                       \n",
       "rs10761741                                                      \n",
       "rs1976848                                                       \n",
       "rs77408535                                                      \n",
       "rs7961894                                                       \n",
       "rs61978213                                                      \n",
       "rs12445050                                MPV PLT# RET# RET%    \n",
       "rs62045701                                                      \n",
       "rs7188868                                                       \n",
       "rs7207182                                                       \n",
       "rs7216124                                                       \n",
       "rs2559619                                                       \n",
       "rs8082605                              HLSR# HLSR% RET# RET%    \n",
       "rs74981786                                                      \n",
       "rs1654425                                                MPV    \n",
       "rs415064                  HLSR# HLSR% MPV PCT RBC# RET# RET%    \n",
       "\n",
       "                                 genes  \n",
       "rs11121529                       KIF1B  \n",
       "rs12566888                       PEAR1  \n",
       "rs2180748                         DNM3  \n",
       "rs1768584                        TMCC2  \n",
       "rs56043070                      GCSAML  \n",
       "rs60726644               OR11L1-TRIM58  \n",
       "rs1339847                       TRIM58  \n",
       "rs6739106                         RALB  \n",
       "rs79013471                       ATG9A  \n",
       "rs10164672                      DOCK10  \n",
       "rs9880418                      ARHGEF3  \n",
       "rs1354034                      ARHGEF3  \n",
       "rs34744010          LOC102477328-TNPO1  \n",
       "rs13357280                      PDLIM4  \n",
       "rs2087097                      SLC22A4  \n",
       "rs4734879                        ZFPM2  \n",
       "rs3215853                        DOCK8  \n",
       "rs58088508                     SLC35D2  \n",
       "rs61751937                       SVEP1  \n",
       "rs12250755  LOC101927824, RP11-118K6.3  \n",
       "rs7923030                 LOC101927824  \n",
       "rs10761741                      JMJD1C  \n",
       "rs1976848                         ODF3  \n",
       "rs77408535                      SETD1B  \n",
       "rs7961894                        WDR66  \n",
       "rs61978213                   LOC646548  \n",
       "rs12445050                       PLCG2  \n",
       "rs62045701                       PLCG2  \n",
       "rs7188868                        PLCG2  \n",
       "rs7207182                        P2RX1  \n",
       "rs7216124               NUFIP2-MIR4523  \n",
       "rs2559619                        TAOK1  \n",
       "rs8082605               SLFN12L-SLFN14  \n",
       "rs74981786                       AP2B1  \n",
       "rs1654425                          GP6  \n",
       "rs415064                         TUBB1  "
      ]
     },
     "execution_count": 39,
     "metadata": {},
     "output_type": "execute_result"
    }
   ],
   "source": [
    "recap.sort_values([\"CHR\",\"BP\"])"
   ]
  },
  {
   "cell_type": "code",
   "execution_count": 40,
   "metadata": {},
   "outputs": [],
   "source": [
    "recap.to_csv(\"/home/hv270/sysmex2pf/recap_%s.csv\" % tag)"
   ]
  },
  {
   "cell_type": "code",
   "execution_count": 1,
   "metadata": {},
   "outputs": [
    {
     "ename": "NameError",
     "evalue": "name 'recap' is not defined",
     "output_type": "error",
     "traceback": [
      "\u001b[0;31m---------------------------------------------------------------------------\u001b[0m",
      "\u001b[0;31mNameError\u001b[0m                                 Traceback (most recent call last)",
      "\u001b[0;32m<ipython-input-1-4098d86d73de>\u001b[0m in \u001b[0;36m<module>\u001b[0;34m\u001b[0m\n\u001b[0;32m----> 1\u001b[0;31m \u001b[0mrecap\u001b[0m\u001b[0;34m\u001b[0m\u001b[0;34m\u001b[0m\u001b[0m\n\u001b[0m",
      "\u001b[0;31mNameError\u001b[0m: name 'recap' is not defined"
     ]
    }
   ],
   "source": []
  },
  {
   "cell_type": "markdown",
   "metadata": {},
   "source": [
    "# Manhattan plot"
   ]
  },
  {
   "cell_type": "code",
   "execution_count": 42,
   "metadata": {},
   "outputs": [
    {
     "data": {
      "image/png": "[encoded data removed]",
      "text/plain": [
       "<Figure size 1152x288 with 1 Axes>"
      ]
     },
     "metadata": {
      "needs_background": "light"
     },
     "output_type": "display_data"
    }
   ],
   "source": [
    "cmap = plt.get_cmap(\"Dark2\")\n",
    "for c in pheno_cols:\n",
    "    g = gw_.loc[gw_.pheno == c]\n",
    "    g.P = np.clip(g.P,a_min=1e-40,a_max=1)\n",
    "    plt.figure(figsize=(16,4))\n",
    "    plt.scatter(g.POS,-np.log10(g.P),c=cmap(g.CHR % 8),s=1 + 15*g.SNP.isin(significant_SNPs[c]))\n",
    "    plt.xticks([g.loc[g.CHR == ch,\"POS\"].min() for ch in range(1,23)],[str(ch) for ch in range(1,23)])\n",
    "    plt.axhline(8,c=\"red\",ls=\":\",lw=1)\n",
    "    written_genes = []\n",
    "    for i, snp in enumerate(recap.loc[recap[\"causal_%s\" % c]].index):\n",
    "        pos = g.loc[g.SNP == snp,\"POS\"] #+ (i % 2)*1e7 - 5e6\n",
    "        height = 1 - np.log10(g.loc[g.SNP == snp,\"P\"])\n",
    "        gene = recap.loc[snp,\"genes\"]\n",
    "        if gene not in written_genes:\n",
    "            plt.text(pos, height,gene,ha=\"right\" if i % 2 == 0 else \"left\")\n",
    "            written_genes.append(gene)\n",
    "    plt.axis(\"off\")\n",
    "    plt.xlim((g.POS.min()-1e7,g.POS.max() + 1e7))"
   ]
  },
  {
   "cell_type": "markdown",
   "metadata": {},
   "source": [
    "# Compute score"
   ]
  },
  {
   "cell_type": "code",
   "execution_count": 43,
   "metadata": {},
   "outputs": [],
   "source": [
    "causal_snps = {}\n",
    "for c in pheno_cols:\n",
    "    causal_path = \"%s/conditional_analysis/causal_SNPs_%s_%s.txt\" % (export_folder,tag,c)\n",
    "    causal_snps[c] = [c[:-1] for c in open(causal_path,\"r\").readlines()]"
   ]
  },
  {
   "cell_type": "code",
   "execution_count": 44,
   "metadata": {},
   "outputs": [],
   "source": [
    "good = {}\n",
    "for c in pheno_cols:\n",
    "    good[c] = gw.loc[(gw.pheno == c) & (gw.SNP.isin(causal_snps[c]))]"
   ]
  },
  {
   "cell_type": "code",
   "execution_count": 45,
   "metadata": {},
   "outputs": [],
   "source": [
    "first_pheno = pheno_cols[0]\n",
    "betas = good[first_pheno][[\"SNP\",\"BETA\"]].rename(columns={\"BETA\":first_pheno})\n",
    "for c in pheno_cols[1:]:\n",
    "    betas = pd.merge(betas,good[c][[\"SNP\",\"BETA\"]].rename(columns={\"BETA\":c}),\n",
    "                     left_on=\"SNP\",right_on=\"SNP\",how=\"outer\")\n",
    "betas = pd.merge(betas,gw.loc[gw.pheno == \"ADP\",[\"SNP\",\"ALLELE1\"]],left_on=\"SNP\",right_on=\"SNP\",how=\"left\")\n",
    "betas = betas[[\"SNP\",\"ALLELE1\"] + pheno_cols]\n",
    "betas.fillna(0,inplace=True)\n",
    "assert betas.shape[0] == betas.SNP.nunique()"
   ]
  },
  {
   "cell_type": "code",
   "execution_count": 46,
   "metadata": {},
   "outputs": [
    {
     "name": "stdout",
     "output_type": "stream",
     "text": [
      "[1, 2, 3, 5, 8, 9, 10, 11, 12, 14, 16, 17, 19, 20]\n"
     ]
    }
   ],
   "source": [
    "good_chroms = []\n",
    "for c in good:\n",
    "    good_chroms += good[c].CHR.unique().tolist()\n",
    "good_chroms = list(set(good_chroms))\n",
    "print(good_chroms)"
   ]
  },
  {
   "cell_type": "code",
   "execution_count": 47,
   "metadata": {
    "scrolled": true
   },
   "outputs": [
    {
     "data": {
      "text/html": [
       "<div>\n",
       "<style scoped>\n",
       "    .dataframe tbody tr th:only-of-type {\n",
       "        vertical-align: middle;\n",
       "    }\n",
       "\n",
       "    .dataframe tbody tr th {\n",
       "        vertical-align: top;\n",
       "    }\n",
       "\n",
       "    .dataframe thead th {\n",
       "        text-align: right;\n",
       "    }\n",
       "</style>\n",
       "<table border=\"1\" class=\"dataframe\">\n",
       "  <thead>\n",
       "    <tr style=\"text-align: right;\">\n",
       "      <th></th>\n",
       "      <th>SNP</th>\n",
       "      <th>ALLELE1</th>\n",
       "      <th>ADP</th>\n",
       "    </tr>\n",
       "  </thead>\n",
       "  <tbody>\n",
       "    <tr>\n",
       "      <th>0</th>\n",
       "      <td>rs11121529</td>\n",
       "      <td>C</td>\n",
       "      <td>0.088575</td>\n",
       "    </tr>\n",
       "    <tr>\n",
       "      <th>1</th>\n",
       "      <td>rs12566888</td>\n",
       "      <td>G</td>\n",
       "      <td>0.094093</td>\n",
       "    </tr>\n",
       "    <tr>\n",
       "      <th>2</th>\n",
       "      <td>rs2180748</td>\n",
       "      <td>T</td>\n",
       "      <td>-0.054315</td>\n",
       "    </tr>\n",
       "    <tr>\n",
       "      <th>3</th>\n",
       "      <td>rs1768584</td>\n",
       "      <td>A</td>\n",
       "      <td>-0.053530</td>\n",
       "    </tr>\n",
       "    <tr>\n",
       "      <th>4</th>\n",
       "      <td>rs56043070</td>\n",
       "      <td>G</td>\n",
       "      <td>-0.164096</td>\n",
       "    </tr>\n",
       "  </tbody>\n",
       "</table>\n",
       "</div>"
      ],
      "text/plain": [
       "          SNP ALLELE1       ADP\n",
       "0  rs11121529       C  0.088575\n",
       "1  rs12566888       G  0.094093\n",
       "2   rs2180748       T -0.054315\n",
       "3   rs1768584       A -0.053530\n",
       "4  rs56043070       G -0.164096"
      ]
     },
     "execution_count": 47,
     "metadata": {},
     "output_type": "execute_result"
    }
   ],
   "source": [
    "betas.head()"
   ]
  },
  {
   "cell_type": "code",
   "execution_count": 48,
   "metadata": {},
   "outputs": [],
   "source": [
    "if not os.path.exists(\"%s/Genetic_score_Sysmex_traits/%s\" % (export_folder,tag)):\n",
    "    os.mkdir(\"%s/Genetic_score_Sysmex_traits/%s\" % (export_folder,tag))"
   ]
  },
  {
   "cell_type": "code",
   "execution_count": 49,
   "metadata": {},
   "outputs": [
    {
     "name": "stdout",
     "output_type": "stream",
     "text": [
      "Submitting 1\n",
      "Submitting 2\n",
      "Submitting 3\n",
      "Submitting 5\n",
      "Submitting 8\n",
      "Submitting 9\n",
      "Submitting 10\n",
      "Submitting 11\n",
      "Submitting 12\n",
      "Submitting 14\n",
      "Submitting 16\n",
      "Submitting 17\n",
      "Submitting 19\n",
      "Submitting 20\n"
     ]
    }
   ],
   "source": [
    "betas_path = \"%s/Genetic_score_Sysmex_traits/betas.csv\" % (export_folder)\n",
    "betas.to_csv(betas_path,\n",
    "            sep=\"\\t\",index=False)\n",
    "\n",
    "n_splits = 16\n",
    "\n",
    "all_causal_path = \"%s/conditional_analysis/causal_SNPs_%s_all.txt\" % (export_folder,tag)\n",
    "\n",
    "for chrom in good_chroms:\n",
    "    command = \"/home/hv270/Plink2/plink2\"\n",
    "    command += \" --bgen /rds/project/wja24/rds-wja24-uk-biobank-gen/bgen/ukb_imp_chr%s_v3.bgen\" % chrom\n",
    "    command += \" --sample /rds/project/wja24/rds-wja24-uk-biobank-gen/13745_specific/sample/ukb13745_imp_chr%s_v3_s487378.sample\" % chrom\n",
    "    #command += \" --extract %s\" % causal_snps_path\n",
    "    command += \" --keep %s\" % EUR_path\n",
    "    command += \" --extract %s\" % all_causal_path\n",
    "    command += \" --score %s header-read\" % betas_path\n",
    "    if len(pheno_cols) > 1:\n",
    "        command += \" --score-col-nums 3-%d\" % (2 + len(pheno_cols))\n",
    "    else:\n",
    "        command += \" --score-col-nums 3\"\n",
    "    command += \" --out %s/Genetic_score_Sysmex_traits/%s/good_score_chr%s\" % (export_folder,tag,chrom)\n",
    "    command += \" --threads %d\" % n_splits\n",
    "\n",
    "    f_name = \"/home/hv270/interval_slurm_calls/call_gs_chr_%s_%s.sh\" % (chrom,tag)\n",
    "    f = open(f_name,\"w+\")\n",
    "    f.write(\"#!/bin/sh\\n\")\n",
    "\n",
    "    f.write(\"#SBATCH -J chr%s\\n\" % (chrom))\n",
    "    f.write(\"#SBATCH -A ASTLE-SL2-CPU\\n\")\n",
    "    f.write(\"#SBATCH -N 1\\n\")\n",
    "    f.write(\"#SBATCH -n %d\\n\" % n_splits)\n",
    "    f.write(\"#SBATCH --time=8:30:00\\n\")\n",
    "    f.write(\"#SBATCH -p skylake-himem\\n\")\n",
    "    f.write(\"#SBATCH --output=/home/hv270/slurm_log/%s_%s_%s.out\\n\" % (\"GS\",tag,chrom))\n",
    "    f.write(\"export OMP_NUM_THREADS=%d\\n\" % n_splits)\n",
    "\n",
    "    f.write(\". /etc/profile.d/modules.sh\\n\")\n",
    "    f.write(\"module purge\\n\")\n",
    "    f.write(\"module load rhel7/default-peta4\\n\")\n",
    "    f.write(command)\n",
    "    f.close()\n",
    "\n",
    "    print(\"Submitting %s\" % (chrom))\n",
    "    p = subprocess.Popen(\"sbatch %s\" % f_name,shell=True)\n",
    "    p.wait()"
   ]
  },
  {
   "cell_type": "code",
   "execution_count": null,
   "metadata": {},
   "outputs": [],
   "source": []
  }
 ],
 "metadata": {
  "kernelspec": {
   "display_name": "Python 3",
   "language": "python",
   "name": "python3"
  },
  "language_info": {
   "codemirror_mode": {
    "name": "ipython",
    "version": 3
   },
   "file_extension": ".py",
   "mimetype": "text/x-python",
   "name": "python",
   "nbconvert_exporter": "python",
   "pygments_lexer": "ipython3",
   "version": "3.7.3"
  },
  "toc": {
   "base_numbering": 1,
   "nav_menu": {},
   "number_sections": true,
   "sideBar": true,
   "skip_h1_title": false,
   "title_cell": "Table of Contents",
   "title_sidebar": "Contents",
   "toc_cell": false,
   "toc_position": {},
   "toc_section_display": true,
   "toc_window_display": true
  }
 },
 "nbformat": 4,
 "nbformat_minor": 2
}
