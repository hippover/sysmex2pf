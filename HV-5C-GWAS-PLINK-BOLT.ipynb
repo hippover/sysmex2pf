{
 "cells": [
  {
   "cell_type": "code",
   "execution_count": 1,
   "metadata": {},
   "outputs": [
    {
     "name": "stderr",
     "output_type": "stream",
     "text": [
      "/home/hv270/platelets/lib/python3.7/site-packages/FlowCytometryTools/core/docstring.py:56: MatplotlibDeprecationWarning: \n",
      "The dedent function was deprecated in Matplotlib 3.1 and will be removed in 3.3. Use inspect.cleandoc instead.\n",
      "  doc = dedent(doc)\n"
     ]
    }
   ],
   "source": [
    "import pandas as pd\n",
    "import numpy as np\n",
    "import ruptures as rp\n",
    "from prediction_pipeline.preprocessing import *\n",
    "from sklearn.linear_model import LinearRegression\n",
    "from glob import glob\n",
    "%load_ext autoreload\n",
    "%autoreload 2\n",
    "\n",
    "from sklearn.decomposition import PCA, FactorAnalysis\n",
    "from sklearn.cross_decomposition import PLSRegression\n",
    "from collections import defaultdict \n",
    "from scipy.stats import pearsonr\n",
    "from sklearn.metrics import r2_score\n",
    "from sklearn.model_selection import RepeatedStratifiedKFold\n",
    "from sklearn.preprocessing import RobustScaler\n",
    "import os\n",
    "import subprocess"
   ]
  },
  {
   "cell_type": "code",
   "execution_count": 2,
   "metadata": {},
   "outputs": [],
   "source": [
    "data_dir = \"/home/hv270/rds/rds-who1000-cbrc/user/wja24/shared/hv270/data_home\"\n",
    "export_folder = \"/home/hv270/rds/rds-who1000-cbrc/user/wja24/shared/hippolyte_only/interval_processing\""
   ]
  },
  {
   "cell_type": "code",
   "execution_count": 3,
   "metadata": {},
   "outputs": [],
   "source": [
    "tag = \"20_dec_21\"\n",
    "tag_path = \"%s/%s\" % (export_folder,tag) \n",
    "tag_score_path = \"%s/Genetic_score/%s\" % (export_folder,tag) \n",
    "if not os.path.exists(tag_path): os.mkdir(tag_path)\n",
    "if not os.path.exists(tag_score_path): os.mkdir(tag_score_path)"
   ]
  },
  {
   "cell_type": "markdown",
   "metadata": {},
   "source": [
    "# Tags\n",
    "\n",
    "## 9jun\n",
    "\n",
    "- factor analysis pour décomposer les scattergrams.\n",
    "- PLS pour l'ajustement des features et l'estimation par les covariates\n",
    "- PCT enlevé des covariates, IPF y est bien par contre\n",
    "- N_PLS_COMPS = 1\n",
    "\n",
    "## 10jun\n",
    "\n",
    "idem + :\n",
    "- phase A & B, 2K cellules / scattergram\n",
    "\n",
    "## 11jun\n",
    "\n",
    "idem + :\n",
    "- PCT gardé comme covariate\n",
    "- PCA pour les features au lieu de FA\n",
    "- ajustement des features par PLS mais avec 3 composantes. PLS fittée séparément pour int et sys\n",
    "\n",
    "jusqu'ici, PEAR1 avait une P-value autour de 0,1... mais avec ça, elle passe à 1E-7. C'est bien, mais il faut pousser encore. Je pense que c'est l'ajustement qui compte beaucoup.\n",
    "\n",
    "## 11jun_WE\n",
    "\n",
    "idem + :\n",
    "- 4 composantes dans la PLS d'ajustement\n",
    "- On essaie le GWAS sur les _FIB\n",
    "\n",
    "-> On a PEAR1 ! :) \n",
    "\n",
    "## 15jun\n",
    "\n",
    "idem + :\n",
    "- normalisé chaque features par sa STD après ajustement, séparément pour train et pour interval\n",
    "\n",
    "-> Ca marche moins bien...\n",
    "\n",
    "## 16jun\n",
    "\n",
    "- enlevé la normalisation\n",
    "- Remarqué que la covariance est différente entre les variables ajustées de INT et de TRAIN, donc X_int = PCA_train_inv(PCA_int(X_int))\n",
    "\n",
    "-> Ne marche pas\n",
    "\n",
    "## 21 juin\n",
    "\n",
    "- même process, en sélectionnant moins de features (6)\n",
    "\n",
    "-> PEAR1 est à 4e-7 en PLINK. À suivre\n",
    "\n",
    "## 21 juin no_pca\n",
    "\n",
    "- même process, enlevé la PCA\n",
    "\n",
    "-> 4e-7 mais Beta opposé !?\n",
    "\n",
    "## 21jun_nopca_3feats\n",
    "\n",
    "- on ne garde que 3 features\n",
    "\n",
    "-> 6e-7\n",
    "\n",
    "## 21jun_3feats_fixedpca\n",
    "\n",
    "- Problème de PCA résolu : on s'assure que les composantes des PCA post-ajustement sont à peu près les mêmes (on ne vérifiait pas que les signes concordaient...)\n",
    "\n",
    "-> Marche pas mieux, la PCA n'est pas adaptée\n",
    "\n",
    "## 22jun_cholesky\n",
    "\n",
    "- On décorrèle et recorrèle les données avec une Cholesky\n",
    "- On repasse avec 6 features\n",
    "- On clippe à -4 - +4\n",
    "- On remultiplie par les STD post-ajustement -> 1e-7 !\n",
    "\n",
    "## 22jun_cholesky_3feats\n",
    "\n",
    "- idem avec 3 features\n",
    "- Vu qu'il y a peu de features, on utilise juste une régression linéaire à la place de la PLS pour la prédiction des phenotypes. Ca marche mieux (on explique plus de R^2) -> 8e-7\n",
    "\n",
    "## 22jun_cholesky_3feats_adjust\n",
    "\n",
    "- en plus, on fait un ajustement à la toute fin du processus\n",
    "\n",
    "-> 7e-7\n",
    "\n",
    "## 22jun_3feats_adjust\n",
    "\n",
    "- No cholesky\n",
    "- min cohort size = 200\n",
    "\n",
    "-> 1.7e-7\n",
    "\n",
    "## 22jun_adjust\n",
    "\n",
    "- Back to 6 features\n",
    "\n",
    "-> 2e-8 !!\n",
    "\n",
    "## 22jun_adj_feats\n",
    "\n",
    "- Adjust features before fit and prediction\n",
    "- PLS instead of LR\n",
    "- back to all features\n",
    "\n",
    "-> 4.7e-9 !\n",
    "\n",
    "- Try adding cholesky adjustment, it breaks the p-value. Maybe there's a better way to \n",
    "\n",
    "## 25jun_sep_PCA\n",
    "\n",
    "- Try to use different PCAs for both cohorts\n",
    "\n",
    "-> 2e-8\n",
    "\n",
    "## 5_july_gating\n",
    "\n",
    "- Changed gating\n",
    "- Kept more platelets per sample\n",
    "- Kept individuals with PLT count discrepancies\n",
    "- Same PCA for both cohorts\n",
    "\n",
    "## 26 july\n",
    "\n",
    "- Filter upper left corner (kept first rows of .fcs and .116 files)\n",
    "- adjust STD of scatter signal -> marche pas\n",
    "\n",
    "## 27 july\n",
    "\n",
    "-> Ce qui marche le mieux est l'ajustement à la toute fin. Voir si prendre les données de scatter ajustées aide.\n",
    "-> Dernier truc à explorer : time_of_the_day x machine & regarder les cohortes qui n'ont pas un bon p\n",
    "\n",
    "## 25 oct\n",
    "\n",
    "- PCA par individu pour trouver les cohortes, puis par cohorte"
   ]
  },
  {
   "cell_type": "code",
   "execution_count": 4,
   "metadata": {},
   "outputs": [],
   "source": [
    "features_cols = pd.read_hdf(\"%s/processed/features.hdf\" % data_dir).columns\n",
    "unadjusted_features_cols = [\"%s_unadjusted\" % f for f in features_cols]"
   ]
  },
  {
   "cell_type": "markdown",
   "metadata": {},
   "source": [
    "# Matching tables"
   ]
  },
  {
   "cell_type": "code",
   "execution_count": 5,
   "metadata": {},
   "outputs": [],
   "source": [
    "matching = pd.read_csv(\"/home/hv270/rds/rds-who1000-cbrc/user/wja24/shared/hippolyte_only/interval_phenotypes/INTERVAL_OmicsMap_20200514.csv\", sep=\",\")\n",
    "has_one_id = ~matching[\"Affymetrix_QC_bl\"].isnull() | ~matching[\"Affymetrix_QC_24m\"].isnull()\n",
    "matching = matching.loc[has_one_id]\n",
    "matching[\"AffyID\"] = matching[\"Affymetrix_QC_bl\"]\n",
    "matching.loc[matching.AffyID.isnull(),\"AffyID\"] = matching.loc[matching.AffyID.isnull(),\"Affymetrix_QC_24m\"]"
   ]
  },
  {
   "cell_type": "code",
   "execution_count": 6,
   "metadata": {},
   "outputs": [
    {
     "name": "stdout",
     "output_type": "stream",
     "text": [
      "Loading INTERVAL phenotypes\n",
      "(48460, 760)\n",
      "(45040, 760)\n",
      "(38832, 760)\n",
      "(112535, 11)\n",
      "(102595, 11)\n",
      "(17768, 772)\n",
      "(32574, 777)\n",
      "(32727, 777)\n",
      "Checked that each Sample has one row max\n",
      "Removing samples with less than 10 measurements per day\n",
      "(30725, 782)\n"
     ]
    }
   ],
   "source": [
    "int_phen, meta = get_INTERVAL_phenotypes()"
   ]
  },
  {
   "cell_type": "code",
   "execution_count": 7,
   "metadata": {},
   "outputs": [],
   "source": [
    "meta = pd.merge(matching,int_phen,left_on=\"identifier\", right_on=\"identifier\")\n",
    "meta[\"IID\"] = meta[\"AffyID\"].astype(int).astype(str)\n",
    "meta[\"FID\"] = meta[\"AffyID\"].astype(int).astype(str)\n",
    "meta = meta.loc[meta.ethnicPulse == \"Eng/W/Scot/NI/Brit\"]\n",
    "meta[\"cohort\"] = meta.interval"
   ]
  },
  {
   "cell_type": "code",
   "execution_count": null,
   "metadata": {},
   "outputs": [],
   "source": []
  },
  {
   "cell_type": "code",
   "execution_count": 8,
   "metadata": {},
   "outputs": [
    {
     "data": {
      "text/plain": [
       "M12    5025\n",
       "M10    4956\n",
       "F14    4948\n",
       "M08    4877\n",
       "F12    4868\n",
       "F16    4856\n",
       "Name: cohort, dtype: int64"
      ]
     },
     "execution_count": 8,
     "metadata": {},
     "output_type": "execute_result"
    }
   ],
   "source": [
    "meta.cohort.value_counts()"
   ]
  },
  {
   "cell_type": "markdown",
   "metadata": {},
   "source": [
    "## Load table from 5B"
   ]
  },
  {
   "cell_type": "code",
   "execution_count": 9,
   "metadata": {},
   "outputs": [],
   "source": [
    "X = pd.read_csv(\"%s/processed/predictions_lassoCV.csv\" % data_dir,index_col=\"SampleNo\")"
   ]
  },
  {
   "cell_type": "code",
   "execution_count": 10,
   "metadata": {},
   "outputs": [],
   "source": [
    "X = pd.merge(X,meta[[\"IID\",\"FID\",\"SampleNo\",\"cohort\"]].rename(columns={\"cohort\":\"interval_cohort\"}),left_index=True,right_on=\"SampleNo\",how=\"inner\")\n",
    "del X[\"SampleNo\"]"
   ]
  },
  {
   "cell_type": "code",
   "execution_count": 11,
   "metadata": {},
   "outputs": [
    {
     "data": {
      "text/plain": [
       "Index(['ADP_pred', 'SEX', 'AGE', 'PLT', 'MPV', 'PDW', 'PCT', 'IPF', 'cohort',\n",
       "       'median_0', 'median_1', 'upper_0', 'upper_1', 'lower_0', 'lower_1',\n",
       "       'std_0', 'std_1', 'iqr_0', 'iqr_1', 'ratio_upper', 'ratio_lower',\n",
       "       'ratio_std', 'std_2_high', 'std_2_low', 'machine', 'cohort_all',\n",
       "       'ADP_PSEL', 'ADP_FIB', 'ADP', 'CRP_PSEL', 'CRP_FIB', 'CRP', 'TRAP_PSEL',\n",
       "       'TRAP_FIB', 'TRAP', 'PAR1_PSEL', 'PAR1_FIB', 'PAR1', 'PAR4_PSEL',\n",
       "       'PAR4_FIB', 'PAR4', 'PEAR1', 'PC1', 'PC2', 'PC3', 'PC4', 'PC5', 'PC6',\n",
       "       'PC7', 'PC8', 'PC9', 'PC10', 'Instrument', 'days_since_start', 'IID',\n",
       "       'FID', 'interval_cohort'],\n",
       "      dtype='object')"
      ]
     },
     "execution_count": 11,
     "metadata": {},
     "output_type": "execute_result"
    }
   ],
   "source": [
    "X.columns"
   ]
  },
  {
   "cell_type": "code",
   "execution_count": 12,
   "metadata": {},
   "outputs": [],
   "source": [
    "covar_columns = [\"SEX\",\"AGE\",\"interval_cohort\"] + [\"PC%d\" % d for d in range(1,10)]"
   ]
  },
  {
   "cell_type": "markdown",
   "metadata": {},
   "source": [
    "# GWAS just on PEAR1"
   ]
  },
  {
   "cell_type": "markdown",
   "metadata": {},
   "source": [
    "## With PCs"
   ]
  },
  {
   "cell_type": "code",
   "execution_count": 43,
   "metadata": {},
   "outputs": [],
   "source": [
    "Y = X[[\"FID\",\"IID\"] + [\"ADP_pred\"]]\n",
    "C = X[[\"FID\",\"IID\"] + [\"AGE\",\"SEX\"] + [\"PC%d\" % d for d in range(1,10)]]\n",
    "cohort_dummies = pd.get_dummies(X[\"interval_cohort\"],drop_first=True)\n",
    "C[cohort_dummies.columns] = cohort_dummies"
   ]
  },
  {
   "cell_type": "code",
   "execution_count": 44,
   "metadata": {},
   "outputs": [],
   "source": [
    "Y.to_csv(\"%s/%s/hippo_ADP_pred.csv\" % (export_folder,tag), index=False,header=True, sep=\"\\t\")\n",
    "C.to_csv(\"%s/%s/covariates_no_sysmex_PCs.csv\" % (export_folder,tag), index=False,header=True, sep=\"\\t\")"
   ]
  },
  {
   "cell_type": "code",
   "execution_count": null,
   "metadata": {},
   "outputs": [],
   "source": []
  },
  {
   "cell_type": "code",
   "execution_count": 45,
   "metadata": {},
   "outputs": [],
   "source": [
    "k = 1\n",
    "n_splits = 4\n",
    "command = \"/home/hv270/plink2\"\n",
    "\n",
    "command += \" --bfile /home/hv270/rds/rds-who1000-cbrc/user/wja24/shared/hv270/interval_genotypes/chr_%d\" % k\n",
    "command += \" --glm hide-covar\"\n",
    "command += \" --extract /home/hv270/pear1\"\n",
    "command += \" --keep %s/king-cutoff.king.cutoff.in.id\" % export_folder\n",
    "command += \" --pheno %s/%s/hippo_ADP_pred.csv\" % (export_folder, tag)\n",
    "command += \" --covar %s/%s/covariates_no_sysmex_PCs.csv\" % (export_folder, tag)\n",
    "command += \" --out %s/%s/chr_%d_ADP_PCs\" % (export_folder, tag,k)\n",
    "command += \" --threads %d\" % n_splits\n",
    "command += \" --allow-no-sex\"\n",
    "command += \" --variance-standardize\""
   ]
  },
  {
   "cell_type": "code",
   "execution_count": 46,
   "metadata": {},
   "outputs": [
    {
     "data": {
      "text/plain": [
       "'/home/hv270/plink2 --bfile /home/hv270/rds/rds-who1000-cbrc/user/wja24/shared/hv270/interval_genotypes/chr_1 --glm hide-covar --extract /home/hv270/pear1 --keep /home/hv270/rds/rds-who1000-cbrc/user/wja24/shared/hippolyte_only/interval_processing/king-cutoff.king.cutoff.in.id --pheno /home/hv270/rds/rds-who1000-cbrc/user/wja24/shared/hippolyte_only/interval_processing/20_dec_21/hippo_ADP_pred.csv --covar /home/hv270/rds/rds-who1000-cbrc/user/wja24/shared/hippolyte_only/interval_processing/20_dec_21/covariates_no_sysmex_PCs.csv --out /home/hv270/rds/rds-who1000-cbrc/user/wja24/shared/hippolyte_only/interval_processing/20_dec_21/chr_1_ADP_PCs --threads 4 --allow-no-sex --variance-standardize'"
      ]
     },
     "execution_count": 46,
     "metadata": {},
     "output_type": "execute_result"
    }
   ],
   "source": [
    "command"
   ]
  },
  {
   "cell_type": "code",
   "execution_count": 47,
   "metadata": {},
   "outputs": [
    {
     "data": {
      "text/plain": [
       "0"
      ]
     },
     "execution_count": 47,
     "metadata": {},
     "output_type": "execute_result"
    }
   ],
   "source": [
    "p = subprocess.Popen(command,shell=True)\n",
    "p.wait()"
   ]
  },
  {
   "cell_type": "code",
   "execution_count": null,
   "metadata": {},
   "outputs": [],
   "source": []
  },
  {
   "cell_type": "code",
   "execution_count": 48,
   "metadata": {},
   "outputs": [],
   "source": [
    "files = glob(\"%s/%s/chr_1_ADP_PCs.*.glm.linear\" % (export_folder,tag))"
   ]
  },
  {
   "cell_type": "code",
   "execution_count": 49,
   "metadata": {},
   "outputs": [
    {
     "data": {
      "text/plain": [
       "['/home/hv270/rds/rds-who1000-cbrc/user/wja24/shared/hippolyte_only/interval_processing/20_dec_21/chr_1_ADP_PCs.ADP_pred.glm.linear']"
      ]
     },
     "execution_count": 49,
     "metadata": {},
     "output_type": "execute_result"
    }
   ],
   "source": [
    "files"
   ]
  },
  {
   "cell_type": "code",
   "execution_count": 50,
   "metadata": {},
   "outputs": [],
   "source": [
    "dfs = []\n",
    "for f in sorted(files):\n",
    "    df = pd.read_csv(f,sep=\"\\t\")\n",
    "    df[\"pheno\"] = f.split(\".\")[-3]\n",
    "    dfs.append(df)\n",
    "df = pd.concat(dfs,axis=0)"
   ]
  },
  {
   "cell_type": "code",
   "execution_count": 51,
   "metadata": {},
   "outputs": [
    {
     "data": {
      "text/html": [
       "<div>\n",
       "<style scoped>\n",
       "    .dataframe tbody tr th:only-of-type {\n",
       "        vertical-align: middle;\n",
       "    }\n",
       "\n",
       "    .dataframe tbody tr th {\n",
       "        vertical-align: top;\n",
       "    }\n",
       "\n",
       "    .dataframe thead th {\n",
       "        text-align: right;\n",
       "    }\n",
       "</style>\n",
       "<table border=\"1\" class=\"dataframe\">\n",
       "  <thead>\n",
       "    <tr style=\"text-align: right;\">\n",
       "      <th></th>\n",
       "      <th>#CHROM</th>\n",
       "      <th>POS</th>\n",
       "      <th>ID</th>\n",
       "      <th>REF</th>\n",
       "      <th>ALT</th>\n",
       "      <th>A1</th>\n",
       "      <th>TEST</th>\n",
       "      <th>OBS_CT</th>\n",
       "      <th>BETA</th>\n",
       "      <th>SE</th>\n",
       "      <th>T_STAT</th>\n",
       "      <th>P</th>\n",
       "      <th>pheno</th>\n",
       "    </tr>\n",
       "  </thead>\n",
       "  <tbody>\n",
       "    <tr>\n",
       "      <th>0</th>\n",
       "      <td>1</td>\n",
       "      <td>156869047</td>\n",
       "      <td>rs12566888</td>\n",
       "      <td>T</td>\n",
       "      <td>G</td>\n",
       "      <td>T</td>\n",
       "      <td>ADD</td>\n",
       "      <td>23546</td>\n",
       "      <td>-0.159631</td>\n",
       "      <td>0.015727</td>\n",
       "      <td>-10.1502</td>\n",
       "      <td>3.707650e-24</td>\n",
       "      <td>ADP_pred</td>\n",
       "    </tr>\n",
       "  </tbody>\n",
       "</table>\n",
       "</div>"
      ],
      "text/plain": [
       "   #CHROM        POS          ID REF ALT A1 TEST  OBS_CT      BETA        SE  \\\n",
       "0       1  156869047  rs12566888   T   G  T  ADD   23546 -0.159631  0.015727   \n",
       "\n",
       "    T_STAT             P     pheno  \n",
       "0 -10.1502  3.707650e-24  ADP_pred  "
      ]
     },
     "execution_count": 51,
     "metadata": {},
     "output_type": "execute_result"
    }
   ],
   "source": [
    "df"
   ]
  },
  {
   "cell_type": "markdown",
   "metadata": {},
   "source": [
    "## Run without MPV (whole genome)"
   ]
  },
  {
   "cell_type": "code",
   "execution_count": 53,
   "metadata": {},
   "outputs": [],
   "source": [
    "Y = X[[\"FID\",\"IID\"] + [\"ADP_pred\"]]\n",
    "C = X[[\"FID\",\"IID\"] + [\"AGE\",\"SEX\"] + [\"PC%d\" % d for d in range(1,10)]]\n",
    "cohort_dummies = pd.get_dummies(X[\"interval_cohort\"],drop_first=True)\n",
    "C[cohort_dummies.columns] = cohort_dummies\n",
    "\n",
    "Y.to_csv(\"%s/%s/hippo_ADP.csv\" % (export_folder,tag), index=False,header=True, sep=\"\\t\")\n",
    "C.to_csv(\"%s/%s/covariates_PCs_noMPV.csv\" % (export_folder,tag), index=False,header=True, sep=\"\\t\")"
   ]
  },
  {
   "cell_type": "code",
   "execution_count": 54,
   "metadata": {},
   "outputs": [
    {
     "name": "stdout",
     "output_type": "stream",
     "text": [
      "/home/hv270/plink2 --bfile /home/hv270/rds/rds-who1000-cbrc/user/wja24/shared/hv270/interval_genotypes/chr_1 --glm hide-covar --keep /home/hv270/rds/rds-who1000-cbrc/user/wja24/shared/hippolyte_only/interval_processing/king-cutoff.king.cutoff.in.id --pheno /home/hv270/rds/rds-who1000-cbrc/user/wja24/shared/hippolyte_only/interval_processing/20_dec_21/hippo_ADP.csv --covar /home/hv270/rds/rds-who1000-cbrc/user/wja24/shared/hippolyte_only/interval_processing/20_dec_21/covariates_PCs_noMPV.csv --out /home/hv270/rds/rds-who1000-cbrc/user/wja24/shared/hippolyte_only/interval_processing/20_dec_21/chr_1_ADP_noMPV --threads 12 --allow-no-sex --variance-standardize\n",
      "/home/hv270/plink2 --bfile /home/hv270/rds/rds-who1000-cbrc/user/wja24/shared/hv270/interval_genotypes/chr_2 --glm hide-covar --keep /home/hv270/rds/rds-who1000-cbrc/user/wja24/shared/hippolyte_only/interval_processing/king-cutoff.king.cutoff.in.id --pheno /home/hv270/rds/rds-who1000-cbrc/user/wja24/shared/hippolyte_only/interval_processing/20_dec_21/hippo_ADP.csv --covar /home/hv270/rds/rds-who1000-cbrc/user/wja24/shared/hippolyte_only/interval_processing/20_dec_21/covariates_PCs_noMPV.csv --out /home/hv270/rds/rds-who1000-cbrc/user/wja24/shared/hippolyte_only/interval_processing/20_dec_21/chr_2_ADP_noMPV --threads 12 --allow-no-sex --variance-standardize\n",
      "/home/hv270/plink2 --bfile /home/hv270/rds/rds-who1000-cbrc/user/wja24/shared/hv270/interval_genotypes/chr_3 --glm hide-covar --keep /home/hv270/rds/rds-who1000-cbrc/user/wja24/shared/hippolyte_only/interval_processing/king-cutoff.king.cutoff.in.id --pheno /home/hv270/rds/rds-who1000-cbrc/user/wja24/shared/hippolyte_only/interval_processing/20_dec_21/hippo_ADP.csv --covar /home/hv270/rds/rds-who1000-cbrc/user/wja24/shared/hippolyte_only/interval_processing/20_dec_21/covariates_PCs_noMPV.csv --out /home/hv270/rds/rds-who1000-cbrc/user/wja24/shared/hippolyte_only/interval_processing/20_dec_21/chr_3_ADP_noMPV --threads 12 --allow-no-sex --variance-standardize\n",
      "/home/hv270/plink2 --bfile /home/hv270/rds/rds-who1000-cbrc/user/wja24/shared/hv270/interval_genotypes/chr_4 --glm hide-covar --keep /home/hv270/rds/rds-who1000-cbrc/user/wja24/shared/hippolyte_only/interval_processing/king-cutoff.king.cutoff.in.id --pheno /home/hv270/rds/rds-who1000-cbrc/user/wja24/shared/hippolyte_only/interval_processing/20_dec_21/hippo_ADP.csv --covar /home/hv270/rds/rds-who1000-cbrc/user/wja24/shared/hippolyte_only/interval_processing/20_dec_21/covariates_PCs_noMPV.csv --out /home/hv270/rds/rds-who1000-cbrc/user/wja24/shared/hippolyte_only/interval_processing/20_dec_21/chr_4_ADP_noMPV --threads 12 --allow-no-sex --variance-standardize\n",
      "/home/hv270/plink2 --bfile /home/hv270/rds/rds-who1000-cbrc/user/wja24/shared/hv270/interval_genotypes/chr_5 --glm hide-covar --keep /home/hv270/rds/rds-who1000-cbrc/user/wja24/shared/hippolyte_only/interval_processing/king-cutoff.king.cutoff.in.id --pheno /home/hv270/rds/rds-who1000-cbrc/user/wja24/shared/hippolyte_only/interval_processing/20_dec_21/hippo_ADP.csv --covar /home/hv270/rds/rds-who1000-cbrc/user/wja24/shared/hippolyte_only/interval_processing/20_dec_21/covariates_PCs_noMPV.csv --out /home/hv270/rds/rds-who1000-cbrc/user/wja24/shared/hippolyte_only/interval_processing/20_dec_21/chr_5_ADP_noMPV --threads 12 --allow-no-sex --variance-standardize\n",
      "/home/hv270/plink2 --bfile /home/hv270/rds/rds-who1000-cbrc/user/wja24/shared/hv270/interval_genotypes/chr_6 --glm hide-covar --keep /home/hv270/rds/rds-who1000-cbrc/user/wja24/shared/hippolyte_only/interval_processing/king-cutoff.king.cutoff.in.id --pheno /home/hv270/rds/rds-who1000-cbrc/user/wja24/shared/hippolyte_only/interval_processing/20_dec_21/hippo_ADP.csv --covar /home/hv270/rds/rds-who1000-cbrc/user/wja24/shared/hippolyte_only/interval_processing/20_dec_21/covariates_PCs_noMPV.csv --out /home/hv270/rds/rds-who1000-cbrc/user/wja24/shared/hippolyte_only/interval_processing/20_dec_21/chr_6_ADP_noMPV --threads 12 --allow-no-sex --variance-standardize\n",
      "/home/hv270/plink2 --bfile /home/hv270/rds/rds-who1000-cbrc/user/wja24/shared/hv270/interval_genotypes/chr_7 --glm hide-covar --keep /home/hv270/rds/rds-who1000-cbrc/user/wja24/shared/hippolyte_only/interval_processing/king-cutoff.king.cutoff.in.id --pheno /home/hv270/rds/rds-who1000-cbrc/user/wja24/shared/hippolyte_only/interval_processing/20_dec_21/hippo_ADP.csv --covar /home/hv270/rds/rds-who1000-cbrc/user/wja24/shared/hippolyte_only/interval_processing/20_dec_21/covariates_PCs_noMPV.csv --out /home/hv270/rds/rds-who1000-cbrc/user/wja24/shared/hippolyte_only/interval_processing/20_dec_21/chr_7_ADP_noMPV --threads 12 --allow-no-sex --variance-standardize\n",
      "/home/hv270/plink2 --bfile /home/hv270/rds/rds-who1000-cbrc/user/wja24/shared/hv270/interval_genotypes/chr_8 --glm hide-covar --keep /home/hv270/rds/rds-who1000-cbrc/user/wja24/shared/hippolyte_only/interval_processing/king-cutoff.king.cutoff.in.id --pheno /home/hv270/rds/rds-who1000-cbrc/user/wja24/shared/hippolyte_only/interval_processing/20_dec_21/hippo_ADP.csv --covar /home/hv270/rds/rds-who1000-cbrc/user/wja24/shared/hippolyte_only/interval_processing/20_dec_21/covariates_PCs_noMPV.csv --out /home/hv270/rds/rds-who1000-cbrc/user/wja24/shared/hippolyte_only/interval_processing/20_dec_21/chr_8_ADP_noMPV --threads 12 --allow-no-sex --variance-standardize\n",
      "/home/hv270/plink2 --bfile /home/hv270/rds/rds-who1000-cbrc/user/wja24/shared/hv270/interval_genotypes/chr_9 --glm hide-covar --keep /home/hv270/rds/rds-who1000-cbrc/user/wja24/shared/hippolyte_only/interval_processing/king-cutoff.king.cutoff.in.id --pheno /home/hv270/rds/rds-who1000-cbrc/user/wja24/shared/hippolyte_only/interval_processing/20_dec_21/hippo_ADP.csv --covar /home/hv270/rds/rds-who1000-cbrc/user/wja24/shared/hippolyte_only/interval_processing/20_dec_21/covariates_PCs_noMPV.csv --out /home/hv270/rds/rds-who1000-cbrc/user/wja24/shared/hippolyte_only/interval_processing/20_dec_21/chr_9_ADP_noMPV --threads 12 --allow-no-sex --variance-standardize\n",
      "/home/hv270/plink2 --bfile /home/hv270/rds/rds-who1000-cbrc/user/wja24/shared/hv270/interval_genotypes/chr_10 --glm hide-covar --keep /home/hv270/rds/rds-who1000-cbrc/user/wja24/shared/hippolyte_only/interval_processing/king-cutoff.king.cutoff.in.id --pheno /home/hv270/rds/rds-who1000-cbrc/user/wja24/shared/hippolyte_only/interval_processing/20_dec_21/hippo_ADP.csv --covar /home/hv270/rds/rds-who1000-cbrc/user/wja24/shared/hippolyte_only/interval_processing/20_dec_21/covariates_PCs_noMPV.csv --out /home/hv270/rds/rds-who1000-cbrc/user/wja24/shared/hippolyte_only/interval_processing/20_dec_21/chr_10_ADP_noMPV --threads 12 --allow-no-sex --variance-standardize\n",
      "/home/hv270/plink2 --bfile /home/hv270/rds/rds-who1000-cbrc/user/wja24/shared/hv270/interval_genotypes/chr_11 --glm hide-covar --keep /home/hv270/rds/rds-who1000-cbrc/user/wja24/shared/hippolyte_only/interval_processing/king-cutoff.king.cutoff.in.id --pheno /home/hv270/rds/rds-who1000-cbrc/user/wja24/shared/hippolyte_only/interval_processing/20_dec_21/hippo_ADP.csv --covar /home/hv270/rds/rds-who1000-cbrc/user/wja24/shared/hippolyte_only/interval_processing/20_dec_21/covariates_PCs_noMPV.csv --out /home/hv270/rds/rds-who1000-cbrc/user/wja24/shared/hippolyte_only/interval_processing/20_dec_21/chr_11_ADP_noMPV --threads 12 --allow-no-sex --variance-standardize\n",
      "/home/hv270/plink2 --bfile /home/hv270/rds/rds-who1000-cbrc/user/wja24/shared/hv270/interval_genotypes/chr_12 --glm hide-covar --keep /home/hv270/rds/rds-who1000-cbrc/user/wja24/shared/hippolyte_only/interval_processing/king-cutoff.king.cutoff.in.id --pheno /home/hv270/rds/rds-who1000-cbrc/user/wja24/shared/hippolyte_only/interval_processing/20_dec_21/hippo_ADP.csv --covar /home/hv270/rds/rds-who1000-cbrc/user/wja24/shared/hippolyte_only/interval_processing/20_dec_21/covariates_PCs_noMPV.csv --out /home/hv270/rds/rds-who1000-cbrc/user/wja24/shared/hippolyte_only/interval_processing/20_dec_21/chr_12_ADP_noMPV --threads 12 --allow-no-sex --variance-standardize\n",
      "/home/hv270/plink2 --bfile /home/hv270/rds/rds-who1000-cbrc/user/wja24/shared/hv270/interval_genotypes/chr_13 --glm hide-covar --keep /home/hv270/rds/rds-who1000-cbrc/user/wja24/shared/hippolyte_only/interval_processing/king-cutoff.king.cutoff.in.id --pheno /home/hv270/rds/rds-who1000-cbrc/user/wja24/shared/hippolyte_only/interval_processing/20_dec_21/hippo_ADP.csv --covar /home/hv270/rds/rds-who1000-cbrc/user/wja24/shared/hippolyte_only/interval_processing/20_dec_21/covariates_PCs_noMPV.csv --out /home/hv270/rds/rds-who1000-cbrc/user/wja24/shared/hippolyte_only/interval_processing/20_dec_21/chr_13_ADP_noMPV --threads 12 --allow-no-sex --variance-standardize\n",
      "/home/hv270/plink2 --bfile /home/hv270/rds/rds-who1000-cbrc/user/wja24/shared/hv270/interval_genotypes/chr_14 --glm hide-covar --keep /home/hv270/rds/rds-who1000-cbrc/user/wja24/shared/hippolyte_only/interval_processing/king-cutoff.king.cutoff.in.id --pheno /home/hv270/rds/rds-who1000-cbrc/user/wja24/shared/hippolyte_only/interval_processing/20_dec_21/hippo_ADP.csv --covar /home/hv270/rds/rds-who1000-cbrc/user/wja24/shared/hippolyte_only/interval_processing/20_dec_21/covariates_PCs_noMPV.csv --out /home/hv270/rds/rds-who1000-cbrc/user/wja24/shared/hippolyte_only/interval_processing/20_dec_21/chr_14_ADP_noMPV --threads 12 --allow-no-sex --variance-standardize\n"
     ]
    },
    {
     "name": "stdout",
     "output_type": "stream",
     "text": [
      "/home/hv270/plink2 --bfile /home/hv270/rds/rds-who1000-cbrc/user/wja24/shared/hv270/interval_genotypes/chr_15 --glm hide-covar --keep /home/hv270/rds/rds-who1000-cbrc/user/wja24/shared/hippolyte_only/interval_processing/king-cutoff.king.cutoff.in.id --pheno /home/hv270/rds/rds-who1000-cbrc/user/wja24/shared/hippolyte_only/interval_processing/20_dec_21/hippo_ADP.csv --covar /home/hv270/rds/rds-who1000-cbrc/user/wja24/shared/hippolyte_only/interval_processing/20_dec_21/covariates_PCs_noMPV.csv --out /home/hv270/rds/rds-who1000-cbrc/user/wja24/shared/hippolyte_only/interval_processing/20_dec_21/chr_15_ADP_noMPV --threads 12 --allow-no-sex --variance-standardize\n",
      "/home/hv270/plink2 --bfile /home/hv270/rds/rds-who1000-cbrc/user/wja24/shared/hv270/interval_genotypes/chr_16 --glm hide-covar --keep /home/hv270/rds/rds-who1000-cbrc/user/wja24/shared/hippolyte_only/interval_processing/king-cutoff.king.cutoff.in.id --pheno /home/hv270/rds/rds-who1000-cbrc/user/wja24/shared/hippolyte_only/interval_processing/20_dec_21/hippo_ADP.csv --covar /home/hv270/rds/rds-who1000-cbrc/user/wja24/shared/hippolyte_only/interval_processing/20_dec_21/covariates_PCs_noMPV.csv --out /home/hv270/rds/rds-who1000-cbrc/user/wja24/shared/hippolyte_only/interval_processing/20_dec_21/chr_16_ADP_noMPV --threads 12 --allow-no-sex --variance-standardize\n",
      "/home/hv270/plink2 --bfile /home/hv270/rds/rds-who1000-cbrc/user/wja24/shared/hv270/interval_genotypes/chr_17 --glm hide-covar --keep /home/hv270/rds/rds-who1000-cbrc/user/wja24/shared/hippolyte_only/interval_processing/king-cutoff.king.cutoff.in.id --pheno /home/hv270/rds/rds-who1000-cbrc/user/wja24/shared/hippolyte_only/interval_processing/20_dec_21/hippo_ADP.csv --covar /home/hv270/rds/rds-who1000-cbrc/user/wja24/shared/hippolyte_only/interval_processing/20_dec_21/covariates_PCs_noMPV.csv --out /home/hv270/rds/rds-who1000-cbrc/user/wja24/shared/hippolyte_only/interval_processing/20_dec_21/chr_17_ADP_noMPV --threads 12 --allow-no-sex --variance-standardize\n",
      "/home/hv270/plink2 --bfile /home/hv270/rds/rds-who1000-cbrc/user/wja24/shared/hv270/interval_genotypes/chr_18 --glm hide-covar --keep /home/hv270/rds/rds-who1000-cbrc/user/wja24/shared/hippolyte_only/interval_processing/king-cutoff.king.cutoff.in.id --pheno /home/hv270/rds/rds-who1000-cbrc/user/wja24/shared/hippolyte_only/interval_processing/20_dec_21/hippo_ADP.csv --covar /home/hv270/rds/rds-who1000-cbrc/user/wja24/shared/hippolyte_only/interval_processing/20_dec_21/covariates_PCs_noMPV.csv --out /home/hv270/rds/rds-who1000-cbrc/user/wja24/shared/hippolyte_only/interval_processing/20_dec_21/chr_18_ADP_noMPV --threads 12 --allow-no-sex --variance-standardize\n",
      "/home/hv270/plink2 --bfile /home/hv270/rds/rds-who1000-cbrc/user/wja24/shared/hv270/interval_genotypes/chr_19 --glm hide-covar --keep /home/hv270/rds/rds-who1000-cbrc/user/wja24/shared/hippolyte_only/interval_processing/king-cutoff.king.cutoff.in.id --pheno /home/hv270/rds/rds-who1000-cbrc/user/wja24/shared/hippolyte_only/interval_processing/20_dec_21/hippo_ADP.csv --covar /home/hv270/rds/rds-who1000-cbrc/user/wja24/shared/hippolyte_only/interval_processing/20_dec_21/covariates_PCs_noMPV.csv --out /home/hv270/rds/rds-who1000-cbrc/user/wja24/shared/hippolyte_only/interval_processing/20_dec_21/chr_19_ADP_noMPV --threads 12 --allow-no-sex --variance-standardize\n",
      "/home/hv270/plink2 --bfile /home/hv270/rds/rds-who1000-cbrc/user/wja24/shared/hv270/interval_genotypes/chr_20 --glm hide-covar --keep /home/hv270/rds/rds-who1000-cbrc/user/wja24/shared/hippolyte_only/interval_processing/king-cutoff.king.cutoff.in.id --pheno /home/hv270/rds/rds-who1000-cbrc/user/wja24/shared/hippolyte_only/interval_processing/20_dec_21/hippo_ADP.csv --covar /home/hv270/rds/rds-who1000-cbrc/user/wja24/shared/hippolyte_only/interval_processing/20_dec_21/covariates_PCs_noMPV.csv --out /home/hv270/rds/rds-who1000-cbrc/user/wja24/shared/hippolyte_only/interval_processing/20_dec_21/chr_20_ADP_noMPV --threads 12 --allow-no-sex --variance-standardize\n",
      "/home/hv270/plink2 --bfile /home/hv270/rds/rds-who1000-cbrc/user/wja24/shared/hv270/interval_genotypes/chr_21 --glm hide-covar --keep /home/hv270/rds/rds-who1000-cbrc/user/wja24/shared/hippolyte_only/interval_processing/king-cutoff.king.cutoff.in.id --pheno /home/hv270/rds/rds-who1000-cbrc/user/wja24/shared/hippolyte_only/interval_processing/20_dec_21/hippo_ADP.csv --covar /home/hv270/rds/rds-who1000-cbrc/user/wja24/shared/hippolyte_only/interval_processing/20_dec_21/covariates_PCs_noMPV.csv --out /home/hv270/rds/rds-who1000-cbrc/user/wja24/shared/hippolyte_only/interval_processing/20_dec_21/chr_21_ADP_noMPV --threads 12 --allow-no-sex --variance-standardize\n",
      "/home/hv270/plink2 --bfile /home/hv270/rds/rds-who1000-cbrc/user/wja24/shared/hv270/interval_genotypes/chr_22 --glm hide-covar --keep /home/hv270/rds/rds-who1000-cbrc/user/wja24/shared/hippolyte_only/interval_processing/king-cutoff.king.cutoff.in.id --pheno /home/hv270/rds/rds-who1000-cbrc/user/wja24/shared/hippolyte_only/interval_processing/20_dec_21/hippo_ADP.csv --covar /home/hv270/rds/rds-who1000-cbrc/user/wja24/shared/hippolyte_only/interval_processing/20_dec_21/covariates_PCs_noMPV.csv --out /home/hv270/rds/rds-who1000-cbrc/user/wja24/shared/hippolyte_only/interval_processing/20_dec_21/chr_22_ADP_noMPV --threads 12 --allow-no-sex --variance-standardize\n"
     ]
    }
   ],
   "source": [
    "n_splits = 12\n",
    "for k in range(1,23):\n",
    "    command = \"/home/hv270/plink2 \"\n",
    "\n",
    "    command += \"--bfile /home/hv270/rds/rds-who1000-cbrc/user/wja24/shared/hv270/interval_genotypes/chr_%d \" % k\n",
    "    command += \"--glm hide-covar\"\n",
    "    command += \" --keep %s/king-cutoff.king.cutoff.in.id\" % export_folder\n",
    "    command += \" --pheno %s/%s/hippo_ADP.csv\" % (export_folder, tag)\n",
    "    command += \" --covar %s/%s/covariates_PCs_noMPV.csv\" % (export_folder, tag)\n",
    "    command += \" --out %s/%s/chr_%d_ADP_noMPV\" % (export_folder, tag,k)\n",
    "    command += \" --threads %d\" % n_splits\n",
    "    command += \" --allow-no-sex\"\n",
    "    command += \" --variance-standardize\"\n",
    "    \n",
    "    f_name = \"/home/hv270/interval_slurm_calls/call_chr_%d_sysmex.sh\" % k\n",
    "    f = open(f_name,\"w+\")\n",
    "    f.write(\"#!/bin/sh\\n\")\n",
    "\n",
    "    f.write(\"#SBATCH -J chr_%d\\n\" % k)\n",
    "    f.write(\"#SBATCH -A ASTLE-SL2-CPU\\n\")\n",
    "    f.write(\"#SBATCH -N 1\\n\")\n",
    "    f.write(\"#SBATCH -n %d\\n\" % n_splits)\n",
    "    #f.write(\"#SBATCH -c %d\\n\" % n_splits)\n",
    "    f.write(\"#SBATCH --time=0:15:00\\n\")\n",
    "    f.write(\"#SBATCH -p skylake-himem\\n\")\n",
    "    f.write(\"#SBATCH --output=/home/hv270/slurm_log/%s_%s_ADP_no_MPV.out\\n\" % (tag,k))\n",
    "    f.write(\"export OMP_NUM_THREADS=%d\\n\" % n_splits)\n",
    "\n",
    "    f.write(\". /etc/profile.d/modules.sh\\n\")\n",
    "    f.write(\"module purge\\n\")\n",
    "    f.write(\"module load rhel7/default-peta4\\n\")\n",
    "    f.write(command)\n",
    "    f.close()\n",
    "    print(command)\n",
    "    \n",
    "    p = subprocess.Popen(\"sbatch %s\" % f_name,shell=True)\n",
    "    p.wait()"
   ]
  },
  {
   "cell_type": "markdown",
   "metadata": {},
   "source": [
    "# Run with Bolt"
   ]
  },
  {
   "cell_type": "code",
   "execution_count": 13,
   "metadata": {},
   "outputs": [],
   "source": [
    "pheno_cols = [\"ADP_pred\"]\n",
    "n_splits = 32"
   ]
  },
  {
   "cell_type": "code",
   "execution_count": 14,
   "metadata": {},
   "outputs": [],
   "source": [
    "Y = X[[\"FID\",\"IID\"] + [\"ADP_pred\"]]\n",
    "C = X[[\"FID\",\"IID\"] + [\"AGE\",\"SEX\",\"interval_cohort\"] + [\"PC%d\" % d for d in range(1,10)]]\n",
    "\n",
    "Y.to_csv(\"%s/%s/hippo_ADP.csv\" % (export_folder,tag), index=False,header=True, sep=\"\\t\")\n",
    "C.to_csv(\"%s/%s/covariates_PCs_noMPV_bolt.csv\" % (export_folder,tag), index=False,header=True, sep=\"\\t\")"
   ]
  },
  {
   "cell_type": "markdown",
   "metadata": {},
   "source": [
    "## All chromosomes together (hasn't time to run on imputed SNPs)"
   ]
  },
  {
   "cell_type": "code",
   "execution_count": 19,
   "metadata": {},
   "outputs": [
    {
     "name": "stdout",
     "output_type": "stream",
     "text": [
      "Submitting ADP_pred\n"
     ]
    }
   ],
   "source": [
    "for pheno in pheno_cols:\n",
    "\n",
    "    command = \"/home/hv270/rds/rds-who1000-cbrc/user/wja24/shared/hv270/BOLT-LMM_v2.3.4/bolt \"\n",
    "    for k in range(1,23):\n",
    "        command += \"--bim=/home/hv270/rds/rds-who1000-cbrc/user/wja24/shared/hv270/interval_genotypes/chr_%d.bim \" % k\n",
    "    # Only one fam file has to be specified\n",
    "    command += \"--fam=/home/hv270/rds/rds-who1000-cbrc/user/wja24/shared/hv270/interval_genotypes/chr_1.fam \"\n",
    "    for k in range(1,23):\n",
    "        command += \"--bed=/home/hv270/rds/rds-who1000-cbrc/user/wja24/shared/hv270/interval_genotypes/chr_%d.bed \" % k\n",
    "    command += \"--lmm \\\n",
    "        --LDscoresFile=/home/hv270/rds/rds-who1000-cbrc/user/wja24/shared/hv270/BOLT-LMM_v2.3.4/tables/LDSCORE.1000G_EUR.tab.gz \\\n",
    "        --phenoFile=%s/%s/hippo_ADP.csv \\\n",
    "        --phenoCol=%s \" % (export_folder,tag,pheno)\n",
    "    command += \"--covarFile=%s/%s/covariates_PCs_noMPV_bolt.csv \" % (export_folder, tag)\n",
    "    command += \"--maxMissingPerSnp=0.1 \\\n",
    "        --qCovarCol=AGE \\\n",
    "        --qCovarCol=PC1 \\\n",
    "        --qCovarCol=PC2 \\\n",
    "        --qCovarCol=PC3 \\\n",
    "        --qCovarCol=PC4 \\\n",
    "        --qCovarCol=PC5 \\\n",
    "        --qCovarCol=PC6 \\\n",
    "        --qCovarCol=PC7 \\\n",
    "        --qCovarCol=PC8 \\\n",
    "        --qCovarCol=PC9 \\\n",
    "        --covarCol=SEX \\\n",
    "        --covarCol=interval_cohort \\\n",
    "        --bgenMinMAF=1e-2 \\\n",
    "        --bgenMinINFO=0.4 \\\n",
    "        --maxModelSnps=2000000 \\\n",
    "        --lmmForceNonInf \\\n",
    "        --verboseStats \\\n",
    "        --sampleFile=/home/hv270/rds/rds-who1000-cbrc/user/wja24/shared/alexander_only/interval.sample \"\n",
    "    command += \"--statsFile=%s/%s/bolt_res_feb_%s \" % (export_folder,tag,pheno)\n",
    "    command += \"--statsFileBgenSnps=%s/%s/bolt_res_bgen_feb_%s \" % (export_folder,tag,pheno)\n",
    "    command += \"--modelSnps=/home/hv270/rds/rds-who1000-cbrc/user/wja24/shared/hv270/indep_snps \\\n",
    "        --bgenFile=/home/hv270/rds/rds-who1000-cbrc/user/wja24/shared/alexander_only/impute_{1:22}_interval.bgen \\\n",
    "        --numThreads=%d\" % n_splits\n",
    "\n",
    "    f_name = \"/home/hv270/interval_slurm_calls/call_%s.sh\" % pheno\n",
    "    f = open(f_name,\"w+\")\n",
    "    f.write(\"#!/bin/sh\\n\")\n",
    "\n",
    "    f.write(\"#SBATCH -J %s\\n\" % (pheno))\n",
    "    f.write(\"#SBATCH -A ASTLE-SL2-CPU\\n\")\n",
    "    f.write(\"#SBATCH -N 1\\n\")\n",
    "    f.write(\"#SBATCH -n %d\\n\" % n_splits)\n",
    "    #f.write(\"#SBATCH -c %d\\n\" % n_splits)\n",
    "    f.write(\"#SBATCH --time=8:00:00\\n\")\n",
    "    f.write(\"#SBATCH -p skylake-himem\\n\")\n",
    "    f.write(\"#SBATCH --output=/home/hv270/slurm_log/%s_%s.out\\n\" % (tag,pheno))\n",
    "    f.write(\"export OMP_NUM_THREADS=%d\\n\" % n_splits)\n",
    "\n",
    "    f.write(\". /etc/profile.d/modules.sh\\n\")\n",
    "    f.write(\"module purge\\n\")\n",
    "    f.write(\"module load rhel7/default-peta4\\n\")\n",
    "    f.write(command)\n",
    "    f.close()\n",
    "\n",
    "    print(\"Submitting %s\" % pheno)\n",
    "    p = subprocess.Popen(\"sbatch %s\" % f_name,shell=True,stdout=subprocess.PIPE, stderr=subprocess.PIPE)\n",
    "    p.wait()"
   ]
  },
  {
   "cell_type": "markdown",
   "metadata": {},
   "source": [
    "## Group chromosomes"
   ]
  },
  {
   "cell_type": "code",
   "execution_count": 38,
   "metadata": {},
   "outputs": [],
   "source": [
    "k = 4 # number of chromosomes processed together\n",
    "groups = np.random.choice(22,22,replace=False) + 1\n",
    "groups = [groups[i:(i+4)] for i in range(22) if i % 4 == 0]\n",
    "n_splits = 16"
   ]
  },
  {
   "cell_type": "code",
   "execution_count": 42,
   "metadata": {},
   "outputs": [
    {
     "name": "stdout",
     "output_type": "stream",
     "text": [
      "Submitting ADP_pred\n",
      "Submitting ADP_pred\n",
      "Submitting ADP_pred\n",
      "Submitting ADP_pred\n",
      "Submitting ADP_pred\n",
      "Submitting ADP_pred\n"
     ]
    }
   ],
   "source": [
    "for group in groups:\n",
    "    group_ID = \"_\".join([\"%d\" % i for i in group])\n",
    "    group_ID = \"chr_\" + group_ID\n",
    "    for pheno in pheno_cols:\n",
    "\n",
    "        command = \"/home/hv270/rds/rds-who1000-cbrc/user/wja24/shared/hv270/BOLT-LMM_v2.3.4/bolt \"\n",
    "        for k in range(1,23):\n",
    "            command += \"--bim=/home/hv270/rds/rds-who1000-cbrc/user/wja24/shared/hv270/interval_genotypes/chr_%d.bim \" % k\n",
    "        # Only one fam file has to be specified\n",
    "        command += \"--fam=/home/hv270/rds/rds-who1000-cbrc/user/wja24/shared/hv270/interval_genotypes/chr_1.fam \"\n",
    "        for k in range(1,23):\n",
    "            command += \"--bed=/home/hv270/rds/rds-who1000-cbrc/user/wja24/shared/hv270/interval_genotypes/chr_%d.bed \" % k\n",
    "        command += \"--lmm \\\n",
    "            --LDscoresFile=/home/hv270/rds/rds-who1000-cbrc/user/wja24/shared/hv270/BOLT-LMM_v2.3.4/tables/LDSCORE.1000G_EUR.tab.gz \\\n",
    "            --phenoFile=%s/%s/hippo_ADP.csv \\\n",
    "            --phenoCol=%s \" % (export_folder,tag,pheno)\n",
    "        command += \"--covarFile=%s/%s/covariates_PCs_noMPV_bolt.csv \" % (export_folder, tag)\n",
    "        command += \"--maxMissingPerSnp=0.1 \\\n",
    "            --qCovarCol=AGE \\\n",
    "            --qCovarCol=PC1 \\\n",
    "            --qCovarCol=PC2 \\\n",
    "            --qCovarCol=PC3 \\\n",
    "            --qCovarCol=PC4 \\\n",
    "            --qCovarCol=PC5 \\\n",
    "            --qCovarCol=PC6 \\\n",
    "            --qCovarCol=PC7 \\\n",
    "            --qCovarCol=PC8 \\\n",
    "            --qCovarCol=PC9 \\\n",
    "            --covarCol=SEX \\\n",
    "            --covarCol=interval_cohort \\\n",
    "            --bgenMinMAF=1e-2 \\\n",
    "            --bgenMinINFO=0.4 \\\n",
    "            --maxModelSnps=2000000 \\\n",
    "            --lmmForceNonInf \\\n",
    "            --verboseStats \\\n",
    "            --sampleFile=/home/hv270/rds/rds-who1000-cbrc/user/wja24/shared/alexander_only/interval.sample \"\n",
    "        command += \"--statsFile=%s/%s/bolt_res_feb_%s_%s \" % (export_folder,tag,pheno,group_ID)\n",
    "        command += \"--statsFileBgenSnps=%s/%s/bolt_res_bgen_feb_%s_%s \" % (export_folder,tag,pheno,group_ID)\n",
    "        command += \"--modelSnps=/home/hv270/rds/rds-who1000-cbrc/user/wja24/shared/hv270/indep_snps \"\n",
    "        for k in group:\n",
    "            command += \"--bgenFile=/home/hv270/rds/rds-who1000-cbrc/user/wja24/shared/alexander_only/impute_%d_interval.bgen \" % k\n",
    "        command += \"--numThreads=%d\" % n_splits\n",
    "\n",
    "        f_name = \"/home/hv270/interval_slurm_calls/call_%s_%s.sh\" % (pheno,group_ID)\n",
    "        f = open(f_name,\"w+\")\n",
    "        f.write(\"#!/bin/sh\\n\")\n",
    "\n",
    "        f.write(\"#SBATCH -J %s\\n\" % (pheno))\n",
    "        f.write(\"#SBATCH -A ASTLE-SL2-CPU\\n\")\n",
    "        f.write(\"#SBATCH -N 1\\n\")\n",
    "        f.write(\"#SBATCH -n %d\\n\" % n_splits)\n",
    "        #f.write(\"#SBATCH -c %d\\n\" % n_splits)\n",
    "        f.write(\"#SBATCH --time=8:00:00\\n\")\n",
    "        f.write(\"#SBATCH -p skylake-himem\\n\")\n",
    "        f.write(\"#SBATCH --output=/home/hv270/slurm_log/%s_%s_%s.out\\n\" % (tag,pheno, group_ID))\n",
    "        f.write(\"export OMP_NUM_THREADS=%d\\n\" % n_splits)\n",
    "\n",
    "        f.write(\". /etc/profile.d/modules.sh\\n\")\n",
    "        f.write(\"module purge\\n\")\n",
    "        f.write(\"module load rhel7/default-peta4\\n\")\n",
    "        f.write(command)\n",
    "        f.close()\n",
    "\n",
    "        print(\"Submitting %s\" % pheno)\n",
    "        p = subprocess.Popen(\"sbatch %s\" % f_name,shell=True,stdout=subprocess.PIPE, stderr=subprocess.PIPE)\n",
    "        p.wait()"
   ]
  },
  {
   "cell_type": "code",
   "execution_count": 40,
   "metadata": {},
   "outputs": [
    {
     "data": {
      "text/plain": [
       "'/home/hv270/rds/rds-who1000-cbrc/user/wja24/shared/hv270/BOLT-LMM_v2.3.4/bolt --bim=/home/hv270/rds/rds-who1000-cbrc/user/wja24/shared/hv270/interval_genotypes/chr_7.bim --bim=/home/hv270/rds/rds-who1000-cbrc/user/wja24/shared/hv270/interval_genotypes/chr_1.bim --fam=/home/hv270/rds/rds-who1000-cbrc/user/wja24/shared/hv270/interval_genotypes/chr_1.fam --bed=/home/hv270/rds/rds-who1000-cbrc/user/wja24/shared/hv270/interval_genotypes/chr_7.bed --bed=/home/hv270/rds/rds-who1000-cbrc/user/wja24/shared/hv270/interval_genotypes/chr_1.bed --lmm             --LDscoresFile=/home/hv270/rds/rds-who1000-cbrc/user/wja24/shared/hv270/BOLT-LMM_v2.3.4/tables/LDSCORE.1000G_EUR.tab.gz             --phenoFile=/home/hv270/rds/rds-who1000-cbrc/user/wja24/shared/hippolyte_only/interval_processing/20_dec_21/hippo_ADP.csv             --phenoCol=ADP_pred --covarFile=/home/hv270/rds/rds-who1000-cbrc/user/wja24/shared/hippolyte_only/interval_processing/20_dec_21/covariates_PCs_noMPV_bolt.csv --maxMissingPerSnp=0.1             --qCovarCol=AGE             --qCovarCol=PC1             --qCovarCol=PC2             --qCovarCol=PC3             --qCovarCol=PC4             --qCovarCol=PC5             --qCovarCol=PC6             --qCovarCol=PC7             --qCovarCol=PC8             --qCovarCol=PC9             --covarCol=SEX             --covarCol=interval_cohort             --bgenMinMAF=1e-2             --bgenMinINFO=0.4             --maxModelSnps=2000000             --lmmForceNonInf             --verboseStats             --sampleFile=/home/hv270/rds/rds-who1000-cbrc/user/wja24/shared/alexander_only/interval.sample --statsFile=/home/hv270/rds/rds-who1000-cbrc/user/wja24/shared/hippolyte_only/interval_processing/20_dec_21/bolt_res_feb_ADP_pred_chr_7_1 --statsFileBgenSnps=/home/hv270/rds/rds-who1000-cbrc/user/wja24/shared/hippolyte_only/interval_processing/20_dec_21/bolt_res_bgen_feb_ADP_pred_chr_7_1 --modelSnps=/home/hv270/rds/rds-who1000-cbrc/user/wja24/shared/hv270/indep_snps             --bgenFile=/home/hv270/rds/rds-who1000-cbrc/user/wja24/shared/alexander_only/impute_{1:22}_interval.bgen             --numThreads=16'"
      ]
     },
     "execution_count": 40,
     "metadata": {},
     "output_type": "execute_result"
    }
   ],
   "source": [
    "command"
   ]
  },
  {
   "cell_type": "code",
   "execution_count": null,
   "metadata": {},
   "outputs": [],
   "source": []
  },
  {
   "cell_type": "code",
   "execution_count": null,
   "metadata": {},
   "outputs": [],
   "source": []
  },
  {
   "cell_type": "code",
   "execution_count": null,
   "metadata": {},
   "outputs": [],
   "source": []
  },
  {
   "cell_type": "code",
   "execution_count": null,
   "metadata": {},
   "outputs": [],
   "source": []
  },
  {
   "cell_type": "markdown",
   "metadata": {},
   "source": [
    "## (not used) PLINK with MPV"
   ]
  },
  {
   "cell_type": "code",
   "execution_count": 29,
   "metadata": {},
   "outputs": [],
   "source": [
    "Y = X[[\"FID\",\"IID\"] + [\"ADP_pred\"]]\n",
    "C = X[[\"FID\",\"IID\"] + [\"AGE\",\"cohort\",\"SEX\",\"MPV\"] + [\"PC%d\" % d for d in range(1,10)]]\n",
    "\n",
    "Y.to_csv(\"%s/%s/hippo_ADP.csv\" % (export_folder,tag), index=False,header=True, sep=\"\\t\")\n",
    "C.to_csv(\"%s/%s/covariates_PCs_MPV.csv\" % (export_folder,tag), index=False,header=True, sep=\"\\t\")"
   ]
  },
  {
   "cell_type": "code",
   "execution_count": 30,
   "metadata": {},
   "outputs": [
    {
     "name": "stdout",
     "output_type": "stream",
     "text": [
      "/home/hv270/plink2 --bfile /home/hv270/rds/rds-who1000-cbrc/user/wja24/shared/hv270/interval_genotypes/chr_1 --glm hide-covar --keep /home/hv270/rds/rds-who1000-cbrc/user/wja24/shared/hippolyte_only/interval_processing/king-cutoff.king.cutoff.in.id --pheno /home/hv270/rds/rds-who1000-cbrc/user/wja24/shared/hippolyte_only/interval_processing/25_oct/hippo_ADP.csv --covar /home/hv270/rds/rds-who1000-cbrc/user/wja24/shared/hippolyte_only/interval_processing/25_oct/covariates_PCs_MPV.csv --out /home/hv270/rds/rds-who1000-cbrc/user/wja24/shared/hippolyte_only/interval_processing/25_oct/chr_1_ADP_MPV --threads 12 --allow-no-sex --variance-standardize\n",
      "/home/hv270/plink2 --bfile /home/hv270/rds/rds-who1000-cbrc/user/wja24/shared/hv270/interval_genotypes/chr_2 --glm hide-covar --keep /home/hv270/rds/rds-who1000-cbrc/user/wja24/shared/hippolyte_only/interval_processing/king-cutoff.king.cutoff.in.id --pheno /home/hv270/rds/rds-who1000-cbrc/user/wja24/shared/hippolyte_only/interval_processing/25_oct/hippo_ADP.csv --covar /home/hv270/rds/rds-who1000-cbrc/user/wja24/shared/hippolyte_only/interval_processing/25_oct/covariates_PCs_MPV.csv --out /home/hv270/rds/rds-who1000-cbrc/user/wja24/shared/hippolyte_only/interval_processing/25_oct/chr_2_ADP_MPV --threads 12 --allow-no-sex --variance-standardize\n",
      "/home/hv270/plink2 --bfile /home/hv270/rds/rds-who1000-cbrc/user/wja24/shared/hv270/interval_genotypes/chr_3 --glm hide-covar --keep /home/hv270/rds/rds-who1000-cbrc/user/wja24/shared/hippolyte_only/interval_processing/king-cutoff.king.cutoff.in.id --pheno /home/hv270/rds/rds-who1000-cbrc/user/wja24/shared/hippolyte_only/interval_processing/25_oct/hippo_ADP.csv --covar /home/hv270/rds/rds-who1000-cbrc/user/wja24/shared/hippolyte_only/interval_processing/25_oct/covariates_PCs_MPV.csv --out /home/hv270/rds/rds-who1000-cbrc/user/wja24/shared/hippolyte_only/interval_processing/25_oct/chr_3_ADP_MPV --threads 12 --allow-no-sex --variance-standardize\n",
      "/home/hv270/plink2 --bfile /home/hv270/rds/rds-who1000-cbrc/user/wja24/shared/hv270/interval_genotypes/chr_4 --glm hide-covar --keep /home/hv270/rds/rds-who1000-cbrc/user/wja24/shared/hippolyte_only/interval_processing/king-cutoff.king.cutoff.in.id --pheno /home/hv270/rds/rds-who1000-cbrc/user/wja24/shared/hippolyte_only/interval_processing/25_oct/hippo_ADP.csv --covar /home/hv270/rds/rds-who1000-cbrc/user/wja24/shared/hippolyte_only/interval_processing/25_oct/covariates_PCs_MPV.csv --out /home/hv270/rds/rds-who1000-cbrc/user/wja24/shared/hippolyte_only/interval_processing/25_oct/chr_4_ADP_MPV --threads 12 --allow-no-sex --variance-standardize\n",
      "/home/hv270/plink2 --bfile /home/hv270/rds/rds-who1000-cbrc/user/wja24/shared/hv270/interval_genotypes/chr_5 --glm hide-covar --keep /home/hv270/rds/rds-who1000-cbrc/user/wja24/shared/hippolyte_only/interval_processing/king-cutoff.king.cutoff.in.id --pheno /home/hv270/rds/rds-who1000-cbrc/user/wja24/shared/hippolyte_only/interval_processing/25_oct/hippo_ADP.csv --covar /home/hv270/rds/rds-who1000-cbrc/user/wja24/shared/hippolyte_only/interval_processing/25_oct/covariates_PCs_MPV.csv --out /home/hv270/rds/rds-who1000-cbrc/user/wja24/shared/hippolyte_only/interval_processing/25_oct/chr_5_ADP_MPV --threads 12 --allow-no-sex --variance-standardize\n",
      "/home/hv270/plink2 --bfile /home/hv270/rds/rds-who1000-cbrc/user/wja24/shared/hv270/interval_genotypes/chr_6 --glm hide-covar --keep /home/hv270/rds/rds-who1000-cbrc/user/wja24/shared/hippolyte_only/interval_processing/king-cutoff.king.cutoff.in.id --pheno /home/hv270/rds/rds-who1000-cbrc/user/wja24/shared/hippolyte_only/interval_processing/25_oct/hippo_ADP.csv --covar /home/hv270/rds/rds-who1000-cbrc/user/wja24/shared/hippolyte_only/interval_processing/25_oct/covariates_PCs_MPV.csv --out /home/hv270/rds/rds-who1000-cbrc/user/wja24/shared/hippolyte_only/interval_processing/25_oct/chr_6_ADP_MPV --threads 12 --allow-no-sex --variance-standardize\n",
      "/home/hv270/plink2 --bfile /home/hv270/rds/rds-who1000-cbrc/user/wja24/shared/hv270/interval_genotypes/chr_7 --glm hide-covar --keep /home/hv270/rds/rds-who1000-cbrc/user/wja24/shared/hippolyte_only/interval_processing/king-cutoff.king.cutoff.in.id --pheno /home/hv270/rds/rds-who1000-cbrc/user/wja24/shared/hippolyte_only/interval_processing/25_oct/hippo_ADP.csv --covar /home/hv270/rds/rds-who1000-cbrc/user/wja24/shared/hippolyte_only/interval_processing/25_oct/covariates_PCs_MPV.csv --out /home/hv270/rds/rds-who1000-cbrc/user/wja24/shared/hippolyte_only/interval_processing/25_oct/chr_7_ADP_MPV --threads 12 --allow-no-sex --variance-standardize\n",
      "/home/hv270/plink2 --bfile /home/hv270/rds/rds-who1000-cbrc/user/wja24/shared/hv270/interval_genotypes/chr_8 --glm hide-covar --keep /home/hv270/rds/rds-who1000-cbrc/user/wja24/shared/hippolyte_only/interval_processing/king-cutoff.king.cutoff.in.id --pheno /home/hv270/rds/rds-who1000-cbrc/user/wja24/shared/hippolyte_only/interval_processing/25_oct/hippo_ADP.csv --covar /home/hv270/rds/rds-who1000-cbrc/user/wja24/shared/hippolyte_only/interval_processing/25_oct/covariates_PCs_MPV.csv --out /home/hv270/rds/rds-who1000-cbrc/user/wja24/shared/hippolyte_only/interval_processing/25_oct/chr_8_ADP_MPV --threads 12 --allow-no-sex --variance-standardize\n",
      "/home/hv270/plink2 --bfile /home/hv270/rds/rds-who1000-cbrc/user/wja24/shared/hv270/interval_genotypes/chr_9 --glm hide-covar --keep /home/hv270/rds/rds-who1000-cbrc/user/wja24/shared/hippolyte_only/interval_processing/king-cutoff.king.cutoff.in.id --pheno /home/hv270/rds/rds-who1000-cbrc/user/wja24/shared/hippolyte_only/interval_processing/25_oct/hippo_ADP.csv --covar /home/hv270/rds/rds-who1000-cbrc/user/wja24/shared/hippolyte_only/interval_processing/25_oct/covariates_PCs_MPV.csv --out /home/hv270/rds/rds-who1000-cbrc/user/wja24/shared/hippolyte_only/interval_processing/25_oct/chr_9_ADP_MPV --threads 12 --allow-no-sex --variance-standardize\n",
      "/home/hv270/plink2 --bfile /home/hv270/rds/rds-who1000-cbrc/user/wja24/shared/hv270/interval_genotypes/chr_10 --glm hide-covar --keep /home/hv270/rds/rds-who1000-cbrc/user/wja24/shared/hippolyte_only/interval_processing/king-cutoff.king.cutoff.in.id --pheno /home/hv270/rds/rds-who1000-cbrc/user/wja24/shared/hippolyte_only/interval_processing/25_oct/hippo_ADP.csv --covar /home/hv270/rds/rds-who1000-cbrc/user/wja24/shared/hippolyte_only/interval_processing/25_oct/covariates_PCs_MPV.csv --out /home/hv270/rds/rds-who1000-cbrc/user/wja24/shared/hippolyte_only/interval_processing/25_oct/chr_10_ADP_MPV --threads 12 --allow-no-sex --variance-standardize\n",
      "/home/hv270/plink2 --bfile /home/hv270/rds/rds-who1000-cbrc/user/wja24/shared/hv270/interval_genotypes/chr_11 --glm hide-covar --keep /home/hv270/rds/rds-who1000-cbrc/user/wja24/shared/hippolyte_only/interval_processing/king-cutoff.king.cutoff.in.id --pheno /home/hv270/rds/rds-who1000-cbrc/user/wja24/shared/hippolyte_only/interval_processing/25_oct/hippo_ADP.csv --covar /home/hv270/rds/rds-who1000-cbrc/user/wja24/shared/hippolyte_only/interval_processing/25_oct/covariates_PCs_MPV.csv --out /home/hv270/rds/rds-who1000-cbrc/user/wja24/shared/hippolyte_only/interval_processing/25_oct/chr_11_ADP_MPV --threads 12 --allow-no-sex --variance-standardize\n",
      "/home/hv270/plink2 --bfile /home/hv270/rds/rds-who1000-cbrc/user/wja24/shared/hv270/interval_genotypes/chr_12 --glm hide-covar --keep /home/hv270/rds/rds-who1000-cbrc/user/wja24/shared/hippolyte_only/interval_processing/king-cutoff.king.cutoff.in.id --pheno /home/hv270/rds/rds-who1000-cbrc/user/wja24/shared/hippolyte_only/interval_processing/25_oct/hippo_ADP.csv --covar /home/hv270/rds/rds-who1000-cbrc/user/wja24/shared/hippolyte_only/interval_processing/25_oct/covariates_PCs_MPV.csv --out /home/hv270/rds/rds-who1000-cbrc/user/wja24/shared/hippolyte_only/interval_processing/25_oct/chr_12_ADP_MPV --threads 12 --allow-no-sex --variance-standardize\n",
      "/home/hv270/plink2 --bfile /home/hv270/rds/rds-who1000-cbrc/user/wja24/shared/hv270/interval_genotypes/chr_13 --glm hide-covar --keep /home/hv270/rds/rds-who1000-cbrc/user/wja24/shared/hippolyte_only/interval_processing/king-cutoff.king.cutoff.in.id --pheno /home/hv270/rds/rds-who1000-cbrc/user/wja24/shared/hippolyte_only/interval_processing/25_oct/hippo_ADP.csv --covar /home/hv270/rds/rds-who1000-cbrc/user/wja24/shared/hippolyte_only/interval_processing/25_oct/covariates_PCs_MPV.csv --out /home/hv270/rds/rds-who1000-cbrc/user/wja24/shared/hippolyte_only/interval_processing/25_oct/chr_13_ADP_MPV --threads 12 --allow-no-sex --variance-standardize\n"
     ]
    },
    {
     "name": "stdout",
     "output_type": "stream",
     "text": [
      "/home/hv270/plink2 --bfile /home/hv270/rds/rds-who1000-cbrc/user/wja24/shared/hv270/interval_genotypes/chr_14 --glm hide-covar --keep /home/hv270/rds/rds-who1000-cbrc/user/wja24/shared/hippolyte_only/interval_processing/king-cutoff.king.cutoff.in.id --pheno /home/hv270/rds/rds-who1000-cbrc/user/wja24/shared/hippolyte_only/interval_processing/25_oct/hippo_ADP.csv --covar /home/hv270/rds/rds-who1000-cbrc/user/wja24/shared/hippolyte_only/interval_processing/25_oct/covariates_PCs_MPV.csv --out /home/hv270/rds/rds-who1000-cbrc/user/wja24/shared/hippolyte_only/interval_processing/25_oct/chr_14_ADP_MPV --threads 12 --allow-no-sex --variance-standardize\n",
      "/home/hv270/plink2 --bfile /home/hv270/rds/rds-who1000-cbrc/user/wja24/shared/hv270/interval_genotypes/chr_15 --glm hide-covar --keep /home/hv270/rds/rds-who1000-cbrc/user/wja24/shared/hippolyte_only/interval_processing/king-cutoff.king.cutoff.in.id --pheno /home/hv270/rds/rds-who1000-cbrc/user/wja24/shared/hippolyte_only/interval_processing/25_oct/hippo_ADP.csv --covar /home/hv270/rds/rds-who1000-cbrc/user/wja24/shared/hippolyte_only/interval_processing/25_oct/covariates_PCs_MPV.csv --out /home/hv270/rds/rds-who1000-cbrc/user/wja24/shared/hippolyte_only/interval_processing/25_oct/chr_15_ADP_MPV --threads 12 --allow-no-sex --variance-standardize\n",
      "/home/hv270/plink2 --bfile /home/hv270/rds/rds-who1000-cbrc/user/wja24/shared/hv270/interval_genotypes/chr_16 --glm hide-covar --keep /home/hv270/rds/rds-who1000-cbrc/user/wja24/shared/hippolyte_only/interval_processing/king-cutoff.king.cutoff.in.id --pheno /home/hv270/rds/rds-who1000-cbrc/user/wja24/shared/hippolyte_only/interval_processing/25_oct/hippo_ADP.csv --covar /home/hv270/rds/rds-who1000-cbrc/user/wja24/shared/hippolyte_only/interval_processing/25_oct/covariates_PCs_MPV.csv --out /home/hv270/rds/rds-who1000-cbrc/user/wja24/shared/hippolyte_only/interval_processing/25_oct/chr_16_ADP_MPV --threads 12 --allow-no-sex --variance-standardize\n",
      "/home/hv270/plink2 --bfile /home/hv270/rds/rds-who1000-cbrc/user/wja24/shared/hv270/interval_genotypes/chr_17 --glm hide-covar --keep /home/hv270/rds/rds-who1000-cbrc/user/wja24/shared/hippolyte_only/interval_processing/king-cutoff.king.cutoff.in.id --pheno /home/hv270/rds/rds-who1000-cbrc/user/wja24/shared/hippolyte_only/interval_processing/25_oct/hippo_ADP.csv --covar /home/hv270/rds/rds-who1000-cbrc/user/wja24/shared/hippolyte_only/interval_processing/25_oct/covariates_PCs_MPV.csv --out /home/hv270/rds/rds-who1000-cbrc/user/wja24/shared/hippolyte_only/interval_processing/25_oct/chr_17_ADP_MPV --threads 12 --allow-no-sex --variance-standardize\n",
      "/home/hv270/plink2 --bfile /home/hv270/rds/rds-who1000-cbrc/user/wja24/shared/hv270/interval_genotypes/chr_18 --glm hide-covar --keep /home/hv270/rds/rds-who1000-cbrc/user/wja24/shared/hippolyte_only/interval_processing/king-cutoff.king.cutoff.in.id --pheno /home/hv270/rds/rds-who1000-cbrc/user/wja24/shared/hippolyte_only/interval_processing/25_oct/hippo_ADP.csv --covar /home/hv270/rds/rds-who1000-cbrc/user/wja24/shared/hippolyte_only/interval_processing/25_oct/covariates_PCs_MPV.csv --out /home/hv270/rds/rds-who1000-cbrc/user/wja24/shared/hippolyte_only/interval_processing/25_oct/chr_18_ADP_MPV --threads 12 --allow-no-sex --variance-standardize\n",
      "/home/hv270/plink2 --bfile /home/hv270/rds/rds-who1000-cbrc/user/wja24/shared/hv270/interval_genotypes/chr_19 --glm hide-covar --keep /home/hv270/rds/rds-who1000-cbrc/user/wja24/shared/hippolyte_only/interval_processing/king-cutoff.king.cutoff.in.id --pheno /home/hv270/rds/rds-who1000-cbrc/user/wja24/shared/hippolyte_only/interval_processing/25_oct/hippo_ADP.csv --covar /home/hv270/rds/rds-who1000-cbrc/user/wja24/shared/hippolyte_only/interval_processing/25_oct/covariates_PCs_MPV.csv --out /home/hv270/rds/rds-who1000-cbrc/user/wja24/shared/hippolyte_only/interval_processing/25_oct/chr_19_ADP_MPV --threads 12 --allow-no-sex --variance-standardize\n",
      "/home/hv270/plink2 --bfile /home/hv270/rds/rds-who1000-cbrc/user/wja24/shared/hv270/interval_genotypes/chr_20 --glm hide-covar --keep /home/hv270/rds/rds-who1000-cbrc/user/wja24/shared/hippolyte_only/interval_processing/king-cutoff.king.cutoff.in.id --pheno /home/hv270/rds/rds-who1000-cbrc/user/wja24/shared/hippolyte_only/interval_processing/25_oct/hippo_ADP.csv --covar /home/hv270/rds/rds-who1000-cbrc/user/wja24/shared/hippolyte_only/interval_processing/25_oct/covariates_PCs_MPV.csv --out /home/hv270/rds/rds-who1000-cbrc/user/wja24/shared/hippolyte_only/interval_processing/25_oct/chr_20_ADP_MPV --threads 12 --allow-no-sex --variance-standardize\n",
      "/home/hv270/plink2 --bfile /home/hv270/rds/rds-who1000-cbrc/user/wja24/shared/hv270/interval_genotypes/chr_21 --glm hide-covar --keep /home/hv270/rds/rds-who1000-cbrc/user/wja24/shared/hippolyte_only/interval_processing/king-cutoff.king.cutoff.in.id --pheno /home/hv270/rds/rds-who1000-cbrc/user/wja24/shared/hippolyte_only/interval_processing/25_oct/hippo_ADP.csv --covar /home/hv270/rds/rds-who1000-cbrc/user/wja24/shared/hippolyte_only/interval_processing/25_oct/covariates_PCs_MPV.csv --out /home/hv270/rds/rds-who1000-cbrc/user/wja24/shared/hippolyte_only/interval_processing/25_oct/chr_21_ADP_MPV --threads 12 --allow-no-sex --variance-standardize\n",
      "/home/hv270/plink2 --bfile /home/hv270/rds/rds-who1000-cbrc/user/wja24/shared/hv270/interval_genotypes/chr_22 --glm hide-covar --keep /home/hv270/rds/rds-who1000-cbrc/user/wja24/shared/hippolyte_only/interval_processing/king-cutoff.king.cutoff.in.id --pheno /home/hv270/rds/rds-who1000-cbrc/user/wja24/shared/hippolyte_only/interval_processing/25_oct/hippo_ADP.csv --covar /home/hv270/rds/rds-who1000-cbrc/user/wja24/shared/hippolyte_only/interval_processing/25_oct/covariates_PCs_MPV.csv --out /home/hv270/rds/rds-who1000-cbrc/user/wja24/shared/hippolyte_only/interval_processing/25_oct/chr_22_ADP_MPV --threads 12 --allow-no-sex --variance-standardize\n"
     ]
    }
   ],
   "source": [
    "n_splits = 12\n",
    "for k in range(1,23):\n",
    "    command = \"/home/hv270/plink2 \"\n",
    "\n",
    "    command += \"--bfile /home/hv270/rds/rds-who1000-cbrc/user/wja24/shared/hv270/interval_genotypes/chr_%d \" % k\n",
    "    command += \"--glm hide-covar\"\n",
    "    command += \" --keep %s/king-cutoff.king.cutoff.in.id\" % export_folder\n",
    "    command += \" --pheno %s/%s/hippo_ADP.csv\" % (export_folder, tag)\n",
    "    command += \" --covar %s/%s/covariates_PCs_MPV.csv\" % (export_folder, tag)\n",
    "    command += \" --out %s/%s/chr_%d_ADP_MPV\" % (export_folder, tag,k)\n",
    "    command += \" --threads %d\" % n_splits\n",
    "    command += \" --allow-no-sex\"\n",
    "    command += \" --variance-standardize\"\n",
    "    \n",
    "    f_name = \"/home/hv270/interval_slurm_calls/call_chr_%d_sysmex.sh\" % k\n",
    "    f = open(f_name,\"w+\")\n",
    "    f.write(\"#!/bin/sh\\n\")\n",
    "\n",
    "    f.write(\"#SBATCH -J chr_%d\\n\" % k)\n",
    "    f.write(\"#SBATCH -A ASTLE-SL2-CPU\\n\")\n",
    "    f.write(\"#SBATCH -N 1\\n\")\n",
    "    f.write(\"#SBATCH -n %d\\n\" % n_splits)\n",
    "    #f.write(\"#SBATCH -c %d\\n\" % n_splits)\n",
    "    f.write(\"#SBATCH --time=0:15:00\\n\")\n",
    "    f.write(\"#SBATCH -p skylake-himem\\n\")\n",
    "    f.write(\"#SBATCH --output=/home/hv270/slurm_log/%s_%s_ADP_MPV.out\\n\" % (tag,k))\n",
    "    f.write(\"export OMP_NUM_THREADS=%d\\n\" % n_splits)\n",
    "\n",
    "    f.write(\". /etc/profile.d/modules.sh\\n\")\n",
    "    f.write(\"module purge\\n\")\n",
    "    f.write(\"module load rhel7/default-peta4\\n\")\n",
    "    f.write(command)\n",
    "    f.close()\n",
    "    print(command)\n",
    "    \n",
    "    p = subprocess.Popen(\"sbatch %s\" % f_name,shell=True)\n",
    "    p.wait()"
   ]
  }
 ],
 "metadata": {
  "kernelspec": {
   "display_name": "Python 3",
   "language": "python",
   "name": "python3"
  },
  "language_info": {
   "codemirror_mode": {
    "name": "ipython",
    "version": 3
   },
   "file_extension": ".py",
   "mimetype": "text/x-python",
   "name": "python",
   "nbconvert_exporter": "python",
   "pygments_lexer": "ipython3",
   "version": "3.7.3"
  },
  "toc": {
   "base_numbering": 1,
   "nav_menu": {},
   "number_sections": true,
   "sideBar": true,
   "skip_h1_title": false,
   "title_cell": "Table of Contents",
   "title_sidebar": "Contents",
   "toc_cell": false,
   "toc_position": {},
   "toc_section_display": true,
   "toc_window_display": false
  }
 },
 "nbformat": 4,
 "nbformat_minor": 2
}
