{
 "cells": [
  {
   "cell_type": "code",
   "execution_count": 1,
   "metadata": {},
   "outputs": [],
   "source": [
    "import pandas as pd\n",
    "%matplotlib inline\n",
    "import matplotlib.pyplot as plt\n",
    "import subprocess\n",
    "export_folder = \"/home/hv270/rds/rds-who1000-cbrc/user/wja24/shared/hippolyte_only/interval_processing\"\n",
    "from scipy.stats import ttest_ind\n",
    "import numpy as np\n",
    "from sklearn.cluster import AgglomerativeClustering\n",
    "from sklearn.linear_model import LinearRegression\n",
    "from lifelines.statistics import logrank_test\n",
    "from tqdm import tqdm\n",
    "from sklearn.cluster import AgglomerativeClustering\n",
    "from glob import glob\n",
    "from scipy import stats"
   ]
  },
  {
   "cell_type": "code",
   "execution_count": 2,
   "metadata": {},
   "outputs": [],
   "source": [
    "pheno_cols = [\"ADP_FIB\",\"TRAP_FIB\"]\n",
    "EUR_path_interval = \"%s/genetic_score/EUR_interval\" % export_folder"
   ]
  },
  {
   "cell_type": "markdown",
   "metadata": {},
   "source": [
    "## Export Interval european IDs (no need to re-run)"
   ]
  },
  {
   "cell_type": "code",
   "execution_count": 25,
   "metadata": {},
   "outputs": [],
   "source": [
    "INTERVAL_path = \"/home/hv270/rds/rds-who1000-cbrc/user/wja24/shared/hippolyte_only\"\n",
    "pheno = pd.read_csv(\"%s/interval_phenotypes/INTERVALdata_14MAY2020.csv\" % INTERVAL_path,sep=\",\", encoding = \"ISO-8859-1\")"
   ]
  },
  {
   "cell_type": "code",
   "execution_count": 28,
   "metadata": {},
   "outputs": [
    {
     "data": {
      "text/plain": [
       "(41527, 760)"
      ]
     },
     "execution_count": 28,
     "metadata": {},
     "output_type": "execute_result"
    }
   ],
   "source": [
    "pheno = pheno.loc[pheno.ethnicPulse == \"Eng/W/Scot/NI/Brit\"]\n",
    "pheno.shape"
   ]
  },
  {
   "cell_type": "code",
   "execution_count": 29,
   "metadata": {},
   "outputs": [],
   "source": [
    "matching = pd.read_csv(\"/home/hv270/rds/rds-who1000-cbrc/user/wja24/shared/hippolyte_only/interval_phenotypes/INTERVAL_OmicsMap_20200514.csv\", sep=\",\")"
   ]
  },
  {
   "cell_type": "code",
   "execution_count": 45,
   "metadata": {},
   "outputs": [],
   "source": [
    "EUR_interval_list = pd.merge(pheno,matching,left_on=\"identifier\",right_on=\"identifier\")[\"Affymetrix_QC_bl\"].dropna().astype(int).unique().tolist()"
   ]
  },
  {
   "cell_type": "code",
   "execution_count": 48,
   "metadata": {},
   "outputs": [],
   "source": [
    "with open(EUR_path_interval,\"w\") as file:\n",
    "    for s in EUR_interval_list:\n",
    "        file.write(\"%s\\t%s\\n\" % (s,s))"
   ]
  },
  {
   "cell_type": "markdown",
   "metadata": {},
   "source": [
    "# Load GWAS"
   ]
  },
  {
   "cell_type": "code",
   "execution_count": 3,
   "metadata": {},
   "outputs": [],
   "source": [
    "tag = \"5mars\""
   ]
  },
  {
   "cell_type": "code",
   "execution_count": 4,
   "metadata": {},
   "outputs": [
    {
     "name": "stderr",
     "output_type": "stream",
     "text": [
      "100%|██████████| 2/2 [00:23<00:00, 11.53s/it]\n"
     ]
    }
   ],
   "source": [
    "gws = []\n",
    "#for c in tqdm(pheno_cols):\n",
    "for c in tqdm(pheno_cols):\n",
    "    gw = pd.read_csv(\"%s/%s/bolt_res_feb_%s\" % (export_folder,tag,c),sep=\"\\t\")\n",
    "    gw[\"pheno\"] = c\n",
    "    gw.P_BOLT_LMM = gw.P_BOLT_LMM.astype(float)\n",
    "    gws.append(gw)\n",
    "gw = pd.concat(gws,axis=0,copy=False)\n",
    "gw.rename(columns={\"P_BOLT_LMM\":\"P\"},inplace=True)"
   ]
  },
  {
   "cell_type": "code",
   "execution_count": 5,
   "metadata": {},
   "outputs": [],
   "source": [
    "gw[\"POS\"] = gw[\"BP\"]\n",
    "for ch in range(1,23):\n",
    "    gw.loc[gw.CHR > ch,\"POS\"] += gw.loc[gw.CHR == ch,\"BP\"].max()\n",
    "gw_ = gw.loc[gw.P < 1e-3]"
   ]
  },
  {
   "cell_type": "code",
   "execution_count": 6,
   "metadata": {
    "scrolled": true
   },
   "outputs": [
    {
     "name": "stderr",
     "output_type": "stream",
     "text": [
      "100%|██████████| 22/22 [01:26<00:00,  3.93s/it]\n"
     ]
    },
    {
     "name": "stdout",
     "output_type": "stream",
     "text": [
      "93095623\n",
      "['rs367896724', 'rs540431307', 'rs201106462', 'rs548419688', 'rs568405545', 'rs534229142', 'rs537182016', 'rs572818783', 'rs538322974', '1:10616_CCGCCGTTGCAAAGGCGCGCCG_C']\n",
      "0.9280581305265407\n"
     ]
    },
    {
     "name": "stderr",
     "output_type": "stream",
     "text": [
      "/home/hv270/platelets/lib/python3.7/site-packages/ipykernel_launcher.py:9: SettingWithCopyWarning: \n",
      "A value is trying to be set on a copy of a slice from a DataFrame.\n",
      "Try using .loc[row_indexer,col_indexer] = value instead\n",
      "\n",
      "See the caveats in the documentation: https://pandas.pydata.org/pandas-docs/stable/user_guide/indexing.html#returning-a-view-versus-a-copy\n",
      "  if __name__ == '__main__':\n"
     ]
    }
   ],
   "source": [
    "UKBB_SNPS = []\n",
    "for chrom in tqdm(range(1,23)):\n",
    "    with open(\"%s/UKBB_SNPS_CHR%d.snplist\" % (export_folder, chrom)) as f:\n",
    "        UKBB_SNPS += [c[:-1] for c in f.readlines()]\n",
    "\n",
    "print(len(UKBB_SNPS))\n",
    "print(UKBB_SNPS[:10])\n",
    "\n",
    "gw_[\"IN_UKBB\"] = gw_.SNP.isin(UKBB_SNPS)\n",
    "print(gw_[\"IN_UKBB\"].mean())"
   ]
  },
  {
   "cell_type": "markdown",
   "metadata": {},
   "source": [
    "# Prepare data for causal selection"
   ]
  },
  {
   "cell_type": "code",
   "execution_count": 7,
   "metadata": {},
   "outputs": [],
   "source": [
    "tag = \"5mars\"\n",
    "cov = pd.read_csv(\"%s/%s/covars.csv\" % (export_folder, tag), sep=\"\\t\")\n",
    "phenotypes = pd.read_csv(\"%s/%s/phenotypes.csv\" % (export_folder, tag), sep=\"\\t\")\n",
    "\n",
    "phenotypes[\"ID\"] = phenotypes[\"FID\"].astype(str) + \"_\" + phenotypes[\"IID\"].astype(str)\n",
    "phenotypes = phenotypes.set_index(\"ID\")[pheno_cols]\n",
    "\n",
    "cov[\"ID\"] = cov[\"FID\"].astype(str) + \"_\" + cov[\"IID\"].astype(str)\n",
    "covar_cols = [\"PC1\",\"PC2\",\"PC3\",\"PC4\",\"PC5\",\"PC6\",\"PC7\",\"PC8\",\"PC9\",\"PC10\",\"PLT\",\"MPV\",\"IPF\",\"PCT\",\"PDW\",\"Sex\",\"age_covar\",\"cohort_covar\"]\n",
    "cov = cov.set_index(\"ID\")[covar_cols]\n",
    "\n",
    "X = pd.merge(cov,phenotypes,left_index=True,right_index=True)"
   ]
  },
  {
   "cell_type": "code",
   "execution_count": 8,
   "metadata": {},
   "outputs": [
    {
     "data": {
      "text/html": [
       "<div>\n",
       "<style scoped>\n",
       "    .dataframe tbody tr th:only-of-type {\n",
       "        vertical-align: middle;\n",
       "    }\n",
       "\n",
       "    .dataframe tbody tr th {\n",
       "        vertical-align: top;\n",
       "    }\n",
       "\n",
       "    .dataframe thead th {\n",
       "        text-align: right;\n",
       "    }\n",
       "</style>\n",
       "<table border=\"1\" class=\"dataframe\">\n",
       "  <thead>\n",
       "    <tr style=\"text-align: right;\">\n",
       "      <th></th>\n",
       "      <th>PC1</th>\n",
       "      <th>PC2</th>\n",
       "      <th>PC3</th>\n",
       "      <th>PC4</th>\n",
       "      <th>PC5</th>\n",
       "      <th>PC6</th>\n",
       "      <th>PC7</th>\n",
       "      <th>PC8</th>\n",
       "      <th>PC9</th>\n",
       "      <th>PC10</th>\n",
       "      <th>PLT</th>\n",
       "      <th>MPV</th>\n",
       "      <th>IPF</th>\n",
       "      <th>PCT</th>\n",
       "      <th>PDW</th>\n",
       "      <th>Sex</th>\n",
       "      <th>age_covar</th>\n",
       "      <th>cohort_covar</th>\n",
       "    </tr>\n",
       "    <tr>\n",
       "      <th>ID</th>\n",
       "      <th></th>\n",
       "      <th></th>\n",
       "      <th></th>\n",
       "      <th></th>\n",
       "      <th></th>\n",
       "      <th></th>\n",
       "      <th></th>\n",
       "      <th></th>\n",
       "      <th></th>\n",
       "      <th></th>\n",
       "      <th></th>\n",
       "      <th></th>\n",
       "      <th></th>\n",
       "      <th></th>\n",
       "      <th></th>\n",
       "      <th></th>\n",
       "      <th></th>\n",
       "      <th></th>\n",
       "    </tr>\n",
       "  </thead>\n",
       "  <tbody>\n",
       "    <tr>\n",
       "      <th>110000305926_110000305926</th>\n",
       "      <td>0.001051</td>\n",
       "      <td>-0.005030</td>\n",
       "      <td>0.000366</td>\n",
       "      <td>-0.000485</td>\n",
       "      <td>0.003907</td>\n",
       "      <td>-0.001036</td>\n",
       "      <td>0.003214</td>\n",
       "      <td>0.007618</td>\n",
       "      <td>-0.000403</td>\n",
       "      <td>-0.004247</td>\n",
       "      <td>274.0</td>\n",
       "      <td>10.6</td>\n",
       "      <td>1.9</td>\n",
       "      <td>0.28</td>\n",
       "      <td>12.3</td>\n",
       "      <td>2.0</td>\n",
       "      <td>0.152542</td>\n",
       "      <td>0</td>\n",
       "    </tr>\n",
       "    <tr>\n",
       "      <th>110000305952_110000305952</th>\n",
       "      <td>-0.000064</td>\n",
       "      <td>-0.000603</td>\n",
       "      <td>0.000856</td>\n",
       "      <td>0.006369</td>\n",
       "      <td>-0.002127</td>\n",
       "      <td>0.006433</td>\n",
       "      <td>0.001969</td>\n",
       "      <td>-0.000814</td>\n",
       "      <td>-0.000623</td>\n",
       "      <td>0.001776</td>\n",
       "      <td>258.0</td>\n",
       "      <td>10.6</td>\n",
       "      <td>1.7</td>\n",
       "      <td>0.25</td>\n",
       "      <td>13.0</td>\n",
       "      <td>1.0</td>\n",
       "      <td>0.203390</td>\n",
       "      <td>0</td>\n",
       "    </tr>\n",
       "    <tr>\n",
       "      <th>110000315493_110000315493</th>\n",
       "      <td>0.001009</td>\n",
       "      <td>0.004312</td>\n",
       "      <td>-0.009543</td>\n",
       "      <td>0.008209</td>\n",
       "      <td>0.002722</td>\n",
       "      <td>0.004606</td>\n",
       "      <td>0.004591</td>\n",
       "      <td>0.006361</td>\n",
       "      <td>0.002414</td>\n",
       "      <td>0.001101</td>\n",
       "      <td>213.0</td>\n",
       "      <td>11.8</td>\n",
       "      <td>2.2</td>\n",
       "      <td>0.26</td>\n",
       "      <td>14.9</td>\n",
       "      <td>1.0</td>\n",
       "      <td>0.470339</td>\n",
       "      <td>0</td>\n",
       "    </tr>\n",
       "    <tr>\n",
       "      <th>110000315494_110000315494</th>\n",
       "      <td>0.006815</td>\n",
       "      <td>0.000915</td>\n",
       "      <td>0.006795</td>\n",
       "      <td>-0.005582</td>\n",
       "      <td>-0.005617</td>\n",
       "      <td>0.001646</td>\n",
       "      <td>0.000007</td>\n",
       "      <td>0.000766</td>\n",
       "      <td>0.007461</td>\n",
       "      <td>0.002496</td>\n",
       "      <td>277.0</td>\n",
       "      <td>12.0</td>\n",
       "      <td>4.6</td>\n",
       "      <td>0.33</td>\n",
       "      <td>14.4</td>\n",
       "      <td>2.0</td>\n",
       "      <td>0.487288</td>\n",
       "      <td>0</td>\n",
       "    </tr>\n",
       "    <tr>\n",
       "      <th>110000315495_110000315495</th>\n",
       "      <td>0.006833</td>\n",
       "      <td>0.003003</td>\n",
       "      <td>0.002493</td>\n",
       "      <td>0.000562</td>\n",
       "      <td>0.008410</td>\n",
       "      <td>0.002672</td>\n",
       "      <td>0.010753</td>\n",
       "      <td>0.005626</td>\n",
       "      <td>0.001188</td>\n",
       "      <td>0.000879</td>\n",
       "      <td>199.0</td>\n",
       "      <td>12.2</td>\n",
       "      <td>8.5</td>\n",
       "      <td>0.24</td>\n",
       "      <td>15.9</td>\n",
       "      <td>1.0</td>\n",
       "      <td>-0.322034</td>\n",
       "      <td>0</td>\n",
       "    </tr>\n",
       "  </tbody>\n",
       "</table>\n",
       "</div>"
      ],
      "text/plain": [
       "                                PC1       PC2       PC3       PC4       PC5  \\\n",
       "ID                                                                            \n",
       "110000305926_110000305926  0.001051 -0.005030  0.000366 -0.000485  0.003907   \n",
       "110000305952_110000305952 -0.000064 -0.000603  0.000856  0.006369 -0.002127   \n",
       "110000315493_110000315493  0.001009  0.004312 -0.009543  0.008209  0.002722   \n",
       "110000315494_110000315494  0.006815  0.000915  0.006795 -0.005582 -0.005617   \n",
       "110000315495_110000315495  0.006833  0.003003  0.002493  0.000562  0.008410   \n",
       "\n",
       "                                PC6       PC7       PC8       PC9      PC10  \\\n",
       "ID                                                                            \n",
       "110000305926_110000305926 -0.001036  0.003214  0.007618 -0.000403 -0.004247   \n",
       "110000305952_110000305952  0.006433  0.001969 -0.000814 -0.000623  0.001776   \n",
       "110000315493_110000315493  0.004606  0.004591  0.006361  0.002414  0.001101   \n",
       "110000315494_110000315494  0.001646  0.000007  0.000766  0.007461  0.002496   \n",
       "110000315495_110000315495  0.002672  0.010753  0.005626  0.001188  0.000879   \n",
       "\n",
       "                             PLT   MPV  IPF   PCT   PDW  Sex  age_covar  \\\n",
       "ID                                                                        \n",
       "110000305926_110000305926  274.0  10.6  1.9  0.28  12.3  2.0   0.152542   \n",
       "110000305952_110000305952  258.0  10.6  1.7  0.25  13.0  1.0   0.203390   \n",
       "110000315493_110000315493  213.0  11.8  2.2  0.26  14.9  1.0   0.470339   \n",
       "110000315494_110000315494  277.0  12.0  4.6  0.33  14.4  2.0   0.487288   \n",
       "110000315495_110000315495  199.0  12.2  8.5  0.24  15.9  1.0  -0.322034   \n",
       "\n",
       "                           cohort_covar  \n",
       "ID                                       \n",
       "110000305926_110000305926             0  \n",
       "110000305952_110000305952             0  \n",
       "110000315493_110000315493             0  \n",
       "110000315494_110000315494             0  \n",
       "110000315495_110000315495             0  "
      ]
     },
     "execution_count": 8,
     "metadata": {},
     "output_type": "execute_result"
    }
   ],
   "source": [
    "cov.head()"
   ]
  },
  {
   "cell_type": "code",
   "execution_count": 9,
   "metadata": {},
   "outputs": [
    {
     "data": {
      "text/html": [
       "<div>\n",
       "<style scoped>\n",
       "    .dataframe tbody tr th:only-of-type {\n",
       "        vertical-align: middle;\n",
       "    }\n",
       "\n",
       "    .dataframe tbody tr th {\n",
       "        vertical-align: top;\n",
       "    }\n",
       "\n",
       "    .dataframe thead th {\n",
       "        text-align: right;\n",
       "    }\n",
       "</style>\n",
       "<table border=\"1\" class=\"dataframe\">\n",
       "  <thead>\n",
       "    <tr style=\"text-align: right;\">\n",
       "      <th></th>\n",
       "      <th>ADP_FIB</th>\n",
       "      <th>TRAP_FIB</th>\n",
       "    </tr>\n",
       "    <tr>\n",
       "      <th>ID</th>\n",
       "      <th></th>\n",
       "      <th></th>\n",
       "    </tr>\n",
       "  </thead>\n",
       "  <tbody>\n",
       "    <tr>\n",
       "      <th>110000305926_110000305926</th>\n",
       "      <td>0.450182</td>\n",
       "      <td>0.157353</td>\n",
       "    </tr>\n",
       "    <tr>\n",
       "      <th>110000305952_110000305952</th>\n",
       "      <td>0.348209</td>\n",
       "      <td>0.062163</td>\n",
       "    </tr>\n",
       "    <tr>\n",
       "      <th>110000315493_110000315493</th>\n",
       "      <td>1.109334</td>\n",
       "      <td>0.227460</td>\n",
       "    </tr>\n",
       "    <tr>\n",
       "      <th>110000315494_110000315494</th>\n",
       "      <td>0.387218</td>\n",
       "      <td>-0.111896</td>\n",
       "    </tr>\n",
       "    <tr>\n",
       "      <th>110000315495_110000315495</th>\n",
       "      <td>0.395256</td>\n",
       "      <td>0.031637</td>\n",
       "    </tr>\n",
       "  </tbody>\n",
       "</table>\n",
       "</div>"
      ],
      "text/plain": [
       "                            ADP_FIB  TRAP_FIB\n",
       "ID                                           \n",
       "110000305926_110000305926  0.450182  0.157353\n",
       "110000305952_110000305952  0.348209  0.062163\n",
       "110000315493_110000315493  1.109334  0.227460\n",
       "110000315494_110000315494  0.387218 -0.111896\n",
       "110000315495_110000315495  0.395256  0.031637"
      ]
     },
     "execution_count": 9,
     "metadata": {},
     "output_type": "execute_result"
    }
   ],
   "source": [
    "phenotypes.head()"
   ]
  },
  {
   "cell_type": "markdown",
   "metadata": {},
   "source": [
    "# Do causal selection"
   ]
  },
  {
   "cell_type": "code",
   "execution_count": 10,
   "metadata": {},
   "outputs": [],
   "source": [
    "from scipy.stats import pearsonr, levene"
   ]
  },
  {
   "cell_type": "code",
   "execution_count": 11,
   "metadata": {},
   "outputs": [],
   "source": [
    "def get_p_value(source,target):\n",
    "    lm = LinearRegression().fit(source,target)\n",
    "    return pearsonr(target,lm.predict(source))[1]"
   ]
  },
  {
   "cell_type": "code",
   "execution_count": 12,
   "metadata": {},
   "outputs": [],
   "source": [
    "def compare_p_values(X,model,augmented_model,Y):\n",
    "    lm1 = LinearRegression().fit(X[model],Y)\n",
    "    lm2 = LinearRegression().fit(X[augmented_model],Y)\n",
    "    \n",
    "    fit_1 = lm1.predict(X[model])\n",
    "    fit_2 = lm2.predict(X[augmented_model])\n",
    "    \n",
    "    #residuals_1 = Y-fit_1\n",
    "    #residuals_2 = Y-fit_2\n",
    "    \n",
    "    #p_val = levene(residuals_1,residuals_2,center=\"mean\")[1]\n",
    "    p_val = levene(fit_1,fit_2,center=\"mean\")[1]\n",
    "    \n",
    "    return p_val"
   ]
  },
  {
   "cell_type": "code",
   "execution_count": 92,
   "metadata": {},
   "outputs": [
    {
     "data": {
      "text/html": [
       "<div>\n",
       "<style scoped>\n",
       "    .dataframe tbody tr th:only-of-type {\n",
       "        vertical-align: middle;\n",
       "    }\n",
       "\n",
       "    .dataframe tbody tr th {\n",
       "        vertical-align: top;\n",
       "    }\n",
       "\n",
       "    .dataframe thead th {\n",
       "        text-align: right;\n",
       "    }\n",
       "</style>\n",
       "<table border=\"1\" class=\"dataframe\">\n",
       "  <thead>\n",
       "    <tr style=\"text-align: right;\">\n",
       "      <th></th>\n",
       "      <th>SNP</th>\n",
       "      <th>CHR</th>\n",
       "      <th>BP</th>\n",
       "      <th>GENPOS</th>\n",
       "      <th>ALLELE1</th>\n",
       "      <th>ALLELE0</th>\n",
       "      <th>A1FREQ</th>\n",
       "      <th>F_MISS</th>\n",
       "      <th>BETA</th>\n",
       "      <th>SE</th>\n",
       "      <th>P_BOLT_LMM_INF</th>\n",
       "      <th>P</th>\n",
       "      <th>pheno</th>\n",
       "      <th>POS</th>\n",
       "    </tr>\n",
       "  </thead>\n",
       "  <tbody>\n",
       "    <tr>\n",
       "      <th>4897307</th>\n",
       "      <td>rs6993770</td>\n",
       "      <td>8</td>\n",
       "      <td>106581528</td>\n",
       "      <td>0</td>\n",
       "      <td>A</td>\n",
       "      <td>T</td>\n",
       "      <td>0.715596</td>\n",
       "      <td>0.006605</td>\n",
       "      <td>0.033260</td>\n",
       "      <td>0.003018</td>\n",
       "      <td>3.100000e-28</td>\n",
       "      <td>9.200000e-29</td>\n",
       "      <td>TRAP_FIB</td>\n",
       "      <td>1499032756</td>\n",
       "    </tr>\n",
       "    <tr>\n",
       "      <th>4897307</th>\n",
       "      <td>rs6993770</td>\n",
       "      <td>8</td>\n",
       "      <td>106581528</td>\n",
       "      <td>0</td>\n",
       "      <td>A</td>\n",
       "      <td>T</td>\n",
       "      <td>0.715596</td>\n",
       "      <td>0.006605</td>\n",
       "      <td>0.050480</td>\n",
       "      <td>0.004762</td>\n",
       "      <td>3.000000e-26</td>\n",
       "      <td>9.600000e-27</td>\n",
       "      <td>ADP_FIB</td>\n",
       "      <td>1499032756</td>\n",
       "    </tr>\n",
       "    <tr>\n",
       "      <th>4897310</th>\n",
       "      <td>rs4734879</td>\n",
       "      <td>8</td>\n",
       "      <td>106583124</td>\n",
       "      <td>0</td>\n",
       "      <td>A</td>\n",
       "      <td>G</td>\n",
       "      <td>0.728222</td>\n",
       "      <td>0.008874</td>\n",
       "      <td>0.032153</td>\n",
       "      <td>0.003067</td>\n",
       "      <td>1.000000e-25</td>\n",
       "      <td>3.300000e-26</td>\n",
       "      <td>TRAP_FIB</td>\n",
       "      <td>1499034352</td>\n",
       "    </tr>\n",
       "    <tr>\n",
       "      <th>4897298</th>\n",
       "      <td>rs7832219</td>\n",
       "      <td>8</td>\n",
       "      <td>106578977</td>\n",
       "      <td>0</td>\n",
       "      <td>T</td>\n",
       "      <td>C</td>\n",
       "      <td>0.728564</td>\n",
       "      <td>0.011246</td>\n",
       "      <td>0.032056</td>\n",
       "      <td>0.003069</td>\n",
       "      <td>1.600000e-25</td>\n",
       "      <td>5.000000e-26</td>\n",
       "      <td>TRAP_FIB</td>\n",
       "      <td>1499030205</td>\n",
       "    </tr>\n",
       "    <tr>\n",
       "      <th>4897275</th>\n",
       "      <td>rs2343592</td>\n",
       "      <td>8</td>\n",
       "      <td>106572270</td>\n",
       "      <td>0</td>\n",
       "      <td>A</td>\n",
       "      <td>G</td>\n",
       "      <td>0.736865</td>\n",
       "      <td>0.014294</td>\n",
       "      <td>0.032404</td>\n",
       "      <td>0.003107</td>\n",
       "      <td>1.800000e-25</td>\n",
       "      <td>5.400000e-26</td>\n",
       "      <td>TRAP_FIB</td>\n",
       "      <td>1499023498</td>\n",
       "    </tr>\n",
       "  </tbody>\n",
       "</table>\n",
       "</div>"
      ],
      "text/plain": [
       "               SNP  CHR         BP  GENPOS ALLELE1 ALLELE0    A1FREQ  \\\n",
       "4897307  rs6993770    8  106581528       0       A       T  0.715596   \n",
       "4897307  rs6993770    8  106581528       0       A       T  0.715596   \n",
       "4897310  rs4734879    8  106583124       0       A       G  0.728222   \n",
       "4897298  rs7832219    8  106578977       0       T       C  0.728564   \n",
       "4897275  rs2343592    8  106572270       0       A       G  0.736865   \n",
       "\n",
       "           F_MISS      BETA        SE  P_BOLT_LMM_INF             P     pheno  \\\n",
       "4897307  0.006605  0.033260  0.003018    3.100000e-28  9.200000e-29  TRAP_FIB   \n",
       "4897307  0.006605  0.050480  0.004762    3.000000e-26  9.600000e-27   ADP_FIB   \n",
       "4897310  0.008874  0.032153  0.003067    1.000000e-25  3.300000e-26  TRAP_FIB   \n",
       "4897298  0.011246  0.032056  0.003069    1.600000e-25  5.000000e-26  TRAP_FIB   \n",
       "4897275  0.014294  0.032404  0.003107    1.800000e-25  5.400000e-26  TRAP_FIB   \n",
       "\n",
       "                POS  \n",
       "4897307  1499032756  \n",
       "4897307  1499032756  \n",
       "4897310  1499034352  \n",
       "4897298  1499030205  \n",
       "4897275  1499023498  "
      ]
     },
     "execution_count": 92,
     "metadata": {},
     "output_type": "execute_result"
    }
   ],
   "source": [
    "gw.sort_values(\"P\").head()"
   ]
  },
  {
   "cell_type": "code",
   "execution_count": 13,
   "metadata": {},
   "outputs": [
    {
     "name": "stdout",
     "output_type": "stream",
     "text": [
      "Starting causal SNPs extraction\n",
      "ADP_FIB\n",
      "Region 0\n",
      "Done exporting genotypes\n"
     ]
    },
    {
     "name": "stderr",
     "output_type": "stream",
     "text": [
      "/home/hv270/platelets/lib/python3.7/site-packages/ipykernel_launcher.py:54: SettingWithCopyWarning: \n",
      "A value is trying to be set on a copy of a slice from a DataFrame.\n",
      "Try using .loc[row_indexer,col_indexer] = value instead\n",
      "\n",
      "See the caveats in the documentation: https://pandas.pydata.org/pandas-docs/stable/user_guide/indexing.html#returning-a-view-versus-a-copy\n"
     ]
    },
    {
     "name": "stdout",
     "output_type": "stream",
     "text": [
      "Done causal variant extraction. Kept 2 out of 7\n",
      "Hit : \n",
      "         CHR        BP         SNP             P\n",
      "8813200   20  57547945   rs6064731  1.200000e-11\n",
      "8813349   20  57594684  rs34524896  4.300000e-18\n",
      "Region 1\n",
      "Done exporting genotypes\n"
     ]
    },
    {
     "name": "stderr",
     "output_type": "stream",
     "text": [
      "/home/hv270/platelets/lib/python3.7/site-packages/ipykernel_launcher.py:54: SettingWithCopyWarning: \n",
      "A value is trying to be set on a copy of a slice from a DataFrame.\n",
      "Try using .loc[row_indexer,col_indexer] = value instead\n",
      "\n",
      "See the caveats in the documentation: https://pandas.pydata.org/pandas-docs/stable/user_guide/indexing.html#returning-a-view-versus-a-copy\n"
     ]
    },
    {
     "name": "stdout",
     "output_type": "stream",
     "text": [
      "Done causal variant extraction. Kept 2 out of 45\n",
      "Hit : \n",
      "        CHR         BP         SNP             P\n",
      "530956    1  198990494  rs17625587  9.500000e-21\n",
      "530983    1  199010721   rs1434282  2.300000e-21\n",
      "Region 2\n",
      "Done exporting genotypes\n"
     ]
    },
    {
     "name": "stderr",
     "output_type": "stream",
     "text": [
      "/home/hv270/platelets/lib/python3.7/site-packages/ipykernel_launcher.py:54: SettingWithCopyWarning: \n",
      "A value is trying to be set on a copy of a slice from a DataFrame.\n",
      "Try using .loc[row_indexer,col_indexer] = value instead\n",
      "\n",
      "See the caveats in the documentation: https://pandas.pydata.org/pandas-docs/stable/user_guide/indexing.html#returning-a-view-versus-a-copy\n"
     ]
    },
    {
     "name": "stdout",
     "output_type": "stream",
     "text": [
      "Done causal variant extraction. Kept 2 out of 12\n",
      "Hit : \n",
      "         CHR         BP        SNP             P\n",
      "6725700   12  122365583  rs7961894  8.700000e-19\n",
      "6725841   12  122401501  rs1169072  6.300000e-09\n",
      "Region 3\n",
      "Done exporting genotypes\n"
     ]
    },
    {
     "name": "stderr",
     "output_type": "stream",
     "text": [
      "/home/hv270/platelets/lib/python3.7/site-packages/ipykernel_launcher.py:54: SettingWithCopyWarning: \n",
      "A value is trying to be set on a copy of a slice from a DataFrame.\n",
      "Try using .loc[row_indexer,col_indexer] = value instead\n",
      "\n",
      "See the caveats in the documentation: https://pandas.pydata.org/pandas-docs/stable/user_guide/indexing.html#returning-a-view-versus-a-copy\n"
     ]
    },
    {
     "name": "stdout",
     "output_type": "stream",
     "text": [
      "Done causal variant extraction. Kept 1 out of 61\n",
      "Hit : \n",
      "         CHR        BP         SNP             P\n",
      "7536861   15  65160392  rs59001897  3.500000e-17\n",
      "Region 4\n",
      "Done exporting genotypes\n"
     ]
    },
    {
     "name": "stderr",
     "output_type": "stream",
     "text": [
      "/home/hv270/platelets/lib/python3.7/site-packages/ipykernel_launcher.py:54: SettingWithCopyWarning: \n",
      "A value is trying to be set on a copy of a slice from a DataFrame.\n",
      "Try using .loc[row_indexer,col_indexer] = value instead\n",
      "\n",
      "See the caveats in the documentation: https://pandas.pydata.org/pandas-docs/stable/user_guide/indexing.html#returning-a-view-versus-a-copy\n"
     ]
    },
    {
     "name": "stdout",
     "output_type": "stream",
     "text": [
      "Done causal variant extraction. Kept 1 out of 26\n",
      "Hit : \n",
      "        CHR         BP         SNP             P\n",
      "556192    1  207281706  rs34101855  2.500000e-17\n",
      "Region 5\n",
      "Done exporting genotypes\n"
     ]
    },
    {
     "name": "stderr",
     "output_type": "stream",
     "text": [
      "/home/hv270/platelets/lib/python3.7/site-packages/ipykernel_launcher.py:54: SettingWithCopyWarning: \n",
      "A value is trying to be set on a copy of a slice from a DataFrame.\n",
      "Try using .loc[row_indexer,col_indexer] = value instead\n",
      "\n",
      "See the caveats in the documentation: https://pandas.pydata.org/pandas-docs/stable/user_guide/indexing.html#returning-a-view-versus-a-copy\n"
     ]
    },
    {
     "name": "stdout",
     "output_type": "stream",
     "text": [
      "Done causal variant extraction. Kept 1 out of 9\n",
      "Hit : \n",
      "        CHR         BP         SNP             P\n",
      "446372    1  171949750  rs10914144  1.900000e-14\n",
      "Region 6\n",
      "Done exporting genotypes\n"
     ]
    },
    {
     "name": "stderr",
     "output_type": "stream",
     "text": [
      "/home/hv270/platelets/lib/python3.7/site-packages/ipykernel_launcher.py:54: SettingWithCopyWarning: \n",
      "A value is trying to be set on a copy of a slice from a DataFrame.\n",
      "Try using .loc[row_indexer,col_indexer] = value instead\n",
      "\n",
      "See the caveats in the documentation: https://pandas.pydata.org/pandas-docs/stable/user_guide/indexing.html#returning-a-view-versus-a-copy\n"
     ]
    },
    {
     "name": "stdout",
     "output_type": "stream",
     "text": [
      "Done causal variant extraction. Kept 1 out of 16\n",
      "Hit : \n",
      "         CHR        BP         SNP             P\n",
      "5639601   10  65027610  rs10761731  4.000000e-10\n",
      "Region 7\n",
      "Done exporting genotypes\n"
     ]
    },
    {
     "name": "stderr",
     "output_type": "stream",
     "text": [
      "/home/hv270/platelets/lib/python3.7/site-packages/ipykernel_launcher.py:54: SettingWithCopyWarning: \n",
      "A value is trying to be set on a copy of a slice from a DataFrame.\n",
      "Try using .loc[row_indexer,col_indexer] = value instead\n",
      "\n",
      "See the caveats in the documentation: https://pandas.pydata.org/pandas-docs/stable/user_guide/indexing.html#returning-a-view-versus-a-copy\n"
     ]
    },
    {
     "name": "stdout",
     "output_type": "stream",
     "text": [
      "Done causal variant extraction. Kept 1 out of 106\n",
      "Hit : \n",
      "         CHR         BP        SNP             P\n",
      "4897307    8  106581528  rs6993770  9.600000e-27\n",
      "Region 8\n",
      "Done exporting genotypes\n"
     ]
    },
    {
     "name": "stderr",
     "output_type": "stream",
     "text": [
      "/home/hv270/platelets/lib/python3.7/site-packages/ipykernel_launcher.py:54: SettingWithCopyWarning: \n",
      "A value is trying to be set on a copy of a slice from a DataFrame.\n",
      "Try using .loc[row_indexer,col_indexer] = value instead\n",
      "\n",
      "See the caveats in the documentation: https://pandas.pydata.org/pandas-docs/stable/user_guide/indexing.html#returning-a-view-versus-a-copy\n"
     ]
    },
    {
     "name": "stdout",
     "output_type": "stream",
     "text": [
      "Done causal variant extraction. Kept 1 out of 61\n",
      "Hit : \n",
      "         CHR        BP        SNP             P\n",
      "7888473   16  81886182  rs7193477  4.200000e-16\n",
      "Region 9\n",
      "Done exporting genotypes\n"
     ]
    },
    {
     "name": "stderr",
     "output_type": "stream",
     "text": [
      "/home/hv270/platelets/lib/python3.7/site-packages/ipykernel_launcher.py:54: SettingWithCopyWarning: \n",
      "A value is trying to be set on a copy of a slice from a DataFrame.\n",
      "Try using .loc[row_indexer,col_indexer] = value instead\n",
      "\n",
      "See the caveats in the documentation: https://pandas.pydata.org/pandas-docs/stable/user_guide/indexing.html#returning-a-view-versus-a-copy\n"
     ]
    },
    {
     "name": "stdout",
     "output_type": "stream",
     "text": [
      "Done causal variant extraction. Kept 1 out of 2\n",
      "Hit : \n",
      "         CHR       BP        SNP             P\n",
      "8206256   18  9620332  rs9807614  9.200000e-09\n",
      "Region 10\n",
      "Done exporting genotypes\n"
     ]
    },
    {
     "name": "stderr",
     "output_type": "stream",
     "text": [
      "/home/hv270/platelets/lib/python3.7/site-packages/ipykernel_launcher.py:54: SettingWithCopyWarning: \n",
      "A value is trying to be set on a copy of a slice from a DataFrame.\n",
      "Try using .loc[row_indexer,col_indexer] = value instead\n",
      "\n",
      "See the caveats in the documentation: https://pandas.pydata.org/pandas-docs/stable/user_guide/indexing.html#returning-a-view-versus-a-copy\n"
     ]
    },
    {
     "name": "stdout",
     "output_type": "stream",
     "text": [
      "Done causal variant extraction. Kept 1 out of 1\n",
      "Hit : \n",
      "         CHR         BP         SNP             P\n",
      "5329368    9  113312231  rs61751937  6.900000e-11\n",
      "Region 11\n",
      "Done exporting genotypes\n"
     ]
    },
    {
     "name": "stderr",
     "output_type": "stream",
     "text": [
      "/home/hv270/platelets/lib/python3.7/site-packages/ipykernel_launcher.py:54: SettingWithCopyWarning: \n",
      "A value is trying to be set on a copy of a slice from a DataFrame.\n",
      "Try using .loc[row_indexer,col_indexer] = value instead\n",
      "\n",
      "See the caveats in the documentation: https://pandas.pydata.org/pandas-docs/stable/user_guide/indexing.html#returning-a-view-versus-a-copy\n"
     ]
    },
    {
     "name": "stdout",
     "output_type": "stream",
     "text": [
      "Done causal variant extraction. Kept 2 out of 503\n",
      "Hit : \n",
      "         CHR         BP        SNP             P\n",
      "3182577    5  122220665   rs152039  3.200000e-19\n",
      "3183082    5  122347871  rs2617453  9.500000e-14\n",
      "Region 12\n",
      "Done exporting genotypes\n"
     ]
    },
    {
     "name": "stderr",
     "output_type": "stream",
     "text": [
      "/home/hv270/platelets/lib/python3.7/site-packages/ipykernel_launcher.py:54: SettingWithCopyWarning: \n",
      "A value is trying to be set on a copy of a slice from a DataFrame.\n",
      "Try using .loc[row_indexer,col_indexer] = value instead\n",
      "\n",
      "See the caveats in the documentation: https://pandas.pydata.org/pandas-docs/stable/user_guide/indexing.html#returning-a-view-versus-a-copy\n"
     ]
    },
    {
     "name": "stdout",
     "output_type": "stream",
     "text": [
      "Done causal variant extraction. Kept 1 out of 68\n",
      "Hit : \n",
      "         CHR        BP        SNP             P\n",
      "8620574   19  55538980  rs1654425  3.200000e-15\n",
      "Region 13\n",
      "Done exporting genotypes\n"
     ]
    },
    {
     "name": "stderr",
     "output_type": "stream",
     "text": [
      "/home/hv270/platelets/lib/python3.7/site-packages/ipykernel_launcher.py:54: SettingWithCopyWarning: \n",
      "A value is trying to be set on a copy of a slice from a DataFrame.\n",
      "Try using .loc[row_indexer,col_indexer] = value instead\n",
      "\n",
      "See the caveats in the documentation: https://pandas.pydata.org/pandas-docs/stable/user_guide/indexing.html#returning-a-view-versus-a-copy\n"
     ]
    },
    {
     "name": "stdout",
     "output_type": "stream",
     "text": [
      "Done causal variant extraction. Kept 2 out of 78\n",
      "Hit : \n",
      "         CHR         BP         SNP             P\n",
      "4357695    7  106372219    rs342293  1.800000e-20\n",
      "4357707    7  106374640  rs12534496  1.300000e-11\n",
      "Region 14\n",
      "Done exporting genotypes\n"
     ]
    },
    {
     "name": "stderr",
     "output_type": "stream",
     "text": [
      "/home/hv270/platelets/lib/python3.7/site-packages/ipykernel_launcher.py:54: SettingWithCopyWarning: \n",
      "A value is trying to be set on a copy of a slice from a DataFrame.\n",
      "Try using .loc[row_indexer,col_indexer] = value instead\n",
      "\n",
      "See the caveats in the documentation: https://pandas.pydata.org/pandas-docs/stable/user_guide/indexing.html#returning-a-view-versus-a-copy\n"
     ]
    },
    {
     "name": "stdout",
     "output_type": "stream",
     "text": [
      "Done causal variant extraction. Kept 1 out of 1\n",
      "Hit : \n",
      "         CHR         BP         SNP             P\n",
      "5025984    8  145031968  rs55831924  4.100000e-09\n",
      "Region 15\n",
      "Done exporting genotypes\n"
     ]
    },
    {
     "name": "stderr",
     "output_type": "stream",
     "text": [
      "/home/hv270/platelets/lib/python3.7/site-packages/ipykernel_launcher.py:54: SettingWithCopyWarning: \n",
      "A value is trying to be set on a copy of a slice from a DataFrame.\n",
      "Try using .loc[row_indexer,col_indexer] = value instead\n",
      "\n",
      "See the caveats in the documentation: https://pandas.pydata.org/pandas-docs/stable/user_guide/indexing.html#returning-a-view-versus-a-copy\n"
     ]
    },
    {
     "name": "stdout",
     "output_type": "stream",
     "text": [
      "Done causal variant extraction. Kept 1 out of 1\n",
      "Hit : \n",
      "         CHR        BP        SNP             P\n",
      "1657453    3  56849749  rs1354034  9.200000e-10\n",
      "Region 16\n",
      "Done exporting genotypes\n"
     ]
    },
    {
     "name": "stderr",
     "output_type": "stream",
     "text": [
      "/home/hv270/platelets/lib/python3.7/site-packages/ipykernel_launcher.py:54: SettingWithCopyWarning: \n",
      "A value is trying to be set on a copy of a slice from a DataFrame.\n",
      "Try using .loc[row_indexer,col_indexer] = value instead\n",
      "\n",
      "See the caveats in the documentation: https://pandas.pydata.org/pandas-docs/stable/user_guide/indexing.html#returning-a-view-versus-a-copy\n"
     ]
    },
    {
     "name": "stdout",
     "output_type": "stream",
     "text": [
      "Done causal variant extraction. Kept 1 out of 2\n",
      "Hit : \n",
      "         CHR       BP         SNP             P\n",
      "7946029   17  3819002  rs11078475  2.800000e-09\n",
      "Region 17\n",
      "Done exporting genotypes\n"
     ]
    },
    {
     "name": "stderr",
     "output_type": "stream",
     "text": [
      "/home/hv270/platelets/lib/python3.7/site-packages/ipykernel_launcher.py:54: SettingWithCopyWarning: \n",
      "A value is trying to be set on a copy of a slice from a DataFrame.\n",
      "Try using .loc[row_indexer,col_indexer] = value instead\n",
      "\n",
      "See the caveats in the documentation: https://pandas.pydata.org/pandas-docs/stable/user_guide/indexing.html#returning-a-view-versus-a-copy\n"
     ]
    },
    {
     "name": "stdout",
     "output_type": "stream",
     "text": [
      "Done causal variant extraction. Kept 1 out of 2\n",
      "Hit : \n",
      "        CHR         BP         SNP             P\n",
      "392805    1  156869714  rs12041331  5.000000e-10\n",
      "Region 18\n",
      "Done exporting genotypes\n"
     ]
    },
    {
     "name": "stderr",
     "output_type": "stream",
     "text": [
      "/home/hv270/platelets/lib/python3.7/site-packages/ipykernel_launcher.py:54: SettingWithCopyWarning: \n",
      "A value is trying to be set on a copy of a slice from a DataFrame.\n",
      "Try using .loc[row_indexer,col_indexer] = value instead\n",
      "\n",
      "See the caveats in the documentation: https://pandas.pydata.org/pandas-docs/stable/user_guide/indexing.html#returning-a-view-versus-a-copy\n"
     ]
    },
    {
     "name": "stdout",
     "output_type": "stream",
     "text": [
      "Done causal variant extraction. Kept 1 out of 33\n",
      "Hit : \n",
      "         CHR         BP          SNP             P\n",
      "5768135   10  104330296  rs111763415  2.200000e-09\n",
      "Region 19\n",
      "Done exporting genotypes\n"
     ]
    },
    {
     "name": "stderr",
     "output_type": "stream",
     "text": [
      "/home/hv270/platelets/lib/python3.7/site-packages/ipykernel_launcher.py:54: SettingWithCopyWarning: \n",
      "A value is trying to be set on a copy of a slice from a DataFrame.\n",
      "Try using .loc[row_indexer,col_indexer] = value instead\n",
      "\n",
      "See the caveats in the documentation: https://pandas.pydata.org/pandas-docs/stable/user_guide/indexing.html#returning-a-view-versus-a-copy\n"
     ]
    },
    {
     "name": "stdout",
     "output_type": "stream",
     "text": [
      "Done causal variant extraction. Kept 1 out of 1\n",
      "Hit : \n",
      "        CHR         BP         SNP             P\n",
      "698870    1  248020556  rs11204523  4.000000e-09\n",
      "Starting causal SNPs extraction\n",
      "TRAP_FIB\n",
      "Region 0\n",
      "Done exporting genotypes\n"
     ]
    },
    {
     "name": "stderr",
     "output_type": "stream",
     "text": [
      "/home/hv270/platelets/lib/python3.7/site-packages/ipykernel_launcher.py:54: SettingWithCopyWarning: \n",
      "A value is trying to be set on a copy of a slice from a DataFrame.\n",
      "Try using .loc[row_indexer,col_indexer] = value instead\n",
      "\n",
      "See the caveats in the documentation: https://pandas.pydata.org/pandas-docs/stable/user_guide/indexing.html#returning-a-view-versus-a-copy\n"
     ]
    },
    {
     "name": "stdout",
     "output_type": "stream",
     "text": [
      "Done causal variant extraction. Kept 2 out of 2\n",
      "Hit : \n",
      "         CHR         BP          SNP             P\n",
      "5328291    9  113099642  rs117149770  4.600000e-09\n",
      "5329368    9  113312231   rs61751937  2.300000e-11\n",
      "Region 1\n",
      "Done exporting genotypes\n"
     ]
    },
    {
     "name": "stderr",
     "output_type": "stream",
     "text": [
      "/home/hv270/platelets/lib/python3.7/site-packages/ipykernel_launcher.py:54: SettingWithCopyWarning: \n",
      "A value is trying to be set on a copy of a slice from a DataFrame.\n",
      "Try using .loc[row_indexer,col_indexer] = value instead\n",
      "\n",
      "See the caveats in the documentation: https://pandas.pydata.org/pandas-docs/stable/user_guide/indexing.html#returning-a-view-versus-a-copy\n"
     ]
    },
    {
     "name": "stdout",
     "output_type": "stream",
     "text": [
      "Done causal variant extraction. Kept 1 out of 68\n",
      "Hit : \n",
      "         CHR         BP          SNP             P\n",
      "5768135   10  104330296  rs111763415  5.500000e-10\n",
      "Region 2\n",
      "Done exporting genotypes\n"
     ]
    },
    {
     "name": "stderr",
     "output_type": "stream",
     "text": [
      "/home/hv270/platelets/lib/python3.7/site-packages/ipykernel_launcher.py:54: SettingWithCopyWarning: \n",
      "A value is trying to be set on a copy of a slice from a DataFrame.\n",
      "Try using .loc[row_indexer,col_indexer] = value instead\n",
      "\n",
      "See the caveats in the documentation: https://pandas.pydata.org/pandas-docs/stable/user_guide/indexing.html#returning-a-view-versus-a-copy\n"
     ]
    },
    {
     "name": "stdout",
     "output_type": "stream",
     "text": [
      "Done causal variant extraction. Kept 1 out of 11\n",
      "Hit : \n",
      "         CHR        BP         SNP             P\n",
      "5639601   10  65027610  rs10761731  3.200000e-09\n",
      "Region 3\n",
      "Done exporting genotypes\n"
     ]
    },
    {
     "name": "stderr",
     "output_type": "stream",
     "text": [
      "/home/hv270/platelets/lib/python3.7/site-packages/ipykernel_launcher.py:54: SettingWithCopyWarning: \n",
      "A value is trying to be set on a copy of a slice from a DataFrame.\n",
      "Try using .loc[row_indexer,col_indexer] = value instead\n",
      "\n",
      "See the caveats in the documentation: https://pandas.pydata.org/pandas-docs/stable/user_guide/indexing.html#returning-a-view-versus-a-copy\n"
     ]
    },
    {
     "name": "stdout",
     "output_type": "stream",
     "text": [
      "Done causal variant extraction. Kept 1 out of 62\n",
      "Hit : \n",
      "         CHR        BP         SNP             P\n",
      "7536861   15  65160392  rs59001897  3.500000e-18\n",
      "Region 4\n",
      "Done exporting genotypes\n"
     ]
    },
    {
     "name": "stderr",
     "output_type": "stream",
     "text": [
      "/home/hv270/platelets/lib/python3.7/site-packages/ipykernel_launcher.py:54: SettingWithCopyWarning: \n",
      "A value is trying to be set on a copy of a slice from a DataFrame.\n",
      "Try using .loc[row_indexer,col_indexer] = value instead\n",
      "\n",
      "See the caveats in the documentation: https://pandas.pydata.org/pandas-docs/stable/user_guide/indexing.html#returning-a-view-versus-a-copy\n"
     ]
    },
    {
     "name": "stdout",
     "output_type": "stream",
     "text": [
      "Done causal variant extraction. Kept 2 out of 12\n",
      "Hit : \n",
      "         CHR         BP        SNP             P\n",
      "6725700   12  122365583  rs7961894  3.000000e-19\n",
      "6725841   12  122401501  rs1169072  2.600000e-09\n",
      "Region 5\n",
      "Done exporting genotypes\n"
     ]
    },
    {
     "name": "stderr",
     "output_type": "stream",
     "text": [
      "/home/hv270/platelets/lib/python3.7/site-packages/ipykernel_launcher.py:54: SettingWithCopyWarning: \n",
      "A value is trying to be set on a copy of a slice from a DataFrame.\n",
      "Try using .loc[row_indexer,col_indexer] = value instead\n",
      "\n",
      "See the caveats in the documentation: https://pandas.pydata.org/pandas-docs/stable/user_guide/indexing.html#returning-a-view-versus-a-copy\n"
     ]
    },
    {
     "name": "stdout",
     "output_type": "stream",
     "text": [
      "Done causal variant extraction. Kept 1 out of 83\n",
      "Hit : \n",
      "         CHR        BP        SNP             P\n",
      "8620574   19  55538980  rs1654425  6.600000e-16\n",
      "Region 6\n",
      "Done exporting genotypes\n"
     ]
    },
    {
     "name": "stderr",
     "output_type": "stream",
     "text": [
      "/home/hv270/platelets/lib/python3.7/site-packages/ipykernel_launcher.py:54: SettingWithCopyWarning: \n",
      "A value is trying to be set on a copy of a slice from a DataFrame.\n",
      "Try using .loc[row_indexer,col_indexer] = value instead\n",
      "\n",
      "See the caveats in the documentation: https://pandas.pydata.org/pandas-docs/stable/user_guide/indexing.html#returning-a-view-versus-a-copy\n"
     ]
    },
    {
     "name": "stdout",
     "output_type": "stream",
     "text": [
      "Done causal variant extraction. Kept 1 out of 9\n",
      "Hit : \n",
      "        CHR         BP        SNP             P\n",
      "446356    1  171942783  rs6425521  1.200000e-13\n",
      "Region 7\n",
      "Done exporting genotypes\n"
     ]
    },
    {
     "name": "stderr",
     "output_type": "stream",
     "text": [
      "/home/hv270/platelets/lib/python3.7/site-packages/ipykernel_launcher.py:54: SettingWithCopyWarning: \n",
      "A value is trying to be set on a copy of a slice from a DataFrame.\n",
      "Try using .loc[row_indexer,col_indexer] = value instead\n",
      "\n",
      "See the caveats in the documentation: https://pandas.pydata.org/pandas-docs/stable/user_guide/indexing.html#returning-a-view-versus-a-copy\n"
     ]
    },
    {
     "name": "stdout",
     "output_type": "stream",
     "text": [
      "Done causal variant extraction. Kept 1 out of 26\n",
      "Hit : \n",
      "        CHR         BP         SNP             P\n",
      "556192    1  207281706  rs34101855  2.900000e-17\n",
      "Region 8\n",
      "Done exporting genotypes\n"
     ]
    },
    {
     "name": "stderr",
     "output_type": "stream",
     "text": [
      "/home/hv270/platelets/lib/python3.7/site-packages/ipykernel_launcher.py:54: SettingWithCopyWarning: \n",
      "A value is trying to be set on a copy of a slice from a DataFrame.\n",
      "Try using .loc[row_indexer,col_indexer] = value instead\n",
      "\n",
      "See the caveats in the documentation: https://pandas.pydata.org/pandas-docs/stable/user_guide/indexing.html#returning-a-view-versus-a-copy\n"
     ]
    },
    {
     "name": "stdout",
     "output_type": "stream",
     "text": [
      "Done causal variant extraction. Kept 1 out of 62\n",
      "Hit : \n",
      "         CHR        BP        SNP             P\n",
      "7888473   16  81886182  rs7193477  2.200000e-16\n",
      "Region 9\n",
      "Done exporting genotypes\n"
     ]
    },
    {
     "name": "stderr",
     "output_type": "stream",
     "text": [
      "/home/hv270/platelets/lib/python3.7/site-packages/ipykernel_launcher.py:54: SettingWithCopyWarning: \n",
      "A value is trying to be set on a copy of a slice from a DataFrame.\n",
      "Try using .loc[row_indexer,col_indexer] = value instead\n",
      "\n",
      "See the caveats in the documentation: https://pandas.pydata.org/pandas-docs/stable/user_guide/indexing.html#returning-a-view-versus-a-copy\n"
     ]
    },
    {
     "name": "stdout",
     "output_type": "stream",
     "text": [
      "Done causal variant extraction. Kept 2 out of 45\n",
      "Hit : \n",
      "        CHR         BP         SNP             P\n",
      "530956    1  198990494  rs17625587  2.700000e-21\n",
      "530983    1  199010721   rs1434282  6.100000e-22\n",
      "Region 10\n",
      "Done exporting genotypes\n"
     ]
    },
    {
     "name": "stderr",
     "output_type": "stream",
     "text": [
      "/home/hv270/platelets/lib/python3.7/site-packages/ipykernel_launcher.py:54: SettingWithCopyWarning: \n",
      "A value is trying to be set on a copy of a slice from a DataFrame.\n",
      "Try using .loc[row_indexer,col_indexer] = value instead\n",
      "\n",
      "See the caveats in the documentation: https://pandas.pydata.org/pandas-docs/stable/user_guide/indexing.html#returning-a-view-versus-a-copy\n"
     ]
    },
    {
     "name": "stdout",
     "output_type": "stream",
     "text": [
      "Done causal variant extraction. Kept 2 out of 19\n",
      "Hit : \n",
      "         CHR        BP         SNP             P\n",
      "8813201   20  57548029    rs467040  4.000000e-09\n",
      "8813349   20  57594684  rs34524896  1.800000e-21\n",
      "Region 11\n",
      "Done exporting genotypes\n"
     ]
    },
    {
     "name": "stderr",
     "output_type": "stream",
     "text": [
      "/home/hv270/platelets/lib/python3.7/site-packages/ipykernel_launcher.py:54: SettingWithCopyWarning: \n",
      "A value is trying to be set on a copy of a slice from a DataFrame.\n",
      "Try using .loc[row_indexer,col_indexer] = value instead\n",
      "\n",
      "See the caveats in the documentation: https://pandas.pydata.org/pandas-docs/stable/user_guide/indexing.html#returning-a-view-versus-a-copy\n"
     ]
    },
    {
     "name": "stdout",
     "output_type": "stream",
     "text": [
      "Done causal variant extraction. Kept 2 out of 511\n",
      "Hit : \n",
      "         CHR         BP        SNP             P\n",
      "3182577    5  122220665   rs152039  2.300000e-21\n",
      "3183082    5  122347871  rs2617453  3.000000e-15\n",
      "Region 12\n",
      "Done exporting genotypes\n"
     ]
    },
    {
     "name": "stderr",
     "output_type": "stream",
     "text": [
      "/home/hv270/platelets/lib/python3.7/site-packages/ipykernel_launcher.py:54: SettingWithCopyWarning: \n",
      "A value is trying to be set on a copy of a slice from a DataFrame.\n",
      "Try using .loc[row_indexer,col_indexer] = value instead\n",
      "\n",
      "See the caveats in the documentation: https://pandas.pydata.org/pandas-docs/stable/user_guide/indexing.html#returning-a-view-versus-a-copy\n"
     ]
    },
    {
     "name": "stdout",
     "output_type": "stream",
     "text": [
      "Done causal variant extraction. Kept 1 out of 1\n",
      "Hit : \n",
      "        CHR         BP         SNP             P\n",
      "698870    1  248020556  rs11204523  3.800000e-09\n",
      "Region 13\n",
      "Done exporting genotypes\n"
     ]
    },
    {
     "name": "stderr",
     "output_type": "stream",
     "text": [
      "/home/hv270/platelets/lib/python3.7/site-packages/ipykernel_launcher.py:54: SettingWithCopyWarning: \n",
      "A value is trying to be set on a copy of a slice from a DataFrame.\n",
      "Try using .loc[row_indexer,col_indexer] = value instead\n",
      "\n",
      "See the caveats in the documentation: https://pandas.pydata.org/pandas-docs/stable/user_guide/indexing.html#returning-a-view-versus-a-copy\n"
     ]
    },
    {
     "name": "stdout",
     "output_type": "stream",
     "text": [
      "Done causal variant extraction. Kept 1 out of 2\n",
      "Hit : \n",
      "         CHR      BP          SNP             P\n",
      "5877442   11  270330  rs117558678  4.000000e-09\n",
      "Region 14\n",
      "Done exporting genotypes\n"
     ]
    },
    {
     "name": "stderr",
     "output_type": "stream",
     "text": [
      "/home/hv270/platelets/lib/python3.7/site-packages/ipykernel_launcher.py:54: SettingWithCopyWarning: \n",
      "A value is trying to be set on a copy of a slice from a DataFrame.\n",
      "Try using .loc[row_indexer,col_indexer] = value instead\n",
      "\n",
      "See the caveats in the documentation: https://pandas.pydata.org/pandas-docs/stable/user_guide/indexing.html#returning-a-view-versus-a-copy\n"
     ]
    },
    {
     "name": "stdout",
     "output_type": "stream",
     "text": [
      "Done causal variant extraction. Kept 1 out of 107\n",
      "Hit : \n",
      "         CHR         BP        SNP             P\n",
      "4897307    8  106581528  rs6993770  9.200000e-29\n",
      "Region 15\n",
      "Done exporting genotypes\n"
     ]
    },
    {
     "name": "stderr",
     "output_type": "stream",
     "text": [
      "/home/hv270/platelets/lib/python3.7/site-packages/ipykernel_launcher.py:54: SettingWithCopyWarning: \n",
      "A value is trying to be set on a copy of a slice from a DataFrame.\n",
      "Try using .loc[row_indexer,col_indexer] = value instead\n",
      "\n",
      "See the caveats in the documentation: https://pandas.pydata.org/pandas-docs/stable/user_guide/indexing.html#returning-a-view-versus-a-copy\n"
     ]
    },
    {
     "name": "stdout",
     "output_type": "stream",
     "text": [
      "Done causal variant extraction. Kept 1 out of 1\n",
      "Hit : \n",
      "         CHR        BP        SNP             P\n",
      "1657453    3  56849749  rs1354034  8.200000e-11\n",
      "Region 16\n",
      "Done exporting genotypes\n"
     ]
    },
    {
     "name": "stderr",
     "output_type": "stream",
     "text": [
      "/home/hv270/platelets/lib/python3.7/site-packages/ipykernel_launcher.py:54: SettingWithCopyWarning: \n",
      "A value is trying to be set on a copy of a slice from a DataFrame.\n",
      "Try using .loc[row_indexer,col_indexer] = value instead\n",
      "\n",
      "See the caveats in the documentation: https://pandas.pydata.org/pandas-docs/stable/user_guide/indexing.html#returning-a-view-versus-a-copy\n"
     ]
    },
    {
     "name": "stdout",
     "output_type": "stream",
     "text": [
      "Done causal variant extraction. Kept 1 out of 2\n",
      "Hit : \n",
      "         CHR       BP         SNP             P\n",
      "7946029   17  3819002  rs11078475  4.100000e-09\n",
      "Region 17\n",
      "Done exporting genotypes\n"
     ]
    },
    {
     "name": "stderr",
     "output_type": "stream",
     "text": [
      "/home/hv270/platelets/lib/python3.7/site-packages/ipykernel_launcher.py:54: SettingWithCopyWarning: \n",
      "A value is trying to be set on a copy of a slice from a DataFrame.\n",
      "Try using .loc[row_indexer,col_indexer] = value instead\n",
      "\n",
      "See the caveats in the documentation: https://pandas.pydata.org/pandas-docs/stable/user_guide/indexing.html#returning-a-view-versus-a-copy\n"
     ]
    },
    {
     "name": "stdout",
     "output_type": "stream",
     "text": [
      "Done causal variant extraction. Kept 1 out of 3\n",
      "Hit : \n",
      "        CHR         BP         SNP             P\n",
      "392805    1  156869714  rs12041331  1.300000e-10\n",
      "Region 18\n",
      "Done exporting genotypes\n"
     ]
    },
    {
     "name": "stderr",
     "output_type": "stream",
     "text": [
      "/home/hv270/platelets/lib/python3.7/site-packages/ipykernel_launcher.py:54: SettingWithCopyWarning: \n",
      "A value is trying to be set on a copy of a slice from a DataFrame.\n",
      "Try using .loc[row_indexer,col_indexer] = value instead\n",
      "\n",
      "See the caveats in the documentation: https://pandas.pydata.org/pandas-docs/stable/user_guide/indexing.html#returning-a-view-versus-a-copy\n"
     ]
    },
    {
     "name": "stdout",
     "output_type": "stream",
     "text": [
      "Done causal variant extraction. Kept 2 out of 78\n",
      "Hit : \n",
      "         CHR         BP         SNP             P\n",
      "4357695    7  106372219    rs342293  1.200000e-18\n",
      "4357707    7  106374640  rs12534496  1.600000e-10\n",
      "Region 19\n",
      "Done exporting genotypes\n",
      "Done causal variant extraction. Kept 1 out of 1\n",
      "Hit : \n",
      "         CHR         BP         SNP             P\n",
      "5025984    8  145031968  rs55831924  4.500000e-09\n"
     ]
    },
    {
     "name": "stderr",
     "output_type": "stream",
     "text": [
      "/home/hv270/platelets/lib/python3.7/site-packages/ipykernel_launcher.py:54: SettingWithCopyWarning: \n",
      "A value is trying to be set on a copy of a slice from a DataFrame.\n",
      "Try using .loc[row_indexer,col_indexer] = value instead\n",
      "\n",
      "See the caveats in the documentation: https://pandas.pydata.org/pandas-docs/stable/user_guide/indexing.html#returning-a-view-versus-a-copy\n"
     ]
    }
   ],
   "source": [
    "max_distance = 5e6 # from Dragana's\n",
    "significant_SNPs = {}\n",
    "P_threshold = 1e-8\n",
    "genotypes = {}\n",
    "for c in pheno_cols:\n",
    "    print(\"Starting causal SNPs extraction\")\n",
    "    print(c)\n",
    "    significant_SNPs[c] = []\n",
    "    d = gw_.loc[gw_.pheno == c]\n",
    "    hits = d.loc[(d.P < P_threshold) & (d.IN_UKBB)].copy()\n",
    "    hits[\"region\"] = AgglomerativeClustering(n_clusters=None,distance_threshold=max_distance,linkage=\"single\")\\\n",
    "                        .fit(np.reshape(hits.POS.values,(-1,1)))\\\n",
    "                        .labels_\n",
    "    for region, h in hits.groupby(\"region\"):\n",
    "        print(\"Region %d\" % region)\n",
    "        #if h.shape[0] == 1:\n",
    "        #    significant_SNPs[c].append(h[\"SNP\"].iloc[0])\n",
    "        #    continue\n",
    "        \n",
    "        # Write the list of SNPS to a file\n",
    "        SNP_list_file = \"%s/conditional_analysis/significant_snps_%s_%s.txt\" % (export_folder,c, tag)\n",
    "        with open(SNP_list_file,\"w\") as file:\n",
    "            for s in h.SNP.tolist():\n",
    "                file.write(\"%s\\n\" % s)\n",
    "        \n",
    "        # Extract the table\n",
    "        ch = int(h.CHR.iloc[0])\n",
    "        gen_path = \"%s/conditional_analysis/genotypes_region_%d_%s_CHR_%d\" % (export_folder, region, c, ch)\n",
    "        command = \"/home/hv270/plink\"\n",
    "        command += \" --bfile /home/hv270/rds/rds-who1000-cbrc/user/wja24/shared/hv270/interval_genotypes/chr_%d\" % ch\n",
    "        command += \" --extract %s\" % SNP_list_file\n",
    "        command += \" --keep %s\" % EUR_path_interval\n",
    "        command += \" --recode A-transpose --out %s\" % gen_path\n",
    "        p = subprocess.Popen(command,shell=True)\n",
    "        p.wait()\n",
    "        print(\"Done exporting genotypes\")\n",
    "        df = pd.read_csv(\"%s.traw\" % (gen_path),sep=\"\\t\")\n",
    "        df = df.set_index(\"SNP\")\n",
    "        ID_cols = [c for c in df.columns if c not in [\"CHR\",\"(C)M\",\"POS\",\"COUNTED\",\"ALT\"]]\n",
    "        df = df[ID_cols].T\n",
    "        var_cols = df.columns\n",
    "        \n",
    "        for var in var_cols:\n",
    "            df.loc[df[var].isnull(),var] = df.loc[~df[var].isnull(),var].mean()\n",
    "        \n",
    "        G_X = pd.merge(df,X.copy(),left_index=True,right_index=True)\n",
    "        \n",
    "        G = G_X[var_cols]\n",
    "        C = G_X[covar_cols]\n",
    "        Y = G_X[[c]]\n",
    "        \n",
    "        # Adjust phenotype by covariates\n",
    "        lm_covars = LinearRegression().fit(C,Y)\n",
    "        Y[c] = Y[c] - lm_covars.predict(C)[:,0]\n",
    "        \n",
    "        univariable_p_values = [pearsonr(G[snp],Y[c])[1] for snp in G.columns]\n",
    "        G = G[[G.columns[i] for i in np.argsort(univariable_p_values)]]\n",
    "        \n",
    "        model = [G.columns[0]]\n",
    "        vars_not_in_model = lambda : [v for v in G.columns if v not in model]\n",
    "        \n",
    "        while True and (len(vars_not_in_model()) > 0):\n",
    "            # Augment the model\n",
    "            addition_p_values = pd.Series(index=vars_not_in_model(),dtype=float)\n",
    "            for s in addition_p_values.index:\n",
    "                #print(\"Trying to add %s\" % s)\n",
    "                LD = False\n",
    "                for m in model:\n",
    "                    R_2 = pearsonr(G[m],G[s])[0]**2\n",
    "                    if R_2 >= 0.9:\n",
    "                        addition_p_values.loc[s] = 1.\n",
    "                        LD = True\n",
    "                if LD: continue\n",
    "                augmented_model = model + [s]\n",
    "                addition_p_values.loc[s] = compare_p_values(G,model,augmented_model,Y[c])\n",
    "            if addition_p_values.min() >= P_threshold:\n",
    "                #print(\"Nothing to add, keep %s\" % (model))\n",
    "                break\n",
    "            else:\n",
    "                #print(\"Adding %s\" % s)\n",
    "                model.append(addition_p_values.sort_values().index[0])\n",
    "            \n",
    "            # Reduce the model\n",
    "            reduce = True\n",
    "            while reduce:\n",
    "                reduce = False\n",
    "                removal_p_values = pd.Series(index=model,dtype=float)\n",
    "                for s in removal_p_values.index:\n",
    "                    #print(\"Trying to remove %s\" % s)\n",
    "                    reduced_model = [m for m in model if m != s]\n",
    "                    removal_p_values.loc[s] = compare_p_values(G,model,reduced_model,Y[c])\n",
    "                if removal_p_values.min() <= P_threshold:\n",
    "                    pass\n",
    "                    # Go to augment\n",
    "                else:\n",
    "                    to_remove = removal_p_values.sort_values().index[-1]\n",
    "                    print(\"Removing %s\" % to_remove)\n",
    "                    model = [m for m in model if m != to_remove]\n",
    "                    reduce = True if len(model) >= 2 else False\n",
    "                    # Go to reduce\n",
    "        \n",
    "        significant_SNPs[c] += model\n",
    "        \n",
    "        print(\"Done causal variant extraction. Kept %d out of %d\" % (len(model),len(var_cols)))\n",
    "        print(\"Hit : \")\n",
    "        print(h.loc[h.SNP.isin(model),[\"CHR\",\"BP\",\"SNP\",\"P\"]])\n",
    "        \n",
    "        genotypes[(c, region)] = G[model]\n",
    "    "
   ]
  },
  {
   "cell_type": "code",
   "execution_count": 14,
   "metadata": {},
   "outputs": [],
   "source": [
    "all_significant_SNPs = []\n",
    "for c in significant_SNPs:\n",
    "    all_significant_SNPs += significant_SNPs[c]\n",
    "all_significant_SNPs = list(set(all_significant_SNPs))\n",
    "recap = pd.DataFrame(index=all_significant_SNPs)\n",
    "for c in pheno_cols:\n",
    "    recap[\"causal_%s\" % c] = recap.index.isin(significant_SNPs[c])\n"
   ]
  },
  {
   "cell_type": "code",
   "execution_count": 15,
   "metadata": {},
   "outputs": [
    {
     "data": {
      "text/html": [
       "<div>\n",
       "<style scoped>\n",
       "    .dataframe tbody tr th:only-of-type {\n",
       "        vertical-align: middle;\n",
       "    }\n",
       "\n",
       "    .dataframe tbody tr th {\n",
       "        vertical-align: top;\n",
       "    }\n",
       "\n",
       "    .dataframe thead th {\n",
       "        text-align: right;\n",
       "    }\n",
       "</style>\n",
       "<table border=\"1\" class=\"dataframe\">\n",
       "  <thead>\n",
       "    <tr style=\"text-align: right;\">\n",
       "      <th></th>\n",
       "      <th>SNP</th>\n",
       "      <th>CHR</th>\n",
       "      <th>BP</th>\n",
       "      <th>GENPOS</th>\n",
       "      <th>ALLELE1</th>\n",
       "      <th>ALLELE0</th>\n",
       "      <th>A1FREQ</th>\n",
       "      <th>F_MISS</th>\n",
       "      <th>BETA</th>\n",
       "      <th>SE</th>\n",
       "      <th>P_BOLT_LMM_INF</th>\n",
       "      <th>P</th>\n",
       "      <th>pheno</th>\n",
       "      <th>POS</th>\n",
       "    </tr>\n",
       "  </thead>\n",
       "  <tbody>\n",
       "    <tr>\n",
       "      <th>0</th>\n",
       "      <td>rs568149713</td>\n",
       "      <td>1</td>\n",
       "      <td>15777</td>\n",
       "      <td>0</td>\n",
       "      <td>A</td>\n",
       "      <td>G</td>\n",
       "      <td>0.991710</td>\n",
       "      <td>0.037767</td>\n",
       "      <td>0.029973</td>\n",
       "      <td>0.023995</td>\n",
       "      <td>0.21</td>\n",
       "      <td>0.25</td>\n",
       "      <td>ADP_FIB</td>\n",
       "      <td>15777</td>\n",
       "    </tr>\n",
       "    <tr>\n",
       "      <th>1</th>\n",
       "      <td>rs199745162</td>\n",
       "      <td>1</td>\n",
       "      <td>16949</td>\n",
       "      <td>0</td>\n",
       "      <td>A</td>\n",
       "      <td>C</td>\n",
       "      <td>0.986426</td>\n",
       "      <td>0.047996</td>\n",
       "      <td>-0.003176</td>\n",
       "      <td>0.019029</td>\n",
       "      <td>0.87</td>\n",
       "      <td>0.93</td>\n",
       "      <td>ADP_FIB</td>\n",
       "      <td>16949</td>\n",
       "    </tr>\n",
       "    <tr>\n",
       "      <th>2</th>\n",
       "      <td>rs533090414</td>\n",
       "      <td>1</td>\n",
       "      <td>18849</td>\n",
       "      <td>0</td>\n",
       "      <td>C</td>\n",
       "      <td>G</td>\n",
       "      <td>0.023225</td>\n",
       "      <td>0.050571</td>\n",
       "      <td>0.000379</td>\n",
       "      <td>0.014576</td>\n",
       "      <td>0.98</td>\n",
       "      <td>0.98</td>\n",
       "      <td>ADP_FIB</td>\n",
       "      <td>18849</td>\n",
       "    </tr>\n",
       "    <tr>\n",
       "      <th>3</th>\n",
       "      <td>rs2691277</td>\n",
       "      <td>1</td>\n",
       "      <td>52238</td>\n",
       "      <td>0</td>\n",
       "      <td>T</td>\n",
       "      <td>G</td>\n",
       "      <td>0.012572</td>\n",
       "      <td>0.050266</td>\n",
       "      <td>-0.021468</td>\n",
       "      <td>0.019518</td>\n",
       "      <td>0.27</td>\n",
       "      <td>0.26</td>\n",
       "      <td>ADP_FIB</td>\n",
       "      <td>52238</td>\n",
       "    </tr>\n",
       "    <tr>\n",
       "      <th>4</th>\n",
       "      <td>rs552304420</td>\n",
       "      <td>1</td>\n",
       "      <td>54712</td>\n",
       "      <td>0</td>\n",
       "      <td>T</td>\n",
       "      <td>C</td>\n",
       "      <td>0.993477</td>\n",
       "      <td>0.021136</td>\n",
       "      <td>0.006732</td>\n",
       "      <td>0.026949</td>\n",
       "      <td>0.80</td>\n",
       "      <td>0.85</td>\n",
       "      <td>ADP_FIB</td>\n",
       "      <td>54712</td>\n",
       "    </tr>\n",
       "  </tbody>\n",
       "</table>\n",
       "</div>"
      ],
      "text/plain": [
       "           SNP  CHR     BP  GENPOS ALLELE1 ALLELE0    A1FREQ    F_MISS  \\\n",
       "0  rs568149713    1  15777       0       A       G  0.991710  0.037767   \n",
       "1  rs199745162    1  16949       0       A       C  0.986426  0.047996   \n",
       "2  rs533090414    1  18849       0       C       G  0.023225  0.050571   \n",
       "3    rs2691277    1  52238       0       T       G  0.012572  0.050266   \n",
       "4  rs552304420    1  54712       0       T       C  0.993477  0.021136   \n",
       "\n",
       "       BETA        SE  P_BOLT_LMM_INF     P    pheno    POS  \n",
       "0  0.029973  0.023995            0.21  0.25  ADP_FIB  15777  \n",
       "1 -0.003176  0.019029            0.87  0.93  ADP_FIB  16949  \n",
       "2  0.000379  0.014576            0.98  0.98  ADP_FIB  18849  \n",
       "3 -0.021468  0.019518            0.27  0.26  ADP_FIB  52238  \n",
       "4  0.006732  0.026949            0.80  0.85  ADP_FIB  54712  "
      ]
     },
     "execution_count": 15,
     "metadata": {},
     "output_type": "execute_result"
    }
   ],
   "source": [
    "gw.head()"
   ]
  },
  {
   "cell_type": "code",
   "execution_count": 16,
   "metadata": {},
   "outputs": [],
   "source": [
    "for c in pheno_cols:\n",
    "    recap = pd.merge(recap,\n",
    "                     gw.loc[gw.pheno == c,[\"SNP\",\"BETA\",\"P\"]].set_index(\"SNP\").rename(columns={\"BETA\":\"BETA_%s\" % c,\n",
    "                                                                                               \"P\":\"P_%s\" % c}),\n",
    "                     left_index=True,right_index=True)\n",
    "recap = pd.merge(recap,gw.loc[gw.pheno == pheno_cols[0],[\"SNP\",\"A1FREQ\",\"CHR\",\"BP\"]].set_index(\"SNP\"),left_index=True,right_index=True)"
   ]
  },
  {
   "cell_type": "code",
   "execution_count": 17,
   "metadata": {},
   "outputs": [
    {
     "data": {
      "text/html": [
       "<div>\n",
       "<style scoped>\n",
       "    .dataframe tbody tr th:only-of-type {\n",
       "        vertical-align: middle;\n",
       "    }\n",
       "\n",
       "    .dataframe tbody tr th {\n",
       "        vertical-align: top;\n",
       "    }\n",
       "\n",
       "    .dataframe thead th {\n",
       "        text-align: right;\n",
       "    }\n",
       "</style>\n",
       "<table border=\"1\" class=\"dataframe\">\n",
       "  <thead>\n",
       "    <tr style=\"text-align: right;\">\n",
       "      <th></th>\n",
       "      <th>causal_ADP_FIB</th>\n",
       "      <th>causal_TRAP_FIB</th>\n",
       "      <th>BETA_ADP_FIB</th>\n",
       "      <th>P_ADP_FIB</th>\n",
       "      <th>BETA_TRAP_FIB</th>\n",
       "      <th>P_TRAP_FIB</th>\n",
       "      <th>A1FREQ</th>\n",
       "      <th>CHR</th>\n",
       "      <th>BP</th>\n",
       "    </tr>\n",
       "  </thead>\n",
       "  <tbody>\n",
       "    <tr>\n",
       "      <th>rs12041331</th>\n",
       "      <td>True</td>\n",
       "      <td>True</td>\n",
       "      <td>0.046216</td>\n",
       "      <td>5.000000e-10</td>\n",
       "      <td>0.030246</td>\n",
       "      <td>1.300000e-10</td>\n",
       "      <td>0.913270</td>\n",
       "      <td>1</td>\n",
       "      <td>156869714</td>\n",
       "    </tr>\n",
       "    <tr>\n",
       "      <th>rs6425521</th>\n",
       "      <td>False</td>\n",
       "      <td>True</td>\n",
       "      <td>0.040401</td>\n",
       "      <td>2.000000e-14</td>\n",
       "      <td>0.024831</td>\n",
       "      <td>1.200000e-13</td>\n",
       "      <td>0.193286</td>\n",
       "      <td>1</td>\n",
       "      <td>171942783</td>\n",
       "    </tr>\n",
       "    <tr>\n",
       "      <th>rs10914144</th>\n",
       "      <td>True</td>\n",
       "      <td>False</td>\n",
       "      <td>0.040385</td>\n",
       "      <td>1.900000e-14</td>\n",
       "      <td>0.024736</td>\n",
       "      <td>1.400000e-13</td>\n",
       "      <td>0.193518</td>\n",
       "      <td>1</td>\n",
       "      <td>171949750</td>\n",
       "    </tr>\n",
       "    <tr>\n",
       "      <th>rs17625587</th>\n",
       "      <td>True</td>\n",
       "      <td>True</td>\n",
       "      <td>-0.047149</td>\n",
       "      <td>9.500000e-21</td>\n",
       "      <td>-0.030271</td>\n",
       "      <td>2.700000e-21</td>\n",
       "      <td>0.740589</td>\n",
       "      <td>1</td>\n",
       "      <td>198990494</td>\n",
       "    </tr>\n",
       "    <tr>\n",
       "      <th>rs1434282</th>\n",
       "      <td>True</td>\n",
       "      <td>True</td>\n",
       "      <td>0.047447</td>\n",
       "      <td>2.300000e-21</td>\n",
       "      <td>0.030482</td>\n",
       "      <td>6.100000e-22</td>\n",
       "      <td>0.265177</td>\n",
       "      <td>1</td>\n",
       "      <td>199010721</td>\n",
       "    </tr>\n",
       "    <tr>\n",
       "      <th>rs34101855</th>\n",
       "      <td>True</td>\n",
       "      <td>True</td>\n",
       "      <td>0.056272</td>\n",
       "      <td>2.500000e-17</td>\n",
       "      <td>0.035586</td>\n",
       "      <td>2.900000e-17</td>\n",
       "      <td>0.880316</td>\n",
       "      <td>1</td>\n",
       "      <td>207281706</td>\n",
       "    </tr>\n",
       "    <tr>\n",
       "      <th>rs11204523</th>\n",
       "      <td>True</td>\n",
       "      <td>True</td>\n",
       "      <td>0.030363</td>\n",
       "      <td>4.000000e-09</td>\n",
       "      <td>0.019234</td>\n",
       "      <td>3.800000e-09</td>\n",
       "      <td>0.235326</td>\n",
       "      <td>1</td>\n",
       "      <td>248020556</td>\n",
       "    </tr>\n",
       "    <tr>\n",
       "      <th>rs1354034</th>\n",
       "      <td>True</td>\n",
       "      <td>True</td>\n",
       "      <td>-0.026758</td>\n",
       "      <td>9.200000e-10</td>\n",
       "      <td>-0.018014</td>\n",
       "      <td>8.200000e-11</td>\n",
       "      <td>0.405090</td>\n",
       "      <td>3</td>\n",
       "      <td>56849749</td>\n",
       "    </tr>\n",
       "    <tr>\n",
       "      <th>rs152039</th>\n",
       "      <td>True</td>\n",
       "      <td>True</td>\n",
       "      <td>-0.040301</td>\n",
       "      <td>3.200000e-19</td>\n",
       "      <td>-0.027035</td>\n",
       "      <td>2.300000e-21</td>\n",
       "      <td>0.331313</td>\n",
       "      <td>5</td>\n",
       "      <td>122220665</td>\n",
       "    </tr>\n",
       "    <tr>\n",
       "      <th>rs2617453</th>\n",
       "      <td>True</td>\n",
       "      <td>True</td>\n",
       "      <td>0.033298</td>\n",
       "      <td>9.500000e-14</td>\n",
       "      <td>0.022351</td>\n",
       "      <td>3.000000e-15</td>\n",
       "      <td>0.650532</td>\n",
       "      <td>5</td>\n",
       "      <td>122347871</td>\n",
       "    </tr>\n",
       "    <tr>\n",
       "      <th>rs342293</th>\n",
       "      <td>True</td>\n",
       "      <td>True</td>\n",
       "      <td>0.039380</td>\n",
       "      <td>1.800000e-20</td>\n",
       "      <td>0.023689</td>\n",
       "      <td>1.200000e-18</td>\n",
       "      <td>0.542087</td>\n",
       "      <td>7</td>\n",
       "      <td>106372219</td>\n",
       "    </tr>\n",
       "    <tr>\n",
       "      <th>rs12534496</th>\n",
       "      <td>True</td>\n",
       "      <td>True</td>\n",
       "      <td>-0.029366</td>\n",
       "      <td>1.300000e-11</td>\n",
       "      <td>-0.017574</td>\n",
       "      <td>1.600000e-10</td>\n",
       "      <td>0.522720</td>\n",
       "      <td>7</td>\n",
       "      <td>106374640</td>\n",
       "    </tr>\n",
       "    <tr>\n",
       "      <th>rs6993770</th>\n",
       "      <td>True</td>\n",
       "      <td>True</td>\n",
       "      <td>0.050480</td>\n",
       "      <td>9.600000e-27</td>\n",
       "      <td>0.033260</td>\n",
       "      <td>9.200000e-29</td>\n",
       "      <td>0.715596</td>\n",
       "      <td>8</td>\n",
       "      <td>106581528</td>\n",
       "    </tr>\n",
       "    <tr>\n",
       "      <th>rs55831924</th>\n",
       "      <td>True</td>\n",
       "      <td>True</td>\n",
       "      <td>-0.025947</td>\n",
       "      <td>4.100000e-09</td>\n",
       "      <td>-0.016430</td>\n",
       "      <td>4.500000e-09</td>\n",
       "      <td>0.640900</td>\n",
       "      <td>8</td>\n",
       "      <td>145031968</td>\n",
       "    </tr>\n",
       "    <tr>\n",
       "      <th>rs117149770</th>\n",
       "      <td>False</td>\n",
       "      <td>True</td>\n",
       "      <td>-0.076893</td>\n",
       "      <td>1.300000e-08</td>\n",
       "      <td>-0.050130</td>\n",
       "      <td>4.600000e-09</td>\n",
       "      <td>0.973672</td>\n",
       "      <td>9</td>\n",
       "      <td>113099642</td>\n",
       "    </tr>\n",
       "    <tr>\n",
       "      <th>rs61751937</th>\n",
       "      <td>True</td>\n",
       "      <td>True</td>\n",
       "      <td>-0.082894</td>\n",
       "      <td>6.900000e-11</td>\n",
       "      <td>-0.053881</td>\n",
       "      <td>2.300000e-11</td>\n",
       "      <td>0.971285</td>\n",
       "      <td>9</td>\n",
       "      <td>113312231</td>\n",
       "    </tr>\n",
       "    <tr>\n",
       "      <th>rs10761731</th>\n",
       "      <td>True</td>\n",
       "      <td>True</td>\n",
       "      <td>-0.026632</td>\n",
       "      <td>4.000000e-10</td>\n",
       "      <td>-0.015978</td>\n",
       "      <td>3.200000e-09</td>\n",
       "      <td>0.580678</td>\n",
       "      <td>10</td>\n",
       "      <td>65027610</td>\n",
       "    </tr>\n",
       "    <tr>\n",
       "      <th>rs111763415</th>\n",
       "      <td>True</td>\n",
       "      <td>True</td>\n",
       "      <td>0.025536</td>\n",
       "      <td>2.200000e-09</td>\n",
       "      <td>0.016778</td>\n",
       "      <td>5.500000e-10</td>\n",
       "      <td>0.577197</td>\n",
       "      <td>10</td>\n",
       "      <td>104330296</td>\n",
       "    </tr>\n",
       "    <tr>\n",
       "      <th>rs117558678</th>\n",
       "      <td>False</td>\n",
       "      <td>True</td>\n",
       "      <td>-0.026954</td>\n",
       "      <td>6.300000e-08</td>\n",
       "      <td>-0.018656</td>\n",
       "      <td>4.000000e-09</td>\n",
       "      <td>0.765168</td>\n",
       "      <td>11</td>\n",
       "      <td>270330</td>\n",
       "    </tr>\n",
       "    <tr>\n",
       "      <th>rs7961894</th>\n",
       "      <td>True</td>\n",
       "      <td>True</td>\n",
       "      <td>0.059670</td>\n",
       "      <td>8.700000e-19</td>\n",
       "      <td>0.038354</td>\n",
       "      <td>3.000000e-19</td>\n",
       "      <td>0.885004</td>\n",
       "      <td>12</td>\n",
       "      <td>122365583</td>\n",
       "    </tr>\n",
       "    <tr>\n",
       "      <th>rs1169072</th>\n",
       "      <td>True</td>\n",
       "      <td>True</td>\n",
       "      <td>0.025690</td>\n",
       "      <td>6.300000e-09</td>\n",
       "      <td>0.016689</td>\n",
       "      <td>2.600000e-09</td>\n",
       "      <td>0.411882</td>\n",
       "      <td>12</td>\n",
       "      <td>122401501</td>\n",
       "    </tr>\n",
       "    <tr>\n",
       "      <th>rs59001897</th>\n",
       "      <td>True</td>\n",
       "      <td>True</td>\n",
       "      <td>-0.049245</td>\n",
       "      <td>3.500000e-17</td>\n",
       "      <td>-0.032179</td>\n",
       "      <td>3.500000e-18</td>\n",
       "      <td>0.833369</td>\n",
       "      <td>15</td>\n",
       "      <td>65160392</td>\n",
       "    </tr>\n",
       "    <tr>\n",
       "      <th>rs7193477</th>\n",
       "      <td>True</td>\n",
       "      <td>True</td>\n",
       "      <td>-0.043554</td>\n",
       "      <td>4.200000e-16</td>\n",
       "      <td>-0.027859</td>\n",
       "      <td>2.200000e-16</td>\n",
       "      <td>0.790405</td>\n",
       "      <td>16</td>\n",
       "      <td>81886182</td>\n",
       "    </tr>\n",
       "    <tr>\n",
       "      <th>rs11078475</th>\n",
       "      <td>True</td>\n",
       "      <td>True</td>\n",
       "      <td>-0.025224</td>\n",
       "      <td>2.800000e-09</td>\n",
       "      <td>-0.015808</td>\n",
       "      <td>4.100000e-09</td>\n",
       "      <td>0.468763</td>\n",
       "      <td>17</td>\n",
       "      <td>3819002</td>\n",
       "    </tr>\n",
       "    <tr>\n",
       "      <th>rs9807614</th>\n",
       "      <td>True</td>\n",
       "      <td>False</td>\n",
       "      <td>-0.027898</td>\n",
       "      <td>9.200000e-09</td>\n",
       "      <td>-0.017590</td>\n",
       "      <td>1.100000e-08</td>\n",
       "      <td>0.258769</td>\n",
       "      <td>18</td>\n",
       "      <td>9620332</td>\n",
       "    </tr>\n",
       "    <tr>\n",
       "      <th>rs1654425</th>\n",
       "      <td>True</td>\n",
       "      <td>True</td>\n",
       "      <td>-0.044290</td>\n",
       "      <td>3.200000e-15</td>\n",
       "      <td>-0.028800</td>\n",
       "      <td>6.600000e-16</td>\n",
       "      <td>0.166962</td>\n",
       "      <td>19</td>\n",
       "      <td>55538980</td>\n",
       "    </tr>\n",
       "    <tr>\n",
       "      <th>rs6064731</th>\n",
       "      <td>True</td>\n",
       "      <td>False</td>\n",
       "      <td>-0.031769</td>\n",
       "      <td>1.200000e-11</td>\n",
       "      <td>-0.021001</td>\n",
       "      <td>1.600000e-12</td>\n",
       "      <td>0.690579</td>\n",
       "      <td>20</td>\n",
       "      <td>57547945</td>\n",
       "    </tr>\n",
       "    <tr>\n",
       "      <th>rs467040</th>\n",
       "      <td>False</td>\n",
       "      <td>True</td>\n",
       "      <td>-0.024808</td>\n",
       "      <td>1.300000e-08</td>\n",
       "      <td>-0.016292</td>\n",
       "      <td>4.000000e-09</td>\n",
       "      <td>0.523936</td>\n",
       "      <td>20</td>\n",
       "      <td>57548029</td>\n",
       "    </tr>\n",
       "    <tr>\n",
       "      <th>rs34524896</th>\n",
       "      <td>True</td>\n",
       "      <td>True</td>\n",
       "      <td>-0.089027</td>\n",
       "      <td>4.300000e-18</td>\n",
       "      <td>-0.061831</td>\n",
       "      <td>1.800000e-21</td>\n",
       "      <td>0.952229</td>\n",
       "      <td>20</td>\n",
       "      <td>57594684</td>\n",
       "    </tr>\n",
       "  </tbody>\n",
       "</table>\n",
       "</div>"
      ],
      "text/plain": [
       "             causal_ADP_FIB  causal_TRAP_FIB  BETA_ADP_FIB     P_ADP_FIB  \\\n",
       "rs12041331             True             True      0.046216  5.000000e-10   \n",
       "rs6425521             False             True      0.040401  2.000000e-14   \n",
       "rs10914144             True            False      0.040385  1.900000e-14   \n",
       "rs17625587             True             True     -0.047149  9.500000e-21   \n",
       "rs1434282              True             True      0.047447  2.300000e-21   \n",
       "rs34101855             True             True      0.056272  2.500000e-17   \n",
       "rs11204523             True             True      0.030363  4.000000e-09   \n",
       "rs1354034              True             True     -0.026758  9.200000e-10   \n",
       "rs152039               True             True     -0.040301  3.200000e-19   \n",
       "rs2617453              True             True      0.033298  9.500000e-14   \n",
       "rs342293               True             True      0.039380  1.800000e-20   \n",
       "rs12534496             True             True     -0.029366  1.300000e-11   \n",
       "rs6993770              True             True      0.050480  9.600000e-27   \n",
       "rs55831924             True             True     -0.025947  4.100000e-09   \n",
       "rs117149770           False             True     -0.076893  1.300000e-08   \n",
       "rs61751937             True             True     -0.082894  6.900000e-11   \n",
       "rs10761731             True             True     -0.026632  4.000000e-10   \n",
       "rs111763415            True             True      0.025536  2.200000e-09   \n",
       "rs117558678           False             True     -0.026954  6.300000e-08   \n",
       "rs7961894              True             True      0.059670  8.700000e-19   \n",
       "rs1169072              True             True      0.025690  6.300000e-09   \n",
       "rs59001897             True             True     -0.049245  3.500000e-17   \n",
       "rs7193477              True             True     -0.043554  4.200000e-16   \n",
       "rs11078475             True             True     -0.025224  2.800000e-09   \n",
       "rs9807614              True            False     -0.027898  9.200000e-09   \n",
       "rs1654425              True             True     -0.044290  3.200000e-15   \n",
       "rs6064731              True            False     -0.031769  1.200000e-11   \n",
       "rs467040              False             True     -0.024808  1.300000e-08   \n",
       "rs34524896             True             True     -0.089027  4.300000e-18   \n",
       "\n",
       "             BETA_TRAP_FIB    P_TRAP_FIB    A1FREQ  CHR         BP  \n",
       "rs12041331        0.030246  1.300000e-10  0.913270    1  156869714  \n",
       "rs6425521         0.024831  1.200000e-13  0.193286    1  171942783  \n",
       "rs10914144        0.024736  1.400000e-13  0.193518    1  171949750  \n",
       "rs17625587       -0.030271  2.700000e-21  0.740589    1  198990494  \n",
       "rs1434282         0.030482  6.100000e-22  0.265177    1  199010721  \n",
       "rs34101855        0.035586  2.900000e-17  0.880316    1  207281706  \n",
       "rs11204523        0.019234  3.800000e-09  0.235326    1  248020556  \n",
       "rs1354034        -0.018014  8.200000e-11  0.405090    3   56849749  \n",
       "rs152039         -0.027035  2.300000e-21  0.331313    5  122220665  \n",
       "rs2617453         0.022351  3.000000e-15  0.650532    5  122347871  \n",
       "rs342293          0.023689  1.200000e-18  0.542087    7  106372219  \n",
       "rs12534496       -0.017574  1.600000e-10  0.522720    7  106374640  \n",
       "rs6993770         0.033260  9.200000e-29  0.715596    8  106581528  \n",
       "rs55831924       -0.016430  4.500000e-09  0.640900    8  145031968  \n",
       "rs117149770      -0.050130  4.600000e-09  0.973672    9  113099642  \n",
       "rs61751937       -0.053881  2.300000e-11  0.971285    9  113312231  \n",
       "rs10761731       -0.015978  3.200000e-09  0.580678   10   65027610  \n",
       "rs111763415       0.016778  5.500000e-10  0.577197   10  104330296  \n",
       "rs117558678      -0.018656  4.000000e-09  0.765168   11     270330  \n",
       "rs7961894         0.038354  3.000000e-19  0.885004   12  122365583  \n",
       "rs1169072         0.016689  2.600000e-09  0.411882   12  122401501  \n",
       "rs59001897       -0.032179  3.500000e-18  0.833369   15   65160392  \n",
       "rs7193477        -0.027859  2.200000e-16  0.790405   16   81886182  \n",
       "rs11078475       -0.015808  4.100000e-09  0.468763   17    3819002  \n",
       "rs9807614        -0.017590  1.100000e-08  0.258769   18    9620332  \n",
       "rs1654425        -0.028800  6.600000e-16  0.166962   19   55538980  \n",
       "rs6064731        -0.021001  1.600000e-12  0.690579   20   57547945  \n",
       "rs467040         -0.016292  4.000000e-09  0.523936   20   57548029  \n",
       "rs34524896       -0.061831  1.800000e-21  0.952229   20   57594684  "
      ]
     },
     "execution_count": 17,
     "metadata": {},
     "output_type": "execute_result"
    }
   ],
   "source": [
    "recap.sort_values([\"CHR\",\"BP\"])"
   ]
  },
  {
   "cell_type": "code",
   "execution_count": 18,
   "metadata": {},
   "outputs": [
    {
     "data": {
      "text/plain": [
       "causal_ADP_FIB  causal_TRAP_FIB\n",
       "True            True               22\n",
       "False           True                4\n",
       "True            False               3\n",
       "dtype: int64"
      ]
     },
     "execution_count": 18,
     "metadata": {},
     "output_type": "execute_result"
    }
   ],
   "source": [
    "recap[[\"causal_ADP_FIB\",\"causal_TRAP_FIB\"]].value_counts()"
   ]
  },
  {
   "cell_type": "code",
   "execution_count": 19,
   "metadata": {},
   "outputs": [],
   "source": [
    "recap[\"MAF\"] = np.where(recap[\"A1FREQ\"] <= .5,recap[\"A1FREQ\"],1.-recap[\"A1FREQ\"])"
   ]
  },
  {
   "cell_type": "code",
   "execution_count": 20,
   "metadata": {},
   "outputs": [
    {
     "data": {
      "text/plain": [
       "<matplotlib.collections.PathCollection at 0x2aea58ec3be0>"
      ]
     },
     "execution_count": 20,
     "metadata": {},
     "output_type": "execute_result"
    },
    {
     "data": {
      "image/png": "[encoded data removed]",
      "text/plain": [
       "<Figure size 432x288 with 1 Axes>"
      ]
     },
     "metadata": {
      "needs_background": "light"
     },
     "output_type": "display_data"
    }
   ],
   "source": [
    "plt.scatter(recap.MAF,np.abs(recap.BETA_ADP_FIB),c=-np.log10(recap.P_ADP_FIB))"
   ]
  },
  {
   "cell_type": "markdown",
   "metadata": {},
   "source": [
    "# Export causal SNPs"
   ]
  },
  {
   "cell_type": "code",
   "execution_count": 21,
   "metadata": {},
   "outputs": [],
   "source": [
    "for c in pheno_cols:\n",
    "    path = \"%s/conditional_analysis/causal_SNPs_%s_%s.txt\" % (export_folder,tag,c)\n",
    "    with open(path,\"w\") as f:\n",
    "        for snp in significant_SNPs[c]:\n",
    "            f.write(\"%s\\n\" % snp)"
   ]
  },
  {
   "cell_type": "code",
   "execution_count": 22,
   "metadata": {},
   "outputs": [],
   "source": [
    "path = \"%s/conditional_analysis/causal_SNPs_%s_all.txt\" % (export_folder,tag)\n",
    "with open(path,\"w\") as f:\n",
    "    for snp in all_significant_SNPs:\n",
    "        f.write(\"%s\\n\" % snp)"
   ]
  },
  {
   "cell_type": "markdown",
   "metadata": {},
   "source": [
    "# Compare with Dragana's hits"
   ]
  },
  {
   "cell_type": "code",
   "execution_count": 23,
   "metadata": {},
   "outputs": [
    {
     "name": "stderr",
     "output_type": "stream",
     "text": [
      "/home/hv270/platelets/lib/python3.7/site-packages/ipykernel_launcher.py:1: FutureWarning: Your version of xlrd is 1.2.0. In xlrd >= 2.0, only the xls format is supported. As a result, the openpyxl engine will be used if it is installed and the engine argument is not specified. Install openpyxl instead.\n",
      "  \"\"\"Entry point for launching an IPython kernel.\n"
     ]
    }
   ],
   "source": [
    "dgw = pd.read_excel(\"/home/hv270/sysmex2pf/dragana_GWAS.xlsx\")\n",
    "dgw = dgw.rename(columns={\"rsID (where available)\":\"SNP\",'Gene Symbol(s) for Most Serious Consequence':\"Gene\"})\n",
    "dgw = dgw.loc[dgw[\"Associated Blood Index\"].isin([\"PLT#\",\"PDW\",\"MPV\",\"PCT\"])]"
   ]
  },
  {
   "cell_type": "code",
   "execution_count": 24,
   "metadata": {},
   "outputs": [
    {
     "name": "stdout",
     "output_type": "stream",
     "text": [
      "Done exporting genotypes of chrom 1\n",
      "Done exporting genotypes of chrom 2\n",
      "Done exporting genotypes of chrom 3\n",
      "Done exporting genotypes of chrom 4\n",
      "Done exporting genotypes of chrom 5\n",
      "Done exporting genotypes of chrom 6\n",
      "Done exporting genotypes of chrom 7\n",
      "Done exporting genotypes of chrom 8\n",
      "Done exporting genotypes of chrom 9\n",
      "Done exporting genotypes of chrom 10\n",
      "Done exporting genotypes of chrom 11\n",
      "Done exporting genotypes of chrom 12\n",
      "Done exporting genotypes of chrom 13\n",
      "Done exporting genotypes of chrom 14\n",
      "Done exporting genotypes of chrom 15\n",
      "Done exporting genotypes of chrom 16\n",
      "Done exporting genotypes of chrom 17\n",
      "Done exporting genotypes of chrom 18\n",
      "Done exporting genotypes of chrom 19\n",
      "Done exporting genotypes of chrom 20\n",
      "Done exporting genotypes of chrom 21\n",
      "Done exporting genotypes of chrom 22\n"
     ]
    }
   ],
   "source": [
    "for CH in range(1,23):\n",
    "    # Write the list of SNPS to a file\n",
    "    SNP_list_file = \"%s/conditional_analysis/dragana_snps_chr_%d.txt\" % (export_folder, CH)\n",
    "    SNP_list = dgw.loc[(dgw[\"Chr (GRCh37)\"] == CH) & dgw.SNP.str.contains(\"rs\")].SNP.unique().tolist()\n",
    "    SNP_list = [s for s in SNP_list if \"rs\" in s]\n",
    "    with open(SNP_list_file,\"w\") as file:\n",
    "        for s in SNP_list:\n",
    "            file.write(\"%s\\n\" % s)\n",
    "\n",
    "    # Extract the table\n",
    "    gen_path = \"%s/conditional_analysis/genotypes_dragana_CHR_%d\" % (export_folder, CH)\n",
    "    command = \"/home/hv270/plink\"\n",
    "    command += \" --bfile /home/hv270/rds/rds-who1000-cbrc/user/wja24/shared/hv270/interval_genotypes/chr_%d\" % CH\n",
    "    command += \" --extract %s\" % SNP_list_file\n",
    "    command += \" --keep %s\" % EUR_path_interval\n",
    "    command += \" --recode A-transpose --out %s\" % gen_path\n",
    "    p = subprocess.Popen(command,shell=True)\n",
    "    p.wait()\n",
    "    print(\"Done exporting genotypes of chrom %d\" % CH)"
   ]
  },
  {
   "cell_type": "code",
   "execution_count": 25,
   "metadata": {},
   "outputs": [],
   "source": [
    "gs = []\n",
    "for CH in range(1,23):\n",
    "    gen_path = \"%s/conditional_analysis/genotypes_dragana_CHR_%d\" % (export_folder, CH)\n",
    "    df = pd.read_csv(\"%s.traw\" % (gen_path),sep=\"\\t\")\n",
    "    df = df.set_index(\"SNP\")\n",
    "    ID_cols = [c for c in df.columns if c not in [\"CHR\",\"(C)M\",\"POS\",\"COUNTED\",\"ALT\"]]\n",
    "    df = df[ID_cols].T\n",
    "    gs.append(df)\n",
    "gen = pd.concat(gs,axis=1)\n",
    "gen = gen.loc[:,~gen.columns.duplicated(keep=\"first\")]"
   ]
  },
  {
   "cell_type": "code",
   "execution_count": 26,
   "metadata": {},
   "outputs": [],
   "source": [
    "gen = gen.loc[gen.index.isin(X.index.tolist())]"
   ]
  },
  {
   "cell_type": "code",
   "execution_count": 27,
   "metadata": {},
   "outputs": [],
   "source": [
    "for c in gen.columns:\n",
    "    cond = gen[c].isnull()\n",
    "    gen.loc[cond,c] = gen.loc[~cond,c].mean()"
   ]
  },
  {
   "cell_type": "code",
   "execution_count": 28,
   "metadata": {},
   "outputs": [],
   "source": [
    "X_G = pd.merge(X, gen,left_index=True,right_index=True)"
   ]
  },
  {
   "cell_type": "code",
   "execution_count": 29,
   "metadata": {},
   "outputs": [],
   "source": [
    "G_H = pd.concat([genotypes[key] for key in genotypes],axis=1)\n",
    "G_H = G_H.loc[:,~G_H.columns.duplicated(keep=\"first\")]"
   ]
  },
  {
   "cell_type": "code",
   "execution_count": 30,
   "metadata": {},
   "outputs": [],
   "source": [
    "X_G_H = pd.merge(X_G,G_H[[s for s in G_H.columns if s not in X_G.columns]],left_index=True,right_index=True)"
   ]
  },
  {
   "cell_type": "code",
   "execution_count": 31,
   "metadata": {},
   "outputs": [
    {
     "data": {
      "text/plain": [
       "2298"
      ]
     },
     "execution_count": 31,
     "metadata": {},
     "output_type": "execute_result"
    }
   ],
   "source": [
    "dgw.loc[dgw[\"Associated Blood Index\"].isin([\"PLT#\",\"PDW\",\"MPV\",\"PCT\"])].SNP.nunique()"
   ]
  },
  {
   "cell_type": "code",
   "execution_count": 32,
   "metadata": {},
   "outputs": [
    {
     "name": "stdout",
     "output_type": "stream",
     "text": [
      "0.19757022136313768 0.04953064042092656 91\n",
      "ADP_FIB - rs34524896 - 1.00e+00\n",
      "0.19757022136313768 0.04953064042092656 91\n",
      "ADP_FIB - rs6064731 - 2.09e-01\n",
      "0.19757022136313768 0.10821877105751161 119\n",
      "ADP_FIB - rs1434282 - 1.00e+00\n",
      "0.19757022136313768 0.10821877105751161 119\n",
      "ADP_FIB - rs17625587 - 4.71e-01\n",
      "0.19757022136313768 0.07655909418163948 89\n",
      "ADP_FIB - rs7961894 - 6.47e-05\n",
      "0.19757022136313768 0.07655909418163948 89\n",
      "ADP_FIB - rs1169072 - 9.14e-06\n",
      "0.19757022136313768 0.03810846791905927 47\n",
      "ADP_FIB - rs59001897 - 1.33e-01\n",
      "0.19757022136313768 0.10821877105751161 119\n",
      "ADP_FIB - rs34101855 - 3.50e-01\n",
      "0.19757022136313768 0.107555351041486 133\n",
      "ADP_FIB - rs10914144 - 9.22e-01\n",
      "0.19757022136313768 0.028094264420007717 80\n",
      "ADP_FIB - rs10761731 - 1.00e+00\n",
      "0.19757022136313768 0.05448530739179522 65\n",
      "ADP_FIB - rs6993770 - 1.00e+00\n",
      "0.19757022136313768 0.04615996668191081 83\n",
      "ADP_FIB - rs7193477 - 1.06e-01\n",
      "0.19757022136313768 0.026317192619911563 45\n",
      "ADP_FIB - rs9807614 - 9.28e-01\n",
      "0.19757022136313768 0.025557308206821065 63\n",
      "ADP_FIB - rs61751937 - 1.00e+00\n",
      "0.19757022136313768 0.054689177690070326 93\n",
      "ADP_FIB - rs152039 - 6.28e-02\n",
      "0.19757022136313768 0.054689177690070326 93\n",
      "ADP_FIB - rs2617453 - 2.27e-01\n",
      "0.19757022136313768 0.04497134401917355 122\n",
      "ADP_FIB - rs1654425 - 1.00e+00\n",
      "0.19757022136313768 0.03268542064643033 88\n",
      "ADP_FIB - rs342293 - 1.00e+00\n",
      "0.19757022136313768 0.03268542064643033 88\n",
      "ADP_FIB - rs12534496 - 2.23e-01\n",
      "0.19757022136313768 0.05613703992577478 42\n",
      "ADP_FIB - rs55831924 - 1.64e-01\n",
      "0.19757022136313768 0.055972866155972 93\n",
      "ADP_FIB - rs1354034 - 1.00e+00\n",
      "0.19757022136313768 0.04617942193182563 114\n",
      "ADP_FIB - rs11078475 - 2.96e-01\n",
      "0.19757022136313768 0.10748242824768209 144\n",
      "ADP_FIB - rs12041331 - 1.00e+00\n",
      "0.19757022136313768 0.0282698286130095 77\n",
      "ADP_FIB - rs111763415 - 9.13e-03\n",
      "0.19757022136313768 0.10712591844700982 101\n",
      "ADP_FIB - rs11204523 - 1.00e+00\n",
      "0.19757022136313768 0.025557308206821065 63\n",
      "ADP_FIB - rs117149770 - 3.68e-02\n",
      "0.19757022136313768 0.04953064042092656 91\n",
      "ADP_FIB - rs467040 - 1.94e-01\n",
      "0.19757022136313768 0.01147382896975559 81\n",
      "ADP_FIB - rs117558678 - 6.92e-01\n",
      "0.20094357071285662 0.0531612227888827 91\n",
      "TRAP_FIB - rs34524896 - 1.00e+00\n",
      "0.20094357071285662 0.0531612227888827 91\n",
      "TRAP_FIB - rs6064731 - 2.13e-01\n",
      "0.20094357071285662 0.11100650159258028 119\n",
      "TRAP_FIB - rs1434282 - 1.00e+00\n",
      "0.20094357071285662 0.11100650159258028 119\n",
      "TRAP_FIB - rs17625587 - 4.67e-01\n",
      "0.20094357071285662 0.07423503651290093 89\n",
      "TRAP_FIB - rs7961894 - 6.38e-05\n",
      "0.20094357071285662 0.07423503651290093 89\n",
      "TRAP_FIB - rs1169072 - 8.21e-06\n",
      "0.20094357071285662 0.042569241649548235 47\n",
      "TRAP_FIB - rs59001897 - 1.20e-01\n",
      "0.20094357071285662 0.11100650159258028 119\n",
      "TRAP_FIB - rs34101855 - 3.54e-01\n",
      "0.20094357071285662 0.11026763369810277 133\n",
      "TRAP_FIB - rs10914144 - 9.33e-01\n",
      "0.20094357071285662 0.02780383672235448 80\n",
      "TRAP_FIB - rs10761731 - 1.00e+00\n",
      "0.20094357071285662 0.05743728878154437 65\n",
      "TRAP_FIB - rs6993770 - 1.00e+00\n",
      "0.20094357071285662 0.046987651625654187 83\n",
      "TRAP_FIB - rs7193477 - 9.93e-02\n",
      "0.20094357071285662 0.026443239571110194 45\n",
      "TRAP_FIB - rs9807614 - 9.18e-01\n",
      "0.20094357071285662 0.025386738742224763 63\n",
      "TRAP_FIB - rs61751937 - 1.00e+00\n",
      "0.20094357071285662 0.05888896622216506 93\n",
      "TRAP_FIB - rs152039 - 5.22e-02\n",
      "0.20094357071285662 0.05888896622216506 93\n",
      "TRAP_FIB - rs2617453 - 2.12e-01\n",
      "0.20094357071285662 0.044546209986239274 122\n",
      "TRAP_FIB - rs1654425 - 1.00e+00\n",
      "0.20094357071285662 0.03225669235848395 88\n",
      "TRAP_FIB - rs342293 - 1.00e+00\n",
      "0.20094357071285662 0.03225669235848395 88\n",
      "TRAP_FIB - rs12534496 - 2.21e-01\n",
      "0.20094357071285662 0.05891969725056454 42\n",
      "TRAP_FIB - rs55831924 - 1.77e-01\n",
      "0.20094357071285662 0.05733285414886039 93\n",
      "TRAP_FIB - rs1354034 - 1.00e+00\n",
      "0.20094357071285662 0.04438897373055895 114\n",
      "TRAP_FIB - rs11078475 - 2.94e-01\n",
      "0.20094357071285662 0.11002510044788527 144\n",
      "TRAP_FIB - rs12041331 - 1.00e+00\n",
      "0.20094357071285662 0.027978205586946137 77\n",
      "TRAP_FIB - rs111763415 - 5.46e-03\n",
      "0.20094357071285662 0.10935551096591747 101\n",
      "TRAP_FIB - rs11204523 - 1.00e+00\n",
      "0.20094357071285662 0.025386738742224763 63\n",
      "TRAP_FIB - rs117149770 - 2.52e-02\n",
      "0.20094357071285662 0.11026763369810277 133\n",
      "TRAP_FIB - rs6425521 - 9.02e-01\n",
      "0.20094357071285662 0.0531612227888827 91\n",
      "TRAP_FIB - rs467040 - 1.94e-01\n",
      "0.20094357071285662 0.012819801255204169 81\n",
      "TRAP_FIB - rs117558678 - 6.83e-01\n"
     ]
    }
   ],
   "source": [
    "new_hits = []\n",
    "\n",
    "all_d_hits = [s for s in dgw.SNP.unique().tolist() if s in gen.columns]\n",
    "\n",
    "for pheno in pheno_cols:\n",
    "    lm = LinearRegression().fit(X_G_H[cov.columns],X_G_H[pheno])\n",
    "    adj_cov = X_G_H[pheno] - lm.predict(X_G_H[cov.columns])\n",
    "    N_train = 20000\n",
    "    for snp in G_H.columns:\n",
    "        \n",
    "        candidate_SNPs = dgw.loc[(dgw[\"Chr (GRCh37)\"] == gw_.loc[gw_.SNP == snp,\"CHR\"].iloc[0])].SNP.unique().tolist()\n",
    "        candidate_SNPs = [s for s in candidate_SNPs if np.abs(dgw.loc[dgw.SNP == s,\"BP (GRCh37)\"].iloc[0] - gw_.loc[gw_.SNP == snp,\"BP\"].mean()) <= 1e8]\n",
    "        just_neighbors = [s for s in candidate_SNPs if s in gen.columns]\n",
    "        \n",
    "        lm1 = LinearRegression().fit(X_G_H[all_d_hits].iloc[:N_train],adj_cov.iloc[:N_train])\n",
    "        pred1 = lm1.predict(X_G_H[all_d_hits].iloc[N_train:])\n",
    "        r_1 = pearsonr(pred1,adj_cov.iloc[N_train:])[0]\n",
    "        \n",
    "        lm2 = LinearRegression().fit(X_G_H[just_neighbors].iloc[:N_train],adj_cov.iloc[:N_train])\n",
    "        pred2 = lm2.predict(X_G_H[just_neighbors].iloc[N_train:])\n",
    "        r_2 = pearsonr(pred2,adj_cov.iloc[N_train:])[0]\n",
    "        print(r_1,r_2, len(just_neighbors))\n",
    "        if r_1 < r_2:\n",
    "            print(\"Better to take only neighbors\")\n",
    "        snps_to_take = all_d_hits if np.abs(r_2) < np.abs(r_1) else just_neighbors\n",
    "        \n",
    "        lm = LinearRegression().fit(X_G_H[snps_to_take],adj_cov)\n",
    "        adj_D = adj_cov - lm.predict(X_G_H[snps_to_take])\n",
    "        p = pearsonr(adj_D,X_G_H[snp])[1]\n",
    "        print(\"%s - %s - %.2e\" % (pheno, snp, p))\n",
    "        if p < 1e-8 and p not in new_hits:\n",
    "            new_hits.append(snp)"
   ]
  },
  {
   "cell_type": "code",
   "execution_count": 88,
   "metadata": {},
   "outputs": [],
   "source": [
    "def get_lm_info(X,y,predictions,lm):\n",
    "\n",
    "    #newX = pd.DataFrame({\"Constant\":np.ones(len(X))}).join(pd.DataFrame(X))\n",
    "    #MSE = (sum((y-predictions)**2))/(len(newX)-len(newX.columns))\n",
    "    params = np.append(lm.intercept_,lm.coef_)\n",
    "    # Note if you don't want to use a DataFrame replace the two lines above with\n",
    "    newX = np.append(np.ones((len(X),1)), X, axis=1)\n",
    "    MSE = (sum((y-predictions)**2))/(len(newX)-len(newX[0]))\n",
    "\n",
    "    var_b = MSE*(np.linalg.inv(np.dot(newX.T,newX)).diagonal())\n",
    "    sd_b = np.sqrt(var_b)\n",
    "    ts_b = params/ sd_b\n",
    "\n",
    "    p_values =[2*(1-stats.t.cdf(np.abs(i),(len(newX)-len(newX[0])))) for i in ts_b]\n",
    "\n",
    "    sd_b = np.round(sd_b,3)\n",
    "    ts_b = np.round(ts_b,3)\n",
    "    #p_values = np.round(p_values,3)\n",
    "    params = np.round(params,4)\n",
    "\n",
    "    myDF3 = pd.DataFrame()\n",
    "    myDF3[\"Coefficients\"],myDF3[\"Standard Errors\"],myDF3[\"t values\"],myDF3[\"P\"] = [params,sd_b,ts_b,p_values]\n",
    "    myDF3[\"P\"] = np.clip(myDF3[\"P\"],a_min=1e-40,a_max=1)\n",
    "    return myDF3.iloc[1:] # Don't return offset"
   ]
  },
  {
   "cell_type": "code",
   "execution_count": 89,
   "metadata": {},
   "outputs": [
    {
     "data": {
      "image/png": "[encoded data removed]",
      "text/plain": [
       "<Figure size 432x288 with 1 Axes>"
      ]
     },
     "metadata": {
      "needs_background": "light"
     },
     "output_type": "display_data"
    }
   ],
   "source": [
    "all_d_hits = [s for s in dgw.SNP.unique().tolist() if s in gen.columns]\n",
    "\n",
    "for pheno in pheno_cols:\n",
    "    lm = LinearRegression().fit(X_G_H[cov.columns],X_G_H[pheno])\n",
    "    adj_cov = X_G_H[pheno] - lm.predict(X_G_H[cov.columns])\n",
    "    \n",
    "    #all_hits = list(set(all_d_hits + significant_SNPs[pheno]))\n",
    "    all_hits = significant_SNPs[pheno]\n",
    "    lm = LinearRegression().fit(X_G_H[all_hits],adj_cov)\n",
    "    pred = lm.predict(X_G_H[all_hits])\n",
    "    \n",
    "    lm_info = get_lm_info(X_G_H[all_hits],adj_cov,pred,lm)\n",
    "    lm_info[\"P_alone\"] = [pearsonr(X_G_H[s],adj_cov)[1] for s in all_hits]\n",
    "    lm_info[\"SNP\"] = all_hits\n",
    "    lm_info.set_index(\"SNP\",inplace=True)\n",
    "    \n",
    "    plt.figure()\n",
    "    plt.hist(lm_info[\"P\"],density=True,bins=100,alpha=.5,label=\"D SNPs\")\n",
    "    plt.hist(lm_info.loc[significant_SNPs[pheno],\"P\"],density=True,alpha=.5,label=\"HV SNPs\")\n",
    "    plt.xlabel(\"p-value in LM : phenotype ~ SNPs\")\n",
    "    plt.title(\"phenotype : predicted %s\" % pheno)\n",
    "    break"
   ]
  },
  {
   "cell_type": "code",
   "execution_count": 40,
   "metadata": {},
   "outputs": [
    {
     "data": {
      "text/html": [
       "<div>\n",
       "<style scoped>\n",
       "    .dataframe tbody tr th:only-of-type {\n",
       "        vertical-align: middle;\n",
       "    }\n",
       "\n",
       "    .dataframe tbody tr th {\n",
       "        vertical-align: top;\n",
       "    }\n",
       "\n",
       "    .dataframe thead th {\n",
       "        text-align: right;\n",
       "    }\n",
       "</style>\n",
       "<table border=\"1\" class=\"dataframe\">\n",
       "  <thead>\n",
       "    <tr style=\"text-align: right;\">\n",
       "      <th></th>\n",
       "      <th>SNP</th>\n",
       "      <th>CHR</th>\n",
       "      <th>BP</th>\n",
       "      <th>GENPOS</th>\n",
       "      <th>ALLELE1</th>\n",
       "      <th>ALLELE0</th>\n",
       "      <th>A1FREQ</th>\n",
       "      <th>F_MISS</th>\n",
       "      <th>BETA</th>\n",
       "      <th>SE</th>\n",
       "      <th>P_BOLT_LMM_INF</th>\n",
       "      <th>P</th>\n",
       "      <th>pheno</th>\n",
       "      <th>POS</th>\n",
       "    </tr>\n",
       "  </thead>\n",
       "  <tbody>\n",
       "    <tr>\n",
       "      <th>0</th>\n",
       "      <td>rs568149713</td>\n",
       "      <td>1</td>\n",
       "      <td>15777</td>\n",
       "      <td>0</td>\n",
       "      <td>A</td>\n",
       "      <td>G</td>\n",
       "      <td>0.991710</td>\n",
       "      <td>0.037767</td>\n",
       "      <td>0.029973</td>\n",
       "      <td>0.023995</td>\n",
       "      <td>0.21</td>\n",
       "      <td>0.25</td>\n",
       "      <td>ADP_FIB</td>\n",
       "      <td>15777</td>\n",
       "    </tr>\n",
       "    <tr>\n",
       "      <th>1</th>\n",
       "      <td>rs199745162</td>\n",
       "      <td>1</td>\n",
       "      <td>16949</td>\n",
       "      <td>0</td>\n",
       "      <td>A</td>\n",
       "      <td>C</td>\n",
       "      <td>0.986426</td>\n",
       "      <td>0.047996</td>\n",
       "      <td>-0.003176</td>\n",
       "      <td>0.019029</td>\n",
       "      <td>0.87</td>\n",
       "      <td>0.93</td>\n",
       "      <td>ADP_FIB</td>\n",
       "      <td>16949</td>\n",
       "    </tr>\n",
       "    <tr>\n",
       "      <th>2</th>\n",
       "      <td>rs533090414</td>\n",
       "      <td>1</td>\n",
       "      <td>18849</td>\n",
       "      <td>0</td>\n",
       "      <td>C</td>\n",
       "      <td>G</td>\n",
       "      <td>0.023225</td>\n",
       "      <td>0.050571</td>\n",
       "      <td>0.000379</td>\n",
       "      <td>0.014576</td>\n",
       "      <td>0.98</td>\n",
       "      <td>0.98</td>\n",
       "      <td>ADP_FIB</td>\n",
       "      <td>18849</td>\n",
       "    </tr>\n",
       "    <tr>\n",
       "      <th>3</th>\n",
       "      <td>rs2691277</td>\n",
       "      <td>1</td>\n",
       "      <td>52238</td>\n",
       "      <td>0</td>\n",
       "      <td>T</td>\n",
       "      <td>G</td>\n",
       "      <td>0.012572</td>\n",
       "      <td>0.050266</td>\n",
       "      <td>-0.021468</td>\n",
       "      <td>0.019518</td>\n",
       "      <td>0.27</td>\n",
       "      <td>0.26</td>\n",
       "      <td>ADP_FIB</td>\n",
       "      <td>52238</td>\n",
       "    </tr>\n",
       "    <tr>\n",
       "      <th>4</th>\n",
       "      <td>rs552304420</td>\n",
       "      <td>1</td>\n",
       "      <td>54712</td>\n",
       "      <td>0</td>\n",
       "      <td>T</td>\n",
       "      <td>C</td>\n",
       "      <td>0.993477</td>\n",
       "      <td>0.021136</td>\n",
       "      <td>0.006732</td>\n",
       "      <td>0.026949</td>\n",
       "      <td>0.80</td>\n",
       "      <td>0.85</td>\n",
       "      <td>ADP_FIB</td>\n",
       "      <td>54712</td>\n",
       "    </tr>\n",
       "  </tbody>\n",
       "</table>\n",
       "</div>"
      ],
      "text/plain": [
       "           SNP  CHR     BP  GENPOS ALLELE1 ALLELE0    A1FREQ    F_MISS  \\\n",
       "0  rs568149713    1  15777       0       A       G  0.991710  0.037767   \n",
       "1  rs199745162    1  16949       0       A       C  0.986426  0.047996   \n",
       "2  rs533090414    1  18849       0       C       G  0.023225  0.050571   \n",
       "3    rs2691277    1  52238       0       T       G  0.012572  0.050266   \n",
       "4  rs552304420    1  54712       0       T       C  0.993477  0.021136   \n",
       "\n",
       "       BETA        SE  P_BOLT_LMM_INF     P    pheno    POS  \n",
       "0  0.029973  0.023995            0.21  0.25  ADP_FIB  15777  \n",
       "1 -0.003176  0.019029            0.87  0.93  ADP_FIB  16949  \n",
       "2  0.000379  0.014576            0.98  0.98  ADP_FIB  18849  \n",
       "3 -0.021468  0.019518            0.27  0.26  ADP_FIB  52238  \n",
       "4  0.006732  0.026949            0.80  0.85  ADP_FIB  54712  "
      ]
     },
     "execution_count": 40,
     "metadata": {},
     "output_type": "execute_result"
    }
   ],
   "source": [
    "gw.head()"
   ]
  },
  {
   "cell_type": "code",
   "execution_count": 90,
   "metadata": {},
   "outputs": [],
   "source": [
    "illustrate = pd.merge(gw.loc[gw.pheno == pheno],lm_info,left_on=\"SNP\",right_index=True,how=\"inner\")"
   ]
  },
  {
   "cell_type": "code",
   "execution_count": 100,
   "metadata": {},
   "outputs": [
    {
     "data": {
      "image/png": "[encoded data removed]",
      "text/plain": [
       "<Figure size 864x360 with 1 Axes>"
      ]
     },
     "metadata": {
      "needs_background": "light"
     },
     "output_type": "display_data"
    }
   ],
   "source": [
    "is_HV = illustrate.SNP.isin(significant_SNPs[pheno])\n",
    "is_D = illustrate.SNP.isin(all_d_hits)\n",
    "is_corr = illustrate.SNP.isin([significant_SNPs[pheno][i] for i in corr_snps])\n",
    "plt.figure(figsize=(12,5))\n",
    "plt.scatter(illustrate.loc[~is_HV,\"POS\"],-np.log10(illustrate.loc[~is_HV,\"P_y\"]),c=\"green\",alpha=.5,label=\"Dragana's hits\")\n",
    "plt.scatter(illustrate.loc[is_HV & is_D,\"POS\"],-np.log10(illustrate.loc[is_HV & is_D,\"P_y\"]),c=\"blue\",alpha=1,label=\"HV & Dragana's SNPs\")\n",
    "plt.scatter(illustrate.loc[is_HV & ~is_D,\"POS\"],-np.log10(illustrate.loc[is_HV & ~is_D,\"P_y\"]),c=\"red\",alpha=1,label=\"HV SNPs\")\n",
    "plt.scatter(illustrate.loc[is_HV & is_corr,\"POS\"],-np.log10(illustrate.loc[is_HV & is_corr,\"P_y\"]),c=\"purple\",marker=\"^\",alpha=1,label=\"Correlated\")\n",
    "plt.axhline(8,c=\"grey\")\n",
    "plt.xlabel(\"p-value of coefficient in LM\")\n",
    "plt.xticks([gw.loc[gw.CHR == i,\"POS\"].min() for i in range(1,23)],[str(i) for i in range(1,23)]);\n",
    "plt.legend();"
   ]
  },
  {
   "cell_type": "code",
   "execution_count": 47,
   "metadata": {},
   "outputs": [
    {
     "data": {
      "image/png": "[encoded data removed]",
      "text/plain": [
       "<Figure size 864x360 with 1 Axes>"
      ]
     },
     "metadata": {
      "needs_background": "light"
     },
     "output_type": "display_data"
    }
   ],
   "source": [
    "is_HV = illustrate.SNP.isin(significant_SNPs[pheno])\n",
    "is_D = illustrate.SNP.isin(all_d_hits)\n",
    "plt.figure(figsize=(12,5))\n",
    "plt.scatter(illustrate.loc[~is_HV,\"POS\"],-np.log10(illustrate.loc[~is_HV,\"P_alone\"]),c=\"green\",alpha=.5,label=\"Dragana's hits\")\n",
    "plt.scatter(illustrate.loc[is_HV & is_D,\"POS\"],-np.log10(illustrate.loc[is_HV & is_D,\"P_alone\"]),c=\"blue\",alpha=1,label=\"HV & Dragana's SNPs\")\n",
    "plt.scatter(illustrate.loc[is_HV & ~is_D,\"POS\"],-np.log10(illustrate.loc[is_HV & ~is_D,\"P_alone\"]),c=\"red\",alpha=1,label=\"HV SNPs\")\n",
    "\n",
    "plt.axhline(8,c=\"grey\")\n",
    "plt.xlabel(\"p-value of coefficient in LM\")\n",
    "plt.xticks([gw.loc[gw.CHR == i,\"POS\"].min() for i in range(1,23)],[str(i) for i in range(1,23)]);\n",
    "plt.legend();"
   ]
  },
  {
   "cell_type": "code",
   "execution_count": 1,
   "metadata": {},
   "outputs": [
    {
     "ename": "NameError",
     "evalue": "name 'X_G_H' is not defined",
     "output_type": "error",
     "traceback": [
      "\u001b[0;31m---------------------------------------------------------------------------\u001b[0m",
      "\u001b[0;31mNameError\u001b[0m                                 Traceback (most recent call last)",
      "\u001b[0;32m<ipython-input-1-fd7bbca34cd7>\u001b[0m in \u001b[0;36m<module>\u001b[0;34m\u001b[0m\n\u001b[0;32m----> 1\u001b[0;31m \u001b[0mS\u001b[0m \u001b[0;34m=\u001b[0m \u001b[0mX_G_H\u001b[0m\u001b[0;34m[\u001b[0m\u001b[0msignificant_SNPs\u001b[0m\u001b[0;34m[\u001b[0m\u001b[0mpheno\u001b[0m\u001b[0;34m]\u001b[0m\u001b[0;34m]\u001b[0m\u001b[0;34m.\u001b[0m\u001b[0mvalues\u001b[0m\u001b[0;34m\u001b[0m\u001b[0;34m\u001b[0m\u001b[0m\n\u001b[0m\u001b[1;32m      2\u001b[0m \u001b[0mS\u001b[0m \u001b[0;34m=\u001b[0m \u001b[0mS\u001b[0m \u001b[0;34m-\u001b[0m \u001b[0mnp\u001b[0m\u001b[0;34m.\u001b[0m\u001b[0mmean\u001b[0m\u001b[0;34m(\u001b[0m\u001b[0mS\u001b[0m\u001b[0;34m,\u001b[0m\u001b[0maxis\u001b[0m\u001b[0;34m=\u001b[0m\u001b[0;36m0\u001b[0m\u001b[0;34m)\u001b[0m\u001b[0;34m\u001b[0m\u001b[0;34m\u001b[0m\u001b[0m\n\u001b[1;32m      3\u001b[0m \u001b[0mcorr\u001b[0m \u001b[0;34m=\u001b[0m \u001b[0mnp\u001b[0m\u001b[0;34m.\u001b[0m\u001b[0mabs\u001b[0m\u001b[0;34m(\u001b[0m\u001b[0;34m(\u001b[0m\u001b[0mS\u001b[0m\u001b[0;34m.\u001b[0m\u001b[0mT\u001b[0m \u001b[0;34m@\u001b[0m \u001b[0mS\u001b[0m\u001b[0;34m)\u001b[0m \u001b[0;34m/\u001b[0m \u001b[0;34m(\u001b[0m\u001b[0mS\u001b[0m\u001b[0;34m.\u001b[0m\u001b[0mshape\u001b[0m\u001b[0;34m[\u001b[0m\u001b[0;36m0\u001b[0m\u001b[0;34m]\u001b[0m\u001b[0;34m**\u001b[0m\u001b[0;36m2\u001b[0m\u001b[0;34m)\u001b[0m\u001b[0;34m)\u001b[0m\u001b[0;34m\u001b[0m\u001b[0;34m\u001b[0m\u001b[0m\n\u001b[1;32m      4\u001b[0m \u001b[0mnp\u001b[0m\u001b[0;34m.\u001b[0m\u001b[0mfill_diagonal\u001b[0m\u001b[0;34m(\u001b[0m\u001b[0mcorr\u001b[0m\u001b[0;34m,\u001b[0m \u001b[0;36m0.\u001b[0m\u001b[0;34m)\u001b[0m\u001b[0;34m\u001b[0m\u001b[0;34m\u001b[0m\u001b[0m\n",
      "\u001b[0;31mNameError\u001b[0m: name 'X_G_H' is not defined"
     ]
    }
   ],
   "source": [
    "S = X_G_H[significant_SNPs[pheno]].values\n",
    "S = S - np.mean(S,axis=0)\n",
    "corr = np.abs((S.T @ S) / (S.shape[0]**2))\n",
    "np.fill_diagonal(corr, 0.)"
   ]
  },
  {
   "cell_type": "code",
   "execution_count": 82,
   "metadata": {},
   "outputs": [
    {
     "data": {
      "text/plain": [
       "(0.010882653778507372, 0.0637039133184314)"
      ]
     },
     "execution_count": 82,
     "metadata": {},
     "output_type": "execute_result"
    }
   ],
   "source": [
    "pearsonr(X_G_H[significant_SNPs[pheno][20]],X_G_H[significant_SNPs[pheno][19]])"
   ]
  },
  {
   "cell_type": "code",
   "execution_count": 93,
   "metadata": {},
   "outputs": [
    {
     "data": {
      "text/plain": [
       "<matplotlib.image.AxesImage at 0x2aea60f749e8>"
      ]
     },
     "execution_count": 93,
     "metadata": {},
     "output_type": "execute_result"
    },
    {
     "data": {
      "image/png": "[encoded data removed]",
      "text/plain": [
       "<Figure size 432x288 with 1 Axes>"
      ]
     },
     "metadata": {
      "needs_background": "light"
     },
     "output_type": "display_data"
    }
   ],
   "source": [
    "plt.imshow(corr,vmin=0.,vmax=.000001)"
   ]
  },
  {
   "cell_type": "code",
   "execution_count": 110,
   "metadata": {},
   "outputs": [
    {
     "data": {
      "text/plain": [
       "0.08023001028246528"
      ]
     },
     "execution_count": 110,
     "metadata": {},
     "output_type": "execute_result"
    }
   ],
   "source": [
    "pearsonr(X_G_H[significant_SNPs[pheno][0]],X_G_H[significant_SNPs[pheno][1]])[0]**2"
   ]
  },
  {
   "cell_type": "code",
   "execution_count": 101,
   "metadata": {},
   "outputs": [
    {
     "data": {
      "text/plain": [
       "array([1.88253352e-06, 1.88253352e-06, 1.09437382e-05, 1.09437382e-05,\n",
       "       2.86465029e-06, 2.86465029e-06, 1.43646047e-05, 1.43646047e-05,\n",
       "       1.41026460e-05, 1.41026460e-05])"
      ]
     },
     "execution_count": 101,
     "metadata": {},
     "output_type": "execute_result"
    }
   ],
   "source": [
    "corr[np.where(corr > .000001)]"
   ]
  },
  {
   "cell_type": "code",
   "execution_count": 95,
   "metadata": {},
   "outputs": [],
   "source": [
    "corr_snps = np.where(corr > .000001)[0]"
   ]
  },
  {
   "cell_type": "markdown",
   "metadata": {},
   "source": [
    "# Look in Dragana's GWAS"
   ]
  },
  {
   "cell_type": "code",
   "execution_count": 179,
   "metadata": {},
   "outputs": [
    {
     "name": "stderr",
     "output_type": "stream",
     "text": [
      "/home/hv270/platelets/lib/python3.7/site-packages/ipykernel_launcher.py:1: FutureWarning: Your version of xlrd is 1.2.0. In xlrd >= 2.0, only the xls format is supported. As a result, the openpyxl engine will be used if it is installed and the engine argument is not specified. Install openpyxl instead.\n",
      "  \"\"\"Entry point for launching an IPython kernel.\n"
     ]
    }
   ],
   "source": [
    "dgw = pd.read_excel(\"/home/hv270/sysmex2pf/dragana_GWAS.xlsx\")\n",
    "dgw = dgw.rename(columns={\"rsID (where available)\":\"SNP\",'Gene Symbol(s) for Most Serious Consequence':\"Gene\"})\n",
    "dgw = dgw.loc[dgw[\"SNP\"].isin(all_significant_SNPs)]"
   ]
  },
  {
   "cell_type": "code",
   "execution_count": 180,
   "metadata": {},
   "outputs": [
    {
     "data": {
      "text/plain": [
       "Index(['Associated Blood Index', 'Novel vs Astle 2016', 'Locus ID',\n",
       "       'Associated Blood Index Class', 'Unique Variant ID', 'Gene', 'SNP',\n",
       "       'INFO SCORE', 'Chr (GRCh37)', 'BP (GRCh37)', 'REF (GRC37)',\n",
       "       'ALT (GRC37)', 'Minor Allele', 'Alternative Allele Frequency',\n",
       "       'Minor Allele Frequency',\n",
       "       '(UNIVAR) Estimate of Additive Allelic Effect (REF=Baseline, ALT=Effect)',\n",
       "       '(UNIVAR) Standard Error of Estimator', '(UNIVAR) -log10 P',\n",
       "       '(UNIVAR) Unadjusted R2',\n",
       "       '(MULTI) Estimate of Additive Allelic Effect (REF=Baseline, ALT=Effect)',\n",
       "       '(MULTI) Standard Error of Estimate', '(MULTI) -log10 P',\n",
       "       'Most Serious VEP Consequence of Variant',\n",
       "       'VEP IMPACT of Most Serious Consequence',\n",
       "       'Ensembl Gene ID(s) for Most Serious Consequence'],\n",
       "      dtype='object')"
      ]
     },
     "execution_count": 180,
     "metadata": {},
     "output_type": "execute_result"
    }
   ],
   "source": [
    "dgw.columns"
   ]
  },
  {
   "cell_type": "code",
   "execution_count": 182,
   "metadata": {},
   "outputs": [],
   "source": [
    "sysmex_pheno = ~dgw.pivot_table(aggfunc=\"first\",index=\"SNP\",columns=\"Associated Blood Index\",values=[\"Gene\"])[\"Gene\"].isnull()"
   ]
  },
  {
   "cell_type": "code",
   "execution_count": 184,
   "metadata": {},
   "outputs": [],
   "source": [
    "genes = dgw.groupby(\"SNP\")[[\"Gene\"]].first()"
   ]
  },
  {
   "cell_type": "code",
   "execution_count": 185,
   "metadata": {},
   "outputs": [
    {
     "data": {
      "text/html": [
       "<div>\n",
       "<style scoped>\n",
       "    .dataframe tbody tr th:only-of-type {\n",
       "        vertical-align: middle;\n",
       "    }\n",
       "\n",
       "    .dataframe tbody tr th {\n",
       "        vertical-align: top;\n",
       "    }\n",
       "\n",
       "    .dataframe thead th {\n",
       "        text-align: right;\n",
       "    }\n",
       "</style>\n",
       "<table border=\"1\" class=\"dataframe\">\n",
       "  <thead>\n",
       "    <tr style=\"text-align: right;\">\n",
       "      <th></th>\n",
       "      <th>Gene</th>\n",
       "    </tr>\n",
       "    <tr>\n",
       "      <th>SNP</th>\n",
       "      <th></th>\n",
       "    </tr>\n",
       "  </thead>\n",
       "  <tbody>\n",
       "    <tr>\n",
       "      <th>rs10761731</th>\n",
       "      <td>JMJD1C</td>\n",
       "    </tr>\n",
       "    <tr>\n",
       "      <th>rs11204523</th>\n",
       "      <td>TRIM58</td>\n",
       "    </tr>\n",
       "    <tr>\n",
       "      <th>rs12041331</th>\n",
       "      <td>PEAR1</td>\n",
       "    </tr>\n",
       "    <tr>\n",
       "      <th>rs1354034</th>\n",
       "      <td>ARHGEF3</td>\n",
       "    </tr>\n",
       "    <tr>\n",
       "      <th>rs1434282</th>\n",
       "      <td>RP11-16L9.4</td>\n",
       "    </tr>\n",
       "    <tr>\n",
       "      <th>rs1654425</th>\n",
       "      <td>GP6</td>\n",
       "    </tr>\n",
       "    <tr>\n",
       "      <th>rs34101855</th>\n",
       "      <td>C4BPA</td>\n",
       "    </tr>\n",
       "    <tr>\n",
       "      <th>rs342293</th>\n",
       "      <td>CTB-111H14.1</td>\n",
       "    </tr>\n",
       "    <tr>\n",
       "      <th>rs34524896</th>\n",
       "      <td>TUBB1</td>\n",
       "    </tr>\n",
       "    <tr>\n",
       "      <th>rs61751937</th>\n",
       "      <td>SVEP1</td>\n",
       "    </tr>\n",
       "    <tr>\n",
       "      <th>rs6993770</th>\n",
       "      <td>ZFPM2</td>\n",
       "    </tr>\n",
       "  </tbody>\n",
       "</table>\n",
       "</div>"
      ],
      "text/plain": [
       "                    Gene\n",
       "SNP                     \n",
       "rs10761731        JMJD1C\n",
       "rs11204523        TRIM58\n",
       "rs12041331         PEAR1\n",
       "rs1354034        ARHGEF3\n",
       "rs1434282    RP11-16L9.4\n",
       "rs1654425            GP6\n",
       "rs34101855         C4BPA\n",
       "rs342293    CTB-111H14.1\n",
       "rs34524896         TUBB1\n",
       "rs61751937         SVEP1\n",
       "rs6993770          ZFPM2"
      ]
     },
     "execution_count": 185,
     "metadata": {},
     "output_type": "execute_result"
    }
   ],
   "source": [
    "genes"
   ]
  },
  {
   "cell_type": "code",
   "execution_count": 187,
   "metadata": {},
   "outputs": [],
   "source": [
    "sysmex_pheno[\"Dragana GWAS traits\"] = \"\"\n",
    "for c in sysmex_pheno.columns:\n",
    "    if c == \"Dragana GWAS traits\": continue\n",
    "    sysmex_pheno.loc[sysmex_pheno[c],\"Dragana GWAS traits\"] += \"%s \" % c"
   ]
  },
  {
   "cell_type": "code",
   "execution_count": 188,
   "metadata": {},
   "outputs": [
    {
     "data": {
      "text/plain": [
       "SNP\n",
       "rs10761731                                            MPV PLT# \n",
       "rs11204523                                             MPV PDW \n",
       "rs12041331                                        MPV PDW PLT# \n",
       "rs1354034     HLSR# HLSR% LYMPH# LYMPH% MPV PCT PLT# RET# RET% \n",
       "rs1434282     HCT HGB HLSR# HLSR% IRF MCH MCV MRV MSCV PCT P...\n",
       "rs1654425                                                  MPV \n",
       "rs34101855                                           RET# RET% \n",
       "rs342293                                          MPV PDW WBC# \n",
       "rs34524896                                                PLT# \n",
       "rs61751937                                             MPV PDW \n",
       "rs6993770                                     MPV PCT PDW PLT# \n",
       "Name: Dragana GWAS traits, dtype: object"
      ]
     },
     "execution_count": 188,
     "metadata": {},
     "output_type": "execute_result"
    }
   ],
   "source": [
    "sysmex_pheno[\"Dragana GWAS traits\"]"
   ]
  },
  {
   "cell_type": "code",
   "execution_count": 190,
   "metadata": {},
   "outputs": [],
   "source": [
    "recap = pd.merge(recap,sysmex_pheno[[\"Dragana GWAS traits\"]],how=\"left\",left_index=True,right_index=True).fillna(\"\")"
   ]
  },
  {
   "cell_type": "code",
   "execution_count": 192,
   "metadata": {},
   "outputs": [
    {
     "data": {
      "text/html": [
       "<div>\n",
       "<style scoped>\n",
       "    .dataframe tbody tr th:only-of-type {\n",
       "        vertical-align: middle;\n",
       "    }\n",
       "\n",
       "    .dataframe tbody tr th {\n",
       "        vertical-align: top;\n",
       "    }\n",
       "\n",
       "    .dataframe thead th {\n",
       "        text-align: right;\n",
       "    }\n",
       "</style>\n",
       "<table border=\"1\" class=\"dataframe\">\n",
       "  <thead>\n",
       "    <tr style=\"text-align: right;\">\n",
       "      <th></th>\n",
       "      <th>causal_ADP_FIB</th>\n",
       "      <th>causal_TRAP_FIB</th>\n",
       "      <th>BETA_ADP_FIB</th>\n",
       "      <th>P_ADP_FIB</th>\n",
       "      <th>BETA_TRAP_FIB</th>\n",
       "      <th>P_TRAP_FIB</th>\n",
       "      <th>A1FREQ</th>\n",
       "      <th>CHR</th>\n",
       "      <th>BP</th>\n",
       "      <th>MAF</th>\n",
       "      <th>Dragana GWAS traits</th>\n",
       "    </tr>\n",
       "  </thead>\n",
       "  <tbody>\n",
       "    <tr>\n",
       "      <th>rs6064731</th>\n",
       "      <td>True</td>\n",
       "      <td>False</td>\n",
       "      <td>-0.031769</td>\n",
       "      <td>1.200000e-11</td>\n",
       "      <td>-0.021001</td>\n",
       "      <td>1.600000e-12</td>\n",
       "      <td>0.690579</td>\n",
       "      <td>20</td>\n",
       "      <td>57547945</td>\n",
       "      <td>0.309421</td>\n",
       "      <td></td>\n",
       "    </tr>\n",
       "    <tr>\n",
       "      <th>rs1434282</th>\n",
       "      <td>True</td>\n",
       "      <td>True</td>\n",
       "      <td>0.047447</td>\n",
       "      <td>2.300000e-21</td>\n",
       "      <td>0.030482</td>\n",
       "      <td>6.100000e-22</td>\n",
       "      <td>0.265177</td>\n",
       "      <td>1</td>\n",
       "      <td>199010721</td>\n",
       "      <td>0.265177</td>\n",
       "      <td>HCT HGB HLSR# HLSR% IRF MCH MCV MRV MSCV PCT P...</td>\n",
       "    </tr>\n",
       "    <tr>\n",
       "      <th>rs1654425</th>\n",
       "      <td>True</td>\n",
       "      <td>True</td>\n",
       "      <td>-0.044290</td>\n",
       "      <td>3.200000e-15</td>\n",
       "      <td>-0.028800</td>\n",
       "      <td>6.600000e-16</td>\n",
       "      <td>0.166962</td>\n",
       "      <td>19</td>\n",
       "      <td>55538980</td>\n",
       "      <td>0.166962</td>\n",
       "      <td>MPV</td>\n",
       "    </tr>\n",
       "  </tbody>\n",
       "</table>\n",
       "</div>"
      ],
      "text/plain": [
       "           causal_ADP_FIB  causal_TRAP_FIB  BETA_ADP_FIB     P_ADP_FIB  \\\n",
       "rs6064731            True            False     -0.031769  1.200000e-11   \n",
       "rs1434282            True             True      0.047447  2.300000e-21   \n",
       "rs1654425            True             True     -0.044290  3.200000e-15   \n",
       "\n",
       "           BETA_TRAP_FIB    P_TRAP_FIB    A1FREQ  CHR         BP       MAF  \\\n",
       "rs6064731      -0.021001  1.600000e-12  0.690579   20   57547945  0.309421   \n",
       "rs1434282       0.030482  6.100000e-22  0.265177    1  199010721  0.265177   \n",
       "rs1654425      -0.028800  6.600000e-16  0.166962   19   55538980  0.166962   \n",
       "\n",
       "                                         Dragana GWAS traits  \n",
       "rs6064731                                                     \n",
       "rs1434282  HCT HGB HLSR# HLSR% IRF MCH MCV MRV MSCV PCT P...  \n",
       "rs1654425                                               MPV   "
      ]
     },
     "execution_count": 192,
     "metadata": {},
     "output_type": "execute_result"
    }
   ],
   "source": [
    "recap.sample(3)"
   ]
  },
  {
   "cell_type": "code",
   "execution_count": 195,
   "metadata": {},
   "outputs": [
    {
     "name": "stdout",
     "output_type": "stream",
     "text": [
      "querying 1-29...done.\n",
      "Finished.\n",
      "15 input query terms found dup hits:\n",
      "\t[('rs6425521', 2), ('rs59001897', 2), ('rs117558678', 2), ('rs10914144', 3), ('rs61751937', 2), ('rs\n",
      "1 input query terms found no hit:\n",
      "\t['rs111763415']\n",
      "Pass \"returnall=True\" to return complete lists of duplicate or missing query terms.\n"
     ]
    }
   ],
   "source": [
    "import myvariant\n",
    "mv = myvariant.MyVariantInfo()\n",
    "\n",
    "gene_names = {}\n",
    "to_query = recap.index.tolist()\n",
    "a = mv.querymany(to_query,scopes='dbsnp.rsid', build=\"hg38\",fetchall=False)\n",
    "\n",
    "for i in range(len(a)):\n",
    "    q = a[i][\"query\"]\n",
    "    try:\n",
    "        gene = a[i][\"cadd\"][\"gene\"][\"genename\"]\n",
    "    except:\n",
    "        try:\n",
    "            gene = a[i][\"dbsnp\"][\"gene\"][\"symbol\"]\n",
    "        except:\n",
    "            try:\n",
    "                gene = a[i][\"wellderly\"][\"genename\"]\n",
    "            except:\n",
    "                try:\n",
    "                    gene = a[i][\"snpeff\"][\"ann\"][\"genename\"]\n",
    "                except:\n",
    "                    try:\n",
    "                        gene = a[i][\"snpeff\"][\"ann\"][0][\"genename\"]\n",
    "                    except:\n",
    "                        if q == \"rs111763415\":\n",
    "                            gene = \"SUFU\"\n",
    "                        else:\n",
    "                            gene = \"not found\"\n",
    "    if q in gene_names:\n",
    "        gene_names[q].append(gene)\n",
    "    else:\n",
    "        gene_names[q] = [gene]\n",
    "\n",
    "for q in gene_names:\n",
    "    recap.loc[q,\"genes\"] = \", \".join(list(set(gene_names[q])))"
   ]
  },
  {
   "cell_type": "code",
   "execution_count": 196,
   "metadata": {},
   "outputs": [
    {
     "data": {
      "text/html": [
       "<div>\n",
       "<style scoped>\n",
       "    .dataframe tbody tr th:only-of-type {\n",
       "        vertical-align: middle;\n",
       "    }\n",
       "\n",
       "    .dataframe tbody tr th {\n",
       "        vertical-align: top;\n",
       "    }\n",
       "\n",
       "    .dataframe thead th {\n",
       "        text-align: right;\n",
       "    }\n",
       "</style>\n",
       "<table border=\"1\" class=\"dataframe\">\n",
       "  <thead>\n",
       "    <tr style=\"text-align: right;\">\n",
       "      <th></th>\n",
       "      <th>causal_ADP_FIB</th>\n",
       "      <th>causal_TRAP_FIB</th>\n",
       "      <th>BETA_ADP_FIB</th>\n",
       "      <th>P_ADP_FIB</th>\n",
       "      <th>BETA_TRAP_FIB</th>\n",
       "      <th>P_TRAP_FIB</th>\n",
       "      <th>A1FREQ</th>\n",
       "      <th>CHR</th>\n",
       "      <th>BP</th>\n",
       "      <th>MAF</th>\n",
       "      <th>Dragana GWAS traits</th>\n",
       "      <th>genes</th>\n",
       "    </tr>\n",
       "  </thead>\n",
       "  <tbody>\n",
       "    <tr>\n",
       "      <th>rs6425521</th>\n",
       "      <td>False</td>\n",
       "      <td>True</td>\n",
       "      <td>0.040401</td>\n",
       "      <td>2.000000e-14</td>\n",
       "      <td>0.024831</td>\n",
       "      <td>1.200000e-13</td>\n",
       "      <td>0.193286</td>\n",
       "      <td>1</td>\n",
       "      <td>171942783</td>\n",
       "      <td>0.193286</td>\n",
       "      <td></td>\n",
       "      <td>DNM3</td>\n",
       "    </tr>\n",
       "    <tr>\n",
       "      <th>rs59001897</th>\n",
       "      <td>True</td>\n",
       "      <td>True</td>\n",
       "      <td>-0.049245</td>\n",
       "      <td>3.500000e-17</td>\n",
       "      <td>-0.032179</td>\n",
       "      <td>3.500000e-18</td>\n",
       "      <td>0.833369</td>\n",
       "      <td>15</td>\n",
       "      <td>65160392</td>\n",
       "      <td>0.166631</td>\n",
       "      <td></td>\n",
       "      <td>PLEKHO2</td>\n",
       "    </tr>\n",
       "    <tr>\n",
       "      <th>rs117558678</th>\n",
       "      <td>False</td>\n",
       "      <td>True</td>\n",
       "      <td>-0.026954</td>\n",
       "      <td>6.300000e-08</td>\n",
       "      <td>-0.018656</td>\n",
       "      <td>4.000000e-09</td>\n",
       "      <td>0.765168</td>\n",
       "      <td>11</td>\n",
       "      <td>270330</td>\n",
       "      <td>0.234832</td>\n",
       "      <td></td>\n",
       "      <td>PSMD13-NLRP6</td>\n",
       "    </tr>\n",
       "    <tr>\n",
       "      <th>rs10914144</th>\n",
       "      <td>True</td>\n",
       "      <td>False</td>\n",
       "      <td>0.040385</td>\n",
       "      <td>1.900000e-14</td>\n",
       "      <td>0.024736</td>\n",
       "      <td>1.400000e-13</td>\n",
       "      <td>0.193518</td>\n",
       "      <td>1</td>\n",
       "      <td>171949750</td>\n",
       "      <td>0.193518</td>\n",
       "      <td></td>\n",
       "      <td>DNM3</td>\n",
       "    </tr>\n",
       "    <tr>\n",
       "      <th>rs1354034</th>\n",
       "      <td>True</td>\n",
       "      <td>True</td>\n",
       "      <td>-0.026758</td>\n",
       "      <td>9.200000e-10</td>\n",
       "      <td>-0.018014</td>\n",
       "      <td>8.200000e-11</td>\n",
       "      <td>0.405090</td>\n",
       "      <td>3</td>\n",
       "      <td>56849749</td>\n",
       "      <td>0.405090</td>\n",
       "      <td>HLSR# HLSR% LYMPH# LYMPH% MPV PCT PLT# RET# RET%</td>\n",
       "      <td>ARHGEF3</td>\n",
       "    </tr>\n",
       "    <tr>\n",
       "      <th>rs61751937</th>\n",
       "      <td>True</td>\n",
       "      <td>True</td>\n",
       "      <td>-0.082894</td>\n",
       "      <td>6.900000e-11</td>\n",
       "      <td>-0.053881</td>\n",
       "      <td>2.300000e-11</td>\n",
       "      <td>0.971285</td>\n",
       "      <td>9</td>\n",
       "      <td>113312231</td>\n",
       "      <td>0.028715</td>\n",
       "      <td>MPV PDW</td>\n",
       "      <td>SVEP1</td>\n",
       "    </tr>\n",
       "    <tr>\n",
       "      <th>rs7193477</th>\n",
       "      <td>True</td>\n",
       "      <td>True</td>\n",
       "      <td>-0.043554</td>\n",
       "      <td>4.200000e-16</td>\n",
       "      <td>-0.027859</td>\n",
       "      <td>2.200000e-16</td>\n",
       "      <td>0.790405</td>\n",
       "      <td>16</td>\n",
       "      <td>81886182</td>\n",
       "      <td>0.209595</td>\n",
       "      <td></td>\n",
       "      <td>PLCG2</td>\n",
       "    </tr>\n",
       "    <tr>\n",
       "      <th>rs7961894</th>\n",
       "      <td>True</td>\n",
       "      <td>True</td>\n",
       "      <td>0.059670</td>\n",
       "      <td>8.700000e-19</td>\n",
       "      <td>0.038354</td>\n",
       "      <td>3.000000e-19</td>\n",
       "      <td>0.885004</td>\n",
       "      <td>12</td>\n",
       "      <td>122365583</td>\n",
       "      <td>0.114996</td>\n",
       "      <td></td>\n",
       "      <td>WDR66</td>\n",
       "    </tr>\n",
       "    <tr>\n",
       "      <th>rs6064731</th>\n",
       "      <td>True</td>\n",
       "      <td>False</td>\n",
       "      <td>-0.031769</td>\n",
       "      <td>1.200000e-11</td>\n",
       "      <td>-0.021001</td>\n",
       "      <td>1.600000e-12</td>\n",
       "      <td>0.690579</td>\n",
       "      <td>20</td>\n",
       "      <td>57547945</td>\n",
       "      <td>0.309421</td>\n",
       "      <td></td>\n",
       "      <td>GNAS-NELFCD</td>\n",
       "    </tr>\n",
       "    <tr>\n",
       "      <th>rs342293</th>\n",
       "      <td>True</td>\n",
       "      <td>True</td>\n",
       "      <td>0.039380</td>\n",
       "      <td>1.800000e-20</td>\n",
       "      <td>0.023689</td>\n",
       "      <td>1.200000e-18</td>\n",
       "      <td>0.542087</td>\n",
       "      <td>7</td>\n",
       "      <td>106372219</td>\n",
       "      <td>0.457913</td>\n",
       "      <td>MPV PDW WBC#</td>\n",
       "      <td>CTB-30L5.1</td>\n",
       "    </tr>\n",
       "    <tr>\n",
       "      <th>rs152039</th>\n",
       "      <td>True</td>\n",
       "      <td>True</td>\n",
       "      <td>-0.040301</td>\n",
       "      <td>3.200000e-19</td>\n",
       "      <td>-0.027035</td>\n",
       "      <td>2.300000e-21</td>\n",
       "      <td>0.331313</td>\n",
       "      <td>5</td>\n",
       "      <td>122220665</td>\n",
       "      <td>0.331313</td>\n",
       "      <td></td>\n",
       "      <td>SNX24</td>\n",
       "    </tr>\n",
       "    <tr>\n",
       "      <th>rs467040</th>\n",
       "      <td>False</td>\n",
       "      <td>True</td>\n",
       "      <td>-0.024808</td>\n",
       "      <td>1.300000e-08</td>\n",
       "      <td>-0.016292</td>\n",
       "      <td>4.000000e-09</td>\n",
       "      <td>0.523936</td>\n",
       "      <td>20</td>\n",
       "      <td>57548029</td>\n",
       "      <td>0.476064</td>\n",
       "      <td></td>\n",
       "      <td>GNAS-NELFCD</td>\n",
       "    </tr>\n",
       "    <tr>\n",
       "      <th>rs55831924</th>\n",
       "      <td>True</td>\n",
       "      <td>True</td>\n",
       "      <td>-0.025947</td>\n",
       "      <td>4.100000e-09</td>\n",
       "      <td>-0.016430</td>\n",
       "      <td>4.500000e-09</td>\n",
       "      <td>0.640900</td>\n",
       "      <td>8</td>\n",
       "      <td>145031968</td>\n",
       "      <td>0.359100</td>\n",
       "      <td></td>\n",
       "      <td>PLEC</td>\n",
       "    </tr>\n",
       "    <tr>\n",
       "      <th>rs117149770</th>\n",
       "      <td>False</td>\n",
       "      <td>True</td>\n",
       "      <td>-0.076893</td>\n",
       "      <td>1.300000e-08</td>\n",
       "      <td>-0.050130</td>\n",
       "      <td>4.600000e-09</td>\n",
       "      <td>0.973672</td>\n",
       "      <td>9</td>\n",
       "      <td>113099642</td>\n",
       "      <td>0.026328</td>\n",
       "      <td></td>\n",
       "      <td>TXNDC8</td>\n",
       "    </tr>\n",
       "    <tr>\n",
       "      <th>rs1654425</th>\n",
       "      <td>True</td>\n",
       "      <td>True</td>\n",
       "      <td>-0.044290</td>\n",
       "      <td>3.200000e-15</td>\n",
       "      <td>-0.028800</td>\n",
       "      <td>6.600000e-16</td>\n",
       "      <td>0.166962</td>\n",
       "      <td>19</td>\n",
       "      <td>55538980</td>\n",
       "      <td>0.166962</td>\n",
       "      <td>MPV</td>\n",
       "      <td>GP6</td>\n",
       "    </tr>\n",
       "    <tr>\n",
       "      <th>rs34101855</th>\n",
       "      <td>True</td>\n",
       "      <td>True</td>\n",
       "      <td>0.056272</td>\n",
       "      <td>2.500000e-17</td>\n",
       "      <td>0.035586</td>\n",
       "      <td>2.900000e-17</td>\n",
       "      <td>0.880316</td>\n",
       "      <td>1</td>\n",
       "      <td>207281706</td>\n",
       "      <td>0.119684</td>\n",
       "      <td>RET# RET%</td>\n",
       "      <td>C4BPA</td>\n",
       "    </tr>\n",
       "    <tr>\n",
       "      <th>rs2617453</th>\n",
       "      <td>True</td>\n",
       "      <td>True</td>\n",
       "      <td>0.033298</td>\n",
       "      <td>9.500000e-14</td>\n",
       "      <td>0.022351</td>\n",
       "      <td>3.000000e-15</td>\n",
       "      <td>0.650532</td>\n",
       "      <td>5</td>\n",
       "      <td>122347871</td>\n",
       "      <td>0.349468</td>\n",
       "      <td></td>\n",
       "      <td>SNX24</td>\n",
       "    </tr>\n",
       "    <tr>\n",
       "      <th>rs10761731</th>\n",
       "      <td>True</td>\n",
       "      <td>True</td>\n",
       "      <td>-0.026632</td>\n",
       "      <td>4.000000e-10</td>\n",
       "      <td>-0.015978</td>\n",
       "      <td>3.200000e-09</td>\n",
       "      <td>0.580678</td>\n",
       "      <td>10</td>\n",
       "      <td>65027610</td>\n",
       "      <td>0.419322</td>\n",
       "      <td>MPV PLT#</td>\n",
       "      <td>JMJD1C</td>\n",
       "    </tr>\n",
       "    <tr>\n",
       "      <th>rs12534496</th>\n",
       "      <td>True</td>\n",
       "      <td>True</td>\n",
       "      <td>-0.029366</td>\n",
       "      <td>1.300000e-11</td>\n",
       "      <td>-0.017574</td>\n",
       "      <td>1.600000e-10</td>\n",
       "      <td>0.522720</td>\n",
       "      <td>7</td>\n",
       "      <td>106374640</td>\n",
       "      <td>0.477280</td>\n",
       "      <td></td>\n",
       "      <td>CTB-30L5.1</td>\n",
       "    </tr>\n",
       "    <tr>\n",
       "      <th>rs34524896</th>\n",
       "      <td>True</td>\n",
       "      <td>True</td>\n",
       "      <td>-0.089027</td>\n",
       "      <td>4.300000e-18</td>\n",
       "      <td>-0.061831</td>\n",
       "      <td>1.800000e-21</td>\n",
       "      <td>0.952229</td>\n",
       "      <td>20</td>\n",
       "      <td>57594684</td>\n",
       "      <td>0.047771</td>\n",
       "      <td>PLT#</td>\n",
       "      <td>TUBB1</td>\n",
       "    </tr>\n",
       "    <tr>\n",
       "      <th>rs1169072</th>\n",
       "      <td>True</td>\n",
       "      <td>True</td>\n",
       "      <td>0.025690</td>\n",
       "      <td>6.300000e-09</td>\n",
       "      <td>0.016689</td>\n",
       "      <td>2.600000e-09</td>\n",
       "      <td>0.411882</td>\n",
       "      <td>12</td>\n",
       "      <td>122401501</td>\n",
       "      <td>0.411882</td>\n",
       "      <td></td>\n",
       "      <td>WDR66</td>\n",
       "    </tr>\n",
       "    <tr>\n",
       "      <th>rs11078475</th>\n",
       "      <td>True</td>\n",
       "      <td>True</td>\n",
       "      <td>-0.025224</td>\n",
       "      <td>2.800000e-09</td>\n",
       "      <td>-0.015808</td>\n",
       "      <td>4.100000e-09</td>\n",
       "      <td>0.468763</td>\n",
       "      <td>17</td>\n",
       "      <td>3819002</td>\n",
       "      <td>0.468763</td>\n",
       "      <td></td>\n",
       "      <td>P2RX1</td>\n",
       "    </tr>\n",
       "    <tr>\n",
       "      <th>rs17625587</th>\n",
       "      <td>True</td>\n",
       "      <td>True</td>\n",
       "      <td>-0.047149</td>\n",
       "      <td>9.500000e-21</td>\n",
       "      <td>-0.030271</td>\n",
       "      <td>2.700000e-21</td>\n",
       "      <td>0.740589</td>\n",
       "      <td>1</td>\n",
       "      <td>198990494</td>\n",
       "      <td>0.259411</td>\n",
       "      <td></td>\n",
       "      <td>LINC01221</td>\n",
       "    </tr>\n",
       "    <tr>\n",
       "      <th>rs6993770</th>\n",
       "      <td>True</td>\n",
       "      <td>True</td>\n",
       "      <td>0.050480</td>\n",
       "      <td>9.600000e-27</td>\n",
       "      <td>0.033260</td>\n",
       "      <td>9.200000e-29</td>\n",
       "      <td>0.715596</td>\n",
       "      <td>8</td>\n",
       "      <td>106581528</td>\n",
       "      <td>0.284404</td>\n",
       "      <td>MPV PCT PDW PLT#</td>\n",
       "      <td>ZFPM2</td>\n",
       "    </tr>\n",
       "    <tr>\n",
       "      <th>rs12041331</th>\n",
       "      <td>True</td>\n",
       "      <td>True</td>\n",
       "      <td>0.046216</td>\n",
       "      <td>5.000000e-10</td>\n",
       "      <td>0.030246</td>\n",
       "      <td>1.300000e-10</td>\n",
       "      <td>0.913270</td>\n",
       "      <td>1</td>\n",
       "      <td>156869714</td>\n",
       "      <td>0.086730</td>\n",
       "      <td>MPV PDW PLT#</td>\n",
       "      <td>PEAR1</td>\n",
       "    </tr>\n",
       "    <tr>\n",
       "      <th>rs111763415</th>\n",
       "      <td>True</td>\n",
       "      <td>True</td>\n",
       "      <td>0.025536</td>\n",
       "      <td>2.200000e-09</td>\n",
       "      <td>0.016778</td>\n",
       "      <td>5.500000e-10</td>\n",
       "      <td>0.577197</td>\n",
       "      <td>10</td>\n",
       "      <td>104330296</td>\n",
       "      <td>0.422803</td>\n",
       "      <td></td>\n",
       "      <td>SUFU</td>\n",
       "    </tr>\n",
       "    <tr>\n",
       "      <th>rs1434282</th>\n",
       "      <td>True</td>\n",
       "      <td>True</td>\n",
       "      <td>0.047447</td>\n",
       "      <td>2.300000e-21</td>\n",
       "      <td>0.030482</td>\n",
       "      <td>6.100000e-22</td>\n",
       "      <td>0.265177</td>\n",
       "      <td>1</td>\n",
       "      <td>199010721</td>\n",
       "      <td>0.265177</td>\n",
       "      <td>HCT HGB HLSR# HLSR% IRF MCH MCV MRV MSCV PCT P...</td>\n",
       "      <td>LINC01221</td>\n",
       "    </tr>\n",
       "    <tr>\n",
       "      <th>rs11204523</th>\n",
       "      <td>True</td>\n",
       "      <td>True</td>\n",
       "      <td>0.030363</td>\n",
       "      <td>4.000000e-09</td>\n",
       "      <td>0.019234</td>\n",
       "      <td>3.800000e-09</td>\n",
       "      <td>0.235326</td>\n",
       "      <td>1</td>\n",
       "      <td>248020556</td>\n",
       "      <td>0.235326</td>\n",
       "      <td>MPV PDW</td>\n",
       "      <td>TRIM58</td>\n",
       "    </tr>\n",
       "    <tr>\n",
       "      <th>rs9807614</th>\n",
       "      <td>True</td>\n",
       "      <td>False</td>\n",
       "      <td>-0.027898</td>\n",
       "      <td>9.200000e-09</td>\n",
       "      <td>-0.017590</td>\n",
       "      <td>1.100000e-08</td>\n",
       "      <td>0.258769</td>\n",
       "      <td>18</td>\n",
       "      <td>9620332</td>\n",
       "      <td>0.258769</td>\n",
       "      <td></td>\n",
       "      <td>PPP4R1-AS1</td>\n",
       "    </tr>\n",
       "  </tbody>\n",
       "</table>\n",
       "</div>"
      ],
      "text/plain": [
       "             causal_ADP_FIB  causal_TRAP_FIB  BETA_ADP_FIB     P_ADP_FIB  \\\n",
       "rs6425521             False             True      0.040401  2.000000e-14   \n",
       "rs59001897             True             True     -0.049245  3.500000e-17   \n",
       "rs117558678           False             True     -0.026954  6.300000e-08   \n",
       "rs10914144             True            False      0.040385  1.900000e-14   \n",
       "rs1354034              True             True     -0.026758  9.200000e-10   \n",
       "rs61751937             True             True     -0.082894  6.900000e-11   \n",
       "rs7193477              True             True     -0.043554  4.200000e-16   \n",
       "rs7961894              True             True      0.059670  8.700000e-19   \n",
       "rs6064731              True            False     -0.031769  1.200000e-11   \n",
       "rs342293               True             True      0.039380  1.800000e-20   \n",
       "rs152039               True             True     -0.040301  3.200000e-19   \n",
       "rs467040              False             True     -0.024808  1.300000e-08   \n",
       "rs55831924             True             True     -0.025947  4.100000e-09   \n",
       "rs117149770           False             True     -0.076893  1.300000e-08   \n",
       "rs1654425              True             True     -0.044290  3.200000e-15   \n",
       "rs34101855             True             True      0.056272  2.500000e-17   \n",
       "rs2617453              True             True      0.033298  9.500000e-14   \n",
       "rs10761731             True             True     -0.026632  4.000000e-10   \n",
       "rs12534496             True             True     -0.029366  1.300000e-11   \n",
       "rs34524896             True             True     -0.089027  4.300000e-18   \n",
       "rs1169072              True             True      0.025690  6.300000e-09   \n",
       "rs11078475             True             True     -0.025224  2.800000e-09   \n",
       "rs17625587             True             True     -0.047149  9.500000e-21   \n",
       "rs6993770              True             True      0.050480  9.600000e-27   \n",
       "rs12041331             True             True      0.046216  5.000000e-10   \n",
       "rs111763415            True             True      0.025536  2.200000e-09   \n",
       "rs1434282              True             True      0.047447  2.300000e-21   \n",
       "rs11204523             True             True      0.030363  4.000000e-09   \n",
       "rs9807614              True            False     -0.027898  9.200000e-09   \n",
       "\n",
       "             BETA_TRAP_FIB    P_TRAP_FIB    A1FREQ  CHR         BP       MAF  \\\n",
       "rs6425521         0.024831  1.200000e-13  0.193286    1  171942783  0.193286   \n",
       "rs59001897       -0.032179  3.500000e-18  0.833369   15   65160392  0.166631   \n",
       "rs117558678      -0.018656  4.000000e-09  0.765168   11     270330  0.234832   \n",
       "rs10914144        0.024736  1.400000e-13  0.193518    1  171949750  0.193518   \n",
       "rs1354034        -0.018014  8.200000e-11  0.405090    3   56849749  0.405090   \n",
       "rs61751937       -0.053881  2.300000e-11  0.971285    9  113312231  0.028715   \n",
       "rs7193477        -0.027859  2.200000e-16  0.790405   16   81886182  0.209595   \n",
       "rs7961894         0.038354  3.000000e-19  0.885004   12  122365583  0.114996   \n",
       "rs6064731        -0.021001  1.600000e-12  0.690579   20   57547945  0.309421   \n",
       "rs342293          0.023689  1.200000e-18  0.542087    7  106372219  0.457913   \n",
       "rs152039         -0.027035  2.300000e-21  0.331313    5  122220665  0.331313   \n",
       "rs467040         -0.016292  4.000000e-09  0.523936   20   57548029  0.476064   \n",
       "rs55831924       -0.016430  4.500000e-09  0.640900    8  145031968  0.359100   \n",
       "rs117149770      -0.050130  4.600000e-09  0.973672    9  113099642  0.026328   \n",
       "rs1654425        -0.028800  6.600000e-16  0.166962   19   55538980  0.166962   \n",
       "rs34101855        0.035586  2.900000e-17  0.880316    1  207281706  0.119684   \n",
       "rs2617453         0.022351  3.000000e-15  0.650532    5  122347871  0.349468   \n",
       "rs10761731       -0.015978  3.200000e-09  0.580678   10   65027610  0.419322   \n",
       "rs12534496       -0.017574  1.600000e-10  0.522720    7  106374640  0.477280   \n",
       "rs34524896       -0.061831  1.800000e-21  0.952229   20   57594684  0.047771   \n",
       "rs1169072         0.016689  2.600000e-09  0.411882   12  122401501  0.411882   \n",
       "rs11078475       -0.015808  4.100000e-09  0.468763   17    3819002  0.468763   \n",
       "rs17625587       -0.030271  2.700000e-21  0.740589    1  198990494  0.259411   \n",
       "rs6993770         0.033260  9.200000e-29  0.715596    8  106581528  0.284404   \n",
       "rs12041331        0.030246  1.300000e-10  0.913270    1  156869714  0.086730   \n",
       "rs111763415       0.016778  5.500000e-10  0.577197   10  104330296  0.422803   \n",
       "rs1434282         0.030482  6.100000e-22  0.265177    1  199010721  0.265177   \n",
       "rs11204523        0.019234  3.800000e-09  0.235326    1  248020556  0.235326   \n",
       "rs9807614        -0.017590  1.100000e-08  0.258769   18    9620332  0.258769   \n",
       "\n",
       "                                           Dragana GWAS traits         genes  \n",
       "rs6425521                                                               DNM3  \n",
       "rs59001897                                                           PLEKHO2  \n",
       "rs117558678                                                     PSMD13-NLRP6  \n",
       "rs10914144                                                              DNM3  \n",
       "rs1354034    HLSR# HLSR% LYMPH# LYMPH% MPV PCT PLT# RET# RET%        ARHGEF3  \n",
       "rs61751937                                            MPV PDW          SVEP1  \n",
       "rs7193477                                                              PLCG2  \n",
       "rs7961894                                                              WDR66  \n",
       "rs6064731                                                        GNAS-NELFCD  \n",
       "rs342293                                         MPV PDW WBC#     CTB-30L5.1  \n",
       "rs152039                                                               SNX24  \n",
       "rs467040                                                         GNAS-NELFCD  \n",
       "rs55831924                                                              PLEC  \n",
       "rs117149770                                                           TXNDC8  \n",
       "rs1654425                                                 MPV            GP6  \n",
       "rs34101855                                          RET# RET%          C4BPA  \n",
       "rs2617453                                                              SNX24  \n",
       "rs10761731                                           MPV PLT#         JMJD1C  \n",
       "rs12534496                                                        CTB-30L5.1  \n",
       "rs34524896                                               PLT#          TUBB1  \n",
       "rs1169072                                                              WDR66  \n",
       "rs11078475                                                             P2RX1  \n",
       "rs17625587                                                         LINC01221  \n",
       "rs6993770                                    MPV PCT PDW PLT#          ZFPM2  \n",
       "rs12041331                                       MPV PDW PLT#          PEAR1  \n",
       "rs111763415                                                             SUFU  \n",
       "rs1434282    HCT HGB HLSR# HLSR% IRF MCH MCV MRV MSCV PCT P...     LINC01221  \n",
       "rs11204523                                            MPV PDW         TRIM58  \n",
       "rs9807614                                                         PPP4R1-AS1  "
      ]
     },
     "execution_count": 196,
     "metadata": {},
     "output_type": "execute_result"
    }
   ],
   "source": [
    "recap"
   ]
  },
  {
   "cell_type": "code",
   "execution_count": 200,
   "metadata": {},
   "outputs": [
    {
     "data": {
      "text/plain": [
       "0.6206896551724138"
      ]
     },
     "execution_count": 200,
     "metadata": {},
     "output_type": "execute_result"
    }
   ],
   "source": [
    "(recap[\"Dragana GWAS traits\"] == \"\").mean()"
   ]
  },
  {
   "cell_type": "code",
   "execution_count": 199,
   "metadata": {},
   "outputs": [],
   "source": [
    "recap.to_csv(\"/home/hv270/sysmex2pf/recap_%s.csv\" % tag)"
   ]
  },
  {
   "cell_type": "markdown",
   "metadata": {},
   "source": [
    "# Manhattan plot"
   ]
  },
  {
   "cell_type": "code",
   "execution_count": 237,
   "metadata": {},
   "outputs": [
    {
     "data": {
      "image/png": "[encoded data removed]",
      "text/plain": [
       "<Figure size 1152x288 with 1 Axes>"
      ]
     },
     "metadata": {
      "needs_background": "light"
     },
     "output_type": "display_data"
    },
    {
     "data": {
      "image/png": "[encoded data removed]",
      "text/plain": [
       "<Figure size 1152x288 with 1 Axes>"
      ]
     },
     "metadata": {
      "needs_background": "light"
     },
     "output_type": "display_data"
    }
   ],
   "source": [
    "cmap = plt.get_cmap(\"Dark2\")\n",
    "for c in pheno_cols:\n",
    "    g = gw_.loc[gw_.pheno == c]\n",
    "    plt.figure(figsize=(16,4))\n",
    "    plt.scatter(g.POS,-np.log10(g.P),c=cmap(g.CHR % 8),s=1 + 15*g.SNP.isin(significant_SNPs[c]))\n",
    "    plt.xticks([g.loc[g.CHR == ch,\"POS\"].min() for ch in range(1,23)],[str(ch) for ch in range(1,23)])\n",
    "    plt.axhline(8,c=\"red\",ls=\":\",lw=1)\n",
    "    written_genes = []\n",
    "    for i, snp in enumerate(recap.loc[recap[\"causal_%s\" % c]].index):\n",
    "        pos = g.loc[g.SNP == snp,\"POS\"] #+ (i % 2)*1e7 - 5e6\n",
    "        height = 1 - np.log10(g.loc[g.SNP == snp,\"P\"])\n",
    "        gene = recap.loc[snp,\"genes\"]\n",
    "        if gene not in written_genes:\n",
    "            plt.text(pos, height,gene,ha=\"right\" if i % 2 == 0 else \"left\")\n",
    "            written_genes.append(gene)\n",
    "    plt.axis(\"off\")\n",
    "    plt.xlim((g.POS.min()-1e7,g.POS.max() + 1e7))"
   ]
  },
  {
   "cell_type": "code",
   "execution_count": 206,
   "metadata": {},
   "outputs": [
    {
     "data": {
      "text/plain": [
       "0.00099"
      ]
     },
     "execution_count": 206,
     "metadata": {},
     "output_type": "execute_result"
    }
   ],
   "source": []
  },
  {
   "cell_type": "code",
   "execution_count": null,
   "metadata": {},
   "outputs": [],
   "source": []
  }
 ],
 "metadata": {
  "kernelspec": {
   "display_name": "Python 3",
   "language": "python",
   "name": "python3"
  },
  "language_info": {
   "codemirror_mode": {
    "name": "ipython",
    "version": 3
   },
   "file_extension": ".py",
   "mimetype": "text/x-python",
   "name": "python",
   "nbconvert_exporter": "python",
   "pygments_lexer": "ipython3",
   "version": "3.7.3"
  },
  "toc": {
   "base_numbering": 1,
   "nav_menu": {},
   "number_sections": true,
   "sideBar": true,
   "skip_h1_title": false,
   "title_cell": "Table of Contents",
   "title_sidebar": "Contents",
   "toc_cell": false,
   "toc_position": {},
   "toc_section_display": true,
   "toc_window_display": true
  }
 },
 "nbformat": 4,
 "nbformat_minor": 4
}
