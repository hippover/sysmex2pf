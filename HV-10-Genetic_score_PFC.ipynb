{
 "cells": [
  {
   "cell_type": "code",
   "execution_count": 1,
   "metadata": {},
   "outputs": [],
   "source": [
    "import pandas as pd\n",
    "import numpy as np\n",
    "import subprocess\n",
    "from glob import glob\n",
    "import matplotlib.pyplot as plt\n",
    "from scipy.stats import pearsonr"
   ]
  },
  {
   "cell_type": "code",
   "execution_count": 2,
   "metadata": {},
   "outputs": [],
   "source": [
    "export_folder = \"/home/hv270/rds/rds-who1000-cbrc/user/wja24/shared/hippolyte_only/interval_processing\"\n",
    "EUR_path = \"%s/genetic_score/EUR\" % export_folder\n",
    "betas_path = \"%s/Genetic_score_Sysmex_traits/betas.csv\" % (export_folder)\n",
    "tag = \"20_dec_21\"\n",
    "snp_path = \"%s/conditional_analysis/causal_SNPs_BOLT_%s_%s.txt\" % (export_folder,tag,\"ADP_pred\")\n",
    "n_splits = 12"
   ]
  },
  {
   "cell_type": "code",
   "execution_count": 3,
   "metadata": {},
   "outputs": [],
   "source": [
    "pheno_cols = [\"ADP_pred\"]"
   ]
  },
  {
   "cell_type": "code",
   "execution_count": null,
   "metadata": {},
   "outputs": [],
   "source": []
  },
  {
   "cell_type": "code",
   "execution_count": null,
   "metadata": {},
   "outputs": [],
   "source": []
  },
  {
   "cell_type": "code",
   "execution_count": 12,
   "metadata": {},
   "outputs": [
    {
     "name": "stdout",
     "output_type": "stream",
     "text": [
      "Submitting 1\n",
      "Submitting 2\n",
      "Submitting 3\n",
      "Submitting 4\n",
      "Submitting 5\n",
      "Submitting 6\n",
      "Submitting 7\n",
      "Submitting 8\n",
      "Submitting 9\n",
      "Submitting 10\n",
      "Submitting 11\n",
      "Submitting 12\n",
      "Submitting 13\n",
      "Submitting 14\n",
      "Submitting 15\n",
      "Submitting 16\n",
      "Submitting 17\n",
      "Submitting 18\n",
      "Submitting 19\n",
      "Submitting 20\n",
      "Submitting 21\n",
      "Submitting 22\n"
     ]
    }
   ],
   "source": [
    "for chrom in range(1,23):\n",
    "    command = \"/home/hv270/Plink2/plink2\"\n",
    "    command += \" --bgen /home/hv270/rds/rds-who1000-cbrc/user/wja24/shared/hippolyte_only/pfc_genotypes/bgen/PFC.%d.imputed.non_zero_maf.bgen\" % chrom\n",
    "    command += \" --sample /home/hv270/rds/rds-who1000-cbrc/user/wja24/shared/hippolyte_only/pfc_genotypes/bgen/PFC.%d.imputed.non_zero_maf.sample\" % chrom\n",
    "    command += \" --extract %s\" % snp_path\n",
    "    command += \" --score %s header-read center\" % betas_path\n",
    "    if len(pheno_cols) > 1:\n",
    "        command += \" --score-col-nums 3-%d\" % (2 + len(pheno_cols))\n",
    "    else:\n",
    "        command += \" --score-col-nums 3\"\n",
    "    command += \" --out %s/Genetic_score_PFC/good_score_chr%s\" % (export_folder,chrom)\n",
    "    command += \" --threads %d\" % n_splits\n",
    "    \n",
    "    f_name = \"/home/hv270/interval_slurm_calls/call_gs_chr_%s_PFC.sh\" % (chrom)\n",
    "    f = open(f_name,\"w+\")\n",
    "    f.write(\"#!/bin/sh\\n\")\n",
    "\n",
    "    f.write(\"#SBATCH -J PF-chr-%s\\n\" % (chrom))\n",
    "    f.write(\"#SBATCH -A ASTLE-SL2-CPU\\n\")\n",
    "    f.write(\"#SBATCH -N 1\\n\")\n",
    "    f.write(\"#SBATCH -n %d\\n\" % n_splits)\n",
    "    f.write(\"#SBATCH --time=1:30:00\\n\")\n",
    "    f.write(\"#SBATCH -p skylake-himem\\n\")\n",
    "    f.write(\"#SBATCH --output=/home/hv270/slurm_log/%s_PFC_%s.out\\n\" % (\"GS\",chrom))\n",
    "    f.write(\"export OMP_NUM_THREADS=%d\\n\" % n_splits)\n",
    "\n",
    "    f.write(\". /etc/profile.d/modules.sh\\n\")\n",
    "    f.write(\"module purge\\n\")\n",
    "    f.write(\"module load rhel7/default-peta4\\n\")\n",
    "    f.write(command)\n",
    "    f.close()\n",
    "\n",
    "    print(\"Submitting %s\" % (chrom))\n",
    "    p = subprocess.Popen(\"sbatch %s\" % f_name,shell=True)\n",
    "    p.wait()"
   ]
  },
  {
   "cell_type": "code",
   "execution_count": 13,
   "metadata": {},
   "outputs": [
    {
     "data": {
      "text/plain": [
       "'/home/hv270/Plink2/plink2 --bgen /home/hv270/rds/rds-who1000-cbrc/user/wja24/shared/hippolyte_only/pfc_genotypes/bgen/PFC.22.imputed.non_zero_maf.bgen --sample /home/hv270/rds/rds-who1000-cbrc/user/wja24/shared/hippolyte_only/pfc_genotypes/bgen/PFC.22.imputed.non_zero_maf.sample --extract /home/hv270/rds/rds-who1000-cbrc/user/wja24/shared/hippolyte_only/interval_processing/conditional_analysis/causal_SNPs_BOLT_20_dec_21_ADP_pred.txt --score /home/hv270/rds/rds-who1000-cbrc/user/wja24/shared/hippolyte_only/interval_processing/Genetic_score_Sysmex_traits/betas.csv header-read center --score-col-nums 3 --out /home/hv270/rds/rds-who1000-cbrc/user/wja24/shared/hippolyte_only/interval_processing/Genetic_score_PFC/good_score_chr22 --threads 12'"
      ]
     },
     "execution_count": 13,
     "metadata": {},
     "output_type": "execute_result"
    }
   ],
   "source": [
    "command"
   ]
  },
  {
   "cell_type": "markdown",
   "metadata": {},
   "source": [
    "# Read results"
   ]
  },
  {
   "cell_type": "code",
   "execution_count": 14,
   "metadata": {},
   "outputs": [],
   "source": [
    "r_files = sorted(glob(\"%s/Genetic_score_PFC/good_score_chr*.sscore\" % (export_folder)))"
   ]
  },
  {
   "cell_type": "code",
   "execution_count": 15,
   "metadata": {},
   "outputs": [],
   "source": [
    "dfs = []\n",
    "for f in r_files:\n",
    "    df = pd.read_csv(f,sep=\"\\t\")\n",
    "    dfs.append(df)"
   ]
  },
  {
   "cell_type": "code",
   "execution_count": 16,
   "metadata": {},
   "outputs": [],
   "source": [
    "scores = pd.concat(dfs,axis=0).groupby(\"IID\")[[c for c in dfs[-1].columns if \"AVG\" in c]].sum()\n",
    "scores_cols = scores.columns\n",
    "for col in scores_cols:\n",
    "    scores = scores.rename(columns={col:col[:-4]})"
   ]
  },
  {
   "cell_type": "code",
   "execution_count": 17,
   "metadata": {},
   "outputs": [
    {
     "data": {
      "text/html": [
       "<div>\n",
       "<style scoped>\n",
       "    .dataframe tbody tr th:only-of-type {\n",
       "        vertical-align: middle;\n",
       "    }\n",
       "\n",
       "    .dataframe tbody tr th {\n",
       "        vertical-align: top;\n",
       "    }\n",
       "\n",
       "    .dataframe thead th {\n",
       "        text-align: right;\n",
       "    }\n",
       "</style>\n",
       "<table border=\"1\" class=\"dataframe\">\n",
       "  <thead>\n",
       "    <tr style=\"text-align: right;\">\n",
       "      <th></th>\n",
       "      <th>ADP_pred</th>\n",
       "    </tr>\n",
       "    <tr>\n",
       "      <th>IID</th>\n",
       "      <th></th>\n",
       "    </tr>\n",
       "  </thead>\n",
       "  <tbody>\n",
       "    <tr>\n",
       "      <th>a550484-4321705-042718-460_A03.CEL</th>\n",
       "      <td>0.137749</td>\n",
       "    </tr>\n",
       "    <tr>\n",
       "      <th>a550484-4321705-042718-460_A05.CEL</th>\n",
       "      <td>0.013198</td>\n",
       "    </tr>\n",
       "    <tr>\n",
       "      <th>a550484-4321705-042718-460_A07.CEL</th>\n",
       "      <td>0.087137</td>\n",
       "    </tr>\n",
       "    <tr>\n",
       "      <th>a550484-4321705-042718-460_A08.CEL</th>\n",
       "      <td>-0.110322</td>\n",
       "    </tr>\n",
       "    <tr>\n",
       "      <th>a550484-4321705-042718-460_A09.CEL</th>\n",
       "      <td>0.031776</td>\n",
       "    </tr>\n",
       "    <tr>\n",
       "      <th>...</th>\n",
       "      <td>...</td>\n",
       "    </tr>\n",
       "    <tr>\n",
       "      <th>a550484-4327674-062018-910_H02.CEL</th>\n",
       "      <td>-0.097465</td>\n",
       "    </tr>\n",
       "    <tr>\n",
       "      <th>a550484-4327674-062018-910_H03.CEL</th>\n",
       "      <td>-0.009227</td>\n",
       "    </tr>\n",
       "    <tr>\n",
       "      <th>a550484-4327674-062018-910_H04.CEL</th>\n",
       "      <td>0.161603</td>\n",
       "    </tr>\n",
       "    <tr>\n",
       "      <th>a550484-4327674-062018-910_H05.CEL</th>\n",
       "      <td>0.164646</td>\n",
       "    </tr>\n",
       "    <tr>\n",
       "      <th>a550484-4327674-062018-910_H11.CEL</th>\n",
       "      <td>0.045597</td>\n",
       "    </tr>\n",
       "  </tbody>\n",
       "</table>\n",
       "<p>1373 rows × 1 columns</p>\n",
       "</div>"
      ],
      "text/plain": [
       "                                    ADP_pred\n",
       "IID                                         \n",
       "a550484-4321705-042718-460_A03.CEL  0.137749\n",
       "a550484-4321705-042718-460_A05.CEL  0.013198\n",
       "a550484-4321705-042718-460_A07.CEL  0.087137\n",
       "a550484-4321705-042718-460_A08.CEL -0.110322\n",
       "a550484-4321705-042718-460_A09.CEL  0.031776\n",
       "...                                      ...\n",
       "a550484-4327674-062018-910_H02.CEL -0.097465\n",
       "a550484-4327674-062018-910_H03.CEL -0.009227\n",
       "a550484-4327674-062018-910_H04.CEL  0.161603\n",
       "a550484-4327674-062018-910_H05.CEL  0.164646\n",
       "a550484-4327674-062018-910_H11.CEL  0.045597\n",
       "\n",
       "[1373 rows x 1 columns]"
      ]
     },
     "execution_count": 17,
     "metadata": {},
     "output_type": "execute_result"
    }
   ],
   "source": [
    "scores"
   ]
  },
  {
   "cell_type": "markdown",
   "metadata": {},
   "source": [
    "# Read phenotypes"
   ]
  },
  {
   "cell_type": "code",
   "execution_count": 18,
   "metadata": {},
   "outputs": [],
   "source": [
    "phenotypes = pd.read_csv(\"/home/hv270/rds/rds-who1000-cbrc/user/wja24/shared/hippolyte_only/pfc_phenotypes/phenotypes.tsv\",sep=\"\\t\")"
   ]
  },
  {
   "cell_type": "code",
   "execution_count": 19,
   "metadata": {},
   "outputs": [
    {
     "data": {
      "text/html": [
       "<div>\n",
       "<style scoped>\n",
       "    .dataframe tbody tr th:only-of-type {\n",
       "        vertical-align: middle;\n",
       "    }\n",
       "\n",
       "    .dataframe tbody tr th {\n",
       "        vertical-align: top;\n",
       "    }\n",
       "\n",
       "    .dataframe thead th {\n",
       "        text-align: right;\n",
       "    }\n",
       "</style>\n",
       "<table border=\"1\" class=\"dataframe\">\n",
       "  <thead>\n",
       "    <tr style=\"text-align: right;\">\n",
       "      <th></th>\n",
       "      <th>Affy</th>\n",
       "      <th>REST</th>\n",
       "      <th>ADP</th>\n",
       "      <th>CRP</th>\n",
       "      <th>PAR1</th>\n",
       "      <th>PAR4</th>\n",
       "      <th>TRAP</th>\n",
       "      <th>ADP_FIB_ONLY</th>\n",
       "    </tr>\n",
       "  </thead>\n",
       "  <tbody>\n",
       "    <tr>\n",
       "      <th>0</th>\n",
       "      <td>a550484-4321705-042718-460_A03.CEL</td>\n",
       "      <td>NaN</td>\n",
       "      <td>-0.599679</td>\n",
       "      <td>0.920030</td>\n",
       "      <td>0.511746</td>\n",
       "      <td>0.564012</td>\n",
       "      <td>0.702715</td>\n",
       "      <td>NaN</td>\n",
       "    </tr>\n",
       "    <tr>\n",
       "      <th>1</th>\n",
       "      <td>a550484-4321705-042718-460_A05.CEL</td>\n",
       "      <td>NaN</td>\n",
       "      <td>1.487113</td>\n",
       "      <td>1.420275</td>\n",
       "      <td>-0.053452</td>\n",
       "      <td>0.914320</td>\n",
       "      <td>-0.314637</td>\n",
       "      <td>NaN</td>\n",
       "    </tr>\n",
       "    <tr>\n",
       "      <th>2</th>\n",
       "      <td>a550484-4321705-042718-460_A07.CEL</td>\n",
       "      <td>NaN</td>\n",
       "      <td>-0.357455</td>\n",
       "      <td>0.989093</td>\n",
       "      <td>NaN</td>\n",
       "      <td>NaN</td>\n",
       "      <td>NaN</td>\n",
       "      <td>NaN</td>\n",
       "    </tr>\n",
       "    <tr>\n",
       "      <th>3</th>\n",
       "      <td>a550484-4321705-042718-460_A08.CEL</td>\n",
       "      <td>NaN</td>\n",
       "      <td>-1.719555</td>\n",
       "      <td>-1.075165</td>\n",
       "      <td>NaN</td>\n",
       "      <td>NaN</td>\n",
       "      <td>NaN</td>\n",
       "      <td>NaN</td>\n",
       "    </tr>\n",
       "    <tr>\n",
       "      <th>4</th>\n",
       "      <td>a550484-4321705-042718-460_A09.CEL</td>\n",
       "      <td>NaN</td>\n",
       "      <td>-1.121549</td>\n",
       "      <td>0.181230</td>\n",
       "      <td>NaN</td>\n",
       "      <td>NaN</td>\n",
       "      <td>NaN</td>\n",
       "      <td>NaN</td>\n",
       "    </tr>\n",
       "    <tr>\n",
       "      <th>...</th>\n",
       "      <td>...</td>\n",
       "      <td>...</td>\n",
       "      <td>...</td>\n",
       "      <td>...</td>\n",
       "      <td>...</td>\n",
       "      <td>...</td>\n",
       "      <td>...</td>\n",
       "      <td>...</td>\n",
       "    </tr>\n",
       "    <tr>\n",
       "      <th>1368</th>\n",
       "      <td>a550484-4327674-062018-910_H02.CEL</td>\n",
       "      <td>-0.785120</td>\n",
       "      <td>NaN</td>\n",
       "      <td>-2.222151</td>\n",
       "      <td>NaN</td>\n",
       "      <td>NaN</td>\n",
       "      <td>NaN</td>\n",
       "      <td>-1.608514</td>\n",
       "    </tr>\n",
       "    <tr>\n",
       "      <th>1369</th>\n",
       "      <td>a550484-4327674-062018-910_H03.CEL</td>\n",
       "      <td>0.280245</td>\n",
       "      <td>NaN</td>\n",
       "      <td>0.678366</td>\n",
       "      <td>NaN</td>\n",
       "      <td>NaN</td>\n",
       "      <td>NaN</td>\n",
       "      <td>0.088883</td>\n",
       "    </tr>\n",
       "    <tr>\n",
       "      <th>1370</th>\n",
       "      <td>a550484-4327674-062018-910_H04.CEL</td>\n",
       "      <td>-1.014169</td>\n",
       "      <td>NaN</td>\n",
       "      <td>-0.913385</td>\n",
       "      <td>NaN</td>\n",
       "      <td>NaN</td>\n",
       "      <td>NaN</td>\n",
       "      <td>0.498999</td>\n",
       "    </tr>\n",
       "    <tr>\n",
       "      <th>1371</th>\n",
       "      <td>a550484-4327674-062018-910_H05.CEL</td>\n",
       "      <td>1.856044</td>\n",
       "      <td>NaN</td>\n",
       "      <td>1.985790</td>\n",
       "      <td>NaN</td>\n",
       "      <td>NaN</td>\n",
       "      <td>NaN</td>\n",
       "      <td>0.153684</td>\n",
       "    </tr>\n",
       "    <tr>\n",
       "      <th>1372</th>\n",
       "      <td>a550484-4327674-062018-910_H11.CEL</td>\n",
       "      <td>NaN</td>\n",
       "      <td>-0.388585</td>\n",
       "      <td>-0.063221</td>\n",
       "      <td>0.938697</td>\n",
       "      <td>-0.451857</td>\n",
       "      <td>0.888841</td>\n",
       "      <td>NaN</td>\n",
       "    </tr>\n",
       "  </tbody>\n",
       "</table>\n",
       "<p>1373 rows × 8 columns</p>\n",
       "</div>"
      ],
      "text/plain": [
       "                                    Affy      REST       ADP       CRP  \\\n",
       "0     a550484-4321705-042718-460_A03.CEL       NaN -0.599679  0.920030   \n",
       "1     a550484-4321705-042718-460_A05.CEL       NaN  1.487113  1.420275   \n",
       "2     a550484-4321705-042718-460_A07.CEL       NaN -0.357455  0.989093   \n",
       "3     a550484-4321705-042718-460_A08.CEL       NaN -1.719555 -1.075165   \n",
       "4     a550484-4321705-042718-460_A09.CEL       NaN -1.121549  0.181230   \n",
       "...                                  ...       ...       ...       ...   \n",
       "1368  a550484-4327674-062018-910_H02.CEL -0.785120       NaN -2.222151   \n",
       "1369  a550484-4327674-062018-910_H03.CEL  0.280245       NaN  0.678366   \n",
       "1370  a550484-4327674-062018-910_H04.CEL -1.014169       NaN -0.913385   \n",
       "1371  a550484-4327674-062018-910_H05.CEL  1.856044       NaN  1.985790   \n",
       "1372  a550484-4327674-062018-910_H11.CEL       NaN -0.388585 -0.063221   \n",
       "\n",
       "          PAR1      PAR4      TRAP  ADP_FIB_ONLY  \n",
       "0     0.511746  0.564012  0.702715           NaN  \n",
       "1    -0.053452  0.914320 -0.314637           NaN  \n",
       "2          NaN       NaN       NaN           NaN  \n",
       "3          NaN       NaN       NaN           NaN  \n",
       "4          NaN       NaN       NaN           NaN  \n",
       "...        ...       ...       ...           ...  \n",
       "1368       NaN       NaN       NaN     -1.608514  \n",
       "1369       NaN       NaN       NaN      0.088883  \n",
       "1370       NaN       NaN       NaN      0.498999  \n",
       "1371       NaN       NaN       NaN      0.153684  \n",
       "1372  0.938697 -0.451857  0.888841           NaN  \n",
       "\n",
       "[1373 rows x 8 columns]"
      ]
     },
     "execution_count": 19,
     "metadata": {},
     "output_type": "execute_result"
    }
   ],
   "source": [
    "phenotypes"
   ]
  },
  {
   "cell_type": "markdown",
   "metadata": {},
   "source": [
    "# Exclude people from the training cohort"
   ]
  },
  {
   "cell_type": "code",
   "execution_count": 20,
   "metadata": {},
   "outputs": [],
   "source": [
    "data_folder = \"/rds/project/who1000-1/rds-who1000-cbrc/user/wja24/shared/hippolyte_only\"\n",
    "data_dir = \"/home/hv270/rds/rds-who1000-cbrc/user/wja24/shared/hv270/data_home\"\n",
    "\n",
    "matching = pd.read_csv(\"%s/pfc_table/hippo_pfc_match_table.tsv\" % data_folder,sep=\"\\t\")\n",
    "will_pheno = pd.read_csv(\"%s/pfc_phenotypes/phenotypes.tsv\" % data_folder,sep=\"\\t\")\n",
    "hipp_pheno = pd.read_csv(\"%s/processed/phenotypes.csv\" % data_dir,index_col=0).set_index(\"SAMPLE_ID\")"
   ]
  },
  {
   "cell_type": "code",
   "execution_count": 21,
   "metadata": {},
   "outputs": [],
   "source": [
    "will_pheno[\"Affy\"] = will_pheno[\"Affy\"].str[:-4]\n",
    "will_pheno = pd.merge(will_pheno, matching, left_on=\"Affy\",right_on=\"Affy\")"
   ]
  },
  {
   "cell_type": "code",
   "execution_count": 22,
   "metadata": {},
   "outputs": [],
   "source": [
    "both = pd.merge(will_pheno,hipp_pheno,left_on=\"SAMPLE_ID\",right_index=True,suffixes=(\"_will\",\"_hippo\"))"
   ]
  },
  {
   "cell_type": "code",
   "execution_count": 23,
   "metadata": {},
   "outputs": [],
   "source": [
    "to_exclude = [ID+\".CEL\" for ID in both.Affy.unique().tolist()]"
   ]
  },
  {
   "cell_type": "code",
   "execution_count": 24,
   "metadata": {},
   "outputs": [
    {
     "data": {
      "text/plain": [
       "<matplotlib.collections.PathCollection at 0x2b1cbcadbcf8>"
      ]
     },
     "execution_count": 24,
     "metadata": {},
     "output_type": "execute_result"
    },
    {
     "data": {
      "image/png": "[encoded data removed]",
      "text/plain": [
       "<Figure size 432x288 with 1 Axes>"
      ]
     },
     "metadata": {
      "needs_background": "light"
     },
     "output_type": "display_data"
    }
   ],
   "source": [
    "plt.scatter(both[\"ADP_will\"],both[\"ADP_hippo\"])"
   ]
  },
  {
   "cell_type": "code",
   "execution_count": 25,
   "metadata": {},
   "outputs": [
    {
     "data": {
      "text/html": [
       "<div>\n",
       "<style scoped>\n",
       "    .dataframe tbody tr th:only-of-type {\n",
       "        vertical-align: middle;\n",
       "    }\n",
       "\n",
       "    .dataframe tbody tr th {\n",
       "        vertical-align: top;\n",
       "    }\n",
       "\n",
       "    .dataframe thead th {\n",
       "        text-align: right;\n",
       "    }\n",
       "</style>\n",
       "<table border=\"1\" class=\"dataframe\">\n",
       "  <thead>\n",
       "    <tr style=\"text-align: right;\">\n",
       "      <th></th>\n",
       "      <th>PROJECT</th>\n",
       "      <th>SAMPLE_ID</th>\n",
       "      <th>Affy</th>\n",
       "    </tr>\n",
       "  </thead>\n",
       "  <tbody>\n",
       "    <tr>\n",
       "      <th>0</th>\n",
       "      <td>PFC_1</td>\n",
       "      <td>100010100138</td>\n",
       "      <td>a550484-4327674-062018-907_B10</td>\n",
       "    </tr>\n",
       "    <tr>\n",
       "      <th>1</th>\n",
       "      <td>PFC_1</td>\n",
       "      <td>100010100139</td>\n",
       "      <td>a550484-4327674-062018-906_A04</td>\n",
       "    </tr>\n",
       "    <tr>\n",
       "      <th>2</th>\n",
       "      <td>PFC_1</td>\n",
       "      <td>100010100140</td>\n",
       "      <td>a550484-4324983-042818-484_F07</td>\n",
       "    </tr>\n",
       "    <tr>\n",
       "      <th>3</th>\n",
       "      <td>PFC_1</td>\n",
       "      <td>100010100141</td>\n",
       "      <td>NaN</td>\n",
       "    </tr>\n",
       "    <tr>\n",
       "      <th>4</th>\n",
       "      <td>PFC_1</td>\n",
       "      <td>100010100142</td>\n",
       "      <td>a550484-4326140-061918-707_B02</td>\n",
       "    </tr>\n",
       "  </tbody>\n",
       "</table>\n",
       "</div>"
      ],
      "text/plain": [
       "  PROJECT     SAMPLE_ID                            Affy\n",
       "0   PFC_1  100010100138  a550484-4327674-062018-907_B10\n",
       "1   PFC_1  100010100139  a550484-4327674-062018-906_A04\n",
       "2   PFC_1  100010100140  a550484-4324983-042818-484_F07\n",
       "3   PFC_1  100010100141                             NaN\n",
       "4   PFC_1  100010100142  a550484-4326140-061918-707_B02"
      ]
     },
     "execution_count": 25,
     "metadata": {},
     "output_type": "execute_result"
    }
   ],
   "source": [
    "matching.head()"
   ]
  },
  {
   "cell_type": "code",
   "execution_count": 26,
   "metadata": {},
   "outputs": [],
   "source": [
    "matching[\"Affy\"] = matching[\"Affy\"] + \".CEL\""
   ]
  },
  {
   "cell_type": "code",
   "execution_count": 27,
   "metadata": {},
   "outputs": [],
   "source": [
    "phenotypes = pd.merge(phenotypes,matching,left_on=\"Affy\",right_on=\"Affy\",how=\"left\")"
   ]
  },
  {
   "cell_type": "markdown",
   "metadata": {},
   "source": [
    "# Do the comparison"
   ]
  },
  {
   "cell_type": "code",
   "execution_count": 28,
   "metadata": {},
   "outputs": [],
   "source": [
    "comp = pd.merge(scores,phenotypes,left_index=True,right_on=\"Affy\")\n",
    "#comp = comp.loc[~comp.Affy.isin(to_exclude)]"
   ]
  },
  {
   "cell_type": "code",
   "execution_count": 29,
   "metadata": {},
   "outputs": [
    {
     "data": {
      "text/plain": [
       "<matplotlib.collections.PathCollection at 0x2b1cbcc002e8>"
      ]
     },
     "execution_count": 29,
     "metadata": {},
     "output_type": "execute_result"
    },
    {
     "data": {
      "image/png": "[encoded data removed]",
      "text/plain": [
       "<Figure size 432x288 with 1 Axes>"
      ]
     },
     "metadata": {
      "needs_background": "light"
     },
     "output_type": "display_data"
    }
   ],
   "source": [
    "plt.scatter(comp[\"ADP_pred\"],comp[\"ADP\"],s=1)"
   ]
  },
  {
   "cell_type": "code",
   "execution_count": 37,
   "metadata": {},
   "outputs": [
    {
     "data": {
      "text/plain": [
       "(0.09638379907491491, 0.0029267192688210114)"
      ]
     },
     "execution_count": 37,
     "metadata": {},
     "output_type": "execute_result"
    }
   ],
   "source": [
    "no_nan = ~comp[\"ADP\"].isnull() \n",
    "no_overlap = comp[\"PROJECT\"] != \"PFC_4_U\"\n",
    "pearsonr(comp.loc[no_nan & no_overlap,\"ADP_pred\"],comp.loc[no_nan & no_overlap,\"ADP\"])"
   ]
  },
  {
   "cell_type": "code",
   "execution_count": 36,
   "metadata": {},
   "outputs": [
    {
     "data": {
      "text/plain": [
       "(0.07959880987367234, 0.12694062691914731)"
      ]
     },
     "execution_count": 36,
     "metadata": {},
     "output_type": "execute_result"
    }
   ],
   "source": [
    "no_nan = ~comp[\"ADP_FIB_ONLY\"].isnull()\n",
    "pearsonr(comp.loc[no_nan,\"ADP_pred\"],comp.loc[no_nan,\"ADP_FIB_ONLY\"])"
   ]
  },
  {
   "cell_type": "code",
   "execution_count": null,
   "metadata": {},
   "outputs": [],
   "source": [
    "def pearson_corr(df, col1,col2):\n",
    "    cond = ~df[col1].isnull() & ~df[col2].isnull()\n",
    "    print(cond.sum())\n",
    "    if cond.sum() == 0: return None\n",
    "    return pearsonr(df.loc[cond,col1],df.loc[cond,col2])"
   ]
  },
  {
   "cell_type": "code",
   "execution_count": 31,
   "metadata": {},
   "outputs": [
    {
     "data": {
      "text/html": [
       "<div>\n",
       "<style scoped>\n",
       "    .dataframe tbody tr th:only-of-type {\n",
       "        vertical-align: middle;\n",
       "    }\n",
       "\n",
       "    .dataframe tbody tr th {\n",
       "        vertical-align: top;\n",
       "    }\n",
       "\n",
       "    .dataframe thead th {\n",
       "        text-align: right;\n",
       "    }\n",
       "</style>\n",
       "<table border=\"1\" class=\"dataframe\">\n",
       "  <thead>\n",
       "    <tr style=\"text-align: right;\">\n",
       "      <th></th>\n",
       "      <th>ADP_pred</th>\n",
       "      <th>Affy</th>\n",
       "      <th>REST</th>\n",
       "      <th>ADP</th>\n",
       "      <th>CRP</th>\n",
       "      <th>PAR1</th>\n",
       "      <th>PAR4</th>\n",
       "      <th>TRAP</th>\n",
       "      <th>ADP_FIB_ONLY</th>\n",
       "      <th>PROJECT</th>\n",
       "      <th>SAMPLE_ID</th>\n",
       "    </tr>\n",
       "  </thead>\n",
       "  <tbody>\n",
       "    <tr>\n",
       "      <th>0</th>\n",
       "      <td>0.137749</td>\n",
       "      <td>a550484-4321705-042718-460_A03.CEL</td>\n",
       "      <td>NaN</td>\n",
       "      <td>-0.599679</td>\n",
       "      <td>0.920030</td>\n",
       "      <td>0.511746</td>\n",
       "      <td>0.564012</td>\n",
       "      <td>0.702715</td>\n",
       "      <td>NaN</td>\n",
       "      <td>PFC_3</td>\n",
       "      <td>C0BEKP</td>\n",
       "    </tr>\n",
       "    <tr>\n",
       "      <th>1</th>\n",
       "      <td>0.013198</td>\n",
       "      <td>a550484-4321705-042718-460_A05.CEL</td>\n",
       "      <td>NaN</td>\n",
       "      <td>1.487113</td>\n",
       "      <td>1.420275</td>\n",
       "      <td>-0.053452</td>\n",
       "      <td>0.914320</td>\n",
       "      <td>-0.314637</td>\n",
       "      <td>NaN</td>\n",
       "      <td>PFC_3</td>\n",
       "      <td>C09UHK</td>\n",
       "    </tr>\n",
       "    <tr>\n",
       "      <th>2</th>\n",
       "      <td>0.087137</td>\n",
       "      <td>a550484-4321705-042718-460_A07.CEL</td>\n",
       "      <td>NaN</td>\n",
       "      <td>-0.357455</td>\n",
       "      <td>0.989093</td>\n",
       "      <td>NaN</td>\n",
       "      <td>NaN</td>\n",
       "      <td>NaN</td>\n",
       "      <td>NaN</td>\n",
       "      <td>PFC_1</td>\n",
       "      <td>100010100334</td>\n",
       "    </tr>\n",
       "    <tr>\n",
       "      <th>3</th>\n",
       "      <td>-0.110322</td>\n",
       "      <td>a550484-4321705-042718-460_A08.CEL</td>\n",
       "      <td>NaN</td>\n",
       "      <td>-1.719555</td>\n",
       "      <td>-1.075165</td>\n",
       "      <td>NaN</td>\n",
       "      <td>NaN</td>\n",
       "      <td>NaN</td>\n",
       "      <td>NaN</td>\n",
       "      <td>PFC_1</td>\n",
       "      <td>100010100351</td>\n",
       "    </tr>\n",
       "    <tr>\n",
       "      <th>4</th>\n",
       "      <td>0.031776</td>\n",
       "      <td>a550484-4321705-042718-460_A09.CEL</td>\n",
       "      <td>NaN</td>\n",
       "      <td>-1.121549</td>\n",
       "      <td>0.181230</td>\n",
       "      <td>NaN</td>\n",
       "      <td>NaN</td>\n",
       "      <td>NaN</td>\n",
       "      <td>NaN</td>\n",
       "      <td>PFC_1</td>\n",
       "      <td>100010100319</td>\n",
       "    </tr>\n",
       "    <tr>\n",
       "      <th>...</th>\n",
       "      <td>...</td>\n",
       "      <td>...</td>\n",
       "      <td>...</td>\n",
       "      <td>...</td>\n",
       "      <td>...</td>\n",
       "      <td>...</td>\n",
       "      <td>...</td>\n",
       "      <td>...</td>\n",
       "      <td>...</td>\n",
       "      <td>...</td>\n",
       "      <td>...</td>\n",
       "    </tr>\n",
       "    <tr>\n",
       "      <th>1433</th>\n",
       "      <td>-0.097465</td>\n",
       "      <td>a550484-4327674-062018-910_H02.CEL</td>\n",
       "      <td>-0.785120</td>\n",
       "      <td>NaN</td>\n",
       "      <td>-2.222151</td>\n",
       "      <td>NaN</td>\n",
       "      <td>NaN</td>\n",
       "      <td>NaN</td>\n",
       "      <td>-1.608514</td>\n",
       "      <td>PFC_2</td>\n",
       "      <td>710</td>\n",
       "    </tr>\n",
       "    <tr>\n",
       "      <th>1434</th>\n",
       "      <td>-0.009227</td>\n",
       "      <td>a550484-4327674-062018-910_H03.CEL</td>\n",
       "      <td>0.280245</td>\n",
       "      <td>NaN</td>\n",
       "      <td>0.678366</td>\n",
       "      <td>NaN</td>\n",
       "      <td>NaN</td>\n",
       "      <td>NaN</td>\n",
       "      <td>0.088883</td>\n",
       "      <td>PFC_2</td>\n",
       "      <td>829</td>\n",
       "    </tr>\n",
       "    <tr>\n",
       "      <th>1435</th>\n",
       "      <td>0.161603</td>\n",
       "      <td>a550484-4327674-062018-910_H04.CEL</td>\n",
       "      <td>-1.014169</td>\n",
       "      <td>NaN</td>\n",
       "      <td>-0.913385</td>\n",
       "      <td>NaN</td>\n",
       "      <td>NaN</td>\n",
       "      <td>NaN</td>\n",
       "      <td>0.498999</td>\n",
       "      <td>PFC_2</td>\n",
       "      <td>1043</td>\n",
       "    </tr>\n",
       "    <tr>\n",
       "      <th>1436</th>\n",
       "      <td>0.164646</td>\n",
       "      <td>a550484-4327674-062018-910_H05.CEL</td>\n",
       "      <td>1.856044</td>\n",
       "      <td>NaN</td>\n",
       "      <td>1.985790</td>\n",
       "      <td>NaN</td>\n",
       "      <td>NaN</td>\n",
       "      <td>NaN</td>\n",
       "      <td>0.153684</td>\n",
       "      <td>PFC_2</td>\n",
       "      <td>1309</td>\n",
       "    </tr>\n",
       "    <tr>\n",
       "      <th>1437</th>\n",
       "      <td>0.045597</td>\n",
       "      <td>a550484-4327674-062018-910_H11.CEL</td>\n",
       "      <td>NaN</td>\n",
       "      <td>-0.388585</td>\n",
       "      <td>-0.063221</td>\n",
       "      <td>0.938697</td>\n",
       "      <td>-0.451857</td>\n",
       "      <td>0.888841</td>\n",
       "      <td>NaN</td>\n",
       "      <td>PFC_3</td>\n",
       "      <td>C0ECAT</td>\n",
       "    </tr>\n",
       "  </tbody>\n",
       "</table>\n",
       "<p>1438 rows × 11 columns</p>\n",
       "</div>"
      ],
      "text/plain": [
       "      ADP_pred                                Affy      REST       ADP  \\\n",
       "0     0.137749  a550484-4321705-042718-460_A03.CEL       NaN -0.599679   \n",
       "1     0.013198  a550484-4321705-042718-460_A05.CEL       NaN  1.487113   \n",
       "2     0.087137  a550484-4321705-042718-460_A07.CEL       NaN -0.357455   \n",
       "3    -0.110322  a550484-4321705-042718-460_A08.CEL       NaN -1.719555   \n",
       "4     0.031776  a550484-4321705-042718-460_A09.CEL       NaN -1.121549   \n",
       "...        ...                                 ...       ...       ...   \n",
       "1433 -0.097465  a550484-4327674-062018-910_H02.CEL -0.785120       NaN   \n",
       "1434 -0.009227  a550484-4327674-062018-910_H03.CEL  0.280245       NaN   \n",
       "1435  0.161603  a550484-4327674-062018-910_H04.CEL -1.014169       NaN   \n",
       "1436  0.164646  a550484-4327674-062018-910_H05.CEL  1.856044       NaN   \n",
       "1437  0.045597  a550484-4327674-062018-910_H11.CEL       NaN -0.388585   \n",
       "\n",
       "           CRP      PAR1      PAR4      TRAP  ADP_FIB_ONLY PROJECT  \\\n",
       "0     0.920030  0.511746  0.564012  0.702715           NaN   PFC_3   \n",
       "1     1.420275 -0.053452  0.914320 -0.314637           NaN   PFC_3   \n",
       "2     0.989093       NaN       NaN       NaN           NaN   PFC_1   \n",
       "3    -1.075165       NaN       NaN       NaN           NaN   PFC_1   \n",
       "4     0.181230       NaN       NaN       NaN           NaN   PFC_1   \n",
       "...        ...       ...       ...       ...           ...     ...   \n",
       "1433 -2.222151       NaN       NaN       NaN     -1.608514   PFC_2   \n",
       "1434  0.678366       NaN       NaN       NaN      0.088883   PFC_2   \n",
       "1435 -0.913385       NaN       NaN       NaN      0.498999   PFC_2   \n",
       "1436  1.985790       NaN       NaN       NaN      0.153684   PFC_2   \n",
       "1437 -0.063221  0.938697 -0.451857  0.888841           NaN   PFC_3   \n",
       "\n",
       "         SAMPLE_ID  \n",
       "0           C0BEKP  \n",
       "1           C09UHK  \n",
       "2     100010100334  \n",
       "3     100010100351  \n",
       "4     100010100319  \n",
       "...            ...  \n",
       "1433           710  \n",
       "1434           829  \n",
       "1435          1043  \n",
       "1436          1309  \n",
       "1437        C0ECAT  \n",
       "\n",
       "[1438 rows x 11 columns]"
      ]
     },
     "execution_count": 31,
     "metadata": {},
     "output_type": "execute_result"
    }
   ],
   "source": [
    "comp"
   ]
  },
  {
   "cell_type": "code",
   "execution_count": 32,
   "metadata": {},
   "outputs": [
    {
     "name": "stdout",
     "output_type": "stream",
     "text": [
      "PFC_1\n",
      "414\n",
      "(0.05490523181445266, 0.26501355940508975)\n",
      "PFC_2\n",
      "0\n",
      "None\n",
      "PFC_3\n",
      "537\n",
      "(0.1290330662647748, 0.0027383239869598905)\n",
      "PFC_4_U\n",
      "86\n",
      "(0.23398044256215178, 0.0301367399159271)\n"
     ]
    }
   ],
   "source": [
    "for project, df in comp.groupby(\"PROJECT\"):\n",
    "    print(project)\n",
    "    print(pearson_corr(df,\"ADP_pred\",\"ADP\"))"
   ]
  },
  {
   "cell_type": "code",
   "execution_count": 33,
   "metadata": {},
   "outputs": [
    {
     "name": "stdout",
     "output_type": "stream",
     "text": [
      "PFC_1\n",
      "0\n",
      "None\n",
      "PFC_2\n",
      "369\n",
      "(0.07959880987367234, 0.12694062691914731)\n",
      "PFC_3\n",
      "0\n",
      "None\n",
      "PFC_4_U\n",
      "0\n",
      "None\n"
     ]
    }
   ],
   "source": [
    "for project, df in comp.groupby(\"PROJECT\"):\n",
    "    print(project)\n",
    "    print(pearson_corr(df,\"ADP_pred\",\"ADP_FIB_ONLY\"))"
   ]
  },
  {
   "cell_type": "code",
   "execution_count": null,
   "metadata": {},
   "outputs": [],
   "source": []
  },
  {
   "cell_type": "code",
   "execution_count": null,
   "metadata": {},
   "outputs": [],
   "source": []
  }
 ],
 "metadata": {
  "kernelspec": {
   "display_name": "Python 3",
   "language": "python",
   "name": "python3"
  },
  "language_info": {
   "codemirror_mode": {
    "name": "ipython",
    "version": 3
   },
   "file_extension": ".py",
   "mimetype": "text/x-python",
   "name": "python",
   "nbconvert_exporter": "python",
   "pygments_lexer": "ipython3",
   "version": "3.7.3"
  },
  "toc": {
   "base_numbering": 1,
   "nav_menu": {},
   "number_sections": true,
   "sideBar": true,
   "skip_h1_title": false,
   "title_cell": "Table of Contents",
   "title_sidebar": "Contents",
   "toc_cell": false,
   "toc_position": {},
   "toc_section_display": true,
   "toc_window_display": false
  }
 },
 "nbformat": 4,
 "nbformat_minor": 2
}
