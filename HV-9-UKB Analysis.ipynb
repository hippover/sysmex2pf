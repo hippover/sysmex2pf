{
 "cells": [
  {
   "cell_type": "code",
   "execution_count": 2,
   "metadata": {},
   "outputs": [],
   "source": [
    "import pandas as pd\n",
    "from sklearn.decomposition import PCA\n",
    "from lifelines import KaplanMeierFitter\n",
    "from lifelines import WeibullAFTFitter, CoxPHFitter, CoxTimeVaryingFitter\n",
    "from lifelines.statistics import logrank_test\n",
    "from lifelines.utils import to_long_format, add_covariate_to_timeline, covariates_from_event_matrix\n",
    "\n",
    "from scipy.stats import chi2, pearsonr, binom_test\n",
    "import matplotlib.pyplot as plt\n",
    "import numpy as np\n",
    "from multiprocessing import Pool\n",
    "from tqdm import tqdm\n",
    "from functools import partial\n",
    "import matplotlib.colors\n",
    "\n",
    "from functools import partial\n",
    "import os"
   ]
  },
  {
   "cell_type": "code",
   "execution_count": 3,
   "metadata": {},
   "outputs": [],
   "source": [
    "export_folder = \"/home/hv270/rds/rds-who1000-cbrc/user/wja24/shared/hippolyte_only/interval_processing\"\n",
    "\n",
    "BIRTH_FIELD = \"34-0.0\"\n",
    "SEX_FIELD = \"31-0.0\" # 0 female, 1 male\n",
    "CHOLESTEROL_FIELD = \"30690-0.0\" \n",
    "DIABETES_FIELD = \"2443-0.0\"\n",
    "CRP_FIELD = \"30710-0.0\"\n",
    "HDL_FIELD = \"30760-0.0\"\n",
    "SYSTOLIC_BP_FIELD = \"4080-0.0\"\n",
    "PLT_FIELD = \"30080-0.0\"\n",
    "MPV_FIELD = \"30100-0.0\"\n",
    "PCT_FIELD = \"30090-0.0\"\n",
    "PDW_FIELD = \"30110-0.0\"\n",
    "BMI_FIELD = \"21001-0.0\"\n",
    "genetic_PCs = [\"22009-0.%d\" % i for i in range(1,11)]\n",
    "SMOKING_FIELD = \"20161-0.0\"\n",
    "\n",
    "basics_X_cols = [SMOKING_FIELD] + genetic_PCs # ,BMI_FIELD,DIABETES_FIELD,CHOLESTEROL_FIELD"
   ]
  },
  {
   "cell_type": "code",
   "execution_count": 4,
   "metadata": {},
   "outputs": [],
   "source": [
    "UKB = pd.read_hdf(\"%s/UKB.hdf\" % export_folder)"
   ]
  },
  {
   "cell_type": "code",
   "execution_count": 5,
   "metadata": {},
   "outputs": [],
   "source": [
    "UKB.loc[UKB[SMOKING_FIELD].isnull(),SMOKING_FIELD] = 0.\n",
    "UKB.loc[UKB[DIABETES_FIELD].isnull(),DIABETES_FIELD] = 0.\n",
    "UKB.loc[UKB[DIABETES_FIELD] < 0,DIABETES_FIELD] = 0.\n",
    "UKB[DIABETES_FIELD] = UKB[DIABETES_FIELD].astype(int)\n",
    "UKB.loc[UKB[BMI_FIELD].isnull(),BMI_FIELD] = UKB.loc[~UKB[BMI_FIELD].isnull(),BMI_FIELD].mean()\n",
    "UKB.loc[UKB[CHOLESTEROL_FIELD].isnull(),CHOLESTEROL_FIELD] = UKB.loc[~UKB[CHOLESTEROL_FIELD].isnull(),CHOLESTEROL_FIELD].mean()"
   ]
  },
  {
   "cell_type": "code",
   "execution_count": 6,
   "metadata": {},
   "outputs": [
    {
     "data": {
      "text/plain": [
       "0    365593\n",
       "1     18466\n",
       "Name: 2443-0.0, dtype: int64"
      ]
     },
     "execution_count": 6,
     "metadata": {},
     "output_type": "execute_result"
    }
   ],
   "source": [
    "UKB[DIABETES_FIELD].value_counts()"
   ]
  },
  {
   "cell_type": "code",
   "execution_count": 7,
   "metadata": {},
   "outputs": [
    {
     "data": {
      "text/html": [
       "<div>\n",
       "<style scoped>\n",
       "    .dataframe tbody tr th:only-of-type {\n",
       "        vertical-align: middle;\n",
       "    }\n",
       "\n",
       "    .dataframe tbody tr th {\n",
       "        vertical-align: top;\n",
       "    }\n",
       "\n",
       "    .dataframe thead th {\n",
       "        text-align: right;\n",
       "    }\n",
       "</style>\n",
       "<table border=\"1\" class=\"dataframe\">\n",
       "  <thead>\n",
       "    <tr style=\"text-align: right;\">\n",
       "      <th></th>\n",
       "      <th>20161-0.0</th>\n",
       "      <th>22009-0.1</th>\n",
       "      <th>22009-0.2</th>\n",
       "      <th>22009-0.3</th>\n",
       "      <th>22009-0.4</th>\n",
       "      <th>22009-0.5</th>\n",
       "      <th>22009-0.6</th>\n",
       "      <th>22009-0.7</th>\n",
       "      <th>22009-0.8</th>\n",
       "      <th>22009-0.9</th>\n",
       "      <th>22009-0.10</th>\n",
       "    </tr>\n",
       "    <tr>\n",
       "      <th>eid</th>\n",
       "      <th></th>\n",
       "      <th></th>\n",
       "      <th></th>\n",
       "      <th></th>\n",
       "      <th></th>\n",
       "      <th></th>\n",
       "      <th></th>\n",
       "      <th></th>\n",
       "      <th></th>\n",
       "      <th></th>\n",
       "      <th></th>\n",
       "    </tr>\n",
       "  </thead>\n",
       "  <tbody>\n",
       "    <tr>\n",
       "      <th>1000011</th>\n",
       "      <td>0.0</td>\n",
       "      <td>-13.4848</td>\n",
       "      <td>1.06092</td>\n",
       "      <td>-3.047350</td>\n",
       "      <td>2.22877</td>\n",
       "      <td>-6.06503</td>\n",
       "      <td>-3.956770</td>\n",
       "      <td>0.877139</td>\n",
       "      <td>-0.901110</td>\n",
       "      <td>-1.835710</td>\n",
       "      <td>-0.401581</td>\n",
       "    </tr>\n",
       "    <tr>\n",
       "      <th>1000026</th>\n",
       "      <td>0.0</td>\n",
       "      <td>-13.2959</td>\n",
       "      <td>4.07063</td>\n",
       "      <td>0.425932</td>\n",
       "      <td>4.78868</td>\n",
       "      <td>1.00465</td>\n",
       "      <td>-0.544458</td>\n",
       "      <td>-2.408010</td>\n",
       "      <td>-1.404980</td>\n",
       "      <td>1.165280</td>\n",
       "      <td>0.278346</td>\n",
       "    </tr>\n",
       "    <tr>\n",
       "      <th>1000032</th>\n",
       "      <td>0.0</td>\n",
       "      <td>-15.4969</td>\n",
       "      <td>5.15194</td>\n",
       "      <td>-2.708700</td>\n",
       "      <td>4.22973</td>\n",
       "      <td>5.24573</td>\n",
       "      <td>-1.585010</td>\n",
       "      <td>2.513620</td>\n",
       "      <td>-0.968024</td>\n",
       "      <td>-0.302836</td>\n",
       "      <td>-1.710030</td>\n",
       "    </tr>\n",
       "  </tbody>\n",
       "</table>\n",
       "</div>"
      ],
      "text/plain": [
       "         20161-0.0  22009-0.1  22009-0.2  22009-0.3  22009-0.4  22009-0.5  \\\n",
       "eid                                                                         \n",
       "1000011        0.0   -13.4848    1.06092  -3.047350    2.22877   -6.06503   \n",
       "1000026        0.0   -13.2959    4.07063   0.425932    4.78868    1.00465   \n",
       "1000032        0.0   -15.4969    5.15194  -2.708700    4.22973    5.24573   \n",
       "\n",
       "         22009-0.6  22009-0.7  22009-0.8  22009-0.9  22009-0.10  \n",
       "eid                                                              \n",
       "1000011  -3.956770   0.877139  -0.901110  -1.835710   -0.401581  \n",
       "1000026  -0.544458  -2.408010  -1.404980   1.165280    0.278346  \n",
       "1000032  -1.585010   2.513620  -0.968024  -0.302836   -1.710030  "
      ]
     },
     "execution_count": 7,
     "metadata": {},
     "output_type": "execute_result"
    }
   ],
   "source": [
    "UKB[basics_X_cols].head(3)"
   ]
  },
  {
   "cell_type": "code",
   "execution_count": 8,
   "metadata": {},
   "outputs": [
    {
     "data": {
      "text/html": [
       "<div>\n",
       "<style scoped>\n",
       "    .dataframe tbody tr th:only-of-type {\n",
       "        vertical-align: middle;\n",
       "    }\n",
       "\n",
       "    .dataframe tbody tr th {\n",
       "        vertical-align: top;\n",
       "    }\n",
       "\n",
       "    .dataframe thead th {\n",
       "        text-align: right;\n",
       "    }\n",
       "</style>\n",
       "<table border=\"1\" class=\"dataframe\">\n",
       "  <thead>\n",
       "    <tr style=\"text-align: right;\">\n",
       "      <th></th>\n",
       "      <th>31-0.0</th>\n",
       "      <th>34-0.0</th>\n",
       "      <th>845-0.0</th>\n",
       "      <th>2139-0.0</th>\n",
       "      <th>2217-0.0</th>\n",
       "      <th>2443-0.0</th>\n",
       "      <th>2714-0.0</th>\n",
       "      <th>2754-0.0</th>\n",
       "      <th>2764-0.0</th>\n",
       "      <th>2794-0.0</th>\n",
       "      <th>...</th>\n",
       "      <th>DRUG_228</th>\n",
       "      <th>DRUG_229</th>\n",
       "      <th>DRUG_230</th>\n",
       "      <th>DRUG_231</th>\n",
       "      <th>DRUG_232</th>\n",
       "      <th>DRUG_233</th>\n",
       "      <th>DRUG_234</th>\n",
       "      <th>DRUG_235</th>\n",
       "      <th>DRUG_236</th>\n",
       "      <th>AGE</th>\n",
       "    </tr>\n",
       "    <tr>\n",
       "      <th>eid</th>\n",
       "      <th></th>\n",
       "      <th></th>\n",
       "      <th></th>\n",
       "      <th></th>\n",
       "      <th></th>\n",
       "      <th></th>\n",
       "      <th></th>\n",
       "      <th></th>\n",
       "      <th></th>\n",
       "      <th></th>\n",
       "      <th></th>\n",
       "      <th></th>\n",
       "      <th></th>\n",
       "      <th></th>\n",
       "      <th></th>\n",
       "      <th></th>\n",
       "      <th></th>\n",
       "      <th></th>\n",
       "      <th></th>\n",
       "      <th></th>\n",
       "      <th></th>\n",
       "    </tr>\n",
       "  </thead>\n",
       "  <tbody>\n",
       "    <tr>\n",
       "      <th>2283143</th>\n",
       "      <td>0.0</td>\n",
       "      <td>1955-01-01</td>\n",
       "      <td>16.0</td>\n",
       "      <td>17.0</td>\n",
       "      <td>NaN</td>\n",
       "      <td>0</td>\n",
       "      <td>12.0</td>\n",
       "      <td>28.0</td>\n",
       "      <td>34.0</td>\n",
       "      <td>18.0</td>\n",
       "      <td>...</td>\n",
       "      <td>NaT</td>\n",
       "      <td>NaT</td>\n",
       "      <td>NaT</td>\n",
       "      <td>NaT</td>\n",
       "      <td>NaT</td>\n",
       "      <td>NaT</td>\n",
       "      <td>NaT</td>\n",
       "      <td>NaT</td>\n",
       "      <td>NaT</td>\n",
       "      <td>64.0</td>\n",
       "    </tr>\n",
       "    <tr>\n",
       "      <th>3296231</th>\n",
       "      <td>1.0</td>\n",
       "      <td>1947-01-01</td>\n",
       "      <td>NaN</td>\n",
       "      <td>16.0</td>\n",
       "      <td>23.0</td>\n",
       "      <td>1</td>\n",
       "      <td>NaN</td>\n",
       "      <td>NaN</td>\n",
       "      <td>NaN</td>\n",
       "      <td>NaN</td>\n",
       "      <td>...</td>\n",
       "      <td>NaT</td>\n",
       "      <td>NaT</td>\n",
       "      <td>NaT</td>\n",
       "      <td>NaT</td>\n",
       "      <td>NaT</td>\n",
       "      <td>NaT</td>\n",
       "      <td>NaT</td>\n",
       "      <td>NaT</td>\n",
       "      <td>NaT</td>\n",
       "      <td>72.0</td>\n",
       "    </tr>\n",
       "    <tr>\n",
       "      <th>3116781</th>\n",
       "      <td>1.0</td>\n",
       "      <td>1946-01-01</td>\n",
       "      <td>15.0</td>\n",
       "      <td>18.0</td>\n",
       "      <td>20.0</td>\n",
       "      <td>0</td>\n",
       "      <td>NaN</td>\n",
       "      <td>NaN</td>\n",
       "      <td>NaN</td>\n",
       "      <td>NaN</td>\n",
       "      <td>...</td>\n",
       "      <td>NaT</td>\n",
       "      <td>NaT</td>\n",
       "      <td>NaT</td>\n",
       "      <td>NaT</td>\n",
       "      <td>NaT</td>\n",
       "      <td>NaT</td>\n",
       "      <td>NaT</td>\n",
       "      <td>NaT</td>\n",
       "      <td>NaT</td>\n",
       "      <td>73.0</td>\n",
       "    </tr>\n",
       "  </tbody>\n",
       "</table>\n",
       "<p>3 rows × 1939 columns</p>\n",
       "</div>"
      ],
      "text/plain": [
       "         31-0.0     34-0.0  845-0.0  2139-0.0  2217-0.0  2443-0.0  2714-0.0  \\\n",
       "eid                                                                           \n",
       "2283143     0.0 1955-01-01     16.0      17.0       NaN         0      12.0   \n",
       "3296231     1.0 1947-01-01      NaN      16.0      23.0         1       NaN   \n",
       "3116781     1.0 1946-01-01     15.0      18.0      20.0         0       NaN   \n",
       "\n",
       "         2754-0.0  2764-0.0  2794-0.0  ...  DRUG_228  DRUG_229  DRUG_230  \\\n",
       "eid                                    ...                                 \n",
       "2283143      28.0      34.0      18.0  ...       NaT       NaT       NaT   \n",
       "3296231       NaN       NaN       NaN  ...       NaT       NaT       NaT   \n",
       "3116781       NaN       NaN       NaN  ...       NaT       NaT       NaT   \n",
       "\n",
       "         DRUG_231  DRUG_232  DRUG_233  DRUG_234  DRUG_235  DRUG_236   AGE  \n",
       "eid                                                                        \n",
       "2283143       NaT       NaT       NaT       NaT       NaT       NaT  64.0  \n",
       "3296231       NaT       NaT       NaT       NaT       NaT       NaT  72.0  \n",
       "3116781       NaT       NaT       NaT       NaT       NaT       NaT  73.0  \n",
       "\n",
       "[3 rows x 1939 columns]"
      ]
     },
     "execution_count": 8,
     "metadata": {},
     "output_type": "execute_result"
    }
   ],
   "source": [
    "UKB.sample(3)"
   ]
  },
  {
   "cell_type": "code",
   "execution_count": 9,
   "metadata": {},
   "outputs": [],
   "source": [
    "betas = pd.read_hdf(\"%s/UKB_causal_SNPS_genotypes/betas.hdf\" % export_folder,key=\"scores\")"
   ]
  },
  {
   "cell_type": "code",
   "execution_count": 10,
   "metadata": {},
   "outputs": [
    {
     "data": {
      "text/html": [
       "<div>\n",
       "<style scoped>\n",
       "    .dataframe tbody tr th:only-of-type {\n",
       "        vertical-align: middle;\n",
       "    }\n",
       "\n",
       "    .dataframe tbody tr th {\n",
       "        vertical-align: top;\n",
       "    }\n",
       "\n",
       "    .dataframe thead th {\n",
       "        text-align: right;\n",
       "    }\n",
       "</style>\n",
       "<table border=\"1\" class=\"dataframe\">\n",
       "  <thead>\n",
       "    <tr style=\"text-align: right;\">\n",
       "      <th>SNP</th>\n",
       "      <th>rs12566888</th>\n",
       "      <th>rs1434282</th>\n",
       "      <th>rs41315846</th>\n",
       "      <th>rs13412535</th>\n",
       "      <th>rs78909033</th>\n",
       "      <th>rs1354034</th>\n",
       "      <th>rs13067286</th>\n",
       "      <th>rs76445378</th>\n",
       "      <th>rs922140</th>\n",
       "      <th>rs3819288</th>\n",
       "      <th>...</th>\n",
       "      <th>rs61751937</th>\n",
       "      <th>rs10886430</th>\n",
       "      <th>rs7123827</th>\n",
       "      <th>rs11553699</th>\n",
       "      <th>rs61978213</th>\n",
       "      <th>rs59001897</th>\n",
       "      <th>rs8057254</th>\n",
       "      <th>rs12445050</th>\n",
       "      <th>rs11078475</th>\n",
       "      <th>rs1654425</th>\n",
       "    </tr>\n",
       "  </thead>\n",
       "  <tbody>\n",
       "    <tr>\n",
       "      <th>ADP_pred</th>\n",
       "      <td>0.1248</td>\n",
       "      <td>0.069544</td>\n",
       "      <td>0.049249</td>\n",
       "      <td>0.057557</td>\n",
       "      <td>0.069758</td>\n",
       "      <td>0.074894</td>\n",
       "      <td>-0.047616</td>\n",
       "      <td>0.16771</td>\n",
       "      <td>-0.068151</td>\n",
       "      <td>0.083528</td>\n",
       "      <td>...</td>\n",
       "      <td>-0.169112</td>\n",
       "      <td>-0.068886</td>\n",
       "      <td>-0.043878</td>\n",
       "      <td>-0.13446</td>\n",
       "      <td>-0.124011</td>\n",
       "      <td>-0.055161</td>\n",
       "      <td>-0.055509</td>\n",
       "      <td>-0.107511</td>\n",
       "      <td>-0.045222</td>\n",
       "      <td>-0.091918</td>\n",
       "    </tr>\n",
       "    <tr>\n",
       "      <th>ALLELE1</th>\n",
       "      <td>G</td>\n",
       "      <td>C</td>\n",
       "      <td>T</td>\n",
       "      <td>G</td>\n",
       "      <td>G</td>\n",
       "      <td>T</td>\n",
       "      <td>G</td>\n",
       "      <td>C</td>\n",
       "      <td>A</td>\n",
       "      <td>T</td>\n",
       "      <td>...</td>\n",
       "      <td>G</td>\n",
       "      <td>A</td>\n",
       "      <td>A</td>\n",
       "      <td>A</td>\n",
       "      <td>G</td>\n",
       "      <td>T</td>\n",
       "      <td>T</td>\n",
       "      <td>C</td>\n",
       "      <td>T</td>\n",
       "      <td>T</td>\n",
       "    </tr>\n",
       "    <tr>\n",
       "      <th>COUNTED</th>\n",
       "      <td>T</td>\n",
       "      <td>T</td>\n",
       "      <td>C</td>\n",
       "      <td>A</td>\n",
       "      <td>A</td>\n",
       "      <td>C</td>\n",
       "      <td>A</td>\n",
       "      <td>T</td>\n",
       "      <td>G</td>\n",
       "      <td>C</td>\n",
       "      <td>...</td>\n",
       "      <td>C</td>\n",
       "      <td>G</td>\n",
       "      <td>C</td>\n",
       "      <td>G</td>\n",
       "      <td>A</td>\n",
       "      <td>A</td>\n",
       "      <td>A</td>\n",
       "      <td>T</td>\n",
       "      <td>C</td>\n",
       "      <td>C</td>\n",
       "    </tr>\n",
       "  </tbody>\n",
       "</table>\n",
       "<p>3 rows × 21 columns</p>\n",
       "</div>"
      ],
      "text/plain": [
       "SNP      rs12566888 rs1434282 rs41315846 rs13412535 rs78909033 rs1354034  \\\n",
       "ADP_pred     0.1248  0.069544   0.049249   0.057557   0.069758  0.074894   \n",
       "ALLELE1           G         C          T          G          G         T   \n",
       "COUNTED           T         T          C          A          A         C   \n",
       "\n",
       "SNP      rs13067286 rs76445378  rs922140 rs3819288  ... rs61751937 rs10886430  \\\n",
       "ADP_pred  -0.047616    0.16771 -0.068151  0.083528  ...  -0.169112  -0.068886   \n",
       "ALLELE1           G          C         A         T  ...          G          A   \n",
       "COUNTED           A          T         G         C  ...          C          G   \n",
       "\n",
       "SNP      rs7123827 rs11553699 rs61978213 rs59001897 rs8057254 rs12445050  \\\n",
       "ADP_pred -0.043878   -0.13446  -0.124011  -0.055161 -0.055509  -0.107511   \n",
       "ALLELE1          A          A          G          T         T          C   \n",
       "COUNTED          C          G          A          A         A          T   \n",
       "\n",
       "SNP      rs11078475 rs1654425  \n",
       "ADP_pred  -0.045222 -0.091918  \n",
       "ALLELE1           T         T  \n",
       "COUNTED           C         C  \n",
       "\n",
       "[3 rows x 21 columns]"
      ]
     },
     "execution_count": 10,
     "metadata": {},
     "output_type": "execute_result"
    }
   ],
   "source": [
    "betas"
   ]
  },
  {
   "cell_type": "code",
   "execution_count": 11,
   "metadata": {},
   "outputs": [],
   "source": [
    "scores = pd.read_hdf(\"%s/scores_table.hdf\" % export_folder,key=\"scores\")"
   ]
  },
  {
   "cell_type": "code",
   "execution_count": 12,
   "metadata": {},
   "outputs": [
    {
     "data": {
      "text/html": [
       "<div>\n",
       "<style scoped>\n",
       "    .dataframe tbody tr th:only-of-type {\n",
       "        vertical-align: middle;\n",
       "    }\n",
       "\n",
       "    .dataframe tbody tr th {\n",
       "        vertical-align: top;\n",
       "    }\n",
       "\n",
       "    .dataframe thead th {\n",
       "        text-align: right;\n",
       "    }\n",
       "</style>\n",
       "<table border=\"1\" class=\"dataframe\">\n",
       "  <thead>\n",
       "    <tr style=\"text-align: right;\">\n",
       "      <th></th>\n",
       "      <th>INTERVAL_score</th>\n",
       "      <th>best_pval_score</th>\n",
       "      <th>best_pval_score_homogenous</th>\n",
       "      <th>rs12566888_T</th>\n",
       "      <th>rs1434282_T</th>\n",
       "      <th>rs41315846_C</th>\n",
       "      <th>rs13412535_A</th>\n",
       "      <th>rs78909033_A</th>\n",
       "      <th>rs1354034_C</th>\n",
       "      <th>rs13067286_A</th>\n",
       "      <th>...</th>\n",
       "      <th>rs8057254_A</th>\n",
       "      <th>rs12445050_T</th>\n",
       "      <th>rs11078475_C</th>\n",
       "      <th>rs1654425_C</th>\n",
       "      <th>rs17881225_C</th>\n",
       "      <th>rs12905925_C</th>\n",
       "      <th>PLT_score</th>\n",
       "      <th>MPV_score</th>\n",
       "      <th>PCT_score</th>\n",
       "      <th>PDW_score</th>\n",
       "    </tr>\n",
       "  </thead>\n",
       "  <tbody>\n",
       "    <tr>\n",
       "      <th>1664387</th>\n",
       "      <td>0.130816</td>\n",
       "      <td>-0.070135</td>\n",
       "      <td>-0.423492</td>\n",
       "      <td>0.0</td>\n",
       "      <td>1.0</td>\n",
       "      <td>0.0</td>\n",
       "      <td>1.0</td>\n",
       "      <td>0.0</td>\n",
       "      <td>2.0</td>\n",
       "      <td>1.0</td>\n",
       "      <td>...</td>\n",
       "      <td>2.0</td>\n",
       "      <td>0.0</td>\n",
       "      <td>1.0</td>\n",
       "      <td>2.0</td>\n",
       "      <td>0.0</td>\n",
       "      <td>0.0</td>\n",
       "      <td>0.003644</td>\n",
       "      <td>-0.043503</td>\n",
       "      <td>-0.012340</td>\n",
       "      <td>0.004074</td>\n",
       "    </tr>\n",
       "    <tr>\n",
       "      <th>5582129</th>\n",
       "      <td>0.483499</td>\n",
       "      <td>-2.304678</td>\n",
       "      <td>-1.683141</td>\n",
       "      <td>1.0</td>\n",
       "      <td>2.0</td>\n",
       "      <td>1.0</td>\n",
       "      <td>0.0</td>\n",
       "      <td>0.0</td>\n",
       "      <td>0.0</td>\n",
       "      <td>1.0</td>\n",
       "      <td>...</td>\n",
       "      <td>0.0</td>\n",
       "      <td>0.0</td>\n",
       "      <td>1.0</td>\n",
       "      <td>0.0</td>\n",
       "      <td>0.0</td>\n",
       "      <td>1.0</td>\n",
       "      <td>0.009448</td>\n",
       "      <td>-0.026196</td>\n",
       "      <td>-0.006221</td>\n",
       "      <td>-0.001046</td>\n",
       "    </tr>\n",
       "    <tr>\n",
       "      <th>2943269</th>\n",
       "      <td>-0.780443</td>\n",
       "      <td>-1.160471</td>\n",
       "      <td>-0.763968</td>\n",
       "      <td>0.0</td>\n",
       "      <td>2.0</td>\n",
       "      <td>1.0</td>\n",
       "      <td>1.0</td>\n",
       "      <td>1.0</td>\n",
       "      <td>1.0</td>\n",
       "      <td>1.0</td>\n",
       "      <td>...</td>\n",
       "      <td>1.0</td>\n",
       "      <td>0.0</td>\n",
       "      <td>1.0</td>\n",
       "      <td>1.0</td>\n",
       "      <td>0.0</td>\n",
       "      <td>1.0</td>\n",
       "      <td>0.013155</td>\n",
       "      <td>-0.055459</td>\n",
       "      <td>-0.009053</td>\n",
       "      <td>-0.018297</td>\n",
       "    </tr>\n",
       "  </tbody>\n",
       "</table>\n",
       "<p>3 rows × 31 columns</p>\n",
       "</div>"
      ],
      "text/plain": [
       "         INTERVAL_score  best_pval_score  best_pval_score_homogenous  \\\n",
       "1664387        0.130816        -0.070135                   -0.423492   \n",
       "5582129        0.483499        -2.304678                   -1.683141   \n",
       "2943269       -0.780443        -1.160471                   -0.763968   \n",
       "\n",
       "         rs12566888_T  rs1434282_T  rs41315846_C  rs13412535_A  rs78909033_A  \\\n",
       "1664387           0.0          1.0           0.0           1.0           0.0   \n",
       "5582129           1.0          2.0           1.0           0.0           0.0   \n",
       "2943269           0.0          2.0           1.0           1.0           1.0   \n",
       "\n",
       "         rs1354034_C  rs13067286_A  ...  rs8057254_A  rs12445050_T  \\\n",
       "1664387          2.0           1.0  ...          2.0           0.0   \n",
       "5582129          0.0           1.0  ...          0.0           0.0   \n",
       "2943269          1.0           1.0  ...          1.0           0.0   \n",
       "\n",
       "         rs11078475_C  rs1654425_C  rs17881225_C  rs12905925_C  PLT_score  \\\n",
       "1664387           1.0          2.0           0.0           0.0   0.003644   \n",
       "5582129           1.0          0.0           0.0           1.0   0.009448   \n",
       "2943269           1.0          1.0           0.0           1.0   0.013155   \n",
       "\n",
       "         MPV_score  PCT_score  PDW_score  \n",
       "1664387  -0.043503  -0.012340   0.004074  \n",
       "5582129  -0.026196  -0.006221  -0.001046  \n",
       "2943269  -0.055459  -0.009053  -0.018297  \n",
       "\n",
       "[3 rows x 31 columns]"
      ]
     },
     "execution_count": 12,
     "metadata": {},
     "output_type": "execute_result"
    }
   ],
   "source": [
    "scores.sample(3)"
   ]
  },
  {
   "cell_type": "code",
   "execution_count": 13,
   "metadata": {},
   "outputs": [],
   "source": [
    "X = pd.merge(UKB, scores, left_index=True,right_index=True,how=\"inner\")"
   ]
  },
  {
   "cell_type": "code",
   "execution_count": 14,
   "metadata": {},
   "outputs": [],
   "source": [
    "X[CRP_FIELD] = X[CRP_FIELD].fillna(X[CRP_FIELD].mean())\n",
    "X[SYSTOLIC_BP_FIELD] = X[SYSTOLIC_BP_FIELD].fillna(X[SYSTOLIC_BP_FIELD].mean())"
   ]
  },
  {
   "cell_type": "code",
   "execution_count": 15,
   "metadata": {},
   "outputs": [],
   "source": [
    "assert X[basics_X_cols].isnull().sum(axis=0).sum() == 0"
   ]
  },
  {
   "cell_type": "code",
   "execution_count": 16,
   "metadata": {},
   "outputs": [],
   "source": [
    "# Done loading X"
   ]
  },
  {
   "cell_type": "code",
   "execution_count": 17,
   "metadata": {},
   "outputs": [],
   "source": [
    "#all_ICD10_events = pd.read_csv(\"%s/ICD10_events.csv\" % export_folder,index_col=0)\n",
    "#all_ICD10_events[\"Date\"] = pd.to_datetime(all_ICD10_events.Date)\n",
    "#print(all_ICD10_events.shape)"
   ]
  },
  {
   "cell_type": "code",
   "execution_count": 18,
   "metadata": {},
   "outputs": [
    {
     "data": {
      "text/plain": [
       "(384059, 1970)"
      ]
     },
     "execution_count": 18,
     "metadata": {},
     "output_type": "execute_result"
    }
   ],
   "source": [
    "X.shape"
   ]
  },
  {
   "cell_type": "code",
   "execution_count": 19,
   "metadata": {},
   "outputs": [],
   "source": [
    "ICD10_sec_desc = pd.read_csv(\"%s/coding19.tsv\" % export_folder, sep=\"\\t\").set_index(\"coding\")[\"meaning\"].to_dict()"
   ]
  },
  {
   "cell_type": "code",
   "execution_count": 20,
   "metadata": {},
   "outputs": [
    {
     "name": "stdout",
     "output_type": "stream",
     "text": [
      "I21 Acute myocardial infarction\n",
      "I25 Chronic ischaemic heart disease\n",
      "I26 Pulmonary embolism\n",
      "I80 Phlebitis and thrombophlebitis\n",
      "H40 Glaucoma\n"
     ]
    }
   ],
   "source": [
    "coag_related_codes = [\"I21\",\"I25\",\"I26\",\"I80\",\"H40\"]\n",
    "ICD10_sec_desc[\"meta_coag\"] = \"Coag ICD10 code (DVT, CAD, PE, MI, glaucoma)\"\n",
    "for code in coag_related_codes:\n",
    "    print(ICD10_sec_desc[code])"
   ]
  },
  {
   "cell_type": "code",
   "execution_count": 21,
   "metadata": {},
   "outputs": [
    {
     "name": "stderr",
     "output_type": "stream",
     "text": [
      "/home/hv270/platelets/lib/python3.7/site-packages/IPython/core/interactiveshell.py:3049: DtypeWarning: Columns (2) have mixed types.Specify dtype option on import or set low_memory=False.\n",
      "  interactivity=interactivity, compiler=compiler, result=result)\n"
     ]
    },
    {
     "name": "stdout",
     "output_type": "stream",
     "text": [
      "(5989813, 3)\n",
      "12222\n",
      "1655\n",
      "13877\n",
      "(11008703, 3)\n"
     ]
    }
   ],
   "source": [
    "all_ICD10_events = pd.read_csv(\"/home/hv270/rds/rds-who1000-cbrc/phenotypes.csv\")\n",
    "all_ICD10_events = all_ICD10_events.loc[all_ICD10_events.pheno_type == \"ICD10-UKB\"]\n",
    "all_ICD10_events = all_ICD10_events.rename(columns={\"pheno_id\":\"code\",\"age\":\"AGE_AT_EVENT\",\"sample_id\":\"ID\"})\n",
    "all_ICD10_events = all_ICD10_events[[\"code\",\"AGE_AT_EVENT\",\"ID\"]]\n",
    "\n",
    "print(all_ICD10_events.shape)\n",
    "\n",
    "all_ICD10_events_shortcodes = all_ICD10_events.copy()\n",
    "all_ICD10_events_shortcodes[\"code\"] = all_ICD10_events_shortcodes[\"code\"].str.split(\".\",expand=True)[0]\n",
    "all_ICD10_events_shortcodes = all_ICD10_events_shortcodes.loc[~all_ICD10_events_shortcodes.code.isin(all_ICD10_events.code.unique().tolist())]\n",
    "print(all_ICD10_events.code.nunique())\n",
    "print(all_ICD10_events_shortcodes.code.nunique())\n",
    "all_ICD10_events = pd.concat([all_ICD10_events,all_ICD10_events_shortcodes],axis=0)\n",
    "print(all_ICD10_events.code.nunique())\n",
    "\n",
    "print(all_ICD10_events.shape)"
   ]
  },
  {
   "cell_type": "code",
   "execution_count": 22,
   "metadata": {},
   "outputs": [],
   "source": [
    "diabetes_events = all_ICD10_events.loc[all_ICD10_events.code.str.contains(\"E08\") |\\\n",
    "                                       all_ICD10_events.code.str.contains(\"E09\") |\\\n",
    "                                       all_ICD10_events.code.str.contains(\"E10\") |\\\n",
    "                                       all_ICD10_events.code.str.contains(\"E11\") |\\\n",
    "                                       all_ICD10_events.code.str.contains(\"E12\") |\\\n",
    "                                       all_ICD10_events.code.str.contains(\"E13\")]"
   ]
  },
  {
   "cell_type": "code",
   "execution_count": 23,
   "metadata": {},
   "outputs": [],
   "source": [
    "first_diabete = diabetes_events.groupby(\"ID\")[[\"AGE_AT_EVENT\"]].min().reset_index()\\\n",
    "    .rename(columns={\"AGE_AT_EVENT\":\"AGE_AT_DIABETES\"})"
   ]
  },
  {
   "cell_type": "code",
   "execution_count": 24,
   "metadata": {},
   "outputs": [],
   "source": [
    "diabetes_IDs = first_diabete.ID.tolist()\n",
    "diabetes_codes = diabetes_events.code.unique().tolist()"
   ]
  },
  {
   "cell_type": "code",
   "execution_count": 25,
   "metadata": {},
   "outputs": [],
   "source": [
    "X = pd.merge(X,first_diabete,left_index=True,right_on=\"ID\",how=\"left\").set_index(\"ID\")\n",
    "X[\"AGE_AT_DIABETES\"].fillna(np.inf,inplace=True)"
   ]
  },
  {
   "cell_type": "code",
   "execution_count": 26,
   "metadata": {},
   "outputs": [
    {
     "data": {
      "text/html": [
       "<div>\n",
       "<style scoped>\n",
       "    .dataframe tbody tr th:only-of-type {\n",
       "        vertical-align: middle;\n",
       "    }\n",
       "\n",
       "    .dataframe tbody tr th {\n",
       "        vertical-align: top;\n",
       "    }\n",
       "\n",
       "    .dataframe thead th {\n",
       "        text-align: right;\n",
       "    }\n",
       "</style>\n",
       "<table border=\"1\" class=\"dataframe\">\n",
       "  <thead>\n",
       "    <tr style=\"text-align: right;\">\n",
       "      <th></th>\n",
       "      <th>code</th>\n",
       "      <th>AGE_AT_EVENT</th>\n",
       "      <th>ID</th>\n",
       "    </tr>\n",
       "  </thead>\n",
       "  <tbody>\n",
       "    <tr>\n",
       "      <th>0</th>\n",
       "      <td>meta_coag</td>\n",
       "      <td>62.0</td>\n",
       "      <td>1000044</td>\n",
       "    </tr>\n",
       "    <tr>\n",
       "      <th>1</th>\n",
       "      <td>meta_coag</td>\n",
       "      <td>60.0</td>\n",
       "      <td>1000150</td>\n",
       "    </tr>\n",
       "    <tr>\n",
       "      <th>2</th>\n",
       "      <td>meta_coag</td>\n",
       "      <td>74.0</td>\n",
       "      <td>1000195</td>\n",
       "    </tr>\n",
       "    <tr>\n",
       "      <th>3</th>\n",
       "      <td>meta_coag</td>\n",
       "      <td>65.0</td>\n",
       "      <td>1000252</td>\n",
       "    </tr>\n",
       "    <tr>\n",
       "      <th>4</th>\n",
       "      <td>meta_coag</td>\n",
       "      <td>58.0</td>\n",
       "      <td>1000289</td>\n",
       "    </tr>\n",
       "  </tbody>\n",
       "</table>\n",
       "</div>"
      ],
      "text/plain": [
       "        code  AGE_AT_EVENT       ID\n",
       "0  meta_coag          62.0  1000044\n",
       "1  meta_coag          60.0  1000150\n",
       "2  meta_coag          74.0  1000195\n",
       "3  meta_coag          65.0  1000252\n",
       "4  meta_coag          58.0  1000289"
      ]
     },
     "execution_count": 26,
     "metadata": {},
     "output_type": "execute_result"
    }
   ],
   "source": [
    "meta_coag_events = all_ICD10_events.loc[all_ICD10_events.code.isin(coag_related_codes)].groupby(\"ID\").agg({\"AGE_AT_EVENT\":\"min\"}).reset_index()\n",
    "meta_coag_events[\"code\"] = \"meta_coag\"\n",
    "meta_coag_events = meta_coag_events[[\"code\",\"AGE_AT_EVENT\",\"ID\"]]\n",
    "all_ICD10_events = pd.concat([all_ICD10_events,meta_coag_events],axis=0)\n",
    "meta_coag_events.head()"
   ]
  },
  {
   "cell_type": "code",
   "execution_count": 27,
   "metadata": {},
   "outputs": [],
   "source": [
    "X[\"SMOKING_BOOL\"] = (X[SMOKING_FIELD] >= 3)*1"
   ]
  },
  {
   "cell_type": "code",
   "execution_count": 28,
   "metadata": {},
   "outputs": [],
   "source": [
    "X[\"SMOKING_RATE\"] = np.clip((X[SMOKING_FIELD] - 15)/X[\"AGE\"],a_min=0,a_max=2)"
   ]
  },
  {
   "cell_type": "code",
   "execution_count": 29,
   "metadata": {},
   "outputs": [
    {
     "data": {
      "image/png": "[encoded data removed]",
      "text/plain": [
       "<Figure size 432x288 with 1 Axes>"
      ]
     },
     "metadata": {
      "needs_background": "light"
     },
     "output_type": "display_data"
    }
   ],
   "source": [
    "plt.hist(X[\"SMOKING_RATE\"])\n",
    "plt.yscale(\"log\")"
   ]
  },
  {
   "cell_type": "code",
   "execution_count": 30,
   "metadata": {},
   "outputs": [],
   "source": [
    "X[CRP_FIELD] = np.clip(X[CRP_FIELD],a_min=0,a_max=10)"
   ]
  },
  {
   "cell_type": "code",
   "execution_count": 31,
   "metadata": {},
   "outputs": [],
   "source": [
    "X[\"AGE_int\"] = np.floor(X[\"AGE\"])"
   ]
  },
  {
   "cell_type": "code",
   "execution_count": 32,
   "metadata": {},
   "outputs": [
    {
     "data": {
      "text/plain": [
       "(array([3.24000e+02, 4.49850e+04, 1.47161e+05, 1.00747e+05, 3.45850e+04,\n",
       "        7.62200e+03, 1.25400e+03, 2.38000e+02, 3.00000e+01, 1.00000e+01]),\n",
       " array([0.219 , 0.6372, 1.0554, 1.4736, 1.8918, 2.31  , 2.7282, 3.1464,\n",
       "        3.5646, 3.9828, 4.401 ]),\n",
       " <a list of 10 Patch objects>)"
      ]
     },
     "execution_count": 32,
     "metadata": {},
     "output_type": "execute_result"
    },
    {
     "data": {
      "image/png": "[encoded data removed]",
      "text/plain": [
       "<Figure size 432x288 with 1 Axes>"
      ]
     },
     "metadata": {
      "needs_background": "light"
     },
     "output_type": "display_data"
    }
   ],
   "source": [
    "plt.hist(X[HDL_FIELD])"
   ]
  },
  {
   "cell_type": "code",
   "execution_count": 33,
   "metadata": {},
   "outputs": [],
   "source": [
    "# Doing the PH test, we found that smoking and cholesterol are age-related and should thus be used more as strata\n",
    "for c in [\"SMOKING_RATE\",CHOLESTEROL_FIELD,HDL_FIELD,CRP_FIELD,SYSTOLIC_BP_FIELD]:\n",
    "    X[c].fillna(X[c].median(),inplace=True)\n",
    "X[\"SMOKING_RATE_bin\"] = pd.cut(X[\"SMOKING_RATE\"],bins=[-0.001,0.0001,.5,2.01],labels=False)\n",
    "X[\"CHOLESTEROL_bin\"] = pd.qcut(X[CHOLESTEROL_FIELD],4,labels=False)\n",
    "X[\"HDL_bin\"] = pd.qcut(X[HDL_FIELD],3,labels=False)\n",
    "X[\"CRP_bin\"] = pd.qcut(X[CRP_FIELD],4,labels=False)\n",
    "X[\"SYSTOLIC_BP_bin\"] = pd.qcut(X[SYSTOLIC_BP_FIELD],3,labels=False)"
   ]
  },
  {
   "cell_type": "code",
   "execution_count": 34,
   "metadata": {},
   "outputs": [
    {
     "data": {
      "text/plain": [
       "864"
      ]
     },
     "execution_count": 34,
     "metadata": {},
     "output_type": "execute_result"
    }
   ],
   "source": [
    "2*3*4*3*4*3"
   ]
  },
  {
   "cell_type": "code",
   "execution_count": 35,
   "metadata": {},
   "outputs": [],
   "source": [
    "sysmex_covars = [\"MPV_score\",\"PLT_score\",\"PDW_score\",\"PCT_score\"]  # ,\"IPF_score\"\n",
    "pheno_cols_to_norm = [c for c in list(scores.columns) if c not in sysmex_covars]\n",
    "cols_to_normalize = sysmex_covars + pheno_cols_to_norm #+ [SMOKING_FIELD]\n",
    "X[cols_to_normalize] -= X[cols_to_normalize].mean(axis=0)\n",
    "X[cols_to_normalize] /= X[cols_to_normalize].std(axis=0)"
   ]
  },
  {
   "cell_type": "code",
   "execution_count": 36,
   "metadata": {},
   "outputs": [],
   "source": [
    "# Create decomposition of sysmex covariates so that they don't correlate\n",
    "pc_covars_cols = [\"sysmex_PC_%d\" % i for i in range(len(sysmex_covars))]\n",
    "pca = PCA()\n",
    "X[pc_covars_cols] = pca.fit_transform(X[sysmex_covars])\n",
    "X[pc_covars_cols] -= X[pc_covars_cols].mean(axis=0)\n",
    "X[pc_covars_cols] /= X[pc_covars_cols].std(axis=0)"
   ]
  },
  {
   "cell_type": "code",
   "execution_count": 37,
   "metadata": {},
   "outputs": [],
   "source": [
    "all_codes = all_ICD10_events.code.unique().tolist()"
   ]
  },
  {
   "cell_type": "code",
   "execution_count": 38,
   "metadata": {},
   "outputs": [
    {
     "name": "stdout",
     "output_type": "stream",
     "text": [
      "(69222, 2)\n"
     ]
    },
    {
     "data": {
      "text/html": [
       "<div>\n",
       "<style scoped>\n",
       "    .dataframe tbody tr th:only-of-type {\n",
       "        vertical-align: middle;\n",
       "    }\n",
       "\n",
       "    .dataframe tbody tr th {\n",
       "        vertical-align: top;\n",
       "    }\n",
       "\n",
       "    .dataframe thead th {\n",
       "        text-align: right;\n",
       "    }\n",
       "</style>\n",
       "<table border=\"1\" class=\"dataframe\">\n",
       "  <thead>\n",
       "    <tr style=\"text-align: right;\">\n",
       "      <th></th>\n",
       "      <th>code</th>\n",
       "      <th>AGE_COAG_EVENT</th>\n",
       "    </tr>\n",
       "    <tr>\n",
       "      <th>ID</th>\n",
       "      <th></th>\n",
       "      <th></th>\n",
       "    </tr>\n",
       "  </thead>\n",
       "  <tbody>\n",
       "    <tr>\n",
       "      <th>1000044</th>\n",
       "      <td>I20</td>\n",
       "      <td>62.0</td>\n",
       "    </tr>\n",
       "    <tr>\n",
       "      <th>1000150</th>\n",
       "      <td>I25</td>\n",
       "      <td>60.0</td>\n",
       "    </tr>\n",
       "    <tr>\n",
       "      <th>1000195</th>\n",
       "      <td>I25</td>\n",
       "      <td>74.0</td>\n",
       "    </tr>\n",
       "    <tr>\n",
       "      <th>1000252</th>\n",
       "      <td>I25</td>\n",
       "      <td>65.0</td>\n",
       "    </tr>\n",
       "    <tr>\n",
       "      <th>1000289</th>\n",
       "      <td>I80</td>\n",
       "      <td>58.0</td>\n",
       "    </tr>\n",
       "  </tbody>\n",
       "</table>\n",
       "</div>"
      ],
      "text/plain": [
       "        code  AGE_COAG_EVENT\n",
       "ID                          \n",
       "1000044  I20            62.0\n",
       "1000150  I25            60.0\n",
       "1000195  I25            74.0\n",
       "1000252  I25            65.0\n",
       "1000289  I80            58.0"
      ]
     },
     "execution_count": 38,
     "metadata": {},
     "output_type": "execute_result"
    }
   ],
   "source": [
    "first_thrombosis = all_ICD10_events_shortcodes.loc[\n",
    "    all_ICD10_events_shortcodes.code.isin([\"I20\",\"I21\",\"I22\",\"I23\",\"I24\",\"I25\",\"I26\",\"I80\",\"I81\",\"I82\"])\n",
    "].sort_values(\"AGE_AT_EVENT\").groupby(\"ID\").first().rename(columns={\"AGE_AT_EVENT\":\"AGE_COAG_EVENT\"})\n",
    "print(first_thrombosis.shape)\n",
    "#first_thrombosis[\"AGE_COAG_EVENT\"] -= 1 # Pour être sûr que si jamais la purpura et la coagulation arrivent la même année, on aura quand même ici la coag avant\n",
    "first_thrombosis.head()"
   ]
  },
  {
   "cell_type": "code",
   "execution_count": 39,
   "metadata": {},
   "outputs": [],
   "source": [
    "if \"AGE_COAG_EVENT\" in X.columns:\n",
    "    del X[\"AGE_COAG_EVENT\"]\n",
    "X = pd.merge(X, first_thrombosis[[\"AGE_COAG_EVENT\"]],left_index=True,right_index=True,how=\"left\")\n",
    "X[\"AGE_COAG_EVENT\"].fillna(np.inf,inplace=True)"
   ]
  },
  {
   "cell_type": "code",
   "execution_count": 40,
   "metadata": {},
   "outputs": [
    {
     "name": "stdout",
     "output_type": "stream",
     "text": [
      "15 percent of people who have coag have it at the age of measurement\n"
     ]
    }
   ],
   "source": [
    "has_coag = X[\"AGE_COAG_EVENT\"] < np.inf\n",
    "print(\"%d percent of people who have coag have it at the age of measurement\" % \n",
    "      (100*(X.loc[has_coag,\"AGE\"] <= X.loc[has_coag,\"AGE_COAG_EVENT\"]).mean())\n",
    "     )\n",
    "X.loc[has_coag,\"AGE\"] = X.loc[has_coag,[\"AGE\",\"AGE_COAG_EVENT\"]].max(axis=1)"
   ]
  },
  {
   "cell_type": "code",
   "execution_count": 41,
   "metadata": {},
   "outputs": [],
   "source": [
    "drug_columns = pd.read_csv(\"%s/drug_columns.hdf\" % export_folder,index_col=0)"
   ]
  },
  {
   "cell_type": "code",
   "execution_count": 42,
   "metadata": {},
   "outputs": [],
   "source": [
    "X[\"AGE_DRUG\"] = ((X[\"DRUG_236\"] - X[BIRTH_FIELD]).dt.days // 365).fillna(np.inf)"
   ]
  },
  {
   "cell_type": "code",
   "execution_count": 43,
   "metadata": {},
   "outputs": [],
   "source": [
    "X[\"AGE_DRUG_OR_COAG\"] = X[[\"AGE_DRUG\",\"AGE_COAG_EVENT\"]].min(axis=1)"
   ]
  },
  {
   "cell_type": "code",
   "execution_count": 44,
   "metadata": {},
   "outputs": [],
   "source": [
    "X = X.loc[X[[PLT_FIELD, MPV_FIELD, PCT_FIELD, PDW_FIELD]].isnull().sum(axis=1) == 0]"
   ]
  },
  {
   "cell_type": "code",
   "execution_count": 45,
   "metadata": {},
   "outputs": [],
   "source": [
    "covariates_sets = {\n",
    "    #\"none\":[],\n",
    "    \"PLT-MPV-PCT-PDW\":[PLT_FIELD, MPV_FIELD, PCT_FIELD, PDW_FIELD],\n",
    "}\n",
    "T_cols = {\n",
    "    \"default\":\"AGE\",\n",
    "    #\"first_anticoag_or_drug\":\"AGE_DRUG_OR_COAG\"\n",
    "} # End of inclusion\n",
    "add_more_sets = False\n",
    "if add_more_sets:    \n",
    "    for c in X.columns:\n",
    "        if c[:4] == \"DRUG\":\n",
    "            drug_name = drug_columns.loc[drug_columns.drug_ID == c,\"drug\"].iloc[0]\n",
    "            if \"(any)\" in drug_name:\n",
    "                covariates_sets[drug_name] = [c]\n",
    "variable_covariates_to_simplify = []\n",
    "for d, cols in covariates_sets.items():\n",
    "    variable_covariates_to_simplify += [c for c in cols if \"DRUG\" in c]"
   ]
  },
  {
   "cell_type": "code",
   "execution_count": 46,
   "metadata": {},
   "outputs": [],
   "source": [
    "all_covariates_ = []\n",
    "for b in covariates_sets:\n",
    "    all_covariates_ = all_covariates_ + covariates_sets[b]"
   ]
  },
  {
   "cell_type": "code",
   "execution_count": 47,
   "metadata": {},
   "outputs": [],
   "source": [
    "strata_bins = [\"SMOKING_RATE_bin\",\"CRP_bin\",\"CHOLESTEROL_bin\",\"HDL_bin\",\"SYSTOLIC_BP_bin\"]"
   ]
  },
  {
   "cell_type": "code",
   "execution_count": 48,
   "metadata": {},
   "outputs": [],
   "source": [
    "# mandatory_cols : columns needed for any CoxPH\n",
    "mandatory_cols = [BIRTH_FIELD,SEX_FIELD,\"AGE\",\"AGE_AT_DIABETES\",\"AGE_COAG_EVENT\",\"AGE_DRUG\",\"AGE_DRUG_OR_COAG\"] + strata_bins"
   ]
  },
  {
   "cell_type": "markdown",
   "metadata": {},
   "source": [
    "# Functions"
   ]
  },
  {
   "cell_type": "code",
   "execution_count": 49,
   "metadata": {},
   "outputs": [],
   "source": [
    "# Refaire marcher dans le cas constant\n",
    "# Et faire marcher si possible dans le cas variable\n",
    "\n",
    "min_n_cases = 1000\n",
    "\n",
    "def do_cox_test(args, variables_to_test, IDs_to_include=None):\n",
    "    \n",
    "    code, events = args\n",
    "    n_cases = events.shape[0]\n",
    "    desc = ICD10_sec_desc[\"\".join(code.split(\".\"))]\n",
    "    if n_cases <= min_n_cases: \n",
    "        print(\"n_cases = %d <= %d\"% (n_cases,min_n_cases))\n",
    "        return None\n",
    "    \n",
    "    res = {\n",
    "        \"p_val\":[],\n",
    "        \"desc\":[],\n",
    "        \"log_HR\":[],\n",
    "        \"code\":[],\n",
    "        \"covariates\":[],\n",
    "        \"n_cases\":[],\n",
    "        \"include_until\":[],\n",
    "        \"score\":[]\n",
    "    }\n",
    "    \n",
    "    for t_col_name, t_col in T_cols.items():\n",
    "        X_ = pd.merge(X[mandatory_cols + list(set([c for c in all_covariates_ if c in X.columns] + pc_covars_cols + pheno_cols))],\n",
    "                      events,left_index=True,right_on=\"ID\",how=\"left\").copy()\n",
    "        X_ = X_.loc[X_[mandatory_cols].isnull().sum(axis=1) == 0]\n",
    "        if IDs_to_include is not None:\n",
    "            X_ = X_.loc[X_.ID.isin(IDs_to_include)]\n",
    "    \n",
    "        # Make sure that events really happen before the age at measurement.\n",
    "        # If they happen more than 1 year before AGE, it's fine, there will be no 'rounding' effect due to int ages\n",
    "        has_event = ~X_.AGE_AT_EVENT.isnull()\n",
    "        #print(\"Mean age before correction %.2f\" % X_[\"AGE\"].mean())\n",
    "        #X_.loc[has_event, \"AGE\"] = X_.loc[has_event,[\"AGE\",\"AGE_AT_EVENT\"]].max(axis=1)\n",
    "        X_.loc[X_[t_col] < np.inf, \"AGE\"] = X_.loc[X_[t_col] < np.inf,[\"AGE\",t_col,\"AGE_AT_EVENT\"]].max(axis=1)\n",
    "        #print(\"Mean age after correction %.2f\" % X_[\"AGE\"].mean())\n",
    "    \n",
    "        #print(\"%d peole\" % X_.shape[0])\n",
    "        X_[\"T\"] = X_[[\"AGE\",t_col,\"AGE_AT_EVENT\"]].copy().min(axis=1).astype(float)\n",
    "        #print(\"mean age %.2f\" % X_[\"AGE\"].mean())\n",
    "        #print(\"mean time of measurement %.2f\" % X_[\"T\"].mean())\n",
    "        #print(\"mean time of event %.2f\" % X_.loc[has_event,\"T\"].mean())\n",
    "        #print(\"%d cases\" % has_event.sum())\n",
    "        X_[\"EVENT\"] = has_event\n",
    "        if t_col != \"AGE\":\n",
    "            #X_[\"EVENT\"] = X_[\"EVENT\"] & (X_[\"AGE_AT_EVENT\"] < X_[t_col])\n",
    "            #X_.loc[X_.EVENT,\"EVENT\"]\n",
    "            X_.loc[X_[\"T\"] < X_[\"AGE_AT_EVENT\"],\"EVENT\"] = False\n",
    "            X_.loc[X_[t_col] <= X_[\"AGE_AT_EVENT\"],\"EVENT\"] = False\n",
    "        \n",
    "        #print(\"For those who have the event %s - %s\" % (\"T\",\"AGE_AT_EVENT\"))\n",
    "        #print((X_.loc[X_.EVENT,\"T\"] - X_.loc[X_.EVENT,\"AGE_AT_EVENT\"]).value_counts().head())\n",
    "        \n",
    "        #print(\"For those who have the event and t_col %s - %s\" % (t_col,\"AGE_AT_EVENT\"))\n",
    "        #print((X_.loc[X_.EVENT & (X_[t_col] < np.inf),t_col] - X_.loc[X_.EVENT & (X_[t_col] < np.inf),\"AGE_AT_EVENT\"]).value_counts().head())\n",
    "        \n",
    "        \n",
    "        \n",
    "        #print(\"%d cases before %s\" % (X_[\"EVENT\"].sum(),t_col))\n",
    "        X_[\"EVENT\"] = X_[\"EVENT\"]*1\n",
    "        X_[\"HAD_DIABETES_BEFORE\"] = X_[\"AGE_AT_DIABETES\"] < X_[\"T\"]\n",
    "        X_[\"HAD_COAG_BEFORE\"] = X_[\"AGE_COAG_EVENT\"] < X_[\"T\"]\n",
    "        \n",
    "        #print(\"T = %s, mean age at event = %.2f\" % (t_col_name, X_.loc[has_event,\"T\"].mean()))\n",
    "        del X_[\"AGE_AT_DIABETES\"]\n",
    "        del X_[\"AGE_COAG_EVENT\"]\n",
    "        assert X_[\"T\"].isnull().sum() == 0\n",
    "        \n",
    "        # Re-do this for columns in variable_covariates_to_simplify\n",
    "        # First convert to age\n",
    "\n",
    "        tv_covariates = []\n",
    "        fixed_covariates = []\n",
    "\n",
    "        for c in all_covariates_:\n",
    "            if \"M\" in X_[c].dtype.kind:\n",
    "                # Date -> age\n",
    "                X_[c] = ((X_[c] - X_[BIRTH_FIELD]).dt.days // 365).astype(float)\n",
    "                X_[c].fillna(np.inf, inplace=True)\n",
    "                assert X_[c].min() >= 0, X_[c].min()\n",
    "                if c in variable_covariates_to_simplify:\n",
    "                    # In this case, we only look at whether the event occured before or after the covariate event.\n",
    "                    X_[c] = X_[c] < X_[\"T\"]\n",
    "                    fixed_covariates.append(c)\n",
    "                else:\n",
    "                    tv_covariates.append(c)\n",
    "            else:\n",
    "                fixed_covariates.append(c)\n",
    "\n",
    "        #print(\"%d tv covariates and %d fixed\" % (len(tv_covariates), len(fixed_covariates)))\n",
    "\n",
    "\n",
    "        # find if unisex\n",
    "        n_cases = X_.EVENT.sum()\n",
    "        valid_sexes = X_.loc[X_[\"EVENT\"] > 0,SEX_FIELD].value_counts()\n",
    "        valid_sexes = valid_sexes.loc[valid_sexes > (n_cases / 50)].index.tolist()\n",
    "        unisex = len(valid_sexes) == 1\n",
    "        if unisex:\n",
    "            desc += \" (unisex)\"\n",
    "\n",
    "        # Define people to include and strata\n",
    "        to_include = X_[SEX_FIELD].isin(valid_sexes)\n",
    "        strata = [SEX_FIELD] if not unisex else []\n",
    "        strata += strata_bins\n",
    "\n",
    "        pen_args = {\"penalizer\":0.0,\"l1_ratio\":1.}\n",
    "        fit_args = {\"duration_col\":\"duration\",\"event_col\":\"EVENT\",\"strata\":strata,\n",
    "                    \"show_progress\":False,\"step_size\":.5}\n",
    "\n",
    "        X_ = X_.loc[to_include]\n",
    "        X_ = X_.rename(columns={\"T\":\"duration\"})\n",
    "        n_cases = X_.EVENT.sum()\n",
    "        if n_cases <= min_n_cases: \n",
    "            continue\n",
    "\n",
    "        basics = [\"ID\",\"duration\",\"EVENT\"] + strata\n",
    "        all_cols_to_include = basics + variables_to_test + all_covariates_ \n",
    "\n",
    "        df = X_[all_cols_to_include]\n",
    "\n",
    "        base_df = df[basics + variables_to_test + fixed_covariates].reset_index(drop=True)\n",
    "        need_time_varying = len(tv_covariates) > 0\n",
    "        if need_time_varying:\n",
    "            print(\"Need time varying things\")\n",
    "            cv = covariates_from_event_matrix(df[[\"ID\"] + tv_covariates], id_col=\"ID\")\n",
    "            base_df = to_long_format(base_df,duration_col=\"duration\")\n",
    "            base_df = add_covariate_to_timeline(base_df, cv, duration_col=\"duration\", id_col=\"ID\", event_col=\"EVENT\")\n",
    "        df_to_fit = base_df.set_index(\"ID\")\n",
    "        \n",
    "         \n",
    "\n",
    "        for covars_group, covars in covariates_sets.items():\n",
    "\n",
    "            if need_time_varying:\n",
    "                aft1 = CoxTimeVaryingFitter(penalizer=0.1)\n",
    "                cols_to_include_1 = strata + covars + [\"ID\",\"EVENT\",\"stop\",\"start\"]\n",
    "\n",
    "            else:\n",
    "                aft1 = CoxPHFitter(**pen_args)\n",
    "                cols_to_include_1 = basics + covars\n",
    "            cols_to_include_1.remove(\"ID\")\n",
    "\n",
    "            #print(\"Fitting model with covars %s\" % covars)\n",
    "            aft1.fit(df_to_fit[cols_to_include_1], **fit_args) \n",
    "\n",
    "            #aft1.print_summary()\n",
    "\n",
    "            for target in variables_to_test:\n",
    "                cols_to_include_2 = cols_to_include_1 + [target]\n",
    "                aft2 = CoxPHFitter(**pen_args)\n",
    "                #print(\"Fitting model on %s\" % target)\n",
    "                aft2.fit(df_to_fit[cols_to_include_2], **fit_args)\n",
    "\n",
    "                LL_without = aft1.log_likelihood_\n",
    "                LL_with = aft2.log_likelihood_\n",
    "                Delta_LL = LL_with-LL_without\n",
    "                p_val = 1.-chi2(1).cdf(2*Delta_LL)\n",
    "\n",
    "                HR = aft2.hazard_ratios_[target]\n",
    "\n",
    "                description = \"\"\n",
    "                description += \"| %s \\t| %s : %.2f\\t\" % (target, covars_group,-np.log10(p_val))\n",
    "                description += \"%d cases \\t %s \\t %s\" % (n_cases, code, desc)\n",
    "\n",
    "                if p_val < 1e-3:\n",
    "\n",
    "                    print(\"==========================\")\n",
    "                    print(description)\n",
    "                    print(\"==========================\")\n",
    "                    aft2.print_summary()\n",
    "                \n",
    "                res[\"p_val\"].append(p_val)\n",
    "                res[\"log_HR\"].append(np.log(HR))\n",
    "                res[\"desc\"].append(desc)\n",
    "                res[\"code\"].append(code)\n",
    "                res[\"covariates\"].append(covars_group)\n",
    "                res[\"n_cases\"].append(n_cases)\n",
    "                res[\"include_until\"].append(t_col_name)\n",
    "                res[\"score\"].append(target)\n",
    "    \n",
    "    return res"
   ]
  },
  {
   "cell_type": "markdown",
   "metadata": {},
   "source": [
    "# Test SNPs separately"
   ]
  },
  {
   "cell_type": "code",
   "execution_count": 50,
   "metadata": {},
   "outputs": [],
   "source": [
    "#pheno_cols = [c for c in list(scores.columns) if c not in sysmex_covars]\n",
    "SNP_cols = [c for c in list(scores.columns) if \"rs\" in c]\n",
    "pheno_cols = [\"best_pval_score_homogenous\"] #+ SNP_cols\n",
    "for c in pheno_cols:\n",
    "    assert c in scores.columns"
   ]
  },
  {
   "cell_type": "code",
   "execution_count": 51,
   "metadata": {},
   "outputs": [
    {
     "data": {
      "text/plain": [
       "['best_pval_score_homogenous']"
      ]
     },
     "execution_count": 51,
     "metadata": {},
     "output_type": "execute_result"
    }
   ],
   "source": [
    "pheno_cols"
   ]
  },
  {
   "cell_type": "code",
   "execution_count": 52,
   "metadata": {},
   "outputs": [
    {
     "name": "stdout",
     "output_type": "stream",
     "text": [
      "1183 already processed codes\n",
      "1435 codes to process\n"
     ]
    }
   ],
   "source": [
    "run_name = \"8_avril_sysmex_covars\"\n",
    "run_dir = \"/home/hv270/cox/%s\" % run_name\n",
    "force_recompute = True\n",
    "if not os.path.exists(run_dir):\n",
    "    os.mkdir(run_dir)\n",
    "\n",
    "\n",
    "code_file = lambda code: \"%s/%s.csv\" % (run_dir, code)\n",
    "\n",
    "n_events = all_ICD10_events.code.value_counts()\n",
    "large_events = n_events.loc[n_events >= min_n_cases].index.tolist()\n",
    "cond = all_ICD10_events.code.isin(large_events) & ~all_ICD10_events.code.isin(diabetes_codes)\n",
    "\n",
    "already_processed_codes = [c for c in all_ICD10_events.loc[cond].code.unique().tolist() if os.path.exists(code_file(c))]\n",
    "print(\"%d already processed codes\" % len(already_processed_codes))\n",
    "if not force_recompute:\n",
    "    cond = cond & ~all_ICD10_events.code.isin(already_processed_codes)\n",
    "\n",
    "#codes_to_focus_on = [\"D69\",\"I26\",\"I21\",\"I80\",\"I25\"] # Thrombosis\n",
    "#codes_to_focus_on = [\"I26\",\"I21\"]\n",
    "codes_to_focus_on = []\n",
    "#codes_to_focus_on = [\"I26\",\"I26.9\",\"Z86.7\",\"I21\",\"I80\",\"D69\",\"meta_coag\",\"D69.6\",\"I25\",\"M72.04\",\"I51\",\"T43\"]\n",
    "if len(codes_to_focus_on) > 0:\n",
    "    cond = cond & all_ICD10_events.code.isin(codes_to_focus_on)\n",
    "n_codes_to_process = all_ICD10_events.loc[cond].code.nunique()\n",
    "print(\"%d codes to process\" % n_codes_to_process)"
   ]
  },
  {
   "cell_type": "code",
   "execution_count": 53,
   "metadata": {},
   "outputs": [],
   "source": [
    "do_cox_test_pheno = partial(do_cox_test,variables_to_test=pheno_cols)#,IDs_to_include = IDs_no_anti_coag"
   ]
  },
  {
   "cell_type": "code",
   "execution_count": 54,
   "metadata": {
    "scrolled": false
   },
   "outputs": [],
   "source": [
    "#results = []\n",
    "#for arg in all_ICD10_events.loc[cond].groupby(\"code\"):\n",
    "#    print(arg[0])\n",
    "#    results.append(do_cox_test_pheno(arg))"
   ]
  },
  {
   "cell_type": "code",
   "execution_count": 55,
   "metadata": {},
   "outputs": [],
   "source": [
    "#results_df = pd.concat([pd.DataFrame.from_dict(d) for d in results],axis=0)"
   ]
  },
  {
   "cell_type": "code",
   "execution_count": null,
   "metadata": {
    "scrolled": true
   },
   "outputs": [
    {
     "name": "stderr",
     "output_type": "stream",
     "text": [
      "  0%|          | 1/1435 [00:02<54:01,  2.26s/it]"
     ]
    },
    {
     "name": "stdout",
     "output_type": "stream",
     "text": [
      "res empty\n"
     ]
    },
    {
     "name": "stderr",
     "output_type": "stream",
     "text": [
      "\r",
      "  0%|          | 2/1435 [03:54<54:48:02, 137.67s/it]"
     ]
    },
    {
     "name": "stdout",
     "output_type": "stream",
     "text": [
      "res OK B37.0\n"
     ]
    },
    {
     "name": "stderr",
     "output_type": "stream",
     "text": [
      "\r",
      "  0%|          | 3/1435 [03:58<30:28:24, 76.61s/it] "
     ]
    },
    {
     "name": "stdout",
     "output_type": "stream",
     "text": [
      "res OK B07\n"
     ]
    },
    {
     "name": "stderr",
     "output_type": "stream",
     "text": [
      "\r",
      "  0%|          | 4/1435 [04:01<18:48:42, 47.33s/it]"
     ]
    },
    {
     "name": "stdout",
     "output_type": "stream",
     "text": [
      "res OK B34.9\n",
      "res OK B37.8\n"
     ]
    },
    {
     "name": "stderr",
     "output_type": "stream",
     "text": [
      "  0%|          | 6/1435 [04:02<8:04:00, 20.32s/it] "
     ]
    },
    {
     "name": "stdout",
     "output_type": "stream",
     "text": [
      "res empty\n"
     ]
    },
    {
     "name": "stderr",
     "output_type": "stream",
     "text": [
      "\r",
      "  0%|          | 7/1435 [04:02<5:28:33, 13.80s/it]"
     ]
    },
    {
     "name": "stdout",
     "output_type": "stream",
     "text": [
      "res OK A49\n"
     ]
    },
    {
     "name": "stderr",
     "output_type": "stream",
     "text": [
      "\r",
      "  1%|          | 8/1435 [04:03<3:47:02,  9.55s/it]"
     ]
    },
    {
     "name": "stdout",
     "output_type": "stream",
     "text": [
      "res empty\n"
     ]
    },
    {
     "name": "stderr",
     "output_type": "stream",
     "text": [
      "\r",
      "  1%|          | 9/1435 [04:04<2:44:42,  6.93s/it]"
     ]
    },
    {
     "name": "stdout",
     "output_type": "stream",
     "text": [
      "res OK A41.5\n"
     ]
    },
    {
     "name": "stderr",
     "output_type": "stream",
     "text": [
      "\r",
      "  1%|          | 10/1435 [04:04<1:56:18,  4.90s/it]"
     ]
    },
    {
     "name": "stdout",
     "output_type": "stream",
     "text": [
      "res OK A08.4\n"
     ]
    },
    {
     "name": "stderr",
     "output_type": "stream",
     "text": [
      "\r",
      "  1%|          | 11/1435 [04:05<1:23:30,  3.52s/it]"
     ]
    },
    {
     "name": "stdout",
     "output_type": "stream",
     "text": [
      "res OK B34\n"
     ]
    },
    {
     "name": "stderr",
     "output_type": "stream",
     "text": [
      "\r",
      "  1%|          | 12/1435 [04:06<1:04:46,  2.73s/it]"
     ]
    },
    {
     "name": "stdout",
     "output_type": "stream",
     "text": [
      "res OK A08\n",
      "res OK B37\n"
     ]
    },
    {
     "name": "stderr",
     "output_type": "stream",
     "text": [
      "\r",
      "  1%|          | 14/1435 [04:06<36:28,  1.54s/it]  "
     ]
    },
    {
     "name": "stdout",
     "output_type": "stream",
     "text": [
      "res OK A41\n",
      "res empty\n"
     ]
    },
    {
     "name": "stderr",
     "output_type": "stream",
     "text": [
      "  1%|          | 17/1435 [04:06<18:54,  1.25it/s]"
     ]
    },
    {
     "name": "stdout",
     "output_type": "stream",
     "text": [
      "res OK A41.9\n",
      "res OK A04.7\n"
     ]
    },
    {
     "name": "stderr",
     "output_type": "stream",
     "text": [
      "\r",
      "  1%|▏         | 18/1435 [04:07<17:45,  1.33it/s]"
     ]
    },
    {
     "name": "stdout",
     "output_type": "stream",
     "text": [
      "res OK A09.9\n"
     ]
    },
    {
     "name": "stderr",
     "output_type": "stream",
     "text": [
      "\r",
      "  1%|▏         | 19/1435 [04:08<19:12,  1.23it/s]"
     ]
    },
    {
     "name": "stdout",
     "output_type": "stream",
     "text": [
      "res OK A04.8\n"
     ]
    },
    {
     "name": "stderr",
     "output_type": "stream",
     "text": [
      "\r",
      "  1%|▏         | 20/1435 [04:08<15:39,  1.51it/s]"
     ]
    },
    {
     "name": "stdout",
     "output_type": "stream",
     "text": [
      "res OK A04\n"
     ]
    },
    {
     "name": "stderr",
     "output_type": "stream",
     "text": [
      "\r",
      "  1%|▏         | 21/1435 [07:47<23:57:12, 60.99s/it]"
     ]
    },
    {
     "name": "stdout",
     "output_type": "stream",
     "text": [
      "res OK B95\n"
     ]
    },
    {
     "name": "stderr",
     "output_type": "stream",
     "text": [
      "\r",
      "  2%|▏         | 22/1435 [07:55<18:02:43, 45.98s/it]"
     ]
    },
    {
     "name": "stdout",
     "output_type": "stream",
     "text": [
      "res OK B95.4\n"
     ]
    },
    {
     "name": "stderr",
     "output_type": "stream",
     "text": [
      "\r",
      "  2%|▏         | 23/1435 [07:59<13:19:31, 33.97s/it]"
     ]
    },
    {
     "name": "stdout",
     "output_type": "stream",
     "text": [
      "res OK B95.6\n"
     ]
    },
    {
     "name": "stderr",
     "output_type": "stream",
     "text": [
      "\r",
      "  2%|▏         | 24/1435 [08:00<9:32:27, 24.34s/it] "
     ]
    },
    {
     "name": "stdout",
     "output_type": "stream",
     "text": [
      "res OK B96.2\n"
     ]
    },
    {
     "name": "stderr",
     "output_type": "stream",
     "text": [
      "\r",
      "  2%|▏         | 25/1435 [08:02<6:58:57, 17.83s/it]"
     ]
    },
    {
     "name": "stdout",
     "output_type": "stream",
     "text": [
      "res OK B98\n"
     ]
    },
    {
     "name": "stderr",
     "output_type": "stream",
     "text": [
      "\r",
      "  2%|▏         | 26/1435 [08:03<4:59:36, 12.76s/it]"
     ]
    },
    {
     "name": "stdout",
     "output_type": "stream",
     "text": [
      "res OK B96\n"
     ]
    },
    {
     "name": "stderr",
     "output_type": "stream",
     "text": [
      "\r",
      "  2%|▏         | 27/1435 [08:04<3:39:31,  9.35s/it]"
     ]
    },
    {
     "name": "stdout",
     "output_type": "stream",
     "text": [
      "res OK B97\n"
     ]
    },
    {
     "name": "stderr",
     "output_type": "stream",
     "text": [
      "\r",
      "  2%|▏         | 28/1435 [08:06<2:42:25,  6.93s/it]"
     ]
    },
    {
     "name": "stdout",
     "output_type": "stream",
     "text": [
      "res OK B96.5\n"
     ]
    },
    {
     "name": "stderr",
     "output_type": "stream",
     "text": [
      "  2%|▏         | 30/1435 [08:07<1:26:54,  3.71s/it]"
     ]
    },
    {
     "name": "stdout",
     "output_type": "stream",
     "text": [
      "res OK B98.0\n",
      "res OK C15.9\n"
     ]
    },
    {
     "name": "stderr",
     "output_type": "stream",
     "text": [
      "\r",
      "  2%|▏         | 31/1435 [08:09<1:13:29,  3.14s/it]"
     ]
    },
    {
     "name": "stdout",
     "output_type": "stream",
     "text": [
      "res OK B96.8\n",
      "res OK C15\n"
     ]
    },
    {
     "name": "stderr",
     "output_type": "stream",
     "text": [
      "\r",
      "  2%|▏         | 33/1435 [08:09<41:48,  1.79s/it]  "
     ]
    },
    {
     "name": "stdout",
     "output_type": "stream",
     "text": [
      "==========================\n",
      "res empty\n",
      "| best_pval_score_homogenous \t| PLT-MPV-PCT-PDW : 3.63\t1579 cases \t C16 \t C16 Malignant neoplasm of stomach\n",
      "==========================\n"
     ]
    },
    {
     "name": "stderr",
     "output_type": "stream",
     "text": [
      "  2%|▏         | 35/1435 [08:10<25:21,  1.09s/it]"
     ]
    },
    {
     "name": "stdout",
     "output_type": "stream",
     "text": [
      "res OK C18.0\n",
      "res empty\n"
     ]
    },
    {
     "data": {
      "text/html": [
       "<div>\n",
       "<style scoped>\n",
       "    .dataframe tbody tr th:only-of-type {\n",
       "        vertical-align: middle;\n",
       "    }\n",
       "\n",
       "    .dataframe tbody tr th {\n",
       "        vertical-align: top;\n",
       "    }\n",
       "\n",
       "    .dataframe thead th {\n",
       "        text-align: right;\n",
       "    }\n",
       "</style>\n",
       "<table border=\"1\" class=\"dataframe\">\n",
       "  <tbody>\n",
       "    <tr>\n",
       "      <th>model</th>\n",
       "      <td>lifelines.CoxPHFitter</td>\n",
       "    </tr>\n",
       "    <tr>\n",
       "      <th>duration col</th>\n",
       "      <td>'duration'</td>\n",
       "    </tr>\n",
       "    <tr>\n",
       "      <th>event col</th>\n",
       "      <td>'EVENT'</td>\n",
       "    </tr>\n",
       "    <tr>\n",
       "      <th>strata</th>\n",
       "      <td>[31-0.0, SMOKING_RATE_bin, CRP_bin, CHOLESTERO...</td>\n",
       "    </tr>\n",
       "    <tr>\n",
       "      <th>baseline estimation</th>\n",
       "      <td>breslow</td>\n",
       "    </tr>\n",
       "    <tr>\n",
       "      <th>number of observations</th>\n",
       "      <td>384667</td>\n",
       "    </tr>\n",
       "    <tr>\n",
       "      <th>number of events observed</th>\n",
       "      <td>1579</td>\n",
       "    </tr>\n",
       "    <tr>\n",
       "      <th>partial log-likelihood</th>\n",
       "      <td>-9077.23</td>\n",
       "    </tr>\n",
       "    <tr>\n",
       "      <th>time fit was run</th>\n",
       "      <td>2023-04-08 11:03:46 UTC</td>\n",
       "    </tr>\n",
       "  </tbody>\n",
       "</table>\n",
       "</div><table border=\"1\" class=\"dataframe\">\n",
       "  <thead>\n",
       "    <tr style=\"text-align: right;\">\n",
       "      <th style=\"min-width: 12px;\"></th>\n",
       "      <th style=\"min-width: 12px;\">coef</th>\n",
       "      <th style=\"min-width: 12px;\">exp(coef)</th>\n",
       "      <th style=\"min-width: 12px;\">se(coef)</th>\n",
       "      <th style=\"min-width: 12px;\">coef lower 95%</th>\n",
       "      <th style=\"min-width: 12px;\">coef upper 95%</th>\n",
       "      <th style=\"min-width: 12px;\">exp(coef) lower 95%</th>\n",
       "      <th style=\"min-width: 12px;\">exp(coef) upper 95%</th>\n",
       "      <th style=\"min-width: 12px;\">z</th>\n",
       "      <th style=\"min-width: 12px;\">p</th>\n",
       "      <th style=\"min-width: 12px;\">-log2(p)</th>\n",
       "    </tr>\n",
       "  </thead>\n",
       "  <tbody>\n",
       "    <tr>\n",
       "      <th>30080-0.0</th>\n",
       "      <td>0.00</td>\n",
       "      <td>1.00</td>\n",
       "      <td>0.00</td>\n",
       "      <td>-0.01</td>\n",
       "      <td>0.01</td>\n",
       "      <td>0.99</td>\n",
       "      <td>1.01</td>\n",
       "      <td>0.33</td>\n",
       "      <td>0.74</td>\n",
       "      <td>0.43</td>\n",
       "    </tr>\n",
       "    <tr>\n",
       "      <th>30100-0.0</th>\n",
       "      <td>-0.05</td>\n",
       "      <td>0.95</td>\n",
       "      <td>0.09</td>\n",
       "      <td>-0.23</td>\n",
       "      <td>0.12</td>\n",
       "      <td>0.79</td>\n",
       "      <td>1.13</td>\n",
       "      <td>-0.59</td>\n",
       "      <td>0.55</td>\n",
       "      <td>0.86</td>\n",
       "    </tr>\n",
       "    <tr>\n",
       "      <th>30090-0.0</th>\n",
       "      <td>0.45</td>\n",
       "      <td>1.57</td>\n",
       "      <td>3.77</td>\n",
       "      <td>-6.94</td>\n",
       "      <td>7.84</td>\n",
       "      <td>0.00</td>\n",
       "      <td>2539.40</td>\n",
       "      <td>0.12</td>\n",
       "      <td>0.90</td>\n",
       "      <td>0.14</td>\n",
       "    </tr>\n",
       "    <tr>\n",
       "      <th>30110-0.0</th>\n",
       "      <td>-0.02</td>\n",
       "      <td>0.98</td>\n",
       "      <td>0.06</td>\n",
       "      <td>-0.13</td>\n",
       "      <td>0.09</td>\n",
       "      <td>0.88</td>\n",
       "      <td>1.09</td>\n",
       "      <td>-0.39</td>\n",
       "      <td>0.70</td>\n",
       "      <td>0.51</td>\n",
       "    </tr>\n",
       "    <tr>\n",
       "      <th>best_pval_score_homogenous</th>\n",
       "      <td>0.09</td>\n",
       "      <td>1.10</td>\n",
       "      <td>0.03</td>\n",
       "      <td>0.04</td>\n",
       "      <td>0.14</td>\n",
       "      <td>1.04</td>\n",
       "      <td>1.15</td>\n",
       "      <td>3.68</td>\n",
       "      <td>&lt;0.005</td>\n",
       "      <td>12.06</td>\n",
       "    </tr>\n",
       "  </tbody>\n",
       "</table><br><div>\n",
       "<style scoped>\n",
       "    .dataframe tbody tr th:only-of-type {\n",
       "        vertical-align: middle;\n",
       "    }\n",
       "\n",
       "    .dataframe tbody tr th {\n",
       "        vertical-align: top;\n",
       "    }\n",
       "\n",
       "    .dataframe thead th {\n",
       "        text-align: right;\n",
       "    }\n",
       "</style>\n",
       "<table border=\"1\" class=\"dataframe\">\n",
       "  <tbody>\n",
       "    <tr>\n",
       "      <th>Concordance</th>\n",
       "      <td>0.50</td>\n",
       "    </tr>\n",
       "    <tr>\n",
       "      <th>Partial AIC</th>\n",
       "      <td>18164.46</td>\n",
       "    </tr>\n",
       "    <tr>\n",
       "      <th>log-likelihood ratio test</th>\n",
       "      <td>32.70 on 5 df</td>\n",
       "    </tr>\n",
       "    <tr>\n",
       "      <th>-log2(p) of ll-ratio test</th>\n",
       "      <td>17.82</td>\n",
       "    </tr>\n",
       "  </tbody>\n",
       "</table>\n",
       "</div>"
      ],
      "text/latex": [
       "\\begin{tabular}{lrrrrrrrrrr}\n",
       "\\toprule\n",
       "{} &  coef &  exp(coef) &  se(coef) &  coef lower 95\\% &  coef upper 95\\% &  exp(coef) lower 95\\% &  exp(coef) upper 95\\% &     z &    p &  -log2(p) \\\\\n",
       "covariate                  &       &            &           &                 &                 &                      &                      &       &      &           \\\\\n",
       "\\midrule\n",
       "30080-0.0                  &  0.00 &       1.00 &      0.00 &           -0.01 &            0.01 &                 0.99 &                 1.01 &  0.33 & 0.74 &      0.43 \\\\\n",
       "30100-0.0                  & -0.05 &       0.95 &      0.09 &           -0.23 &            0.12 &                 0.79 &                 1.13 & -0.59 & 0.55 &      0.86 \\\\\n",
       "30090-0.0                  &  0.45 &       1.57 &      3.77 &           -6.94 &            7.84 &                 0.00 &              2539.40 &  0.12 & 0.90 &      0.14 \\\\\n",
       "30110-0.0                  & -0.02 &       0.98 &      0.06 &           -0.13 &            0.09 &                 0.88 &                 1.09 & -0.39 & 0.70 &      0.51 \\\\\n",
       "best\\_pval\\_score\\_homogenous &  0.09 &       1.10 &      0.03 &            0.04 &            0.14 &                 1.04 &                 1.15 &  3.68 & 0.00 &     12.06 \\\\\n",
       "\\bottomrule\n",
       "\\end{tabular}\n"
      ],
      "text/plain": [
       "<lifelines.CoxPHFitter: fitted with 384667 total observations, 383088 right-censored observations>\n",
       "             duration col = 'duration'\n",
       "                event col = 'EVENT'\n",
       "                   strata = ['31-0.0', 'SMOKING_RATE_bin', 'CRP_bin', 'CHOLESTEROL_bin', 'HDL_bin', 'SYSTOLIC_BP_bin']\n",
       "      baseline estimation = breslow\n",
       "   number of observations = 384667\n",
       "number of events observed = 1579\n",
       "   partial log-likelihood = -9077.23\n",
       "         time fit was run = 2023-04-08 11:03:46 UTC\n",
       "\n",
       "---\n",
       "                             coef  exp(coef)   se(coef)   coef lower 95%   coef upper 95%  exp(coef) lower 95%  exp(coef) upper 95%\n",
       "covariate                                                                                                                          \n",
       "30080-0.0                    0.00       1.00       0.00            -0.01             0.01                 0.99                 1.01\n",
       "30100-0.0                   -0.05       0.95       0.09            -0.23             0.12                 0.79                 1.13\n",
       "30090-0.0                    0.45       1.57       3.77            -6.94             7.84                 0.00              2539.40\n",
       "30110-0.0                   -0.02       0.98       0.06            -0.13             0.09                 0.88                 1.09\n",
       "best_pval_score_homogenous   0.09       1.10       0.03             0.04             0.14                 1.04                 1.15\n",
       "\n",
       "                               z      p   -log2(p)\n",
       "covariate                                         \n",
       "30080-0.0                   0.33   0.74       0.43\n",
       "30100-0.0                  -0.59   0.55       0.86\n",
       "30090-0.0                   0.12   0.90       0.14\n",
       "30110-0.0                  -0.39   0.70       0.51\n",
       "best_pval_score_homogenous  3.68 <0.005      12.06\n",
       "---\n",
       "Concordance = 0.50\n",
       "Partial AIC = 18164.46\n",
       "log-likelihood ratio test = 32.70 on 5 df\n",
       "-log2(p) of ll-ratio test = 17.82"
      ]
     },
     "metadata": {},
     "output_type": "display_data"
    },
    {
     "name": "stderr",
     "output_type": "stream",
     "text": [
      "\r",
      "  3%|▎         | 36/1435 [08:10<23:08,  1.01it/s]"
     ]
    },
    {
     "name": "stdout",
     "output_type": "stream",
     "text": [
      "res OK C16\n"
     ]
    },
    {
     "name": "stderr",
     "output_type": "stream",
     "text": [
      "\r",
      "  3%|▎         | 37/1435 [08:11<21:29,  1.08it/s]"
     ]
    },
    {
     "name": "stdout",
     "output_type": "stream",
     "text": [
      "res OK C18\n"
     ]
    },
    {
     "name": "stderr",
     "output_type": "stream",
     "text": [
      "\r",
      "  3%|▎         | 38/1435 [08:13<26:56,  1.16s/it]"
     ]
    },
    {
     "name": "stdout",
     "output_type": "stream",
     "text": [
      "res OK C18.7\n"
     ]
    },
    {
     "name": "stderr",
     "output_type": "stream",
     "text": [
      "\r",
      "  3%|▎         | 39/1435 [11:35<23:02:07, 59.40s/it]"
     ]
    },
    {
     "name": "stdout",
     "output_type": "stream",
     "text": [
      "res OK C18.9\n"
     ]
    },
    {
     "name": "stderr",
     "output_type": "stream",
     "text": [
      "\r",
      "  3%|▎         | 40/1435 [11:48<17:42:25, 45.70s/it]"
     ]
    },
    {
     "name": "stdout",
     "output_type": "stream",
     "text": [
      "res OK C19\n"
     ]
    },
    {
     "name": "stderr",
     "output_type": "stream",
     "text": [
      "\r",
      "  3%|▎         | 41/1435 [11:55<13:19:28, 34.41s/it]"
     ]
    },
    {
     "name": "stdout",
     "output_type": "stream",
     "text": [
      "res OK C20\n"
     ]
    },
    {
     "name": "stderr",
     "output_type": "stream",
     "text": [
      "\r",
      "  3%|▎         | 42/1435 [11:58<9:42:55, 25.11s/it] "
     ]
    },
    {
     "name": "stdout",
     "output_type": "stream",
     "text": [
      "res OK C25\n"
     ]
    },
    {
     "name": "stderr",
     "output_type": "stream",
     "text": [
      "\r",
      "  3%|▎         | 43/1435 [11:59<6:51:56, 17.76s/it]"
     ]
    },
    {
     "name": "stdout",
     "output_type": "stream",
     "text": [
      "res empty\n",
      "res OK C22\n"
     ]
    },
    {
     "name": "stderr",
     "output_type": "stream",
     "text": [
      "\r",
      "  3%|▎         | 45/1435 [11:59<3:44:52,  9.71s/it]"
     ]
    },
    {
     "name": "stdout",
     "output_type": "stream",
     "text": [
      "res empty\n"
     ]
    },
    {
     "name": "stderr",
     "output_type": "stream",
     "text": [
      "\r",
      "  3%|▎         | 46/1435 [12:00<2:51:52,  7.42s/it]"
     ]
    },
    {
     "name": "stdout",
     "output_type": "stream",
     "text": [
      "res OK C25.9\n"
     ]
    },
    {
     "name": "stderr",
     "output_type": "stream",
     "text": [
      "\r",
      "  3%|▎         | 47/1435 [12:04<2:35:56,  6.74s/it]"
     ]
    },
    {
     "name": "stdout",
     "output_type": "stream",
     "text": [
      "res OK C34.3\n"
     ]
    },
    {
     "name": "stderr",
     "output_type": "stream",
     "text": [
      "\r",
      "  3%|▎         | 48/1435 [12:05<2:00:14,  5.20s/it]"
     ]
    },
    {
     "name": "stdout",
     "output_type": "stream",
     "text": [
      "res OK C34.1\n"
     ]
    },
    {
     "name": "stderr",
     "output_type": "stream",
     "text": [
      "\r",
      "  3%|▎         | 49/1435 [12:06<1:29:21,  3.87s/it]"
     ]
    },
    {
     "name": "stdout",
     "output_type": "stream",
     "text": [
      "res OK C34\n"
     ]
    },
    {
     "name": "stderr",
     "output_type": "stream",
     "text": [
      "\r",
      "  3%|▎         | 50/1435 [12:08<1:17:43,  3.37s/it]"
     ]
    },
    {
     "name": "stdout",
     "output_type": "stream",
     "text": [
      "res OK C43\n"
     ]
    },
    {
     "name": "stderr",
     "output_type": "stream",
     "text": [
      "\r",
      "  4%|▎         | 51/1435 [12:08<58:32,  2.54s/it]  "
     ]
    },
    {
     "name": "stdout",
     "output_type": "stream",
     "text": [
      "res OK C34.9\n"
     ]
    },
    {
     "name": "stderr",
     "output_type": "stream",
     "text": [
      "\r",
      "  4%|▎         | 52/1435 [12:11<58:06,  2.52s/it]"
     ]
    },
    {
     "name": "stdout",
     "output_type": "stream",
     "text": [
      "res OK C44.2\n",
      "res OK C44.1\n"
     ]
    },
    {
     "name": "stderr",
     "output_type": "stream",
     "text": [
      "\r",
      "  4%|▍         | 54/1435 [12:14<45:45,  1.99s/it]"
     ]
    },
    {
     "name": "stdout",
     "output_type": "stream",
     "text": [
      "res OK C44.3\n"
     ]
    },
    {
     "name": "stderr",
     "output_type": "stream",
     "text": [
      "\r",
      "  4%|▍         | 55/1435 [12:14<37:44,  1.64s/it]"
     ]
    },
    {
     "name": "stdout",
     "output_type": "stream",
     "text": [
      "res OK C44.4\n"
     ]
    },
    {
     "name": "stderr",
     "output_type": "stream",
     "text": [
      "\r",
      "  4%|▍         | 56/1435 [12:14<29:32,  1.29s/it]"
     ]
    },
    {
     "name": "stdout",
     "output_type": "stream",
     "text": [
      "res OK C44\n"
     ]
    },
    {
     "name": "stderr",
     "output_type": "stream",
     "text": [
      "\r",
      "  4%|▍         | 57/1435 [12:15<22:57,  1.00it/s]"
     ]
    },
    {
     "name": "stdout",
     "output_type": "stream",
     "text": [
      "res empty\n"
     ]
    },
    {
     "name": "stderr",
     "output_type": "stream",
     "text": [
      "  4%|▍         | 59/1435 [13:45<7:06:46, 18.61s/it]"
     ]
    },
    {
     "name": "stdout",
     "output_type": "stream",
     "text": [
      "res OK C50\n",
      "res OK C50.4\n"
     ]
    },
    {
     "name": "stderr",
     "output_type": "stream",
     "text": [
      "\r",
      "  4%|▍         | 60/1435 [13:48<5:19:21, 13.94s/it]"
     ]
    },
    {
     "name": "stdout",
     "output_type": "stream",
     "text": [
      "res OK C50.9\n"
     ]
    },
    {
     "name": "stderr",
     "output_type": "stream",
     "text": [
      "\r",
      "  4%|▍         | 61/1435 [13:49<3:55:29, 10.28s/it]"
     ]
    },
    {
     "name": "stdout",
     "output_type": "stream",
     "text": [
      "res OK C54\n"
     ]
    },
    {
     "name": "stderr",
     "output_type": "stream",
     "text": [
      "\r",
      "  4%|▍         | 62/1435 [13:50<2:48:45,  7.38s/it]"
     ]
    },
    {
     "name": "stdout",
     "output_type": "stream",
     "text": [
      "res empty\n"
     ]
    },
    {
     "name": "stderr",
     "output_type": "stream",
     "text": [
      "\r",
      "  4%|▍         | 63/1435 [13:50<2:01:46,  5.33s/it]"
     ]
    },
    {
     "name": "stdout",
     "output_type": "stream",
     "text": [
      "res OK C56\n",
      "res empty\n"
     ]
    },
    {
     "name": "stderr",
     "output_type": "stream",
     "text": [
      "\r",
      "  5%|▍         | 65/1435 [13:51<1:12:14,  3.16s/it]"
     ]
    },
    {
     "name": "stdout",
     "output_type": "stream",
     "text": [
      "res OK C54.1\n"
     ]
    },
    {
     "name": "stderr",
     "output_type": "stream",
     "text": [
      "\r",
      "  5%|▍         | 66/1435 [13:55<1:14:19,  3.26s/it]"
     ]
    },
    {
     "name": "stdout",
     "output_type": "stream",
     "text": [
      "res OK C61\n"
     ]
    },
    {
     "name": "stderr",
     "output_type": "stream",
     "text": [
      "\r",
      "  5%|▍         | 67/1435 [15:27<9:59:52, 26.31s/it]"
     ]
    },
    {
     "name": "stdout",
     "output_type": "stream",
     "text": [
      "res OK C44.5\n"
     ]
    },
    {
     "name": "stderr",
     "output_type": "stream",
     "text": [
      "\r",
      "  5%|▍         | 68/1435 [15:41<8:46:30, 23.11s/it]"
     ]
    },
    {
     "name": "stdout",
     "output_type": "stream",
     "text": [
      "res OK C44.6\n"
     ]
    },
    {
     "name": "stderr",
     "output_type": "stream",
     "text": [
      "\r",
      "  5%|▍         | 69/1435 [15:51<7:23:45, 19.49s/it]"
     ]
    },
    {
     "name": "stdout",
     "output_type": "stream",
     "text": [
      "res OK C44.7\n"
     ]
    },
    {
     "name": "stderr",
     "output_type": "stream",
     "text": [
      "\r",
      "  5%|▍         | 70/1435 [16:04<6:39:38, 17.57s/it]"
     ]
    },
    {
     "name": "stdout",
     "output_type": "stream",
     "text": [
      "res OK C64\n"
     ]
    },
    {
     "name": "stderr",
     "output_type": "stream",
     "text": [
      "  5%|▌         | 72/1435 [16:13<4:04:40, 10.77s/it]"
     ]
    },
    {
     "name": "stdout",
     "output_type": "stream",
     "text": [
      "res OK C71\n",
      "res OK C67.9\n",
      "res OK C67\n"
     ]
    },
    {
     "name": "stderr",
     "output_type": "stream",
     "text": [
      "\r",
      "  5%|▌         | 74/1435 [16:15<2:20:25,  6.19s/it]"
     ]
    },
    {
     "name": "stdout",
     "output_type": "stream",
     "text": [
      "res OK C77.0\n"
     ]
    },
    {
     "name": "stderr",
     "output_type": "stream",
     "text": [
      "\r",
      "  5%|▌         | 75/1435 [16:16<1:53:33,  5.01s/it]"
     ]
    },
    {
     "name": "stdout",
     "output_type": "stream",
     "text": [
      "res OK C77\n"
     ]
    },
    {
     "name": "stderr",
     "output_type": "stream",
     "text": [
      "\r",
      "  5%|▌         | 76/1435 [17:31<8:41:01, 23.00s/it]"
     ]
    },
    {
     "name": "stdout",
     "output_type": "stream",
     "text": [
      "res OK C77.1\n"
     ]
    },
    {
     "name": "stderr",
     "output_type": "stream",
     "text": [
      "\r",
      "  5%|▌         | 77/1435 [17:31<6:24:12, 16.98s/it]"
     ]
    },
    {
     "name": "stdout",
     "output_type": "stream",
     "text": [
      "res empty\n"
     ]
    },
    {
     "name": "stderr",
     "output_type": "stream",
     "text": [
      "\r",
      "  5%|▌         | 78/1435 [17:40<5:31:23, 14.65s/it]"
     ]
    },
    {
     "name": "stdout",
     "output_type": "stream",
     "text": [
      "res OK C77.2\n"
     ]
    },
    {
     "name": "stderr",
     "output_type": "stream",
     "text": [
      "\r",
      "  6%|▌         | 79/1435 [17:40<3:58:51, 10.57s/it]"
     ]
    },
    {
     "name": "stdout",
     "output_type": "stream",
     "text": [
      "res OK C77.3\n",
      "res empty\n"
     ]
    },
    {
     "name": "stderr",
     "output_type": "stream",
     "text": [
      "\r",
      "  6%|▌         | 81/1435 [17:41<2:13:46,  5.93s/it]"
     ]
    },
    {
     "name": "stdout",
     "output_type": "stream",
     "text": [
      "res empty\n"
     ]
    },
    {
     "name": "stderr",
     "output_type": "stream",
     "text": [
      "\r",
      "  6%|▌         | 82/1435 [17:41<1:43:20,  4.58s/it]"
     ]
    },
    {
     "name": "stdout",
     "output_type": "stream",
     "text": [
      "res empty\n"
     ]
    },
    {
     "name": "stderr",
     "output_type": "stream",
     "text": [
      "\r",
      "  6%|▌         | 83/1435 [17:41<1:18:50,  3.50s/it]"
     ]
    },
    {
     "name": "stdout",
     "output_type": "stream",
     "text": [
      "res empty\n"
     ]
    },
    {
     "name": "stderr",
     "output_type": "stream",
     "text": [
      "\r",
      "  6%|▌         | 84/1435 [17:42<59:50,  2.66s/it]  "
     ]
    },
    {
     "name": "stdout",
     "output_type": "stream",
     "text": [
      "res empty\n"
     ]
    },
    {
     "name": "stderr",
     "output_type": "stream",
     "text": [
      "\r",
      "  6%|▌         | 85/1435 [17:42<45:47,  2.03s/it]"
     ]
    },
    {
     "name": "stdout",
     "output_type": "stream",
     "text": [
      "res empty\n"
     ]
    },
    {
     "name": "stderr",
     "output_type": "stream",
     "text": [
      "\r",
      "  6%|▌         | 86/1435 [17:43<35:10,  1.56s/it]"
     ]
    },
    {
     "name": "stdout",
     "output_type": "stream",
     "text": [
      "res empty\n"
     ]
    },
    {
     "name": "stderr",
     "output_type": "stream",
     "text": [
      "\r",
      "  6%|▌         | 87/1435 [17:43<27:23,  1.22s/it]"
     ]
    },
    {
     "name": "stdout",
     "output_type": "stream",
     "text": [
      "res empty\n"
     ]
    },
    {
     "name": "stderr",
     "output_type": "stream",
     "text": [
      "\r",
      "  6%|▌         | 88/1435 [17:43<21:45,  1.03it/s]"
     ]
    },
    {
     "name": "stdout",
     "output_type": "stream",
     "text": [
      "res empty\n"
     ]
    },
    {
     "name": "stderr",
     "output_type": "stream",
     "text": [
      "\r",
      "  6%|▌         | 89/1435 [17:46<35:25,  1.58s/it]"
     ]
    },
    {
     "name": "stdout",
     "output_type": "stream",
     "text": [
      "res OK C78.0\n"
     ]
    },
    {
     "name": "stderr",
     "output_type": "stream",
     "text": [
      "\r",
      "  6%|▋         | 90/1435 [17:47<28:05,  1.25s/it]"
     ]
    },
    {
     "name": "stdout",
     "output_type": "stream",
     "text": [
      "res OK C78.2\n"
     ]
    },
    {
     "name": "stderr",
     "output_type": "stream",
     "text": [
      "\r",
      "  6%|▋         | 91/1435 [17:49<34:34,  1.54s/it]"
     ]
    },
    {
     "name": "stdout",
     "output_type": "stream",
     "text": [
      "res OK C78\n"
     ]
    },
    {
     "name": "stderr",
     "output_type": "stream",
     "text": [
      "\r",
      "  6%|▋         | 92/1435 [17:53<46:56,  2.10s/it]"
     ]
    },
    {
     "name": "stdout",
     "output_type": "stream",
     "text": [
      "res OK C78.6\n"
     ]
    },
    {
     "name": "stderr",
     "output_type": "stream",
     "text": [
      "\r",
      "  6%|▋         | 93/1435 [19:16<9:47:05, 26.25s/it]"
     ]
    },
    {
     "name": "stdout",
     "output_type": "stream",
     "text": [
      "res OK C78.7\n"
     ]
    },
    {
     "name": "stderr",
     "output_type": "stream",
     "text": [
      "\r",
      "  7%|▋         | 94/1435 [19:32<8:41:23, 23.33s/it]"
     ]
    },
    {
     "name": "stdout",
     "output_type": "stream",
     "text": [
      "res OK D05\n"
     ]
    },
    {
     "name": "stderr",
     "output_type": "stream",
     "text": [
      "\r",
      "  7%|▋         | 95/1435 [19:32<6:08:17, 16.49s/it]"
     ]
    },
    {
     "name": "stdout",
     "output_type": "stream",
     "text": [
      "res OK D05.1\n"
     ]
    },
    {
     "name": "stderr",
     "output_type": "stream",
     "text": [
      "\r",
      "  7%|▋         | 96/1435 [19:38<4:57:50, 13.35s/it]"
     ]
    },
    {
     "name": "stdout",
     "output_type": "stream",
     "text": [
      "res OK C79\n"
     ]
    },
    {
     "name": "stderr",
     "output_type": "stream",
     "text": [
      "\r",
      "  7%|▋         | 97/1435 [19:40<3:37:36,  9.76s/it]"
     ]
    },
    {
     "name": "stdout",
     "output_type": "stream",
     "text": [
      "res OK D05.9\n"
     ]
    },
    {
     "name": "stderr",
     "output_type": "stream",
     "text": [
      "\r",
      "  7%|▋         | 98/1435 [19:46<3:16:02,  8.80s/it]"
     ]
    },
    {
     "name": "stdout",
     "output_type": "stream",
     "text": [
      "res OK C79.3\n"
     ]
    },
    {
     "name": "stderr",
     "output_type": "stream",
     "text": [
      "\r",
      "  7%|▋         | 99/1435 [20:02<4:03:39, 10.94s/it]"
     ]
    },
    {
     "name": "stdout",
     "output_type": "stream",
     "text": [
      "res OK C79.5\n"
     ]
    },
    {
     "name": "stderr",
     "output_type": "stream",
     "text": [
      "\r",
      "  7%|▋         | 100/1435 [20:12<3:56:04, 10.61s/it]"
     ]
    },
    {
     "name": "stdout",
     "output_type": "stream",
     "text": [
      "res OK C79.8\n"
     ]
    },
    {
     "name": "stderr",
     "output_type": "stream",
     "text": [
      "\r",
      "  7%|▋         | 101/1435 [20:15<3:03:17,  8.24s/it]"
     ]
    },
    {
     "name": "stdout",
     "output_type": "stream",
     "text": [
      "res OK C80\n"
     ]
    },
    {
     "name": "stderr",
     "output_type": "stream",
     "text": [
      "\r",
      "  7%|▋         | 102/1435 [20:18<2:26:54,  6.61s/it]"
     ]
    },
    {
     "name": "stdout",
     "output_type": "stream",
     "text": [
      "res OK C80.9\n"
     ]
    },
    {
     "name": "stderr",
     "output_type": "stream",
     "text": [
      "\r",
      "  7%|▋         | 103/1435 [20:18<1:44:57,  4.73s/it]"
     ]
    },
    {
     "name": "stdout",
     "output_type": "stream",
     "text": [
      "res OK C80.0\n"
     ]
    },
    {
     "name": "stderr",
     "output_type": "stream",
     "text": [
      "\r",
      "  7%|▋         | 104/1435 [20:18<1:14:47,  3.37s/it]"
     ]
    },
    {
     "name": "stdout",
     "output_type": "stream",
     "text": [
      "res empty\n"
     ]
    },
    {
     "name": "stderr",
     "output_type": "stream",
     "text": [
      "\r",
      "  7%|▋         | 105/1435 [20:19<58:52,  2.66s/it]  "
     ]
    },
    {
     "name": "stdout",
     "output_type": "stream",
     "text": [
      "res OK C79.9\n"
     ]
    },
    {
     "name": "stderr",
     "output_type": "stream",
     "text": [
      "\r",
      "  7%|▋         | 106/1435 [21:21<7:31:35, 20.39s/it]"
     ]
    },
    {
     "name": "stdout",
     "output_type": "stream",
     "text": [
      "res OK C83\n"
     ]
    },
    {
     "name": "stderr",
     "output_type": "stream",
     "text": [
      "\r",
      "  7%|▋         | 107/1435 [21:34<6:44:55, 18.29s/it]"
     ]
    },
    {
     "name": "stdout",
     "output_type": "stream",
     "text": [
      "res OK C85\n"
     ]
    },
    {
     "name": "stderr",
     "output_type": "stream",
     "text": [
      "\r",
      "  8%|▊         | 108/1435 [21:39<5:12:42, 14.14s/it]"
     ]
    },
    {
     "name": "stdout",
     "output_type": "stream",
     "text": [
      "res OK D03\n"
     ]
    },
    {
     "name": "stderr",
     "output_type": "stream",
     "text": [
      "\r",
      "  8%|▊         | 109/1435 [21:44<4:15:35, 11.57s/it]"
     ]
    },
    {
     "name": "stdout",
     "output_type": "stream",
     "text": [
      "res OK D04\n"
     ]
    },
    {
     "name": "stderr",
     "output_type": "stream",
     "text": [
      "\r",
      "  8%|▊         | 110/1435 [23:14<12:49:39, 34.85s/it]"
     ]
    },
    {
     "name": "stdout",
     "output_type": "stream",
     "text": [
      "res OK D12\n",
      "res OK D17.6\n"
     ]
    },
    {
     "name": "stderr",
     "output_type": "stream",
     "text": [
      "\r",
      "  8%|▊         | 112/1435 [23:27<8:01:58, 21.86s/it] "
     ]
    },
    {
     "name": "stdout",
     "output_type": "stream",
     "text": [
      "res OK D12.0\n"
     ]
    },
    {
     "name": "stderr",
     "output_type": "stream",
     "text": [
      "\r",
      "  8%|▊         | 113/1435 [23:28<6:06:20, 16.63s/it]"
     ]
    },
    {
     "name": "stdout",
     "output_type": "stream",
     "text": [
      "res OK D12.2\n"
     ]
    },
    {
     "name": "stderr",
     "output_type": "stream",
     "text": [
      "\r",
      "  8%|▊         | 114/1435 [23:30<4:40:53, 12.76s/it]"
     ]
    },
    {
     "name": "stdout",
     "output_type": "stream",
     "text": [
      "res OK D12.3\n"
     ]
    },
    {
     "name": "stderr",
     "output_type": "stream",
     "text": [
      "\r",
      "  8%|▊         | 115/1435 [23:38<4:13:17, 11.51s/it]"
     ]
    },
    {
     "name": "stdout",
     "output_type": "stream",
     "text": [
      "res OK D12.4\n"
     ]
    },
    {
     "name": "stderr",
     "output_type": "stream",
     "text": [
      "\r",
      "  8%|▊         | 116/1435 [23:38<3:05:18,  8.43s/it]"
     ]
    },
    {
     "name": "stdout",
     "output_type": "stream",
     "text": [
      "res empty\n"
     ]
    },
    {
     "name": "stderr",
     "output_type": "stream",
     "text": [
      "\r",
      "  8%|▊         | 117/1435 [23:44<2:48:37,  7.68s/it]"
     ]
    },
    {
     "name": "stdout",
     "output_type": "stream",
     "text": [
      "res OK D12.5\n"
     ]
    },
    {
     "name": "stderr",
     "output_type": "stream",
     "text": [
      "\r",
      "  8%|▊         | 118/1435 [23:56<3:18:20,  9.04s/it]"
     ]
    },
    {
     "name": "stdout",
     "output_type": "stream",
     "text": [
      "res OK D12.6\n"
     ]
    },
    {
     "name": "stderr",
     "output_type": "stream",
     "text": [
      "\r",
      "  8%|▊         | 119/1435 [24:12<3:59:51, 10.94s/it]"
     ]
    },
    {
     "name": "stdout",
     "output_type": "stream",
     "text": [
      "res OK D13\n"
     ]
    },
    {
     "name": "stderr",
     "output_type": "stream",
     "text": [
      "\r",
      "  8%|▊         | 120/1435 [24:13<2:58:08,  8.13s/it]"
     ]
    },
    {
     "name": "stdout",
     "output_type": "stream",
     "text": [
      "res OK D17.0\n"
     ]
    },
    {
     "name": "stderr",
     "output_type": "stream",
     "text": [
      "\r",
      "  8%|▊         | 121/1435 [24:14<2:08:02,  5.85s/it]"
     ]
    },
    {
     "name": "stdout",
     "output_type": "stream",
     "text": [
      "res empty\n"
     ]
    },
    {
     "name": "stderr",
     "output_type": "stream",
     "text": [
      "\r",
      "  9%|▊         | 122/1435 [24:14<1:33:05,  4.25s/it]"
     ]
    },
    {
     "name": "stdout",
     "output_type": "stream",
     "text": [
      "res OK D12.8\n"
     ]
    },
    {
     "name": "stderr",
     "output_type": "stream",
     "text": [
      "\r",
      "  9%|▊         | 123/1435 [24:19<1:39:06,  4.53s/it]"
     ]
    },
    {
     "name": "stdout",
     "output_type": "stream",
     "text": [
      "res OK D17.1\n"
     ]
    },
    {
     "name": "stderr",
     "output_type": "stream",
     "text": [
      "\r",
      "  9%|▊         | 124/1435 [24:20<1:13:32,  3.37s/it]"
     ]
    },
    {
     "name": "stdout",
     "output_type": "stream",
     "text": [
      "res empty\n",
      "res OK D17\n"
     ]
    },
    {
     "name": "stderr",
     "output_type": "stream",
     "text": [
      "\r",
      "  9%|▊         | 125/1435 [24:36<2:32:28,  6.98s/it]"
     ]
    },
    {
     "name": "stdout",
     "output_type": "stream",
     "text": [
      "res empty\n"
     ]
    },
    {
     "name": "stderr",
     "output_type": "stream",
     "text": [
      "\r",
      "  9%|▉         | 127/1435 [25:14<4:34:35, 12.60s/it]"
     ]
    },
    {
     "name": "stdout",
     "output_type": "stream",
     "text": [
      "res OK D17.2\n"
     ]
    },
    {
     "name": "stderr",
     "output_type": "stream",
     "text": [
      "\r",
      "  9%|▉         | 128/1435 [25:24<4:20:31, 11.96s/it]"
     ]
    },
    {
     "name": "stdout",
     "output_type": "stream",
     "text": [
      "res OK D24\n"
     ]
    },
    {
     "name": "stderr",
     "output_type": "stream",
     "text": [
      "\r",
      "  9%|▉         | 129/1435 [25:25<3:15:57,  9.00s/it]"
     ]
    },
    {
     "name": "stdout",
     "output_type": "stream",
     "text": [
      "res empty\n"
     ]
    },
    {
     "name": "stderr",
     "output_type": "stream",
     "text": [
      "\r",
      "  9%|▉         | 130/1435 [25:25<2:25:12,  6.68s/it]"
     ]
    },
    {
     "name": "stdout",
     "output_type": "stream",
     "text": [
      "res empty\n"
     ]
    },
    {
     "name": "stderr",
     "output_type": "stream",
     "text": [
      "\r",
      "  9%|▉         | 131/1435 [25:31<2:23:33,  6.61s/it]"
     ]
    },
    {
     "name": "stdout",
     "output_type": "stream",
     "text": [
      "res OK D25\n"
     ]
    },
    {
     "name": "stderr",
     "output_type": "stream",
     "text": [
      "\r",
      "  9%|▉         | 132/1435 [25:32<1:44:45,  4.82s/it]"
     ]
    },
    {
     "name": "stdout",
     "output_type": "stream",
     "text": [
      "res empty\n"
     ]
    },
    {
     "name": "stderr",
     "output_type": "stream",
     "text": [
      "\r",
      "  9%|▉         | 133/1435 [25:37<1:46:48,  4.92s/it]"
     ]
    },
    {
     "name": "stdout",
     "output_type": "stream",
     "text": [
      "res OK D18\n"
     ]
    },
    {
     "name": "stderr",
     "output_type": "stream",
     "text": [
      "\r",
      "  9%|▉         | 134/1435 [25:39<1:26:03,  3.97s/it]"
     ]
    },
    {
     "name": "stdout",
     "output_type": "stream",
     "text": [
      "res OK D25.0\n"
     ]
    },
    {
     "name": "stderr",
     "output_type": "stream",
     "text": [
      "\r",
      "  9%|▉         | 135/1435 [25:43<1:27:13,  4.03s/it]"
     ]
    },
    {
     "name": "stdout",
     "output_type": "stream",
     "text": [
      "res OK D18.0\n"
     ]
    },
    {
     "name": "stderr",
     "output_type": "stream",
     "text": [
      "\r",
      "  9%|▉         | 136/1435 [25:53<2:08:59,  5.96s/it]"
     ]
    },
    {
     "name": "stdout",
     "output_type": "stream",
     "text": [
      "res OK D25.1\n"
     ]
    },
    {
     "name": "stderr",
     "output_type": "stream",
     "text": [
      "\r",
      " 10%|▉         | 137/1435 [25:57<1:54:41,  5.30s/it]"
     ]
    },
    {
     "name": "stdout",
     "output_type": "stream",
     "text": [
      "res OK D27\n"
     ]
    },
    {
     "name": "stderr",
     "output_type": "stream",
     "text": [
      "\r",
      " 10%|▉         | 138/1435 [25:58<1:23:53,  3.88s/it]"
     ]
    },
    {
     "name": "stdout",
     "output_type": "stream",
     "text": [
      "res empty\n"
     ]
    },
    {
     "name": "stderr",
     "output_type": "stream",
     "text": [
      "\r",
      " 10%|▉         | 139/1435 [25:58<1:03:17,  2.93s/it]"
     ]
    },
    {
     "name": "stdout",
     "output_type": "stream",
     "text": [
      "res empty\n"
     ]
    },
    {
     "name": "stderr",
     "output_type": "stream",
     "text": [
      "\r",
      " 10%|▉         | 140/1435 [25:59<48:28,  2.25s/it]  "
     ]
    },
    {
     "name": "stdout",
     "output_type": "stream",
     "text": [
      "res OK D25.9\n"
     ]
    },
    {
     "name": "stderr",
     "output_type": "stream",
     "text": [
      "\r",
      " 10%|▉         | 141/1435 [27:14<8:39:51, 24.11s/it]"
     ]
    },
    {
     "name": "stdout",
     "output_type": "stream",
     "text": [
      "res OK D22\n"
     ]
    },
    {
     "name": "stderr",
     "output_type": "stream",
     "text": [
      "\r",
      " 10%|▉         | 142/1435 [27:17<6:21:45, 17.72s/it]"
     ]
    },
    {
     "name": "stdout",
     "output_type": "stream",
     "text": [
      "res OK D22.3\n"
     ]
    },
    {
     "name": "stderr",
     "output_type": "stream",
     "text": [
      "\r",
      " 10%|▉         | 143/1435 [27:27<5:33:29, 15.49s/it]"
     ]
    },
    {
     "name": "stdout",
     "output_type": "stream",
     "text": [
      "res OK D23\n"
     ]
    },
    {
     "name": "stderr",
     "output_type": "stream",
     "text": [
      "\r",
      " 10%|█         | 144/1435 [27:28<3:57:38, 11.04s/it]"
     ]
    },
    {
     "name": "stdout",
     "output_type": "stream",
     "text": [
      "res OK D22.5\n"
     ]
    },
    {
     "name": "stderr",
     "output_type": "stream",
     "text": [
      "\r",
      " 10%|█         | 145/1435 [27:30<2:59:31,  8.35s/it]"
     ]
    },
    {
     "name": "stdout",
     "output_type": "stream",
     "text": [
      "res OK D23.1\n"
     ]
    },
    {
     "name": "stderr",
     "output_type": "stream",
     "text": [
      "\r",
      " 10%|█         | 146/1435 [28:19<7:18:20, 20.40s/it]"
     ]
    },
    {
     "name": "stdout",
     "output_type": "stream",
     "text": [
      "res OK D35\n"
     ]
    },
    {
     "name": "stderr",
     "output_type": "stream",
     "text": [
      "\r",
      " 10%|█         | 147/1435 [28:19<5:09:47, 14.43s/it]"
     ]
    },
    {
     "name": "stdout",
     "output_type": "stream",
     "text": [
      "res empty\n"
     ]
    },
    {
     "name": "stderr",
     "output_type": "stream",
     "text": [
      "\r",
      " 10%|█         | 148/1435 [28:20<3:42:17, 10.36s/it]"
     ]
    },
    {
     "name": "stdout",
     "output_type": "stream",
     "text": [
      "res empty\n"
     ]
    },
    {
     "name": "stderr",
     "output_type": "stream",
     "text": [
      "\r",
      " 10%|█         | 149/1435 [28:20<2:39:10,  7.43s/it]"
     ]
    },
    {
     "name": "stdout",
     "output_type": "stream",
     "text": [
      "res empty\n"
     ]
    },
    {
     "name": "stderr",
     "output_type": "stream",
     "text": [
      "\r",
      " 10%|█         | 150/1435 [28:22<1:57:59,  5.51s/it]"
     ]
    },
    {
     "name": "stdout",
     "output_type": "stream",
     "text": [
      "res OK D37\n"
     ]
    },
    {
     "name": "stderr",
     "output_type": "stream",
     "text": [
      "\r",
      " 11%|█         | 151/1435 [29:03<5:48:02, 16.26s/it]"
     ]
    },
    {
     "name": "stdout",
     "output_type": "stream",
     "text": [
      "res OK D41\n"
     ]
    },
    {
     "name": "stderr",
     "output_type": "stream",
     "text": [
      "\r",
      " 11%|█         | 152/1435 [29:36<7:36:13, 21.34s/it]"
     ]
    },
    {
     "name": "stdout",
     "output_type": "stream",
     "text": [
      "res OK D50.8\n"
     ]
    },
    {
     "name": "stderr",
     "output_type": "stream",
     "text": [
      "\r",
      " 11%|█         | 153/1435 [29:44<6:11:09, 17.37s/it]"
     ]
    },
    {
     "name": "stdout",
     "output_type": "stream",
     "text": [
      "res OK D51\n"
     ]
    },
    {
     "name": "stderr",
     "output_type": "stream",
     "text": [
      "\r",
      " 11%|█         | 154/1435 [29:45<4:23:26, 12.34s/it]"
     ]
    },
    {
     "name": "stdout",
     "output_type": "stream",
     "text": [
      "res empty\n"
     ]
    },
    {
     "name": "stderr",
     "output_type": "stream",
     "text": [
      "\r",
      " 11%|█         | 155/1435 [29:45<3:07:17,  8.78s/it]"
     ]
    },
    {
     "name": "stdout",
     "output_type": "stream",
     "text": [
      "res empty\n"
     ]
    },
    {
     "name": "stderr",
     "output_type": "stream",
     "text": [
      "\r",
      " 11%|█         | 156/1435 [29:46<2:15:13,  6.34s/it]"
     ]
    },
    {
     "name": "stdout",
     "output_type": "stream",
     "text": [
      "res empty\n"
     ]
    },
    {
     "name": "stderr",
     "output_type": "stream",
     "text": [
      " 11%|█         | 158/1435 [29:55<1:46:36,  5.01s/it]"
     ]
    },
    {
     "name": "stdout",
     "output_type": "stream",
     "text": [
      "res OK D47\n",
      "res OK D51.0\n"
     ]
    },
    {
     "name": "stderr",
     "output_type": "stream",
     "text": [
      "\r",
      " 11%|█         | 159/1435 [29:57<1:24:52,  3.99s/it]"
     ]
    },
    {
     "name": "stdout",
     "output_type": "stream",
     "text": [
      "res OK D63\n"
     ]
    },
    {
     "name": "stderr",
     "output_type": "stream",
     "text": [
      "\r",
      " 11%|█         | 160/1435 [29:58<1:08:10,  3.21s/it]"
     ]
    },
    {
     "name": "stdout",
     "output_type": "stream",
     "text": [
      "res OK D50\n"
     ]
    },
    {
     "name": "stderr",
     "output_type": "stream",
     "text": [
      "\r",
      " 11%|█         | 161/1435 [30:04<1:23:33,  3.93s/it]"
     ]
    },
    {
     "name": "stdout",
     "output_type": "stream",
     "text": [
      "res OK D64\n"
     ]
    },
    {
     "name": "stderr",
     "output_type": "stream",
     "text": [
      "\r",
      " 11%|█▏        | 162/1435 [30:09<1:34:58,  4.48s/it]"
     ]
    },
    {
     "name": "stdout",
     "output_type": "stream",
     "text": [
      "res OK D50.9\n"
     ]
    },
    {
     "name": "stderr",
     "output_type": "stream",
     "text": [
      "\r",
      " 11%|█▏        | 163/1435 [30:10<1:09:31,  3.28s/it]"
     ]
    },
    {
     "name": "stdout",
     "output_type": "stream",
     "text": [
      "res empty\n"
     ]
    },
    {
     "name": "stderr",
     "output_type": "stream",
     "text": [
      "\r",
      " 11%|█▏        | 164/1435 [31:07<6:52:32, 19.48s/it]"
     ]
    },
    {
     "name": "stdout",
     "output_type": "stream",
     "text": [
      "res OK D64.9\n"
     ]
    },
    {
     "name": "stderr",
     "output_type": "stream",
     "text": [
      "\r",
      " 11%|█▏        | 165/1435 [31:10<5:06:52, 14.50s/it]"
     ]
    },
    {
     "name": "stdout",
     "output_type": "stream",
     "text": [
      "res OK D68\n"
     ]
    },
    {
     "name": "stderr",
     "output_type": "stream",
     "text": [
      "\r",
      " 12%|█▏        | 166/1435 [31:25<5:08:37, 14.59s/it]"
     ]
    },
    {
     "name": "stdout",
     "output_type": "stream",
     "text": [
      "res OK D70\n"
     ]
    },
    {
     "name": "stderr",
     "output_type": "stream",
     "text": [
      "\r",
      " 12%|█▏        | 167/1435 [32:16<9:02:08, 25.65s/it]"
     ]
    },
    {
     "name": "stdout",
     "output_type": "stream",
     "text": [
      "res OK D86\n"
     ]
    },
    {
     "name": "stderr",
     "output_type": "stream",
     "text": [
      "\r",
      " 12%|█▏        | 168/1435 [32:21<6:50:48, 19.45s/it]"
     ]
    },
    {
     "name": "stdout",
     "output_type": "stream",
     "text": [
      "res OK E03\n"
     ]
    },
    {
     "name": "stderr",
     "output_type": "stream",
     "text": [
      "\r",
      " 12%|█▏        | 169/1435 [32:22<4:50:31, 13.77s/it]"
     ]
    },
    {
     "name": "stdout",
     "output_type": "stream",
     "text": [
      "res empty\n"
     ]
    },
    {
     "name": "stderr",
     "output_type": "stream",
     "text": [
      "\r",
      " 12%|█▏        | 170/1435 [33:06<8:02:05, 22.87s/it]"
     ]
    },
    {
     "name": "stdout",
     "output_type": "stream",
     "text": [
      "res OK E03.9\n"
     ]
    },
    {
     "name": "stderr",
     "output_type": "stream",
     "text": [
      "\r",
      " 12%|█▏        | 171/1435 [33:33<8:28:49, 24.15s/it]"
     ]
    },
    {
     "name": "stdout",
     "output_type": "stream",
     "text": [
      "res OK E04\n"
     ]
    },
    {
     "name": "stderr",
     "output_type": "stream",
     "text": [
      "\r",
      " 12%|█▏        | 172/1435 [33:46<7:17:56, 20.81s/it]"
     ]
    },
    {
     "name": "stdout",
     "output_type": "stream",
     "text": [
      "res OK E05.9\n"
     ]
    },
    {
     "name": "stderr",
     "output_type": "stream",
     "text": [
      "\r",
      " 12%|█▏        | 173/1435 [33:54<6:00:06, 17.12s/it]"
     ]
    },
    {
     "name": "stdout",
     "output_type": "stream",
     "text": [
      "res OK E14.9\n"
     ]
    },
    {
     "name": "stderr",
     "output_type": "stream",
     "text": [
      "\r",
      " 12%|█▏        | 174/1435 [33:58<4:36:12, 13.14s/it]"
     ]
    },
    {
     "name": "stdout",
     "output_type": "stream",
     "text": [
      "res OK E16\n"
     ]
    },
    {
     "name": "stderr",
     "output_type": "stream",
     "text": [
      " 12%|█▏        | 176/1435 [33:59<2:19:08,  6.63s/it]"
     ]
    },
    {
     "name": "stdout",
     "output_type": "stream",
     "text": [
      "res OK E16.2\n",
      "res OK E14\n"
     ]
    },
    {
     "name": "stderr",
     "output_type": "stream",
     "text": [
      "\r",
      " 12%|█▏        | 177/1435 [34:00<1:40:40,  4.80s/it]"
     ]
    },
    {
     "name": "stdout",
     "output_type": "stream",
     "text": [
      "res empty\n"
     ]
    },
    {
     "name": "stderr",
     "output_type": "stream",
     "text": [
      "\r",
      " 12%|█▏        | 178/1435 [34:00<1:13:16,  3.50s/it]"
     ]
    },
    {
     "name": "stdout",
     "output_type": "stream",
     "text": [
      "res empty\n"
     ]
    },
    {
     "name": "stderr",
     "output_type": "stream",
     "text": [
      "\r",
      " 12%|█▏        | 179/1435 [34:04<1:18:27,  3.75s/it]"
     ]
    },
    {
     "name": "stdout",
     "output_type": "stream",
     "text": [
      "res OK E21\n"
     ]
    },
    {
     "name": "stderr",
     "output_type": "stream",
     "text": [
      "\r",
      " 13%|█▎        | 180/1435 [34:09<1:20:49,  3.86s/it]"
     ]
    },
    {
     "name": "stdout",
     "output_type": "stream",
     "text": [
      "res OK E27\n"
     ]
    },
    {
     "name": "stderr",
     "output_type": "stream",
     "text": [
      "\r",
      " 13%|█▎        | 181/1435 [34:25<2:41:57,  7.75s/it]"
     ]
    },
    {
     "name": "stdout",
     "output_type": "stream",
     "text": [
      "res OK D69\n"
     ]
    },
    {
     "name": "stderr",
     "output_type": "stream",
     "text": [
      "\r",
      " 13%|█▎        | 182/1435 [34:31<2:28:56,  7.13s/it]"
     ]
    },
    {
     "name": "stdout",
     "output_type": "stream",
     "text": [
      "res OK D69.6\n"
     ]
    },
    {
     "name": "stderr",
     "output_type": "stream",
     "text": [
      "\r",
      " 13%|█▎        | 183/1435 [34:32<1:47:15,  5.14s/it]"
     ]
    },
    {
     "name": "stdout",
     "output_type": "stream",
     "text": [
      "res empty\n"
     ]
    },
    {
     "name": "stderr",
     "output_type": "stream",
     "text": [
      "\r",
      " 13%|█▎        | 184/1435 [34:57<3:50:54, 11.07s/it]"
     ]
    },
    {
     "name": "stdout",
     "output_type": "stream",
     "text": [
      "res OK E53\n"
     ]
    },
    {
     "name": "stderr",
     "output_type": "stream",
     "text": [
      "\r",
      " 13%|█▎        | 185/1435 [35:05<3:36:50, 10.41s/it]"
     ]
    },
    {
     "name": "stdout",
     "output_type": "stream",
     "text": [
      "res OK E53.8\n"
     ]
    },
    {
     "name": "stderr",
     "output_type": "stream",
     "text": [
      "\r",
      " 13%|█▎        | 186/1435 [35:21<4:08:13, 11.92s/it]"
     ]
    },
    {
     "name": "stdout",
     "output_type": "stream",
     "text": [
      "res OK E55\n"
     ]
    },
    {
     "name": "stderr",
     "output_type": "stream",
     "text": [
      "\r",
      " 13%|█▎        | 187/1435 [36:18<8:53:23, 25.64s/it]"
     ]
    },
    {
     "name": "stdout",
     "output_type": "stream",
     "text": [
      "res OK E55.9\n"
     ]
    },
    {
     "name": "stderr",
     "output_type": "stream",
     "text": [
      "\r",
      " 13%|█▎        | 188/1435 [36:34<7:50:45, 22.65s/it]"
     ]
    },
    {
     "name": "stdout",
     "output_type": "stream",
     "text": [
      "res OK E66\n"
     ]
    },
    {
     "name": "stderr",
     "output_type": "stream",
     "text": [
      "\r",
      " 13%|█▎        | 189/1435 [36:35<5:31:59, 15.99s/it]"
     ]
    },
    {
     "name": "stdout",
     "output_type": "stream",
     "text": [
      "res empty\n"
     ]
    },
    {
     "name": "stderr",
     "output_type": "stream",
     "text": [
      "\r",
      " 13%|█▎        | 190/1435 [36:53<5:46:43, 16.71s/it]"
     ]
    },
    {
     "name": "stdout",
     "output_type": "stream",
     "text": [
      "res OK E66.8\n"
     ]
    },
    {
     "name": "stderr",
     "output_type": "stream",
     "text": [
      "\r",
      " 13%|█▎        | 191/1435 [37:32<8:07:04, 23.49s/it]"
     ]
    },
    {
     "name": "stdout",
     "output_type": "stream",
     "text": [
      "res OK E66.9\n"
     ]
    },
    {
     "name": "stderr",
     "output_type": "stream",
     "text": [
      "\r",
      " 13%|█▎        | 192/1435 [37:53<7:51:47, 22.77s/it]"
     ]
    },
    {
     "name": "stdout",
     "output_type": "stream",
     "text": [
      "res OK E83\n"
     ]
    },
    {
     "name": "stderr",
     "output_type": "stream",
     "text": [
      "\r",
      " 13%|█▎        | 193/1435 [37:55<5:41:36, 16.50s/it]"
     ]
    },
    {
     "name": "stdout",
     "output_type": "stream",
     "text": [
      "res OK E78\n"
     ]
    },
    {
     "name": "stderr",
     "output_type": "stream",
     "text": [
      " 14%|█▎        | 195/1435 [37:59<3:01:41,  8.79s/it]"
     ]
    },
    {
     "name": "stdout",
     "output_type": "stream",
     "text": [
      "res OK E83.4\n",
      "res OK E78.5\n"
     ]
    },
    {
     "name": "stderr",
     "output_type": "stream",
     "text": [
      "\r",
      " 14%|█▎        | 196/1435 [38:03<2:37:11,  7.61s/it]"
     ]
    },
    {
     "name": "stdout",
     "output_type": "stream",
     "text": [
      "res OK E83.5\n"
     ]
    },
    {
     "name": "stderr",
     "output_type": "stream",
     "text": [
      "\r",
      " 14%|█▎        | 197/1435 [38:05<1:58:57,  5.77s/it]"
     ]
    },
    {
     "name": "stdout",
     "output_type": "stream",
     "text": [
      "res OK E78.0\n"
     ]
    },
    {
     "name": "stderr",
     "output_type": "stream",
     "text": [
      "\r",
      " 14%|█▍        | 198/1435 [38:06<1:29:05,  4.32s/it]"
     ]
    },
    {
     "name": "stdout",
     "output_type": "stream",
     "text": [
      "res OK E86\n"
     ]
    },
    {
     "name": "stderr",
     "output_type": "stream",
     "text": [
      "\r",
      " 14%|█▍        | 199/1435 [38:23<2:47:05,  8.11s/it]"
     ]
    },
    {
     "name": "stdout",
     "output_type": "stream",
     "text": [
      "res OK E87\n"
     ]
    },
    {
     "name": "stderr",
     "output_type": "stream",
     "text": [
      "\r",
      " 14%|█▍        | 200/1435 [38:28<2:25:56,  7.09s/it]"
     ]
    },
    {
     "name": "stdout",
     "output_type": "stream",
     "text": [
      "res OK E87.1\n"
     ]
    },
    {
     "name": "stderr",
     "output_type": "stream",
     "text": [
      "\r",
      " 14%|█▍        | 201/1435 [38:41<3:07:00,  9.09s/it]"
     ]
    },
    {
     "name": "stdout",
     "output_type": "stream",
     "text": [
      "res OK E87.2\n"
     ]
    },
    {
     "name": "stderr",
     "output_type": "stream",
     "text": [
      "\r",
      " 14%|█▍        | 202/1435 [38:56<3:41:42, 10.79s/it]"
     ]
    },
    {
     "name": "stdout",
     "output_type": "stream",
     "text": [
      "res OK E87.5\n",
      "res OK E87.6\n"
     ]
    },
    {
     "name": "stderr",
     "output_type": "stream",
     "text": [
      " 14%|█▍        | 204/1435 [40:15<9:02:44, 26.45s/it]"
     ]
    },
    {
     "name": "stdout",
     "output_type": "stream",
     "text": [
      "res OK E87.7\n"
     ]
    },
    {
     "name": "stderr",
     "output_type": "stream",
     "text": [
      "\r",
      " 14%|█▍        | 205/1435 [40:16<6:22:24, 18.65s/it]"
     ]
    },
    {
     "name": "stdout",
     "output_type": "stream",
     "text": [
      "res empty\n"
     ]
    },
    {
     "name": "stderr",
     "output_type": "stream",
     "text": [
      "\r",
      " 14%|█▍        | 206/1435 [40:36<6:30:01, 19.04s/it]"
     ]
    },
    {
     "name": "stdout",
     "output_type": "stream",
     "text": [
      "res OK E89\n"
     ]
    },
    {
     "name": "stderr",
     "output_type": "stream",
     "text": [
      "\r",
      " 14%|█▍        | 207/1435 [40:39<4:54:26, 14.39s/it]"
     ]
    },
    {
     "name": "stdout",
     "output_type": "stream",
     "text": [
      "res OK E89.0\n"
     ]
    },
    {
     "name": "stderr",
     "output_type": "stream",
     "text": [
      "\r",
      " 14%|█▍        | 208/1435 [41:23<7:55:52, 23.27s/it]"
     ]
    },
    {
     "name": "stdout",
     "output_type": "stream",
     "text": [
      "res OK F00\n"
     ]
    },
    {
     "name": "stderr",
     "output_type": "stream",
     "text": [
      "\r",
      " 15%|█▍        | 209/1435 [41:42<7:28:31, 21.95s/it]"
     ]
    },
    {
     "name": "stdout",
     "output_type": "stream",
     "text": [
      "res OK F00.9\n"
     ]
    },
    {
     "name": "stderr",
     "output_type": "stream",
     "text": [
      "\r",
      " 15%|█▍        | 210/1435 [41:49<5:57:00, 17.49s/it]"
     ]
    },
    {
     "name": "stdout",
     "output_type": "stream",
     "text": [
      "res OK F01\n"
     ]
    },
    {
     "name": "stderr",
     "output_type": "stream",
     "text": [
      "\r",
      " 15%|█▍        | 211/1435 [41:56<4:52:33, 14.34s/it]"
     ]
    },
    {
     "name": "stdout",
     "output_type": "stream",
     "text": [
      "res OK F03\n"
     ]
    },
    {
     "name": "stderr",
     "output_type": "stream",
     "text": [
      "\r",
      " 15%|█▍        | 212/1435 [42:00<3:44:10, 11.00s/it]"
     ]
    },
    {
     "name": "stdout",
     "output_type": "stream",
     "text": [
      "res OK F01.9\n"
     ]
    },
    {
     "name": "stderr",
     "output_type": "stream",
     "text": [
      "\r",
      " 15%|█▍        | 213/1435 [42:01<2:48:32,  8.28s/it]"
     ]
    },
    {
     "name": "stdout",
     "output_type": "stream",
     "text": [
      "res OK F10.0\n"
     ]
    },
    {
     "name": "stderr",
     "output_type": "stream",
     "text": [
      "\r",
      " 15%|█▍        | 214/1435 [42:02<2:02:51,  6.04s/it]"
     ]
    },
    {
     "name": "stdout",
     "output_type": "stream",
     "text": [
      "res OK F05\n"
     ]
    },
    {
     "name": "stderr",
     "output_type": "stream",
     "text": [
      "\r",
      " 15%|█▍        | 215/1435 [42:07<1:57:14,  5.77s/it]"
     ]
    },
    {
     "name": "stdout",
     "output_type": "stream",
     "text": [
      "res OK F05.9\n"
     ]
    },
    {
     "name": "stderr",
     "output_type": "stream",
     "text": [
      "\r",
      " 15%|█▌        | 216/1435 [42:08<1:26:08,  4.24s/it]"
     ]
    },
    {
     "name": "stdout",
     "output_type": "stream",
     "text": [
      "res empty\n"
     ]
    },
    {
     "name": "stderr",
     "output_type": "stream",
     "text": [
      "\r",
      " 15%|█▌        | 217/1435 [42:19<2:06:25,  6.23s/it]"
     ]
    },
    {
     "name": "stdout",
     "output_type": "stream",
     "text": [
      "res OK F10.1\n"
     ]
    },
    {
     "name": "stderr",
     "output_type": "stream",
     "text": [
      "\r",
      " 15%|█▌        | 218/1435 [42:25<2:03:57,  6.11s/it]"
     ]
    },
    {
     "name": "stdout",
     "output_type": "stream",
     "text": [
      "res OK F10.2\n"
     ]
    },
    {
     "name": "stderr",
     "output_type": "stream",
     "text": [
      "\r",
      " 15%|█▌        | 219/1435 [42:25<1:29:29,  4.42s/it]"
     ]
    },
    {
     "name": "stdout",
     "output_type": "stream",
     "text": [
      "res empty\n"
     ]
    },
    {
     "name": "stderr",
     "output_type": "stream",
     "text": [
      "\r",
      " 15%|█▌        | 220/1435 [42:29<1:28:21,  4.36s/it]"
     ]
    },
    {
     "name": "stdout",
     "output_type": "stream",
     "text": [
      "res OK F10.3\n"
     ]
    },
    {
     "name": "stderr",
     "output_type": "stream",
     "text": [
      "\r",
      " 15%|█▌        | 221/1435 [42:51<3:09:29,  9.37s/it]"
     ]
    },
    {
     "name": "stdout",
     "output_type": "stream",
     "text": [
      "res OK F17\n"
     ]
    },
    {
     "name": "stderr",
     "output_type": "stream",
     "text": [
      "\r",
      " 15%|█▌        | 222/1435 [43:09<4:02:21, 11.99s/it]"
     ]
    },
    {
     "name": "stdout",
     "output_type": "stream",
     "text": [
      "res OK F17.1\n"
     ]
    },
    {
     "name": "stderr",
     "output_type": "stream",
     "text": [
      "\r",
      " 16%|█▌        | 223/1435 [44:14<9:25:02, 27.97s/it]"
     ]
    },
    {
     "name": "stdout",
     "output_type": "stream",
     "text": [
      "res OK F31\n"
     ]
    },
    {
     "name": "stderr",
     "output_type": "stream",
     "text": [
      "\r",
      " 16%|█▌        | 224/1435 [44:32<8:23:12, 24.93s/it]"
     ]
    },
    {
     "name": "stdout",
     "output_type": "stream",
     "text": [
      "res OK F31.9\n"
     ]
    },
    {
     "name": "stderr",
     "output_type": "stream",
     "text": [
      "\r",
      " 16%|█▌        | 225/1435 [44:36<6:16:37, 18.68s/it]"
     ]
    },
    {
     "name": "stdout",
     "output_type": "stream",
     "text": [
      "res OK F32.9\n"
     ]
    },
    {
     "name": "stderr",
     "output_type": "stream",
     "text": [
      "\r",
      " 16%|█▌        | 226/1435 [45:15<8:21:38, 24.90s/it]"
     ]
    },
    {
     "name": "stdout",
     "output_type": "stream",
     "text": [
      "res OK F33\n"
     ]
    },
    {
     "name": "stderr",
     "output_type": "stream",
     "text": [
      "\r",
      " 16%|█▌        | 227/1435 [45:36<7:54:26, 23.56s/it]"
     ]
    },
    {
     "name": "stdout",
     "output_type": "stream",
     "text": [
      "res OK F40\n"
     ]
    },
    {
     "name": "stderr",
     "output_type": "stream",
     "text": [
      "\r",
      " 16%|█▌        | 228/1435 [45:36<5:34:26, 16.62s/it]"
     ]
    },
    {
     "name": "stdout",
     "output_type": "stream",
     "text": [
      "res empty\n"
     ]
    },
    {
     "name": "stderr",
     "output_type": "stream",
     "text": [
      "\r",
      " 16%|█▌        | 229/1435 [45:44<4:39:15, 13.89s/it]"
     ]
    },
    {
     "name": "stdout",
     "output_type": "stream",
     "text": [
      "res OK F40.2\n"
     ]
    },
    {
     "name": "stderr",
     "output_type": "stream",
     "text": [
      " 16%|█▌        | 231/1435 [45:57<3:15:12,  9.73s/it]"
     ]
    },
    {
     "name": "stdout",
     "output_type": "stream",
     "text": [
      "res OK F41.0\n",
      "res OK F41.2\n"
     ]
    },
    {
     "name": "stderr",
     "output_type": "stream",
     "text": [
      "\r",
      " 16%|█▌        | 232/1435 [45:58<2:19:49,  6.97s/it]"
     ]
    },
    {
     "name": "stdout",
     "output_type": "stream",
     "text": [
      "res OK F41\n"
     ]
    },
    {
     "name": "stderr",
     "output_type": "stream",
     "text": [
      "\r",
      " 16%|█▌        | 233/1435 [46:02<2:03:31,  6.17s/it]"
     ]
    },
    {
     "name": "stdout",
     "output_type": "stream",
     "text": [
      "res OK F41.9\n"
     ]
    },
    {
     "name": "stderr",
     "output_type": "stream",
     "text": [
      "\r",
      " 16%|█▋        | 234/1435 [46:03<1:29:44,  4.48s/it]"
     ]
    },
    {
     "name": "stdout",
     "output_type": "stream",
     "text": [
      "res empty\n",
      "res OK G20\n"
     ]
    },
    {
     "name": "stderr",
     "output_type": "stream",
     "text": [
      "\r",
      " 16%|█▋        | 235/1435 [46:22<2:59:08,  8.96s/it]"
     ]
    },
    {
     "name": "stdout",
     "output_type": "stream",
     "text": [
      "res OK G30.9\n",
      "res OK G25\n",
      "res OK G30\n",
      "res empty\n"
     ]
    },
    {
     "name": "stderr",
     "output_type": "stream",
     "text": [
      "\r",
      " 17%|█▋        | 240/1435 [46:42<1:50:28,  5.55s/it]"
     ]
    },
    {
     "name": "stdout",
     "output_type": "stream",
     "text": [
      "res OK G31\n"
     ]
    },
    {
     "name": "stderr",
     "output_type": "stream",
     "text": [
      "\r",
      " 17%|█▋        | 241/1435 [46:59<2:27:12,  7.40s/it]"
     ]
    },
    {
     "name": "stdout",
     "output_type": "stream",
     "text": [
      "res OK G31.9\n"
     ]
    },
    {
     "name": "stderr",
     "output_type": "stream",
     "text": [
      "\r",
      " 17%|█▋        | 242/1435 [48:13<6:39:15, 20.08s/it]"
     ]
    },
    {
     "name": "stdout",
     "output_type": "stream",
     "text": [
      "res OK G35\n"
     ]
    },
    {
     "name": "stderr",
     "output_type": "stream",
     "text": [
      "\r",
      " 17%|█▋        | 243/1435 [48:24<5:58:18, 18.04s/it]"
     ]
    },
    {
     "name": "stdout",
     "output_type": "stream",
     "text": [
      "res OK G43\n"
     ]
    },
    {
     "name": "stderr",
     "output_type": "stream",
     "text": [
      "\r",
      " 17%|█▋        | 244/1435 [48:31<5:06:44, 15.45s/it]"
     ]
    },
    {
     "name": "stdout",
     "output_type": "stream",
     "text": [
      "res OK G40.9\n"
     ]
    },
    {
     "name": "stderr",
     "output_type": "stream",
     "text": [
      "\r",
      " 17%|█▋        | 245/1435 [49:08<6:55:47, 20.96s/it]"
     ]
    },
    {
     "name": "stdout",
     "output_type": "stream",
     "text": [
      "res OK G43.9\n"
     ]
    },
    {
     "name": "stderr",
     "output_type": "stream",
     "text": [
      "\r",
      " 17%|█▋        | 246/1435 [49:25<6:32:51, 19.82s/it]"
     ]
    },
    {
     "name": "stdout",
     "output_type": "stream",
     "text": [
      "res OK G45\n"
     ]
    },
    {
     "name": "stderr",
     "output_type": "stream",
     "text": [
      "\r",
      " 17%|█▋        | 247/1435 [49:25<4:47:13, 14.51s/it]"
     ]
    },
    {
     "name": "stdout",
     "output_type": "stream",
     "text": [
      "res empty\n"
     ]
    },
    {
     "name": "stderr",
     "output_type": "stream",
     "text": [
      "\r",
      " 17%|█▋        | 248/1435 [49:26<3:29:28, 10.59s/it]"
     ]
    },
    {
     "name": "stdout",
     "output_type": "stream",
     "text": [
      "res empty\n"
     ]
    },
    {
     "name": "stderr",
     "output_type": "stream",
     "text": [
      "\r",
      " 17%|█▋        | 249/1435 [49:43<4:03:31, 12.32s/it]"
     ]
    },
    {
     "name": "stdout",
     "output_type": "stream",
     "text": [
      "res OK G45.9\n"
     ]
    },
    {
     "name": "stderr",
     "output_type": "stream",
     "text": [
      "\r",
      " 17%|█▋        | 250/1435 [49:54<4:00:15, 12.16s/it]"
     ]
    },
    {
     "name": "stdout",
     "output_type": "stream",
     "text": [
      "res OK G47.9\n"
     ]
    },
    {
     "name": "stderr",
     "output_type": "stream",
     "text": [
      "\r",
      " 17%|█▋        | 251/1435 [49:55<2:52:05,  8.72s/it]"
     ]
    },
    {
     "name": "stdout",
     "output_type": "stream",
     "text": [
      "res empty\n"
     ]
    },
    {
     "name": "stderr",
     "output_type": "stream",
     "text": [
      "\r",
      " 18%|█▊        | 252/1435 [49:57<2:13:18,  6.76s/it]"
     ]
    },
    {
     "name": "stdout",
     "output_type": "stream",
     "text": [
      "res OK G47.3\n"
     ]
    },
    {
     "name": "stderr",
     "output_type": "stream",
     "text": [
      "\r",
      " 18%|█▊        | 253/1435 [49:57<1:36:12,  4.88s/it]"
     ]
    },
    {
     "name": "stdout",
     "output_type": "stream",
     "text": [
      "res empty\n"
     ]
    },
    {
     "name": "stderr",
     "output_type": "stream",
     "text": [
      "\r",
      " 18%|█▊        | 254/1435 [49:59<1:17:56,  3.96s/it]"
     ]
    },
    {
     "name": "stdout",
     "output_type": "stream",
     "text": [
      "res OK G51\n"
     ]
    },
    {
     "name": "stderr",
     "output_type": "stream",
     "text": [
      "\r",
      " 18%|█▊        | 255/1435 [50:00<1:02:03,  3.16s/it]"
     ]
    },
    {
     "name": "stdout",
     "output_type": "stream",
     "text": [
      "res OK G47\n"
     ]
    },
    {
     "name": "stderr",
     "output_type": "stream",
     "text": [
      "\r",
      " 18%|█▊        | 256/1435 [50:04<1:06:01,  3.36s/it]"
     ]
    },
    {
     "name": "stdout",
     "output_type": "stream",
     "text": [
      "res OK G55\n"
     ]
    },
    {
     "name": "stderr",
     "output_type": "stream",
     "text": [
      "\r",
      " 18%|█▊        | 257/1435 [50:07<1:04:31,  3.29s/it]"
     ]
    },
    {
     "name": "stdout",
     "output_type": "stream",
     "text": [
      "res OK G51.0\n"
     ]
    },
    {
     "name": "stderr",
     "output_type": "stream",
     "text": [
      "\r",
      " 18%|█▊        | 258/1435 [50:11<1:06:59,  3.41s/it]"
     ]
    },
    {
     "name": "stdout",
     "output_type": "stream",
     "text": [
      "res OK G55.1\n"
     ]
    },
    {
     "name": "stderr",
     "output_type": "stream",
     "text": [
      "\r",
      " 18%|█▊        | 259/1435 [50:21<1:47:45,  5.50s/it]"
     ]
    },
    {
     "name": "stdout",
     "output_type": "stream",
     "text": [
      "res OK G56\n"
     ]
    },
    {
     "name": "stderr",
     "output_type": "stream",
     "text": [
      "\r",
      " 18%|█▊        | 260/1435 [50:22<1:17:38,  3.96s/it]"
     ]
    },
    {
     "name": "stdout",
     "output_type": "stream",
     "text": [
      "res empty\n"
     ]
    },
    {
     "name": "stderr",
     "output_type": "stream",
     "text": [
      "\r",
      " 18%|█▊        | 261/1435 [50:42<2:54:02,  8.89s/it]"
     ]
    },
    {
     "name": "stdout",
     "output_type": "stream",
     "text": [
      "res OK G56.0\n"
     ]
    },
    {
     "name": "stderr",
     "output_type": "stream",
     "text": [
      "\r",
      " 18%|█▊        | 262/1435 [50:50<2:50:22,  8.71s/it]"
     ]
    },
    {
     "name": "stdout",
     "output_type": "stream",
     "text": [
      "res OK G56.2\n"
     ]
    },
    {
     "name": "stderr",
     "output_type": "stream",
     "text": [
      "\r",
      " 18%|█▊        | 263/1435 [50:51<2:02:47,  6.29s/it]"
     ]
    },
    {
     "name": "stdout",
     "output_type": "stream",
     "text": [
      "res empty\n"
     ]
    },
    {
     "name": "stderr",
     "output_type": "stream",
     "text": [
      "\r",
      " 18%|█▊        | 264/1435 [52:11<9:14:23, 28.41s/it]"
     ]
    },
    {
     "name": "stdout",
     "output_type": "stream",
     "text": [
      "res OK G57\n"
     ]
    },
    {
     "name": "stderr",
     "output_type": "stream",
     "text": [
      "\r",
      " 18%|█▊        | 265/1435 [52:17<7:00:07, 21.54s/it]"
     ]
    },
    {
     "name": "stdout",
     "output_type": "stream",
     "text": [
      "res OK G57.6\n"
     ]
    },
    {
     "name": "stderr",
     "output_type": "stream",
     "text": [
      "\r",
      " 19%|█▊        | 266/1435 [52:17<4:56:23, 15.21s/it]"
     ]
    },
    {
     "name": "stdout",
     "output_type": "stream",
     "text": [
      "res empty\n"
     ]
    },
    {
     "name": "stderr",
     "output_type": "stream",
     "text": [
      "\r",
      " 19%|█▊        | 267/1435 [52:32<4:54:22, 15.12s/it]"
     ]
    },
    {
     "name": "stdout",
     "output_type": "stream",
     "text": [
      "res OK G62\n"
     ]
    },
    {
     "name": "stderr",
     "output_type": "stream",
     "text": [
      "\r",
      " 19%|█▊        | 268/1435 [53:04<6:34:12, 20.27s/it]"
     ]
    },
    {
     "name": "stdout",
     "output_type": "stream",
     "text": [
      "res OK G62.9\n"
     ]
    },
    {
     "name": "stderr",
     "output_type": "stream",
     "text": [
      "\r",
      " 19%|█▊        | 269/1435 [53:15<5:40:40, 17.53s/it]"
     ]
    },
    {
     "name": "stdout",
     "output_type": "stream",
     "text": [
      "res OK G81\n"
     ]
    },
    {
     "name": "stderr",
     "output_type": "stream",
     "text": [
      "\r",
      " 19%|█▉        | 270/1435 [53:37<6:04:34, 18.78s/it]"
     ]
    },
    {
     "name": "stdout",
     "output_type": "stream",
     "text": [
      "res OK G81.9\n"
     ]
    },
    {
     "name": "stderr",
     "output_type": "stream",
     "text": [
      "\r",
      " 19%|█▉        | 271/1435 [53:53<5:47:31, 17.91s/it]"
     ]
    },
    {
     "name": "stdout",
     "output_type": "stream",
     "text": [
      "res OK H00\n"
     ]
    },
    {
     "name": "stderr",
     "output_type": "stream",
     "text": [
      "\r",
      " 19%|█▉        | 272/1435 [53:56<4:18:51, 13.35s/it]"
     ]
    },
    {
     "name": "stdout",
     "output_type": "stream",
     "text": [
      "res OK G95\n"
     ]
    },
    {
     "name": "stderr",
     "output_type": "stream",
     "text": [
      "\r",
      " 19%|█▉        | 273/1435 [53:56<3:03:35,  9.48s/it]"
     ]
    },
    {
     "name": "stdout",
     "output_type": "stream",
     "text": [
      "res empty\n"
     ]
    },
    {
     "name": "stderr",
     "output_type": "stream",
     "text": [
      "\r",
      " 19%|█▉        | 274/1435 [53:57<2:11:10,  6.78s/it]"
     ]
    },
    {
     "name": "stdout",
     "output_type": "stream",
     "text": [
      "res empty\n"
     ]
    },
    {
     "name": "stderr",
     "output_type": "stream",
     "text": [
      "\r",
      " 19%|█▉        | 275/1435 [53:57<1:34:27,  4.89s/it]"
     ]
    },
    {
     "name": "stdout",
     "output_type": "stream",
     "text": [
      "res OK G99\n",
      "res OK G93\n"
     ]
    },
    {
     "name": "stderr",
     "output_type": "stream",
     "text": [
      "\r",
      " 19%|█▉        | 277/1435 [53:58<55:21,  2.87s/it]  "
     ]
    },
    {
     "name": "stdout",
     "output_type": "stream",
     "text": [
      "res OK G99.2\n"
     ]
    },
    {
     "name": "stderr",
     "output_type": "stream",
     "text": [
      "\r",
      " 19%|█▉        | 278/1435 [54:04<1:09:19,  3.59s/it]"
     ]
    },
    {
     "name": "stdout",
     "output_type": "stream",
     "text": [
      "res OK H01\n"
     ]
    },
    {
     "name": "stderr",
     "output_type": "stream",
     "text": [
      "\r",
      " 19%|█▉        | 279/1435 [54:06<1:00:41,  3.15s/it]"
     ]
    },
    {
     "name": "stdout",
     "output_type": "stream",
     "text": [
      "res OK H00.1\n"
     ]
    },
    {
     "name": "stderr",
     "output_type": "stream",
     "text": [
      "\r",
      " 20%|█▉        | 280/1435 [54:21<2:05:12,  6.50s/it]"
     ]
    },
    {
     "name": "stdout",
     "output_type": "stream",
     "text": [
      "res OK H02\n"
     ]
    },
    {
     "name": "stderr",
     "output_type": "stream",
     "text": [
      "\r",
      " 20%|█▉        | 281/1435 [54:34<2:37:31,  8.19s/it]"
     ]
    },
    {
     "name": "stdout",
     "output_type": "stream",
     "text": [
      "res OK H02.0\n"
     ]
    },
    {
     "name": "stderr",
     "output_type": "stream",
     "text": [
      "\r",
      " 20%|█▉        | 282/1435 [54:42<2:37:39,  8.20s/it]"
     ]
    },
    {
     "name": "stdout",
     "output_type": "stream",
     "text": [
      "res OK H02.4\n"
     ]
    },
    {
     "name": "stderr",
     "output_type": "stream",
     "text": [
      "\r",
      " 20%|█▉        | 283/1435 [56:10<9:58:43, 31.18s/it]"
     ]
    },
    {
     "name": "stdout",
     "output_type": "stream",
     "text": [
      "res OK H04\n"
     ]
    },
    {
     "name": "stderr",
     "output_type": "stream",
     "text": [
      "\r",
      " 20%|█▉        | 284/1435 [56:11<7:08:43, 22.35s/it]"
     ]
    },
    {
     "name": "stdout",
     "output_type": "stream",
     "text": [
      "res OK H02.8\n"
     ]
    },
    {
     "name": "stderr",
     "output_type": "stream",
     "text": [
      "\r",
      " 20%|█▉        | 285/1435 [56:33<7:07:09, 22.29s/it]"
     ]
    },
    {
     "name": "stdout",
     "output_type": "stream",
     "text": [
      "res OK H04.1\n"
     ]
    },
    {
     "name": "stderr",
     "output_type": "stream",
     "text": [
      "\r",
      " 20%|█▉        | 286/1435 [56:56<7:15:17, 22.73s/it]"
     ]
    },
    {
     "name": "stdout",
     "output_type": "stream",
     "text": [
      "res OK H04.2\n"
     ]
    },
    {
     "name": "stderr",
     "output_type": "stream",
     "text": [
      "\r",
      " 20%|██        | 287/1435 [57:06<6:01:50, 18.91s/it]"
     ]
    },
    {
     "name": "stdout",
     "output_type": "stream",
     "text": [
      "res OK H04.5\n"
     ]
    },
    {
     "name": "stderr",
     "output_type": "stream",
     "text": [
      "\r",
      " 20%|██        | 288/1435 [57:34<6:51:36, 21.53s/it]"
     ]
    },
    {
     "name": "stdout",
     "output_type": "stream",
     "text": [
      "res OK H11\n"
     ]
    },
    {
     "name": "stderr",
     "output_type": "stream",
     "text": [
      "\r",
      " 20%|██        | 289/1435 [57:34<4:49:56, 15.18s/it]"
     ]
    },
    {
     "name": "stdout",
     "output_type": "stream",
     "text": [
      "res OK H18\n"
     ]
    },
    {
     "name": "stderr",
     "output_type": "stream",
     "text": [
      "\r",
      " 20%|██        | 290/1435 [57:35<3:25:58, 10.79s/it]"
     ]
    },
    {
     "name": "stdout",
     "output_type": "stream",
     "text": [
      "res empty\n"
     ]
    },
    {
     "name": "stderr",
     "output_type": "stream",
     "text": [
      "\r",
      " 20%|██        | 291/1435 [57:54<4:11:03, 13.17s/it]"
     ]
    },
    {
     "name": "stdout",
     "output_type": "stream",
     "text": [
      "res OK H25.0\n"
     ]
    },
    {
     "name": "stderr",
     "output_type": "stream",
     "text": [
      "\r",
      " 20%|██        | 292/1435 [57:57<3:13:09, 10.14s/it]"
     ]
    },
    {
     "name": "stdout",
     "output_type": "stream",
     "text": [
      "res OK H25.9\n"
     ]
    },
    {
     "name": "stderr",
     "output_type": "stream",
     "text": [
      "\r",
      " 20%|██        | 293/1435 [57:57<2:18:23,  7.27s/it]"
     ]
    },
    {
     "name": "stdout",
     "output_type": "stream",
     "text": [
      "res OK H25.1\n"
     ]
    },
    {
     "name": "stderr",
     "output_type": "stream",
     "text": [
      "\r",
      " 20%|██        | 294/1435 [57:57<1:38:05,  5.16s/it]"
     ]
    },
    {
     "name": "stdout",
     "output_type": "stream",
     "text": [
      "res OK H25\n"
     ]
    },
    {
     "name": "stderr",
     "output_type": "stream",
     "text": [
      "\r",
      " 21%|██        | 295/1435 [58:00<1:21:40,  4.30s/it]"
     ]
    },
    {
     "name": "stdout",
     "output_type": "stream",
     "text": [
      "res OK H25.8\n"
     ]
    },
    {
     "name": "stderr",
     "output_type": "stream",
     "text": [
      "\r",
      " 21%|██        | 296/1435 [58:10<1:56:26,  6.13s/it]"
     ]
    },
    {
     "name": "stdout",
     "output_type": "stream",
     "text": [
      "res OK H26\n"
     ]
    },
    {
     "name": "stderr",
     "output_type": "stream",
     "text": [
      "\r",
      " 21%|██        | 297/1435 [58:17<2:02:58,  6.48s/it]"
     ]
    },
    {
     "name": "stdout",
     "output_type": "stream",
     "text": [
      "res OK H26.4\n"
     ]
    },
    {
     "name": "stderr",
     "output_type": "stream",
     "text": [
      "\r",
      " 21%|██        | 298/1435 [58:27<2:20:43,  7.43s/it]"
     ]
    },
    {
     "name": "stdout",
     "output_type": "stream",
     "text": [
      "res OK H26.8\n"
     ]
    },
    {
     "name": "stderr",
     "output_type": "stream",
     "text": [
      "\r",
      " 21%|██        | 299/1435 [58:42<3:01:43,  9.60s/it]"
     ]
    },
    {
     "name": "stdout",
     "output_type": "stream",
     "text": [
      "res OK H26.9\n"
     ]
    },
    {
     "name": "stderr",
     "output_type": "stream",
     "text": [
      "\r",
      " 21%|██        | 300/1435 [59:58<9:21:32, 29.69s/it]"
     ]
    },
    {
     "name": "stdout",
     "output_type": "stream",
     "text": [
      "res OK H33\n"
     ]
    },
    {
     "name": "stderr",
     "output_type": "stream",
     "text": [
      "\r",
      " 21%|██        | 301/1435 [1:00:07<7:23:57, 23.49s/it]"
     ]
    },
    {
     "name": "stdout",
     "output_type": "stream",
     "text": [
      "res OK H33.0\n"
     ]
    },
    {
     "name": "stderr",
     "output_type": "stream",
     "text": [
      "\r",
      " 21%|██        | 302/1435 [1:00:29<7:12:42, 22.91s/it]"
     ]
    },
    {
     "name": "stdout",
     "output_type": "stream",
     "text": [
      "res OK H33.2\n"
     ]
    },
    {
     "name": "stderr",
     "output_type": "stream",
     "text": [
      "\r",
      " 21%|██        | 303/1435 [1:00:48<6:53:14, 21.90s/it]"
     ]
    },
    {
     "name": "stdout",
     "output_type": "stream",
     "text": [
      "res OK H33.3\n"
     ]
    },
    {
     "name": "stderr",
     "output_type": "stream",
     "text": [
      "\r",
      " 21%|██        | 304/1435 [1:00:57<5:38:32, 17.96s/it]"
     ]
    },
    {
     "name": "stdout",
     "output_type": "stream",
     "text": [
      "res OK H34\n"
     ]
    },
    {
     "name": "stderr",
     "output_type": "stream",
     "text": [
      "\r",
      " 21%|██▏       | 305/1435 [1:01:26<6:40:58, 21.29s/it]"
     ]
    },
    {
     "name": "stdout",
     "output_type": "stream",
     "text": [
      "res OK H35\n"
     ]
    },
    {
     "name": "stderr",
     "output_type": "stream",
     "text": [
      "\r",
      " 21%|██▏       | 306/1435 [1:01:32<5:11:21, 16.55s/it]"
     ]
    },
    {
     "name": "stdout",
     "output_type": "stream",
     "text": [
      "res OK H35.3\n"
     ]
    },
    {
     "name": "stderr",
     "output_type": "stream",
     "text": [
      "\r",
      " 21%|██▏       | 307/1435 [1:01:47<5:01:09, 16.02s/it]"
     ]
    },
    {
     "name": "stdout",
     "output_type": "stream",
     "text": [
      "res OK H36\n"
     ]
    },
    {
     "name": "stderr",
     "output_type": "stream",
     "text": [
      "\r",
      " 21%|██▏       | 308/1435 [1:01:49<3:45:05, 11.98s/it]"
     ]
    },
    {
     "name": "stdout",
     "output_type": "stream",
     "text": [
      "res OK H35.8\n"
     ]
    },
    {
     "name": "stderr",
     "output_type": "stream",
     "text": [
      "\r",
      " 22%|██▏       | 309/1435 [1:01:50<2:44:30,  8.77s/it]"
     ]
    },
    {
     "name": "stdout",
     "output_type": "stream",
     "text": [
      "res OK H36.0\n"
     ]
    },
    {
     "name": "stderr",
     "output_type": "stream",
     "text": [
      "\r",
      " 22%|██▏       | 310/1435 [1:01:53<2:11:29,  7.01s/it]"
     ]
    },
    {
     "name": "stdout",
     "output_type": "stream",
     "text": [
      "res OK H40\n"
     ]
    },
    {
     "name": "stderr",
     "output_type": "stream",
     "text": [
      "\r",
      " 22%|██▏       | 311/1435 [1:01:54<1:34:09,  5.03s/it]"
     ]
    },
    {
     "name": "stdout",
     "output_type": "stream",
     "text": [
      "res empty\n"
     ]
    },
    {
     "name": "stderr",
     "output_type": "stream",
     "text": [
      "\r",
      " 22%|██▏       | 312/1435 [1:01:54<1:07:56,  3.63s/it]"
     ]
    },
    {
     "name": "stdout",
     "output_type": "stream",
     "text": [
      "res empty\n"
     ]
    },
    {
     "name": "stderr",
     "output_type": "stream",
     "text": [
      "\r",
      " 22%|██▏       | 313/1435 [1:01:54<49:36,  2.65s/it]  "
     ]
    },
    {
     "name": "stdout",
     "output_type": "stream",
     "text": [
      "res empty\n"
     ]
    },
    {
     "name": "stderr",
     "output_type": "stream",
     "text": [
      "\r",
      " 22%|██▏       | 314/1435 [1:01:56<42:17,  2.26s/it]"
     ]
    },
    {
     "name": "stdout",
     "output_type": "stream",
     "text": [
      "res OK H40.0\n",
      "res OK H40.1\n"
     ]
    },
    {
     "name": "stderr",
     "output_type": "stream",
     "text": [
      "\r",
      " 22%|██▏       | 315/1435 [1:02:21<2:49:44,  9.09s/it]"
     ]
    },
    {
     "name": "stdout",
     "output_type": "stream",
     "text": [
      "res empty\n",
      "res OK H40.2\n",
      "res empty\n"
     ]
    },
    {
     "name": "stderr",
     "output_type": "stream",
     "text": [
      "\r",
      " 22%|██▏       | 319/1435 [1:02:25<1:16:05,  4.09s/it]"
     ]
    },
    {
     "name": "stdout",
     "output_type": "stream",
     "text": [
      "res OK H40.9\n"
     ]
    },
    {
     "name": "stderr",
     "output_type": "stream",
     "text": [
      "\r",
      " 22%|██▏       | 320/1435 [1:02:26<1:03:19,  3.41s/it]"
     ]
    },
    {
     "name": "stdout",
     "output_type": "stream",
     "text": [
      "res empty\n"
     ]
    },
    {
     "name": "stderr",
     "output_type": "stream",
     "text": [
      "\r",
      " 22%|██▏       | 321/1435 [1:02:26<51:46,  2.79s/it]  "
     ]
    },
    {
     "name": "stdout",
     "output_type": "stream",
     "text": [
      "res empty\n"
     ]
    },
    {
     "name": "stderr",
     "output_type": "stream",
     "text": [
      "\r",
      " 22%|██▏       | 322/1435 [1:02:32<1:04:11,  3.46s/it]"
     ]
    },
    {
     "name": "stdout",
     "output_type": "stream",
     "text": [
      "res OK H43\n"
     ]
    },
    {
     "name": "stderr",
     "output_type": "stream",
     "text": [
      "\r",
      " 23%|██▎       | 323/1435 [1:03:50<6:44:22, 21.82s/it]"
     ]
    },
    {
     "name": "stdout",
     "output_type": "stream",
     "text": [
      "res OK H43.8\n"
     ]
    },
    {
     "name": "stderr",
     "output_type": "stream",
     "text": [
      "\r",
      " 23%|██▎       | 324/1435 [1:04:32<8:20:03, 27.01s/it]"
     ]
    },
    {
     "name": "stdout",
     "output_type": "stream",
     "text": [
      "res OK H50\n"
     ]
    },
    {
     "name": "stderr",
     "output_type": "stream",
     "text": [
      "\r",
      " 23%|██▎       | 325/1435 [1:04:35<6:19:16, 20.50s/it]"
     ]
    },
    {
     "name": "stdout",
     "output_type": "stream",
     "text": [
      "res OK H52\n"
     ]
    },
    {
     "name": "stderr",
     "output_type": "stream",
     "text": [
      "\r",
      " 23%|██▎       | 326/1435 [1:04:44<5:19:40, 17.30s/it]"
     ]
    },
    {
     "name": "stdout",
     "output_type": "stream",
     "text": [
      "res OK H52.1\n"
     ]
    },
    {
     "name": "stderr",
     "output_type": "stream",
     "text": [
      "\r",
      " 23%|██▎       | 327/1435 [1:04:50<4:19:00, 14.03s/it]"
     ]
    },
    {
     "name": "stdout",
     "output_type": "stream",
     "text": [
      "res OK H52.2\n"
     ]
    },
    {
     "name": "stderr",
     "output_type": "stream",
     "text": [
      "\r",
      " 23%|██▎       | 328/1435 [1:05:16<5:23:20, 17.53s/it]"
     ]
    },
    {
     "name": "stdout",
     "output_type": "stream",
     "text": [
      "res OK H53\n"
     ]
    },
    {
     "name": "stderr",
     "output_type": "stream",
     "text": [
      "\r",
      " 23%|██▎       | 329/1435 [1:05:16<3:50:59, 12.53s/it]"
     ]
    },
    {
     "name": "stdout",
     "output_type": "stream",
     "text": [
      "res empty\n"
     ]
    },
    {
     "name": "stderr",
     "output_type": "stream",
     "text": [
      "\r",
      " 23%|██▎       | 330/1435 [1:05:17<2:45:15,  8.97s/it]"
     ]
    },
    {
     "name": "stdout",
     "output_type": "stream",
     "text": [
      "res empty\n"
     ]
    },
    {
     "name": "stderr",
     "output_type": "stream",
     "text": [
      "\r",
      " 23%|██▎       | 331/1435 [1:05:23<2:30:02,  8.15s/it]"
     ]
    },
    {
     "name": "stdout",
     "output_type": "stream",
     "text": [
      "res OK H53.0\n"
     ]
    },
    {
     "name": "stderr",
     "output_type": "stream",
     "text": [
      "\r",
      " 23%|██▎       | 332/1435 [1:05:38<3:08:13, 10.24s/it]"
     ]
    },
    {
     "name": "stdout",
     "output_type": "stream",
     "text": [
      "res OK H53.2\n"
     ]
    },
    {
     "name": "stderr",
     "output_type": "stream",
     "text": [
      "\r",
      " 23%|██▎       | 333/1435 [1:05:41<2:27:03,  8.01s/it]"
     ]
    },
    {
     "name": "stdout",
     "output_type": "stream",
     "text": [
      "res OK H54\n"
     ]
    },
    {
     "name": "stderr",
     "output_type": "stream",
     "text": [
      "\r",
      " 23%|██▎       | 334/1435 [1:05:46<2:13:07,  7.25s/it]"
     ]
    },
    {
     "name": "stdout",
     "output_type": "stream",
     "text": [
      "res OK H53.8\n"
     ]
    },
    {
     "name": "stderr",
     "output_type": "stream",
     "text": [
      "\r",
      " 23%|██▎       | 335/1435 [1:05:50<1:52:40,  6.15s/it]"
     ]
    },
    {
     "name": "stdout",
     "output_type": "stream",
     "text": [
      "res OK H65\n"
     ]
    },
    {
     "name": "stderr",
     "output_type": "stream",
     "text": [
      "\r",
      " 23%|██▎       | 336/1435 [1:05:50<1:23:08,  4.54s/it]"
     ]
    },
    {
     "name": "stdout",
     "output_type": "stream",
     "text": [
      "res OK H61\n"
     ]
    },
    {
     "name": "stderr",
     "output_type": "stream",
     "text": [
      "\r",
      " 23%|██▎       | 337/1435 [1:06:04<2:14:04,  7.33s/it]"
     ]
    },
    {
     "name": "stdout",
     "output_type": "stream",
     "text": [
      "res OK H72\n"
     ]
    },
    {
     "name": "stderr",
     "output_type": "stream",
     "text": [
      "\r",
      " 24%|██▎       | 338/1435 [1:06:08<1:51:46,  6.11s/it]"
     ]
    },
    {
     "name": "stdout",
     "output_type": "stream",
     "text": [
      "res OK H81\n",
      "res OK H83\n"
     ]
    },
    {
     "name": "stderr",
     "output_type": "stream",
     "text": [
      "\r",
      " 24%|██▎       | 339/1435 [1:06:26<3:01:33,  9.94s/it]"
     ]
    },
    {
     "name": "stdout",
     "output_type": "stream",
     "text": [
      "res OK H83.0\n"
     ]
    },
    {
     "name": "stderr",
     "output_type": "stream",
     "text": [
      "\r",
      " 24%|██▍       | 341/1435 [1:07:38<6:38:31, 21.86s/it]"
     ]
    },
    {
     "name": "stdout",
     "output_type": "stream",
     "text": [
      "res OK H90\n"
     ]
    },
    {
     "name": "stderr",
     "output_type": "stream",
     "text": [
      "\r",
      " 24%|██▍       | 342/1435 [1:08:27<8:40:35, 28.58s/it]"
     ]
    },
    {
     "name": "stdout",
     "output_type": "stream",
     "text": [
      "res OK H91\n"
     ]
    },
    {
     "name": "stderr",
     "output_type": "stream",
     "text": [
      "\r",
      " 24%|██▍       | 343/1435 [1:08:33<6:53:07, 22.70s/it]"
     ]
    },
    {
     "name": "stdout",
     "output_type": "stream",
     "text": [
      "res OK H93\n"
     ]
    },
    {
     "name": "stderr",
     "output_type": "stream",
     "text": [
      "\r",
      " 24%|██▍       | 344/1435 [1:08:37<5:17:46, 17.48s/it]"
     ]
    },
    {
     "name": "stdout",
     "output_type": "stream",
     "text": [
      "res OK H91.9\n"
     ]
    },
    {
     "name": "stderr",
     "output_type": "stream",
     "text": [
      "\r",
      " 24%|██▍       | 345/1435 [1:08:43<4:20:04, 14.32s/it]"
     ]
    },
    {
     "name": "stdout",
     "output_type": "stream",
     "text": [
      "res OK H93.1\n"
     ]
    },
    {
     "name": "stderr",
     "output_type": "stream",
     "text": [
      "\r",
      " 24%|██▍       | 346/1435 [1:09:05<5:01:39, 16.62s/it]"
     ]
    },
    {
     "name": "stdout",
     "output_type": "stream",
     "text": [
      "res OK I08\n"
     ]
    },
    {
     "name": "stderr",
     "output_type": "stream",
     "text": [
      "\r",
      " 24%|██▍       | 347/1435 [1:09:17<4:36:38, 15.26s/it]"
     ]
    },
    {
     "name": "stdout",
     "output_type": "stream",
     "text": [
      "res OK I08.0\n"
     ]
    },
    {
     "name": "stderr",
     "output_type": "stream",
     "text": [
      "\r",
      " 24%|██▍       | 348/1435 [1:09:28<4:15:26, 14.10s/it]"
     ]
    },
    {
     "name": "stdout",
     "output_type": "stream",
     "text": [
      "res OK I08.1\n"
     ]
    },
    {
     "name": "stderr",
     "output_type": "stream",
     "text": [
      "\r",
      " 24%|██▍       | 349/1435 [1:09:39<3:56:21, 13.06s/it]"
     ]
    },
    {
     "name": "stdout",
     "output_type": "stream",
     "text": [
      "res OK I08.3\n"
     ]
    },
    {
     "name": "stderr",
     "output_type": "stream",
     "text": [
      " 24%|██▍       | 351/1435 [1:09:45<2:20:29,  7.78s/it]"
     ]
    },
    {
     "name": "stdout",
     "output_type": "stream",
     "text": [
      "res OK I12.0\n",
      "res OK I12\n"
     ]
    },
    {
     "name": "stderr",
     "output_type": "stream",
     "text": [
      "\r",
      " 25%|██▍       | 352/1435 [1:10:03<3:15:18, 10.82s/it]"
     ]
    },
    {
     "name": "stdout",
     "output_type": "stream",
     "text": [
      "res OK I10\n",
      "res OK I20.0\n"
     ]
    },
    {
     "name": "stderr",
     "output_type": "stream",
     "text": [
      "\r",
      " 25%|██▍       | 354/1435 [1:10:12<2:20:42,  7.81s/it]"
     ]
    },
    {
     "name": "stdout",
     "output_type": "stream",
     "text": [
      "res OK I20\n"
     ]
    },
    {
     "name": "stderr",
     "output_type": "stream",
     "text": [
      "\r",
      " 25%|██▍       | 355/1435 [1:10:12<1:48:41,  6.04s/it]"
     ]
    },
    {
     "name": "stdout",
     "output_type": "stream",
     "text": [
      "res OK I20.8\n",
      "res OK I20.9\n"
     ]
    },
    {
     "name": "stderr",
     "output_type": "stream",
     "text": [
      "\r",
      " 25%|██▍       | 356/1435 [1:10:26<2:24:57,  8.06s/it]"
     ]
    },
    {
     "name": "stdout",
     "output_type": "stream",
     "text": [
      "==========================\n",
      "| best_pval_score_homogenous \t| PLT-MPV-PCT-PDW : 5.26\t14198 cases \t I21 \t I21 Acute myocardial infarction\n",
      "==========================\n"
     ]
    },
    {
     "data": {
      "text/html": [
       "<div>\n",
       "<style scoped>\n",
       "    .dataframe tbody tr th:only-of-type {\n",
       "        vertical-align: middle;\n",
       "    }\n",
       "\n",
       "    .dataframe tbody tr th {\n",
       "        vertical-align: top;\n",
       "    }\n",
       "\n",
       "    .dataframe thead th {\n",
       "        text-align: right;\n",
       "    }\n",
       "</style>\n",
       "<table border=\"1\" class=\"dataframe\">\n",
       "  <tbody>\n",
       "    <tr>\n",
       "      <th>model</th>\n",
       "      <td>lifelines.CoxPHFitter</td>\n",
       "    </tr>\n",
       "    <tr>\n",
       "      <th>duration col</th>\n",
       "      <td>'duration'</td>\n",
       "    </tr>\n",
       "    <tr>\n",
       "      <th>event col</th>\n",
       "      <td>'EVENT'</td>\n",
       "    </tr>\n",
       "    <tr>\n",
       "      <th>strata</th>\n",
       "      <td>[31-0.0, SMOKING_RATE_bin, CRP_bin, CHOLESTERO...</td>\n",
       "    </tr>\n",
       "    <tr>\n",
       "      <th>baseline estimation</th>\n",
       "      <td>breslow</td>\n",
       "    </tr>\n",
       "    <tr>\n",
       "      <th>number of observations</th>\n",
       "      <td>385810</td>\n",
       "    </tr>\n",
       "    <tr>\n",
       "      <th>number of events observed</th>\n",
       "      <td>14198</td>\n",
       "    </tr>\n",
       "    <tr>\n",
       "      <th>partial log-likelihood</th>\n",
       "      <td>-83874.19</td>\n",
       "    </tr>\n",
       "    <tr>\n",
       "      <th>time fit was run</th>\n",
       "      <td>2023-04-08 12:07:16 UTC</td>\n",
       "    </tr>\n",
       "  </tbody>\n",
       "</table>\n",
       "</div><table border=\"1\" class=\"dataframe\">\n",
       "  <thead>\n",
       "    <tr style=\"text-align: right;\">\n",
       "      <th style=\"min-width: 12px;\"></th>\n",
       "      <th style=\"min-width: 12px;\">coef</th>\n",
       "      <th style=\"min-width: 12px;\">exp(coef)</th>\n",
       "      <th style=\"min-width: 12px;\">se(coef)</th>\n",
       "      <th style=\"min-width: 12px;\">coef lower 95%</th>\n",
       "      <th style=\"min-width: 12px;\">coef upper 95%</th>\n",
       "      <th style=\"min-width: 12px;\">exp(coef) lower 95%</th>\n",
       "      <th style=\"min-width: 12px;\">exp(coef) upper 95%</th>\n",
       "      <th style=\"min-width: 12px;\">z</th>\n",
       "      <th style=\"min-width: 12px;\">p</th>\n",
       "      <th style=\"min-width: 12px;\">-log2(p)</th>\n",
       "    </tr>\n",
       "  </thead>\n",
       "  <tbody>\n",
       "    <tr>\n",
       "      <th>30080-0.0</th>\n",
       "      <td>0.00</td>\n",
       "      <td>1.00</td>\n",
       "      <td>0.00</td>\n",
       "      <td>-0.00</td>\n",
       "      <td>0.00</td>\n",
       "      <td>1.00</td>\n",
       "      <td>1.00</td>\n",
       "      <td>0.95</td>\n",
       "      <td>0.34</td>\n",
       "      <td>1.55</td>\n",
       "    </tr>\n",
       "    <tr>\n",
       "      <th>30100-0.0</th>\n",
       "      <td>0.06</td>\n",
       "      <td>1.07</td>\n",
       "      <td>0.03</td>\n",
       "      <td>0.01</td>\n",
       "      <td>0.12</td>\n",
       "      <td>1.01</td>\n",
       "      <td>1.13</td>\n",
       "      <td>2.21</td>\n",
       "      <td>0.03</td>\n",
       "      <td>5.22</td>\n",
       "    </tr>\n",
       "    <tr>\n",
       "      <th>30090-0.0</th>\n",
       "      <td>-0.66</td>\n",
       "      <td>0.52</td>\n",
       "      <td>1.22</td>\n",
       "      <td>-3.05</td>\n",
       "      <td>1.73</td>\n",
       "      <td>0.05</td>\n",
       "      <td>5.66</td>\n",
       "      <td>-0.54</td>\n",
       "      <td>0.59</td>\n",
       "      <td>0.76</td>\n",
       "    </tr>\n",
       "    <tr>\n",
       "      <th>30110-0.0</th>\n",
       "      <td>-0.03</td>\n",
       "      <td>0.97</td>\n",
       "      <td>0.02</td>\n",
       "      <td>-0.07</td>\n",
       "      <td>0.00</td>\n",
       "      <td>0.93</td>\n",
       "      <td>1.00</td>\n",
       "      <td>-1.87</td>\n",
       "      <td>0.06</td>\n",
       "      <td>4.03</td>\n",
       "    </tr>\n",
       "    <tr>\n",
       "      <th>best_pval_score_homogenous</th>\n",
       "      <td>0.04</td>\n",
       "      <td>1.04</td>\n",
       "      <td>0.01</td>\n",
       "      <td>0.02</td>\n",
       "      <td>0.06</td>\n",
       "      <td>1.02</td>\n",
       "      <td>1.06</td>\n",
       "      <td>4.55</td>\n",
       "      <td>&lt;0.005</td>\n",
       "      <td>17.48</td>\n",
       "    </tr>\n",
       "  </tbody>\n",
       "</table><br><div>\n",
       "<style scoped>\n",
       "    .dataframe tbody tr th:only-of-type {\n",
       "        vertical-align: middle;\n",
       "    }\n",
       "\n",
       "    .dataframe tbody tr th {\n",
       "        vertical-align: top;\n",
       "    }\n",
       "\n",
       "    .dataframe thead th {\n",
       "        text-align: right;\n",
       "    }\n",
       "</style>\n",
       "<table border=\"1\" class=\"dataframe\">\n",
       "  <tbody>\n",
       "    <tr>\n",
       "      <th>Concordance</th>\n",
       "      <td>0.50</td>\n",
       "    </tr>\n",
       "    <tr>\n",
       "      <th>Partial AIC</th>\n",
       "      <td>167758.37</td>\n",
       "    </tr>\n",
       "    <tr>\n",
       "      <th>log-likelihood ratio test</th>\n",
       "      <td>53.90 on 5 df</td>\n",
       "    </tr>\n",
       "    <tr>\n",
       "      <th>-log2(p) of ll-ratio test</th>\n",
       "      <td>32.09</td>\n",
       "    </tr>\n",
       "  </tbody>\n",
       "</table>\n",
       "</div>"
      ],
      "text/latex": [
       "\\begin{tabular}{lrrrrrrrrrr}\n",
       "\\toprule\n",
       "{} &  coef &  exp(coef) &  se(coef) &  coef lower 95\\% &  coef upper 95\\% &  exp(coef) lower 95\\% &  exp(coef) upper 95\\% &     z &    p &  -log2(p) \\\\\n",
       "covariate                  &       &            &           &                 &                 &                      &                      &       &      &           \\\\\n",
       "\\midrule\n",
       "30080-0.0                  &  0.00 &       1.00 &      0.00 &           -0.00 &            0.00 &                 1.00 &                 1.00 &  0.95 & 0.34 &      1.55 \\\\\n",
       "30100-0.0                  &  0.06 &       1.07 &      0.03 &            0.01 &            0.12 &                 1.01 &                 1.13 &  2.21 & 0.03 &      5.22 \\\\\n",
       "30090-0.0                  & -0.66 &       0.52 &      1.22 &           -3.05 &            1.73 &                 0.05 &                 5.66 & -0.54 & 0.59 &      0.76 \\\\\n",
       "30110-0.0                  & -0.03 &       0.97 &      0.02 &           -0.07 &            0.00 &                 0.93 &                 1.00 & -1.87 & 0.06 &      4.03 \\\\\n",
       "best\\_pval\\_score\\_homogenous &  0.04 &       1.04 &      0.01 &            0.02 &            0.06 &                 1.02 &                 1.06 &  4.55 & 0.00 &     17.48 \\\\\n",
       "\\bottomrule\n",
       "\\end{tabular}\n"
      ],
      "text/plain": [
       "<lifelines.CoxPHFitter: fitted with 385810 total observations, 371612 right-censored observations>\n",
       "             duration col = 'duration'\n",
       "                event col = 'EVENT'\n",
       "                   strata = ['31-0.0', 'SMOKING_RATE_bin', 'CRP_bin', 'CHOLESTEROL_bin', 'HDL_bin', 'SYSTOLIC_BP_bin']\n",
       "      baseline estimation = breslow\n",
       "   number of observations = 385810\n",
       "number of events observed = 14198\n",
       "   partial log-likelihood = -83874.19\n",
       "         time fit was run = 2023-04-08 12:07:16 UTC\n",
       "\n",
       "---\n",
       "                             coef  exp(coef)   se(coef)   coef lower 95%   coef upper 95%  exp(coef) lower 95%  exp(coef) upper 95%\n",
       "covariate                                                                                                                          \n",
       "30080-0.0                    0.00       1.00       0.00            -0.00             0.00                 1.00                 1.00\n",
       "30100-0.0                    0.06       1.07       0.03             0.01             0.12                 1.01                 1.13\n",
       "30090-0.0                   -0.66       0.52       1.22            -3.05             1.73                 0.05                 5.66\n",
       "30110-0.0                   -0.03       0.97       0.02            -0.07             0.00                 0.93                 1.00\n",
       "best_pval_score_homogenous   0.04       1.04       0.01             0.02             0.06                 1.02                 1.06\n",
       "\n",
       "                               z      p   -log2(p)\n",
       "covariate                                         \n",
       "30080-0.0                   0.95   0.34       1.55\n",
       "30100-0.0                   2.21   0.03       5.22\n",
       "30090-0.0                  -0.54   0.59       0.76\n",
       "30110-0.0                  -1.87   0.06       4.03\n",
       "best_pval_score_homogenous  4.55 <0.005      17.48\n",
       "---\n",
       "Concordance = 0.50\n",
       "Partial AIC = 167758.37\n",
       "log-likelihood ratio test = 53.90 on 5 df\n",
       "-log2(p) of ll-ratio test = 32.09"
      ]
     },
     "metadata": {},
     "output_type": "display_data"
    },
    {
     "name": "stderr",
     "output_type": "stream",
     "text": [
      "\r",
      " 25%|██▍       | 357/1435 [1:11:31<7:02:47, 23.53s/it]"
     ]
    },
    {
     "name": "stdout",
     "output_type": "stream",
     "text": [
      "res OK I21\n"
     ]
    },
    {
     "name": "stderr",
     "output_type": "stream",
     "text": [
      "\r",
      " 25%|██▍       | 358/1435 [1:12:21<9:12:51, 30.80s/it]"
     ]
    },
    {
     "name": "stdout",
     "output_type": "stream",
     "text": [
      "res OK I21.0\n"
     ]
    },
    {
     "name": "stderr",
     "output_type": "stream",
     "text": [
      "\r",
      " 25%|██▌       | 359/1435 [1:12:28<7:12:29, 24.12s/it]"
     ]
    },
    {
     "name": "stdout",
     "output_type": "stream",
     "text": [
      "res OK I21.1\n"
     ]
    },
    {
     "name": "stderr",
     "output_type": "stream",
     "text": [
      "\r",
      " 25%|██▌       | 360/1435 [1:12:31<5:23:01, 18.03s/it]"
     ]
    },
    {
     "name": "stdout",
     "output_type": "stream",
     "text": [
      "res OK I21.4\n"
     ]
    },
    {
     "name": "stderr",
     "output_type": "stream",
     "text": [
      "\r",
      " 25%|██▌       | 361/1435 [1:12:33<3:56:39, 13.22s/it]"
     ]
    },
    {
     "name": "stdout",
     "output_type": "stream",
     "text": [
      "res OK I21.9\n"
     ]
    },
    {
     "name": "stderr",
     "output_type": "stream",
     "text": [
      "\r",
      " 25%|██▌       | 362/1435 [1:12:33<2:48:55,  9.45s/it]"
     ]
    },
    {
     "name": "stdout",
     "output_type": "stream",
     "text": [
      "res empty\n",
      "res OK I24\n"
     ]
    },
    {
     "name": "stderr",
     "output_type": "stream",
     "text": [
      " 25%|██▌       | 364/1435 [1:13:05<3:44:02, 12.55s/it]"
     ]
    },
    {
     "name": "stdout",
     "output_type": "stream",
     "text": [
      "res OK I24.9\n"
     ]
    },
    {
     "name": "stderr",
     "output_type": "stream",
     "text": [
      "\r",
      " 25%|██▌       | 365/1435 [1:13:37<5:26:53, 18.33s/it]"
     ]
    },
    {
     "name": "stdout",
     "output_type": "stream",
     "text": [
      "res OK I25\n"
     ]
    },
    {
     "name": "stderr",
     "output_type": "stream",
     "text": [
      "\r",
      " 26%|██▌       | 366/1435 [1:13:43<4:18:13, 14.49s/it]"
     ]
    },
    {
     "name": "stdout",
     "output_type": "stream",
     "text": [
      "res OK I25.8\n"
     ]
    },
    {
     "name": "stderr",
     "output_type": "stream",
     "text": [
      "\r",
      " 26%|██▌       | 367/1435 [1:13:45<3:10:35, 10.71s/it]"
     ]
    },
    {
     "name": "stdout",
     "output_type": "stream",
     "text": [
      "res OK I25.2\n"
     ]
    },
    {
     "name": "stderr",
     "output_type": "stream",
     "text": [
      "\r",
      " 26%|██▌       | 368/1435 [1:13:45<2:15:21,  7.61s/it]"
     ]
    },
    {
     "name": "stdout",
     "output_type": "stream",
     "text": [
      "res OK I25.1\n"
     ]
    },
    {
     "name": "stderr",
     "output_type": "stream",
     "text": [
      "\r",
      " 26%|██▌       | 369/1435 [1:13:45<1:36:11,  5.41s/it]"
     ]
    },
    {
     "name": "stdout",
     "output_type": "stream",
     "text": [
      "res empty\n",
      "==========================\n",
      "| best_pval_score_homogenous \t| PLT-MPV-PCT-PDW : 7.29\t6942 cases \t I26 \t I26 Pulmonary embolism\n",
      "==========================\n"
     ]
    },
    {
     "data": {
      "text/html": [
       "<div>\n",
       "<style scoped>\n",
       "    .dataframe tbody tr th:only-of-type {\n",
       "        vertical-align: middle;\n",
       "    }\n",
       "\n",
       "    .dataframe tbody tr th {\n",
       "        vertical-align: top;\n",
       "    }\n",
       "\n",
       "    .dataframe thead th {\n",
       "        text-align: right;\n",
       "    }\n",
       "</style>\n",
       "<table border=\"1\" class=\"dataframe\">\n",
       "  <tbody>\n",
       "    <tr>\n",
       "      <th>model</th>\n",
       "      <td>lifelines.CoxPHFitter</td>\n",
       "    </tr>\n",
       "    <tr>\n",
       "      <th>duration col</th>\n",
       "      <td>'duration'</td>\n",
       "    </tr>\n",
       "    <tr>\n",
       "      <th>event col</th>\n",
       "      <td>'EVENT'</td>\n",
       "    </tr>\n",
       "    <tr>\n",
       "      <th>strata</th>\n",
       "      <td>[31-0.0, SMOKING_RATE_bin, CRP_bin, CHOLESTERO...</td>\n",
       "    </tr>\n",
       "    <tr>\n",
       "      <th>baseline estimation</th>\n",
       "      <td>breslow</td>\n",
       "    </tr>\n",
       "    <tr>\n",
       "      <th>number of observations</th>\n",
       "      <td>384438</td>\n",
       "    </tr>\n",
       "    <tr>\n",
       "      <th>number of events observed</th>\n",
       "      <td>6942</td>\n",
       "    </tr>\n",
       "    <tr>\n",
       "      <th>partial log-likelihood</th>\n",
       "      <td>-40916.13</td>\n",
       "    </tr>\n",
       "    <tr>\n",
       "      <th>time fit was run</th>\n",
       "      <td>2023-04-08 12:09:41 UTC</td>\n",
       "    </tr>\n",
       "  </tbody>\n",
       "</table>\n",
       "</div><table border=\"1\" class=\"dataframe\">\n",
       "  <thead>\n",
       "    <tr style=\"text-align: right;\">\n",
       "      <th style=\"min-width: 12px;\"></th>\n",
       "      <th style=\"min-width: 12px;\">coef</th>\n",
       "      <th style=\"min-width: 12px;\">exp(coef)</th>\n",
       "      <th style=\"min-width: 12px;\">se(coef)</th>\n",
       "      <th style=\"min-width: 12px;\">coef lower 95%</th>\n",
       "      <th style=\"min-width: 12px;\">coef upper 95%</th>\n",
       "      <th style=\"min-width: 12px;\">exp(coef) lower 95%</th>\n",
       "      <th style=\"min-width: 12px;\">exp(coef) upper 95%</th>\n",
       "      <th style=\"min-width: 12px;\">z</th>\n",
       "      <th style=\"min-width: 12px;\">p</th>\n",
       "      <th style=\"min-width: 12px;\">-log2(p)</th>\n",
       "    </tr>\n",
       "  </thead>\n",
       "  <tbody>\n",
       "    <tr>\n",
       "      <th>30080-0.0</th>\n",
       "      <td>-0.00</td>\n",
       "      <td>1.00</td>\n",
       "      <td>0.00</td>\n",
       "      <td>-0.00</td>\n",
       "      <td>0.00</td>\n",
       "      <td>1.00</td>\n",
       "      <td>1.00</td>\n",
       "      <td>-0.32</td>\n",
       "      <td>0.75</td>\n",
       "      <td>0.42</td>\n",
       "    </tr>\n",
       "    <tr>\n",
       "      <th>30100-0.0</th>\n",
       "      <td>-0.00</td>\n",
       "      <td>1.00</td>\n",
       "      <td>0.04</td>\n",
       "      <td>-0.09</td>\n",
       "      <td>0.08</td>\n",
       "      <td>0.92</td>\n",
       "      <td>1.08</td>\n",
       "      <td>-0.09</td>\n",
       "      <td>0.93</td>\n",
       "      <td>0.11</td>\n",
       "    </tr>\n",
       "    <tr>\n",
       "      <th>30090-0.0</th>\n",
       "      <td>1.79</td>\n",
       "      <td>6.01</td>\n",
       "      <td>1.75</td>\n",
       "      <td>-1.63</td>\n",
       "      <td>5.22</td>\n",
       "      <td>0.20</td>\n",
       "      <td>184.65</td>\n",
       "      <td>1.03</td>\n",
       "      <td>0.30</td>\n",
       "      <td>1.71</td>\n",
       "    </tr>\n",
       "    <tr>\n",
       "      <th>30110-0.0</th>\n",
       "      <td>-0.02</td>\n",
       "      <td>0.98</td>\n",
       "      <td>0.03</td>\n",
       "      <td>-0.07</td>\n",
       "      <td>0.03</td>\n",
       "      <td>0.93</td>\n",
       "      <td>1.03</td>\n",
       "      <td>-0.82</td>\n",
       "      <td>0.41</td>\n",
       "      <td>1.28</td>\n",
       "    </tr>\n",
       "    <tr>\n",
       "      <th>best_pval_score_homogenous</th>\n",
       "      <td>0.07</td>\n",
       "      <td>1.07</td>\n",
       "      <td>0.01</td>\n",
       "      <td>0.04</td>\n",
       "      <td>0.09</td>\n",
       "      <td>1.04</td>\n",
       "      <td>1.09</td>\n",
       "      <td>5.45</td>\n",
       "      <td>&lt;0.005</td>\n",
       "      <td>24.24</td>\n",
       "    </tr>\n",
       "  </tbody>\n",
       "</table><br><div>\n",
       "<style scoped>\n",
       "    .dataframe tbody tr th:only-of-type {\n",
       "        vertical-align: middle;\n",
       "    }\n",
       "\n",
       "    .dataframe tbody tr th {\n",
       "        vertical-align: top;\n",
       "    }\n",
       "\n",
       "    .dataframe thead th {\n",
       "        text-align: right;\n",
       "    }\n",
       "</style>\n",
       "<table border=\"1\" class=\"dataframe\">\n",
       "  <tbody>\n",
       "    <tr>\n",
       "      <th>Concordance</th>\n",
       "      <td>0.50</td>\n",
       "    </tr>\n",
       "    <tr>\n",
       "      <th>Partial AIC</th>\n",
       "      <td>81842.26</td>\n",
       "    </tr>\n",
       "    <tr>\n",
       "      <th>log-likelihood ratio test</th>\n",
       "      <td>54.81 on 5 df</td>\n",
       "    </tr>\n",
       "    <tr>\n",
       "      <th>-log2(p) of ll-ratio test</th>\n",
       "      <td>32.71</td>\n",
       "    </tr>\n",
       "  </tbody>\n",
       "</table>\n",
       "</div>"
      ],
      "text/latex": [
       "\\begin{tabular}{lrrrrrrrrrr}\n",
       "\\toprule\n",
       "{} &  coef &  exp(coef) &  se(coef) &  coef lower 95\\% &  coef upper 95\\% &  exp(coef) lower 95\\% &  exp(coef) upper 95\\% &     z &    p &  -log2(p) \\\\\n",
       "covariate                  &       &            &           &                 &                 &                      &                      &       &      &           \\\\\n",
       "\\midrule\n",
       "30080-0.0                  & -0.00 &       1.00 &      0.00 &           -0.00 &            0.00 &                 1.00 &                 1.00 & -0.32 & 0.75 &      0.42 \\\\\n",
       "30100-0.0                  & -0.00 &       1.00 &      0.04 &           -0.09 &            0.08 &                 0.92 &                 1.08 & -0.09 & 0.93 &      0.11 \\\\\n",
       "30090-0.0                  &  1.79 &       6.01 &      1.75 &           -1.63 &            5.22 &                 0.20 &               184.65 &  1.03 & 0.30 &      1.71 \\\\\n",
       "30110-0.0                  & -0.02 &       0.98 &      0.03 &           -0.07 &            0.03 &                 0.93 &                 1.03 & -0.82 & 0.41 &      1.28 \\\\\n",
       "best\\_pval\\_score\\_homogenous &  0.07 &       1.07 &      0.01 &            0.04 &            0.09 &                 1.04 &                 1.09 &  5.45 & 0.00 &     24.24 \\\\\n",
       "\\bottomrule\n",
       "\\end{tabular}\n"
      ],
      "text/plain": [
       "<lifelines.CoxPHFitter: fitted with 384438 total observations, 377496 right-censored observations>\n",
       "             duration col = 'duration'\n",
       "                event col = 'EVENT'\n",
       "                   strata = ['31-0.0', 'SMOKING_RATE_bin', 'CRP_bin', 'CHOLESTEROL_bin', 'HDL_bin', 'SYSTOLIC_BP_bin']\n",
       "      baseline estimation = breslow\n",
       "   number of observations = 384438\n",
       "number of events observed = 6942\n",
       "   partial log-likelihood = -40916.13\n",
       "         time fit was run = 2023-04-08 12:09:41 UTC\n",
       "\n",
       "---\n",
       "                             coef  exp(coef)   se(coef)   coef lower 95%   coef upper 95%  exp(coef) lower 95%  exp(coef) upper 95%\n",
       "covariate                                                                                                                          \n",
       "30080-0.0                   -0.00       1.00       0.00            -0.00             0.00                 1.00                 1.00\n",
       "30100-0.0                   -0.00       1.00       0.04            -0.09             0.08                 0.92                 1.08\n",
       "30090-0.0                    1.79       6.01       1.75            -1.63             5.22                 0.20               184.65\n",
       "30110-0.0                   -0.02       0.98       0.03            -0.07             0.03                 0.93                 1.03\n",
       "best_pval_score_homogenous   0.07       1.07       0.01             0.04             0.09                 1.04                 1.09\n",
       "\n",
       "                               z      p   -log2(p)\n",
       "covariate                                         \n",
       "30080-0.0                  -0.32   0.75       0.42\n",
       "30100-0.0                  -0.09   0.93       0.11\n",
       "30090-0.0                   1.03   0.30       1.71\n",
       "30110-0.0                  -0.82   0.41       1.28\n",
       "best_pval_score_homogenous  5.45 <0.005      24.24\n",
       "---\n",
       "Concordance = 0.50\n",
       "Partial AIC = 81842.26\n",
       "log-likelihood ratio test = 54.81 on 5 df\n",
       "-log2(p) of ll-ratio test = 32.71"
      ]
     },
     "metadata": {},
     "output_type": "display_data"
    },
    {
     "name": "stderr",
     "output_type": "stream",
     "text": [
      "\r",
      " 26%|██▌       | 370/1435 [1:14:00<2:25:04,  8.17s/it]"
     ]
    },
    {
     "name": "stdout",
     "output_type": "stream",
     "text": [
      "res OK I26\n"
     ]
    },
    {
     "name": "stderr",
     "output_type": "stream",
     "text": [
      "\r",
      " 26%|██▌       | 371/1435 [1:14:05<2:10:36,  7.36s/it]"
     ]
    },
    {
     "name": "stdout",
     "output_type": "stream",
     "text": [
      "res OK I27\n"
     ]
    },
    {
     "name": "stderr",
     "output_type": "stream",
     "text": [
      "\r",
      " 26%|██▌       | 372/1435 [1:14:08<1:45:19,  5.95s/it]"
     ]
    },
    {
     "name": "stdout",
     "output_type": "stream",
     "text": [
      "res OK I25.9\n",
      "==========================\n",
      "| best_pval_score_homogenous \t| PLT-MPV-PCT-PDW : 6.72\t6792 cases \t I26.9 \t I26.9 Pulmonary embolism without mention of acute cor pulmonale\n",
      "==========================\n"
     ]
    },
    {
     "data": {
      "text/html": [
       "<div>\n",
       "<style scoped>\n",
       "    .dataframe tbody tr th:only-of-type {\n",
       "        vertical-align: middle;\n",
       "    }\n",
       "\n",
       "    .dataframe tbody tr th {\n",
       "        vertical-align: top;\n",
       "    }\n",
       "\n",
       "    .dataframe thead th {\n",
       "        text-align: right;\n",
       "    }\n",
       "</style>\n",
       "<table border=\"1\" class=\"dataframe\">\n",
       "  <tbody>\n",
       "    <tr>\n",
       "      <th>model</th>\n",
       "      <td>lifelines.CoxPHFitter</td>\n",
       "    </tr>\n",
       "    <tr>\n",
       "      <th>duration col</th>\n",
       "      <td>'duration'</td>\n",
       "    </tr>\n",
       "    <tr>\n",
       "      <th>event col</th>\n",
       "      <td>'EVENT'</td>\n",
       "    </tr>\n",
       "    <tr>\n",
       "      <th>strata</th>\n",
       "      <td>[31-0.0, SMOKING_RATE_bin, CRP_bin, CHOLESTERO...</td>\n",
       "    </tr>\n",
       "    <tr>\n",
       "      <th>baseline estimation</th>\n",
       "      <td>breslow</td>\n",
       "    </tr>\n",
       "    <tr>\n",
       "      <th>number of observations</th>\n",
       "      <td>384399</td>\n",
       "    </tr>\n",
       "    <tr>\n",
       "      <th>number of events observed</th>\n",
       "      <td>6792</td>\n",
       "    </tr>\n",
       "    <tr>\n",
       "      <th>partial log-likelihood</th>\n",
       "      <td>-40092.10</td>\n",
       "    </tr>\n",
       "    <tr>\n",
       "      <th>time fit was run</th>\n",
       "      <td>2023-04-08 12:09:53 UTC</td>\n",
       "    </tr>\n",
       "  </tbody>\n",
       "</table>\n",
       "</div><table border=\"1\" class=\"dataframe\">\n",
       "  <thead>\n",
       "    <tr style=\"text-align: right;\">\n",
       "      <th style=\"min-width: 12px;\"></th>\n",
       "      <th style=\"min-width: 12px;\">coef</th>\n",
       "      <th style=\"min-width: 12px;\">exp(coef)</th>\n",
       "      <th style=\"min-width: 12px;\">se(coef)</th>\n",
       "      <th style=\"min-width: 12px;\">coef lower 95%</th>\n",
       "      <th style=\"min-width: 12px;\">coef upper 95%</th>\n",
       "      <th style=\"min-width: 12px;\">exp(coef) lower 95%</th>\n",
       "      <th style=\"min-width: 12px;\">exp(coef) upper 95%</th>\n",
       "      <th style=\"min-width: 12px;\">z</th>\n",
       "      <th style=\"min-width: 12px;\">p</th>\n",
       "      <th style=\"min-width: 12px;\">-log2(p)</th>\n",
       "    </tr>\n",
       "  </thead>\n",
       "  <tbody>\n",
       "    <tr>\n",
       "      <th>30080-0.0</th>\n",
       "      <td>-0.00</td>\n",
       "      <td>1.00</td>\n",
       "      <td>0.00</td>\n",
       "      <td>-0.00</td>\n",
       "      <td>0.00</td>\n",
       "      <td>1.00</td>\n",
       "      <td>1.00</td>\n",
       "      <td>-0.28</td>\n",
       "      <td>0.78</td>\n",
       "      <td>0.35</td>\n",
       "    </tr>\n",
       "    <tr>\n",
       "      <th>30100-0.0</th>\n",
       "      <td>-0.00</td>\n",
       "      <td>1.00</td>\n",
       "      <td>0.04</td>\n",
       "      <td>-0.09</td>\n",
       "      <td>0.08</td>\n",
       "      <td>0.92</td>\n",
       "      <td>1.09</td>\n",
       "      <td>-0.05</td>\n",
       "      <td>0.96</td>\n",
       "      <td>0.06</td>\n",
       "    </tr>\n",
       "    <tr>\n",
       "      <th>30090-0.0</th>\n",
       "      <td>1.71</td>\n",
       "      <td>5.55</td>\n",
       "      <td>1.77</td>\n",
       "      <td>-1.75</td>\n",
       "      <td>5.17</td>\n",
       "      <td>0.17</td>\n",
       "      <td>176.60</td>\n",
       "      <td>0.97</td>\n",
       "      <td>0.33</td>\n",
       "      <td>1.59</td>\n",
       "    </tr>\n",
       "    <tr>\n",
       "      <th>30110-0.0</th>\n",
       "      <td>-0.02</td>\n",
       "      <td>0.98</td>\n",
       "      <td>0.03</td>\n",
       "      <td>-0.07</td>\n",
       "      <td>0.03</td>\n",
       "      <td>0.93</td>\n",
       "      <td>1.03</td>\n",
       "      <td>-0.76</td>\n",
       "      <td>0.45</td>\n",
       "      <td>1.15</td>\n",
       "    </tr>\n",
       "    <tr>\n",
       "      <th>best_pval_score_homogenous</th>\n",
       "      <td>0.06</td>\n",
       "      <td>1.07</td>\n",
       "      <td>0.01</td>\n",
       "      <td>0.04</td>\n",
       "      <td>0.09</td>\n",
       "      <td>1.04</td>\n",
       "      <td>1.09</td>\n",
       "      <td>5.21</td>\n",
       "      <td>&lt;0.005</td>\n",
       "      <td>22.35</td>\n",
       "    </tr>\n",
       "  </tbody>\n",
       "</table><br><div>\n",
       "<style scoped>\n",
       "    .dataframe tbody tr th:only-of-type {\n",
       "        vertical-align: middle;\n",
       "    }\n",
       "\n",
       "    .dataframe tbody tr th {\n",
       "        vertical-align: top;\n",
       "    }\n",
       "\n",
       "    .dataframe thead th {\n",
       "        text-align: right;\n",
       "    }\n",
       "</style>\n",
       "<table border=\"1\" class=\"dataframe\">\n",
       "  <tbody>\n",
       "    <tr>\n",
       "      <th>Concordance</th>\n",
       "      <td>0.50</td>\n",
       "    </tr>\n",
       "    <tr>\n",
       "      <th>Partial AIC</th>\n",
       "      <td>80194.21</td>\n",
       "    </tr>\n",
       "    <tr>\n",
       "      <th>log-likelihood ratio test</th>\n",
       "      <td>51.34 on 5 df</td>\n",
       "    </tr>\n",
       "    <tr>\n",
       "      <th>-log2(p) of ll-ratio test</th>\n",
       "      <td>30.34</td>\n",
       "    </tr>\n",
       "  </tbody>\n",
       "</table>\n",
       "</div>"
      ],
      "text/latex": [
       "\\begin{tabular}{lrrrrrrrrrr}\n",
       "\\toprule\n",
       "{} &  coef &  exp(coef) &  se(coef) &  coef lower 95\\% &  coef upper 95\\% &  exp(coef) lower 95\\% &  exp(coef) upper 95\\% &     z &    p &  -log2(p) \\\\\n",
       "covariate                  &       &            &           &                 &                 &                      &                      &       &      &           \\\\\n",
       "\\midrule\n",
       "30080-0.0                  & -0.00 &       1.00 &      0.00 &           -0.00 &            0.00 &                 1.00 &                 1.00 & -0.28 & 0.78 &      0.35 \\\\\n",
       "30100-0.0                  & -0.00 &       1.00 &      0.04 &           -0.09 &            0.08 &                 0.92 &                 1.09 & -0.05 & 0.96 &      0.06 \\\\\n",
       "30090-0.0                  &  1.71 &       5.55 &      1.77 &           -1.75 &            5.17 &                 0.17 &               176.60 &  0.97 & 0.33 &      1.59 \\\\\n",
       "30110-0.0                  & -0.02 &       0.98 &      0.03 &           -0.07 &            0.03 &                 0.93 &                 1.03 & -0.76 & 0.45 &      1.15 \\\\\n",
       "best\\_pval\\_score\\_homogenous &  0.06 &       1.07 &      0.01 &            0.04 &            0.09 &                 1.04 &                 1.09 &  5.21 & 0.00 &     22.35 \\\\\n",
       "\\bottomrule\n",
       "\\end{tabular}\n"
      ],
      "text/plain": [
       "<lifelines.CoxPHFitter: fitted with 384399 total observations, 377607 right-censored observations>\n",
       "             duration col = 'duration'\n",
       "                event col = 'EVENT'\n",
       "                   strata = ['31-0.0', 'SMOKING_RATE_bin', 'CRP_bin', 'CHOLESTEROL_bin', 'HDL_bin', 'SYSTOLIC_BP_bin']\n",
       "      baseline estimation = breslow\n",
       "   number of observations = 384399\n",
       "number of events observed = 6792\n",
       "   partial log-likelihood = -40092.10\n",
       "         time fit was run = 2023-04-08 12:09:53 UTC\n",
       "\n",
       "---\n",
       "                             coef  exp(coef)   se(coef)   coef lower 95%   coef upper 95%  exp(coef) lower 95%  exp(coef) upper 95%\n",
       "covariate                                                                                                                          \n",
       "30080-0.0                   -0.00       1.00       0.00            -0.00             0.00                 1.00                 1.00\n",
       "30100-0.0                   -0.00       1.00       0.04            -0.09             0.08                 0.92                 1.09\n",
       "30090-0.0                    1.71       5.55       1.77            -1.75             5.17                 0.17               176.60\n",
       "30110-0.0                   -0.02       0.98       0.03            -0.07             0.03                 0.93                 1.03\n",
       "best_pval_score_homogenous   0.06       1.07       0.01             0.04             0.09                 1.04                 1.09\n",
       "\n",
       "                               z      p   -log2(p)\n",
       "covariate                                         \n",
       "30080-0.0                  -0.28   0.78       0.35\n",
       "30100-0.0                  -0.05   0.96       0.06\n",
       "30090-0.0                   0.97   0.33       1.59\n",
       "30110-0.0                  -0.76   0.45       1.15\n",
       "best_pval_score_homogenous  5.21 <0.005      22.35\n",
       "---\n",
       "Concordance = 0.50\n",
       "Partial AIC = 80194.21\n",
       "log-likelihood ratio test = 51.34 on 5 df\n",
       "-log2(p) of ll-ratio test = 30.34"
      ]
     },
     "metadata": {},
     "output_type": "display_data"
    },
    {
     "name": "stderr",
     "output_type": "stream",
     "text": [
      "\r",
      " 26%|██▌       | 373/1435 [1:14:14<1:45:50,  5.98s/it]"
     ]
    },
    {
     "name": "stdout",
     "output_type": "stream",
     "text": [
      "res OK I26.9\n"
     ]
    },
    {
     "name": "stderr",
     "output_type": "stream",
     "text": [
      "\r",
      " 26%|██▌       | 374/1435 [1:14:18<1:34:39,  5.35s/it]"
     ]
    },
    {
     "name": "stdout",
     "output_type": "stream",
     "text": [
      "res OK I27.2\n"
     ]
    },
    {
     "name": "stderr",
     "output_type": "stream",
     "text": [
      "\r",
      " 26%|██▌       | 375/1435 [1:15:23<6:49:34, 23.18s/it]"
     ]
    },
    {
     "name": "stdout",
     "output_type": "stream",
     "text": [
      "res OK I31\n"
     ]
    },
    {
     "name": "stderr",
     "output_type": "stream",
     "text": [
      "\r",
      " 26%|██▌       | 376/1435 [1:16:20<9:50:16, 33.44s/it]"
     ]
    },
    {
     "name": "stdout",
     "output_type": "stream",
     "text": [
      "res OK I31.3\n"
     ]
    },
    {
     "name": "stderr",
     "output_type": "stream",
     "text": [
      "\r",
      " 26%|██▋       | 377/1435 [1:16:26<7:21:00, 25.01s/it]"
     ]
    },
    {
     "name": "stdout",
     "output_type": "stream",
     "text": [
      "res OK I34\n"
     ]
    },
    {
     "name": "stderr",
     "output_type": "stream",
     "text": [
      "\r",
      " 26%|██▋       | 378/1435 [1:16:26<5:11:16, 17.67s/it]"
     ]
    },
    {
     "name": "stdout",
     "output_type": "stream",
     "text": [
      "res empty\n"
     ]
    },
    {
     "name": "stderr",
     "output_type": "stream",
     "text": [
      "\r",
      " 26%|██▋       | 379/1435 [1:16:27<3:41:03, 12.56s/it]"
     ]
    },
    {
     "name": "stdout",
     "output_type": "stream",
     "text": [
      "res OK I35\n"
     ]
    },
    {
     "name": "stderr",
     "output_type": "stream",
     "text": [
      "\r",
      " 26%|██▋       | 380/1435 [1:16:31<2:56:09, 10.02s/it]"
     ]
    },
    {
     "name": "stdout",
     "output_type": "stream",
     "text": [
      "res OK I34.0\n",
      "res OK I35.0\n"
     ]
    },
    {
     "name": "stderr",
     "output_type": "stream",
     "text": [
      " 27%|██▋       | 382/1435 [1:17:01<3:58:16, 13.58s/it]"
     ]
    },
    {
     "name": "stdout",
     "output_type": "stream",
     "text": [
      "res OK I35.1\n"
     ]
    },
    {
     "name": "stderr",
     "output_type": "stream",
     "text": [
      "\r",
      " 27%|██▋       | 383/1435 [1:17:29<5:13:25, 17.88s/it]"
     ]
    },
    {
     "name": "stdout",
     "output_type": "stream",
     "text": [
      "res OK I42\n"
     ]
    },
    {
     "name": "stderr",
     "output_type": "stream",
     "text": [
      "\r",
      " 27%|██▋       | 384/1435 [1:17:29<3:41:07, 12.62s/it]"
     ]
    },
    {
     "name": "stdout",
     "output_type": "stream",
     "text": [
      "res empty\n",
      "res OK I44.0\n"
     ]
    },
    {
     "name": "stderr",
     "output_type": "stream",
     "text": [
      "\r",
      " 27%|██▋       | 385/1435 [1:17:45<3:55:06, 13.43s/it]"
     ]
    },
    {
     "name": "stdout",
     "output_type": "stream",
     "text": [
      "res OK I42.0\n",
      "res OK I44\n",
      "res empty\n"
     ]
    },
    {
     "name": "stderr",
     "output_type": "stream",
     "text": [
      "\r",
      " 27%|██▋       | 389/1435 [1:17:57<1:59:56,  6.88s/it]"
     ]
    },
    {
     "name": "stdout",
     "output_type": "stream",
     "text": [
      "res OK I44.1\n"
     ]
    },
    {
     "name": "stderr",
     "output_type": "stream",
     "text": [
      "\r",
      " 27%|██▋       | 390/1435 [1:18:02<1:54:11,  6.56s/it]"
     ]
    },
    {
     "name": "stdout",
     "output_type": "stream",
     "text": [
      "res OK I44.2\n"
     ]
    },
    {
     "name": "stderr",
     "output_type": "stream",
     "text": [
      "\r",
      " 27%|██▋       | 391/1435 [1:18:09<1:54:03,  6.55s/it]"
     ]
    },
    {
     "name": "stdout",
     "output_type": "stream",
     "text": [
      "res OK I44.7\n"
     ]
    },
    {
     "name": "stderr",
     "output_type": "stream",
     "text": [
      "\r",
      " 27%|██▋       | 392/1435 [1:18:12<1:40:20,  5.77s/it]"
     ]
    },
    {
     "name": "stdout",
     "output_type": "stream",
     "text": [
      "res OK I45.1\n"
     ]
    },
    {
     "name": "stderr",
     "output_type": "stream",
     "text": [
      "\r",
      " 27%|██▋       | 393/1435 [1:18:17<1:35:39,  5.51s/it]"
     ]
    },
    {
     "name": "stdout",
     "output_type": "stream",
     "text": [
      "res OK I45\n"
     ]
    },
    {
     "name": "stderr",
     "output_type": "stream",
     "text": [
      "\r",
      " 27%|██▋       | 394/1435 [1:19:08<5:05:07, 17.59s/it]"
     ]
    },
    {
     "name": "stdout",
     "output_type": "stream",
     "text": [
      "res OK I46\n"
     ]
    },
    {
     "name": "stderr",
     "output_type": "stream",
     "text": [
      "\r",
      " 28%|██▊       | 395/1435 [1:20:18<9:07:50, 31.61s/it]"
     ]
    },
    {
     "name": "stdout",
     "output_type": "stream",
     "text": [
      "res OK I47.1\n"
     ]
    },
    {
     "name": "stderr",
     "output_type": "stream",
     "text": [
      "\r",
      " 28%|██▊       | 396/1435 [1:20:20<6:43:41, 23.31s/it]"
     ]
    },
    {
     "name": "stdout",
     "output_type": "stream",
     "text": [
      "res OK I46.0\n"
     ]
    },
    {
     "name": "stderr",
     "output_type": "stream",
     "text": [
      "\r",
      " 28%|██▊       | 397/1435 [1:20:21<4:53:51, 16.99s/it]"
     ]
    },
    {
     "name": "stdout",
     "output_type": "stream",
     "text": [
      "res OK I47\n"
     ]
    },
    {
     "name": "stderr",
     "output_type": "stream",
     "text": [
      "\r",
      " 28%|██▊       | 398/1435 [1:20:24<3:46:13, 13.09s/it]"
     ]
    },
    {
     "name": "stdout",
     "output_type": "stream",
     "text": [
      "res OK I48\n"
     ]
    },
    {
     "name": "stderr",
     "output_type": "stream",
     "text": [
      "\r",
      " 28%|██▊       | 399/1435 [1:20:25<2:42:28,  9.41s/it]"
     ]
    },
    {
     "name": "stdout",
     "output_type": "stream",
     "text": [
      "res empty\n"
     ]
    },
    {
     "name": "stderr",
     "output_type": "stream",
     "text": [
      "\r",
      " 28%|██▊       | 400/1435 [1:20:32<2:30:07,  8.70s/it]"
     ]
    },
    {
     "name": "stdout",
     "output_type": "stream",
     "text": [
      "res OK I47.2\n"
     ]
    },
    {
     "name": "stderr",
     "output_type": "stream",
     "text": [
      "\r",
      " 28%|██▊       | 401/1435 [1:20:54<3:38:40, 12.69s/it]"
     ]
    },
    {
     "name": "stdout",
     "output_type": "stream",
     "text": [
      "res OK I48.0\n"
     ]
    },
    {
     "name": "stderr",
     "output_type": "stream",
     "text": [
      "\r",
      " 28%|██▊       | 402/1435 [1:20:54<2:35:56,  9.06s/it]"
     ]
    },
    {
     "name": "stdout",
     "output_type": "stream",
     "text": [
      "res empty\n",
      "res OK I48.9\n"
     ]
    },
    {
     "name": "stderr",
     "output_type": "stream",
     "text": [
      " 28%|██▊       | 404/1435 [1:21:34<3:46:25, 13.18s/it]"
     ]
    },
    {
     "name": "stdout",
     "output_type": "stream",
     "text": [
      "res OK I49.3\n"
     ]
    },
    {
     "name": "stderr",
     "output_type": "stream",
     "text": [
      "\r",
      " 28%|██▊       | 405/1435 [1:21:35<2:46:12,  9.68s/it]"
     ]
    },
    {
     "name": "stdout",
     "output_type": "stream",
     "text": [
      "res OK I49\n"
     ]
    },
    {
     "name": "stderr",
     "output_type": "stream",
     "text": [
      "\r",
      " 28%|██▊       | 406/1435 [1:21:41<2:24:24,  8.42s/it]"
     ]
    },
    {
     "name": "stdout",
     "output_type": "stream",
     "text": [
      "res OK I49.9\n"
     ]
    },
    {
     "name": "stderr",
     "output_type": "stream",
     "text": [
      "\r",
      " 28%|██▊       | 407/1435 [1:21:56<3:00:34, 10.54s/it]"
     ]
    },
    {
     "name": "stdout",
     "output_type": "stream",
     "text": [
      "res OK I50.0\n"
     ]
    },
    {
     "name": "stderr",
     "output_type": "stream",
     "text": [
      "\r",
      " 28%|██▊       | 408/1435 [1:21:57<2:07:52,  7.47s/it]"
     ]
    },
    {
     "name": "stdout",
     "output_type": "stream",
     "text": [
      "res OK I50\n"
     ]
    },
    {
     "name": "stderr",
     "output_type": "stream",
     "text": [
      "\r",
      " 29%|██▊       | 409/1435 [1:22:07<2:25:01,  8.48s/it]"
     ]
    },
    {
     "name": "stdout",
     "output_type": "stream",
     "text": [
      "res OK I50.9\n"
     ]
    },
    {
     "name": "stderr",
     "output_type": "stream",
     "text": [
      "\r",
      " 29%|██▊       | 410/1435 [1:22:09<1:52:10,  6.57s/it]"
     ]
    },
    {
     "name": "stdout",
     "output_type": "stream",
     "text": [
      "res OK I50.1\n"
     ]
    },
    {
     "name": "stderr",
     "output_type": "stream",
     "text": [
      "\r",
      " 29%|██▊       | 411/1435 [1:22:21<2:14:57,  7.91s/it]"
     ]
    },
    {
     "name": "stdout",
     "output_type": "stream",
     "text": [
      "res OK I51\n"
     ]
    },
    {
     "name": "stderr",
     "output_type": "stream",
     "text": [
      "\r",
      " 29%|██▊       | 412/1435 [1:22:58<4:45:09, 16.72s/it]"
     ]
    },
    {
     "name": "stdout",
     "output_type": "stream",
     "text": [
      "res OK I51.7\n"
     ]
    },
    {
     "name": "stderr",
     "output_type": "stream",
     "text": [
      "\r",
      " 29%|██▉       | 413/1435 [1:24:09<9:21:08, 32.94s/it]"
     ]
    },
    {
     "name": "stdout",
     "output_type": "stream",
     "text": [
      "res OK I51.8\n"
     ]
    },
    {
     "name": "stderr",
     "output_type": "stream",
     "text": [
      "\r",
      " 29%|██▉       | 414/1435 [1:24:09<6:35:08, 23.22s/it]"
     ]
    },
    {
     "name": "stdout",
     "output_type": "stream",
     "text": [
      "res OK I61\n"
     ]
    },
    {
     "name": "stderr",
     "output_type": "stream",
     "text": [
      "\r",
      " 29%|██▉       | 415/1435 [1:24:10<4:38:49, 16.40s/it]"
     ]
    },
    {
     "name": "stdout",
     "output_type": "stream",
     "text": [
      "res empty\n"
     ]
    },
    {
     "name": "stderr",
     "output_type": "stream",
     "text": [
      "\r",
      " 29%|██▉       | 416/1435 [1:24:16<3:45:22, 13.27s/it]"
     ]
    },
    {
     "name": "stdout",
     "output_type": "stream",
     "text": [
      "res OK I51.9\n"
     ]
    },
    {
     "name": "stderr",
     "output_type": "stream",
     "text": [
      "\r",
      " 29%|██▉       | 417/1435 [1:24:16<2:41:06,  9.50s/it]"
     ]
    },
    {
     "name": "stdout",
     "output_type": "stream",
     "text": [
      "res OK I60\n"
     ]
    },
    {
     "name": "stderr",
     "output_type": "stream",
     "text": [
      "\r",
      " 29%|██▉       | 418/1435 [1:24:17<1:56:08,  6.85s/it]"
     ]
    },
    {
     "name": "stdout",
     "output_type": "stream",
     "text": [
      "res empty\n"
     ]
    },
    {
     "name": "stderr",
     "output_type": "stream",
     "text": [
      "\r",
      " 29%|██▉       | 419/1435 [1:24:29<2:23:34,  8.48s/it]"
     ]
    },
    {
     "name": "stdout",
     "output_type": "stream",
     "text": [
      "res OK I61.9\n"
     ]
    },
    {
     "name": "stderr",
     "output_type": "stream",
     "text": [
      "\r",
      " 29%|██▉       | 420/1435 [1:24:51<3:28:51, 12.35s/it]"
     ]
    },
    {
     "name": "stdout",
     "output_type": "stream",
     "text": [
      "res OK I63\n"
     ]
    },
    {
     "name": "stderr",
     "output_type": "stream",
     "text": [
      "\r",
      " 29%|██▉       | 421/1435 [1:25:18<4:42:24, 16.71s/it]"
     ]
    },
    {
     "name": "stdout",
     "output_type": "stream",
     "text": [
      "res OK I63.5\n"
     ]
    },
    {
     "name": "stderr",
     "output_type": "stream",
     "text": [
      "\r",
      " 29%|██▉       | 422/1435 [1:25:18<3:22:16, 11.98s/it]"
     ]
    },
    {
     "name": "stdout",
     "output_type": "stream",
     "text": [
      "res empty\n"
     ]
    },
    {
     "name": "stderr",
     "output_type": "stream",
     "text": [
      "\r",
      " 29%|██▉       | 423/1435 [1:25:27<3:03:26, 10.88s/it]"
     ]
    },
    {
     "name": "stdout",
     "output_type": "stream",
     "text": [
      "res OK I64\n"
     ]
    },
    {
     "name": "stderr",
     "output_type": "stream",
     "text": [
      "\r",
      " 30%|██▉       | 424/1435 [1:25:33<2:40:52,  9.55s/it]"
     ]
    },
    {
     "name": "stdout",
     "output_type": "stream",
     "text": [
      "res OK I63.9\n"
     ]
    },
    {
     "name": "stderr",
     "output_type": "stream",
     "text": [
      "\r",
      " 30%|██▉       | 425/1435 [1:25:34<1:55:41,  6.87s/it]"
     ]
    },
    {
     "name": "stdout",
     "output_type": "stream",
     "text": [
      "res empty\n"
     ]
    },
    {
     "name": "stderr",
     "output_type": "stream",
     "text": [
      "\r",
      " 30%|██▉       | 426/1435 [1:25:34<1:23:46,  4.98s/it]"
     ]
    },
    {
     "name": "stdout",
     "output_type": "stream",
     "text": [
      "res empty\n"
     ]
    },
    {
     "name": "stderr",
     "output_type": "stream",
     "text": [
      "\r",
      " 30%|██▉       | 427/1435 [1:25:38<1:15:39,  4.50s/it]"
     ]
    },
    {
     "name": "stdout",
     "output_type": "stream",
     "text": [
      "res OK I65\n"
     ]
    },
    {
     "name": "stderr",
     "output_type": "stream",
     "text": [
      "\r",
      " 30%|██▉       | 428/1435 [1:25:49<1:47:41,  6.42s/it]"
     ]
    },
    {
     "name": "stdout",
     "output_type": "stream",
     "text": [
      "res OK I65.2\n"
     ]
    },
    {
     "name": "stderr",
     "output_type": "stream",
     "text": [
      "\r",
      " 30%|██▉       | 429/1435 [1:25:49<1:17:39,  4.63s/it]"
     ]
    },
    {
     "name": "stdout",
     "output_type": "stream",
     "text": [
      "res empty\n"
     ]
    },
    {
     "name": "stderr",
     "output_type": "stream",
     "text": [
      "\r",
      " 30%|██▉       | 430/1435 [1:25:53<1:14:18,  4.44s/it]"
     ]
    },
    {
     "name": "stdout",
     "output_type": "stream",
     "text": [
      "res OK I67\n"
     ]
    },
    {
     "name": "stderr",
     "output_type": "stream",
     "text": [
      "\r",
      " 30%|███       | 431/1435 [1:25:54<54:42,  3.27s/it]  "
     ]
    },
    {
     "name": "stdout",
     "output_type": "stream",
     "text": [
      "res empty\n"
     ]
    },
    {
     "name": "stderr",
     "output_type": "stream",
     "text": [
      "\r",
      " 30%|███       | 432/1435 [1:26:02<1:21:57,  4.90s/it]"
     ]
    },
    {
     "name": "stdout",
     "output_type": "stream",
     "text": [
      "res OK I67.8\n"
     ]
    },
    {
     "name": "stderr",
     "output_type": "stream",
     "text": [
      "\r",
      " 30%|███       | 433/1435 [1:26:07<1:21:02,  4.85s/it]"
     ]
    },
    {
     "name": "stdout",
     "output_type": "stream",
     "text": [
      "res OK I67.9\n"
     ]
    },
    {
     "name": "stderr",
     "output_type": "stream",
     "text": [
      "\r",
      " 30%|███       | 434/1435 [1:26:17<1:47:38,  6.45s/it]"
     ]
    },
    {
     "name": "stdout",
     "output_type": "stream",
     "text": [
      "res OK I69\n"
     ]
    },
    {
     "name": "stderr",
     "output_type": "stream",
     "text": [
      "\r",
      " 30%|███       | 435/1435 [1:26:41<3:15:02, 11.70s/it]"
     ]
    },
    {
     "name": "stdout",
     "output_type": "stream",
     "text": [
      "res OK I69.4\n"
     ]
    },
    {
     "name": "stderr",
     "output_type": "stream",
     "text": [
      "\r",
      " 30%|███       | 436/1435 [1:26:42<2:19:49,  8.40s/it]"
     ]
    },
    {
     "name": "stdout",
     "output_type": "stream",
     "text": [
      "res empty\n"
     ]
    },
    {
     "name": "stderr",
     "output_type": "stream",
     "text": [
      "\r",
      " 30%|███       | 437/1435 [1:27:55<7:42:50, 27.83s/it]"
     ]
    },
    {
     "name": "stdout",
     "output_type": "stream",
     "text": [
      "res OK I71\n"
     ]
    },
    {
     "name": "stderr",
     "output_type": "stream",
     "text": [
      "\r",
      " 31%|███       | 438/1435 [1:28:00<5:49:34, 21.04s/it]"
     ]
    },
    {
     "name": "stdout",
     "output_type": "stream",
     "text": [
      "res OK I70\n"
     ]
    },
    {
     "name": "stderr",
     "output_type": "stream",
     "text": [
      "\r",
      " 31%|███       | 439/1435 [1:28:11<4:57:53, 17.95s/it]"
     ]
    },
    {
     "name": "stdout",
     "output_type": "stream",
     "text": [
      "res OK I71.4\n"
     ]
    },
    {
     "name": "stderr",
     "output_type": "stream",
     "text": [
      "\r",
      " 31%|███       | 440/1435 [1:28:11<3:30:41, 12.70s/it]"
     ]
    },
    {
     "name": "stdout",
     "output_type": "stream",
     "text": [
      "res empty\n"
     ]
    },
    {
     "name": "stderr",
     "output_type": "stream",
     "text": [
      "\r",
      " 31%|███       | 441/1435 [1:28:12<2:29:16,  9.01s/it]"
     ]
    },
    {
     "name": "stdout",
     "output_type": "stream",
     "text": [
      "res empty\n",
      "res OK I73.0\n"
     ]
    },
    {
     "name": "stderr",
     "output_type": "stream",
     "text": [
      " 31%|███       | 443/1435 [1:28:12<1:14:48,  4.52s/it]"
     ]
    },
    {
     "name": "stdout",
     "output_type": "stream",
     "text": [
      "res empty\n"
     ]
    },
    {
     "name": "stderr",
     "output_type": "stream",
     "text": [
      "\r",
      " 31%|███       | 444/1435 [1:28:27<2:06:24,  7.65s/it]"
     ]
    },
    {
     "name": "stdout",
     "output_type": "stream",
     "text": [
      "res OK I73.9\n"
     ]
    },
    {
     "name": "stderr",
     "output_type": "stream",
     "text": [
      "\r",
      " 31%|███       | 445/1435 [1:28:46<2:59:33, 10.88s/it]"
     ]
    },
    {
     "name": "stdout",
     "output_type": "stream",
     "text": [
      "res OK I74\n",
      "res OK I77\n"
     ]
    },
    {
     "name": "stderr",
     "output_type": "stream",
     "text": [
      "\r",
      " 31%|███       | 446/1435 [1:29:26<5:26:33, 19.81s/it]"
     ]
    },
    {
     "name": "stdout",
     "output_type": "stream",
     "text": [
      "res OK I77.1\n"
     ]
    },
    {
     "name": "stderr",
     "output_type": "stream",
     "text": [
      "\r",
      " 31%|███       | 448/1435 [1:29:34<3:25:41, 12.50s/it]"
     ]
    },
    {
     "name": "stdout",
     "output_type": "stream",
     "text": [
      "res OK I80\n"
     ]
    },
    {
     "name": "stderr",
     "output_type": "stream",
     "text": [
      "\r",
      " 31%|███▏      | 449/1435 [1:29:36<2:39:56,  9.73s/it]"
     ]
    },
    {
     "name": "stdout",
     "output_type": "stream",
     "text": [
      "res OK I80.2\n"
     ]
    },
    {
     "name": "stderr",
     "output_type": "stream",
     "text": [
      "\r",
      " 31%|███▏      | 450/1435 [1:29:50<2:58:49, 10.89s/it]"
     ]
    },
    {
     "name": "stdout",
     "output_type": "stream",
     "text": [
      "res OK I83\n"
     ]
    },
    {
     "name": "stderr",
     "output_type": "stream",
     "text": [
      "\r",
      " 31%|███▏      | 451/1435 [1:29:55<2:34:08,  9.40s/it]"
     ]
    },
    {
     "name": "stdout",
     "output_type": "stream",
     "text": [
      "res OK I83.9\n"
     ]
    },
    {
     "name": "stderr",
     "output_type": "stream",
     "text": [
      "\r",
      " 31%|███▏      | 452/1435 [1:30:02<2:24:11,  8.80s/it]"
     ]
    },
    {
     "name": "stdout",
     "output_type": "stream",
     "text": [
      "res OK I84.1\n"
     ]
    },
    {
     "name": "stderr",
     "output_type": "stream",
     "text": [
      "\r",
      " 32%|███▏      | 453/1435 [1:30:03<1:44:56,  6.41s/it]"
     ]
    },
    {
     "name": "stdout",
     "output_type": "stream",
     "text": [
      "res empty\n"
     ]
    },
    {
     "name": "stderr",
     "output_type": "stream",
     "text": [
      "\r",
      " 32%|███▏      | 454/1435 [1:30:08<1:40:06,  6.12s/it]"
     ]
    },
    {
     "name": "stdout",
     "output_type": "stream",
     "text": [
      "res OK I84\n"
     ]
    },
    {
     "name": "stderr",
     "output_type": "stream",
     "text": [
      "\r",
      " 32%|███▏      | 455/1435 [1:30:09<1:12:48,  4.46s/it]"
     ]
    },
    {
     "name": "stdout",
     "output_type": "stream",
     "text": [
      "res empty\n"
     ]
    },
    {
     "name": "stderr",
     "output_type": "stream",
     "text": [
      "\r",
      " 32%|███▏      | 456/1435 [1:30:09<54:18,  3.33s/it]  "
     ]
    },
    {
     "name": "stdout",
     "output_type": "stream",
     "text": [
      "res empty\n",
      "res OK I84.2\n"
     ]
    },
    {
     "name": "stderr",
     "output_type": "stream",
     "text": [
      " 32%|███▏      | 458/1435 [1:30:31<1:58:51,  7.30s/it]"
     ]
    },
    {
     "name": "stdout",
     "output_type": "stream",
     "text": [
      "res OK I84.6\n"
     ]
    },
    {
     "name": "stderr",
     "output_type": "stream",
     "text": [
      "\r",
      " 32%|███▏      | 459/1435 [1:31:45<7:20:06, 27.06s/it]"
     ]
    },
    {
     "name": "stdout",
     "output_type": "stream",
     "text": [
      "res OK I84.8\n"
     ]
    },
    {
     "name": "stderr",
     "output_type": "stream",
     "text": [
      "\r",
      " 32%|███▏      | 460/1435 [1:31:53<5:50:27, 21.57s/it]"
     ]
    },
    {
     "name": "stdout",
     "output_type": "stream",
     "text": [
      "res OK I84.9\n"
     ]
    },
    {
     "name": "stderr",
     "output_type": "stream",
     "text": [
      "\r",
      " 32%|███▏      | 461/1435 [1:32:05<5:01:27, 18.57s/it]"
     ]
    },
    {
     "name": "stdout",
     "output_type": "stream",
     "text": [
      "res OK I89\n"
     ]
    },
    {
     "name": "stderr",
     "output_type": "stream",
     "text": [
      "\r",
      " 32%|███▏      | 462/1435 [1:32:10<3:55:52, 14.55s/it]"
     ]
    },
    {
     "name": "stdout",
     "output_type": "stream",
     "text": [
      "res OK I89.0\n"
     ]
    },
    {
     "name": "stderr",
     "output_type": "stream",
     "text": [
      "\r",
      " 32%|███▏      | 463/1435 [1:32:30<4:22:36, 16.21s/it]"
     ]
    },
    {
     "name": "stdout",
     "output_type": "stream",
     "text": [
      "res OK I95\n"
     ]
    },
    {
     "name": "stderr",
     "output_type": "stream",
     "text": [
      "\r",
      " 32%|███▏      | 464/1435 [1:32:40<3:49:28, 14.18s/it]"
     ]
    },
    {
     "name": "stdout",
     "output_type": "stream",
     "text": [
      "res OK I95.1\n"
     ]
    },
    {
     "name": "stderr",
     "output_type": "stream",
     "text": [
      "\r",
      " 32%|███▏      | 465/1435 [1:33:06<4:48:14, 17.83s/it]"
     ]
    },
    {
     "name": "stdout",
     "output_type": "stream",
     "text": [
      "res OK I95.9\n"
     ]
    },
    {
     "name": "stderr",
     "output_type": "stream",
     "text": [
      "\r",
      " 32%|███▏      | 466/1435 [1:33:14<4:00:14, 14.88s/it]"
     ]
    },
    {
     "name": "stdout",
     "output_type": "stream",
     "text": [
      "res OK J02\n"
     ]
    },
    {
     "name": "stderr",
     "output_type": "stream",
     "text": [
      "\r",
      " 33%|███▎      | 467/1435 [1:33:32<4:14:40, 15.79s/it]"
     ]
    },
    {
     "name": "stdout",
     "output_type": "stream",
     "text": [
      "res OK J02.9\n"
     ]
    },
    {
     "name": "stderr",
     "output_type": "stream",
     "text": [
      "\r",
      " 33%|███▎      | 468/1435 [1:33:32<2:59:50, 11.16s/it]"
     ]
    },
    {
     "name": "stdout",
     "output_type": "stream",
     "text": [
      "res OK J06\n",
      "res OK J06.9\n"
     ]
    },
    {
     "name": "stderr",
     "output_type": "stream",
     "text": [
      "\r",
      " 33%|███▎      | 469/1435 [1:33:43<2:56:34, 10.97s/it]"
     ]
    },
    {
     "name": "stdout",
     "output_type": "stream",
     "text": [
      "res empty\n"
     ]
    },
    {
     "name": "stderr",
     "output_type": "stream",
     "text": [
      "\r",
      " 33%|███▎      | 471/1435 [1:33:50<2:02:50,  7.65s/it]"
     ]
    },
    {
     "name": "stdout",
     "output_type": "stream",
     "text": [
      "res OK J10\n"
     ]
    },
    {
     "name": "stderr",
     "output_type": "stream",
     "text": [
      "\r",
      " 33%|███▎      | 472/1435 [1:33:57<2:00:52,  7.53s/it]"
     ]
    },
    {
     "name": "stdout",
     "output_type": "stream",
     "text": [
      "res OK J12\n"
     ]
    },
    {
     "name": "stderr",
     "output_type": "stream",
     "text": [
      "\r",
      " 33%|███▎      | 473/1435 [1:34:10<2:20:17,  8.75s/it]"
     ]
    },
    {
     "name": "stdout",
     "output_type": "stream",
     "text": [
      "res OK J18\n"
     ]
    },
    {
     "name": "stderr",
     "output_type": "stream",
     "text": [
      "\r",
      " 33%|███▎      | 474/1435 [1:34:11<1:48:53,  6.80s/it]"
     ]
    },
    {
     "name": "stdout",
     "output_type": "stream",
     "text": [
      "res OK J18.0\n"
     ]
    },
    {
     "name": "stderr",
     "output_type": "stream",
     "text": [
      "\r",
      " 33%|███▎      | 475/1435 [1:34:25<2:21:42,  8.86s/it]"
     ]
    },
    {
     "name": "stdout",
     "output_type": "stream",
     "text": [
      "res OK J18.1\n"
     ]
    },
    {
     "name": "stderr",
     "output_type": "stream",
     "text": [
      "\r",
      " 33%|███▎      | 476/1435 [1:35:37<7:07:12, 26.73s/it]"
     ]
    },
    {
     "name": "stdout",
     "output_type": "stream",
     "text": [
      "res OK J18.9\n",
      "res OK J22\n"
     ]
    },
    {
     "name": "stderr",
     "output_type": "stream",
     "text": [
      " 33%|███▎      | 478/1435 [1:35:52<4:23:23, 16.51s/it]"
     ]
    },
    {
     "name": "stdout",
     "output_type": "stream",
     "text": [
      "res empty\n"
     ]
    },
    {
     "name": "stderr",
     "output_type": "stream",
     "text": [
      "\r",
      " 33%|███▎      | 479/1435 [1:36:03<3:59:24, 15.03s/it]"
     ]
    },
    {
     "name": "stdout",
     "output_type": "stream",
     "text": [
      "res OK J30\n"
     ]
    },
    {
     "name": "stderr",
     "output_type": "stream",
     "text": [
      "\r",
      " 33%|███▎      | 480/1435 [1:36:04<2:50:08, 10.69s/it]"
     ]
    },
    {
     "name": "stdout",
     "output_type": "stream",
     "text": [
      "res empty\n"
     ]
    },
    {
     "name": "stderr",
     "output_type": "stream",
     "text": [
      "\r",
      " 34%|███▎      | 481/1435 [1:36:11<2:33:01,  9.62s/it]"
     ]
    },
    {
     "name": "stdout",
     "output_type": "stream",
     "text": [
      "res OK J30.1\n"
     ]
    },
    {
     "name": "stderr",
     "output_type": "stream",
     "text": [
      "\r",
      " 34%|███▎      | 482/1435 [1:36:29<3:11:54, 12.08s/it]"
     ]
    },
    {
     "name": "stdout",
     "output_type": "stream",
     "text": [
      "res OK J31\n"
     ]
    },
    {
     "name": "stderr",
     "output_type": "stream",
     "text": [
      "\r",
      " 34%|███▎      | 483/1435 [1:36:33<2:35:00,  9.77s/it]"
     ]
    },
    {
     "name": "stdout",
     "output_type": "stream",
     "text": [
      "res OK J31.0\n"
     ]
    },
    {
     "name": "stderr",
     "output_type": "stream",
     "text": [
      "\r",
      " 34%|███▎      | 484/1435 [1:36:56<3:37:32, 13.72s/it]"
     ]
    },
    {
     "name": "stdout",
     "output_type": "stream",
     "text": [
      "res OK J32\n"
     ]
    },
    {
     "name": "stderr",
     "output_type": "stream",
     "text": [
      "\r",
      " 34%|███▍      | 485/1435 [1:37:07<3:26:13, 13.02s/it]"
     ]
    },
    {
     "name": "stdout",
     "output_type": "stream",
     "text": [
      "res OK J32.9\n"
     ]
    },
    {
     "name": "stderr",
     "output_type": "stream",
     "text": [
      "\r",
      " 34%|███▍      | 486/1435 [1:37:26<3:51:46, 14.65s/it]"
     ]
    },
    {
     "name": "stdout",
     "output_type": "stream",
     "text": [
      "res OK J33\n"
     ]
    },
    {
     "name": "stderr",
     "output_type": "stream",
     "text": [
      "\r",
      " 34%|███▍      | 487/1435 [1:37:27<2:50:13, 10.77s/it]"
     ]
    },
    {
     "name": "stdout",
     "output_type": "stream",
     "text": [
      "res OK J33.0\n"
     ]
    },
    {
     "name": "stderr",
     "output_type": "stream",
     "text": [
      "\r",
      " 34%|███▍      | 488/1435 [1:37:37<2:44:41, 10.43s/it]"
     ]
    },
    {
     "name": "stdout",
     "output_type": "stream",
     "text": [
      "res OK J33.9\n"
     ]
    },
    {
     "name": "stderr",
     "output_type": "stream",
     "text": [
      "\r",
      " 34%|███▍      | 489/1435 [1:37:50<2:55:19, 11.12s/it]"
     ]
    },
    {
     "name": "stdout",
     "output_type": "stream",
     "text": [
      "res OK J34\n"
     ]
    },
    {
     "name": "stderr",
     "output_type": "stream",
     "text": [
      "\r",
      " 34%|███▍      | 490/1435 [1:37:53<2:16:54,  8.69s/it]"
     ]
    },
    {
     "name": "stdout",
     "output_type": "stream",
     "text": [
      "res OK J34.2\n"
     ]
    },
    {
     "name": "stderr",
     "output_type": "stream",
     "text": [
      "\r",
      " 34%|███▍      | 491/1435 [1:38:01<2:15:53,  8.64s/it]"
     ]
    },
    {
     "name": "stdout",
     "output_type": "stream",
     "text": [
      "res OK J34.3\n"
     ]
    },
    {
     "name": "stderr",
     "output_type": "stream",
     "text": [
      "\r",
      " 34%|███▍      | 492/1435 [1:38:08<2:08:32,  8.18s/it]"
     ]
    },
    {
     "name": "stdout",
     "output_type": "stream",
     "text": [
      "res OK J34.8\n",
      "res OK J35\n"
     ]
    },
    {
     "name": "stderr",
     "output_type": "stream",
     "text": [
      "\r",
      " 34%|███▍      | 493/1435 [1:38:31<3:18:33, 12.65s/it]"
     ]
    },
    {
     "name": "stdout",
     "output_type": "stream",
     "text": [
      "res empty\n"
     ]
    },
    {
     "name": "stderr",
     "output_type": "stream",
     "text": [
      "\r",
      " 34%|███▍      | 495/1435 [1:39:21<4:45:26, 18.22s/it]"
     ]
    },
    {
     "name": "stdout",
     "output_type": "stream",
     "text": [
      "res OK J38\n"
     ]
    },
    {
     "name": "stderr",
     "output_type": "stream",
     "text": [
      "\r",
      " 35%|███▍      | 496/1435 [1:39:37<4:38:09, 17.77s/it]"
     ]
    },
    {
     "name": "stdout",
     "output_type": "stream",
     "text": [
      "res OK J39\n"
     ]
    },
    {
     "name": "stderr",
     "output_type": "stream",
     "text": [
      "\r",
      " 35%|███▍      | 497/1435 [1:39:38<3:27:10, 13.25s/it]"
     ]
    },
    {
     "name": "stdout",
     "output_type": "stream",
     "text": [
      "res empty\n"
     ]
    },
    {
     "name": "stderr",
     "output_type": "stream",
     "text": [
      "\r",
      " 35%|███▍      | 498/1435 [1:39:57<3:51:29, 14.82s/it]"
     ]
    },
    {
     "name": "stdout",
     "output_type": "stream",
     "text": [
      "res OK J43\n"
     ]
    },
    {
     "name": "stderr",
     "output_type": "stream",
     "text": [
      "\r",
      " 35%|███▍      | 499/1435 [1:40:07<3:31:30, 13.56s/it]"
     ]
    },
    {
     "name": "stdout",
     "output_type": "stream",
     "text": [
      "res OK J43.9\n"
     ]
    },
    {
     "name": "stderr",
     "output_type": "stream",
     "text": [
      "\r",
      " 35%|███▍      | 500/1435 [1:40:08<2:32:59,  9.82s/it]"
     ]
    },
    {
     "name": "stdout",
     "output_type": "stream",
     "text": [
      "res empty\n"
     ]
    },
    {
     "name": "stderr",
     "output_type": "stream",
     "text": [
      "\r",
      " 35%|███▍      | 501/1435 [1:40:29<3:26:17, 13.25s/it]"
     ]
    },
    {
     "name": "stdout",
     "output_type": "stream",
     "text": [
      "res OK J44.0\n"
     ]
    },
    {
     "name": "stderr",
     "output_type": "stream",
     "text": [
      "\r",
      " 35%|███▍      | 502/1435 [1:40:33<2:40:23, 10.31s/it]"
     ]
    },
    {
     "name": "stdout",
     "output_type": "stream",
     "text": [
      "res OK J44\n"
     ]
    },
    {
     "name": "stderr",
     "output_type": "stream",
     "text": [
      "\r",
      " 35%|███▌      | 503/1435 [1:40:43<2:42:00, 10.43s/it]"
     ]
    },
    {
     "name": "stdout",
     "output_type": "stream",
     "text": [
      "res OK J44.1\n"
     ]
    },
    {
     "name": "stderr",
     "output_type": "stream",
     "text": [
      "\r",
      " 35%|███▌      | 504/1435 [1:40:59<3:05:09, 11.93s/it]"
     ]
    },
    {
     "name": "stdout",
     "output_type": "stream",
     "text": [
      "res OK J44.8\n"
     ]
    },
    {
     "name": "stderr",
     "output_type": "stream",
     "text": [
      "\r",
      " 35%|███▌      | 505/1435 [1:41:27<4:21:39, 16.88s/it]"
     ]
    },
    {
     "name": "stdout",
     "output_type": "stream",
     "text": [
      "res OK J44.9\n"
     ]
    },
    {
     "name": "stderr",
     "output_type": "stream",
     "text": [
      "\r",
      " 35%|███▌      | 506/1435 [1:41:28<3:08:35, 12.18s/it]"
     ]
    },
    {
     "name": "stdout",
     "output_type": "stream",
     "text": [
      "res OK J45.0\n",
      "res OK J45\n"
     ]
    },
    {
     "name": "stderr",
     "output_type": "stream",
     "text": [
      " 35%|███▌      | 508/1435 [1:41:52<2:54:10, 11.27s/it]"
     ]
    },
    {
     "name": "stdout",
     "output_type": "stream",
     "text": [
      "res OK J47\n"
     ]
    },
    {
     "name": "stderr",
     "output_type": "stream",
     "text": [
      "\r",
      " 35%|███▌      | 509/1435 [1:41:53<2:06:44,  8.21s/it]"
     ]
    },
    {
     "name": "stdout",
     "output_type": "stream",
     "text": [
      "res OK J69\n"
     ]
    },
    {
     "name": "stderr",
     "output_type": "stream",
     "text": [
      "\r",
      " 36%|███▌      | 510/1435 [1:41:54<1:37:09,  6.30s/it]"
     ]
    },
    {
     "name": "stdout",
     "output_type": "stream",
     "text": [
      "res OK J45.9\n"
     ]
    },
    {
     "name": "stderr",
     "output_type": "stream",
     "text": [
      "\r",
      " 36%|███▌      | 511/1435 [1:42:03<1:47:03,  6.95s/it]"
     ]
    },
    {
     "name": "stdout",
     "output_type": "stream",
     "text": [
      "res OK J69.0\n"
     ]
    },
    {
     "name": "stderr",
     "output_type": "stream",
     "text": [
      "\r",
      " 36%|███▌      | 512/1435 [1:42:08<1:37:17,  6.32s/it]"
     ]
    },
    {
     "name": "stdout",
     "output_type": "stream",
     "text": [
      "res OK J84\n"
     ]
    },
    {
     "name": "stderr",
     "output_type": "stream",
     "text": [
      "\r",
      " 36%|███▌      | 513/1435 [1:43:06<5:38:20, 22.02s/it]"
     ]
    },
    {
     "name": "stdout",
     "output_type": "stream",
     "text": [
      "res OK J84.1\n"
     ]
    },
    {
     "name": "stderr",
     "output_type": "stream",
     "text": [
      "\r",
      " 36%|███▌      | 514/1435 [1:43:30<5:46:59, 22.61s/it]"
     ]
    },
    {
     "name": "stdout",
     "output_type": "stream",
     "text": [
      "res OK J90\n"
     ]
    },
    {
     "name": "stderr",
     "output_type": "stream",
     "text": [
      "\r",
      " 36%|███▌      | 515/1435 [1:43:50<5:33:36, 21.76s/it]"
     ]
    },
    {
     "name": "stdout",
     "output_type": "stream",
     "text": [
      "res OK J92\n"
     ]
    },
    {
     "name": "stderr",
     "output_type": "stream",
     "text": [
      "\r",
      " 36%|███▌      | 516/1435 [1:44:04<4:57:59, 19.46s/it]"
     ]
    },
    {
     "name": "stdout",
     "output_type": "stream",
     "text": [
      "res OK J92.9\n"
     ]
    },
    {
     "name": "stderr",
     "output_type": "stream",
     "text": [
      "\r",
      " 36%|███▌      | 517/1435 [1:44:23<4:55:20, 19.30s/it]"
     ]
    },
    {
     "name": "stdout",
     "output_type": "stream",
     "text": [
      "res OK J93\n"
     ]
    },
    {
     "name": "stderr",
     "output_type": "stream",
     "text": [
      "\r",
      " 36%|███▌      | 518/1435 [1:44:24<3:28:38, 13.65s/it]"
     ]
    },
    {
     "name": "stdout",
     "output_type": "stream",
     "text": [
      "res empty\n"
     ]
    },
    {
     "name": "stderr",
     "output_type": "stream",
     "text": [
      "\r",
      " 36%|███▌      | 519/1435 [1:44:27<2:39:05, 10.42s/it]"
     ]
    },
    {
     "name": "stdout",
     "output_type": "stream",
     "text": [
      "res OK J93.9\n"
     ]
    },
    {
     "name": "stderr",
     "output_type": "stream",
     "text": [
      "\r",
      " 36%|███▌      | 520/1435 [1:44:34<2:26:55,  9.63s/it]"
     ]
    },
    {
     "name": "stdout",
     "output_type": "stream",
     "text": [
      "res OK J96\n"
     ]
    },
    {
     "name": "stderr",
     "output_type": "stream",
     "text": [
      "\r",
      " 36%|███▋      | 521/1435 [1:44:35<1:45:51,  6.95s/it]"
     ]
    },
    {
     "name": "stdout",
     "output_type": "stream",
     "text": [
      "res empty\n"
     ]
    },
    {
     "name": "stderr",
     "output_type": "stream",
     "text": [
      "\r",
      " 36%|███▋      | 522/1435 [1:44:50<2:23:21,  9.42s/it]"
     ]
    },
    {
     "name": "stdout",
     "output_type": "stream",
     "text": [
      "res OK J96.9\n"
     ]
    },
    {
     "name": "stderr",
     "output_type": "stream",
     "text": [
      " 37%|███▋      | 524/1435 [1:45:24<2:56:35, 11.63s/it]"
     ]
    },
    {
     "name": "stdout",
     "output_type": "stream",
     "text": [
      "res OK J96.90\n",
      "res OK J96.91\n"
     ]
    },
    {
     "name": "stderr",
     "output_type": "stream",
     "text": [
      "\r",
      " 37%|███▋      | 525/1435 [1:45:24<2:06:18,  8.33s/it]"
     ]
    },
    {
     "name": "stdout",
     "output_type": "stream",
     "text": [
      "res empty\n"
     ]
    },
    {
     "name": "stderr",
     "output_type": "stream",
     "text": [
      "\r",
      " 37%|███▋      | 526/1435 [1:45:32<2:05:02,  8.25s/it]"
     ]
    },
    {
     "name": "stdout",
     "output_type": "stream",
     "text": [
      "res OK J98\n"
     ]
    },
    {
     "name": "stderr",
     "output_type": "stream",
     "text": [
      "\r",
      " 37%|███▋      | 527/1435 [1:45:46<2:28:13,  9.79s/it]"
     ]
    },
    {
     "name": "stdout",
     "output_type": "stream",
     "text": [
      "res OK J98.4\n"
     ]
    },
    {
     "name": "stderr",
     "output_type": "stream",
     "text": [
      "\r",
      " 37%|███▋      | 528/1435 [1:45:46<1:46:43,  7.06s/it]"
     ]
    },
    {
     "name": "stdout",
     "output_type": "stream",
     "text": [
      "res empty\n"
     ]
    },
    {
     "name": "stderr",
     "output_type": "stream",
     "text": [
      "\r",
      " 37%|███▋      | 529/1435 [1:45:49<1:25:40,  5.67s/it]"
     ]
    },
    {
     "name": "stdout",
     "output_type": "stream",
     "text": [
      "res OK K01\n"
     ]
    },
    {
     "name": "stderr",
     "output_type": "stream",
     "text": [
      "\r",
      " 37%|███▋      | 530/1435 [1:45:49<1:01:42,  4.09s/it]"
     ]
    },
    {
     "name": "stdout",
     "output_type": "stream",
     "text": [
      "res OK J98.1\n"
     ]
    },
    {
     "name": "stderr",
     "output_type": "stream",
     "text": [
      "\r",
      " 37%|███▋      | 531/1435 [1:46:00<1:29:47,  5.96s/it]"
     ]
    },
    {
     "name": "stdout",
     "output_type": "stream",
     "text": [
      "res OK K02\n"
     ]
    },
    {
     "name": "stderr",
     "output_type": "stream",
     "text": [
      "\r",
      " 37%|███▋      | 532/1435 [1:46:02<1:14:16,  4.94s/it]"
     ]
    },
    {
     "name": "stdout",
     "output_type": "stream",
     "text": [
      "res OK K01.1\n"
     ]
    }
   ],
   "source": [
    "p = Pool(16)\n",
    "\n",
    "for res in tqdm(p.imap_unordered(do_cox_test_pheno, all_ICD10_events.loc[cond].groupby(\"code\")),\n",
    "              total=n_codes_to_process):\n",
    "    if res is None: continue\n",
    "    if len(res[\"code\"]) == 0: \n",
    "        print(\"res empty\")\n",
    "        continue\n",
    "    print(\"res OK %s\" % res[\"code\"][0])\n",
    "    df = pd.DataFrame.from_dict(res)\n",
    "    code = res[\"code\"][0]\n",
    "    df.to_csv(code_file(code))\n",
    "p.close()\n",
    "p.join()"
   ]
  },
  {
   "cell_type": "code",
   "execution_count": 56,
   "metadata": {},
   "outputs": [
    {
     "name": "stdout",
     "output_type": "stream",
     "text": [
      "1183\n"
     ]
    }
   ],
   "source": [
    "already_processed_codes = [c for c in all_ICD10_events.loc[cond].code.unique().tolist() if os.path.exists(code_file(c))]\n",
    "print(len(already_processed_codes))"
   ]
  },
  {
   "cell_type": "code",
   "execution_count": 57,
   "metadata": {},
   "outputs": [],
   "source": [
    "dfs = []\n",
    "for code in set(already_processed_codes):\n",
    "    f = code_file(code)\n",
    "    df = pd.read_csv(f,index_col=0)\n",
    "    dfs.append(df)\n",
    "cox = pd.concat(dfs,axis=0)\n",
    "cox.to_csv(\"%s/cox_results.csv\" % run_dir)"
   ]
  },
  {
   "cell_type": "code",
   "execution_count": 59,
   "metadata": {},
   "outputs": [
    {
     "data": {
      "text/html": [
       "<div>\n",
       "<style scoped>\n",
       "    .dataframe tbody tr th:only-of-type {\n",
       "        vertical-align: middle;\n",
       "    }\n",
       "\n",
       "    .dataframe tbody tr th {\n",
       "        vertical-align: top;\n",
       "    }\n",
       "\n",
       "    .dataframe thead th {\n",
       "        text-align: right;\n",
       "    }\n",
       "</style>\n",
       "<table border=\"1\" class=\"dataframe\">\n",
       "  <thead>\n",
       "    <tr style=\"text-align: right;\">\n",
       "      <th></th>\n",
       "      <th>p_val</th>\n",
       "      <th>desc</th>\n",
       "      <th>log_HR</th>\n",
       "      <th>code</th>\n",
       "      <th>covariates</th>\n",
       "      <th>n_cases</th>\n",
       "      <th>include_until</th>\n",
       "      <th>score</th>\n",
       "    </tr>\n",
       "  </thead>\n",
       "  <tbody>\n",
       "    <tr>\n",
       "      <th>0</th>\n",
       "      <td>5.137125e-08</td>\n",
       "      <td>I26 Pulmonary embolism</td>\n",
       "      <td>0.066104</td>\n",
       "      <td>I26</td>\n",
       "      <td>PLT-MPV-PCT-PDW</td>\n",
       "      <td>6942</td>\n",
       "      <td>default</td>\n",
       "      <td>best_pval_score_homogenous</td>\n",
       "    </tr>\n",
       "    <tr>\n",
       "      <th>0</th>\n",
       "      <td>1.889532e-07</td>\n",
       "      <td>I26.9 Pulmonary embolism without mention of ac...</td>\n",
       "      <td>0.063939</td>\n",
       "      <td>I26.9</td>\n",
       "      <td>PLT-MPV-PCT-PDW</td>\n",
       "      <td>6792</td>\n",
       "      <td>default</td>\n",
       "      <td>best_pval_score_homogenous</td>\n",
       "    </tr>\n",
       "    <tr>\n",
       "      <th>0</th>\n",
       "      <td>5.505029e-06</td>\n",
       "      <td>I21 Acute myocardial infarction</td>\n",
       "      <td>0.038477</td>\n",
       "      <td>I21</td>\n",
       "      <td>PLT-MPV-PCT-PDW</td>\n",
       "      <td>14198</td>\n",
       "      <td>default</td>\n",
       "      <td>best_pval_score_homogenous</td>\n",
       "    </tr>\n",
       "    <tr>\n",
       "      <th>0</th>\n",
       "      <td>1.046339e-04</td>\n",
       "      <td>M81 Osteoporosis without pathological fracture</td>\n",
       "      <td>0.031544</td>\n",
       "      <td>M81</td>\n",
       "      <td>PLT-MPV-PCT-PDW</td>\n",
       "      <td>15583</td>\n",
       "      <td>default</td>\n",
       "      <td>best_pval_score_homogenous</td>\n",
       "    </tr>\n",
       "    <tr>\n",
       "      <th>0</th>\n",
       "      <td>1.247202e-04</td>\n",
       "      <td>Z86.7 Personal history of diseases of the circ...</td>\n",
       "      <td>0.023225</td>\n",
       "      <td>Z86.7</td>\n",
       "      <td>PLT-MPV-PCT-PDW</td>\n",
       "      <td>27912</td>\n",
       "      <td>default</td>\n",
       "      <td>best_pval_score_homogenous</td>\n",
       "    </tr>\n",
       "    <tr>\n",
       "      <th>...</th>\n",
       "      <td>...</td>\n",
       "      <td>...</td>\n",
       "      <td>...</td>\n",
       "      <td>...</td>\n",
       "      <td>...</td>\n",
       "      <td>...</td>\n",
       "      <td>...</td>\n",
       "      <td>...</td>\n",
       "    </tr>\n",
       "    <tr>\n",
       "      <th>0</th>\n",
       "      <td>9.960404e-01</td>\n",
       "      <td>C83 Diffuse non-Hodgkin's lymphoma</td>\n",
       "      <td>0.000158</td>\n",
       "      <td>C83</td>\n",
       "      <td>PLT-MPV-PCT-PDW</td>\n",
       "      <td>1018</td>\n",
       "      <td>default</td>\n",
       "      <td>best_pval_score_homogenous</td>\n",
       "    </tr>\n",
       "    <tr>\n",
       "      <th>0</th>\n",
       "      <td>9.979576e-01</td>\n",
       "      <td>R06.8 Other and unspecified abnormalities of b...</td>\n",
       "      <td>0.000071</td>\n",
       "      <td>R06.8</td>\n",
       "      <td>PLT-MPV-PCT-PDW</td>\n",
       "      <td>1341</td>\n",
       "      <td>default</td>\n",
       "      <td>best_pval_score_homogenous</td>\n",
       "    </tr>\n",
       "    <tr>\n",
       "      <th>0</th>\n",
       "      <td>9.981185e-01</td>\n",
       "      <td>N36 Other disorders of urethra</td>\n",
       "      <td>0.000073</td>\n",
       "      <td>N36</td>\n",
       "      <td>PLT-MPV-PCT-PDW</td>\n",
       "      <td>1057</td>\n",
       "      <td>default</td>\n",
       "      <td>best_pval_score_homogenous</td>\n",
       "    </tr>\n",
       "    <tr>\n",
       "      <th>0</th>\n",
       "      <td>9.992922e-01</td>\n",
       "      <td>H83.0 Labyrinthitis</td>\n",
       "      <td>0.000028</td>\n",
       "      <td>H83.0</td>\n",
       "      <td>PLT-MPV-PCT-PDW</td>\n",
       "      <td>1034</td>\n",
       "      <td>default</td>\n",
       "      <td>best_pval_score_homogenous</td>\n",
       "    </tr>\n",
       "    <tr>\n",
       "      <th>0</th>\n",
       "      <td>9.998668e-01</td>\n",
       "      <td>A08.4 Viral intestinal infection, unspecified</td>\n",
       "      <td>0.000005</td>\n",
       "      <td>A08.4</td>\n",
       "      <td>PLT-MPV-PCT-PDW</td>\n",
       "      <td>1174</td>\n",
       "      <td>default</td>\n",
       "      <td>best_pval_score_homogenous</td>\n",
       "    </tr>\n",
       "  </tbody>\n",
       "</table>\n",
       "<p>1183 rows × 8 columns</p>\n",
       "</div>"
      ],
      "text/plain": [
       "           p_val                                               desc    log_HR  \\\n",
       "0   5.137125e-08                             I26 Pulmonary embolism  0.066104   \n",
       "0   1.889532e-07  I26.9 Pulmonary embolism without mention of ac...  0.063939   \n",
       "0   5.505029e-06                    I21 Acute myocardial infarction  0.038477   \n",
       "0   1.046339e-04     M81 Osteoporosis without pathological fracture  0.031544   \n",
       "0   1.247202e-04  Z86.7 Personal history of diseases of the circ...  0.023225   \n",
       "..           ...                                                ...       ...   \n",
       "0   9.960404e-01                 C83 Diffuse non-Hodgkin's lymphoma  0.000158   \n",
       "0   9.979576e-01  R06.8 Other and unspecified abnormalities of b...  0.000071   \n",
       "0   9.981185e-01                     N36 Other disorders of urethra  0.000073   \n",
       "0   9.992922e-01                                H83.0 Labyrinthitis  0.000028   \n",
       "0   9.998668e-01      A08.4 Viral intestinal infection, unspecified  0.000005   \n",
       "\n",
       "     code       covariates  n_cases include_until                       score  \n",
       "0     I26  PLT-MPV-PCT-PDW     6942       default  best_pval_score_homogenous  \n",
       "0   I26.9  PLT-MPV-PCT-PDW     6792       default  best_pval_score_homogenous  \n",
       "0     I21  PLT-MPV-PCT-PDW    14198       default  best_pval_score_homogenous  \n",
       "0     M81  PLT-MPV-PCT-PDW    15583       default  best_pval_score_homogenous  \n",
       "0   Z86.7  PLT-MPV-PCT-PDW    27912       default  best_pval_score_homogenous  \n",
       "..    ...              ...      ...           ...                         ...  \n",
       "0     C83  PLT-MPV-PCT-PDW     1018       default  best_pval_score_homogenous  \n",
       "0   R06.8  PLT-MPV-PCT-PDW     1341       default  best_pval_score_homogenous  \n",
       "0     N36  PLT-MPV-PCT-PDW     1057       default  best_pval_score_homogenous  \n",
       "0   H83.0  PLT-MPV-PCT-PDW     1034       default  best_pval_score_homogenous  \n",
       "0   A08.4  PLT-MPV-PCT-PDW     1174       default  best_pval_score_homogenous  \n",
       "\n",
       "[1183 rows x 8 columns]"
      ]
     },
     "execution_count": 59,
     "metadata": {},
     "output_type": "execute_result"
    }
   ],
   "source": [
    "cox.sort_values(\"p_val\")"
   ]
  },
  {
   "cell_type": "code",
   "execution_count": null,
   "metadata": {},
   "outputs": [],
   "source": [
    "raise \"Lala\""
   ]
  },
  {
   "cell_type": "markdown",
   "metadata": {},
   "source": [
    "# Various post-analyses"
   ]
  },
  {
   "cell_type": "markdown",
   "metadata": {},
   "source": [
    "## Some util functions"
   ]
  },
  {
   "cell_type": "code",
   "execution_count": null,
   "metadata": {},
   "outputs": [],
   "source": [
    "def get_desc(code):\n",
    "    other_mappings = {\"I2\":\"Thrombus (I2X.XX)\",\"I8\":\"Other venous embolism\"}\n",
    "    key = \"\".join(code.split(\".\"))\n",
    "    if key in ICD10_sec_desc:\n",
    "        return ICD10_sec_desc[key]\n",
    "    elif key in other_mappings:\n",
    "        return other_mappings[key]\n",
    "    else:\n",
    "        return code"
   ]
  },
  {
   "cell_type": "markdown",
   "metadata": {},
   "source": [
    "## Compare occurence of two codes"
   ]
  },
  {
   "cell_type": "code",
   "execution_count": null,
   "metadata": {},
   "outputs": [],
   "source": [
    "code1 = \"I2\"\n",
    "code2 = \"D69\"\n",
    "desc1 = get_desc(code1)\n",
    "desc2 = get_desc(code2)\n",
    "\n",
    "events_1 = all_ICD10_events.loc[all_ICD10_events.code.str.contains(code1)].sort_values(\"AGE_AT_EVENT\").groupby(\"ID\").first().reset_index()\n",
    "events_2 = all_ICD10_events.loc[all_ICD10_events.code.str.contains(code2)].sort_values(\"AGE_AT_EVENT\").groupby(\"ID\").first().reset_index()\n",
    "IDs_1 = list(set(events_1.ID.tolist()))\n",
    "IDs_2 = list(set(events_2.ID.tolist()))\n",
    "IDs_both = list(set(IDs_1).intersection(set(IDs_2)))\n",
    "events_both = pd.merge(events_1, events_2, left_on=\"ID\",right_on=\"ID\",how=\"inner\", suffixes=(\"_1\",\"_2\"))\n",
    "\n",
    "X_both_and_drug = X.loc[~X[\"DRUG_236\"].isnull() & X.index.isin(events_both.ID.unique().tolist())].copy()\n",
    "X_both_and_drug[\"AGE_DRUG\"] = (X_both_and_drug[\"DRUG_236\"] - X_both_and_drug[BIRTH_FIELD]).dt.days / 365\n",
    "events_both = pd.merge(events_both,X_both_and_drug,how=\"left\",left_on=\"ID\",right_index=True)\n",
    "n_prescriptions = (~events_both.AGE_DRUG.isnull()).sum()\n",
    "events_both.loc[events_both[\"AGE_DRUG\"] < events_both[\"AGE_AT_EVENT_1\"],\"AGE_DRUG\"] = np.nan\n",
    "events_both.loc[events_both[\"AGE_DRUG\"] > events_both[\"AGE_AT_EVENT_2\"],\"AGE_DRUG\"] = np.nan\n",
    "\n",
    "fig = plt.figure(figsize=(10,4))\n",
    "ax = fig.add_subplot(121)\n",
    "ax.hist(events_1[\"AGE_AT_EVENT\"],density=True,bins=20, label=\"%d people with\\n%s\" % (events_1.ID.nunique(),desc1),histtype=\"step\")\n",
    "ax.hist(events_2[\"AGE_AT_EVENT\"],density=True,bins=20, label=\"%d people with\\n%s\" % (events_2.ID.nunique(),desc2),histtype=\"step\")\n",
    "ax.legend()\n",
    "ax.set_xlabel(\"Age at occurence\")\n",
    "ax = fig.add_subplot(122)\n",
    "ax.set_title(\"%d people with both\\n%d had prescription inbetween\\n(over %d who had prescription and both codes)\" % (\n",
    "    events_both.shape[0], \n",
    "    (~events_both.AGE_DRUG.isnull()).sum(),\n",
    "    n_prescriptions))\n",
    "ax.hist(events_both[\"AGE_AT_EVENT_1\"] - events_both[\"AGE_AT_EVENT_2\"],bins=np.arange(-20,22)-.5)\n",
    "plt.axvline(0,c=\"red\",label=\"$t_1 = t_2$\")\n",
    "ax.set_xlabel(\"$t_1 - t_2$ \\n1: %s \\n2: Age %s\" % (desc1,desc2))\n",
    "ax.legend()\n",
    "plt.tight_layout()"
   ]
  },
  {
   "cell_type": "code",
   "execution_count": null,
   "metadata": {},
   "outputs": [],
   "source": [
    "binom_test(\n",
    "    events_both.shape[0], \n",
    "    events_1.shape[0], (events_2.shape[0] / X.shape[0]))"
   ]
  },
  {
   "cell_type": "markdown",
   "metadata": {},
   "source": [
    "## Compare occurence of code VS time of death"
   ]
  },
  {
   "cell_type": "code",
   "execution_count": null,
   "metadata": {},
   "outputs": [],
   "source": [
    "code = \"I26\"\n",
    "desc = ICD10_sec_desc[\"\".join(code.split(\".\"))]\n",
    "events = all_ICD10_events.loc[all_ICD10_events.code.str.contains(code)].sort_values(\"AGE_AT_EVENT\").groupby(\"ID\").first().reset_index()\n",
    "IDs = events.ID.tolist()\n",
    "comp = pd.merge(events[[\"ID\",\"AGE_AT_EVENT\"]], X[[\"AGE\"]], how=\"inner\",left_on=\"ID\",right_index=True)\n",
    "assert comp.ID.nunique() == comp.shape[0]\n",
    "plt.hist(comp[\"AGE\"]-comp[\"AGE_AT_EVENT\"],bins=np.arange(20)-.5)\n",
    "plt.xlabel(\"Time after event\")\n",
    "plt.title(\"%d people died in the year after\\n%s\\nOver %d\" %(((comp[\"AGE\"] - comp[\"AGE_AT_EVENT\"]).abs() < 1).sum(),desc, comp.shape[0]));\n",
    "plt.tight_layout();"
   ]
  },
  {
   "cell_type": "markdown",
   "metadata": {},
   "source": [
    "## Look at people with high score and purpura"
   ]
  },
  {
   "cell_type": "code",
   "execution_count": null,
   "metadata": {},
   "outputs": [],
   "source": [
    "all_ICD10_events.loc[all_ICD10_events.code.str.contains(\"D69\")].code.value_counts()"
   ]
  },
  {
   "cell_type": "code",
   "execution_count": null,
   "metadata": {},
   "outputs": [],
   "source": [
    "purpura_IDs = .ID.unique().tolist()"
   ]
  },
  {
   "cell_type": "markdown",
   "metadata": {},
   "source": [
    "## Thrombosis / anticoagulants \n",
    "\n",
    "(first analysis, with incomplete prescription data)"
   ]
  },
  {
   "cell_type": "code",
   "execution_count": null,
   "metadata": {},
   "outputs": [],
   "source": [
    "thrombosis_codes = [\n",
    "    #\"I26\", # Pulmonary embolism\n",
    "    #\"I82\", # Other venous embolism\n",
    "    \"I2\",\n",
    "    \"I8\",\n",
    "]\n",
    "anti_coag_codes = [\"Z92.1\",\"T45.5\",\"Y44.2\"]\n",
    "\n",
    "IDs_no_thrombosis = X.index.tolist()\n",
    "for code in thrombosis_codes:\n",
    "    to_exclude = all_ICD10_events.loc[all_ICD10_events.code.str.contains(code)].ID.unique().tolist()\n",
    "    IDs_no_thrombosis = list(set(IDs_no_thrombosis).difference(set(to_exclude)))\n",
    "IDs_thrombosis = X.loc[~X.index.isin(IDs_no_thrombosis)].index.tolist()\n",
    "print(\"%d thrombosis patients\" % len(IDs_thrombosis))\n",
    "\n",
    "IDs_no_anti_coag = X.index.tolist()\n",
    "for code in anti_coag_codes:\n",
    "    to_exclude = all_ICD10_events.loc[all_ICD10_events.code.str.contains(code)].ID.unique().tolist()\n",
    "    IDs_no_anti_coag = list(set(IDs_no_anti_coag).difference(set(to_exclude)))\n",
    "IDs_anticoag = X.loc[~X.index.isin(IDs_no_anti_coag)].index.tolist()\n",
    "print(\"%d anti-coag patients\" % len(IDs_anticoag))\n",
    "\n",
    "IDs_purpura = set(X.index.tolist()).intersection(all_ICD10_events.loc[all_ICD10_events.code.str.contains(\"D69\")].ID.tolist())\n",
    "print(\"%d patients with purpura\" % len(IDs_purpura))\n",
    "\n",
    "purpura = X.index.isin(IDs_purpura)\n",
    "thrombosis = X.index.isin(IDs_thrombosis)\n",
    "anticoag = X.index.isin(IDs_anticoag)\n",
    "\n",
    "X[\"anticoagulants-ICD10\"] = anticoag\n",
    "X[\"purpura\"] = purpura\n",
    "X[\"thrombosis\"] = thrombosis"
   ]
  },
  {
   "cell_type": "code",
   "execution_count": null,
   "metadata": {},
   "outputs": [],
   "source": []
  },
  {
   "cell_type": "code",
   "execution_count": null,
   "metadata": {},
   "outputs": [],
   "source": [
    "drug_col = 'DRUG_236' \n",
    "code = \"I26\"\n",
    "has_code = \"has_%s\" % code\n",
    "has_drug = \"has_%s\" % drug_col\n",
    "age_drug_col = \"AGE_%s\" % drug_col\n",
    "drug_before_event_col = \"%s_before_%s\" % (drug_col, code)\n",
    "X[has_drug] = ~X[drug_col].isnull()\n",
    "X[age_drug_col] = ((X[drug_col] - X[BIRTH_FIELD]).dt.days / 365)\n",
    "X.loc[X[age_drug_col].isnull(),age_drug_col] = np.inf\n",
    "events = all_ICD10_events.loc[all_ICD10_events.code.str.contains(code),[\"AGE_AT_EVENT\",\"ID\"]].groupby(\"ID\").agg({\"AGE_AT_EVENT\":\"min\"})\n",
    "print(\"%d events recorded\" % (~events.AGE_AT_EVENT.isnull()).sum())\n",
    "comp = pd.merge(\n",
    "    events, \n",
    "    X,\n",
    "    left_index=True,\n",
    "    right_index=True, how=\"right\")\n",
    "#comp = comp.loc[comp[strata_bins].isnull().sum(axis=1) == 0]\n",
    "comp[\"T\"] = comp[\"AGE\"]\n",
    "comp[has_code] = ~comp[\"AGE_AT_EVENT\"].isnull()\n",
    "comp.loc[comp[has_code],\"T\"] = comp.loc[comp[has_code],\"AGE_AT_EVENT\"]\n",
    "comp[drug_before_event_col] = (comp[age_drug_col] <= comp[\"T\"])"
   ]
  },
  {
   "cell_type": "code",
   "execution_count": null,
   "metadata": {},
   "outputs": [],
   "source": [
    "print(\"Took drug %d\" % comp[has_drug].sum())"
   ]
  },
  {
   "cell_type": "code",
   "execution_count": null,
   "metadata": {},
   "outputs": [],
   "source": [
    "print(\"Had the code %d\" % comp[has_code].sum()) \n",
    "print(\"Took drug before now %d\" % comp[drug_before_event_col].sum())\n",
    "print(\"Took drug before code %d\" % (comp[drug_before_event_col] & comp[has_code]).sum())"
   ]
  },
  {
   "cell_type": "code",
   "execution_count": null,
   "metadata": {},
   "outputs": [],
   "source": [
    "drug_and_event = comp[has_code] & comp[has_drug]\n",
    "desc = ICD10_sec_desc[\"\".join(code.split(\".\"))]\n",
    "plt.title(\"%d people with \\nprescription (over %d) and \\n%s (over %d)\" % (drug_and_event.sum(), comp[has_drug].sum(), desc,comp[has_code].sum()))\n",
    "plt.scatter(comp.loc[drug_and_event,age_drug_col], comp.loc[drug_and_event,\"AGE_AT_EVENT\"],s=1)\n",
    "plt.xlabel(\"Age at prescription\")\n",
    "plt.ylabel(\"Age at %s\" % desc)\n",
    "plt.plot([40,80],[40,80],c=\"red\",ls=\":\")"
   ]
  },
  {
   "cell_type": "code",
   "execution_count": null,
   "metadata": {},
   "outputs": [],
   "source": [
    "G = comp[[\"best_pval_score_homogenous\",has_code, drug_before_event_col]].copy()\n",
    "\n",
    "G[\"score_bin\"] = pd.qcut(G[\"best_pval_score_homogenous\"],[0.,0.05,0.3,0.7,0.95,1.],labels=[\"v_low\",\"low\",\"medium\",\"high\",\"v_high\"])\n",
    "G[\"score_bin_int\"] = pd.qcut(G[\"best_pval_score_homogenous\"],[0.,0.05,0.3,0.7,0.95,1.],labels=[0,1,2,3,4])\n",
    "print(pearsonr(G[drug_before_event_col],G[\"best_pval_score_homogenous\"]))\n",
    "print(pearsonr(G[has_code],G[\"best_pval_score_homogenous\"]))\n",
    "\n",
    "\n",
    "drug_column = drug_before_event_col\n",
    "H = G.groupby([\"score_bin\",drug_column]).agg({has_code:\"sum\",\"score_bin_int\":\"count\"}).reset_index().rename(columns={\"score_bin_int\":\"# participants\"})\n",
    "H = H.pivot_table(index=\"score_bin\",columns=drug_column,values=[has_code,\"# participants\"])\n",
    "H[\"has_drug (%)\"] = 100*H[(\"# participants\",True)] / (H[(\"# participants\",True)] + H[(\"# participants\",False)])\n",
    "H[\"risk_without_drug (%)\"] = 100*(H[(has_code,False)] / H[(\"# participants\",False)])\n",
    "H[\"risk_with_drug (%)\"] = 100*(H[(has_code,True)] / H[(\"# participants\",True)])\n",
    "H[\"risk_increase\"] = H[\"risk_with_drug (%)\"] / H[\"risk_without_drug (%)\"]\n",
    "\n",
    "H"
   ]
  },
  {
   "cell_type": "markdown",
   "metadata": {},
   "source": [
    "## Analyze Cox Results (scores)"
   ]
  },
  {
   "cell_type": "code",
   "execution_count": 62,
   "metadata": {},
   "outputs": [],
   "source": [
    "# run_name = \"BGEN_SNPs\"\n",
    "# run_name = \"BGEN_SNPs_no_covars\"\n",
    "# run_name = \"BGEN_SNPs_no_covars_pfc_scores\"\n",
    "# run_name = \"pfc_score_INTERVAL_hits_w_replacement\"\n",
    "# run_name = \"test_no_save\"\n",
    "# run_name = \"test_all_strata\"\n",
    "run_name = \"8_avril_sysmex_covars\"\n",
    "run_dir = \"/home/hv270/cox/%s\" % run_name"
   ]
  },
  {
   "cell_type": "code",
   "execution_count": 63,
   "metadata": {},
   "outputs": [],
   "source": [
    "cox = pd.read_csv(\"%s/cox_results.csv\" % run_dir,index_col=0)"
   ]
  },
  {
   "cell_type": "code",
   "execution_count": 65,
   "metadata": {},
   "outputs": [],
   "source": [
    "code_roots = cox[\"code\"].str.split(\".\",expand=True)[0].unique().tolist()\n",
    "n_indep_codes = len(code_roots)\n",
    "p_threshold = 0.05 / n_indep_codes\n",
    "cox[\"significative\"] = cox.p_val < p_threshold"
   ]
  },
  {
   "cell_type": "code",
   "execution_count": 66,
   "metadata": {},
   "outputs": [
    {
     "data": {
      "text/plain": [
       "524"
      ]
     },
     "execution_count": 66,
     "metadata": {},
     "output_type": "execute_result"
    }
   ],
   "source": [
    "n_indep_codes"
   ]
  },
  {
   "cell_type": "code",
   "execution_count": 68,
   "metadata": {},
   "outputs": [
    {
     "data": {
      "text/html": [
       "<div>\n",
       "<style scoped>\n",
       "    .dataframe tbody tr th:only-of-type {\n",
       "        vertical-align: middle;\n",
       "    }\n",
       "\n",
       "    .dataframe tbody tr th {\n",
       "        vertical-align: top;\n",
       "    }\n",
       "\n",
       "    .dataframe thead th {\n",
       "        text-align: right;\n",
       "    }\n",
       "</style>\n",
       "<table border=\"1\" class=\"dataframe\">\n",
       "  <thead>\n",
       "    <tr style=\"text-align: right;\">\n",
       "      <th></th>\n",
       "      <th>p_val</th>\n",
       "      <th>desc</th>\n",
       "      <th>log_HR</th>\n",
       "      <th>code</th>\n",
       "      <th>covariates</th>\n",
       "      <th>n_cases</th>\n",
       "      <th>include_until</th>\n",
       "      <th>score</th>\n",
       "      <th>significative</th>\n",
       "    </tr>\n",
       "  </thead>\n",
       "  <tbody>\n",
       "    <tr>\n",
       "      <th>0</th>\n",
       "      <td>5.137125e-08</td>\n",
       "      <td>I26 Pulmonary embolism</td>\n",
       "      <td>0.066104</td>\n",
       "      <td>I26</td>\n",
       "      <td>PLT-MPV-PCT-PDW</td>\n",
       "      <td>6942</td>\n",
       "      <td>default</td>\n",
       "      <td>best_pval_score_homogenous</td>\n",
       "      <td>True</td>\n",
       "    </tr>\n",
       "    <tr>\n",
       "      <th>0</th>\n",
       "      <td>1.889532e-07</td>\n",
       "      <td>I26.9 Pulmonary embolism without mention of ac...</td>\n",
       "      <td>0.063939</td>\n",
       "      <td>I26.9</td>\n",
       "      <td>PLT-MPV-PCT-PDW</td>\n",
       "      <td>6792</td>\n",
       "      <td>default</td>\n",
       "      <td>best_pval_score_homogenous</td>\n",
       "      <td>True</td>\n",
       "    </tr>\n",
       "    <tr>\n",
       "      <th>0</th>\n",
       "      <td>5.505029e-06</td>\n",
       "      <td>I21 Acute myocardial infarction</td>\n",
       "      <td>0.038477</td>\n",
       "      <td>I21</td>\n",
       "      <td>PLT-MPV-PCT-PDW</td>\n",
       "      <td>14198</td>\n",
       "      <td>default</td>\n",
       "      <td>best_pval_score_homogenous</td>\n",
       "      <td>True</td>\n",
       "    </tr>\n",
       "    <tr>\n",
       "      <th>0</th>\n",
       "      <td>1.046339e-04</td>\n",
       "      <td>M81 Osteoporosis without pathological fracture</td>\n",
       "      <td>0.031544</td>\n",
       "      <td>M81</td>\n",
       "      <td>PLT-MPV-PCT-PDW</td>\n",
       "      <td>15583</td>\n",
       "      <td>default</td>\n",
       "      <td>best_pval_score_homogenous</td>\n",
       "      <td>False</td>\n",
       "    </tr>\n",
       "    <tr>\n",
       "      <th>0</th>\n",
       "      <td>1.247202e-04</td>\n",
       "      <td>Z86.7 Personal history of diseases of the circ...</td>\n",
       "      <td>0.023225</td>\n",
       "      <td>Z86.7</td>\n",
       "      <td>PLT-MPV-PCT-PDW</td>\n",
       "      <td>27912</td>\n",
       "      <td>default</td>\n",
       "      <td>best_pval_score_homogenous</td>\n",
       "      <td>False</td>\n",
       "    </tr>\n",
       "    <tr>\n",
       "      <th>0</th>\n",
       "      <td>1.897035e-04</td>\n",
       "      <td>Z86 Personal history of certain other diseases</td>\n",
       "      <td>0.011303</td>\n",
       "      <td>Z86</td>\n",
       "      <td>PLT-MPV-PCT-PDW</td>\n",
       "      <td>111602</td>\n",
       "      <td>default</td>\n",
       "      <td>best_pval_score_homogenous</td>\n",
       "      <td>False</td>\n",
       "    </tr>\n",
       "    <tr>\n",
       "      <th>0</th>\n",
       "      <td>2.358988e-04</td>\n",
       "      <td>C16 Malignant neoplasm of stomach</td>\n",
       "      <td>0.093173</td>\n",
       "      <td>C16</td>\n",
       "      <td>PLT-MPV-PCT-PDW</td>\n",
       "      <td>1579</td>\n",
       "      <td>default</td>\n",
       "      <td>best_pval_score_homogenous</td>\n",
       "      <td>False</td>\n",
       "    </tr>\n",
       "    <tr>\n",
       "      <th>0</th>\n",
       "      <td>3.061340e-04</td>\n",
       "      <td>Coag ICD10 code (DVT, CAD, PE, MI, glaucoma)</td>\n",
       "      <td>0.015621</td>\n",
       "      <td>meta_coag</td>\n",
       "      <td>PLT-MPV-PCT-PDW</td>\n",
       "      <td>54485</td>\n",
       "      <td>default</td>\n",
       "      <td>best_pval_score_homogenous</td>\n",
       "      <td>False</td>\n",
       "    </tr>\n",
       "    <tr>\n",
       "      <th>0</th>\n",
       "      <td>6.126724e-04</td>\n",
       "      <td>M71 Other bursopathies</td>\n",
       "      <td>-0.094172</td>\n",
       "      <td>M71</td>\n",
       "      <td>PLT-MPV-PCT-PDW</td>\n",
       "      <td>1362</td>\n",
       "      <td>default</td>\n",
       "      <td>best_pval_score_homogenous</td>\n",
       "      <td>False</td>\n",
       "    </tr>\n",
       "    <tr>\n",
       "      <th>0</th>\n",
       "      <td>1.071220e-03</td>\n",
       "      <td>I25 Chronic ischaemic heart disease</td>\n",
       "      <td>0.012454</td>\n",
       "      <td>I25</td>\n",
       "      <td>PLT-MPV-PCT-PDW</td>\n",
       "      <td>70395</td>\n",
       "      <td>default</td>\n",
       "      <td>best_pval_score_homogenous</td>\n",
       "      <td>False</td>\n",
       "    </tr>\n",
       "    <tr>\n",
       "      <th>0</th>\n",
       "      <td>1.198584e-03</td>\n",
       "      <td>J18 Pneumonia, organism unspecified</td>\n",
       "      <td>0.021340</td>\n",
       "      <td>J18</td>\n",
       "      <td>PLT-MPV-PCT-PDW</td>\n",
       "      <td>23699</td>\n",
       "      <td>default</td>\n",
       "      <td>best_pval_score_homogenous</td>\n",
       "      <td>False</td>\n",
       "    </tr>\n",
       "    <tr>\n",
       "      <th>0</th>\n",
       "      <td>1.261272e-03</td>\n",
       "      <td>I80 Phlebitis and thrombophlebitis</td>\n",
       "      <td>0.040669</td>\n",
       "      <td>I80</td>\n",
       "      <td>PLT-MPV-PCT-PDW</td>\n",
       "      <td>6408</td>\n",
       "      <td>default</td>\n",
       "      <td>best_pval_score_homogenous</td>\n",
       "      <td>False</td>\n",
       "    </tr>\n",
       "    <tr>\n",
       "      <th>0</th>\n",
       "      <td>1.312268e-03</td>\n",
       "      <td>N83.2 Other and unspecified ovarian cysts (uni...</td>\n",
       "      <td>-0.048666</td>\n",
       "      <td>N83.2</td>\n",
       "      <td>PLT-MPV-PCT-PDW</td>\n",
       "      <td>4468</td>\n",
       "      <td>default</td>\n",
       "      <td>best_pval_score_homogenous</td>\n",
       "      <td>False</td>\n",
       "    </tr>\n",
       "    <tr>\n",
       "      <th>0</th>\n",
       "      <td>1.477742e-03</td>\n",
       "      <td>H34 Retinal vascular occlusions</td>\n",
       "      <td>0.097487</td>\n",
       "      <td>H34</td>\n",
       "      <td>PLT-MPV-PCT-PDW</td>\n",
       "      <td>1077</td>\n",
       "      <td>default</td>\n",
       "      <td>best_pval_score_homogenous</td>\n",
       "      <td>False</td>\n",
       "    </tr>\n",
       "    <tr>\n",
       "      <th>0</th>\n",
       "      <td>1.607810e-03</td>\n",
       "      <td>I31 Other diseases of pericardium</td>\n",
       "      <td>0.064831</td>\n",
       "      <td>I31</td>\n",
       "      <td>PLT-MPV-PCT-PDW</td>\n",
       "      <td>2410</td>\n",
       "      <td>default</td>\n",
       "      <td>best_pval_score_homogenous</td>\n",
       "      <td>False</td>\n",
       "    </tr>\n",
       "  </tbody>\n",
       "</table>\n",
       "</div>"
      ],
      "text/plain": [
       "          p_val                                               desc    log_HR  \\\n",
       "0  5.137125e-08                             I26 Pulmonary embolism  0.066104   \n",
       "0  1.889532e-07  I26.9 Pulmonary embolism without mention of ac...  0.063939   \n",
       "0  5.505029e-06                    I21 Acute myocardial infarction  0.038477   \n",
       "0  1.046339e-04     M81 Osteoporosis without pathological fracture  0.031544   \n",
       "0  1.247202e-04  Z86.7 Personal history of diseases of the circ...  0.023225   \n",
       "0  1.897035e-04     Z86 Personal history of certain other diseases  0.011303   \n",
       "0  2.358988e-04                  C16 Malignant neoplasm of stomach  0.093173   \n",
       "0  3.061340e-04       Coag ICD10 code (DVT, CAD, PE, MI, glaucoma)  0.015621   \n",
       "0  6.126724e-04                             M71 Other bursopathies -0.094172   \n",
       "0  1.071220e-03                I25 Chronic ischaemic heart disease  0.012454   \n",
       "0  1.198584e-03                J18 Pneumonia, organism unspecified  0.021340   \n",
       "0  1.261272e-03                 I80 Phlebitis and thrombophlebitis  0.040669   \n",
       "0  1.312268e-03  N83.2 Other and unspecified ovarian cysts (uni... -0.048666   \n",
       "0  1.477742e-03                    H34 Retinal vascular occlusions  0.097487   \n",
       "0  1.607810e-03                  I31 Other diseases of pericardium  0.064831   \n",
       "\n",
       "        code       covariates  n_cases include_until  \\\n",
       "0        I26  PLT-MPV-PCT-PDW     6942       default   \n",
       "0      I26.9  PLT-MPV-PCT-PDW     6792       default   \n",
       "0        I21  PLT-MPV-PCT-PDW    14198       default   \n",
       "0        M81  PLT-MPV-PCT-PDW    15583       default   \n",
       "0      Z86.7  PLT-MPV-PCT-PDW    27912       default   \n",
       "0        Z86  PLT-MPV-PCT-PDW   111602       default   \n",
       "0        C16  PLT-MPV-PCT-PDW     1579       default   \n",
       "0  meta_coag  PLT-MPV-PCT-PDW    54485       default   \n",
       "0        M71  PLT-MPV-PCT-PDW     1362       default   \n",
       "0        I25  PLT-MPV-PCT-PDW    70395       default   \n",
       "0        J18  PLT-MPV-PCT-PDW    23699       default   \n",
       "0        I80  PLT-MPV-PCT-PDW     6408       default   \n",
       "0      N83.2  PLT-MPV-PCT-PDW     4468       default   \n",
       "0        H34  PLT-MPV-PCT-PDW     1077       default   \n",
       "0        I31  PLT-MPV-PCT-PDW     2410       default   \n",
       "\n",
       "                        score  significative  \n",
       "0  best_pval_score_homogenous           True  \n",
       "0  best_pval_score_homogenous           True  \n",
       "0  best_pval_score_homogenous           True  \n",
       "0  best_pval_score_homogenous          False  \n",
       "0  best_pval_score_homogenous          False  \n",
       "0  best_pval_score_homogenous          False  \n",
       "0  best_pval_score_homogenous          False  \n",
       "0  best_pval_score_homogenous          False  \n",
       "0  best_pval_score_homogenous          False  \n",
       "0  best_pval_score_homogenous          False  \n",
       "0  best_pval_score_homogenous          False  \n",
       "0  best_pval_score_homogenous          False  \n",
       "0  best_pval_score_homogenous          False  \n",
       "0  best_pval_score_homogenous          False  \n",
       "0  best_pval_score_homogenous          False  "
      ]
     },
     "execution_count": 68,
     "metadata": {},
     "output_type": "execute_result"
    }
   ],
   "source": [
    "cox.sort_values(\"p_val\").head(15)"
   ]
  },
  {
   "cell_type": "code",
   "execution_count": null,
   "metadata": {},
   "outputs": [],
   "source": [
    "#cox.loc[cox.significative].to_csv(\"/home/hv270/cox_results.csv\")"
   ]
  },
  {
   "cell_type": "code",
   "execution_count": null,
   "metadata": {},
   "outputs": [],
   "source": [
    "cox_primary = cox.loc[~cox.code.str.contains(\".\",regex=False)]\n",
    "cox_primary = cox_primary.loc[cox_primary.SNP == \"best_pval_score_homogenous\"]\n",
    "epsilon = np.logspace(-np.log10(cox_primary.shape[0]-3),0,250,endpoint=True)[::-1] # 1 -> 1e-5\n",
    "plt.scatter(-np.log10(epsilon), [-np.log10(cox_primary.P.quantile(e)) for e in epsilon],s=10)\n",
    "plt.plot([0,4],[0,4],c=\"red\")\n",
    "plt.ylabel(\"$-\\\\log_{10}$ of $\\\\epsilon$-quantile of P-values\\nin Cox Regression\")\n",
    "plt.xlabel(\"$\\\\log_{10}(1/\\\\epsilon)$\")"
   ]
  },
  {
   "cell_type": "code",
   "execution_count": null,
   "metadata": {},
   "outputs": [],
   "source": [
    "cox_primary.sort_values(\"P\")"
   ]
  },
  {
   "cell_type": "code",
   "execution_count": null,
   "metadata": {},
   "outputs": [],
   "source": [
    "P_thresh = 0.05 / cox_primary.shape[0]"
   ]
  },
  {
   "cell_type": "code",
   "execution_count": null,
   "metadata": {},
   "outputs": [],
   "source": [
    "P_thresh"
   ]
  },
  {
   "cell_type": "code",
   "execution_count": null,
   "metadata": {},
   "outputs": [],
   "source": [
    "cox_primary.loc[cox_primary.P < P_thresh].sort_values(\"P\")"
   ]
  },
  {
   "cell_type": "markdown",
   "metadata": {},
   "source": [
    "## Analyze Cox Results (per SNPs)"
   ]
  },
  {
   "cell_type": "code",
   "execution_count": null,
   "metadata": {},
   "outputs": [],
   "source": [
    "# run_name = \"BGEN_SNPs\"\n",
    "run_name = \"BGEN_SNPs_no_covars\"\n",
    "run_dir = \"/home/hv270/cox/%s\" % run_name"
   ]
  },
  {
   "cell_type": "code",
   "execution_count": null,
   "metadata": {},
   "outputs": [],
   "source": [
    "gwas_results = pd.read_csv(\"/home/hv270/sysmex2pf/GWAS_table.csv\",index_col=0)\n",
    "cox = pd.read_csv(\"%s/cox_results.csv\" % run_dir,index_col=0)\n",
    "cox = cox.merge(gwas_results[[\"SNP\",\"SYMBOL\",\"BETA\"]],left_on=\"SNP\",right_on=\"SNP\",how=\"left\")\n",
    "\n",
    "code_roots = cox[\"code\"].str.split(\".\",expand=True)[0].unique().tolist()\n",
    "n_indep_codes = len(code_roots)\n",
    "print(\"indep codes : %d \" % n_indep_codes)\n",
    "\n",
    "n_SNPs = gwas_results.shape[0]\n",
    "threshold_P = 0.05 / (n_SNPs*(n_indep_codes+1))\n",
    "\n",
    "cox[\"significant_all\"] = cox.P < threshold_P\n",
    "cox[\"significant_1\"] = cox.P < threshold_P * n_SNPs\n",
    "cox[\"good\"] = cox.P < threshold_P * 10\n",
    "\n",
    "\n",
    "print(\"significance threshold : %.2e \" % threshold_P)"
   ]
  },
  {
   "cell_type": "code",
   "execution_count": null,
   "metadata": {},
   "outputs": [],
   "source": [
    "cox.loc[cox.significant_all].sort_values(\"P\")"
   ]
  },
  {
   "cell_type": "code",
   "execution_count": null,
   "metadata": {},
   "outputs": [],
   "source": [
    "cox.sort_values(\"P\").groupby([\"SNP\"]).first().reset_index().sort_values(\"P\")"
   ]
  },
  {
   "cell_type": "code",
   "execution_count": null,
   "metadata": {},
   "outputs": [],
   "source": [
    "cox.sort_values(\"P\").groupby([\"code\"]).first().reset_index().sort_values(\"P\").head(30)"
   ]
  },
  {
   "cell_type": "markdown",
   "metadata": {},
   "source": [
    "## QQ plot"
   ]
  },
  {
   "cell_type": "code",
   "execution_count": null,
   "metadata": {},
   "outputs": [],
   "source": [
    "epsilon = np.logspace(-np.log10(cox.shape[0]-4),0,50,endpoint=True)[::-1] # 1 -> 1e-5\n",
    "plt.scatter(-np.log10(epsilon), [-np.log10(cox.P.quantile(e)) for e in epsilon],s=10)\n",
    "plt.plot([0,4],[0,4],c=\"red\")\n",
    "plt.ylabel(\"$-\\\\log_{10}$ of $\\\\epsilon$-quantile of P-values\\nin Cox Regression\")\n",
    "plt.xlabel(\"$\\\\log_{10}(1/\\\\epsilon)$\")"
   ]
  },
  {
   "cell_type": "markdown",
   "metadata": {},
   "source": [
    "## Compare betas and lambdas"
   ]
  },
  {
   "cell_type": "code",
   "execution_count": null,
   "metadata": {},
   "outputs": [],
   "source": [
    "comp = pd.merge(cox, gwas_results[[\"SNP\"]], left_on=\"SNP\",right_on=\"SNP\")\n",
    "#comp = comp.loc[~comp.SNP.isin([\"rs3819288\"])] # Remove HLA-B"
   ]
  },
  {
   "cell_type": "code",
   "execution_count": null,
   "metadata": {},
   "outputs": [],
   "source": [
    "pearson_rho = lambda x : pearsonr(x[\"BETA\"],x[\"lambda\"])[0]\n",
    "pearson_p = lambda x : pearsonr(x[\"BETA\"],x[\"lambda\"])[1]\n",
    "spearman_rho = lambda x : spearmanr(x[\"BETA\"],x[\"lambda\"])[0]\n",
    "spearman_p   = lambda x : spearmanr(x[\"BETA\"],x[\"lambda\"])[1]"
   ]
  },
  {
   "cell_type": "code",
   "execution_count": null,
   "metadata": {},
   "outputs": [],
   "source": [
    "threshold_code = 0.05/n_indep_codes\n",
    "print(threshold_code)"
   ]
  },
  {
   "cell_type": "code",
   "execution_count": null,
   "metadata": {},
   "outputs": [],
   "source": [
    "good_codes = comp.loc[comp.P < threshold_code].code.unique().tolist()"
   ]
  },
  {
   "cell_type": "code",
   "execution_count": null,
   "metadata": {},
   "outputs": [],
   "source": [
    "from scipy.stats import spearmanr\n",
    "gb = comp.loc[comp.code.isin(good_codes)].groupby(\"code\")\n",
    "corr_by_code = gb.agg({\"desc\":\"first\"})\n",
    "corr_by_code[\"pearson_rho\"] = gb.apply(pearson_rho)\n",
    "corr_by_code[\"pearson_p\"]   = gb.apply(pearson_p)"
   ]
  },
  {
   "cell_type": "code",
   "execution_count": null,
   "metadata": {},
   "outputs": [],
   "source": [
    "corr_by_code.loc[corr_by_code[\"pearson_p\"] < 0.05/n_indep_codes]"
   ]
  },
  {
   "cell_type": "code",
   "execution_count": null,
   "metadata": {},
   "outputs": [],
   "source": [
    "corr_by_code.sort_values(\"pearson_p\")"
   ]
  },
  {
   "cell_type": "markdown",
   "metadata": {},
   "source": [
    "### Compare rho coeff between coag_codes and others"
   ]
  },
  {
   "cell_type": "code",
   "execution_count": null,
   "metadata": {},
   "outputs": [],
   "source": [
    "# remove primary-secondary duplicates\n",
    "from scipy.stats import ttest_ind\n",
    "indep_codes = corr_by_code.reset_index()[\"code\"].str.split(\".\",expand=True)[0].unique().tolist()\n",
    "corr_by_code_indep = corr_by_code.loc[corr_by_code.index.isin(indep_codes)]\n",
    "coag_codes = [\"I26\",\"I21\",\"Z86\",\"H40\",\"I10\",\"I25\",\"I63\",\"I80\"]"
   ]
  },
  {
   "cell_type": "code",
   "execution_count": null,
   "metadata": {},
   "outputs": [],
   "source": [
    "ttest_ind(corr_by_code_indep.loc[ corr_by_code_indep.index.isin(coag_codes),\"pearson_rho\"],\n",
    "          corr_by_code_indep.loc[~corr_by_code_indep.index.isin(coag_codes),\"pearson_rho\"])"
   ]
  },
  {
   "cell_type": "markdown",
   "metadata": {},
   "source": [
    "## Stratify by n"
   ]
  },
  {
   "cell_type": "code",
   "execution_count": null,
   "metadata": {},
   "outputs": [],
   "source": [
    "plt.hist(np.log10(cox.n))"
   ]
  },
  {
   "cell_type": "code",
   "execution_count": null,
   "metadata": {},
   "outputs": [],
   "source": [
    "cox[\"strata\"] = np.digitize(cox.n,np.quantile(cox.n,[0.,.25,.5,.75]))"
   ]
  },
  {
   "cell_type": "code",
   "execution_count": null,
   "metadata": {},
   "outputs": [],
   "source": [
    "cox[\"first_letter\"] = cox[\"code\"].str[0]"
   ]
  },
  {
   "cell_type": "code",
   "execution_count": null,
   "metadata": {},
   "outputs": [],
   "source": []
  },
  {
   "cell_type": "code",
   "execution_count": null,
   "metadata": {},
   "outputs": [],
   "source": [
    "cox.loc[cox.good].sort_values([\"SYMBOL\",\"P\"])"
   ]
  },
  {
   "cell_type": "code",
   "execution_count": null,
   "metadata": {},
   "outputs": [],
   "source": [
    "cox.loc[cox.SNP == \"TOTAL\"].sort_values(\"P\").head(20)"
   ]
  },
  {
   "cell_type": "code",
   "execution_count": null,
   "metadata": {},
   "outputs": [],
   "source": [
    "PT = cox.pivot_table(values=[\"significant_all\"],aggfunc=\"mean\",columns=\"strata\",index=\"first_letter\")\n",
    "avg = cox.groupby(\"first_letter\")[[\"significant_all\"]].mean()\n",
    "PT = pd.merge(PT,avg, left_index=True,right_index=True)"
   ]
  },
  {
   "cell_type": "code",
   "execution_count": null,
   "metadata": {},
   "outputs": [],
   "source": [
    "PT.head(3)"
   ]
  },
  {
   "cell_type": "code",
   "execution_count": null,
   "metadata": {},
   "outputs": [],
   "source": [
    "cox.code.nunique()"
   ]
  },
  {
   "cell_type": "code",
   "execution_count": null,
   "metadata": {},
   "outputs": [],
   "source": [
    "cox.SNP.unique()"
   ]
  },
  {
   "cell_type": "code",
   "execution_count": null,
   "metadata": {},
   "outputs": [],
   "source": [
    "plt.figure(figsize=(16,3))\n",
    "for i,c in enumerate(PT):\n",
    "    #plt.bar(np.arange(PT.shape[0])+.15*(i-2),-np.log10(PT[c]),width=.15)\n",
    "    try:\n",
    "        label = \"%d - %d cases\" % (cox.loc[cox.strata == c[1],\"n\"].min(), cox.loc[cox.strata == c[1],\"n\"].max())\n",
    "    except:\n",
    "        label = \"Average across all codes\"\n",
    "    plt.bar(np.arange(PT.shape[0])+.15*(i-PT.shape[1]/2.),PT[c],width=.15,label=label)\n",
    "plt.xticks(np.arange(PT.shape[0]),PT.index)\n",
    "plt.legend();\n",
    "plt.ylabel(\"fraction of codes with p < 1E-3\")\n",
    "plt.xlabel(\"first letter of ICD10 code\")"
   ]
  },
  {
   "cell_type": "markdown",
   "metadata": {},
   "source": [
    "# Plot"
   ]
  },
  {
   "cell_type": "code",
   "execution_count": 69,
   "metadata": {},
   "outputs": [],
   "source": [
    "from lifelines import KaplanMeierFitter\n",
    "from sklearn.linear_model import LinearRegression"
   ]
  },
  {
   "cell_type": "code",
   "execution_count": 70,
   "metadata": {},
   "outputs": [
    {
     "data": {
      "text/plain": [
       "['SMOKING_RATE_bin',\n",
       " 'CRP_bin',\n",
       " 'CHOLESTEROL_bin',\n",
       " 'HDL_bin',\n",
       " 'SYSTOLIC_BP_bin']"
      ]
     },
     "execution_count": 70,
     "metadata": {},
     "output_type": "execute_result"
    }
   ],
   "source": [
    "strata_bins"
   ]
  },
  {
   "cell_type": "code",
   "execution_count": 71,
   "metadata": {},
   "outputs": [
    {
     "data": {
      "text/plain": [
       "LinearRegression()"
      ]
     },
     "execution_count": 71,
     "metadata": {},
     "output_type": "execute_result"
    }
   ],
   "source": [
    "lm = LinearRegression(fit_intercept=True)\n",
    "lm.fit(X[[\n",
    "          \"SMOKING_RATE\",CHOLESTEROL_FIELD,CRP_FIELD,SYSTOLIC_BP_FIELD,HDL_FIELD,SEX_FIELD,\n",
    "          PLT_FIELD,MPV_FIELD,PDW_FIELD,PCT_FIELD]],X[\"best_pval_score_homogenous\"])"
   ]
  },
  {
   "cell_type": "code",
   "execution_count": 72,
   "metadata": {},
   "outputs": [],
   "source": [
    "X[\"adjusted_score\"] = X[\"best_pval_score_homogenous\"] - lm.predict(X[[\n",
    "          \"SMOKING_RATE\",CHOLESTEROL_FIELD,CRP_FIELD,SYSTOLIC_BP_FIELD,HDL_FIELD,SEX_FIELD,\n",
    "          PLT_FIELD,MPV_FIELD,PDW_FIELD,PCT_FIELD]])"
   ]
  },
  {
   "cell_type": "code",
   "execution_count": 73,
   "metadata": {},
   "outputs": [
    {
     "data": {
      "image/png": "[encoded data removed]",
      "text/plain": [
       "<Figure size 360x360 with 2 Axes>"
      ]
     },
     "metadata": {
      "needs_background": "light"
     },
     "output_type": "display_data"
    }
   ],
   "source": [
    "fig = plt.figure(figsize=(5.,5.))\n",
    "gs = fig.add_gridspec(nrows=4,ncols=1,hspace=0.)\n",
    "score_col = \"adjusted_score\" #\"best_pval_score_homogenous\"\n",
    "\n",
    "for i, code in enumerate([\"I21\",\"I26\"]):\n",
    "    \n",
    "    ax = fig.add_subplot(gs[i,0])\n",
    "    \n",
    "    events = all_ICD10_events.loc[all_ICD10_events.code == code]\n",
    "    \n",
    "    X_ = pd.merge(X[[BIRTH_FIELD,SEX_FIELD, DIABETES_FIELD,\"AGE\",\"SMOKING_RATE_bin\",\"CHOLESTEROL_bin\",score_col] + list(set(pc_covars_cols + pheno_cols))],events,left_index=True,right_on=\"ID\",how=\"left\").copy()\n",
    "    X_[\"T\"] = X_[\"AGE\"].copy().astype(int)\n",
    "    X_.loc[~X_.AGE_AT_EVENT.isnull(),\"T\"] = X_.loc[~X_.AGE_AT_EVENT.isnull(),\"AGE_AT_EVENT\"].astype(int)\n",
    "    #X_.loc[~X_.AGE_AT_EVENT.isnull(),\"T\"] = X_.loc[~X_.AGE_AT_EVENT.isnull(),\"AGE_AT_EVENT\"]\n",
    "    X_[\"EVENT\"] = ~X_.AGE_AT_EVENT.isnull()*1\n",
    "    X_ = X_.loc[X_[\"T\"] >= 30]\n",
    "    assert X_[\"T\"].isnull().sum() == 0\n",
    "    \n",
    "    a = 0.05\n",
    "    low = X_[score_col] < X_[score_col].quantile(a)\n",
    "    high = X_[score_col] > X_[score_col].quantile(1-a)\n",
    "    \n",
    "    kmf_low = KaplanMeierFitter()\n",
    "    kmf_low.fit(X_.loc[low,\"T\"],X_.loc[low,\"EVENT\"])\n",
    "    kmf_low.plot_survival_function(loc=slice(50.,80.),label=\"Bottom %d%% of score\" % int(100*a),legend=False,color=\"blue\")\n",
    "\n",
    "    kmf_high = KaplanMeierFitter()\n",
    "    kmf_high.fit(X_.loc[high,\"T\"],X_.loc[high,\"EVENT\"])\n",
    "    kmf_high.plot_survival_function(loc=slice(50.,80.),label=\"Top %d%% of score\" % int(100*a),legend=False,color=\"red\")\n",
    "    \n",
    "    if i == 0:\n",
    "        plt.xlabel(\"Age (years)\",fontsize=13)\n",
    "    elif i == 1:\n",
    "        plt.ylabel(\"Probabiliyty of survival\\nwithout diagnosis\",fontsize=13)\n",
    "    else:\n",
    "        plt.xticks([])\n",
    "        plt.xlabel(None)\n",
    "    plt.title(None)\n",
    "    plt.text(x=0.05,y=0.08,s=\"%s\\n%s\" % (code,ICD10_sec_desc[code][4:]),transform = ax.transAxes,fontsize=13)\n",
    "plt.tight_layout()\n",
    "plt.savefig(\"/home/hv270/sysmex2pf/figures/survival.pdf\")\n",
    "#plt.legend()\n",
    "plt.savefig(\"/home/hv270/sysmex2pf/figures/survival_legend.pdf\")"
   ]
  },
  {
   "cell_type": "code",
   "execution_count": 75,
   "metadata": {},
   "outputs": [
    {
     "data": {
      "image/png": "[encoded data removed]",
      "text/plain": [
       "<Figure size 288x216 with 1 Axes>"
      ]
     },
     "metadata": {
      "needs_background": "light"
     },
     "output_type": "display_data"
    },
    {
     "data": {
      "image/png": "[encoded data removed]",
      "text/plain": [
       "<Figure size 288x216 with 1 Axes>"
      ]
     },
     "metadata": {
      "needs_background": "light"
     },
     "output_type": "display_data"
    }
   ],
   "source": [
    "f = [0.063,0.12,0.44]\n",
    "aspect_ratio = 3./4\n",
    "import matplotlib.ticker as mtick\n",
    "kmfs = {}\n",
    "for i, code in enumerate([\"I26\",\"I21\"]):\n",
    "    \n",
    "    fig, ax = plt.subplots(figsize=(4.,3.))\n",
    "    \n",
    "    events = all_ICD10_events.loc[all_ICD10_events.code == code]\n",
    "    \n",
    "    X_ = pd.merge(X[[BIRTH_FIELD,SEX_FIELD, DIABETES_FIELD,\"AGE\",\"SMOKING_RATE_bin\",\"CHOLESTEROL_bin\",score_col] + list(set(pc_covars_cols + pheno_cols))],events,left_index=True,right_on=\"ID\",how=\"left\").copy()\n",
    "    X_[\"T\"] = X_[\"AGE\"].copy().astype(int)\n",
    "    X_.loc[~X_.AGE_AT_EVENT.isnull(),\"T\"] = X_.loc[~X_.AGE_AT_EVENT.isnull(),\"AGE_AT_EVENT\"].astype(int)\n",
    "    #X_.loc[~X_.AGE_AT_EVENT.isnull(),\"T\"] = X_.loc[~X_.AGE_AT_EVENT.isnull(),\"AGE_AT_EVENT\"]\n",
    "    X_[\"EVENT\"] = ~X_.AGE_AT_EVENT.isnull()*1\n",
    "    X_ = X_.loc[X_[\"T\"] >= 30]\n",
    "    assert X_[\"T\"].isnull().sum() == 0\n",
    "    #ax.set_aspect(aspect_ratio*30/f[i])\n",
    "    ax.set_ylim((1-f[i],1.))\n",
    "    ax.set_xlim((50,80))\n",
    "    \n",
    "    a = 0.05\n",
    "    low = X_[score_col] < X_[score_col].quantile(a)\n",
    "    high = X_[score_col] > X_[score_col].quantile(1-a)\n",
    "    \n",
    "    kmf_low = KaplanMeierFitter()\n",
    "    kmf_low.fit(X_.loc[low,\"T\"],X_.loc[low,\"EVENT\"])\n",
    "    kmf_low.plot_survival_function(loc=slice(50.,80.),label=\"Bottom %d%% of score\" % int(100*a),legend=False,color=\"blue\")\n",
    "\n",
    "    kmf_high = KaplanMeierFitter()\n",
    "    kmf_high.fit(X_.loc[high,\"T\"],X_.loc[high,\"EVENT\"])\n",
    "    kmf_high.plot_survival_function(loc=slice(50.,80.),label=\"Top %d%% of score\" % int(100*a),legend=False,color=\"red\")\n",
    "    \n",
    "    plt.xlabel(\"Age (years)\",fontsize=13)\n",
    "    plt.ylabel(\"Probabiliyty of survival\\nwithout diagnosis\",fontsize=13)\n",
    "    \n",
    "    ax.yaxis.set_major_formatter(mtick.FormatStrFormatter('%.2f'))\n",
    "    \n",
    "    #plt.title(ICD10_sec_desc[code])\n",
    "    #plt.text(x=0.05,y=0.08,s=ICD10_sec_desc[code],transform = ax.transAxes,fontsize=13)\n",
    "    plt.tight_layout()\n",
    "    plt.savefig(\"/home/hv270/sysmex2pf/figures/survival_%s.pdf\" % code)\n",
    "    #plt.legend()\n",
    "    #plt.savefig(\"/home/hv270/sysmex2pf/figures/survival_%s_legend.pdf\" % code)\n",
    "    \n",
    "    kmfs[code] = (kmf_low, kmf_high)"
   ]
  },
  {
   "cell_type": "code",
   "execution_count": 84,
   "metadata": {},
   "outputs": [],
   "source": [
    "kmfs[\"I26\"][0].cumulative_density_.to_csv(\"%s/I26_lower_tail_cumulative_density.csv\" % run_dir)\n",
    "kmfs[\"I26\"][1].cumulative_density_.to_csv(\"%s/I26_upper_tail_cumulative_density.csv\" % run_dir)\n",
    "kmfs[\"I21\"][0].cumulative_density_.to_csv(\"%s/I21_lower_tail_cumulative_density.csv\" % run_dir)\n",
    "kmfs[\"I21\"][1].cumulative_density_.to_csv(\"%s/I21_upper_tail_cumulative_density.csv\" % run_dir)"
   ]
  },
  {
   "cell_type": "code",
   "execution_count": null,
   "metadata": {},
   "outputs": [],
   "source": [
    "np.argmin(np.abs(bins-np.quantile(X_[score_col],0.05)))"
   ]
  },
  {
   "cell_type": "code",
   "execution_count": null,
   "metadata": {},
   "outputs": [],
   "source": [
    "bins = np.linspace(X_[score_col].min(),X_[score_col].max(),85,endpoint=True)\n",
    "#i_5 = np.argmin(np.abs(bins-np.quantile(X_[score_col],0.05)))\n",
    "#i_95 = np.argmin(np.abs(bins-np.quantile(X_[score_col],0.95)))\n",
    "#bins[i_5] = np.quantile(X_[score_col],0.05)\n",
    "#bins[i_95] = np.quantile(X_[score_col],0.95)\n",
    "fig = plt.figure(figsize=(5,5))\n",
    "ax = fig.add_subplot(111)\n",
    "y_max = 8500\n",
    "ax.set_ylim((0,y_max))\n",
    "#ax.set_aspect(aspect_ratio*8/y_max)\n",
    "ax.set_ylim((-4,4))\n",
    "plt.hist(X_[score_col],bins=bins,color=\"gray\",alpha=.4,orientation=\"horizontal\");\n",
    "plt.hist(X_.loc[low,score_col],bins=bins,color=\"blue\",alpha=1,orientation=\"horizontal\");\n",
    "plt.hist(X_.loc[high,score_col],bins=bins,color=\"red\",alpha=1,orientation=\"horizontal\");\n",
    "plt.ylabel(\"Adjusted platelet reactivity score\",fontsize=13)\n",
    "plt.xlabel(\"Number of UK Biobank\\nparticipants\",fontsize=13)\n",
    "plt.tight_layout()\n",
    "plt.savefig(\"/home/hv270/sysmex2pf/figures/score_hist.pdf\")"
   ]
  },
  {
   "cell_type": "code",
   "execution_count": null,
   "metadata": {},
   "outputs": [],
   "source": []
  },
  {
   "cell_type": "code",
   "execution_count": null,
   "metadata": {},
   "outputs": [],
   "source": [
    "fig = plt.figure()\n",
    "ax = fig.add_subplot(111)\n",
    "\n",
    "ax.set_xlim(-20000,20000)"
   ]
  },
  {
   "cell_type": "code",
   "execution_count": null,
   "metadata": {},
   "outputs": [],
   "source": [
    "bins = np.linspace(X_[score_col].min(),X_[score_col].max(),101,endpoint=True)\n",
    "b, c = np.histogram(X_[score_col],bins=50)\n",
    "\n",
    "i_5 = np.argmin(np.abs(bins-np.quantile(X_[score_col],0.05)))\n",
    "i_95 = np.argmin(np.abs(bins-np.quantile(X_[score_col],0.95)))\n",
    "high_plot = X_[score_col] > bins[i_95]\n",
    "low_plot = X_[score_col] < bins[i_5]\n",
    "\n",
    "fig = plt.figure(figsize=(3,5))\n",
    "ax = fig.add_subplot(111)\n",
    "y_max = 8500\n",
    "ax.set_xlim((-y_max,y_max))\n",
    "#ax.set_aspect(aspect_ratio*8/y_max)\n",
    "b, c = np.histogram(X_[score_col],bins=bins)\n",
    "c_center = (c[1:]+c[:-1])/2\n",
    "c_step = c[1]-c[0]\n",
    "b_low, c = np.histogram(X_.loc[low_plot, score_col],bins=bins)\n",
    "b_high, c = np.histogram(X_.loc[high_plot, score_col],bins=bins)\n",
    "\n",
    "ax.set_ylim((-4,4))\n",
    "ax.barh(y=c_center,width=b,height=c_step,left=-b/2,color=\"gray\",alpha=.4)\n",
    "ax.barh(y=c_center,width=b_low,height=c_step,left=-b_low/2,color=\"blue\")\n",
    "ax.barh(y=c_center,width=b_high,height=c_step,left=-b_high/2,color=\"red\")\n",
    "#plt.hist(X_[score_col],bins=bins,orientation=\"horizontal\");\n",
    "#plt.hist(X_.loc[low,score_col],bins=bins,color=\"blue\",alpha=1,orientation=\"horizontal\");\n",
    "#plt.hist(X_.loc[high,score_col],bins=bins,color=\"red\",alpha=1,orientation=\"horizontal\");\n",
    "\n",
    "plt.ylabel(\"Adjusted platelet reactivity score\",fontsize=13)\n",
    "plt.xlabel(\"Number of UK Biobank\\nparticipants\",fontsize=13)\n",
    "plt.tight_layout()\n",
    "plt.savefig(\"/home/hv270/sysmex2pf/figures/score_hist.pdf\")"
   ]
  },
  {
   "cell_type": "code",
   "execution_count": null,
   "metadata": {},
   "outputs": [],
   "source": [
    "fig = plt.figure(figsize=(2,5))\n",
    "ax = fig.add_subplot(111)\n",
    "c = ax.violinplot(X_[score_col], showmeans=False,showextrema=False,widths=[2.4])\n",
    "for pc in c['bodies']:\n",
    "    pc.set_facecolor('grey')\n",
    "    pc.set_edgecolor('grey')\n",
    "c = ax.violinplot(X_.loc[low,score_col],showmeans=False,showextrema=False,bw_method=.03);\n",
    "for pc in c['bodies']:\n",
    "    pc.set_facecolor('blue')\n",
    "    pc.set_edgecolor('blue')\n",
    "    pc.set_alpha(1)\n",
    "c = ax.violinplot(X_.loc[high,score_col],showmeans=False,showextrema=False,bw_method=.03);\n",
    "for pc in c['bodies']:\n",
    "    pc.set_facecolor('red')\n",
    "    pc.set_edgecolor('red')\n",
    "    pc.set_alpha(1)\n",
    "ax.set_ylim((-4,4))\n",
    "ax.set_xticks([])\n",
    "ax.set_ylabel(\"Adjusted platelet reactivity score\")"
   ]
  },
  {
   "cell_type": "markdown",
   "metadata": {},
   "source": [
    "# Unused"
   ]
  },
  {
   "cell_type": "code",
   "execution_count": null,
   "metadata": {},
   "outputs": [],
   "source": []
  },
  {
   "cell_type": "code",
   "execution_count": null,
   "metadata": {},
   "outputs": [],
   "source": []
  },
  {
   "cell_type": "code",
   "execution_count": null,
   "metadata": {},
   "outputs": [],
   "source": [
    "gwas_results = pd.read_csv(\"/home/hv270/sysmex2pf/GWAS_table.csv\",index_col=0)"
   ]
  },
  {
   "cell_type": "code",
   "execution_count": null,
   "metadata": {},
   "outputs": [],
   "source": [
    "cox_and_GWAS = pd.merge(cox, gwas_results,left_on=\"SNP\",right_on=\"SNP\",how=\"left\",suffixes=(\"_Cox\",\"_GWAS\"))\\\n",
    "    .rename(columns={\"HR\":\"Hazard Ratio\",\n",
    "                     \"corars\":\"Covariates used in Cox Regression\",\n",
    "                     \"strata\":\"quartile (of # of cases)\"})\n",
    "cox_and_GWAS.to_csv(\"/home/hv270/sysmex2pf/GWAS_and_Cox.csv\")"
   ]
  },
  {
   "cell_type": "code",
   "execution_count": null,
   "metadata": {},
   "outputs": [],
   "source": [
    "per_SNP = cox.sort_values(\"P\").groupby(\"SNP\").first().sort_values(\"P\")"
   ]
  },
  {
   "cell_type": "code",
   "execution_count": null,
   "metadata": {},
   "outputs": [],
   "source": []
  },
  {
   "cell_type": "code",
   "execution_count": null,
   "metadata": {},
   "outputs": [],
   "source": [
    "gwas_results.head(3)"
   ]
  },
  {
   "cell_type": "code",
   "execution_count": null,
   "metadata": {},
   "outputs": [],
   "source": [
    "per_SNP = pd.merge(per_SNP,\n",
    "         gwas_results[[\"SNP\",\"CHR\",\"BP\",\"A1FREQ\",\"was_in_NY_GWAS\",\"PUBMED\",\"SYMBOL\",\"BETA\"]],\n",
    "         left_index=True,right_on=\"SNP\",how=\"left\")\n",
    "per_SNP[\"isin_PUBMED\"] = per_SNP.PUBMED != \"-\""
   ]
  },
  {
   "cell_type": "code",
   "execution_count": null,
   "metadata": {},
   "outputs": [],
   "source": [
    "per_SNP_export = per_SNP[[\"SNP\",\"SYMBOL\",\"P\",\"desc\",\"HR\",\"BETA\",\"covars\",\"was_in_NY_GWAS\",\"isin_PUBMED\"]]\\\n",
    "    .rename(columns={\"SYMBOL\":\"GENE (VEP selected)\",\n",
    "                     \"P\":\"lowest P-value (Cox Regression)\",\n",
    "                     \"HR\":\"hazard ratio\",\n",
    "                     \"covars\":\"Covariates used\"})"
   ]
  },
  {
   "cell_type": "code",
   "execution_count": null,
   "metadata": {},
   "outputs": [],
   "source": [
    "per_SNP_export.to_csv(\"/home/hv270/sysmex2pf/cox_and_GWAS.csv\")"
   ]
  },
  {
   "cell_type": "code",
   "execution_count": null,
   "metadata": {},
   "outputs": [],
   "source": [
    "p = Pool(15)\n",
    "\n",
    "for lt in tqdm(p.imap_unordered(compare_top_bottom, all_ICD10_events.groupby(\"code\")),\n",
    "              total=all_ICD10_events.code.nunique()):\n",
    "    if lt is None: continue\n",
    "    lt, desc = lt\n",
    "    p_val = lt.summary[\"p\"].iloc[0]\n",
    "    if p_val < 1e-3:\n",
    "        print(desc)\n",
    "        print(lt.summary)\n",
    "p.close()\n",
    "p.join()"
   ]
  },
  {
   "cell_type": "code",
   "execution_count": null,
   "metadata": {},
   "outputs": [],
   "source": []
  },
  {
   "cell_type": "markdown",
   "metadata": {},
   "source": [
    "# Logistic regression"
   ]
  },
  {
   "cell_type": "code",
   "execution_count": null,
   "metadata": {},
   "outputs": [],
   "source": [
    "pip install statsmodels"
   ]
  },
  {
   "cell_type": "code",
   "execution_count": null,
   "metadata": {},
   "outputs": [],
   "source": [
    "from sklearn.linear_model import LogisticRegression\n",
    "from statsmodels.api import GLM\n",
    "from statsmodels.genmod import families"
   ]
  },
  {
   "cell_type": "code",
   "execution_count": null,
   "metadata": {},
   "outputs": [],
   "source": [
    "for c in codes_to_focus_on:\n",
    "    X[c] = X.index.isin(all_ICD10_events.loc[all_ICD10_events.code == c].ID.unique().tolist())"
   ]
  },
  {
   "cell_type": "code",
   "execution_count": null,
   "metadata": {},
   "outputs": [],
   "source": [
    "X[\"anti_coag\"] *= 1"
   ]
  },
  {
   "cell_type": "code",
   "execution_count": null,
   "metadata": {
    "code_folding": []
   },
   "outputs": [],
   "source": [
    "h1_cols = [\"TOTAL_PFC\",\"AGE\"] #[\"AGE\",\"thrombotic_event\"]\n",
    "h0_cols = [\"AGE\"] # ,\"thrombotic_event\"\n",
    "\n",
    "for c in codes_to_focus_on:\n",
    "    print(c)\n",
    "    lr_just_score = GLM(X[c],X[[\"TOTAL_PFC\",\"AGE\"]], family=families.Binomial()).fit(attach_wls=True, atol=1e-10)\n",
    "    print(lr_just_score.summary())\n",
    "    lr_thrombotic = GLM(X[c],X[[\"TOTAL_PFC\",\"AGE\",\"thrombotic_event\"]], family=families.Binomial()).fit(attach_wls=True, atol=1e-10)\n",
    "    print(lr_thrombotic.summary())\n",
    "    lr_anticoag = GLM(X[c],X[[\"TOTAL_PFC\",\"AGE\",\"anti_coag\"]], family=families.Binomial()).fit(attach_wls=True, atol=1e-10)\n",
    "    print(lr_anticoag.summary())\n",
    "    lr_anticoag = GLM(X[c],X[[\"TOTAL_PFC\",\"AGE\",\"anti_coag\",\"thrombotic_event\"]], family=families.Binomial()).fit(attach_wls=True, atol=1e-10)\n",
    "    print(lr_anticoag.summary())"
   ]
  },
  {
   "cell_type": "code",
   "execution_count": null,
   "metadata": {},
   "outputs": [],
   "source": [
    "lr.coef_"
   ]
  },
  {
   "cell_type": "code",
   "execution_count": null,
   "metadata": {},
   "outputs": [],
   "source": [
    "lr_null.coef_"
   ]
  },
  {
   "cell_type": "markdown",
   "metadata": {},
   "source": [
    "# Simple Linear Regression"
   ]
  },
  {
   "cell_type": "code",
   "execution_count": null,
   "metadata": {},
   "outputs": [],
   "source": [
    "from sklearn.linear_model import LogisticRegression, LogisticRegressionCV"
   ]
  },
  {
   "cell_type": "code",
   "execution_count": null,
   "metadata": {},
   "outputs": [],
   "source": [
    "def do_linear_test(args, phenos):\n",
    "    \n",
    "    code, events = args\n",
    "    n_cases = events.shape[0]\n",
    "    desc = ICD10_sec_desc[\"\".join(code.split(\".\"))]\n",
    "    if n_cases <= min_n_cases: return None\n",
    "    # get T column\n",
    "    X_ = pd.merge(X[[BIRTH_FIELD,SEX_FIELD, DIABETES_FIELD,\"AGE\"] + list(set(all_basics_ + pc_covars_cols + pheno_cols))],events,left_index=True,right_on=\"ID\",how=\"left\").copy()\n",
    "    X_[\"T\"] = X_[\"AGE\"].copy().astype(int)\n",
    "    X_.loc[~X_.AGE_AT_EVENT.isnull(),\"T\"] = X_.loc[~X_.AGE_AT_EVENT.isnull(),\"AGE_AT_EVENT\"].astype(int)\n",
    "    #X_.loc[~X_.AGE_AT_EVENT.isnull(),\"T\"] = X_.loc[~X_.AGE_AT_EVENT.isnull(),\"AGE_AT_EVENT\"]\n",
    "    X_[\"EVENT\"] = ~X_.AGE_AT_EVENT.isnull()*1\n",
    "    assert X_[\"T\"].isnull().sum() == 0\n",
    "    \n",
    "    #print(X_.loc[X_.EVENT > 0].head())\n",
    "    \n",
    "    #only_old_people = X_[\"T\"] >= 18\n",
    "    #if only_old_people.mean() < .6:\n",
    "    #    print(\"Keeping %.2f for %s\" % (only_old_people.mean(),desc))\n",
    "    #X_ = X_.loc[only_old_people]\n",
    "    \n",
    "    \n",
    "    # find if unisex\n",
    "    n_cases = X_.EVENT.sum()\n",
    "    valid_sexes = X_.loc[X_[\"EVENT\"] > 0,SEX_FIELD].value_counts()\n",
    "    valid_sexes = valid_sexes.loc[valid_sexes > (n_cases / 50)].index.tolist()\n",
    "    unisex = len(valid_sexes) == 1\n",
    "    if unisex:\n",
    "        desc += \" (unisex)\"\n",
    "    \n",
    "    # Define people to include and strata\n",
    "    to_include = X_[SEX_FIELD].isin(valid_sexes)\n",
    "    strata = [SEX_FIELD] if not unisex else []\n",
    "    strata += [DIABETES_FIELD]\n",
    "        \n",
    "    X_ = X_.loc[to_include]\n",
    "    \n",
    "    n_cases = X_.EVENT.sum()\n",
    "    if n_cases <= min_n_cases: return None\n",
    "    \n",
    "    p_vals = []\n",
    "    HRs = []\n",
    "    c_group = []\n",
    "    pheno = []\n",
    "    \n",
    "    cols_to_normalize = [c for c in X_.columns if X_[c].dtype == float and c != \"EVENT\"]\n",
    "    cols_to_normalize += [\"T\",\"2443-0.0\"]\n",
    "    \n",
    "    X_[cols_to_normalize] -= X_[cols_to_normalize].mean(axis=0)\n",
    "    X_[cols_to_normalize] /= X_[cols_to_normalize].std(axis=0)\n",
    "    \n",
    "    for covars_group in basics_:\n",
    "        basics = list(basics_[covars_group]) + [\"T\"]\n",
    "        if not unisex:\n",
    "            basics += [SEX_FIELD]\n",
    "        \n",
    "\n",
    "        cols_to_include_1 = basics #+ pc_covars_cols[:3]\n",
    "        lm1 = LogisticRegression(penalty=\"none\",solver=\"sag\")\n",
    "        lm1.fit(X_[cols_to_include_1],X_[\"EVENT\"] > 0)\n",
    "        \n",
    "        LP = lm1.predict_log_proba(X_[cols_to_include_1])\n",
    "        LL_without = np.sum(np.where(X_[\"EVENT\"],LP[:,1],LP[:,0]))\n",
    "        for s in phenos:\n",
    "            cols_to_include_2 = cols_to_include_1 + [s]\n",
    "            \n",
    "            lm2 = LogisticRegression(penalty=\"none\",solver=\"sag\")\n",
    "            lm2.fit(X_[cols_to_include_2], X_[\"EVENT\"] > 0)\n",
    "\n",
    "            LP = lm2.predict_log_proba(X_[cols_to_include_2])\n",
    "            LL_with = np.sum(np.where(X_[\"EVENT\"] > 0,LP[:,1],LP[:,0]))\n",
    "            \n",
    "            \n",
    "            Delta_LL = LL_with-LL_without\n",
    "            \n",
    "            p_val = 1.-chi2(1).cdf(2*Delta_LL)\n",
    "\n",
    "            ### cox_info.loc[code, \"p\"] = p_val\n",
    "            HR = lm2.coef_[0,-1]\n",
    "            ### cox_info.loc[code, \"HR\"] = HR\n",
    "            \n",
    "            p_vals.append(p_val)\n",
    "            HRs.append(HR)\n",
    "            c_group.append(covars_group)\n",
    "            pheno.append(s)\n",
    "\n",
    "            description = \"\"\n",
    "            description += \"| %s \\t| %s : %.2f\\t\" % (s, covars_group,-np.log10(p_val))\n",
    "            description += \"%d cases \\t %s \\t %s\" % (n_cases, code, desc)\n",
    "            if p_val < 1e-3:\n",
    "                print(\"==========================\")\n",
    "                print(description)\n",
    "                print(\"==========================\")\n",
    "    \n",
    "    return code, p_vals, n_cases, desc, HRs, c_group, pheno"
   ]
  },
  {
   "cell_type": "code",
   "execution_count": null,
   "metadata": {},
   "outputs": [],
   "source": [
    "basics_ = {#\"none\":[],\n",
    "           #\"sysmex\":pc_covars_cols[:3],\n",
    "           #\"environmental\":[\"SMOKING_RATE\",BMI_FIELD,CHOLESTEROL_FIELD],\n",
    "           \"all\":pc_covars_cols[:3] + [\"SMOKING_RATE\",BMI_FIELD,DIABETES_FIELD,CHOLESTEROL_FIELD]}"
   ]
  },
  {
   "cell_type": "code",
   "execution_count": null,
   "metadata": {},
   "outputs": [],
   "source": [
    "n_events = all_ICD10_events.code.value_counts()\n",
    "large_events = n_events.loc[n_events >= min_n_cases].index.tolist()\n",
    "cond = all_ICD10_events.code.isin(large_events)"
   ]
  },
  {
   "cell_type": "code",
   "execution_count": null,
   "metadata": {},
   "outputs": [],
   "source": [
    "p = Pool(32)\n",
    "\n",
    "codes_ = []\n",
    "descs_ = []\n",
    "n_cases_ = []\n",
    "P_ = []\n",
    "HR_ = []\n",
    "phenos_ = []\n",
    "covs_ = []\n",
    "\n",
    "do_linear_test_pheno = partial(do_linear_test,phenos=pheno_cols)\n",
    "for _ in tqdm(p.imap_unordered(do_linear_test_pheno, all_ICD10_events.loc[cond].groupby(\"code\")),\n",
    "              total=all_ICD10_events.loc[cond].code.nunique()):\n",
    "    if _ is None: continue\n",
    "    code, p_vals, n_cases, desc, HRs, covs, phenos = _\n",
    "    for i in range(len(p_vals)):\n",
    "        HR_.append(HRs[i])\n",
    "        P_.append(p_vals[i])\n",
    "        covs_.append(covs[i])\n",
    "        codes_.append(code)\n",
    "        descs_.append(desc)\n",
    "        n_cases_.append(n_cases)\n",
    "        phenos_.append(phenos[i])\n",
    "p.close()\n",
    "p.join()"
   ]
  },
  {
   "cell_type": "code",
   "execution_count": null,
   "metadata": {},
   "outputs": [],
   "source": []
  }
 ],
 "metadata": {
  "kernelspec": {
   "display_name": "Python 3",
   "language": "python",
   "name": "python3"
  },
  "language_info": {
   "codemirror_mode": {
    "name": "ipython",
    "version": 3
   },
   "file_extension": ".py",
   "mimetype": "text/x-python",
   "name": "python",
   "nbconvert_exporter": "python",
   "pygments_lexer": "ipython3",
   "version": "3.7.3"
  },
  "toc": {
   "base_numbering": 1,
   "nav_menu": {},
   "number_sections": true,
   "sideBar": true,
   "skip_h1_title": false,
   "title_cell": "Table of Contents",
   "title_sidebar": "Contents",
   "toc_cell": false,
   "toc_position": {
    "height": "calc(100% - 180px)",
    "left": "10px",
    "top": "150px",
    "width": "214px"
   },
   "toc_section_display": true,
   "toc_window_display": true
  }
 },
 "nbformat": 4,
 "nbformat_minor": 2
}
