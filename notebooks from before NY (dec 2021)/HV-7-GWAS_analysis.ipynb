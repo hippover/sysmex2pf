{
 "cells": [
  {
   "cell_type": "code",
   "execution_count": 4,
   "metadata": {},
   "outputs": [],
   "source": [
    "import pandas as pd\n",
    "%matplotlib inline\n",
    "import matplotlib.pyplot as plt\n",
    "import subprocess\n",
    "export_folder = \"/home/hv270/rds/rds-who1000-cbrc/user/wja24/shared/hippolyte_only/interval_processing\"\n",
    "from scipy.stats import ttest_ind\n",
    "import numpy as np\n",
    "from sklearn.cluster import AgglomerativeClustering\n",
    "from sklearn.linear_model import LinearRegression\n",
    "from lifelines.statistics import logrank_test\n",
    "from tqdm import tqdm\n",
    "from sklearn.cluster import AgglomerativeClustering\n",
    "from glob import glob\n",
    "from scipy import stats\n",
    "from scipy.stats import pearsonr, levene\n",
    "import os"
   ]
  },
  {
   "cell_type": "code",
   "execution_count": 5,
   "metadata": {},
   "outputs": [],
   "source": [
    "pheno_cols = [\"CCA\"]\n",
    "EUR_path_interval = \"%s/genetic_score/EUR_interval\" % export_folder\n",
    "EUR_path = \"%s/genetic_score/EUR\" % export_folder\n",
    "tag = \"25_oct\""
   ]
  },
  {
   "cell_type": "markdown",
   "metadata": {},
   "source": [
    "# Manhattan plot"
   ]
  },
  {
   "cell_type": "code",
   "execution_count": 6,
   "metadata": {},
   "outputs": [
    {
     "name": "stderr",
     "output_type": "stream",
     "text": [
      "100%|██████████| 1/1 [00:11<00:00, 11.26s/it]\n"
     ]
    }
   ],
   "source": [
    "gws = []\n",
    "#for c in tqdm(pheno_cols):\n",
    "for c in tqdm(pheno_cols):\n",
    "    gw = pd.read_csv(\"%s/%s/bolt_res_feb_%s\" % (export_folder,tag,c),sep=\"\\t\")\n",
    "    gw[\"pheno\"] = c\n",
    "    gw.P_BOLT_LMM = gw.P_BOLT_LMM.astype(float)\n",
    "    gws.append(gw)\n",
    "gw = pd.concat(gws,axis=0,copy=False)\n",
    "gw.rename(columns={\"P_BOLT_LMM\":\"P\"},inplace=True)"
   ]
  },
  {
   "cell_type": "code",
   "execution_count": 7,
   "metadata": {},
   "outputs": [],
   "source": [
    "gw[\"POS\"] = gw[\"BP\"]\n",
    "for ch in range(1,23):\n",
    "    gw.loc[gw.CHR > ch,\"POS\"] += gw.loc[gw.CHR == ch,\"BP\"].max()\n",
    "gw_ = gw.loc[gw.P < 1e-3]"
   ]
  },
  {
   "cell_type": "code",
   "execution_count": 8,
   "metadata": {},
   "outputs": [
    {
     "name": "stderr",
     "output_type": "stream",
     "text": [
      "100%|██████████| 22/22 [01:23<00:00,  3.80s/it]\n"
     ]
    },
    {
     "name": "stdout",
     "output_type": "stream",
     "text": [
      "93095623\n",
      "['rs367896724', 'rs540431307', 'rs201106462', 'rs548419688', 'rs568405545', 'rs534229142', 'rs537182016', 'rs572818783', 'rs538322974', '1:10616_CCGCCGTTGCAAAGGCGCGCCG_C']\n",
      "0.9246514910887594\n"
     ]
    },
    {
     "name": "stderr",
     "output_type": "stream",
     "text": [
      "/home/hv270/platelets/lib/python3.7/site-packages/ipykernel_launcher.py:9: SettingWithCopyWarning: \n",
      "A value is trying to be set on a copy of a slice from a DataFrame.\n",
      "Try using .loc[row_indexer,col_indexer] = value instead\n",
      "\n",
      "See the caveats in the documentation: https://pandas.pydata.org/pandas-docs/stable/user_guide/indexing.html#returning-a-view-versus-a-copy\n",
      "  if __name__ == '__main__':\n"
     ]
    }
   ],
   "source": [
    "UKBB_SNPS = []\n",
    "for chrom in tqdm(range(1,23)):\n",
    "    with open(\"%s/UKBB_SNPS_CHR%d.snplist\" % (export_folder, chrom)) as f:\n",
    "        UKBB_SNPS += [c[:-1] for c in f.readlines()]\n",
    "\n",
    "print(len(UKBB_SNPS))\n",
    "print(UKBB_SNPS[:10])\n",
    "\n",
    "gw_[\"IN_UKBB\"] = gw_.SNP.isin(UKBB_SNPS)\n",
    "print(gw_[\"IN_UKBB\"].mean())"
   ]
  },
  {
   "cell_type": "markdown",
   "metadata": {},
   "source": [
    "# Select significant SNPs"
   ]
  },
  {
   "cell_type": "markdown",
   "metadata": {},
   "source": [
    "## Prepare"
   ]
  },
  {
   "cell_type": "code",
   "execution_count": 9,
   "metadata": {},
   "outputs": [],
   "source": [
    "cov = pd.read_csv(\"%s/%s/covars.csv\" % (export_folder, tag), sep=\"\\t\")\n",
    "phenotypes = pd.read_csv(\"%s/%s/phenotypes.csv\" % (export_folder, tag), sep=\"\\t\")\n",
    "\n",
    "phenotypes[\"ID\"] = phenotypes[\"FID\"].astype(str) + \"_\" + phenotypes[\"IID\"].astype(str)\n",
    "phenotypes = phenotypes.set_index(\"ID\")[pheno_cols]\n",
    "\n",
    "cov[\"ID\"] = cov[\"FID\"].astype(str) + \"_\" + cov[\"IID\"].astype(str)\n",
    "covar_cols = [\"PC1\",\"PC2\",\"PC3\",\"PC4\",\"PC5\",\"PC6\",\"PC7\",\"PC8\",\"PC9\",\"PC10\",\"PLT\",\"MPV\",\"IPF\",\"PCT\",\"PDW\",\"SEX\",\"age_covar\",\"cohort_covar\"]\n",
    "cov = cov.set_index(\"ID\")[covar_cols]\n",
    "\n",
    "X = pd.merge(cov,phenotypes,left_index=True,right_index=True)"
   ]
  },
  {
   "cell_type": "markdown",
   "metadata": {},
   "source": [
    "## Utils"
   ]
  },
  {
   "cell_type": "code",
   "execution_count": 10,
   "metadata": {},
   "outputs": [],
   "source": [
    "def get_p_value(source,target):\n",
    "    lm = LinearRegression().fit(source,target)\n",
    "    return pearsonr(target,lm.predict(source))[1]"
   ]
  },
  {
   "cell_type": "code",
   "execution_count": 11,
   "metadata": {},
   "outputs": [],
   "source": [
    "def compare_p_values(X,model,augmented_model,Y):\n",
    "    lm1 = LinearRegression().fit(X[model],Y)\n",
    "    lm2 = LinearRegression().fit(X[augmented_model],Y)\n",
    "    \n",
    "    fit_1 = lm1.predict(X[model])\n",
    "    fit_2 = lm2.predict(X[augmented_model])\n",
    "    \n",
    "    #residuals_1 = Y-fit_1\n",
    "    #residuals_2 = Y-fit_2\n",
    "    \n",
    "    #p_val = levene(residuals_1,residuals_2,center=\"mean\")[1]\n",
    "    p_val = levene(fit_1,fit_2,center=\"mean\")[1]\n",
    "    \n",
    "    return p_val"
   ]
  },
  {
   "cell_type": "markdown",
   "metadata": {},
   "source": [
    "## Run"
   ]
  },
  {
   "cell_type": "code",
   "execution_count": 12,
   "metadata": {},
   "outputs": [
    {
     "name": "stdout",
     "output_type": "stream",
     "text": [
      "Starting causal SNPs extraction\n",
      "CCA\n",
      "Region 0\n",
      "Done exporting genotypes\n"
     ]
    },
    {
     "name": "stderr",
     "output_type": "stream",
     "text": [
      "/home/hv270/platelets/lib/python3.7/site-packages/ipykernel_launcher.py:54: SettingWithCopyWarning: \n",
      "A value is trying to be set on a copy of a slice from a DataFrame.\n",
      "Try using .loc[row_indexer,col_indexer] = value instead\n",
      "\n",
      "See the caveats in the documentation: https://pandas.pydata.org/pandas-docs/stable/user_guide/indexing.html#returning-a-view-versus-a-copy\n"
     ]
    },
    {
     "name": "stdout",
     "output_type": "stream",
     "text": [
      "Done causal variant extraction. Kept 1 out of 10\n",
      "Hit : \n",
      "         CHR         BP       SNP             P\n",
      "6692618   12  111973358  rs597808  3.100000e-12\n",
      "Region 1\n",
      "Done exporting genotypes\n"
     ]
    },
    {
     "name": "stderr",
     "output_type": "stream",
     "text": [
      "/home/hv270/platelets/lib/python3.7/site-packages/ipykernel_launcher.py:54: SettingWithCopyWarning: \n",
      "A value is trying to be set on a copy of a slice from a DataFrame.\n",
      "Try using .loc[row_indexer,col_indexer] = value instead\n",
      "\n",
      "See the caveats in the documentation: https://pandas.pydata.org/pandas-docs/stable/user_guide/indexing.html#returning-a-view-versus-a-copy\n"
     ]
    },
    {
     "name": "stdout",
     "output_type": "stream",
     "text": [
      "Done causal variant extraction. Kept 2 out of 14\n",
      "Hit : \n",
      "         CHR       BP         SNP             P\n",
      "5429659   10  3102379  rs11251684  3.900000e-09\n",
      "5429877   10  3138009   rs2388595  1.200000e-10\n",
      "Region 2\n",
      "Done exporting genotypes\n"
     ]
    },
    {
     "name": "stderr",
     "output_type": "stream",
     "text": [
      "/home/hv270/platelets/lib/python3.7/site-packages/ipykernel_launcher.py:54: SettingWithCopyWarning: \n",
      "A value is trying to be set on a copy of a slice from a DataFrame.\n",
      "Try using .loc[row_indexer,col_indexer] = value instead\n",
      "\n",
      "See the caveats in the documentation: https://pandas.pydata.org/pandas-docs/stable/user_guide/indexing.html#returning-a-view-versus-a-copy\n"
     ]
    },
    {
     "name": "stdout",
     "output_type": "stream",
     "text": [
      "Done causal variant extraction. Kept 1 out of 76\n",
      "Hit : \n",
      "         CHR         BP        SNP             P\n",
      "4897307    8  106581528  rs6993770  1.300000e-33\n",
      "Region 3\n",
      "Done exporting genotypes\n"
     ]
    },
    {
     "name": "stderr",
     "output_type": "stream",
     "text": [
      "/home/hv270/platelets/lib/python3.7/site-packages/ipykernel_launcher.py:54: SettingWithCopyWarning: \n",
      "A value is trying to be set on a copy of a slice from a DataFrame.\n",
      "Try using .loc[row_indexer,col_indexer] = value instead\n",
      "\n",
      "See the caveats in the documentation: https://pandas.pydata.org/pandas-docs/stable/user_guide/indexing.html#returning-a-view-versus-a-copy\n"
     ]
    },
    {
     "name": "stdout",
     "output_type": "stream",
     "text": [
      "Done causal variant extraction. Kept 2 out of 611\n",
      "Hit : \n",
      "         CHR         BP        SNP             P\n",
      "3182100    5  122100398  rs6595407  6.400000e-40\n",
      "3182995    5  122326008   rs425573  4.400000e-37\n",
      "Region 4\n",
      "Done exporting genotypes\n"
     ]
    },
    {
     "name": "stderr",
     "output_type": "stream",
     "text": [
      "/home/hv270/platelets/lib/python3.7/site-packages/ipykernel_launcher.py:54: SettingWithCopyWarning: \n",
      "A value is trying to be set on a copy of a slice from a DataFrame.\n",
      "Try using .loc[row_indexer,col_indexer] = value instead\n",
      "\n",
      "See the caveats in the documentation: https://pandas.pydata.org/pandas-docs/stable/user_guide/indexing.html#returning-a-view-versus-a-copy\n"
     ]
    },
    {
     "name": "stdout",
     "output_type": "stream",
     "text": [
      "Done causal variant extraction. Kept 1 out of 24\n",
      "Hit : \n",
      "         CHR         BP         SNP             P\n",
      "1867766    3  124453114  rs11916134  1.300000e-09\n",
      "Region 5\n",
      "Done exporting genotypes\n"
     ]
    },
    {
     "name": "stderr",
     "output_type": "stream",
     "text": [
      "/home/hv270/platelets/lib/python3.7/site-packages/ipykernel_launcher.py:54: SettingWithCopyWarning: \n",
      "A value is trying to be set on a copy of a slice from a DataFrame.\n",
      "Try using .loc[row_indexer,col_indexer] = value instead\n",
      "\n",
      "See the caveats in the documentation: https://pandas.pydata.org/pandas-docs/stable/user_guide/indexing.html#returning-a-view-versus-a-copy\n"
     ]
    },
    {
     "name": "stdout",
     "output_type": "stream",
     "text": [
      "Done causal variant extraction. Kept 1 out of 27\n",
      "Hit : \n",
      "        CHR         BP         SNP             P\n",
      "556208    1  207288392  rs17020993  4.300000e-19\n",
      "Region 6\n",
      "Done exporting genotypes\n"
     ]
    },
    {
     "name": "stderr",
     "output_type": "stream",
     "text": [
      "/home/hv270/platelets/lib/python3.7/site-packages/ipykernel_launcher.py:54: SettingWithCopyWarning: \n",
      "A value is trying to be set on a copy of a slice from a DataFrame.\n",
      "Try using .loc[row_indexer,col_indexer] = value instead\n",
      "\n",
      "See the caveats in the documentation: https://pandas.pydata.org/pandas-docs/stable/user_guide/indexing.html#returning-a-view-versus-a-copy\n"
     ]
    },
    {
     "name": "stdout",
     "output_type": "stream",
     "text": [
      "Done causal variant extraction. Kept 2 out of 23\n",
      "Hit : \n",
      "         CHR         BP        SNP             P\n",
      "3785331    6  110700656  rs9372251  5.500000e-11\n",
      "3785373    6  110716722  rs2057150  2.300000e-09\n",
      "Region 7\n",
      "Done exporting genotypes\n"
     ]
    },
    {
     "name": "stderr",
     "output_type": "stream",
     "text": [
      "/home/hv270/platelets/lib/python3.7/site-packages/ipykernel_launcher.py:54: SettingWithCopyWarning: \n",
      "A value is trying to be set on a copy of a slice from a DataFrame.\n",
      "Try using .loc[row_indexer,col_indexer] = value instead\n",
      "\n",
      "See the caveats in the documentation: https://pandas.pydata.org/pandas-docs/stable/user_guide/indexing.html#returning-a-view-versus-a-copy\n"
     ]
    },
    {
     "name": "stdout",
     "output_type": "stream",
     "text": [
      "Done causal variant extraction. Kept 1 out of 3\n",
      "Hit : \n",
      "         CHR        BP       SNP             P\n",
      "8813355   20  57597971  rs415064  1.500000e-24\n",
      "Region 8\n",
      "Done exporting genotypes\n"
     ]
    },
    {
     "name": "stderr",
     "output_type": "stream",
     "text": [
      "/home/hv270/platelets/lib/python3.7/site-packages/ipykernel_launcher.py:54: SettingWithCopyWarning: \n",
      "A value is trying to be set on a copy of a slice from a DataFrame.\n",
      "Try using .loc[row_indexer,col_indexer] = value instead\n",
      "\n",
      "See the caveats in the documentation: https://pandas.pydata.org/pandas-docs/stable/user_guide/indexing.html#returning-a-view-versus-a-copy\n"
     ]
    },
    {
     "name": "stdout",
     "output_type": "stream",
     "text": [
      "Done causal variant extraction. Kept 1 out of 17\n",
      "Hit : \n",
      "         CHR         BP         SNP             P\n",
      "1384503    2  220087354  rs72955435  7.100000e-10\n",
      "Region 9\n",
      "Done exporting genotypes\n",
      "Done causal variant extraction. Kept 1 out of 1\n",
      "Hit : \n",
      "         CHR        BP        SNP             P\n",
      "1657453    3  56849749  rs1354034  6.300000e-10\n"
     ]
    },
    {
     "name": "stderr",
     "output_type": "stream",
     "text": [
      "/home/hv270/platelets/lib/python3.7/site-packages/ipykernel_launcher.py:54: SettingWithCopyWarning: \n",
      "A value is trying to be set on a copy of a slice from a DataFrame.\n",
      "Try using .loc[row_indexer,col_indexer] = value instead\n",
      "\n",
      "See the caveats in the documentation: https://pandas.pydata.org/pandas-docs/stable/user_guide/indexing.html#returning-a-view-versus-a-copy\n"
     ]
    }
   ],
   "source": [
    "max_distance = 5e6 # from Dragana's\n",
    "significant_SNPs = {}\n",
    "P_threshold = 1e-8\n",
    "genotypes = {}\n",
    "for c in pheno_cols:\n",
    "    print(\"Starting causal SNPs extraction\")\n",
    "    print(c)\n",
    "    significant_SNPs[c] = []\n",
    "    d = gw_.loc[gw_.pheno == c]\n",
    "    hits = d.loc[(d.P < P_threshold) & (d.IN_UKBB)].copy()\n",
    "    hits[\"region\"] = AgglomerativeClustering(n_clusters=None,distance_threshold=max_distance,linkage=\"single\")\\\n",
    "                        .fit(np.reshape(hits.POS.values,(-1,1)))\\\n",
    "                        .labels_\n",
    "    for region, h in hits.groupby(\"region\"):\n",
    "        print(\"Region %d\" % region)\n",
    "        #if h.shape[0] == 1:\n",
    "        #    significant_SNPs[c].append(h[\"SNP\"].iloc[0])\n",
    "        #    continue\n",
    "        \n",
    "        # Write the list of SNPS to a file\n",
    "        SNP_list_file = \"%s/conditional_analysis/significant_snps_%s_%s.txt\" % (export_folder,c, tag)\n",
    "        with open(SNP_list_file,\"w\") as file:\n",
    "            for s in h.SNP.tolist():\n",
    "                file.write(\"%s\\n\" % s)\n",
    "        \n",
    "        # Extract the table\n",
    "        ch = int(h.CHR.iloc[0])\n",
    "        gen_path = \"%s/conditional_analysis/genotypes_region_%d_%s_CHR_%d\" % (export_folder, region, c, ch)\n",
    "        command = \"/home/hv270/plink\"\n",
    "        command += \" --bfile /home/hv270/rds/rds-who1000-cbrc/user/wja24/shared/hv270/interval_genotypes/chr_%d\" % ch\n",
    "        command += \" --extract %s\" % SNP_list_file\n",
    "        command += \" --keep %s\" % EUR_path_interval\n",
    "        command += \" --recode A-transpose --out %s\" % gen_path\n",
    "        p = subprocess.Popen(command,shell=True)\n",
    "        p.wait()\n",
    "        print(\"Done exporting genotypes\")\n",
    "        df = pd.read_csv(\"%s.traw\" % (gen_path),sep=\"\\t\")\n",
    "        df = df.set_index(\"SNP\")\n",
    "        ID_cols = [c for c in df.columns if c not in [\"CHR\",\"(C)M\",\"POS\",\"COUNTED\",\"ALT\"]]\n",
    "        df = df[ID_cols].T\n",
    "        var_cols = df.columns\n",
    "        \n",
    "        for var in var_cols:\n",
    "            df.loc[df[var].isnull(),var] = df.loc[~df[var].isnull(),var].mean()\n",
    "        \n",
    "        G_X = pd.merge(df,X.copy(),left_index=True,right_index=True)\n",
    "        \n",
    "        G = G_X[var_cols]\n",
    "        C = G_X[covar_cols]\n",
    "        Y = G_X[[c]]\n",
    "        \n",
    "        # Adjust phenotype by covariates\n",
    "        lm_covars = LinearRegression().fit(C,Y)\n",
    "        Y[c] = Y[c] - lm_covars.predict(C)[:,0]\n",
    "        \n",
    "        univariable_p_values = [pearsonr(G[snp],Y[c])[1] for snp in G.columns]\n",
    "        G = G[[G.columns[i] for i in np.argsort(univariable_p_values)]]\n",
    "        \n",
    "        model = [G.columns[0]]\n",
    "        vars_not_in_model = lambda : [v for v in G.columns if v not in model]\n",
    "        \n",
    "        while True and (len(vars_not_in_model()) > 0):\n",
    "            # Augment the model\n",
    "            addition_p_values = pd.Series(index=vars_not_in_model(),dtype=float)\n",
    "            for s in addition_p_values.index:\n",
    "                #print(\"Trying to add %s\" % s)\n",
    "                LD = False\n",
    "                for m in model:\n",
    "                    R_2 = pearsonr(G[m],G[s])[0]**2\n",
    "                    if R_2 >= 0.9:\n",
    "                        addition_p_values.loc[s] = 1.\n",
    "                        LD = True\n",
    "                if LD: continue\n",
    "                augmented_model = model + [s]\n",
    "                addition_p_values.loc[s] = compare_p_values(G,model,augmented_model,Y[c])\n",
    "            if addition_p_values.min() >= P_threshold:\n",
    "                #print(\"Nothing to add, keep %s\" % (model))\n",
    "                break\n",
    "            else:\n",
    "                #print(\"Adding %s\" % s)\n",
    "                model.append(addition_p_values.sort_values().index[0])\n",
    "            \n",
    "            # Reduce the model\n",
    "            reduce = True\n",
    "            while reduce:\n",
    "                reduce = False\n",
    "                removal_p_values = pd.Series(index=model,dtype=float)\n",
    "                for s in removal_p_values.index:\n",
    "                    #print(\"Trying to remove %s\" % s)\n",
    "                    reduced_model = [m for m in model if m != s]\n",
    "                    removal_p_values.loc[s] = compare_p_values(G,model,reduced_model,Y[c])\n",
    "                if removal_p_values.min() <= P_threshold:\n",
    "                    pass\n",
    "                    # Go to augment\n",
    "                else:\n",
    "                    to_remove = removal_p_values.sort_values().index[-1]\n",
    "                    print(\"Removing %s\" % to_remove)\n",
    "                    model = [m for m in model if m != to_remove]\n",
    "                    reduce = True if len(model) >= 2 else False\n",
    "                    # Go to reduce\n",
    "        \n",
    "        significant_SNPs[c] += model\n",
    "        \n",
    "        print(\"Done causal variant extraction. Kept %d out of %d\" % (len(model),len(var_cols)))\n",
    "        print(\"Hit : \")\n",
    "        print(h.loc[h.SNP.isin(model),[\"CHR\",\"BP\",\"SNP\",\"P\"]])\n",
    "        \n",
    "        genotypes[(c, region)] = G[model]\n",
    "    "
   ]
  },
  {
   "cell_type": "code",
   "execution_count": 13,
   "metadata": {},
   "outputs": [],
   "source": [
    "all_significant_SNPs = []\n",
    "for c in significant_SNPs:\n",
    "    all_significant_SNPs += significant_SNPs[c]\n",
    "all_significant_SNPs = list(set(all_significant_SNPs))\n",
    "recap = pd.DataFrame(index=all_significant_SNPs)\n",
    "for c in pheno_cols:\n",
    "    recap[\"causal_%s\" % c] = recap.index.isin(significant_SNPs[c])\n"
   ]
  },
  {
   "cell_type": "code",
   "execution_count": 14,
   "metadata": {},
   "outputs": [],
   "source": [
    "for c in pheno_cols:\n",
    "    recap = pd.merge(recap,\n",
    "                     gw.loc[gw.pheno == c,[\"SNP\",\"BETA\",\"P\"]].set_index(\"SNP\").rename(columns={\"BETA\":\"BETA_%s\" % c,\n",
    "                                                                                               \"P\":\"P_%s\" % c}),\n",
    "                     left_index=True,right_index=True)\n",
    "recap = pd.merge(recap,gw.loc[gw.pheno == pheno_cols[0],[\"SNP\",\"A1FREQ\",\"CHR\",\"BP\"]].set_index(\"SNP\"),left_index=True,right_index=True)"
   ]
  },
  {
   "cell_type": "markdown",
   "metadata": {},
   "source": [
    "## Export"
   ]
  },
  {
   "cell_type": "code",
   "execution_count": 15,
   "metadata": {},
   "outputs": [],
   "source": [
    "for c in pheno_cols:\n",
    "    path = \"%s/conditional_analysis/causal_SNPs_%s_%s.txt\" % (export_folder,tag,c)\n",
    "    with open(path,\"w\") as f:\n",
    "        for snp in significant_SNPs[c]:\n",
    "            f.write(\"%s\\n\" % snp)"
   ]
  },
  {
   "cell_type": "code",
   "execution_count": 16,
   "metadata": {},
   "outputs": [],
   "source": [
    "path = \"%s/conditional_analysis/causal_SNPs_%s_all.txt\" % (export_folder,tag)\n",
    "with open(path,\"w\") as f:\n",
    "    for snp in all_significant_SNPs:\n",
    "        f.write(\"%s\\n\" % snp)"
   ]
  },
  {
   "cell_type": "code",
   "execution_count": 18,
   "metadata": {},
   "outputs": [
    {
     "data": {
      "text/html": [
       "<div>\n",
       "<style scoped>\n",
       "    .dataframe tbody tr th:only-of-type {\n",
       "        vertical-align: middle;\n",
       "    }\n",
       "\n",
       "    .dataframe tbody tr th {\n",
       "        vertical-align: top;\n",
       "    }\n",
       "\n",
       "    .dataframe thead th {\n",
       "        text-align: right;\n",
       "    }\n",
       "</style>\n",
       "<table border=\"1\" class=\"dataframe\">\n",
       "  <thead>\n",
       "    <tr style=\"text-align: right;\">\n",
       "      <th></th>\n",
       "      <th>causal_CCA</th>\n",
       "      <th>BETA_CCA</th>\n",
       "      <th>P_CCA</th>\n",
       "      <th>A1FREQ</th>\n",
       "      <th>CHR</th>\n",
       "      <th>BP</th>\n",
       "    </tr>\n",
       "  </thead>\n",
       "  <tbody>\n",
       "    <tr>\n",
       "      <th>rs6595407</th>\n",
       "      <td>True</td>\n",
       "      <td>-0.120646</td>\n",
       "      <td>6.400000e-40</td>\n",
       "      <td>0.443586</td>\n",
       "      <td>5</td>\n",
       "      <td>122100398</td>\n",
       "    </tr>\n",
       "    <tr>\n",
       "      <th>rs425573</th>\n",
       "      <td>True</td>\n",
       "      <td>0.123047</td>\n",
       "      <td>4.400000e-37</td>\n",
       "      <td>0.670216</td>\n",
       "      <td>5</td>\n",
       "      <td>122326008</td>\n",
       "    </tr>\n",
       "    <tr>\n",
       "      <th>rs6993770</th>\n",
       "      <td>True</td>\n",
       "      <td>0.120753</td>\n",
       "      <td>1.300000e-33</td>\n",
       "      <td>0.713156</td>\n",
       "      <td>8</td>\n",
       "      <td>106581528</td>\n",
       "    </tr>\n",
       "    <tr>\n",
       "      <th>rs415064</th>\n",
       "      <td>True</td>\n",
       "      <td>0.224716</td>\n",
       "      <td>1.500000e-24</td>\n",
       "      <td>0.954646</td>\n",
       "      <td>20</td>\n",
       "      <td>57597971</td>\n",
       "    </tr>\n",
       "    <tr>\n",
       "      <th>rs17020993</th>\n",
       "      <td>True</td>\n",
       "      <td>0.125358</td>\n",
       "      <td>4.300000e-19</td>\n",
       "      <td>0.879310</td>\n",
       "      <td>1</td>\n",
       "      <td>207288392</td>\n",
       "    </tr>\n",
       "    <tr>\n",
       "      <th>rs597808</th>\n",
       "      <td>True</td>\n",
       "      <td>-0.065076</td>\n",
       "      <td>3.100000e-12</td>\n",
       "      <td>0.479086</td>\n",
       "      <td>12</td>\n",
       "      <td>111973358</td>\n",
       "    </tr>\n",
       "    <tr>\n",
       "      <th>rs9372251</th>\n",
       "      <td>True</td>\n",
       "      <td>-0.061588</td>\n",
       "      <td>5.500000e-11</td>\n",
       "      <td>0.561868</td>\n",
       "      <td>6</td>\n",
       "      <td>110700656</td>\n",
       "    </tr>\n",
       "    <tr>\n",
       "      <th>rs2388595</th>\n",
       "      <td>True</td>\n",
       "      <td>-0.059391</td>\n",
       "      <td>1.200000e-10</td>\n",
       "      <td>0.611246</td>\n",
       "      <td>10</td>\n",
       "      <td>3138009</td>\n",
       "    </tr>\n",
       "    <tr>\n",
       "      <th>rs1354034</th>\n",
       "      <td>True</td>\n",
       "      <td>-0.058354</td>\n",
       "      <td>6.300000e-10</td>\n",
       "      <td>0.404338</td>\n",
       "      <td>3</td>\n",
       "      <td>56849749</td>\n",
       "    </tr>\n",
       "    <tr>\n",
       "      <th>rs72955435</th>\n",
       "      <td>True</td>\n",
       "      <td>0.098276</td>\n",
       "      <td>7.100000e-10</td>\n",
       "      <td>0.911575</td>\n",
       "      <td>2</td>\n",
       "      <td>220087354</td>\n",
       "    </tr>\n",
       "    <tr>\n",
       "      <th>rs11916134</th>\n",
       "      <td>True</td>\n",
       "      <td>0.062459</td>\n",
       "      <td>1.300000e-09</td>\n",
       "      <td>0.730533</td>\n",
       "      <td>3</td>\n",
       "      <td>124453114</td>\n",
       "    </tr>\n",
       "    <tr>\n",
       "      <th>rs2057150</th>\n",
       "      <td>True</td>\n",
       "      <td>-0.066250</td>\n",
       "      <td>2.300000e-09</td>\n",
       "      <td>0.732599</td>\n",
       "      <td>6</td>\n",
       "      <td>110716722</td>\n",
       "    </tr>\n",
       "    <tr>\n",
       "      <th>rs11251684</th>\n",
       "      <td>True</td>\n",
       "      <td>-0.070441</td>\n",
       "      <td>3.900000e-09</td>\n",
       "      <td>0.176845</td>\n",
       "      <td>10</td>\n",
       "      <td>3102379</td>\n",
       "    </tr>\n",
       "  </tbody>\n",
       "</table>\n",
       "</div>"
      ],
      "text/plain": [
       "            causal_CCA  BETA_CCA         P_CCA    A1FREQ  CHR         BP\n",
       "rs6595407         True -0.120646  6.400000e-40  0.443586    5  122100398\n",
       "rs425573          True  0.123047  4.400000e-37  0.670216    5  122326008\n",
       "rs6993770         True  0.120753  1.300000e-33  0.713156    8  106581528\n",
       "rs415064          True  0.224716  1.500000e-24  0.954646   20   57597971\n",
       "rs17020993        True  0.125358  4.300000e-19  0.879310    1  207288392\n",
       "rs597808          True -0.065076  3.100000e-12  0.479086   12  111973358\n",
       "rs9372251         True -0.061588  5.500000e-11  0.561868    6  110700656\n",
       "rs2388595         True -0.059391  1.200000e-10  0.611246   10    3138009\n",
       "rs1354034         True -0.058354  6.300000e-10  0.404338    3   56849749\n",
       "rs72955435        True  0.098276  7.100000e-10  0.911575    2  220087354\n",
       "rs11916134        True  0.062459  1.300000e-09  0.730533    3  124453114\n",
       "rs2057150         True -0.066250  2.300000e-09  0.732599    6  110716722\n",
       "rs11251684        True -0.070441  3.900000e-09  0.176845   10    3102379"
      ]
     },
     "execution_count": 18,
     "metadata": {},
     "output_type": "execute_result"
    }
   ],
   "source": [
    "recap.sort_values(\"P_CCA\")"
   ]
  },
  {
   "cell_type": "markdown",
   "metadata": {},
   "source": [
    "# Comparison w/ Dragana's GWAS"
   ]
  },
  {
   "cell_type": "code",
   "execution_count": 64,
   "metadata": {},
   "outputs": [
    {
     "name": "stderr",
     "output_type": "stream",
     "text": [
      "/home/hv270/platelets/lib/python3.7/site-packages/ipykernel_launcher.py:1: FutureWarning: Your version of xlrd is 1.2.0. In xlrd >= 2.0, only the xls format is supported. As a result, the openpyxl engine will be used if it is installed and the engine argument is not specified. Install openpyxl instead.\n",
      "  \"\"\"Entry point for launching an IPython kernel.\n"
     ]
    }
   ],
   "source": [
    "dgw = pd.read_excel(\"/home/hv270/sysmex2pf/dragana_GWAS.xlsx\")\n",
    "dgw = dgw.rename(columns={\"rsID (where available)\":\"SNP\",'Gene Symbol(s) for Most Serious Consequence':\"Gene\"})\n",
    "dgw = dgw.loc[dgw[\"Associated Blood Index\"].isin([\"PLT#\",\"PDW\",\"MPV\",\"PCT\"])]"
   ]
  },
  {
   "cell_type": "code",
   "execution_count": 65,
   "metadata": {},
   "outputs": [
    {
     "data": {
      "text/plain": [
       "(2825, 25)"
      ]
     },
     "execution_count": 65,
     "metadata": {},
     "output_type": "execute_result"
    }
   ],
   "source": [
    "dgw.shape"
   ]
  },
  {
   "cell_type": "code",
   "execution_count": 66,
   "metadata": {},
   "outputs": [
    {
     "name": "stdout",
     "output_type": "stream",
     "text": [
      "Done exporting genotypes of chrom 1\n",
      "Done exporting genotypes of chrom 2\n",
      "Done exporting genotypes of chrom 3\n",
      "Done exporting genotypes of chrom 4\n",
      "Done exporting genotypes of chrom 5\n",
      "Done exporting genotypes of chrom 6\n",
      "Done exporting genotypes of chrom 7\n",
      "Done exporting genotypes of chrom 8\n",
      "Done exporting genotypes of chrom 9\n",
      "Done exporting genotypes of chrom 10\n",
      "Done exporting genotypes of chrom 11\n",
      "Done exporting genotypes of chrom 12\n",
      "Done exporting genotypes of chrom 13\n",
      "Done exporting genotypes of chrom 14\n",
      "Done exporting genotypes of chrom 15\n",
      "Done exporting genotypes of chrom 16\n",
      "Done exporting genotypes of chrom 17\n",
      "Done exporting genotypes of chrom 18\n",
      "Done exporting genotypes of chrom 19\n",
      "Done exporting genotypes of chrom 20\n",
      "Done exporting genotypes of chrom 21\n",
      "Done exporting genotypes of chrom 22\n"
     ]
    }
   ],
   "source": [
    "for CH in range(1,23):\n",
    "    # Write the list of SNPS to a file\n",
    "    SNP_list_file = \"%s/conditional_analysis/dragana_snps_chr_%d.txt\" % (export_folder, CH)\n",
    "    SNP_list = dgw.loc[(dgw[\"Chr (GRCh37)\"] == CH) & dgw.SNP.str.contains(\"rs\")].SNP.unique().tolist()\n",
    "    SNP_list = [s for s in SNP_list if \"rs\" in s]\n",
    "    with open(SNP_list_file,\"w\") as file:\n",
    "        for s in SNP_list:\n",
    "            file.write(\"%s\\n\" % s)\n",
    "\n",
    "    # Extract the table\n",
    "    gen_path = \"%s/conditional_analysis/genotypes_dragana_CHR_%d\" % (export_folder, CH)\n",
    "    command = \"/home/hv270/plink\"\n",
    "    command += \" --bfile /home/hv270/rds/rds-who1000-cbrc/user/wja24/shared/hv270/interval_genotypes/chr_%d\" % CH\n",
    "    command += \" --extract %s\" % SNP_list_file\n",
    "    command += \" --keep %s\" % EUR_path_interval\n",
    "    command += \" --recode A-transpose --out %s\" % gen_path\n",
    "    p = subprocess.Popen(command,shell=True)\n",
    "    p.wait()\n",
    "    print(\"Done exporting genotypes of chrom %d\" % CH)"
   ]
  },
  {
   "cell_type": "code",
   "execution_count": 67,
   "metadata": {},
   "outputs": [],
   "source": [
    "gs = []\n",
    "for CH in range(1,23):\n",
    "    gen_path = \"%s/conditional_analysis/genotypes_dragana_CHR_%d\" % (export_folder, CH)\n",
    "    df = pd.read_csv(\"%s.traw\" % (gen_path),sep=\"\\t\")\n",
    "    df = df.set_index(\"SNP\")\n",
    "    ID_cols = [c for c in df.columns if c not in [\"CHR\",\"(C)M\",\"POS\",\"COUNTED\",\"ALT\"]]\n",
    "    df = df[ID_cols].T\n",
    "    gs.append(df)\n",
    "gen = pd.concat(gs,axis=1)\n",
    "gen = gen.loc[:,~gen.columns.duplicated(keep=\"first\")]"
   ]
  },
  {
   "cell_type": "code",
   "execution_count": 68,
   "metadata": {},
   "outputs": [],
   "source": [
    "gen = gen.loc[gen.index.isin(X.index.tolist())]"
   ]
  },
  {
   "cell_type": "code",
   "execution_count": 70,
   "metadata": {},
   "outputs": [
    {
     "data": {
      "text/plain": [
       "2298"
      ]
     },
     "execution_count": 70,
     "metadata": {},
     "output_type": "execute_result"
    }
   ],
   "source": [
    "for c in gen.columns:\n",
    "    cond = gen[c].isnull()\n",
    "    gen.loc[cond,c] = gen.loc[~cond,c].mean()\n",
    "    \n",
    "X_G = pd.merge(X, gen,left_index=True,right_index=True)\n",
    "G_H = pd.concat([genotypes[key] for key in genotypes],axis=1)\n",
    "G_H = G_H.loc[:,~G_H.columns.duplicated(keep=\"first\")]\n",
    "\n",
    "X_G_H = pd.merge(X_G,G_H[[s for s in G_H.columns if s not in X_G.columns]],left_index=True,right_index=True)\n",
    "\n",
    "dgw.loc[dgw[\"Associated Blood Index\"].isin([\"PLT#\",\"PDW\",\"MPV\",\"PCT\"])].SNP.nunique()"
   ]
  },
  {
   "cell_type": "code",
   "execution_count": 71,
   "metadata": {},
   "outputs": [
    {
     "name": "stdout",
     "output_type": "stream",
     "text": [
      "0.2269558049234696 0.05978162801586334 94\n",
      "CCA - rs597808 - 7.91e-01\n",
      "0.2269558049234696 0.05047170662674641 64\n",
      "CCA - rs11251684 - 6.84e-01\n",
      "0.2269558049234696 0.05047170662674641 64\n",
      "CCA - rs2388595 - 7.05e-01\n",
      "0.2269558049234696 0.060868087278596286 65\n",
      "CCA - rs6993770 - 1.00e+00\n",
      "0.2269558049234696 0.05232593540175795 93\n",
      "CCA - rs6595407 - 8.21e-01\n",
      "0.2269558049234696 0.05232593540175795 93\n",
      "CCA - rs425573 - 1.92e-02\n",
      "0.2269558049234696 0.0675987337611067 118\n",
      "CCA - rs11916134 - 1.00e+00\n",
      "0.2269558049234696 0.0814245677654351 119\n",
      "CCA - rs17020993 - 3.03e-01\n",
      "0.2269558049234696 0.047695282901491075 129\n",
      "CCA - rs9372251 - 7.28e-01\n",
      "0.2269558049234696 0.047695282901491075 129\n",
      "CCA - rs2057150 - 9.95e-01\n",
      "0.2269558049234696 0.08374202305544716 91\n",
      "CCA - rs415064 - 1.00e+00\n",
      "0.2269558049234696 0.051014836245411935 66\n",
      "CCA - rs72955435 - 3.77e-01\n",
      "0.2269558049234696 0.06115286201799449 93\n",
      "CCA - rs1354034 - 1.00e+00\n"
     ]
    }
   ],
   "source": [
    "new_hits = []\n",
    "\n",
    "all_d_hits = [s for s in dgw.SNP.unique().tolist() if s in gen.columns]\n",
    "\n",
    "for pheno in pheno_cols:\n",
    "    lm = LinearRegression().fit(X_G_H[cov.columns],X_G_H[pheno])\n",
    "    adj_cov = X_G_H[pheno] - lm.predict(X_G_H[cov.columns])\n",
    "    N_train = 20000\n",
    "    for snp in G_H.columns:\n",
    "        \n",
    "        candidate_SNPs = dgw.loc[(dgw[\"Chr (GRCh37)\"] == gw_.loc[gw_.SNP == snp,\"CHR\"].iloc[0])].SNP.unique().tolist()\n",
    "        candidate_SNPs = [s for s in candidate_SNPs if np.abs(dgw.loc[dgw.SNP == s,\"BP (GRCh37)\"].iloc[0] - gw_.loc[gw_.SNP == snp,\"BP\"].mean()) <= 1e8]\n",
    "        just_neighbors = [s for s in candidate_SNPs if s in gen.columns]\n",
    "        \n",
    "        lm1 = LinearRegression().fit(X_G_H[all_d_hits].iloc[:N_train],adj_cov.iloc[:N_train])\n",
    "        pred1 = lm1.predict(X_G_H[all_d_hits].iloc[N_train:])\n",
    "        r_1 = pearsonr(pred1,adj_cov.iloc[N_train:])[0]\n",
    "        \n",
    "        lm2 = LinearRegression().fit(X_G_H[just_neighbors].iloc[:N_train],adj_cov.iloc[:N_train])\n",
    "        pred2 = lm2.predict(X_G_H[just_neighbors].iloc[N_train:])\n",
    "        r_2 = pearsonr(pred2,adj_cov.iloc[N_train:])[0]\n",
    "        print(r_1,r_2, len(just_neighbors))\n",
    "        if r_1 < r_2:\n",
    "            print(\"Better to take only neighbors\")\n",
    "        snps_to_take = all_d_hits if np.abs(r_2) < np.abs(r_1) else just_neighbors\n",
    "        \n",
    "        lm = LinearRegression().fit(X_G_H[snps_to_take],adj_cov)\n",
    "        adj_D = adj_cov - lm.predict(X_G_H[snps_to_take])\n",
    "        p = pearsonr(adj_D,X_G_H[snp])[1]\n",
    "        print(\"%s - %s - %.2e\" % (pheno, snp, p))\n",
    "        if p < 1e-8 and p not in new_hits:\n",
    "            new_hits.append(snp)"
   ]
  },
  {
   "cell_type": "code",
   "execution_count": 72,
   "metadata": {},
   "outputs": [],
   "source": [
    "def get_lm_info(X,y,predictions,lm):\n",
    "\n",
    "    #newX = pd.DataFrame({\"Constant\":np.ones(len(X))}).join(pd.DataFrame(X))\n",
    "    #MSE = (sum((y-predictions)**2))/(len(newX)-len(newX.columns))\n",
    "    params = np.append(lm.intercept_,lm.coef_)\n",
    "    # Note if you don't want to use a DataFrame replace the two lines above with\n",
    "    newX = np.append(np.ones((len(X),1)), X, axis=1)\n",
    "    MSE = (sum((y-predictions)**2))/(len(newX)-len(newX[0]))\n",
    "\n",
    "    var_b = MSE*(np.linalg.inv(np.dot(newX.T,newX)).diagonal())\n",
    "    sd_b = np.sqrt(var_b)\n",
    "    ts_b = params/ sd_b\n",
    "\n",
    "    p_values =[2*(1-stats.t.cdf(np.abs(i),(len(newX)-len(newX[0])))) for i in ts_b]\n",
    "\n",
    "    sd_b = np.round(sd_b,3)\n",
    "    ts_b = np.round(ts_b,3)\n",
    "    #p_values = np.round(p_values,3)\n",
    "    params = np.round(params,4)\n",
    "\n",
    "    myDF3 = pd.DataFrame()\n",
    "    myDF3[\"Coefficients\"],myDF3[\"Standard Errors\"],myDF3[\"t values\"],myDF3[\"P\"] = [params,sd_b,ts_b,p_values]\n",
    "    myDF3[\"P\"] = np.clip(myDF3[\"P\"],a_min=1e-40,a_max=1)\n",
    "    return myDF3.iloc[1:] # Don't return offset"
   ]
  },
  {
   "cell_type": "code",
   "execution_count": 73,
   "metadata": {},
   "outputs": [],
   "source": [
    "def plot_correlations(X, cols):\n",
    "    S = X[cols].values\n",
    "    S = S - np.mean(S,axis=0)\n",
    "    corr = np.abs((S.T @ S) / (S.shape[0]**2))\n",
    "    np.fill_diagonal(corr, 0.)\n",
    "    \n",
    "    plt.figure()\n",
    "    plt.imshow(corr,vmin=0.,vmax=1e-6)"
   ]
  },
  {
   "cell_type": "code",
   "execution_count": 84,
   "metadata": {},
   "outputs": [
    {
     "data": {
      "image/png": "[encoded data removed]",
      "text/plain": [
       "<Figure size 432x288 with 1 Axes>"
      ]
     },
     "metadata": {
      "needs_background": "light"
     },
     "output_type": "display_data"
    },
    {
     "data": {
      "image/png": "[encoded data removed]",
      "text/plain": [
       "<Figure size 432x288 with 1 Axes>"
      ]
     },
     "metadata": {
      "needs_background": "light"
     },
     "output_type": "display_data"
    },
    {
     "data": {
      "image/png": "[encoded data removed]",
      "text/plain": [
       "<Figure size 432x288 with 1 Axes>"
      ]
     },
     "metadata": {
      "needs_background": "light"
     },
     "output_type": "display_data"
    }
   ],
   "source": [
    "all_d_hits = [s for s in dgw.SNP.unique().tolist() if s in gen.columns]\n",
    "\n",
    "for pheno in pheno_cols:\n",
    "    lm = LinearRegression().fit(X_G_H[cov.columns],X_G_H[pheno])\n",
    "    adj_cov = X_G_H[pheno] - lm.predict(X_G_H[cov.columns])\n",
    "    \n",
    "    plot_correlations(X_G_H,significant_SNPs[pheno])\n",
    "    \n",
    "    to_remove = []\n",
    "    \n",
    "    for i in range(len(significant_SNPs[pheno])):\n",
    "        for j in range(i+1,len(significant_SNPs[pheno])):\n",
    "            s1 = significant_SNPs[pheno][i]\n",
    "            s2 = significant_SNPs[pheno][j]\n",
    "            if s2 in to_remove: continue\n",
    "            if s1 in to_remove: continue\n",
    "            if pearsonr(X_G_H[s1],X_G_H[s2])[0]**2 > 1e-4:\n",
    "                to_remove.append(s2)\n",
    "    \n",
    "    uncorr_significant_snps = [s for s in significant_SNPs[pheno] if s not in to_remove]\n",
    "    \n",
    "    plot_correlations(X_G_H,uncorr_significant_snps)\n",
    "    \n",
    "    all_hits = list(set(all_d_hits + uncorr_significant_snps))\n",
    "    #all_hits = significant_SNPs[pheno]\n",
    "    lm = LinearRegression().fit(X_G_H[all_hits],adj_cov)\n",
    "    pred = lm.predict(X_G_H[all_hits])\n",
    "    \n",
    "    lm_info = get_lm_info(X_G_H[all_hits],adj_cov,pred,lm)\n",
    "    lm_info[\"P_alone\"] = [pearsonr(X_G_H[s],adj_cov)[1] for s in all_hits]\n",
    "    lm_info[\"SNP\"] = all_hits\n",
    "    lm_info.set_index(\"SNP\",inplace=True)\n",
    "    \n",
    "    plt.figure()\n",
    "    plt.hist(lm_info[\"P\"],density=True,bins=100,alpha=.5,label=\"D SNPs\")\n",
    "    plt.hist(lm_info.loc[uncorr_significant_snps,\"P\"],density=True,alpha=.5,label=\"HV SNPs\")\n",
    "    plt.xlabel(\"p-value in LM : phenotype ~ SNPs\")\n",
    "    plt.title(\"phenotype : predicted %s\" % pheno)\n",
    "    plt.legend()\n",
    "    plt.tight_layout()"
   ]
  },
  {
   "cell_type": "code",
   "execution_count": 85,
   "metadata": {},
   "outputs": [],
   "source": [
    "illustrate = pd.merge(gw.loc[gw.pheno == pheno],lm_info,left_on=\"SNP\",right_index=True,how=\"inner\")"
   ]
  },
  {
   "cell_type": "code",
   "execution_count": 86,
   "metadata": {},
   "outputs": [
    {
     "data": {
      "image/png": "[encoded data removed]",
      "text/plain": [
       "<Figure size 864x360 with 1 Axes>"
      ]
     },
     "metadata": {
      "needs_background": "light"
     },
     "output_type": "display_data"
    }
   ],
   "source": [
    "is_HV = illustrate.SNP.isin(significant_SNPs[pheno])\n",
    "is_D = illustrate.SNP.isin(all_d_hits)\n",
    "is_corr = illustrate.SNP.isin([significant_SNPs[pheno][i] for i in corr_snps])\n",
    "plt.figure(figsize=(12,5))\n",
    "plt.scatter(illustrate.loc[~is_HV,\"POS\"],-np.log10(illustrate.loc[~is_HV,\"P_y\"]),c=\"green\",alpha=.5,label=\"Dragana's hits\")\n",
    "plt.scatter(illustrate.loc[is_HV & is_D,\"POS\"],-np.log10(illustrate.loc[is_HV & is_D,\"P_y\"]),c=\"blue\",alpha=1,label=\"HV & Dragana's SNPs\")\n",
    "plt.scatter(illustrate.loc[is_HV & ~is_D,\"POS\"],-np.log10(illustrate.loc[is_HV & ~is_D,\"P_y\"]),c=\"red\",alpha=1,label=\"HV SNPs\")\n",
    "plt.scatter(illustrate.loc[is_HV & is_corr,\"POS\"],-np.log10(illustrate.loc[is_HV & is_corr,\"P_y\"]),c=\"purple\",marker=\"^\",alpha=1,label=\"Correlated\")\n",
    "plt.axhline(8,c=\"grey\")\n",
    "plt.title(\"p-value of association with covar-adjusted phenotype, after adjustment by all Dragana's SNPs\")\n",
    "plt.xticks([gw.loc[gw.CHR == i,\"POS\"].min() for i in range(1,23)],[str(i) for i in range(1,23)]);\n",
    "plt.legend();"
   ]
  },
  {
   "cell_type": "code",
   "execution_count": 32,
   "metadata": {},
   "outputs": [
    {
     "data": {
      "image/png": "[encoded data removed]",
      "text/plain": [
       "<Figure size 864x360 with 1 Axes>"
      ]
     },
     "metadata": {
      "needs_background": "light"
     },
     "output_type": "display_data"
    }
   ],
   "source": [
    "is_HV = illustrate.SNP.isin(significant_SNPs[pheno])\n",
    "is_D = illustrate.SNP.isin(all_d_hits)\n",
    "plt.figure(figsize=(12,5))\n",
    "plt.scatter(illustrate.loc[~is_HV,\"POS\"],       np.clip(-np.log10(illustrate.loc[~is_HV,\"P_alone\"]),0,30),c=\"green\",alpha=.5,label=\"Dragana's hits\")\n",
    "plt.scatter(illustrate.loc[is_HV & is_D,\"POS\"], np.clip(-np.log10(illustrate.loc[is_HV & is_D,\"P_alone\"]),0,30),c=\"blue\",alpha=1,label=\"HV & Dragana's SNPs\")\n",
    "plt.scatter(illustrate.loc[is_HV & ~is_D,\"POS\"],np.clip(-np.log10(illustrate.loc[is_HV & ~is_D,\"P_alone\"]),0,30),c=\"red\",alpha=1,label=\"HV SNPs\")\n",
    "\n",
    "plt.axhline(8,c=\"grey\")\n",
    "plt.title(\"p-value of association between SNP and covariates-adjusted phenotype\")\n",
    "for c in [gw.loc[gw.CHR == i,\"POS\"].min() for i in range(1,23)]:\n",
    "    plt.axvline(c,color=\"grey\",lw=1)\n",
    "plt.xticks([gw.loc[gw.CHR == i,\"POS\"].min() for i in range(1,23)],[str(i) for i in range(1,23)]);\n",
    "plt.legend();"
   ]
  },
  {
   "cell_type": "markdown",
   "metadata": {},
   "source": [
    "# Look in Dragana's GWAS"
   ]
  },
  {
   "cell_type": "code",
   "execution_count": 33,
   "metadata": {},
   "outputs": [
    {
     "name": "stderr",
     "output_type": "stream",
     "text": [
      "/home/hv270/platelets/lib/python3.7/site-packages/ipykernel_launcher.py:1: FutureWarning: Your version of xlrd is 1.2.0. In xlrd >= 2.0, only the xls format is supported. As a result, the openpyxl engine will be used if it is installed and the engine argument is not specified. Install openpyxl instead.\n",
      "  \"\"\"Entry point for launching an IPython kernel.\n"
     ]
    }
   ],
   "source": [
    "dgw = pd.read_excel(\"/home/hv270/sysmex2pf/dragana_GWAS.xlsx\")\n",
    "dgw = dgw.rename(columns={\"rsID (where available)\":\"SNP\",'Gene Symbol(s) for Most Serious Consequence':\"Gene\"})\n",
    "dgw = dgw.loc[dgw[\"SNP\"].isin(all_significant_SNPs)]"
   ]
  },
  {
   "cell_type": "code",
   "execution_count": 34,
   "metadata": {},
   "outputs": [],
   "source": [
    "sysmex_pheno = ~dgw.pivot_table(aggfunc=\"first\",index=\"SNP\",columns=\"Associated Blood Index\",values=[\"Gene\"])[\"Gene\"].isnull()"
   ]
  },
  {
   "cell_type": "code",
   "execution_count": 35,
   "metadata": {},
   "outputs": [
    {
     "data": {
      "text/html": [
       "<div>\n",
       "<style scoped>\n",
       "    .dataframe tbody tr th:only-of-type {\n",
       "        vertical-align: middle;\n",
       "    }\n",
       "\n",
       "    .dataframe tbody tr th {\n",
       "        vertical-align: top;\n",
       "    }\n",
       "\n",
       "    .dataframe thead th {\n",
       "        text-align: right;\n",
       "    }\n",
       "</style>\n",
       "<table border=\"1\" class=\"dataframe\">\n",
       "  <thead>\n",
       "    <tr style=\"text-align: right;\">\n",
       "      <th></th>\n",
       "      <th>Gene</th>\n",
       "    </tr>\n",
       "    <tr>\n",
       "      <th>SNP</th>\n",
       "      <th></th>\n",
       "    </tr>\n",
       "  </thead>\n",
       "  <tbody>\n",
       "    <tr>\n",
       "      <th>rs11916134</th>\n",
       "      <td>UMPS</td>\n",
       "    </tr>\n",
       "    <tr>\n",
       "      <th>rs1354034</th>\n",
       "      <td>ARHGEF3</td>\n",
       "    </tr>\n",
       "    <tr>\n",
       "      <th>rs415064</th>\n",
       "      <td>TUBB1</td>\n",
       "    </tr>\n",
       "    <tr>\n",
       "      <th>rs6993770</th>\n",
       "      <td>ZFPM2</td>\n",
       "    </tr>\n",
       "  </tbody>\n",
       "</table>\n",
       "</div>"
      ],
      "text/plain": [
       "               Gene\n",
       "SNP                \n",
       "rs11916134     UMPS\n",
       "rs1354034   ARHGEF3\n",
       "rs415064      TUBB1\n",
       "rs6993770     ZFPM2"
      ]
     },
     "execution_count": 35,
     "metadata": {},
     "output_type": "execute_result"
    }
   ],
   "source": [
    "genes = dgw.groupby(\"SNP\")[[\"Gene\"]].first()\n",
    "genes"
   ]
  },
  {
   "cell_type": "code",
   "execution_count": 36,
   "metadata": {},
   "outputs": [],
   "source": [
    "sysmex_pheno[\"Dragana GWAS traits\"] = \"\"\n",
    "for c in sysmex_pheno.columns:\n",
    "    if c == \"Dragana GWAS traits\": continue\n",
    "    sysmex_pheno.loc[sysmex_pheno[c],\"Dragana GWAS traits\"] += \"%s \" % c"
   ]
  },
  {
   "cell_type": "code",
   "execution_count": 37,
   "metadata": {},
   "outputs": [],
   "source": [
    "recap = pd.merge(recap,sysmex_pheno[[\"Dragana GWAS traits\"]],how=\"left\",left_index=True,right_index=True).fillna(\"\")"
   ]
  },
  {
   "cell_type": "code",
   "execution_count": 38,
   "metadata": {},
   "outputs": [
    {
     "name": "stdout",
     "output_type": "stream",
     "text": [
      "querying 1-13...done.\n",
      "Finished.\n",
      "7 input query terms found dup hits:\n",
      "\t[('rs2057150', 2), ('rs597808', 3), ('rs415064', 2), ('rs17020993', 2), ('rs9372251', 2), ('rs112516\n",
      "Pass \"returnall=True\" to return complete lists of duplicate or missing query terms.\n"
     ]
    }
   ],
   "source": [
    "import myvariant\n",
    "mv = myvariant.MyVariantInfo()\n",
    "\n",
    "gene_names = {}\n",
    "to_query = recap.index.tolist()\n",
    "a = mv.querymany(to_query,scopes='dbsnp.rsid', build=\"hg38\",fetchall=False)\n",
    "\n",
    "for i in range(len(a)):\n",
    "    q = a[i][\"query\"]\n",
    "    try:\n",
    "        gene = a[i][\"cadd\"][\"gene\"][\"genename\"]\n",
    "    except:\n",
    "        try:\n",
    "            gene = a[i][\"dbsnp\"][\"gene\"][\"symbol\"]\n",
    "        except:\n",
    "            try:\n",
    "                gene = a[i][\"wellderly\"][\"genename\"]\n",
    "            except:\n",
    "                try:\n",
    "                    gene = a[i][\"snpeff\"][\"ann\"][\"genename\"]\n",
    "                except:\n",
    "                    try:\n",
    "                        gene = a[i][\"snpeff\"][\"ann\"][0][\"genename\"]\n",
    "                    except:\n",
    "                        if q == \"rs111763415\":\n",
    "                            gene = \"SUFU\"\n",
    "                        else:\n",
    "                            gene = \"not found\"\n",
    "    if q in gene_names:\n",
    "        gene_names[q].append(gene)\n",
    "    else:\n",
    "        gene_names[q] = [gene]\n",
    "\n",
    "for q in gene_names:\n",
    "    recap.loc[q,\"genes\"] = \", \".join(list(set(gene_names[q])))"
   ]
  },
  {
   "cell_type": "code",
   "execution_count": 39,
   "metadata": {
    "scrolled": true
   },
   "outputs": [
    {
     "name": "stdout",
     "output_type": "stream",
     "text": [
      "ZFPM2\n",
      "ATG9A\n",
      "DDO\n",
      "ARHGEF3\n",
      "ATXN2\n",
      "LOC101927379\n",
      "SNX24\n",
      "TUBB1\n",
      "C4BPA\n",
      "METTL24\n",
      "LOC101927824\n",
      "UMPS\n",
      "PFKP\n"
     ]
    }
   ],
   "source": [
    "# for gene ontology\n",
    "for gene in recap.genes.unique().tolist():\n",
    "    print(gene.split(\"-\")[0])"
   ]
  },
  {
   "cell_type": "code",
   "execution_count": null,
   "metadata": {},
   "outputs": [],
   "source": []
  },
  {
   "cell_type": "code",
   "execution_count": 40,
   "metadata": {},
   "outputs": [
    {
     "data": {
      "text/html": [
       "<div>\n",
       "<style scoped>\n",
       "    .dataframe tbody tr th:only-of-type {\n",
       "        vertical-align: middle;\n",
       "    }\n",
       "\n",
       "    .dataframe tbody tr th {\n",
       "        vertical-align: top;\n",
       "    }\n",
       "\n",
       "    .dataframe thead th {\n",
       "        text-align: right;\n",
       "    }\n",
       "</style>\n",
       "<table border=\"1\" class=\"dataframe\">\n",
       "  <thead>\n",
       "    <tr style=\"text-align: right;\">\n",
       "      <th></th>\n",
       "      <th>causal_CCA</th>\n",
       "      <th>BETA_CCA</th>\n",
       "      <th>P_CCA</th>\n",
       "      <th>A1FREQ</th>\n",
       "      <th>CHR</th>\n",
       "      <th>BP</th>\n",
       "      <th>Dragana GWAS traits</th>\n",
       "      <th>genes</th>\n",
       "    </tr>\n",
       "  </thead>\n",
       "  <tbody>\n",
       "    <tr>\n",
       "      <th>rs17020993</th>\n",
       "      <td>True</td>\n",
       "      <td>0.125358</td>\n",
       "      <td>4.300000e-19</td>\n",
       "      <td>0.879310</td>\n",
       "      <td>1</td>\n",
       "      <td>207288392</td>\n",
       "      <td></td>\n",
       "      <td>C4BPA</td>\n",
       "    </tr>\n",
       "    <tr>\n",
       "      <th>rs72955435</th>\n",
       "      <td>True</td>\n",
       "      <td>0.098276</td>\n",
       "      <td>7.100000e-10</td>\n",
       "      <td>0.911575</td>\n",
       "      <td>2</td>\n",
       "      <td>220087354</td>\n",
       "      <td></td>\n",
       "      <td>ATG9A</td>\n",
       "    </tr>\n",
       "    <tr>\n",
       "      <th>rs1354034</th>\n",
       "      <td>True</td>\n",
       "      <td>-0.058354</td>\n",
       "      <td>6.300000e-10</td>\n",
       "      <td>0.404338</td>\n",
       "      <td>3</td>\n",
       "      <td>56849749</td>\n",
       "      <td>HLSR# HLSR% LYMPH# LYMPH% MPV PCT PLT# RET# RET%</td>\n",
       "      <td>ARHGEF3</td>\n",
       "    </tr>\n",
       "    <tr>\n",
       "      <th>rs11916134</th>\n",
       "      <td>True</td>\n",
       "      <td>0.062459</td>\n",
       "      <td>1.300000e-09</td>\n",
       "      <td>0.730533</td>\n",
       "      <td>3</td>\n",
       "      <td>124453114</td>\n",
       "      <td>PCT</td>\n",
       "      <td>UMPS</td>\n",
       "    </tr>\n",
       "    <tr>\n",
       "      <th>rs6595407</th>\n",
       "      <td>True</td>\n",
       "      <td>-0.120646</td>\n",
       "      <td>6.400000e-40</td>\n",
       "      <td>0.443586</td>\n",
       "      <td>5</td>\n",
       "      <td>122100398</td>\n",
       "      <td></td>\n",
       "      <td>LOC101927379-SNX2</td>\n",
       "    </tr>\n",
       "    <tr>\n",
       "      <th>rs425573</th>\n",
       "      <td>True</td>\n",
       "      <td>0.123047</td>\n",
       "      <td>4.400000e-37</td>\n",
       "      <td>0.670216</td>\n",
       "      <td>5</td>\n",
       "      <td>122326008</td>\n",
       "      <td></td>\n",
       "      <td>SNX24</td>\n",
       "    </tr>\n",
       "    <tr>\n",
       "      <th>rs9372251</th>\n",
       "      <td>True</td>\n",
       "      <td>-0.061588</td>\n",
       "      <td>5.500000e-11</td>\n",
       "      <td>0.561868</td>\n",
       "      <td>6</td>\n",
       "      <td>110700656</td>\n",
       "      <td></td>\n",
       "      <td>METTL24-DDO</td>\n",
       "    </tr>\n",
       "    <tr>\n",
       "      <th>rs2057150</th>\n",
       "      <td>True</td>\n",
       "      <td>-0.066250</td>\n",
       "      <td>2.300000e-09</td>\n",
       "      <td>0.732599</td>\n",
       "      <td>6</td>\n",
       "      <td>110716722</td>\n",
       "      <td></td>\n",
       "      <td>DDO</td>\n",
       "    </tr>\n",
       "    <tr>\n",
       "      <th>rs6993770</th>\n",
       "      <td>True</td>\n",
       "      <td>0.120753</td>\n",
       "      <td>1.300000e-33</td>\n",
       "      <td>0.713156</td>\n",
       "      <td>8</td>\n",
       "      <td>106581528</td>\n",
       "      <td>MPV PCT PDW PLT#</td>\n",
       "      <td>ZFPM2</td>\n",
       "    </tr>\n",
       "    <tr>\n",
       "      <th>rs11251684</th>\n",
       "      <td>True</td>\n",
       "      <td>-0.070441</td>\n",
       "      <td>3.900000e-09</td>\n",
       "      <td>0.176845</td>\n",
       "      <td>10</td>\n",
       "      <td>3102379</td>\n",
       "      <td></td>\n",
       "      <td>LOC101927824</td>\n",
       "    </tr>\n",
       "    <tr>\n",
       "      <th>rs2388595</th>\n",
       "      <td>True</td>\n",
       "      <td>-0.059391</td>\n",
       "      <td>1.200000e-10</td>\n",
       "      <td>0.611246</td>\n",
       "      <td>10</td>\n",
       "      <td>3138009</td>\n",
       "      <td></td>\n",
       "      <td>PFKP</td>\n",
       "    </tr>\n",
       "    <tr>\n",
       "      <th>rs597808</th>\n",
       "      <td>True</td>\n",
       "      <td>-0.065076</td>\n",
       "      <td>3.100000e-12</td>\n",
       "      <td>0.479086</td>\n",
       "      <td>12</td>\n",
       "      <td>111973358</td>\n",
       "      <td></td>\n",
       "      <td>ATXN2</td>\n",
       "    </tr>\n",
       "    <tr>\n",
       "      <th>rs415064</th>\n",
       "      <td>True</td>\n",
       "      <td>0.224716</td>\n",
       "      <td>1.500000e-24</td>\n",
       "      <td>0.954646</td>\n",
       "      <td>20</td>\n",
       "      <td>57597971</td>\n",
       "      <td>HLSR# HLSR% MPV PCT RBC# RET# RET%</td>\n",
       "      <td>TUBB1</td>\n",
       "    </tr>\n",
       "  </tbody>\n",
       "</table>\n",
       "</div>"
      ],
      "text/plain": [
       "            causal_CCA  BETA_CCA         P_CCA    A1FREQ  CHR         BP  \\\n",
       "rs17020993        True  0.125358  4.300000e-19  0.879310    1  207288392   \n",
       "rs72955435        True  0.098276  7.100000e-10  0.911575    2  220087354   \n",
       "rs1354034         True -0.058354  6.300000e-10  0.404338    3   56849749   \n",
       "rs11916134        True  0.062459  1.300000e-09  0.730533    3  124453114   \n",
       "rs6595407         True -0.120646  6.400000e-40  0.443586    5  122100398   \n",
       "rs425573          True  0.123047  4.400000e-37  0.670216    5  122326008   \n",
       "rs9372251         True -0.061588  5.500000e-11  0.561868    6  110700656   \n",
       "rs2057150         True -0.066250  2.300000e-09  0.732599    6  110716722   \n",
       "rs6993770         True  0.120753  1.300000e-33  0.713156    8  106581528   \n",
       "rs11251684        True -0.070441  3.900000e-09  0.176845   10    3102379   \n",
       "rs2388595         True -0.059391  1.200000e-10  0.611246   10    3138009   \n",
       "rs597808          True -0.065076  3.100000e-12  0.479086   12  111973358   \n",
       "rs415064          True  0.224716  1.500000e-24  0.954646   20   57597971   \n",
       "\n",
       "                                          Dragana GWAS traits  \\\n",
       "rs17020993                                                      \n",
       "rs72955435                                                      \n",
       "rs1354034   HLSR# HLSR% LYMPH# LYMPH% MPV PCT PLT# RET# RET%    \n",
       "rs11916134                                               PCT    \n",
       "rs6595407                                                       \n",
       "rs425573                                                        \n",
       "rs9372251                                                       \n",
       "rs2057150                                                       \n",
       "rs6993770                                   MPV PCT PDW PLT#    \n",
       "rs11251684                                                      \n",
       "rs2388595                                                       \n",
       "rs597808                                                        \n",
       "rs415064                  HLSR# HLSR% MPV PCT RBC# RET# RET%    \n",
       "\n",
       "                        genes  \n",
       "rs17020993              C4BPA  \n",
       "rs72955435              ATG9A  \n",
       "rs1354034             ARHGEF3  \n",
       "rs11916134               UMPS  \n",
       "rs6595407   LOC101927379-SNX2  \n",
       "rs425573                SNX24  \n",
       "rs9372251         METTL24-DDO  \n",
       "rs2057150                 DDO  \n",
       "rs6993770               ZFPM2  \n",
       "rs11251684       LOC101927824  \n",
       "rs2388595                PFKP  \n",
       "rs597808                ATXN2  \n",
       "rs415064                TUBB1  "
      ]
     },
     "execution_count": 40,
     "metadata": {},
     "output_type": "execute_result"
    }
   ],
   "source": [
    "recap.sort_values([\"CHR\",\"BP\"])"
   ]
  },
  {
   "cell_type": "code",
   "execution_count": 35,
   "metadata": {},
   "outputs": [],
   "source": [
    "recap.to_csv(\"/home/hv270/sysmex2pf/recap_%s.csv\" % tag)"
   ]
  },
  {
   "cell_type": "code",
   "execution_count": null,
   "metadata": {},
   "outputs": [],
   "source": []
  },
  {
   "cell_type": "markdown",
   "metadata": {},
   "source": [
    "# Manhattan plot"
   ]
  },
  {
   "cell_type": "code",
   "execution_count": 41,
   "metadata": {},
   "outputs": [
    {
     "data": {
      "image/png": "[encoded data removed]",
      "text/plain": [
       "<Figure size 1152x288 with 1 Axes>"
      ]
     },
     "metadata": {
      "needs_background": "light"
     },
     "output_type": "display_data"
    }
   ],
   "source": [
    "cmap = plt.get_cmap(\"Dark2\")\n",
    "for c in pheno_cols:\n",
    "    g = gw_.loc[gw_.pheno == c]\n",
    "    g.P = np.clip(g.P,a_min=1e-40,a_max=1)\n",
    "    plt.figure(figsize=(16,4))\n",
    "    plt.scatter(g.POS,-np.log10(g.P),c=cmap(g.CHR % 8),s=1 + 15*g.SNP.isin(significant_SNPs[c]))\n",
    "    plt.xticks([g.loc[g.CHR == ch,\"POS\"].min() for ch in range(1,23)],[str(ch) for ch in range(1,23)])\n",
    "    plt.axhline(8,c=\"red\",ls=\":\",lw=1)\n",
    "    written_genes = []\n",
    "    for i, snp in enumerate(recap.loc[recap[\"causal_%s\" % c]].index):\n",
    "        pos = g.loc[g.SNP == snp,\"POS\"] #+ (i % 2)*1e7 - 5e6\n",
    "        height = 1 - np.log10(g.loc[g.SNP == snp,\"P\"])\n",
    "        gene = recap.loc[snp,\"genes\"]\n",
    "        if gene not in written_genes:\n",
    "            plt.text(pos, height,gene,ha=\"right\" if i % 2 == 0 else \"left\")\n",
    "            written_genes.append(gene)\n",
    "    plt.axis(\"off\")\n",
    "    plt.xlim((g.POS.min()-1e7,g.POS.max() + 1e7))"
   ]
  },
  {
   "cell_type": "markdown",
   "metadata": {},
   "source": [
    "# Compute score"
   ]
  },
  {
   "cell_type": "code",
   "execution_count": 42,
   "metadata": {},
   "outputs": [
    {
     "ename": "TypeError",
     "evalue": "exceptions must derive from BaseException",
     "output_type": "error",
     "traceback": [
      "\u001b[0;31m---------------------------------------------------------------------------\u001b[0m",
      "\u001b[0;31mTypeError\u001b[0m                                 Traceback (most recent call last)",
      "\u001b[0;32m<ipython-input-42-e37ebca38100>\u001b[0m in \u001b[0;36m<module>\u001b[0;34m\u001b[0m\n\u001b[0;32m----> 1\u001b[0;31m \u001b[0;32mraise\u001b[0m \u001b[0;34m\"Error\"\u001b[0m\u001b[0;34m\u001b[0m\u001b[0;34m\u001b[0m\u001b[0m\n\u001b[0m",
      "\u001b[0;31mTypeError\u001b[0m: exceptions must derive from BaseException"
     ]
    }
   ],
   "source": [
    "raise \"Error\""
   ]
  },
  {
   "cell_type": "code",
   "execution_count": null,
   "metadata": {},
   "outputs": [],
   "source": []
  },
  {
   "cell_type": "code",
   "execution_count": 43,
   "metadata": {},
   "outputs": [],
   "source": [
    "causal_snps = {}\n",
    "for c in pheno_cols:\n",
    "    causal_path = \"%s/conditional_analysis/causal_SNPs_%s_%s.txt\" % (export_folder,tag,c)\n",
    "    causal_snps[c] = [c[:-1] for c in open(causal_path,\"r\").readlines()]"
   ]
  },
  {
   "cell_type": "code",
   "execution_count": 44,
   "metadata": {},
   "outputs": [],
   "source": [
    "good = {}\n",
    "for c in pheno_cols:\n",
    "    good[c] = gw.loc[(gw.pheno == c) & (gw.SNP.isin(causal_snps[c]))]"
   ]
  },
  {
   "cell_type": "code",
   "execution_count": 45,
   "metadata": {},
   "outputs": [
    {
     "data": {
      "text/plain": [
       "['CCA']"
      ]
     },
     "execution_count": 45,
     "metadata": {},
     "output_type": "execute_result"
    }
   ],
   "source": [
    "pheno_cols"
   ]
  },
  {
   "cell_type": "code",
   "execution_count": 46,
   "metadata": {},
   "outputs": [],
   "source": [
    "first_pheno = pheno_cols[0]\n",
    "betas = good[first_pheno][[\"SNP\",\"BETA\"]].rename(columns={\"BETA\":first_pheno})\n",
    "for c in pheno_cols[1:]:\n",
    "    betas = pd.merge(betas,good[c][[\"SNP\",\"BETA\"]].rename(columns={\"BETA\":c}),\n",
    "                     left_on=\"SNP\",right_on=\"SNP\",how=\"outer\")\n",
    "betas = pd.merge(betas,gw.loc[gw.pheno == first_pheno,[\"SNP\",\"ALLELE1\"]],left_on=\"SNP\",right_on=\"SNP\",how=\"left\")\n",
    "betas = betas[[\"SNP\",\"ALLELE1\"] + pheno_cols]\n",
    "betas.fillna(0,inplace=True)\n",
    "assert betas.shape[0] == betas.SNP.nunique()"
   ]
  },
  {
   "cell_type": "code",
   "execution_count": 44,
   "metadata": {},
   "outputs": [
    {
     "name": "stdout",
     "output_type": "stream",
     "text": [
      "[1, 2, 3, 4, 5, 9, 10, 11, 12, 13, 16, 17, 19, 20, 22]\n"
     ]
    }
   ],
   "source": [
    "good_chroms = []\n",
    "for c in good:\n",
    "    good_chroms += good[c].CHR.unique().tolist()\n",
    "good_chroms = list(set(good_chroms))\n",
    "print(good_chroms)"
   ]
  },
  {
   "cell_type": "code",
   "execution_count": 45,
   "metadata": {
    "scrolled": true
   },
   "outputs": [
    {
     "data": {
      "text/html": [
       "<div>\n",
       "<style scoped>\n",
       "    .dataframe tbody tr th:only-of-type {\n",
       "        vertical-align: middle;\n",
       "    }\n",
       "\n",
       "    .dataframe tbody tr th {\n",
       "        vertical-align: top;\n",
       "    }\n",
       "\n",
       "    .dataframe thead th {\n",
       "        text-align: right;\n",
       "    }\n",
       "</style>\n",
       "<table border=\"1\" class=\"dataframe\">\n",
       "  <thead>\n",
       "    <tr style=\"text-align: right;\">\n",
       "      <th></th>\n",
       "      <th>SNP</th>\n",
       "      <th>ALLELE1</th>\n",
       "      <th>CCA</th>\n",
       "    </tr>\n",
       "  </thead>\n",
       "  <tbody>\n",
       "    <tr>\n",
       "      <th>0</th>\n",
       "      <td>rs1764405</td>\n",
       "      <td>A</td>\n",
       "      <td>0.074991</td>\n",
       "    </tr>\n",
       "    <tr>\n",
       "      <th>1</th>\n",
       "      <td>rs12041331</td>\n",
       "      <td>G</td>\n",
       "      <td>-0.133169</td>\n",
       "    </tr>\n",
       "    <tr>\n",
       "      <th>2</th>\n",
       "      <td>rs2180747</td>\n",
       "      <td>G</td>\n",
       "      <td>0.071455</td>\n",
       "    </tr>\n",
       "    <tr>\n",
       "      <th>3</th>\n",
       "      <td>rs10914144</td>\n",
       "      <td>T</td>\n",
       "      <td>0.087074</td>\n",
       "    </tr>\n",
       "    <tr>\n",
       "      <th>4</th>\n",
       "      <td>rs1124025</td>\n",
       "      <td>C</td>\n",
       "      <td>-0.063734</td>\n",
       "    </tr>\n",
       "  </tbody>\n",
       "</table>\n",
       "</div>"
      ],
      "text/plain": [
       "          SNP ALLELE1       CCA\n",
       "0   rs1764405       A  0.074991\n",
       "1  rs12041331       G -0.133169\n",
       "2   rs2180747       G  0.071455\n",
       "3  rs10914144       T  0.087074\n",
       "4   rs1124025       C -0.063734"
      ]
     },
     "execution_count": 45,
     "metadata": {},
     "output_type": "execute_result"
    }
   ],
   "source": [
    "betas.head()"
   ]
  },
  {
   "cell_type": "code",
   "execution_count": 46,
   "metadata": {},
   "outputs": [],
   "source": [
    "if not os.path.exists(\"%s/Genetic_score_Sysmex_traits/%s\" % (export_folder,tag)):\n",
    "    os.mkdir(\"%s/Genetic_score_Sysmex_traits/%s\" % (export_folder,tag))"
   ]
  },
  {
   "cell_type": "code",
   "execution_count": 47,
   "metadata": {},
   "outputs": [
    {
     "name": "stdout",
     "output_type": "stream",
     "text": [
      "Submitting 1\n",
      "Submitting 2\n",
      "Submitting 3\n",
      "Submitting 4\n",
      "Submitting 5\n",
      "Submitting 9\n",
      "Submitting 10\n",
      "Submitting 11\n",
      "Submitting 12\n",
      "Submitting 13\n",
      "Submitting 16\n",
      "Submitting 17\n",
      "Submitting 19\n",
      "Submitting 20\n",
      "Submitting 22\n"
     ]
    }
   ],
   "source": [
    "betas_path = \"%s/Genetic_score_Sysmex_traits/betas.csv\" % (export_folder)\n",
    "betas.to_csv(betas_path,\n",
    "            sep=\"\\t\",index=False)\n",
    "\n",
    "n_splits = 16\n",
    "\n",
    "all_causal_path = \"%s/conditional_analysis/causal_SNPs_%s_all.txt\" % (export_folder,tag)\n",
    "\n",
    "for chrom in good_chroms:\n",
    "    command = \"/home/hv270/Plink2/plink2\"\n",
    "    command += \" --bgen /rds/project/wja24/rds-wja24-uk-biobank-gen/bgen/ukb_imp_chr%s_v3.bgen\" % chrom\n",
    "    command += \" --sample /rds/project/wja24/rds-wja24-uk-biobank-gen/13745_specific/sample/ukb13745_imp_chr%s_v3_s487378.sample\" % chrom\n",
    "    #command += \" --extract %s\" % causal_snps_path\n",
    "    command += \" --keep %s\" % EUR_path\n",
    "    command += \" --extract %s\" % all_causal_path\n",
    "    command += \" --score %s header-read\" % betas_path\n",
    "    if len(pheno_cols) > 1:\n",
    "        command += \" --score-col-nums 3-%d\" % (2 + len(pheno_cols))\n",
    "    else:\n",
    "        command += \" --score-col-nums 3\"\n",
    "    command += \" --out %s/Genetic_score_Sysmex_traits/%s/good_score_chr%s\" % (export_folder,tag,chrom)\n",
    "    command += \" --threads %d\" % n_splits\n",
    "\n",
    "    f_name = \"/home/hv270/interval_slurm_calls/call_gs_chr_%s_%s.sh\" % (chrom,tag)\n",
    "    f = open(f_name,\"w+\")\n",
    "    f.write(\"#!/bin/sh\\n\")\n",
    "\n",
    "    f.write(\"#SBATCH -J chr%s\\n\" % (chrom))\n",
    "    f.write(\"#SBATCH -A ASTLE-SL2-CPU\\n\")\n",
    "    f.write(\"#SBATCH -N 1\\n\")\n",
    "    f.write(\"#SBATCH -n %d\\n\" % n_splits)\n",
    "    f.write(\"#SBATCH --time=8:30:00\\n\")\n",
    "    f.write(\"#SBATCH -p skylake-himem\\n\")\n",
    "    f.write(\"#SBATCH --output=/home/hv270/slurm_log/%s_%s_%s.out\\n\" % (\"GS\",tag,chrom))\n",
    "    f.write(\"export OMP_NUM_THREADS=%d\\n\" % n_splits)\n",
    "\n",
    "    f.write(\". /etc/profile.d/modules.sh\\n\")\n",
    "    f.write(\"module purge\\n\")\n",
    "    f.write(\"module load rhel7/default-peta4\\n\")\n",
    "    f.write(command)\n",
    "    f.close()\n",
    "\n",
    "    print(\"Submitting %s\" % (chrom))\n",
    "    p = subprocess.Popen(\"sbatch %s\" % f_name,shell=True)\n",
    "    p.wait()"
   ]
  },
  {
   "cell_type": "markdown",
   "metadata": {},
   "source": [
    "# Read PLINK GWAS"
   ]
  },
  {
   "cell_type": "code",
   "execution_count": null,
   "metadata": {},
   "outputs": [],
   "source": []
  },
  {
   "cell_type": "code",
   "execution_count": null,
   "metadata": {},
   "outputs": [],
   "source": []
  }
 ],
 "metadata": {
  "kernelspec": {
   "display_name": "Python 3",
   "language": "python",
   "name": "python3"
  },
  "language_info": {
   "codemirror_mode": {
    "name": "ipython",
    "version": 3
   },
   "file_extension": ".py",
   "mimetype": "text/x-python",
   "name": "python",
   "nbconvert_exporter": "python",
   "pygments_lexer": "ipython3",
   "version": "3.7.3"
  },
  "toc": {
   "base_numbering": 1,
   "nav_menu": {},
   "number_sections": true,
   "sideBar": true,
   "skip_h1_title": false,
   "title_cell": "Table of Contents",
   "title_sidebar": "Contents",
   "toc_cell": false,
   "toc_position": {},
   "toc_section_display": true,
   "toc_window_display": true
  }
 },
 "nbformat": 4,
 "nbformat_minor": 2
}
